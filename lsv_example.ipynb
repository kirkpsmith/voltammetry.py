{
 "cells": [
  {
   "cell_type": "markdown",
   "metadata": {},
   "source": [
    "# Analysis and Parameter Estimation of LSV data"
   ]
  },
  {
   "cell_type": "code",
   "execution_count": 1,
   "metadata": {},
   "outputs": [],
   "source": [
    "import numpy as np\n",
    "import matplotlib.pyplot as plt\n",
    "from scipy.optimize import curve_fit\n",
    "from scipy.signal import savgol_filter, find_peaks, find_peaks_cwt\n",
    "import pandas as pd\n",
    "import math\n",
    "import glob\n",
    "\n",
    "from voltammetry import preprocessing, plotting, fitting"
   ]
  },
  {
   "cell_type": "code",
   "execution_count": null,
   "metadata": {},
   "outputs": [],
   "source": []
  },
  {
   "cell_type": "code",
   "execution_count": null,
   "metadata": {},
   "outputs": [],
   "source": []
  },
  {
   "cell_type": "code",
   "execution_count": null,
   "metadata": {},
   "outputs": [],
   "source": []
  },
  {
   "cell_type": "code",
   "execution_count": null,
   "metadata": {},
   "outputs": [],
   "source": []
  },
  {
   "cell_type": "code",
   "execution_count": 2,
   "metadata": {},
   "outputs": [],
   "source": [
    "##Import Experimental Reversible Data:\n",
    "    \n",
    "rev_exp_data = pd.read_csv(\"data/10mVs_Reversible.csv\")\n",
    "current_exp=rev_exp_data['current(A)'].values\n",
    "voltage_exp=rev_exp_data['voltage(mV)'].values\n",
    "time_exp=rev_exp_data['time(s)'].values\n",
    "\n",
    "\n",
    "## all appropriate packages and the singular experimental data file is imported now\n"
   ]
  },
  {
   "cell_type": "code",
   "execution_count": null,
   "metadata": {},
   "outputs": [],
   "source": []
  },
  {
   "cell_type": "code",
   "execution_count": 4,
   "metadata": {},
   "outputs": [
    {
     "name": "stdin",
     "output_type": "stream",
     "text": [
      "What is the Voltage sweep rate in mV/s?(10) 10\n",
      "What is the electrode surface area in cm^2?(.2) .2\n",
      "What is the initial concentration in mol/cm^3?(.00001) .00001\n",
      "What is the temperature in K?(298) 298\n",
      "What is the equilibrium potential in V?(.10) .1\n"
     ]
    },
    {
     "data": {
      "text/plain": [
       "[<matplotlib.lines.Line2D at 0x10c0b7898>]"
      ]
     },
     "execution_count": 4,
     "metadata": {},
     "output_type": "execute_result"
    },
    {
     "data": {
      "image/png": "[encoded data removed]",
      "text/plain": [
       "<Figure size 432x288 with 1 Axes>"
      ]
     },
     "metadata": {
      "needs_background": "light"
     },
     "output_type": "display_data"
    }
   ],
   "source": [
    "# Import the dimensionless voltammagram (V I) for reversible reactions\n",
    "\n",
    "rev_dim_values = pd.read_csv(\"data/dimensionless_values_rev.csv\")\n",
    "rev_dim_current=rev_dim_values['dimensionless_current'].values\n",
    "rev_dim_voltage=rev_dim_values['dimensionless_Voltage'].values\n",
    "\n",
    "##We will now prompt the user to submit known parameters (THESE CAN BE CHANGED OR MADE MORE CONVENIENT)\n",
    "sweep_rate= float(input(\"What is the Voltage sweep rate in mV/s?(10)\"))\n",
    "electrode_surface_area= float(input(\"What is the electrode surface area in cm^2?(.2)\"))\n",
    "concentration_initial= float(input(\"What is the initial concentration in mol/cm^3?(.00001)\"))\n",
    "Temp= float(input(\"What is the temperature in K?(298)\"))\n",
    "eq_pot= float(input(\"What is the equilibrium potential in V?(.10)\"))\n",
    "\n",
    "##we are inserting a diffusion coefficient to check math here, we will estimate this later:\n",
    "Diff_coeff=0.00001\n",
    "\n",
    "## Here we define constant variables, these can be made to user inputs if needed.\n",
    "n=1\n",
    "Faradays_const=96285\n",
    "R_const=8.314\n",
    "sigma=(n*Faradays_const*sweep_rate)/(R_const*Temp)\n",
    "Pre=electrode_surface_area*concentration_initial*n*Faradays_const*math.sqrt(Diff_coeff*sigma)\n",
    "\n",
    "\n",
    "\n",
    "output_voltage=(eq_pot+rev_dim_voltage/n)\n",
    "output_current=Pre*rev_dim_current\n",
    "\n",
    "plt.plot(output_voltage,output_current)\n"
   ]
  },
  {
   "cell_type": "code",
   "execution_count": 5,
   "metadata": {},
   "outputs": [
    {
     "name": "stdout",
     "output_type": "stream",
     "text": [
      "[1.00000115e-05]\n"
     ]
    }
   ],
   "source": [
    "# Fitting Diff_Coeff\n",
    "\n",
    "def test_func(rev_dim_current, D):\n",
    "    return electrode_surface_area*concentration_initial*n*Faradays_const*math.sqrt(D*sigma)*rev_dim_current\n",
    "\n",
    "params, params_covariance = curve_fit(test_func, rev_dim_current, output_current,p0=None,bounds = (0,[1]))\n",
    "\n",
    "print(params)"
   ]
  },
  {
   "cell_type": "code",
   "execution_count": 7,
   "metadata": {},
   "outputs": [
    {
     "name": "stdout",
     "output_type": "stream",
     "text": [
      "    time(s)  voltage(mV)  current(A)\n",
      "0     0.000   317.560897    0.000004\n",
      "1     4.000   277.560897    0.000011\n",
      "2     8.000   237.560897    0.000021\n",
      "3    10.000   217.560897    0.000032\n",
      "4    12.000   197.560897    0.000047\n",
      "5    14.000   177.560897    0.000067\n",
      "6    16.000   157.560897    0.000098\n",
      "7    18.000   137.560897    0.000140\n",
      "8    20.000   117.560897    0.000195\n",
      "9    22.000    97.560897    0.000267\n",
      "10   24.000    77.560897    0.000354\n",
      "11   25.000    67.560897    0.000403\n",
      "12   26.000    57.560897    0.000452\n",
      "13   27.000    47.560897    0.000499\n",
      "14   28.000    37.560897    0.000545\n",
      "15   29.000    27.560897    0.000587\n",
      "16   30.000    17.560897    0.000620\n",
      "17   31.000     7.560897    0.000644\n",
      "18   32.000    -2.439103    0.000660\n",
      "19   33.000   -12.439103    0.000666\n",
      "20   33.068   -13.119103    0.000665\n",
      "21   34.000   -22.439103    0.000662\n",
      "22   35.000   -32.439103    0.000651\n",
      "23   36.000   -42.439103    0.000634\n",
      "24   37.000   -52.439103    0.000613\n",
      "25   38.000   -62.439103    0.000592\n",
      "26   39.000   -72.439103    0.000568\n",
      "27   40.000   -82.439103    0.000545\n",
      "28   42.000  -102.439103    0.000502\n",
      "29   46.000  -142.439103    0.000434\n"
     ]
    }
   ],
   "source": [
    "##Import Experimental Irreversible Data:\n",
    "    \n",
    "irrev_exp_data = pd.read_csv(\"data/10mVs_Irreversible.csv\")\n",
    "current_exp=irrev_exp_data['current(A)'].values\n",
    "voltage_exp=irrev_exp_data['voltage(mV)'].values\n",
    "time_exp=irrev_exp_data['time(s)'].values\n",
    "\n",
    "print(irrev_exp_data)\n",
    "\n",
    "\n",
    "## all appropriate packages and the singular experimental data file is imported now"
   ]
  },
  {
   "cell_type": "code",
   "execution_count": 8,
   "metadata": {},
   "outputs": [
    {
     "name": "stdout",
     "output_type": "stream",
     "text": [
      "    dimensionless_current  dimensionless_Voltage\n",
      "0                  0.0030                 160.00\n",
      "1                  0.0080                 140.00\n",
      "2                  0.0160                 120.00\n",
      "3                  0.0240                 110.00\n",
      "4                  0.0350                 100.00\n",
      "5                  0.0500                  90.00\n",
      "6                  0.0730                  80.00\n",
      "7                  0.1040                  70.00\n",
      "8                  0.1450                  60.00\n",
      "9                  0.1990                  50.00\n",
      "10                 0.2640                  40.00\n",
      "11                 0.3000                  35.00\n",
      "12                 0.3370                  30.00\n",
      "13                 0.3720                  25.00\n",
      "14                 0.4060                  20.00\n",
      "15                 0.4370                  15.00\n",
      "16                 0.4620                  10.00\n",
      "17                 0.4800                   5.00\n",
      "18                 0.4920                   0.00\n",
      "19                 0.4960                  -5.00\n",
      "20                 0.4958                  -5.34\n",
      "21                 0.4930                 -10.00\n",
      "22                 0.4850                 -15.00\n",
      "23                 0.4720                 -20.00\n",
      "24                 0.4570                 -25.00\n",
      "25                 0.4410                 -30.00\n",
      "26                 0.4230                 -35.00\n",
      "27                 0.4060                 -40.00\n",
      "28                 0.3740                 -50.00\n",
      "29                 0.3230                 -70.00\n"
     ]
    }
   ],
   "source": [
    "# Import the dimensionless voltammagram (V I) for irreversible reactions\n",
    "\n",
    "irrev_dim_values = pd.read_csv(\"data/dimensionless_values_irrev.csv\")\n",
    "irrev_dim_current=irrev_dim_values['dimensionless_current'].values\n",
    "irrev_dim_voltage=irrev_dim_values['dimensionless_Voltage'].values\n",
    "\n",
    "print(irrev_dim_values)"
   ]
  },
  {
   "cell_type": "code",
   "execution_count": 9,
   "metadata": {},
   "outputs": [
    {
     "name": "stdin",
     "output_type": "stream",
     "text": [
      "What is the Voltage sweep rate in mV/s?(10) 10\n",
      "What is the electrode surface area in cm^2?(.2) .2\n",
      "What is the initial concentration in mol/cm^3?(.00001) .00001\n",
      "What is the temperature in K?(298) 298\n",
      "What is the equilibrium potential in mV?(100) 100\n"
     ]
    },
    {
     "name": "stdout",
     "output_type": "stream",
     "text": [
      "0.2331758673410904\n",
      "0.0014702813052563167\n",
      "0.0010385833722802097\n",
      "100.0\n",
      "0.000729259527407133\n",
      "-2.6784742517931477\n"
     ]
    },
    {
     "data": {
      "image/png": "[encoded data removed]",
      "text/plain": [
       "<Figure size 432x288 with 1 Axes>"
      ]
     },
     "metadata": {
      "needs_background": "light"
     },
     "output_type": "display_data"
    }
   ],
   "source": [
    "\n",
    "\n",
    "##We will now prompt the user to submit known parameters (THESE CAN BE CHANGED OR MADE MORE CONVENIENT)\n",
    "sweep_rate= float(input(\"What is the Voltage sweep rate in mV/s?(10)\"))\n",
    "electrode_surface_area= float(input(\"What is the electrode surface area in cm^2?(.2)\"))\n",
    "concentration_initial= float(input(\"What is the initial concentration in mol/cm^3?(.00001)\"))\n",
    "Temp= float(input(\"What is the temperature in K?(298)\"))\n",
    "eq_pot= float(input(\"What is the equilibrium potential in mV?(100)\"))\n",
    "\n",
    "##we are inserting a diffusion coefficient to check math here, we will estimate this later:\n",
    "Diff_coeff=0.00001\n",
    "\n",
    "## Here we define constant variables, these can be made to user inputs if needed.\n",
    "n=1\n",
    "Faradays_const=96285\n",
    "R_const=8.314\n",
    "exchange_current_density=0.0002\n",
    "kinetic_coefficient=exchange_current_density/n/Faradays_const/electrode_surface_area/concentration_initial\n",
    "transfer_coefficient=.6\n",
    "eV_const=59.1\n",
    "\n",
    "\n",
    "beta=transfer_coefficient*n*Faradays_const*sweep_rate/R_const/Temp/1000\n",
    "Pre=(concentration_initial*n*Faradays_const*\n",
    "    math.sqrt(Diff_coeff*sweep_rate*transfer_coefficient\n",
    "    *Faradays_const/(R_const*Temp*1000)))\n",
    "\n",
    "\n",
    "\n",
    "output_voltage=eq_pot+irrev_dim_voltage/transfer_coefficient-eV_const/transfer_coefficient*math.log(math.sqrt(math.pi*Diff_coeff*beta)/kinetic_coefficient)\n",
    "output_current=Pre*irrev_dim_current\n",
    "\n",
    "plt.plot(output_voltage,output_current)\n",
    "\n",
    "print(beta)\n",
    "print(Pre)\n",
    "print(kinetic_coefficient)\n",
    "print(eq_pot)\n",
    "\n",
    "print(output_current[19])\n",
    "print(output_voltage[19])"
   ]
  },
  {
   "cell_type": "code",
   "execution_count": 15,
   "metadata": {},
   "outputs": [
    {
     "name": "stdout",
     "output_type": "stream",
     "text": [
      "Exchange current density: 0.00018791268257011435\n"
     ]
    }
   ],
   "source": [
    "# Fitting Diff_Coeff\n",
    "from scipy import optimize\n",
    "\n",
    "\n",
    "def test_func(irrev_dim_voltage, exchange_current_density):\n",
    "    return eq_pot+irrev_dim_voltage/transfer_coefficient-eV_const/transfer_coefficient*math.log(math.sqrt(math.pi*Diff_coeff*beta)/(exchange_current_density/n/Faradays_const/electrode_surface_area/concentration_initial))\n",
    "\n",
    "params, params_covariance = optimize.curve_fit(test_func, rev_dim_current, output_current,p0=None,bounds = (0,[1]))\n",
    "\n",
    "print(\"Exchange current density: {}\".format(params[0]))"
   ]
  },
  {
   "cell_type": "code",
   "execution_count": null,
   "metadata": {},
   "outputs": [],
   "source": []
  }
 ],
 "metadata": {
  "kernelspec": {
   "display_name": "Python 3",
   "language": "python",
   "name": "python3"
  },
  "language_info": {
   "codemirror_mode": {
    "name": "ipython",
    "version": 3
   },
   "file_extension": ".py",
   "mimetype": "text/x-python",
   "name": "python",
   "nbconvert_exporter": "python",
   "pygments_lexer": "ipython3",
   "version": "3.7.3"
  }
 },
 "nbformat": 4,
 "nbformat_minor": 4
}
