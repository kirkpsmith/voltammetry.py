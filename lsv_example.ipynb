{
 "cells": [
  {
   "cell_type": "markdown",
   "metadata": {},
   "source": [
    "# LSV Data Analysis and Parameter Estimation  "
   ]
  },
  {
   "cell_type": "markdown",
   "metadata": {},
   "source": [
    "##### First, all relevent Python packages are imported"
   ]
  },
  {
   "cell_type": "code",
   "execution_count": 1,
   "metadata": {},
   "outputs": [],
   "source": [
    "import numpy as np\n",
    "import matplotlib.pyplot as plt\n",
    "from scipy.optimize import curve_fit\n",
    "from scipy.signal import savgol_filter, find_peaks, find_peaks_cwt\n",
    "import pandas as pd\n",
    "import math\n",
    "import glob\n",
    "import altair as alt\n",
    "import peakutils\n",
    "from voltammetry import preprocessing, plotting, fitting"
   ]
  },
  {
   "cell_type": "markdown",
   "metadata": {},
   "source": [
    "##### The user will be able to import experimental data for an LSV scan \n",
    "##### (Currently, we assume that the LSV sweep starts at equilibrium)"
   ]
  },
  {
   "cell_type": "code",
   "execution_count": 2,
   "metadata": {},
   "outputs": [],
   "source": [
    "##Import Experimental Reversible Data:\n",
    "    \n",
    "rev_exp_data = pd.read_csv(\"data/10mVs_Reversible.csv\")\n",
    "current_exp=rev_exp_data['current(A)'].values\n",
    "voltage_exp=rev_exp_data['voltage(mV)'].values\n",
    "time_exp=rev_exp_data['time(s)'].values\n",
    "\n",
    "\n",
    "## all appropriate packages and the singular experimental data file is imported now\n"
   ]
  },
  {
   "cell_type": "markdown",
   "metadata": {},
   "source": [
    "##### Next, the program will grab some simple quantitative information from the graph that may be hard to do by hand or over extensive datasets"
   ]
  },
  {
   "cell_type": "code",
   "execution_count": null,
   "metadata": {},
   "outputs": [],
   "source": []
  },
  {
   "cell_type": "code",
   "execution_count": null,
   "metadata": {},
   "outputs": [],
   "source": []
  },
  {
   "cell_type": "code",
   "execution_count": null,
   "metadata": {},
   "outputs": [],
   "source": []
  },
  {
   "cell_type": "code",
   "execution_count": null,
   "metadata": {},
   "outputs": [],
   "source": []
  },
  {
   "cell_type": "markdown",
   "metadata": {},
   "source": [
    "##### This program can also return relevant parameters using a physics-based model."
   ]
  },
  {
   "cell_type": "code",
   "execution_count": 4,
   "metadata": {},
   "outputs": [
    {
     "name": "stdin",
     "output_type": "stream",
     "text": [
      "What is the Voltage sweep rate in mV/s?(10) 10\n",
      "What is the electrode surface area in cm^2?(.2) .2\n",
      "What is the initial concentration in mol/cm^3?(.00001) .00001\n",
      "What is the temperature in K?(298) 298\n",
      "What is the equilibrium potential in V?(.10) .1\n"
     ]
    }
   ],
   "source": [
    "# Import the dimensionless voltammagram (V I) for reversible reactions\n",
    "\n",
    "rev_dim_values = pd.read_csv(\"data/dimensionless_values_rev.csv\")\n",
    "rev_dim_current=rev_dim_values['dimensionless_current'].values\n",
    "rev_dim_voltage=rev_dim_values['dimensionless_Voltage'].values\n",
    "\n",
    "##We will now prompt the user to submit known parameters (THESE CAN BE CHANGED OR MADE MORE CONVENIENT)\n",
    "sweep_rate= float(input(\"What is the Voltage sweep rate in mV/s?(10)\"))\n",
    "electrode_surface_area= float(input(\"What is the electrode surface area in cm^2?(.2)\"))\n",
    "concentration_initial= float(input(\"What is the initial concentration in mol/cm^3?(.00001)\"))\n",
    "Temp= float(input(\"What is the temperature in K?(298)\"))\n",
    "eq_pot= float(input(\"What is the equilibrium potential in V?(.10)\"))\n",
    "\n",
    "##we are inserting a diffusion coefficient to check math here, we will estimate this later:\n",
    "Diff_coeff=0.00001\n",
    "\n",
    "## Here we define constant variables, these can be made to user inputs if needed.\n",
    "n=1\n",
    "Faradays_const=96285\n",
    "R_const=8.314\n",
    "sigma=(n*Faradays_const*sweep_rate)/(R_const*Temp)\n",
    "Pre=electrode_surface_area*concentration_initial*n*Faradays_const*math.sqrt(Diff_coeff*sigma)\n",
    "\n",
    "\n",
    "\n",
    "output_voltage=(eq_pot+rev_dim_voltage/n)\n",
    "output_current=Pre*rev_dim_current\n",
    "\n",
    "\n"
   ]
  },
  {
   "cell_type": "markdown",
   "metadata": {},
   "source": [
    "##### Then, we can back out a relevant parameter from the data:"
   ]
  },
  {
   "cell_type": "code",
   "execution_count": 7,
   "metadata": {},
   "outputs": [
    {
     "name": "stdout",
     "output_type": "stream",
     "text": [
      "Diffusion Coefficient (cm^2/s): 1.0000011458318317e-05\n"
     ]
    }
   ],
   "source": [
    "# Fitting Diff_Coeff\n",
    "\n",
    "def test_func(rev_dim_current, D):\n",
    "    return electrode_surface_area*concentration_initial*n*Faradays_const*math.sqrt(D*sigma)*rev_dim_current\n",
    "\n",
    "params, params_covariance = curve_fit(test_func, rev_dim_current, output_current,p0=None,bounds = (0,[1]))\n",
    "\n",
    "print(\"Diffusion Coefficient (cm^2/s): {}\".format(params[0]))"
   ]
  },
  {
   "cell_type": "markdown",
   "metadata": {},
   "source": [
    "##### We can repeat this exercise on an LSV with an irreversible reaction to determine exchange current density."
   ]
  },
  {
   "cell_type": "code",
   "execution_count": 9,
   "metadata": {},
   "outputs": [],
   "source": [
    "##Import Experimental Irreversible Data:\n",
    "    \n",
    "irrev_exp_data = pd.read_csv(\"data/10mVs_Irreversible.csv\")\n",
    "current_exp=irrev_exp_data['current(A)'].values\n",
    "voltage_exp=irrev_exp_data['voltage(mV)'].values\n",
    "time_exp=irrev_exp_data['time(s)'].values\n",
    "\n",
    "## all appropriate packages and the singular experimental data file is imported now"
   ]
  },
  {
   "cell_type": "code",
   "execution_count": 10,
   "metadata": {},
   "outputs": [],
   "source": [
    "# Import the dimensionless voltammagram (V I) for irreversible reactions\n",
    "\n",
    "irrev_dim_values = pd.read_csv(\"data/dimensionless_values_irrev.csv\")\n",
    "irrev_dim_current=irrev_dim_values['dimensionless_current'].values\n",
    "irrev_dim_voltage=irrev_dim_values['dimensionless_Voltage'].values"
   ]
  },
  {
   "cell_type": "code",
   "execution_count": 12,
   "metadata": {},
   "outputs": [
    {
     "name": "stdin",
     "output_type": "stream",
     "text": [
      "What is the Voltage sweep rate in mV/s?(10) 10\n",
      "What is the electrode surface area in cm^2?(.2) .2\n",
      "What is the initial concentration in mol/cm^3?(.00001) .00001\n",
      "What is the temperature in K?(298) 298\n",
      "What is the equilibrium potential in mV?(100) 100\n"
     ]
    }
   ],
   "source": [
    "##We will now prompt the user to submit known parameters (THESE CAN BE CHANGED OR MADE MORE CONVENIENT)\n",
    "sweep_rate= float(input(\"What is the Voltage sweep rate in mV/s?(10)\"))\n",
    "electrode_surface_area= float(input(\"What is the electrode surface area in cm^2?(.2)\"))\n",
    "concentration_initial= float(input(\"What is the initial concentration in mol/cm^3?(.00001)\"))\n",
    "Temp= float(input(\"What is the temperature in K?(298)\"))\n",
    "eq_pot= float(input(\"What is the equilibrium potential in mV?(100)\"))\n",
    "\n",
    "##we are inserting a diffusion coefficient to check math here, we will estimate this later:\n",
    "Diff_coeff=0.00001\n",
    "\n",
    "## Here we define constant variables, these can be made to user inputs if needed.\n",
    "n=1\n",
    "Faradays_const=96285\n",
    "R_const=8.314\n",
    "exchange_current_density=0.0002\n",
    "kinetic_coefficient=exchange_current_density/n/Faradays_const/electrode_surface_area/concentration_initial\n",
    "transfer_coefficient=.6\n",
    "eV_const=59.1\n",
    "\n",
    "\n",
    "beta=transfer_coefficient*n*Faradays_const*sweep_rate/R_const/Temp/1000\n",
    "Pre=(concentration_initial*n*Faradays_const*\n",
    "    math.sqrt(Diff_coeff*sweep_rate*transfer_coefficient\n",
    "    *Faradays_const/(R_const*Temp*1000)))\n",
    "\n",
    "\n",
    "\n",
    "output_voltage=eq_pot+irrev_dim_voltage/transfer_coefficient-eV_const/transfer_coefficient*math.log(math.sqrt(math.pi*Diff_coeff*beta)/kinetic_coefficient)\n",
    "output_current=Pre*irrev_dim_current\n",
    "\n",
    "\n",
    "\n"
   ]
  },
  {
   "cell_type": "markdown",
   "metadata": {},
   "source": [
    "# THIS NEEDS TO BE CORRECTED!"
   ]
  },
  {
   "cell_type": "code",
   "execution_count": 15,
   "metadata": {},
   "outputs": [
    {
     "name": "stdout",
     "output_type": "stream",
     "text": [
      "Exchange current density (A/cm^2): 0.00018791268257011435\n"
     ]
    }
   ],
   "source": [
    "# Fitting Diff_Coeff\n",
    "from scipy import optimize\n",
    "\n",
    "\n",
    "def test_func(irrev_dim_voltage, exchange_current_density):\n",
    "    return eq_pot+irrev_dim_voltage/transfer_coefficient-eV_const/transfer_coefficient*math.log(math.sqrt(math.pi*Diff_coeff*beta)/(exchange_current_density/n/Faradays_const/electrode_surface_area/concentration_initial))\n",
    "\n",
    "params, params_covariance = optimize.curve_fit(test_func, rev_dim_current, output_current,p0=None,bounds = (0,[1]))\n",
    "\n",
    "print(\"Exchange current density (A/cm^2): {}\".format(params[0]))"
   ]
  },
  {
   "cell_type": "code",
   "execution_count": null,
   "metadata": {},
   "outputs": [],
   "source": []
  }
 ],
 "metadata": {
  "kernelspec": {
   "display_name": "Python 3",
   "language": "python",
   "name": "python3"
  },
  "language_info": {
   "codemirror_mode": {
    "name": "ipython",
    "version": 3
   },
   "file_extension": ".py",
   "mimetype": "text/x-python",
   "name": "python",
   "nbconvert_exporter": "python",
   "pygments_lexer": "ipython3",
   "version": "3.7.3"
  }
 },
 "nbformat": 4,
 "nbformat_minor": 4
}
