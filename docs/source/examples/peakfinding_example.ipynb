{
 "cells": [
  {
   "cell_type": "code",
   "execution_count": 12,
   "metadata": {},
   "outputs": [],
   "source": [
    "import numpy as np\n",
    "import matplotlib.pyplot as plt\n",
    "from matplotlib import rcParams\n",
    "import sys\n",
    "import os\n",
    "\n",
    "import peakutils\n",
    "import pandas as pd\n",
    "\n",
    "sys.path.insert(0, '../../..')\n",
    "\n",
    "from voltammetry import core\n",
    "\n",
    "\n",
    "\n"
   ]
  },
  {
   "cell_type": "code",
   "execution_count": 17,
   "metadata": {},
   "outputs": [
    {
     "name": "stdout",
     "output_type": "stream",
     "text": [
      "../../../data/20MM_2,7-AQDS_1M_H2SO4_50mVs_0.5step.DTA.txt Opened\n",
      "1\n",
      "2\n"
     ]
    },
    {
     "data": {
      "image/png": "[encoded data removed]",
      "text/plain": [
       "<Figure size 432x288 with 1 Axes>"
      ]
     },
     "metadata": {
      "needs_background": "light"
     },
     "output_type": "display_data"
    }
   ],
   "source": [
    "\n",
    "\n",
    "dict_1,n_cycle = core.read_file('../../../data/20MM_2,7-AQDS_1M_H2SO4_50mVs_0.5step.DTA.txt')\n",
    "for i in range(n_cycle):\n",
    "        print(i+1)\n",
    "        df = core.data_frame(dict_1, i+1)\n",
    "        plt.plot(df.Potential, df.Current, label = \"Cycle{}\".format(i+1))\n"
   ]
  },
  {
   "cell_type": "code",
   "execution_count": 18,
   "metadata": {},
   "outputs": [
    {
     "ename": "TypeError",
     "evalue": "slice indices must be integers or None or have an __index__ method",
     "output_type": "error",
     "traceback": [
      "\u001b[0;31m---------------------------------------------------------------------------\u001b[0m",
      "\u001b[0;31mTypeError\u001b[0m                                 Traceback (most recent call last)",
      "\u001b[0;32m<ipython-input-18-7a395e7ab4ee>\u001b[0m in \u001b[0;36m<module>\u001b[0;34m\u001b[0m\n\u001b[1;32m      8\u001b[0m     \u001b[0my\u001b[0m \u001b[0;34m=\u001b[0m \u001b[0mdf\u001b[0m\u001b[0;34m[\u001b[0m\u001b[0;34m'Current'\u001b[0m\u001b[0;34m]\u001b[0m\u001b[0;34m\u001b[0m\u001b[0;34m\u001b[0m\u001b[0m\n\u001b[1;32m      9\u001b[0m     \u001b[0;31m# Peaks are here [list]\u001b[0m\u001b[0;34m\u001b[0m\u001b[0;34m\u001b[0m\u001b[0;34m\u001b[0m\u001b[0m\n\u001b[0;32m---> 10\u001b[0;31m     \u001b[0mpeak_index\u001b[0m \u001b[0;34m=\u001b[0m \u001b[0mcore\u001b[0m\u001b[0;34m.\u001b[0m\u001b[0mpeak_detection_fxn\u001b[0m\u001b[0;34m(\u001b[0m\u001b[0my\u001b[0m\u001b[0;34m)\u001b[0m\u001b[0;34m\u001b[0m\u001b[0;34m\u001b[0m\u001b[0m\n\u001b[0m\u001b[1;32m     11\u001b[0m     \u001b[0;31m# Split x,y to get baselines\u001b[0m\u001b[0;34m\u001b[0m\u001b[0;34m\u001b[0m\u001b[0;34m\u001b[0m\u001b[0m\n\u001b[1;32m     12\u001b[0m     \u001b[0mx1\u001b[0m\u001b[0;34m,\u001b[0m\u001b[0mx2\u001b[0m \u001b[0;34m=\u001b[0m \u001b[0mcore\u001b[0m\u001b[0;34m.\u001b[0m\u001b[0msplit\u001b[0m\u001b[0;34m(\u001b[0m\u001b[0mx\u001b[0m\u001b[0;34m)\u001b[0m\u001b[0;34m\u001b[0m\u001b[0;34m\u001b[0m\u001b[0m\n",
      "\u001b[0;32m~/Nextcloud/Documents/Projects/PhD/code/voltammetry.py/voltammetry/core.py\u001b[0m in \u001b[0;36mpeak_detection_fxn\u001b[0;34m(data_y)\u001b[0m\n\u001b[1;32m    381\u001b[0m \u001b[0;34m\u001b[0m\u001b[0m\n\u001b[1;32m    382\u001b[0m     \u001b[0;31m# split data into above and below the baseline\u001b[0m\u001b[0;34m\u001b[0m\u001b[0;34m\u001b[0m\u001b[0;34m\u001b[0m\u001b[0m\n\u001b[0;32m--> 383\u001b[0;31m     \u001b[0mcol_y1\u001b[0m\u001b[0;34m,\u001b[0m \u001b[0mcol_y2\u001b[0m \u001b[0;34m=\u001b[0m \u001b[0msplit\u001b[0m\u001b[0;34m(\u001b[0m\u001b[0mdata_y\u001b[0m\u001b[0;34m)\u001b[0m  \u001b[0;31m# removed main. head.\u001b[0m\u001b[0;34m\u001b[0m\u001b[0;34m\u001b[0m\u001b[0m\n\u001b[0m\u001b[1;32m    384\u001b[0m \u001b[0;34m\u001b[0m\u001b[0m\n\u001b[1;32m    385\u001b[0m     \u001b[0;31m# detemine length of data and what 10% of the data is\u001b[0m\u001b[0;34m\u001b[0m\u001b[0;34m\u001b[0m\u001b[0;34m\u001b[0m\u001b[0m\n",
      "\u001b[0;32m~/Nextcloud/Documents/Projects/PhD/code/voltammetry.py/voltammetry/core.py\u001b[0m in \u001b[0;36msplit\u001b[0;34m(vector)\u001b[0m\n\u001b[1;32m    188\u001b[0m     \u001b[0msplit_top\u001b[0m \u001b[0;34m=\u001b[0m \u001b[0mint\u001b[0m\u001b[0;34m(\u001b[0m\u001b[0mlen\u001b[0m\u001b[0;34m(\u001b[0m\u001b[0mvector\u001b[0m\u001b[0;34m)\u001b[0m\u001b[0;34m/\u001b[0m\u001b[0;36m2\u001b[0m\u001b[0;34m)\u001b[0m\u001b[0;34m\u001b[0m\u001b[0;34m\u001b[0m\u001b[0m\n\u001b[1;32m    189\u001b[0m     \u001b[0mend\u001b[0m \u001b[0;34m=\u001b[0m \u001b[0mint\u001b[0m\u001b[0;34m(\u001b[0m\u001b[0mlen\u001b[0m\u001b[0;34m(\u001b[0m\u001b[0mvector\u001b[0m\u001b[0;34m)\u001b[0m\u001b[0;34m)\u001b[0m\u001b[0;34m\u001b[0m\u001b[0;34m\u001b[0m\u001b[0m\n\u001b[0;32m--> 190\u001b[0;31m     \u001b[0mvector1\u001b[0m \u001b[0;34m=\u001b[0m \u001b[0mnp\u001b[0m\u001b[0;34m.\u001b[0m\u001b[0marray\u001b[0m\u001b[0;34m(\u001b[0m\u001b[0mvector\u001b[0m\u001b[0;34m)\u001b[0m\u001b[0;34m[\u001b[0m\u001b[0;36m0\u001b[0m\u001b[0;34m:\u001b[0m\u001b[0msplit\u001b[0m\u001b[0;34m]\u001b[0m\u001b[0;34m\u001b[0m\u001b[0;34m\u001b[0m\u001b[0m\n\u001b[0m\u001b[1;32m    191\u001b[0m     \u001b[0mvector2\u001b[0m \u001b[0;34m=\u001b[0m \u001b[0mnp\u001b[0m\u001b[0;34m.\u001b[0m\u001b[0marray\u001b[0m\u001b[0;34m(\u001b[0m\u001b[0mvector\u001b[0m\u001b[0;34m)\u001b[0m\u001b[0;34m[\u001b[0m\u001b[0msplit_top\u001b[0m\u001b[0;34m:\u001b[0m\u001b[0mend\u001b[0m\u001b[0;34m]\u001b[0m\u001b[0;34m\u001b[0m\u001b[0;34m\u001b[0m\u001b[0m\n\u001b[1;32m    192\u001b[0m     \u001b[0;32mreturn\u001b[0m \u001b[0mvector1\u001b[0m\u001b[0;34m,\u001b[0m \u001b[0mvector2\u001b[0m\u001b[0;34m\u001b[0m\u001b[0;34m\u001b[0m\u001b[0m\n",
      "\u001b[0;31mTypeError\u001b[0m: slice indices must be integers or None or have an __index__ method"
     ]
    }
   ],
   "source": [
    "# Over all wrapping function.\n",
    "# This i is in range of number of cycles. \n",
    "\n",
    "for i in range(n_cycle-1):\n",
    "    i = i+1\n",
    "    df = core.data_frame(dict_1,i)\n",
    "    x = df['Potential']\n",
    "    y = df['Current']\n",
    "    # Peaks are here [list]\n",
    "    peak_index = core.peak_detection_fxn(y)\n",
    "    peak_top = peakutils.indexes(mod_col_y2, thres=0.99, min_dist=20)\n",
    "    peak_bottom = peakutils.indexes(abs(mod_col_y1), thres=0.99, min_dist=20)\n",
    "    # Split x,y to get baselines\n",
    "    x1,x2 = core.split(x)\n",
    "    y1,y2 = core.split(y)\n",
    "    y_base1 = core.linear_background(x1,y1)\n",
    "    y_base2 = core.linear_background(x2,y2)\n",
    "    # Calculations based on baseline and peak\n",
    "    values = core.peak_values(x,y)\n",
    "    Et = values[0]\n",
    "    Eb = values[2]\n",
    "    dE = core.del_potential(x,y)\n",
    "    half_E = min(Et,Eb) + core.half_wave_potential(x,y)\n",
    "    ia = core.peak_heights(x,y)[0]\n",
    "    ic = core.peak_heights(x,y)[1]\n",
    "    ratio_i = core.peak_ratio(x,y)\n",
    "plt.plot(x1,y1,color ='red')\n",
    "plt.plot(x2,y2,color = 'blue')\n",
    "plt.title('Cyclic Voltammetry')\n",
    "plt.xlabel('Potential (mV)')\n",
    "plt.ylabel('Current (A)')\n",
    "plt.plot(x1[peak_index[1]],y1[peak_index[1]],marker='o')\n",
    "plt.plot(x2[peak_index[0]],y2[peak_index[0]],marker='o',color = 'red')\n",
    "plt.plot(x1, y_base1, color = \"orangered\", linestyle=':',linewidth=2) \n",
    "plt.plot(x2, y_base2, color = \"orangered\", linestyle=':',linewidth=2) \n",
    "rcParams.update({'figure.autolayout': True})\n",
    "#plt.savefig('lala',dpi=1000)\n",
    "f'For this data set : Epc= {Eb} ,Epa = {Et},Ipc= {ic}, Ipa= {ia}, ∆E = {dE}, Ipc/Ipa = {ratio_i}'\n",
    "plt.show\n",
    "#print([dE, half_E , ia, ic, ratio_i ])\n"
   ]
  },
  {
   "cell_type": "code",
   "execution_count": 22,
   "metadata": {},
   "outputs": [],
   "source": [
    "peak_top = peakutils.indexes(y, thres=0.99, min_dist=20)\n",
    "peak_bottom = peakutils.indexes(abs(y), thres=0.99, min_dist=20)"
   ]
  },
  {
   "cell_type": "code",
   "execution_count": 24,
   "metadata": {},
   "outputs": [
    {
     "data": {
      "text/plain": [
       "0      -0.000100\n",
       "1      -0.000100\n",
       "2      -0.000100\n",
       "3      -0.000100\n",
       "4      -0.000099\n",
       "5      -0.000099\n",
       "6      -0.000099\n",
       "7      -0.000100\n",
       "8      -0.000099\n",
       "9      -0.000100\n",
       "10     -0.000099\n",
       "11     -0.000099\n",
       "12     -0.000099\n",
       "13     -0.000099\n",
       "14     -0.000099\n",
       "15     -0.000099\n",
       "16     -0.000099\n",
       "17     -0.000098\n",
       "18     -0.000099\n",
       "19     -0.000099\n",
       "20     -0.000098\n",
       "21     -0.000098\n",
       "22     -0.000098\n",
       "23     -0.000098\n",
       "24     -0.000098\n",
       "25     -0.000098\n",
       "26     -0.000098\n",
       "27     -0.000098\n",
       "28     -0.000098\n",
       "29     -0.000098\n",
       "          ...   \n",
       "3571   -0.000116\n",
       "3572   -0.000116\n",
       "3573   -0.000116\n",
       "3574   -0.000116\n",
       "3575   -0.000116\n",
       "3576   -0.000116\n",
       "3577   -0.000115\n",
       "3578   -0.000115\n",
       "3579   -0.000116\n",
       "3580   -0.000115\n",
       "3581   -0.000115\n",
       "3582   -0.000115\n",
       "3583   -0.000115\n",
       "3584   -0.000115\n",
       "3585   -0.000115\n",
       "3586   -0.000115\n",
       "3587   -0.000115\n",
       "3588   -0.000115\n",
       "3589   -0.000115\n",
       "3590   -0.000114\n",
       "3591   -0.000115\n",
       "3592   -0.000115\n",
       "3593   -0.000115\n",
       "3594   -0.000114\n",
       "3595   -0.000114\n",
       "3596   -0.000114\n",
       "3597   -0.000114\n",
       "3598   -0.000114\n",
       "3599   -0.000114\n",
       "3600   -0.000114\n",
       "Name: Current, Length: 3601, dtype: float64"
      ]
     },
     "execution_count": 24,
     "metadata": {},
     "output_type": "execute_result"
    }
   ],
   "source": [
    "y"
   ]
  },
  {
   "cell_type": "code",
   "execution_count": null,
   "metadata": {},
   "outputs": [],
   "source": []
  }
 ],
 "metadata": {
  "kernelspec": {
   "display_name": "Python 3",
   "language": "python",
   "name": "python3"
  },
  "language_info": {
   "codemirror_mode": {
    "name": "ipython",
    "version": 3
   },
   "file_extension": ".py",
   "mimetype": "text/x-python",
   "name": "python",
   "nbconvert_exporter": "python",
   "pygments_lexer": "ipython3",
   "version": "3.7.3"
  }
 },
 "nbformat": 4,
 "nbformat_minor": 4
}
