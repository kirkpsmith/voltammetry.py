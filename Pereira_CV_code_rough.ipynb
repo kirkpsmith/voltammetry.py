{
 "cells": [
  {
   "cell_type": "code",
   "execution_count": 1,
   "metadata": {},
   "outputs": [],
   "source": [
    "## import required packages for a parameter estimation technique\n",
    "\n",
    "import numpy as np\n",
    "import matplotlib.pyplot as plt\n",
    "from scipy.optimize import curve_fit\n",
    "import pandas as pd\n",
    "import math\n",
    "\n",
    "\n",
    "##Import Experimental Data:\n",
    "    \n",
    "rev_exp_data = pd.read_csv(\"data/10mVs_Reversible.csv\")\n",
    "current_exp=rev_exp_data['current(A)'].values\n",
    "voltage_exp=rev_exp_data['voltage(mV)'].values\n",
    "time_exp=rev_exp_data['time(s)'].values\n",
    "\n",
    "## all appropriate packages and the singular experimental data file is imported now\n",
    "\n"
   ]
  },
  {
   "cell_type": "code",
   "execution_count": 2,
   "metadata": {},
   "outputs": [
    {
     "name": "stdin",
     "output_type": "stream",
     "text": [
      "What is the Voltage sweep rate in mV/s?(10) 500\n",
      "What is the electrode surface area in cm^2?(.2) 1\n",
      "What is the initial concentration in mol/cm^3?(.00001) 1\n",
      "What is the temperature in K?(298) 298\n",
      "What is the equilibrium potential in V?(.10) .1\n"
     ]
    },
    {
     "data": {
      "text/plain": [
       "<matplotlib.collections.PathCollection at 0x10228b2860>"
      ]
     },
     "execution_count": 2,
     "metadata": {},
     "output_type": "execute_result"
    },
    {
     "data": {
      "image/png": "[encoded data removed]",
      "text/plain": [
       "<Figure size 432x288 with 1 Axes>"
      ]
     },
     "metadata": {
      "needs_background": "light"
     },
     "output_type": "display_data"
    }
   ],
   "source": [
    "# Import the dimensionless voltammagram (V I) for reversible reactions\n",
    "\n",
    "rev_dim_values = pd.read_csv(\"data/dimensionless_values_rev.csv\")\n",
    "rev_dim_current=rev_dim_values['dimensionless_current'].values\n",
    "rev_dim_voltage=rev_dim_values['dimensionless_Voltage'].values\n",
    "\n",
    "##We will now prompt the user to submit known parameters (THESE CAN BE CHANGED OR MADE MORE CONVENIENT)\n",
    "sweep_rate= float(input(\"What is the Voltage sweep rate in mV/s?(10)\"))\n",
    "electrode_surface_area= float(input(\"What is the electrode surface area in cm^2?(.2)\"))\n",
    "concentration_initial= float(input(\"What is the initial concentration in mol/cm^3?(.00001)\"))\n",
    "Temp= float(input(\"What is the temperature in K?(298)\"))\n",
    "eq_pot= float(input(\"What is the equilibrium potential in V?(.10)\"))\n",
    "\n",
    "##we are inserting a diffusion coefficient to check math here, we will estimate this later:\n",
    "Diff_coeff=0.00001\n",
    "\n",
    "## Here we define constant variables, these can be made to user inputs if needed.\n",
    "n=1\n",
    "Faradays_const=96285\n",
    "R_const=8.314\n",
    "sigma=(n*Faradays_const*sweep_rate)/(R_const*Temp)\n",
    "Pre=electrode_surface_area*concentration_initial*n*Faradays_const*math.sqrt(Diff_coeff*sigma)\n",
    "\n",
    "output_voltage=(eq_pot+rev_dim_voltage/n)\n",
    "output_current=Pre*rev_dim_current\n",
    "\n",
    "plt.scatter(output_voltage,output_current)\n"
   ]
  },
  {
   "cell_type": "code",
   "execution_count": 3,
   "metadata": {},
   "outputs": [
    {
     "name": "stdout",
     "output_type": "stream",
     "text": [
      "[  381.99028832   848.86730737  1782.62134549  3565.24269097\n",
      "  4965.87374814  5857.18442088  6790.93845899  7852.02259321\n",
      "  8955.5500928  10186.40768849 11417.26528418 12648.12287988\n",
      " 13921.42384094 14855.17787905 16128.47884011 16977.34614748\n",
      " 17741.32672412 18335.53383928 18717.5241276  18887.29758908\n",
      " 18942.47396406 18929.74095444 18759.96749297 18590.1940315\n",
      " 17868.65682023 16934.90278212 14982.50797515 13242.32999504\n",
      " 11884.14230324 10398.62451533]\n"
     ]
    }
   ],
   "source": [
    "print(output_current)"
   ]
  },
  {
   "cell_type": "code",
   "execution_count": 4,
   "metadata": {},
   "outputs": [
    {
     "name": "stdout",
     "output_type": "stream",
     "text": [
      "[0.009  0.02   0.042  0.084  0.117  0.138  0.16   0.185  0.211  0.24\n",
      " 0.269  0.298  0.328  0.35   0.38   0.4    0.418  0.432  0.441  0.445\n",
      " 0.4463 0.446  0.442  0.438  0.421  0.399  0.353  0.312  0.28   0.245 ]\n"
     ]
    }
   ],
   "source": [
    "print(rev_dim_current)"
   ]
  },
  {
   "cell_type": "code",
   "execution_count": 5,
   "metadata": {},
   "outputs": [
    {
     "name": "stdout",
     "output_type": "stream",
     "text": [
      "[1.e-05]\n"
     ]
    }
   ],
   "source": [
    "from scipy import optimize\n",
    "\n",
    "def test_func(rev_dim_current, D):\n",
    "    return electrode_surface_area*concentration_initial*n*Faradays_const*math.sqrt(D*sigma)*rev_dim_current\n",
    "\n",
    "params, params_covariance = optimize.curve_fit(test_func, rev_dim_current, output_current,p0=None,bounds = (0,[1]))\n",
    "\n",
    "print(params)"
   ]
  },
  {
   "cell_type": "code",
   "execution_count": null,
   "metadata": {},
   "outputs": [],
   "source": []
  }
 ],
 "metadata": {
  "kernelspec": {
   "display_name": "Python 3",
   "language": "python",
   "name": "python3"
  },
  "language_info": {
   "codemirror_mode": {
    "name": "ipython",
    "version": 3
   },
   "file_extension": ".py",
   "mimetype": "text/x-python",
   "name": "python",
   "nbconvert_exporter": "python",
   "pygments_lexer": "ipython3",
   "version": "3.7.3"
  }
 },
 "nbformat": 4,
 "nbformat_minor": 4
}
