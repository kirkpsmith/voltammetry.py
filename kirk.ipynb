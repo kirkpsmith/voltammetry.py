{
 "cells": [
  {
   "cell_type": "code",
   "execution_count": 118,
   "metadata": {},
   "outputs": [],
   "source": [
    "import glob\n",
    "from scipy.signal import savgol_filter, find_peaks\n",
    "import numpy as np\n",
    "\n",
    "from voltammetry import preprocessing, plotting, fitting"
   ]
  },
  {
   "cell_type": "code",
   "execution_count": 247,
   "metadata": {},
   "outputs": [
    {
     "data": {
      "application/vnd.vegalite.v3+json": {
       "$schema": "https://vega.github.io/schema/vega-lite/v3.2.1.json",
       "config": {
        "mark": {
         "tooltip": null
        },
        "view": {
         "height": 300,
         "width": 400
        }
       },
       "datasets": {
        "data-101c9206faf878af1ad5cf03ecfa9177": [
         {
          "i": 0.000289224,
          "t": 8.08,
          "v": 0.79994
         },
         {
          "i": 0.000279202,
          "t": 8.16,
          "v": 0.791982
         },
         {
          "i": 0.00027228,
          "t": 8.24,
          "v": 0.783987
         },
         {
          "i": 0.000265657,
          "t": 8.32,
          "v": 0.775991
         },
         {
          "i": 0.000260644,
          "t": 8.4,
          "v": 0.767965
         },
         {
          "i": 0.000254508,
          "t": 8.48,
          "v": 0.759995
         },
         {
          "i": 0.000250616,
          "t": 8.56,
          "v": 0.751976
         },
         {
          "i": 0.000246051,
          "t": 8.64,
          "v": 0.74399
         },
         {
          "i": 0.000242182,
          "t": 8.72,
          "v": 0.735999
         },
         {
          "i": 0.000238553,
          "t": 8.8,
          "v": 0.727987
         },
         {
          "i": 0.000234234,
          "t": 8.88,
          "v": 0.719991
         },
         {
          "i": 0.00023061,
          "t": 8.96,
          "v": 0.711993
         },
         {
          "i": 0.000226902,
          "t": 9.04,
          "v": 0.703973
         },
         {
          "i": 0.000223151,
          "t": 9.12,
          "v": 0.695989
         },
         {
          "i": 0.00021952,
          "t": 9.2,
          "v": 0.687979
         },
         {
          "i": 0.000216066,
          "t": 9.28,
          "v": 0.679981
         },
         {
          "i": 0.000212733,
          "t": 9.36,
          "v": 0.67199
         },
         {
          "i": 0.000209554,
          "t": 9.44,
          "v": 0.663969
         },
         {
          "i": 0.000205425,
          "t": 9.52,
          "v": 0.655961
         },
         {
          "i": 0.000200663,
          "t": 9.6,
          "v": 0.647973
         },
         {
          "i": 0.000196588,
          "t": 9.68,
          "v": 0.639954
         },
         {
          "i": 0.000192495,
          "t": 9.76,
          "v": 0.631987
         },
         {
          "i": 0.000188029,
          "t": 9.84,
          "v": 0.62399
         },
         {
          "i": 0.000185146,
          "t": 9.92,
          "v": 0.615994
         },
         {
          "i": 0.000180127,
          "t": 10,
          "v": 0.607999
         },
         {
          "i": 0.000176345,
          "t": 10.08,
          "v": 0.599979
         },
         {
          "i": 0.000172504,
          "t": 10.16,
          "v": 0.591986
         },
         {
          "i": 0.000169214,
          "t": 10.24,
          "v": 0.583995
         },
         {
          "i": 0.000165506,
          "t": 10.32,
          "v": 0.575989
         },
         {
          "i": 0.000161768,
          "t": 10.4,
          "v": 0.567998
         },
         {
          "i": 0.000157797,
          "t": 10.48,
          "v": 0.559977
         },
         {
          "i": 0.000154547,
          "t": 10.56,
          "v": 0.55198
         },
         {
          "i": 0.000150261,
          "t": 10.64,
          "v": 0.54398
         },
         {
          "i": 0.000145552,
          "t": 10.72,
          "v": 0.535971
         },
         {
          "i": 0.000140632,
          "t": 10.8,
          "v": 0.527968
         },
         {
          "i": 0.000135197,
          "t": 10.88,
          "v": 0.519988
         },
         {
          "i": 0.000128464,
          "t": 10.96,
          "v": 0.511959
         },
         {
          "i": 0.000121481,
          "t": 11.04,
          "v": 0.503993
         },
         {
          "i": 0.000113163,
          "t": 11.12,
          "v": 0.495982
         },
         {
          "i": 0.00010554,
          "t": 11.2,
          "v": 0.487986
         },
         {
          "i": 9.63451e-05,
          "t": 11.28,
          "v": 0.480003
         },
         {
          "i": 8.77547e-05,
          "t": 11.36,
          "v": 0.471992
         },
         {
          "i": 7.83074e-05,
          "t": 11.44,
          "v": 0.463984
         },
         {
          "i": 6.93123e-05,
          "t": 11.52,
          "v": 0.455975
         },
         {
          "i": 6.05555e-05,
          "t": 11.6,
          "v": 0.447965
         },
         {
          "i": 5.33275e-05,
          "t": 11.68,
          "v": 0.439975
         },
         {
          "i": 4.62333e-05,
          "t": 11.76,
          "v": 0.43195
         },
         {
          "i": 4.07244e-05,
          "t": 11.84,
          "v": 0.423976
         },
         {
          "i": 3.50122e-05,
          "t": 11.92,
          "v": 0.41599
         },
         {
          "i": 3.00855e-05,
          "t": 12,
          "v": 0.407993
         },
         {
          "i": 2.67164e-05,
          "t": 12.08,
          "v": 0.39999
         },
         {
          "i": 2.37632e-05,
          "t": 12.16,
          "v": 0.392004
         },
         {
          "i": 2.02056e-05,
          "t": 12.24,
          "v": 0.383984
         },
         {
          "i": 1.83864e-05,
          "t": 12.32,
          "v": 0.376007
         },
         {
          "i": 1.62388e-05,
          "t": 12.4,
          "v": 0.368012
         },
         {
          "i": 1.47822e-05,
          "t": 12.48,
          "v": 0.360007
         },
         {
          "i": 1.33123e-05,
          "t": 12.56,
          "v": 0.35201
         },
         {
          "i": 1.21032e-05,
          "t": 12.64,
          "v": 0.343996
         },
         {
          "i": 1.13439e-05,
          "t": 12.72,
          "v": 0.335986
         },
         {
          "i": 1.05787e-05,
          "t": 12.8,
          "v": 0.327992
         },
         {
          "i": 9.98769e-06,
          "t": 12.88,
          "v": 0.320004
         },
         {
          "i": 9.32044e-06,
          "t": 12.96,
          "v": 0.312005
         },
         {
          "i": 8.91284e-06,
          "t": 13.04,
          "v": 0.303987
         },
         {
          "i": 8.48565e-06,
          "t": 13.12,
          "v": 0.295978
         },
         {
          "i": 8.17307e-06,
          "t": 13.2,
          "v": 0.287997
         },
         {
          "i": 7.59835e-06,
          "t": 13.28,
          "v": 0.279985
         },
         {
          "i": 7.13782e-06,
          "t": 13.36,
          "v": 0.271979
         },
         {
          "i": 6.93652e-06,
          "t": 13.44,
          "v": 0.264011
         },
         {
          "i": 6.31053e-06,
          "t": 13.52,
          "v": 0.255966
         },
         {
          "i": 5.85042e-06,
          "t": 13.6,
          "v": 0.247998
         },
         {
          "i": 5.52159e-06,
          "t": 13.68,
          "v": 0.239996
         },
         {
          "i": 5.2907e-06,
          "t": 13.76,
          "v": 0.23198
         },
         {
          "i": 4.80766e-06,
          "t": 13.84,
          "v": 0.224003
         },
         {
          "i": 4.51176e-06,
          "t": 13.92,
          "v": 0.216006
         },
         {
          "i": 4.15959e-06,
          "t": 14,
          "v": 0.207994
         },
         {
          "i": 4.20502e-06,
          "t": 14.08,
          "v": 0.2
         },
         {
          "i": 4.28212e-06,
          "t": 14.16,
          "v": 0.192001
         },
         {
          "i": 3.9833e-06,
          "t": 14.24,
          "v": 0.184001
         },
         {
          "i": 3.74032e-06,
          "t": 14.32,
          "v": 0.175991
         },
         {
          "i": 3.52277e-06,
          "t": 14.4,
          "v": 0.167986
         },
         {
          "i": 3.36606e-06,
          "t": 14.48,
          "v": 0.160012
         },
         {
          "i": 3.17768e-06,
          "t": 14.56,
          "v": 0.15198
         },
         {
          "i": 2.98805e-06,
          "t": 14.64,
          "v": 0.143977
         },
         {
          "i": 2.91137e-06,
          "t": 14.72,
          "v": 0.136
         },
         {
          "i": 2.77758e-06,
          "t": 14.8,
          "v": 0.127962
         },
         {
          "i": 2.76508e-06,
          "t": 14.88,
          "v": 0.120003
         },
         {
          "i": 2.76591e-06,
          "t": 14.96,
          "v": 0.112009
         },
         {
          "i": 2.59504e-06,
          "t": 15.04,
          "v": 0.104001
         },
         {
          "i": 2.42208e-06,
          "t": 15.12,
          "v": 0.0960195
         },
         {
          "i": 2.42291e-06,
          "t": 15.2,
          "v": 0.0880066
         },
         {
          "i": 2.32956e-06,
          "t": 15.28,
          "v": 0.0799856
         },
         {
          "i": 2.03448e-06,
          "t": 15.36,
          "v": 0.0719945
         },
         {
          "i": 1.89278e-06,
          "t": 15.44,
          "v": 0.0640187
         },
         {
          "i": 1.94946e-06,
          "t": 15.52,
          "v": 0.056008
         },
         {
          "i": 1.66523e-06,
          "t": 15.6,
          "v": 0.0479726
         },
         {
          "i": 1.23012e-06,
          "t": 15.68,
          "v": 0.0399611
         },
         {
          "i": 1.27846e-06,
          "t": 15.76,
          "v": 0.0319876
         },
         {
          "i": 1.16635e-06,
          "t": 15.84,
          "v": 0.0239652
         },
         {
          "i": 1.1501e-06,
          "t": 15.92,
          "v": 0.0159998
         },
         {
          "i": 1.0284e-06,
          "t": 16,
          "v": 0.00801783
         },
         {
          "i": 6.98739e-07,
          "t": 16.08,
          "v": -2.32039e-05
         }
        ],
        "data-d751713988987e9331980363e24189ce": []
       },
       "layer": [
        {
         "data": {
          "name": "data-101c9206faf878af1ad5cf03ecfa9177"
         },
         "encoding": {
          "x": {
           "field": "v",
           "type": "quantitative"
          },
          "y": {
           "field": "i",
           "type": "quantitative"
          }
         },
         "mark": "point"
        },
        {
         "data": {
          "name": "data-d751713988987e9331980363e24189ce"
         },
         "encoding": {
          "color": {
           "value": "black"
          },
          "x": {
           "field": "v",
           "type": "quantitative"
          },
          "y": {
           "field": "i",
           "type": "quantitative"
          }
         },
         "mark": {
          "filled": true,
          "size": 50,
          "type": "point"
         }
        }
       ]
      },
      "image/png": "[encoded data removed]",
      "text/plain": [
       "<VegaLite 3 object>\n",
       "\n",
       "If you see this message, it means the renderer has not been properly enabled\n",
       "for the frontend that you are using. For more information, see\n",
       "https://altair-viz.github.io/user_guide/troubleshooting.html\n"
      ]
     },
     "metadata": {},
     "output_type": "display_data"
    },
    {
     "name": "stdout",
     "output_type": "stream",
     "text": [
      "1.56487e-05 -0.652287\n"
     ]
    },
    {
     "data": {
      "application/vnd.vegalite.v3+json": {
       "$schema": "https://vega.github.io/schema/vega-lite/v3.2.1.json",
       "config": {
        "mark": {
         "tooltip": null
        },
        "view": {
         "height": 300,
         "width": 400
        }
       },
       "datasets": {
        "data-1786f7bfa51551e016ed98b3057b78fd": [
         {
          "i": -6.35062e-05,
          "t": 12.01,
          "v": -1.09983
         },
         {
          "i": -6.0067e-05,
          "t": 12.02,
          "v": -1.0993
         },
         {
          "i": -5.89985e-05,
          "t": 12.03,
          "v": -1.09887
         },
         {
          "i": -5.77464e-05,
          "t": 12.04,
          "v": -1.09834
         },
         {
          "i": -5.71387e-05,
          "t": 12.05,
          "v": -1.09779
         },
         {
          "i": -5.71019e-05,
          "t": 12.06,
          "v": -1.09739
         },
         {
          "i": -5.62371e-05,
          "t": 12.07,
          "v": -1.09684
         },
         {
          "i": -5.54959e-05,
          "t": 12.08,
          "v": -1.09632
         },
         {
          "i": -5.51319e-05,
          "t": 12.09,
          "v": -1.09586
         },
         {
          "i": -5.50818e-05,
          "t": 12.1,
          "v": -1.0953
         },
         {
          "i": -5.45776e-05,
          "t": 12.11,
          "v": -1.09482
         },
         {
          "i": -5.43339e-05,
          "t": 12.12,
          "v": -1.09433
         },
         {
          "i": -5.39532e-05,
          "t": 12.13,
          "v": -1.0938
         },
         {
          "i": -5.39866e-05,
          "t": 12.14,
          "v": -1.09333
         },
         {
          "i": -5.39833e-05,
          "t": 12.15,
          "v": -1.09281
         },
         {
          "i": -5.38197e-05,
          "t": 12.16,
          "v": -1.0923
         },
         {
          "i": -5.36594e-05,
          "t": 12.17,
          "v": -1.0918
         },
         {
          "i": -5.34958e-05,
          "t": 12.18,
          "v": -1.09129
         },
         {
          "i": -5.31051e-05,
          "t": 12.19,
          "v": -1.09082
         },
         {
          "i": -5.31385e-05,
          "t": 12.2,
          "v": -1.09029
         },
         {
          "i": -5.28981e-05,
          "t": 12.21,
          "v": -1.08979
         },
         {
          "i": -5.27479e-05,
          "t": 12.22,
          "v": -1.08936
         },
         {
          "i": -5.26911e-05,
          "t": 12.23,
          "v": -1.08879
         },
         {
          "i": -5.2651e-05,
          "t": 12.24,
          "v": -1.08829
         },
         {
          "i": -5.25442e-05,
          "t": 12.25,
          "v": -1.08781
         },
         {
          "i": -5.23872e-05,
          "t": 12.26,
          "v": -1.0873
         },
         {
          "i": -5.23438e-05,
          "t": 12.27,
          "v": -1.08694
         },
         {
          "i": -5.22103e-05,
          "t": 12.28,
          "v": -1.08639
         },
         {
          "i": -5.19732e-05,
          "t": 12.29,
          "v": -1.08573
         },
         {
          "i": -5.20333e-05,
          "t": 12.3,
          "v": -1.08541
         },
         {
          "i": -5.19632e-05,
          "t": 12.31,
          "v": -1.08487
         },
         {
          "i": -5.1843e-05,
          "t": 12.32,
          "v": -1.08429
         },
         {
          "i": -5.19565e-05,
          "t": 12.33,
          "v": -1.08386
         },
         {
          "i": -5.19331e-05,
          "t": 12.34,
          "v": -1.0833
         },
         {
          "i": -5.18063e-05,
          "t": 12.35,
          "v": -1.08289
         },
         {
          "i": -5.16727e-05,
          "t": 12.36,
          "v": -1.08233
         },
         {
          "i": -5.15926e-05,
          "t": 12.37,
          "v": -1.08178
         },
         {
          "i": -5.15825e-05,
          "t": 12.38,
          "v": -1.08139
         },
         {
          "i": -5.13655e-05,
          "t": 12.39,
          "v": -1.08081
         },
         {
          "i": -5.12386e-05,
          "t": 12.4,
          "v": -1.0803
         },
         {
          "i": -5.12152e-05,
          "t": 12.41,
          "v": -1.07987
         },
         {
          "i": -5.10316e-05,
          "t": 12.42,
          "v": -1.0793
         },
         {
          "i": -5.10149e-05,
          "t": 12.43,
          "v": -1.07884
         },
         {
          "i": -5.08947e-05,
          "t": 12.44,
          "v": -1.07836
         },
         {
          "i": -5.06209e-05,
          "t": 12.45,
          "v": -1.07778
         },
         {
          "i": -5.07344e-05,
          "t": 12.46,
          "v": -1.07735
         },
         {
          "i": -5.07177e-05,
          "t": 12.47,
          "v": -1.07685
         },
         {
          "i": -5.0848e-05,
          "t": 12.48,
          "v": -1.07631
         },
         {
          "i": -5.07611e-05,
          "t": 12.49,
          "v": -1.07586
         },
         {
          "i": -5.0691e-05,
          "t": 12.5,
          "v": -1.07531
         },
         {
          "i": -5.06977e-05,
          "t": 12.51,
          "v": -1.07483
         },
         {
          "i": -5.07945e-05,
          "t": 12.52,
          "v": -1.07431
         },
         {
          "i": -5.05842e-05,
          "t": 12.53,
          "v": -1.07375
         },
         {
          "i": -5.03304e-05,
          "t": 12.54,
          "v": -1.07335
         },
         {
          "i": -5.03171e-05,
          "t": 12.55,
          "v": -1.07282
         },
         {
          "i": -5.009e-05,
          "t": 12.56,
          "v": -1.07227
         },
         {
          "i": -5.00466e-05,
          "t": 12.57,
          "v": -1.07184
         },
         {
          "i": -5.00967e-05,
          "t": 12.58,
          "v": -1.07128
         },
         {
          "i": -4.98596e-05,
          "t": 12.59,
          "v": -1.07079
         },
         {
          "i": -4.95891e-05,
          "t": 12.6,
          "v": -1.0703
         },
         {
          "i": -4.95858e-05,
          "t": 12.61,
          "v": -1.06976
         },
         {
          "i": -4.96359e-05,
          "t": 12.62,
          "v": -1.06929
         },
         {
          "i": -4.94122e-05,
          "t": 12.63,
          "v": -1.0688
         },
         {
          "i": -4.92786e-05,
          "t": 12.64,
          "v": -1.06827
         },
         {
          "i": -4.90649e-05,
          "t": 12.65,
          "v": -1.06778
         },
         {
          "i": -4.88011e-05,
          "t": 12.66,
          "v": -1.06726
         },
         {
          "i": -4.89581e-05,
          "t": 12.67,
          "v": -1.06679
         },
         {
          "i": -4.8898e-05,
          "t": 12.68,
          "v": -1.06626
         },
         {
          "i": -4.88379e-05,
          "t": 12.69,
          "v": -1.06576
         },
         {
          "i": -4.85273e-05,
          "t": 12.7,
          "v": -1.06532
         },
         {
          "i": -4.86375e-05,
          "t": 12.71,
          "v": -1.06477
         },
         {
          "i": -4.85607e-05,
          "t": 12.72,
          "v": -1.06425
         },
         {
          "i": -4.85808e-05,
          "t": 12.73,
          "v": -1.0638
         },
         {
          "i": -4.84272e-05,
          "t": 12.74,
          "v": -1.06326
         },
         {
          "i": -4.82669e-05,
          "t": 12.75,
          "v": -1.06277
         },
         {
          "i": -4.82335e-05,
          "t": 12.76,
          "v": -1.06227
         },
         {
          "i": -4.81166e-05,
          "t": 12.77,
          "v": -1.0617
         },
         {
          "i": -4.79664e-05,
          "t": 12.78,
          "v": -1.0614
         },
         {
          "i": -4.79931e-05,
          "t": 12.79,
          "v": -1.06086
         },
         {
          "i": -4.80098e-05,
          "t": 12.8,
          "v": -1.06022
         },
         {
          "i": -4.78595e-05,
          "t": 12.81,
          "v": -1.05986
         },
         {
          "i": -4.7529e-05,
          "t": 12.82,
          "v": -1.0593
         },
         {
          "i": -4.73086e-05,
          "t": 12.83,
          "v": -1.05882
         },
         {
          "i": -4.73487e-05,
          "t": 12.84,
          "v": -1.05832
         },
         {
          "i": -4.72218e-05,
          "t": 12.85,
          "v": -1.05773
         },
         {
          "i": -4.72318e-05,
          "t": 12.86,
          "v": -1.05735
         },
         {
          "i": -4.7155e-05,
          "t": 12.87,
          "v": -1.05682
         },
         {
          "i": -4.70648e-05,
          "t": 12.88,
          "v": -1.05627
         },
         {
          "i": -4.68712e-05,
          "t": 12.89,
          "v": -1.05582
         },
         {
          "i": -4.70682e-05,
          "t": 12.9,
          "v": -1.05527
         },
         {
          "i": -4.68645e-05,
          "t": 12.91,
          "v": -1.05482
         },
         {
          "i": -4.68545e-05,
          "t": 12.92,
          "v": -1.05433
         },
         {
          "i": -4.6594e-05,
          "t": 12.93,
          "v": -1.05375
         },
         {
          "i": -4.6574e-05,
          "t": 12.94,
          "v": -1.05334
         },
         {
          "i": -4.65807e-05,
          "t": 12.95,
          "v": -1.05284
         },
         {
          "i": -4.66174e-05,
          "t": 12.96,
          "v": -1.05228
         },
         {
          "i": -4.62635e-05,
          "t": 12.97,
          "v": -1.05183
         },
         {
          "i": -4.618e-05,
          "t": 12.98,
          "v": -1.0513
         },
         {
          "i": -4.62702e-05,
          "t": 12.99,
          "v": -1.05083
         },
         {
          "i": -4.60364e-05,
          "t": 13,
          "v": -1.05033
         },
         {
          "i": -4.61499e-05,
          "t": 13.01,
          "v": -1.04977
         },
         {
          "i": -4.57092e-05,
          "t": 13.02,
          "v": -1.04936
         },
         {
          "i": -4.56791e-05,
          "t": 13.03,
          "v": -1.04884
         },
         {
          "i": -4.54554e-05,
          "t": 13.04,
          "v": -1.04828
         },
         {
          "i": -4.56758e-05,
          "t": 13.05,
          "v": -1.04785
         },
         {
          "i": -4.55256e-05,
          "t": 13.06,
          "v": -1.04729
         },
         {
          "i": -4.54755e-05,
          "t": 13.07,
          "v": -1.04682
         },
         {
          "i": -4.52017e-05,
          "t": 13.08,
          "v": -1.04634
         },
         {
          "i": -4.52317e-05,
          "t": 13.09,
          "v": -1.04578
         },
         {
          "i": -4.48978e-05,
          "t": 13.1,
          "v": -1.04532
         },
         {
          "i": -4.51482e-05,
          "t": 13.11,
          "v": -1.04482
         },
         {
          "i": -4.50147e-05,
          "t": 13.12,
          "v": -1.0443
         },
         {
          "i": -4.47843e-05,
          "t": 13.13,
          "v": -1.04381
         },
         {
          "i": -4.44971e-05,
          "t": 13.14,
          "v": -1.04329
         },
         {
          "i": -4.45639e-05,
          "t": 13.15,
          "v": -1.04282
         },
         {
          "i": -4.46841e-05,
          "t": 13.16,
          "v": -1.04229
         },
         {
          "i": -4.47542e-05,
          "t": 13.17,
          "v": -1.04178
         },
         {
          "i": -4.45339e-05,
          "t": 13.18,
          "v": -1.04133
         },
         {
          "i": -4.43435e-05,
          "t": 13.19,
          "v": -1.04079
         },
         {
          "i": -4.40631e-05,
          "t": 13.2,
          "v": -1.04028
         },
         {
          "i": -4.41599e-05,
          "t": 13.21,
          "v": -1.03981
         },
         {
          "i": -4.41666e-05,
          "t": 13.22,
          "v": -1.03928
         },
         {
          "i": -4.39729e-05,
          "t": 13.23,
          "v": -1.03879
         },
         {
          "i": -4.40898e-05,
          "t": 13.24,
          "v": -1.03827
         },
         {
          "i": -4.422e-05,
          "t": 13.25,
          "v": -1.03778
         },
         {
          "i": -4.40263e-05,
          "t": 13.26,
          "v": -1.03728
         },
         {
          "i": -4.37893e-05,
          "t": 13.27,
          "v": -1.03679
         },
         {
          "i": -4.34654e-05,
          "t": 13.28,
          "v": -1.0362
         },
         {
          "i": -4.36524e-05,
          "t": 13.29,
          "v": -1.03588
         },
         {
          "i": -4.3639e-05,
          "t": 13.3,
          "v": -1.03529
         },
         {
          "i": -4.37826e-05,
          "t": 13.31,
          "v": -1.03483
         },
         {
          "i": -4.35923e-05,
          "t": 13.32,
          "v": -1.03436
         },
         {
          "i": -4.34854e-05,
          "t": 13.33,
          "v": -1.03375
         },
         {
          "i": -4.32951e-05,
          "t": 13.34,
          "v": -1.0334
         },
         {
          "i": -4.32116e-05,
          "t": 13.35,
          "v": -1.03284
         },
         {
          "i": -4.33786e-05,
          "t": 13.36,
          "v": -1.03228
         },
         {
          "i": -4.32116e-05,
          "t": 13.37,
          "v": -1.03187
         },
         {
          "i": -4.31114e-05,
          "t": 13.38,
          "v": -1.03129
         },
         {
          "i": -4.29345e-05,
          "t": 13.39,
          "v": -1.03081
         },
         {
          "i": -4.28343e-05,
          "t": 13.4,
          "v": -1.0303
         },
         {
          "i": -4.28109e-05,
          "t": 13.41,
          "v": -1.02976
         },
         {
          "i": -4.2644e-05,
          "t": 13.42,
          "v": -1.02935
         },
         {
          "i": -4.23134e-05,
          "t": 13.43,
          "v": -1.02884
         },
         {
          "i": -4.23301e-05,
          "t": 13.44,
          "v": -1.02829
         },
         {
          "i": -4.22633e-05,
          "t": 13.45,
          "v": -1.02785
         },
         {
          "i": -4.23468e-05,
          "t": 13.46,
          "v": -1.0273
         },
         {
          "i": -4.2447e-05,
          "t": 13.47,
          "v": -1.02686
         },
         {
          "i": -4.19328e-05,
          "t": 13.48,
          "v": -1.02634
         },
         {
          "i": -4.15955e-05,
          "t": 13.49,
          "v": -1.02579
         },
         {
          "i": -4.16256e-05,
          "t": 13.5,
          "v": -1.02538
         },
         {
          "i": -4.16256e-05,
          "t": 13.51,
          "v": -1.02484
         },
         {
          "i": -4.15488e-05,
          "t": 13.52,
          "v": -1.02431
         },
         {
          "i": -4.15488e-05,
          "t": 13.53,
          "v": -1.02388
         },
         {
          "i": -4.13651e-05,
          "t": 13.54,
          "v": -1.0233
         },
         {
          "i": -4.14486e-05,
          "t": 13.55,
          "v": -1.02281
         },
         {
          "i": -4.17892e-05,
          "t": 13.56,
          "v": -1.02234
         },
         {
          "i": -4.10646e-05,
          "t": 13.57,
          "v": -1.02178
         },
         {
          "i": -4.11681e-05,
          "t": 13.58,
          "v": -1.02134
         },
         {
          "i": -4.0921e-05,
          "t": 13.59,
          "v": -1.02084
         },
         {
          "i": -4.08342e-05,
          "t": 13.6,
          "v": -1.0203
         },
         {
          "i": -4.09311e-05,
          "t": 13.61,
          "v": -1.01981
         },
         {
          "i": -4.06172e-05,
          "t": 13.62,
          "v": -1.01929
         },
         {
          "i": -4.04769e-05,
          "t": 13.63,
          "v": -1.01883
         },
         {
          "i": -4.01163e-05,
          "t": 13.64,
          "v": -1.0183
         },
         {
          "i": -4.00996e-05,
          "t": 13.65,
          "v": -1.01778
         },
         {
          "i": -3.96956e-05,
          "t": 13.66,
          "v": -1.01735
         },
         {
          "i": -3.96322e-05,
          "t": 13.67,
          "v": -1.0168
         },
         {
          "i": -3.98258e-05,
          "t": 13.68,
          "v": -1.01629
         },
         {
          "i": -3.94018e-05,
          "t": 13.69,
          "v": -1.01582
         },
         {
          "i": -3.91447e-05,
          "t": 13.7,
          "v": -1.01528
         },
         {
          "i": -3.91447e-05,
          "t": 13.71,
          "v": -1.01479
         },
         {
          "i": -3.91246e-05,
          "t": 13.72,
          "v": -1.01428
         },
         {
          "i": -3.91413e-05,
          "t": 13.73,
          "v": -1.01378
         },
         {
          "i": -3.90245e-05,
          "t": 13.74,
          "v": -1.01329
         },
         {
          "i": -3.86205e-05,
          "t": 13.75,
          "v": -1.01278
         },
         {
          "i": -3.87073e-05,
          "t": 13.76,
          "v": -1.01228
         },
         {
          "i": -3.86205e-05,
          "t": 13.77,
          "v": -1.01179
         },
         {
          "i": -3.84468e-05,
          "t": 13.78,
          "v": -1.01129
         },
         {
          "i": -3.84969e-05,
          "t": 13.79,
          "v": -1.01081
         },
         {
          "i": -3.84402e-05,
          "t": 13.8,
          "v": -1.01039
         },
         {
          "i": -3.79627e-05,
          "t": 13.81,
          "v": -1.00975
         },
         {
          "i": -3.79961e-05,
          "t": 13.82,
          "v": -1.00938
         },
         {
          "i": -3.79326e-05,
          "t": 13.83,
          "v": -1.00886
         },
         {
          "i": -3.80027e-05,
          "t": 13.84,
          "v": -1.00833
         },
         {
          "i": -3.79527e-05,
          "t": 13.85,
          "v": -1.00789
         },
         {
          "i": -3.78091e-05,
          "t": 13.86,
          "v": -1.0073
         },
         {
          "i": -3.77189e-05,
          "t": 13.87,
          "v": -1.00688
         },
         {
          "i": -3.75186e-05,
          "t": 13.88,
          "v": -1.00635
         },
         {
          "i": -3.73783e-05,
          "t": 13.89,
          "v": -1.00575
         },
         {
          "i": -3.75019e-05,
          "t": 13.9,
          "v": -1.00537
         },
         {
          "i": -3.72414e-05,
          "t": 13.91,
          "v": -1.00482
         },
         {
          "i": -3.71045e-05,
          "t": 13.92,
          "v": -1.00429
         },
         {
          "i": -3.70945e-05,
          "t": 13.93,
          "v": -1.00383
         },
         {
          "i": -3.69777e-05,
          "t": 13.94,
          "v": -1.0033
         },
         {
          "i": -3.69376e-05,
          "t": 13.95,
          "v": -1.00285
         },
         {
          "i": -3.68341e-05,
          "t": 13.96,
          "v": -1.00233
         },
         {
          "i": -3.6794e-05,
          "t": 13.97,
          "v": -1.00177
         },
         {
          "i": -3.66337e-05,
          "t": 13.98,
          "v": -1.00138
         },
         {
          "i": -3.66438e-05,
          "t": 13.99,
          "v": -1.00085
         },
         {
          "i": -3.65369e-05,
          "t": 14,
          "v": -1.0003
         },
         {
          "i": -3.66037e-05,
          "t": 14.01,
          "v": -0.999875
         },
         {
          "i": -3.64601e-05,
          "t": 14.02,
          "v": -0.999304
         },
         {
          "i": -3.64735e-05,
          "t": 14.03,
          "v": -0.998857
         },
         {
          "i": -3.64367e-05,
          "t": 14.04,
          "v": -0.99835
         },
         {
          "i": -3.64367e-05,
          "t": 14.05,
          "v": -0.997785
         },
         {
          "i": -3.62765e-05,
          "t": 14.06,
          "v": -0.99738
         },
         {
          "i": -3.62698e-05,
          "t": 14.07,
          "v": -0.996857
         },
         {
          "i": -3.60628e-05,
          "t": 14.08,
          "v": -0.996337
         },
         {
          "i": -3.60861e-05,
          "t": 14.09,
          "v": -0.995853
         },
         {
          "i": -3.58691e-05,
          "t": 14.1,
          "v": -0.995313
         },
         {
          "i": -3.58424e-05,
          "t": 14.11,
          "v": -0.994858
         },
         {
          "i": -3.55652e-05,
          "t": 14.12,
          "v": -0.994329
         },
         {
          "i": -3.54851e-05,
          "t": 14.13,
          "v": -0.993803
         },
         {
          "i": -3.51612e-05,
          "t": 14.14,
          "v": -0.993368
         },
         {
          "i": -3.52781e-05,
          "t": 14.15,
          "v": -0.992814
         },
         {
          "i": -3.53349e-05,
          "t": 14.16,
          "v": -0.992312
         },
         {
          "i": -3.53449e-05,
          "t": 14.17,
          "v": -0.991843
         },
         {
          "i": -3.51278e-05,
          "t": 14.18,
          "v": -0.991296
         },
         {
          "i": -3.5001e-05,
          "t": 14.19,
          "v": -0.990814
         },
         {
          "i": -3.46036e-05,
          "t": 14.2,
          "v": -0.990311
         },
         {
          "i": -3.48407e-05,
          "t": 14.21,
          "v": -0.989793
         },
         {
          "i": -3.4647e-05,
          "t": 14.22,
          "v": -0.989307
         },
         {
          "i": -3.45669e-05,
          "t": 14.23,
          "v": -0.988795
         },
         {
          "i": -3.44901e-05,
          "t": 14.24,
          "v": -0.988301
         },
         {
          "i": -3.4243e-05,
          "t": 14.25,
          "v": -0.987791
         },
         {
          "i": -3.40927e-05,
          "t": 14.26,
          "v": -0.987293
         },
         {
          "i": -3.36086e-05,
          "t": 14.27,
          "v": -0.986823
         },
         {
          "i": -3.33815e-05,
          "t": 14.28,
          "v": -0.986295
         },
         {
          "i": -3.30844e-05,
          "t": 14.29,
          "v": -0.985791
         },
         {
          "i": -3.31144e-05,
          "t": 14.3,
          "v": -0.985363
         },
         {
          "i": -3.29742e-05,
          "t": 14.31,
          "v": -0.984868
         },
         {
          "i": -3.26302e-05,
          "t": 14.32,
          "v": -0.984336
         },
         {
          "i": -3.21528e-05,
          "t": 14.33,
          "v": -0.983894
         },
         {
          "i": -3.16586e-05,
          "t": 14.34,
          "v": -0.9833
         },
         {
          "i": -3.13013e-05,
          "t": 14.35,
          "v": -0.982922
         },
         {
          "i": -3.11778e-05,
          "t": 14.36,
          "v": -0.982379
         },
         {
          "i": -3.10843e-05,
          "t": 14.37,
          "v": -0.981744
         },
         {
          "i": -3.07237e-05,
          "t": 14.38,
          "v": -0.98139
         },
         {
          "i": -3.05333e-05,
          "t": 14.39,
          "v": -0.980858
         },
         {
          "i": -3.03163e-05,
          "t": 14.4,
          "v": -0.980316
         },
         {
          "i": -2.98922e-05,
          "t": 14.41,
          "v": -0.979853
         },
         {
          "i": -2.9772e-05,
          "t": 14.42,
          "v": -0.979297
         },
         {
          "i": -2.94849e-05,
          "t": 14.43,
          "v": -0.978875
         },
         {
          "i": -2.92545e-05,
          "t": 14.44,
          "v": -0.978318
         },
         {
          "i": -2.91143e-05,
          "t": 14.45,
          "v": -0.977784
         },
         {
          "i": -2.91243e-05,
          "t": 14.46,
          "v": -0.977416
         },
         {
          "i": -2.88238e-05,
          "t": 14.47,
          "v": -0.97685
         },
         {
          "i": -2.85733e-05,
          "t": 14.48,
          "v": -0.976319
         },
         {
          "i": -2.82428e-05,
          "t": 14.49,
          "v": -0.975895
         },
         {
          "i": -2.78788e-05,
          "t": 14.5,
          "v": -0.975302
         },
         {
          "i": -2.77553e-05,
          "t": 14.51,
          "v": -0.974864
         },
         {
          "i": -2.77219e-05,
          "t": 14.52,
          "v": -0.974366
         },
         {
          "i": -2.73078e-05,
          "t": 14.53,
          "v": -0.973803
         },
         {
          "i": -2.71609e-05,
          "t": 14.54,
          "v": -0.973381
         },
         {
          "i": -2.68704e-05,
          "t": 14.55,
          "v": -0.97287
         },
         {
          "i": -2.63863e-05,
          "t": 14.56,
          "v": -0.972303
         },
         {
          "i": -2.6216e-05,
          "t": 14.57,
          "v": -0.971831
         },
         {
          "i": -2.59322e-05,
          "t": 14.58,
          "v": -0.971294
         },
         {
          "i": -2.52811e-05,
          "t": 14.59,
          "v": -0.970829
         },
         {
          "i": -2.52844e-05,
          "t": 14.6,
          "v": -0.97031
         },
         {
          "i": -2.50841e-05,
          "t": 14.61,
          "v": -0.969768
         },
         {
          "i": -2.45398e-05,
          "t": 14.62,
          "v": -0.969368
         },
         {
          "i": -2.4276e-05,
          "t": 14.63,
          "v": -0.968811
         },
         {
          "i": -2.3685e-05,
          "t": 14.64,
          "v": -0.96828
         },
         {
          "i": -2.35147e-05,
          "t": 14.65,
          "v": -0.967836
         },
         {
          "i": -2.33044e-05,
          "t": 14.66,
          "v": -0.967284
         },
         {
          "i": -2.29371e-05,
          "t": 14.67,
          "v": -0.966793
         },
         {
          "i": -2.22659e-05,
          "t": 14.68,
          "v": -0.966303
         },
         {
          "i": -2.20856e-05,
          "t": 14.69,
          "v": -0.965778
         },
         {
          "i": -2.19187e-05,
          "t": 14.7,
          "v": -0.965306
         },
         {
          "i": -2.13944e-05,
          "t": 14.71,
          "v": -0.964778
         },
         {
          "i": -2.12442e-05,
          "t": 14.72,
          "v": -0.964268
         },
         {
          "i": -2.09437e-05,
          "t": 14.73,
          "v": -0.963785
         },
         {
          "i": -2.06031e-05,
          "t": 14.74,
          "v": -0.963273
         },
         {
          "i": -2.04729e-05,
          "t": 14.75,
          "v": -0.962793
         },
         {
          "i": -2.0553e-05,
          "t": 14.76,
          "v": -0.962262
         },
         {
          "i": -2.03961e-05,
          "t": 14.77,
          "v": -0.961779
         },
         {
          "i": -2.01289e-05,
          "t": 14.78,
          "v": -0.961343
         },
         {
          "i": -2.00254e-05,
          "t": 14.79,
          "v": -0.960778
         },
         {
          "i": -1.97216e-05,
          "t": 14.8,
          "v": -0.960265
         },
         {
          "i": -1.94478e-05,
          "t": 14.81,
          "v": -0.959801
         },
         {
          "i": -1.93543e-05,
          "t": 14.82,
          "v": -0.959294
         },
         {
          "i": -1.88267e-05,
          "t": 14.83,
          "v": -0.958882
         },
         {
          "i": -1.85396e-05,
          "t": 14.84,
          "v": -0.958376
         },
         {
          "i": -1.80053e-05,
          "t": 14.85,
          "v": -0.957721
         },
         {
          "i": -1.78016e-05,
          "t": 14.86,
          "v": -0.957413
         },
         {
          "i": -1.73208e-05,
          "t": 14.87,
          "v": -0.956869
         },
         {
          "i": -1.66497e-05,
          "t": 14.88,
          "v": -0.956243
         },
         {
          "i": -1.60921e-05,
          "t": 14.89,
          "v": -0.955833
         },
         {
          "i": -1.58016e-05,
          "t": 14.9,
          "v": -0.955292
         },
         {
          "i": -1.5441e-05,
          "t": 14.91,
          "v": -0.95484
         },
         {
          "i": -1.48967e-05,
          "t": 14.92,
          "v": -0.954304
         },
         {
          "i": -1.45494e-05,
          "t": 14.93,
          "v": -0.953761
         },
         {
          "i": -1.44793e-05,
          "t": 14.94,
          "v": -0.953379
         },
         {
          "i": -1.4092e-05,
          "t": 14.95,
          "v": -0.952797
         },
         {
          "i": -1.34208e-05,
          "t": 14.96,
          "v": -0.95228
         },
         {
          "i": -1.3137e-05,
          "t": 14.97,
          "v": -0.951859
         },
         {
          "i": -1.27564e-05,
          "t": 14.98,
          "v": -0.951289
         },
         {
          "i": -1.22756e-05,
          "t": 14.99,
          "v": -0.950826
         },
         {
          "i": -1.19149e-05,
          "t": 15,
          "v": -0.950346
         },
         {
          "i": -1.14475e-05,
          "t": 15.01,
          "v": -0.949761
         },
         {
          "i": -1.12906e-05,
          "t": 15.02,
          "v": -0.949351
         },
         {
          "i": -1.097e-05,
          "t": 15.03,
          "v": -0.948837
         },
         {
          "i": -1.02488e-05,
          "t": 15.04,
          "v": -0.948308
         },
         {
          "i": -9.51419e-06,
          "t": 15.05,
          "v": -0.947846
         },
         {
          "i": -9.08346e-06,
          "t": 15.06,
          "v": -0.947298
         },
         {
          "i": -8.21865e-06,
          "t": 15.07,
          "v": -0.946844
         },
         {
          "i": -7.75119e-06,
          "t": 15.08,
          "v": -0.94633
         },
         {
          "i": -7.18021e-06,
          "t": 15.09,
          "v": -0.945768
         },
         {
          "i": -6.66935e-06,
          "t": 15.1,
          "v": -0.945376
         },
         {
          "i": -6.16181e-06,
          "t": 15.11,
          "v": -0.944835
         },
         {
          "i": -5.7845e-06,
          "t": 15.12,
          "v": -0.944302
         },
         {
          "i": -5.4673e-06,
          "t": 15.13,
          "v": -0.943859
         },
         {
          "i": -5.28699e-06,
          "t": 15.14,
          "v": -0.943294
         },
         {
          "i": -4.94975e-06,
          "t": 15.15,
          "v": -0.942817
         },
         {
          "i": -4.60583e-06,
          "t": 15.16,
          "v": -0.942324
         },
         {
          "i": -4.36542e-06,
          "t": 15.17,
          "v": -0.941797
         },
         {
          "i": -4.14504e-06,
          "t": 15.18,
          "v": -0.941314
         },
         {
          "i": -3.88794e-06,
          "t": 15.19,
          "v": -0.940812
         },
         {
          "i": -3.65421e-06,
          "t": 15.2,
          "v": -0.940295
         },
         {
          "i": -3.40044e-06,
          "t": 15.21,
          "v": -0.939798
         },
         {
          "i": -3.04984e-06,
          "t": 15.22,
          "v": -0.939287
         },
         {
          "i": -2.61243e-06,
          "t": 15.23,
          "v": -0.93882
         },
         {
          "i": -2.25516e-06,
          "t": 15.24,
          "v": -0.938286
         },
         {
          "i": -1.65413e-06,
          "t": 15.25,
          "v": -0.93779
         },
         {
          "i": -1.22006e-06,
          "t": 15.26,
          "v": -0.937341
         },
         {
          "i": -9.06191e-07,
          "t": 15.27,
          "v": -0.936788
         },
         {
          "i": -1.04826e-07,
          "t": 15.28,
          "v": -0.936285
         },
         {
          "i": 4.66147e-07,
          "t": 15.29,
          "v": -0.935811
         },
         {
          "i": 9.26932e-07,
          "t": 15.3,
          "v": -0.935293
         },
         {
          "i": 1.25416e-06,
          "t": 15.31,
          "v": -0.934796
         },
         {
          "i": 1.83849e-06,
          "t": 15.32,
          "v": -0.934301
         },
         {
          "i": 2.35937e-06,
          "t": 15.33,
          "v": -0.933715
         },
         {
          "i": 2.52298e-06,
          "t": 15.34,
          "v": -0.933413
         },
         {
          "i": 3.07058e-06,
          "t": 15.35,
          "v": -0.932875
         },
         {
          "i": 3.36442e-06,
          "t": 15.36,
          "v": -0.932297
         },
         {
          "i": 3.90868e-06,
          "t": 15.37,
          "v": -0.931888
         },
         {
          "i": 4.06227e-06,
          "t": 15.38,
          "v": -0.931303
         },
         {
          "i": 4.48299e-06,
          "t": 15.39,
          "v": -0.930927
         },
         {
          "i": 5.03727e-06,
          "t": 15.4,
          "v": -0.930348
         },
         {
          "i": 5.66501e-06,
          "t": 15.41,
          "v": -0.92977
         },
         {
          "i": 6.49976e-06,
          "t": 15.42,
          "v": -0.929445
         },
         {
          "i": 7.38126e-06,
          "t": 15.43,
          "v": -0.928845
         },
         {
          "i": 7.80198e-06,
          "t": 15.44,
          "v": -0.928314
         },
         {
          "i": 8.31285e-06,
          "t": 15.45,
          "v": -0.927856
         },
         {
          "i": 9.15762e-06,
          "t": 15.46,
          "v": -0.927304
         },
         {
          "i": 9.93561e-06,
          "t": 15.47,
          "v": -0.926891
         },
         {
          "i": 1.02762e-05,
          "t": 15.48,
          "v": -0.926367
         },
         {
          "i": 1.0777e-05,
          "t": 15.49,
          "v": -0.925805
         },
         {
          "i": 1.10208e-05,
          "t": 15.5,
          "v": -0.925391
         },
         {
          "i": 1.12979e-05,
          "t": 15.51,
          "v": -0.924869
         },
         {
          "i": 1.14749e-05,
          "t": 15.52,
          "v": -0.924359
         },
         {
          "i": 1.17253e-05,
          "t": 15.53,
          "v": -0.923881
         },
         {
          "i": 1.22128e-05,
          "t": 15.54,
          "v": -0.923319
         },
         {
          "i": 1.23931e-05,
          "t": 15.55,
          "v": -0.922914
         },
         {
          "i": 1.2914e-05,
          "t": 15.56,
          "v": -0.922376
         },
         {
          "i": 1.33014e-05,
          "t": 15.57,
          "v": -0.921839
         },
         {
          "i": 1.37154e-05,
          "t": 15.58,
          "v": -0.921422
         },
         {
          "i": 1.4086e-05,
          "t": 15.59,
          "v": -0.920844
         },
         {
          "i": 1.47872e-05,
          "t": 15.6,
          "v": -0.920315
         },
         {
          "i": 1.54751e-05,
          "t": 15.61,
          "v": -0.919871
         },
         {
          "i": 1.61228e-05,
          "t": 15.62,
          "v": -0.919309
         },
         {
          "i": 1.65569e-05,
          "t": 15.63,
          "v": -0.918849
         },
         {
          "i": 1.69876e-05,
          "t": 15.64,
          "v": -0.918366
         },
         {
          "i": 1.7425e-05,
          "t": 15.65,
          "v": -0.91782
         },
         {
          "i": 1.79893e-05,
          "t": 15.66,
          "v": -0.917348
         },
         {
          "i": 1.84835e-05,
          "t": 15.67,
          "v": -0.916836
         },
         {
          "i": 1.90879e-05,
          "t": 15.68,
          "v": -0.916329
         },
         {
          "i": 1.97991e-05,
          "t": 15.69,
          "v": -0.915821
         },
         {
          "i": 2.03901e-05,
          "t": 15.7,
          "v": -0.915312
         },
         {
          "i": 2.06839e-05,
          "t": 15.71,
          "v": -0.914849
         },
         {
          "i": 2.12148e-05,
          "t": 15.72,
          "v": -0.914314
         },
         {
          "i": 2.16088e-05,
          "t": 15.73,
          "v": -0.913816
         },
         {
          "i": 2.24069e-05,
          "t": 15.74,
          "v": -0.913367
         },
         {
          "i": 2.34887e-05,
          "t": 15.75,
          "v": -0.912812
         },
         {
          "i": 2.40797e-05,
          "t": 15.76,
          "v": -0.912316
         },
         {
          "i": 2.43502e-05,
          "t": 15.77,
          "v": -0.911821
         },
         {
          "i": 2.54821e-05,
          "t": 15.78,
          "v": -0.911308
         },
         {
          "i": 2.54988e-05,
          "t": 15.79,
          "v": -0.910817
         },
         {
          "i": 2.59896e-05,
          "t": 15.8,
          "v": -0.910309
         },
         {
          "i": 2.6377e-05,
          "t": 15.81,
          "v": -0.909812
         },
         {
          "i": 2.65272e-05,
          "t": 15.82,
          "v": -0.909325
         },
         {
          "i": 2.69045e-05,
          "t": 15.83,
          "v": -0.908813
         },
         {
          "i": 2.71449e-05,
          "t": 15.84,
          "v": -0.908252
         },
         {
          "i": 2.73486e-05,
          "t": 15.85,
          "v": -0.907896
         },
         {
          "i": 2.75156e-05,
          "t": 15.86,
          "v": -0.907301
         },
         {
          "i": 2.78862e-05,
          "t": 15.87,
          "v": -0.906883
         },
         {
          "i": 2.8337e-05,
          "t": 15.88,
          "v": -0.90637
         },
         {
          "i": 2.86308e-05,
          "t": 15.89,
          "v": -0.905765
         },
         {
          "i": 2.90014e-05,
          "t": 15.9,
          "v": -0.905448
         },
         {
          "i": 2.95123e-05,
          "t": 15.91,
          "v": -0.904864
         },
         {
          "i": 2.97293e-05,
          "t": 15.92,
          "v": -0.904347
         },
         {
          "i": 3.01968e-05,
          "t": 15.93,
          "v": -0.903893
         },
         {
          "i": 3.08412e-05,
          "t": 15.94,
          "v": -0.903307
         },
         {
          "i": 3.11384e-05,
          "t": 15.95,
          "v": -0.90286
         },
         {
          "i": 3.14957e-05,
          "t": 15.96,
          "v": -0.902339
         },
         {
          "i": 3.208e-05,
          "t": 15.97,
          "v": -0.901792
         },
         {
          "i": 3.26176e-05,
          "t": 15.98,
          "v": -0.901382
         },
         {
          "i": 3.29548e-05,
          "t": 15.99,
          "v": -0.900861
         },
         {
          "i": 3.34958e-05,
          "t": 16,
          "v": -0.900327
         },
         {
          "i": 3.403e-05,
          "t": 16.01,
          "v": -0.899872
         },
         {
          "i": 3.45743e-05,
          "t": 16.02,
          "v": -0.89931
         },
         {
          "i": 3.45976e-05,
          "t": 16.03,
          "v": -0.898907
         },
         {
          "i": 3.49082e-05,
          "t": 16.04,
          "v": -0.898354
         },
         {
          "i": 3.53089e-05,
          "t": 16.05,
          "v": -0.897811
         },
         {
          "i": 3.55092e-05,
          "t": 16.06,
          "v": -0.89743
         },
         {
          "i": 3.56995e-05,
          "t": 16.07,
          "v": -0.896867
         },
         {
          "i": 3.60568e-05,
          "t": 16.08,
          "v": -0.896339
         },
         {
          "i": 3.64975e-05,
          "t": 16.09,
          "v": -0.895899
         },
         {
          "i": 3.6551e-05,
          "t": 16.1,
          "v": -0.895318
         },
         {
          "i": 3.70986e-05,
          "t": 16.11,
          "v": -0.89488
         },
         {
          "i": 3.73557e-05,
          "t": 16.12,
          "v": -0.894388
         },
         {
          "i": 3.76729e-05,
          "t": 16.13,
          "v": -0.89383
         },
         {
          "i": 3.82706e-05,
          "t": 16.14,
          "v": -0.893379
         },
         {
          "i": 3.8728e-05,
          "t": 16.15,
          "v": -0.892868
         },
         {
          "i": 3.8895e-05,
          "t": 16.16,
          "v": -0.89236
         },
         {
          "i": 3.93357e-05,
          "t": 16.17,
          "v": -0.891842
         },
         {
          "i": 3.99467e-05,
          "t": 16.18,
          "v": -0.891318
         },
         {
          "i": 4.02773e-05,
          "t": 16.19,
          "v": -0.890887
         },
         {
          "i": 4.03107e-05,
          "t": 16.2,
          "v": -0.890342
         },
         {
          "i": 4.05344e-05,
          "t": 16.21,
          "v": -0.889825
         },
         {
          "i": 4.11188e-05,
          "t": 16.22,
          "v": -0.889391
         },
         {
          "i": 4.11154e-05,
          "t": 16.23,
          "v": -0.888824
         },
         {
          "i": 4.16463e-05,
          "t": 16.24,
          "v": -0.888333
         },
         {
          "i": 4.19402e-05,
          "t": 16.25,
          "v": -0.887848
         },
         {
          "i": 4.21238e-05,
          "t": 16.26,
          "v": -0.887322
         },
         {
          "i": 4.20837e-05,
          "t": 16.27,
          "v": -0.88683
         },
         {
          "i": 4.25145e-05,
          "t": 16.28,
          "v": -0.886333
         },
         {
          "i": 4.26013e-05,
          "t": 16.29,
          "v": -0.885822
         },
         {
          "i": 4.26881e-05,
          "t": 16.3,
          "v": -0.885333
         },
         {
          "i": 4.29886e-05,
          "t": 16.31,
          "v": -0.884819
         },
         {
          "i": 4.30454e-05,
          "t": 16.32,
          "v": -0.884341
         },
         {
          "i": 4.29886e-05,
          "t": 16.33,
          "v": -0.883822
         },
         {
          "i": 4.33058e-05,
          "t": 16.34,
          "v": -0.883331
         },
         {
          "i": 4.33826e-05,
          "t": 16.35,
          "v": -0.8829
         },
         {
          "i": 4.34093e-05,
          "t": 16.36,
          "v": -0.882419
         },
         {
          "i": 4.36097e-05,
          "t": 16.37,
          "v": -0.881792
         },
         {
          "i": 4.36998e-05,
          "t": 16.38,
          "v": -0.881455
         },
         {
          "i": 4.383e-05,
          "t": 16.39,
          "v": -0.880885
         },
         {
          "i": 4.38801e-05,
          "t": 16.4,
          "v": -0.880401
         },
         {
          "i": 4.39803e-05,
          "t": 16.41,
          "v": -0.879921
         },
         {
          "i": 4.39936e-05,
          "t": 16.42,
          "v": -0.879306
         },
         {
          "i": 4.41105e-05,
          "t": 16.43,
          "v": -0.878909
         },
         {
          "i": 4.41573e-05,
          "t": 16.44,
          "v": -0.87839
         },
         {
          "i": 4.43075e-05,
          "t": 16.45,
          "v": -0.877804
         },
         {
          "i": 4.44043e-05,
          "t": 16.46,
          "v": -0.877374
         },
         {
          "i": 4.44544e-05,
          "t": 16.47,
          "v": -0.876837
         },
         {
          "i": 4.44711e-05,
          "t": 16.48,
          "v": -0.876348
         },
         {
          "i": 4.46147e-05,
          "t": 16.49,
          "v": -0.875848
         },
         {
          "i": 4.47449e-05,
          "t": 16.5,
          "v": -0.875316
         },
         {
          "i": 4.46581e-05,
          "t": 16.51,
          "v": -0.874911
         },
         {
          "i": 4.4785e-05,
          "t": 16.52,
          "v": -0.874372
         },
         {
          "i": 4.48852e-05,
          "t": 16.53,
          "v": -0.873827
         },
         {
          "i": 4.49252e-05,
          "t": 16.54,
          "v": -0.873428
         },
         {
          "i": 4.47683e-05,
          "t": 16.55,
          "v": -0.872867
         },
         {
          "i": 4.45312e-05,
          "t": 16.56,
          "v": -0.872353
         },
         {
          "i": 4.49219e-05,
          "t": 16.57,
          "v": -0.871903
         },
         {
          "i": 4.50054e-05,
          "t": 16.58,
          "v": -0.871329
         },
         {
          "i": 4.49887e-05,
          "t": 16.59,
          "v": -0.870897
         },
         {
          "i": 4.52024e-05,
          "t": 16.6,
          "v": -0.870396
         },
         {
          "i": 4.51189e-05,
          "t": 16.61,
          "v": -0.869795
         },
         {
          "i": 4.50788e-05,
          "t": 16.62,
          "v": -0.869357
         },
         {
          "i": 4.52224e-05,
          "t": 16.63,
          "v": -0.868836
         },
         {
          "i": 4.54495e-05,
          "t": 16.64,
          "v": -0.86832
         },
         {
          "i": 4.53159e-05,
          "t": 16.65,
          "v": -0.867828
         },
         {
          "i": 4.54061e-05,
          "t": 16.66,
          "v": -0.867304
         },
         {
          "i": 4.51222e-05,
          "t": 16.67,
          "v": -0.866866
         },
         {
          "i": 4.54328e-05,
          "t": 16.68,
          "v": -0.866318
         },
         {
          "i": 4.51323e-05,
          "t": 16.69,
          "v": -0.865791
         },
         {
          "i": 4.54361e-05,
          "t": 16.7,
          "v": -0.865365
         },
         {
          "i": 4.54328e-05,
          "t": 16.71,
          "v": -0.864801
         },
         {
          "i": 4.57199e-05,
          "t": 16.72,
          "v": -0.864298
         },
         {
          "i": 4.52525e-05,
          "t": 16.73,
          "v": -0.863828
         },
         {
          "i": 4.53259e-05,
          "t": 16.74,
          "v": -0.863291
         },
         {
          "i": 4.52792e-05,
          "t": 16.75,
          "v": -0.862817
         },
         {
          "i": 4.53459e-05,
          "t": 16.76,
          "v": -0.862311
         },
         {
          "i": 4.55697e-05,
          "t": 16.77,
          "v": -0.861795
         },
         {
          "i": 4.54061e-05,
          "t": 16.78,
          "v": -0.861306
         },
         {
          "i": 4.55463e-05,
          "t": 16.79,
          "v": -0.860799
         },
         {
          "i": 4.54528e-05,
          "t": 16.8,
          "v": -0.860302
         },
         {
          "i": 4.5396e-05,
          "t": 16.81,
          "v": -0.859799
         },
         {
          "i": 4.53192e-05,
          "t": 16.82,
          "v": -0.859301
         },
         {
          "i": 4.50888e-05,
          "t": 16.83,
          "v": -0.858835
         },
         {
          "i": 4.51089e-05,
          "t": 16.84,
          "v": -0.858295
         },
         {
          "i": 4.51757e-05,
          "t": 16.85,
          "v": -0.857804
         },
         {
          "i": 4.52391e-05,
          "t": 16.86,
          "v": -0.857372
         },
         {
          "i": 4.51022e-05,
          "t": 16.87,
          "v": -0.856879
         },
         {
          "i": 4.4795e-05,
          "t": 16.88,
          "v": -0.856328
         },
         {
          "i": 4.49119e-05,
          "t": 16.89,
          "v": -0.855893
         },
         {
          "i": 4.52525e-05,
          "t": 16.9,
          "v": -0.855301
         },
         {
          "i": 4.49686e-05,
          "t": 16.91,
          "v": -0.854942
         },
         {
          "i": 4.49853e-05,
          "t": 16.92,
          "v": -0.854387
         },
         {
          "i": 4.51456e-05,
          "t": 16.93,
          "v": -0.853747
         },
         {
          "i": 4.49052e-05,
          "t": 16.94,
          "v": -0.853387
         },
         {
          "i": 4.46915e-05,
          "t": 16.95,
          "v": -0.852858
         },
         {
          "i": 4.48217e-05,
          "t": 16.96,
          "v": -0.852315
         },
         {
          "i": 4.46214e-05,
          "t": 16.97,
          "v": -0.851838
         },
         {
          "i": 4.48384e-05,
          "t": 16.98,
          "v": -0.851296
         },
         {
          "i": 4.47382e-05,
          "t": 16.99,
          "v": -0.850865
         },
         {
          "i": 4.47349e-05,
          "t": 17,
          "v": -0.850301
         },
         {
          "i": 4.44778e-05,
          "t": 17.01,
          "v": -0.849781
         },
         {
          "i": 4.44745e-05,
          "t": 17.02,
          "v": -0.849396
         },
         {
          "i": 4.44845e-05,
          "t": 17.03,
          "v": -0.848839
         },
         {
          "i": 4.42841e-05,
          "t": 17.04,
          "v": -0.848324
         },
         {
          "i": 4.43409e-05,
          "t": 17.05,
          "v": -0.847886
         },
         {
          "i": 4.42407e-05,
          "t": 17.06,
          "v": -0.847308
         },
         {
          "i": 4.4204e-05,
          "t": 17.07,
          "v": -0.846854
         },
         {
          "i": 4.40371e-05,
          "t": 17.08,
          "v": -0.846363
         },
         {
          "i": 4.39168e-05,
          "t": 17.09,
          "v": -0.845796
         },
         {
          "i": 4.38901e-05,
          "t": 17.1,
          "v": -0.845382
         },
         {
          "i": 4.3977e-05,
          "t": 17.11,
          "v": -0.844868
         },
         {
          "i": 4.38968e-05,
          "t": 17.12,
          "v": -0.844347
         },
         {
          "i": 4.378e-05,
          "t": 17.13,
          "v": -0.843854
         },
         {
          "i": 4.38033e-05,
          "t": 17.14,
          "v": -0.84331
         },
         {
          "i": 4.36698e-05,
          "t": 17.15,
          "v": -0.842874
         },
         {
          "i": 4.37232e-05,
          "t": 17.16,
          "v": -0.842345
         },
         {
          "i": 4.37332e-05,
          "t": 17.17,
          "v": -0.841804
         },
         {
          "i": 4.37399e-05,
          "t": 17.18,
          "v": -0.8414
         },
         {
          "i": 4.34995e-05,
          "t": 17.19,
          "v": -0.840841
         },
         {
          "i": 4.37199e-05,
          "t": 17.2,
          "v": -0.840329
         },
         {
          "i": 4.36865e-05,
          "t": 17.21,
          "v": -0.839856
         },
         {
          "i": 4.3613e-05,
          "t": 17.22,
          "v": -0.839313
         },
         {
          "i": 4.3416e-05,
          "t": 17.23,
          "v": -0.838832
         },
         {
          "i": 4.31756e-05,
          "t": 17.24,
          "v": -0.838337
         },
         {
          "i": 4.33559e-05,
          "t": 17.25,
          "v": -0.837815
         },
         {
          "i": 4.32958e-05,
          "t": 17.26,
          "v": -0.837342
         },
         {
          "i": 4.30387e-05,
          "t": 17.27,
          "v": -0.836818
         },
         {
          "i": 4.30053e-05,
          "t": 17.28,
          "v": -0.836328
         },
         {
          "i": 4.29352e-05,
          "t": 17.29,
          "v": -0.835814
         },
         {
          "i": 4.28985e-05,
          "t": 17.3,
          "v": -0.835319
         },
         {
          "i": 4.27415e-05,
          "t": 17.31,
          "v": -0.834875
         },
         {
          "i": 4.29018e-05,
          "t": 17.32,
          "v": -0.834319
         },
         {
          "i": 4.29752e-05,
          "t": 17.33,
          "v": -0.833817
         },
         {
          "i": 4.27348e-05,
          "t": 17.34,
          "v": -0.833378
         },
         {
          "i": 4.25579e-05,
          "t": 17.35,
          "v": -0.832817
         },
         {
          "i": 4.24243e-05,
          "t": 17.36,
          "v": -0.832321
         },
         {
          "i": 4.23842e-05,
          "t": 17.37,
          "v": -0.831826
         },
         {
          "i": 4.23809e-05,
          "t": 17.38,
          "v": -0.831302
         },
         {
          "i": 4.23408e-05,
          "t": 17.39,
          "v": -0.830946
         },
         {
          "i": 4.2037e-05,
          "t": 17.4,
          "v": -0.830416
         },
         {
          "i": 4.20236e-05,
          "t": 17.41,
          "v": -0.829756
         },
         {
          "i": 4.18233e-05,
          "t": 17.42,
          "v": -0.829415
         },
         {
          "i": 4.17999e-05,
          "t": 17.43,
          "v": -0.828885
         },
         {
          "i": 4.15428e-05,
          "t": 17.44,
          "v": -0.82835
         },
         {
          "i": 4.15027e-05,
          "t": 17.45,
          "v": -0.827867
         },
         {
          "i": 4.11488e-05,
          "t": 17.46,
          "v": -0.827308
         },
         {
          "i": 4.08049e-05,
          "t": 17.47,
          "v": -0.826937
         },
         {
          "i": 4.07882e-05,
          "t": 17.48,
          "v": -0.826357
         },
         {
          "i": 4.0885e-05,
          "t": 17.49,
          "v": -0.82581
         },
         {
          "i": 4.04777e-05,
          "t": 17.5,
          "v": -0.825399
         },
         {
          "i": 4.04944e-05,
          "t": 17.51,
          "v": -0.824822
         },
         {
          "i": 4.01438e-05,
          "t": 17.52,
          "v": -0.824334
         },
         {
          "i": 4.00837e-05,
          "t": 17.53,
          "v": -0.82389
         },
         {
          "i": 4.00002e-05,
          "t": 17.54,
          "v": -0.823317
         },
         {
          "i": 3.94459e-05,
          "t": 17.55,
          "v": -0.822873
         },
         {
          "i": 3.94426e-05,
          "t": 17.56,
          "v": -0.822369
         },
         {
          "i": 3.91587e-05,
          "t": 17.57,
          "v": -0.821814
         },
         {
          "i": 3.89083e-05,
          "t": 17.58,
          "v": -0.821386
         },
         {
          "i": 3.8541e-05,
          "t": 17.59,
          "v": -0.820871
         },
         {
          "i": 3.81737e-05,
          "t": 17.6,
          "v": -0.820362
         },
         {
          "i": 3.85243e-05,
          "t": 17.61,
          "v": -0.819881
         },
         {
          "i": 3.8147e-05,
          "t": 17.62,
          "v": -0.819324
         },
         {
          "i": 3.77931e-05,
          "t": 17.63,
          "v": -0.818917
         },
         {
          "i": 3.72188e-05,
          "t": 17.64,
          "v": -0.81837
         },
         {
          "i": 3.74558e-05,
          "t": 17.65,
          "v": -0.817806
         },
         {
          "i": 3.72321e-05,
          "t": 17.66,
          "v": -0.817424
         },
         {
          "i": 3.73189e-05,
          "t": 17.67,
          "v": -0.816852
         },
         {
          "i": 3.70251e-05,
          "t": 17.68,
          "v": -0.816354
         },
         {
          "i": 3.68749e-05,
          "t": 17.69,
          "v": -0.815885
         },
         {
          "i": 3.68181e-05,
          "t": 17.7,
          "v": -0.815325
         },
         {
          "i": 3.67279e-05,
          "t": 17.71,
          "v": -0.81486
         },
         {
          "i": 3.66144e-05,
          "t": 17.72,
          "v": -0.814365
         },
         {
          "i": 3.65944e-05,
          "t": 17.73,
          "v": -0.813828
         },
         {
          "i": 3.63707e-05,
          "t": 17.74,
          "v": -0.813359
         },
         {
          "i": 3.63606e-05,
          "t": 17.75,
          "v": -0.812841
         },
         {
          "i": 3.63974e-05,
          "t": 17.76,
          "v": -0.812349
         },
         {
          "i": 3.61536e-05,
          "t": 17.77,
          "v": -0.81183
         },
         {
          "i": 3.60735e-05,
          "t": 17.78,
          "v": -0.811331
         },
         {
          "i": 3.6157e-05,
          "t": 17.79,
          "v": -0.81088
         },
         {
          "i": 3.58364e-05,
          "t": 17.8,
          "v": -0.810331
         },
         {
          "i": 3.57763e-05,
          "t": 17.81,
          "v": -0.809825
         },
         {
          "i": 3.57396e-05,
          "t": 17.82,
          "v": -0.809374
         },
         {
          "i": 3.55927e-05,
          "t": 17.83,
          "v": -0.808817
         },
         {
          "i": 3.56828e-05,
          "t": 17.84,
          "v": -0.808328
         },
         {
          "i": 3.55426e-05,
          "t": 17.85,
          "v": -0.807829
         },
         {
          "i": 3.5389e-05,
          "t": 17.86,
          "v": -0.807323
         },
         {
          "i": 3.53255e-05,
          "t": 17.87,
          "v": -0.806831
         },
         {
          "i": 3.51886e-05,
          "t": 17.88,
          "v": -0.806335
         },
         {
          "i": 3.51118e-05,
          "t": 17.89,
          "v": -0.805743
         },
         {
          "i": 3.5202e-05,
          "t": 17.9,
          "v": -0.805452
         },
         {
          "i": 3.5379e-05,
          "t": 17.91,
          "v": -0.804893
         },
         {
          "i": 3.51519e-05,
          "t": 17.92,
          "v": -0.804334
         },
         {
          "i": 3.50451e-05,
          "t": 17.93,
          "v": -0.803902
         },
         {
          "i": 3.49783e-05,
          "t": 17.94,
          "v": -0.803306
         },
         {
          "i": 3.47679e-05,
          "t": 17.95,
          "v": -0.802951
         },
         {
          "i": 3.45409e-05,
          "t": 17.96,
          "v": -0.802386
         },
         {
          "i": 3.45709e-05,
          "t": 17.97,
          "v": -0.801809
         },
         {
          "i": 3.44073e-05,
          "t": 17.98,
          "v": -0.801465
         },
         {
          "i": 3.405e-05,
          "t": 17.99,
          "v": -0.800873
         },
         {
          "i": 3.40968e-05,
          "t": 18,
          "v": -0.800349
         },
         {
          "i": 3.40667e-05,
          "t": 18.01,
          "v": -0.799878
         },
         {
          "i": 3.40801e-05,
          "t": 18.02,
          "v": -0.799319
         },
         {
          "i": 3.40901e-05,
          "t": 18.03,
          "v": -0.798929
         },
         {
          "i": 3.38096e-05,
          "t": 18.04,
          "v": -0.798401
         },
         {
          "i": 3.3626e-05,
          "t": 18.05,
          "v": -0.797815
         },
         {
          "i": 3.34991e-05,
          "t": 18.06,
          "v": -0.797416
         },
         {
          "i": 3.30016e-05,
          "t": 18.07,
          "v": -0.79689
         },
         {
          "i": 3.3262e-05,
          "t": 18.08,
          "v": -0.796382
         },
         {
          "i": 3.33388e-05,
          "t": 18.09,
          "v": -0.795897
         },
         {
          "i": 3.31184e-05,
          "t": 18.1,
          "v": -0.795324
         },
         {
          "i": 3.29248e-05,
          "t": 18.11,
          "v": -0.794907
         },
         {
          "i": 3.29248e-05,
          "t": 18.12,
          "v": -0.794398
         },
         {
          "i": 3.2838e-05,
          "t": 18.13,
          "v": -0.793828
         },
         {
          "i": 3.26877e-05,
          "t": 18.14,
          "v": -0.793433
         },
         {
          "i": 3.25575e-05,
          "t": 18.15,
          "v": -0.792896
         },
         {
          "i": 3.25141e-05,
          "t": 18.16,
          "v": -0.792378
         },
         {
          "i": 3.24273e-05,
          "t": 18.17,
          "v": -0.791925
         },
         {
          "i": 3.25575e-05,
          "t": 18.18,
          "v": -0.791342
         },
         {
          "i": 3.24774e-05,
          "t": 18.19,
          "v": -0.790918
         },
         {
          "i": 3.2277e-05,
          "t": 18.2,
          "v": -0.790426
         },
         {
          "i": 3.1873e-05,
          "t": 18.21,
          "v": -0.789872
         },
         {
          "i": 3.19398e-05,
          "t": 18.22,
          "v": -0.789398
         },
         {
          "i": 3.17027e-05,
          "t": 18.23,
          "v": -0.788878
         },
         {
          "i": 3.15358e-05,
          "t": 18.24,
          "v": -0.788385
         },
         {
          "i": 3.14823e-05,
          "t": 18.25,
          "v": -0.787868
         },
         {
          "i": 3.13254e-05,
          "t": 18.26,
          "v": -0.787348
         },
         {
          "i": 3.10616e-05,
          "t": 18.27,
          "v": -0.786913
         },
         {
          "i": 3.09381e-05,
          "t": 18.28,
          "v": -0.786366
         },
         {
          "i": 3.07377e-05,
          "t": 18.29,
          "v": -0.785845
         },
         {
          "i": 3.07544e-05,
          "t": 18.3,
          "v": -0.785389
         },
         {
          "i": 3.05441e-05,
          "t": 18.31,
          "v": -0.784839
         },
         {
          "i": 3.0327e-05,
          "t": 18.32,
          "v": -0.784344
         },
         {
          "i": 3.03437e-05,
          "t": 18.33,
          "v": -0.783853
         },
         {
          "i": 3.02369e-05,
          "t": 18.34,
          "v": -0.783341
         },
         {
          "i": 3.04573e-05,
          "t": 18.35,
          "v": -0.78284
         },
         {
          "i": 3.009e-05,
          "t": 18.36,
          "v": -0.782338
         },
         {
          "i": 3.00232e-05,
          "t": 18.37,
          "v": -0.781836
         },
         {
          "i": 2.99364e-05,
          "t": 18.38,
          "v": -0.781345
         },
         {
          "i": 2.96793e-05,
          "t": 18.39,
          "v": -0.780831
         },
         {
          "i": 2.94956e-05,
          "t": 18.4,
          "v": -0.780305
         },
         {
          "i": 2.92619e-05,
          "t": 18.41,
          "v": -0.779932
         },
         {
          "i": 2.92318e-05,
          "t": 18.42,
          "v": -0.779319
         },
         {
          "i": 2.90181e-05,
          "t": 18.43,
          "v": -0.778911
         },
         {
          "i": 2.88712e-05,
          "t": 18.44,
          "v": -0.778429
         },
         {
          "i": 2.88846e-05,
          "t": 18.45,
          "v": -0.77782
         },
         {
          "i": 2.86776e-05,
          "t": 18.46,
          "v": -0.777463
         },
         {
          "i": 2.88378e-05,
          "t": 18.47,
          "v": -0.776884
         },
         {
          "i": 2.8574e-05,
          "t": 18.48,
          "v": -0.776388
         },
         {
          "i": 2.8337e-05,
          "t": 18.49,
          "v": -0.775911
         },
         {
          "i": 2.8327e-05,
          "t": 18.5,
          "v": -0.775319
         },
         {
          "i": 2.83203e-05,
          "t": 18.51,
          "v": -0.774887
         },
         {
          "i": 2.84204e-05,
          "t": 18.52,
          "v": -0.774366
         },
         {
          "i": 2.83203e-05,
          "t": 18.53,
          "v": -0.773842
         },
         {
          "i": 2.816e-05,
          "t": 18.54,
          "v": -0.773423
         },
         {
          "i": 2.80732e-05,
          "t": 18.55,
          "v": -0.772883
         },
         {
          "i": 2.83236e-05,
          "t": 18.56,
          "v": -0.772381
         },
         {
          "i": 2.81867e-05,
          "t": 18.57,
          "v": -0.771902
         },
         {
          "i": 2.80198e-05,
          "t": 18.58,
          "v": -0.771338
         },
         {
          "i": 2.814e-05,
          "t": 18.59,
          "v": -0.770938
         },
         {
          "i": 2.79897e-05,
          "t": 18.6,
          "v": -0.770405
         },
         {
          "i": 2.79864e-05,
          "t": 18.61,
          "v": -0.769857
         },
         {
          "i": 2.7776e-05,
          "t": 18.62,
          "v": -0.769453
         },
         {
          "i": 2.77192e-05,
          "t": 18.63,
          "v": -0.768889
         },
         {
          "i": 2.76525e-05,
          "t": 18.64,
          "v": -0.768397
         },
         {
          "i": 2.77359e-05,
          "t": 18.65,
          "v": -0.767922
         },
         {
          "i": 2.76258e-05,
          "t": 18.66,
          "v": -0.767328
         },
         {
          "i": 2.75723e-05,
          "t": 18.67,
          "v": -0.766885
         },
         {
          "i": 2.76224e-05,
          "t": 18.68,
          "v": -0.766379
         },
         {
          "i": 2.7589e-05,
          "t": 18.69,
          "v": -0.765827
         },
         {
          "i": 2.76324e-05,
          "t": 18.7,
          "v": -0.765384
         },
         {
          "i": 2.75623e-05,
          "t": 18.71,
          "v": -0.764871
         },
         {
          "i": 2.75723e-05,
          "t": 18.72,
          "v": -0.76437
         },
         {
          "i": 2.74254e-05,
          "t": 18.73,
          "v": -0.763851
         },
         {
          "i": 2.74187e-05,
          "t": 18.74,
          "v": -0.763334
         },
         {
          "i": 2.7382e-05,
          "t": 18.75,
          "v": -0.762885
         },
         {
          "i": 2.73954e-05,
          "t": 18.76,
          "v": -0.762345
         },
         {
          "i": 2.72585e-05,
          "t": 18.77,
          "v": -0.761831
         },
         {
          "i": 2.72785e-05,
          "t": 18.78,
          "v": -0.761392
         },
         {
          "i": 2.71349e-05,
          "t": 18.79,
          "v": -0.76083
         },
         {
          "i": 2.71817e-05,
          "t": 18.8,
          "v": -0.760326
         },
         {
          "i": 2.72251e-05,
          "t": 18.81,
          "v": -0.759843
         },
         {
          "i": 2.71349e-05,
          "t": 18.82,
          "v": -0.75932
         },
         {
          "i": 2.71583e-05,
          "t": 18.83,
          "v": -0.758834
         },
         {
          "i": 2.6988e-05,
          "t": 18.84,
          "v": -0.758334
         },
         {
          "i": 2.69813e-05,
          "t": 18.85,
          "v": -0.75782
         },
         {
          "i": 2.69446e-05,
          "t": 18.86,
          "v": -0.757339
         },
         {
          "i": 2.68044e-05,
          "t": 18.87,
          "v": -0.75682
         },
         {
          "i": 2.6801e-05,
          "t": 18.88,
          "v": -0.756328
         },
         {
          "i": 2.66708e-05,
          "t": 18.89,
          "v": -0.755809
         },
         {
          "i": 2.66441e-05,
          "t": 18.9,
          "v": -0.755324
         },
         {
          "i": 2.66241e-05,
          "t": 18.91,
          "v": -0.754873
         },
         {
          "i": 2.65907e-05,
          "t": 18.92,
          "v": -0.754406
         },
         {
          "i": 2.66241e-05,
          "t": 18.93,
          "v": -0.753801
         },
         {
          "i": 2.65306e-05,
          "t": 18.94,
          "v": -0.753422
         },
         {
          "i": 2.65072e-05,
          "t": 18.95,
          "v": -0.752881
         },
         {
          "i": 2.64538e-05,
          "t": 18.96,
          "v": -0.752368
         },
         {
          "i": 2.64738e-05,
          "t": 18.97,
          "v": -0.751912
         },
         {
          "i": 2.63669e-05,
          "t": 18.98,
          "v": -0.751311
         },
         {
          "i": 2.63703e-05,
          "t": 18.99,
          "v": -0.750923
         },
         {
          "i": 2.61699e-05,
          "t": 19,
          "v": -0.750388
         },
         {
          "i": 2.621e-05,
          "t": 19.01,
          "v": -0.749787
         },
         {
          "i": 2.63436e-05,
          "t": 19.02,
          "v": -0.749393
         },
         {
          "i": 2.62067e-05,
          "t": 19.03,
          "v": -0.748829
         },
         {
          "i": 2.60765e-05,
          "t": 19.04,
          "v": -0.748344
         },
         {
          "i": 2.59496e-05,
          "t": 19.05,
          "v": -0.747866
         },
         {
          "i": 2.59496e-05,
          "t": 19.06,
          "v": -0.747317
         },
         {
          "i": 2.60164e-05,
          "t": 19.07,
          "v": -0.746904
         },
         {
          "i": 2.57526e-05,
          "t": 19.08,
          "v": -0.746375
         },
         {
          "i": 2.56824e-05,
          "t": 19.09,
          "v": -0.745821
         },
         {
          "i": 2.55622e-05,
          "t": 19.1,
          "v": -0.745437
         },
         {
          "i": 2.53419e-05,
          "t": 19.11,
          "v": -0.744877
         },
         {
          "i": 2.54487e-05,
          "t": 19.12,
          "v": -0.744355
         },
         {
          "i": 2.51983e-05,
          "t": 19.13,
          "v": -0.7439
         },
         {
          "i": 2.52417e-05,
          "t": 19.14,
          "v": -0.743322
         },
         {
          "i": 2.52317e-05,
          "t": 19.15,
          "v": -0.742891
         },
         {
          "i": 2.51616e-05,
          "t": 19.16,
          "v": -0.742399
         },
         {
          "i": 2.44103e-05,
          "t": 19.17,
          "v": -0.741841
         },
         {
          "i": 2.47442e-05,
          "t": 19.18,
          "v": -0.741401
         },
         {
          "i": 2.46474e-05,
          "t": 19.19,
          "v": -0.740879
         },
         {
          "i": 2.47308e-05,
          "t": 19.2,
          "v": -0.740379
         },
         {
          "i": 2.44871e-05,
          "t": 19.21,
          "v": -0.739876
         },
         {
          "i": 2.45104e-05,
          "t": 19.22,
          "v": -0.739334
         },
         {
          "i": 2.43969e-05,
          "t": 19.23,
          "v": -0.738902
         },
         {
          "i": 2.44771e-05,
          "t": 19.24,
          "v": -0.738368
         },
         {
          "i": 2.43535e-05,
          "t": 19.25,
          "v": -0.737834
         },
         {
          "i": 2.43301e-05,
          "t": 19.26,
          "v": -0.737403
         },
         {
          "i": 2.40096e-05,
          "t": 19.27,
          "v": -0.736859
         },
         {
          "i": 2.39161e-05,
          "t": 19.28,
          "v": -0.736351
         },
         {
          "i": 2.41932e-05,
          "t": 19.29,
          "v": -0.735868
         },
         {
          "i": 2.38593e-05,
          "t": 19.3,
          "v": -0.73533
         },
         {
          "i": 2.34353e-05,
          "t": 19.31,
          "v": -0.734857
         },
         {
          "i": 2.41532e-05,
          "t": 19.32,
          "v": -0.734358
         },
         {
          "i": 2.38326e-05,
          "t": 19.33,
          "v": -0.733833
         },
         {
          "i": 2.34286e-05,
          "t": 19.34,
          "v": -0.733356
         },
         {
          "i": 2.31314e-05,
          "t": 19.35,
          "v": -0.732835
         },
         {
          "i": 2.2881e-05,
          "t": 19.36,
          "v": -0.732356
         },
         {
          "i": 2.33418e-05,
          "t": 19.37,
          "v": -0.731831
         },
         {
          "i": 2.32984e-05,
          "t": 19.38,
          "v": -0.731338
         },
         {
          "i": 2.30046e-05,
          "t": 19.39,
          "v": -0.730889
         },
         {
          "i": 2.32884e-05,
          "t": 19.4,
          "v": -0.730335
         },
         {
          "i": 2.25972e-05,
          "t": 19.41,
          "v": -0.729835
         },
         {
          "i": 2.28376e-05,
          "t": 19.42,
          "v": -0.729391
         },
         {
          "i": 2.28576e-05,
          "t": 19.43,
          "v": -0.728893
         },
         {
          "i": 2.26005e-05,
          "t": 19.44,
          "v": -0.728428
         },
         {
          "i": 2.28977e-05,
          "t": 19.45,
          "v": -0.727935
         },
         {
          "i": 2.27274e-05,
          "t": 19.46,
          "v": -0.727308
         },
         {
          "i": 2.24736e-05,
          "t": 19.47,
          "v": -0.726939
         },
         {
          "i": 2.18192e-05,
          "t": 19.48,
          "v": -0.726423
         },
         {
          "i": 2.19327e-05,
          "t": 19.49,
          "v": -0.725786
         },
         {
          "i": 2.16823e-05,
          "t": 19.5,
          "v": -0.725412
         },
         {
          "i": 2.18326e-05,
          "t": 19.51,
          "v": -0.724877
         },
         {
          "i": 2.17257e-05,
          "t": 19.52,
          "v": -0.724363
         },
         {
          "i": 2.19861e-05,
          "t": 19.53,
          "v": -0.723867
         },
         {
          "i": 2.16255e-05,
          "t": 19.54,
          "v": -0.723318
         },
         {
          "i": 2.16189e-05,
          "t": 19.55,
          "v": -0.722935
         },
         {
          "i": 2.16756e-05,
          "t": 19.56,
          "v": -0.722355
         },
         {
          "i": 2.14419e-05,
          "t": 19.57,
          "v": -0.721823
         },
         {
          "i": 2.11046e-05,
          "t": 19.58,
          "v": -0.721441
         },
         {
          "i": 2.13016e-05,
          "t": 19.59,
          "v": -0.720877
         },
         {
          "i": 2.10245e-05,
          "t": 19.6,
          "v": -0.720369
         },
         {
          "i": 2.08175e-05,
          "t": 19.61,
          "v": -0.719913
         },
         {
          "i": 2.11247e-05,
          "t": 19.62,
          "v": -0.719331
         },
         {
          "i": 2.09945e-05,
          "t": 19.63,
          "v": -0.718901
         },
         {
          "i": 2.08008e-05,
          "t": 19.64,
          "v": -0.718414
         },
         {
          "i": 2.10846e-05,
          "t": 19.65,
          "v": -0.717846
         },
         {
          "i": 2.09778e-05,
          "t": 19.66,
          "v": -0.717419
         },
         {
          "i": 2.0901e-05,
          "t": 19.67,
          "v": -0.716888
         },
         {
          "i": 2.10946e-05,
          "t": 19.68,
          "v": -0.716372
         },
         {
          "i": 2.10779e-05,
          "t": 19.69,
          "v": -0.71587
         },
         {
          "i": 2.12382e-05,
          "t": 19.7,
          "v": -0.715319
         },
         {
          "i": 2.09811e-05,
          "t": 19.71,
          "v": -0.714901
         },
         {
          "i": 2.13417e-05,
          "t": 19.72,
          "v": -0.714371
         },
         {
          "i": 2.0911e-05,
          "t": 19.73,
          "v": -0.713825
         },
         {
          "i": 2.08542e-05,
          "t": 19.74,
          "v": -0.713413
         },
         {
          "i": 2.07207e-05,
          "t": 19.75,
          "v": -0.712856
         },
         {
          "i": 2.04335e-05,
          "t": 19.76,
          "v": -0.712349
         },
         {
          "i": 2.06472e-05,
          "t": 19.77,
          "v": -0.711874
         },
         {
          "i": 2.032e-05,
          "t": 19.78,
          "v": -0.711326
         },
         {
          "i": 2.02098e-05,
          "t": 19.79,
          "v": -0.710853
         },
         {
          "i": 2.02999e-05,
          "t": 19.8,
          "v": -0.710358
         },
         {
          "i": 2.01731e-05,
          "t": 19.81,
          "v": -0.709846
         },
         {
          "i": 2.01898e-05,
          "t": 19.82,
          "v": -0.709352
         },
         {
          "i": 1.98258e-05,
          "t": 19.83,
          "v": -0.70883
         },
         {
          "i": 1.99427e-05,
          "t": 19.84,
          "v": -0.708342
         },
         {
          "i": 1.99994e-05,
          "t": 19.85,
          "v": -0.707827
         },
         {
          "i": 2.0143e-05,
          "t": 19.86,
          "v": -0.707327
         },
         {
          "i": 1.98392e-05,
          "t": 19.87,
          "v": -0.706867
         },
         {
          "i": 1.96588e-05,
          "t": 19.88,
          "v": -0.70633
         },
         {
          "i": 1.95854e-05,
          "t": 19.89,
          "v": -0.70582
         },
         {
          "i": 1.96021e-05,
          "t": 19.9,
          "v": -0.705378
         },
         {
          "i": 1.96555e-05,
          "t": 19.91,
          "v": -0.704825
         },
         {
          "i": 1.97323e-05,
          "t": 19.92,
          "v": -0.704334
         },
         {
          "i": 1.94652e-05,
          "t": 19.93,
          "v": -0.703831
         },
         {
          "i": 1.9562e-05,
          "t": 19.94,
          "v": -0.703305
         },
         {
          "i": 1.94485e-05,
          "t": 19.95,
          "v": -0.702973
         },
         {
          "i": 1.92749e-05,
          "t": 19.96,
          "v": -0.702437
         },
         {
          "i": 1.92515e-05,
          "t": 19.97,
          "v": -0.701758
         },
         {
          "i": 1.91146e-05,
          "t": 19.98,
          "v": -0.701442
         },
         {
          "i": 1.91914e-05,
          "t": 19.99,
          "v": -0.700892
         },
         {
          "i": 1.9365e-05,
          "t": 20,
          "v": -0.700372
         },
         {
          "i": 1.93383e-05,
          "t": 20.01,
          "v": -0.699886
         },
         {
          "i": 1.92982e-05,
          "t": 20.02,
          "v": -0.699312
         },
         {
          "i": 1.90411e-05,
          "t": 20.03,
          "v": -0.69893
         },
         {
          "i": 1.9178e-05,
          "t": 20.04,
          "v": -0.698365
         },
         {
          "i": 1.90845e-05,
          "t": 20.05,
          "v": -0.697822
         },
         {
          "i": 1.88541e-05,
          "t": 20.06,
          "v": -0.69743
         },
         {
          "i": 1.87306e-05,
          "t": 20.07,
          "v": -0.696861
         },
         {
          "i": 1.88041e-05,
          "t": 20.08,
          "v": -0.696369
         },
         {
          "i": 1.8567e-05,
          "t": 20.09,
          "v": -0.695901
         },
         {
          "i": 1.86738e-05,
          "t": 20.1,
          "v": -0.695322
         },
         {
          "i": 1.87373e-05,
          "t": 20.11,
          "v": -0.694911
         },
         {
          "i": 1.86538e-05,
          "t": 20.12,
          "v": -0.694407
         },
         {
          "i": 1.83833e-05,
          "t": 20.13,
          "v": -0.693829
         },
         {
          "i": 1.86738e-05,
          "t": 20.14,
          "v": -0.693411
         },
         {
          "i": 1.85169e-05,
          "t": 20.15,
          "v": -0.692887
         },
         {
          "i": 1.85303e-05,
          "t": 20.16,
          "v": -0.692384
         },
         {
          "i": 1.86137e-05,
          "t": 20.17,
          "v": -0.691902
         },
         {
          "i": 1.86338e-05,
          "t": 20.18,
          "v": -0.691335
         },
         {
          "i": 1.838e-05,
          "t": 20.19,
          "v": -0.690927
         },
         {
          "i": 1.85803e-05,
          "t": 20.2,
          "v": -0.69042
         },
         {
          "i": 1.84935e-05,
          "t": 20.21,
          "v": -0.689846
         },
         {
          "i": 1.84601e-05,
          "t": 20.22,
          "v": -0.689431
         },
         {
          "i": 1.82765e-05,
          "t": 20.23,
          "v": -0.688889
         },
         {
          "i": 1.8163e-05,
          "t": 20.24,
          "v": -0.688383
         },
         {
          "i": 1.82264e-05,
          "t": 20.25,
          "v": -0.68792
         },
         {
          "i": 1.82231e-05,
          "t": 20.26,
          "v": -0.68735
         },
         {
          "i": 1.8173e-05,
          "t": 20.27,
          "v": -0.686891
         },
         {
          "i": 1.83366e-05,
          "t": 20.28,
          "v": -0.68639
         },
         {
          "i": 1.85102e-05,
          "t": 20.29,
          "v": -0.685856
         },
         {
          "i": 1.84334e-05,
          "t": 20.3,
          "v": -0.685384
         },
         {
          "i": 1.79393e-05,
          "t": 20.31,
          "v": -0.684861
         },
         {
          "i": 1.81496e-05,
          "t": 20.32,
          "v": -0.684384
         },
         {
          "i": 1.8203e-05,
          "t": 20.33,
          "v": -0.683849
         },
         {
          "i": 1.81663e-05,
          "t": 20.34,
          "v": -0.683339
         },
         {
          "i": 1.81463e-05,
          "t": 20.35,
          "v": -0.682891
         },
         {
          "i": 1.79526e-05,
          "t": 20.36,
          "v": -0.682351
         },
         {
          "i": 1.78725e-05,
          "t": 20.37,
          "v": -0.681839
         },
         {
          "i": 1.77389e-05,
          "t": 20.38,
          "v": -0.681395
         },
         {
          "i": 1.78825e-05,
          "t": 20.39,
          "v": -0.680847
         },
         {
          "i": 1.77957e-05,
          "t": 20.4,
          "v": -0.680345
         },
         {
          "i": 1.74017e-05,
          "t": 20.41,
          "v": -0.679844
         },
         {
          "i": 1.74885e-05,
          "t": 20.42,
          "v": -0.679343
         },
         {
          "i": 1.71813e-05,
          "t": 20.43,
          "v": -0.678851
         },
         {
          "i": 1.69743e-05,
          "t": 20.44,
          "v": -0.678345
         },
         {
          "i": 1.70444e-05,
          "t": 20.45,
          "v": -0.677752
         },
         {
          "i": 1.69075e-05,
          "t": 20.46,
          "v": -0.677464
         },
         {
          "i": 1.70477e-05,
          "t": 20.47,
          "v": -0.676894
         },
         {
          "i": 1.70477e-05,
          "t": 20.48,
          "v": -0.676368
         },
         {
          "i": 1.68374e-05,
          "t": 20.49,
          "v": -0.675939
         },
         {
          "i": 1.69142e-05,
          "t": 20.5,
          "v": -0.675319
         },
         {
          "i": 1.66203e-05,
          "t": 20.51,
          "v": -0.674956
         },
         {
          "i": 1.69008e-05,
          "t": 20.52,
          "v": -0.674412
         },
         {
          "i": 1.66771e-05,
          "t": 20.53,
          "v": -0.67382
         },
         {
          "i": 1.65703e-05,
          "t": 20.54,
          "v": -0.673454
         },
         {
          "i": 1.6597e-05,
          "t": 20.55,
          "v": -0.672872
         },
         {
          "i": 1.63432e-05,
          "t": 20.56,
          "v": -0.672363
         },
         {
          "i": 1.67138e-05,
          "t": 20.57,
          "v": -0.67188
         },
         {
          "i": 1.6627e-05,
          "t": 20.58,
          "v": -0.671338
         },
         {
          "i": 1.66804e-05,
          "t": 20.59,
          "v": -0.670933
         },
         {
          "i": 1.64467e-05,
          "t": 20.6,
          "v": -0.670412
         },
         {
          "i": 1.69542e-05,
          "t": 20.61,
          "v": -0.669855
         },
         {
          "i": 1.63966e-05,
          "t": 20.62,
          "v": -0.669429
         },
         {
          "i": 1.65536e-05,
          "t": 20.63,
          "v": -0.668891
         },
         {
          "i": 1.66003e-05,
          "t": 20.64,
          "v": -0.668403
         },
         {
          "i": 1.65202e-05,
          "t": 20.65,
          "v": -0.667906
         },
         {
          "i": 1.66804e-05,
          "t": 20.66,
          "v": -0.667348
         },
         {
          "i": 1.63499e-05,
          "t": 20.67,
          "v": -0.666931
         },
         {
          "i": 1.62364e-05,
          "t": 20.68,
          "v": -0.666409
         },
         {
          "i": 1.62397e-05,
          "t": 20.69,
          "v": -0.665872
         },
         {
          "i": 1.60093e-05,
          "t": 20.7,
          "v": -0.665452
         },
         {
          "i": 1.61495e-05,
          "t": 20.71,
          "v": -0.664865
         },
         {
          "i": 1.61228e-05,
          "t": 20.72,
          "v": -0.664344
         },
         {
          "i": 1.59959e-05,
          "t": 20.73,
          "v": -0.663891
         },
         {
          "i": 1.62764e-05,
          "t": 20.74,
          "v": -0.663328
         },
         {
          "i": 1.58958e-05,
          "t": 20.75,
          "v": -0.662879
         },
         {
          "i": 1.58691e-05,
          "t": 20.76,
          "v": -0.662386
         },
         {
          "i": 1.57889e-05,
          "t": 20.77,
          "v": -0.661839
         },
         {
          "i": 1.6056e-05,
          "t": 20.78,
          "v": -0.661377
         },
         {
          "i": 1.57689e-05,
          "t": 20.79,
          "v": -0.660853
         },
         {
          "i": 1.55318e-05,
          "t": 20.8,
          "v": -0.660356
         },
         {
          "i": 1.56019e-05,
          "t": 20.81,
          "v": -0.65985
         },
         {
          "i": 1.55953e-05,
          "t": 20.82,
          "v": -0.659325
         },
         {
          "i": 1.54951e-05,
          "t": 20.83,
          "v": -0.658889
         },
         {
          "i": 1.55719e-05,
          "t": 20.84,
          "v": -0.658336
         },
         {
          "i": 1.57422e-05,
          "t": 20.85,
          "v": -0.657825
         },
         {
          "i": 1.5632e-05,
          "t": 20.86,
          "v": -0.657387
         },
         {
          "i": 1.55552e-05,
          "t": 20.87,
          "v": -0.656827
         },
         {
          "i": 1.56286e-05,
          "t": 20.88,
          "v": -0.656329
         },
         {
          "i": 1.56286e-05,
          "t": 20.89,
          "v": -0.65584
         },
         {
          "i": 1.54884e-05,
          "t": 20.9,
          "v": -0.655327
         },
         {
          "i": 1.5612e-05,
          "t": 20.91,
          "v": -0.654829
         },
         {
          "i": 1.56988e-05,
          "t": 20.92,
          "v": -0.654336
         },
         {
          "i": 1.55084e-05,
          "t": 20.93,
          "v": -0.65382
         },
         {
          "i": 1.53448e-05,
          "t": 20.94,
          "v": -0.653334
         },
         {
          "i": 1.5455e-05,
          "t": 20.95,
          "v": -0.652824
         },
         {
          "i": 1.56487e-05,
          "t": 20.96,
          "v": -0.652287
         },
         {
          "i": 1.60026e-05,
          "t": 20.97,
          "v": -0.651921
         },
         {
          "i": 1.57221e-05,
          "t": 20.98,
          "v": -0.65131
         },
         {
          "i": 1.55218e-05,
          "t": 20.99,
          "v": -0.65091
         },
         {
          "i": 1.53582e-05,
          "t": 21,
          "v": -0.650422
         },
         {
          "i": 1.55786e-05,
          "t": 21.01,
          "v": -0.649809
         },
         {
          "i": 1.55752e-05,
          "t": 21.02,
          "v": -0.649446
         },
         {
          "i": 1.54483e-05,
          "t": 21.03,
          "v": -0.648882
         },
         {
          "i": 1.53749e-05,
          "t": 21.04,
          "v": -0.648374
         },
         {
          "i": 1.52847e-05,
          "t": 21.05,
          "v": -0.647905
         },
         {
          "i": 1.55118e-05,
          "t": 21.06,
          "v": -0.647314
         },
         {
          "i": 1.52914e-05,
          "t": 21.07,
          "v": -0.646865
         },
         {
          "i": 1.53649e-05,
          "t": 21.08,
          "v": -0.646347
         },
         {
          "i": 1.53882e-05,
          "t": 21.09,
          "v": -0.645815
         },
         {
          "i": 1.51645e-05,
          "t": 21.1,
          "v": -0.645396
         },
         {
          "i": 1.52847e-05,
          "t": 21.11,
          "v": -0.644868
         },
         {
          "i": 1.50844e-05,
          "t": 21.12,
          "v": -0.644353
         },
         {
          "i": 1.49408e-05,
          "t": 21.13,
          "v": -0.643879
         },
         {
          "i": 1.48072e-05,
          "t": 21.14,
          "v": -0.643324
         },
         {
          "i": 1.50777e-05,
          "t": 21.15,
          "v": -0.6429
         },
         {
          "i": 1.52046e-05,
          "t": 21.16,
          "v": -0.642378
         },
         {
          "i": 1.51144e-05,
          "t": 21.17,
          "v": -0.641835
         },
         {
          "i": 1.50477e-05,
          "t": 21.18,
          "v": -0.64142
         },
         {
          "i": 1.51111e-05,
          "t": 21.19,
          "v": -0.640868
         },
         {
          "i": 1.52881e-05,
          "t": 21.2,
          "v": -0.64036
         },
         {
          "i": 1.50677e-05,
          "t": 21.21,
          "v": -0.639911
         },
         {
          "i": 1.51512e-05,
          "t": 21.22,
          "v": -0.639334
         },
         {
          "i": 1.49308e-05,
          "t": 21.23,
          "v": -0.638902
         },
         {
          "i": 1.46269e-05,
          "t": 21.24,
          "v": -0.638397
         },
         {
          "i": 1.4844e-05,
          "t": 21.25,
          "v": -0.637852
         },
         {
          "i": 1.50543e-05,
          "t": 21.26,
          "v": -0.6374
         },
         {
          "i": 1.49976e-05,
          "t": 21.27,
          "v": -0.63688
         },
         {
          "i": 1.50811e-05,
          "t": 21.28,
          "v": -0.636385
         },
         {
          "i": 1.46102e-05,
          "t": 21.29,
          "v": -0.63587
         },
         {
          "i": 1.48473e-05,
          "t": 21.3,
          "v": -0.635341
         },
         {
          "i": 1.47138e-05,
          "t": 21.31,
          "v": -0.634896
         },
         {
          "i": 1.47271e-05,
          "t": 21.32,
          "v": -0.634371
         },
         {
          "i": 1.49208e-05,
          "t": 21.33,
          "v": -0.633846
         },
         {
          "i": 1.48507e-05,
          "t": 21.34,
          "v": -0.633406
         },
         {
          "i": 1.4864e-05,
          "t": 21.35,
          "v": -0.632847
         },
         {
          "i": 1.51745e-05,
          "t": 21.36,
          "v": -0.632361
         },
         {
          "i": 1.47972e-05,
          "t": 21.37,
          "v": -0.631862
         },
         {
          "i": 1.47772e-05,
          "t": 21.38,
          "v": -0.631347
         },
         {
          "i": 1.45902e-05,
          "t": 21.39,
          "v": -0.630847
         },
         {
          "i": 1.46069e-05,
          "t": 21.4,
          "v": -0.630357
         },
         {
          "i": 1.46236e-05,
          "t": 21.41,
          "v": -0.629841
         },
         {
          "i": 1.48907e-05,
          "t": 21.42,
          "v": -0.629354
         },
         {
          "i": 1.48072e-05,
          "t": 21.43,
          "v": -0.628834
         },
         {
          "i": 1.47538e-05,
          "t": 21.44,
          "v": -0.628363
         },
         {
          "i": 1.48373e-05,
          "t": 21.45,
          "v": -0.627836
         },
         {
          "i": 1.48941e-05,
          "t": 21.46,
          "v": -0.627339
         },
         {
          "i": 1.46269e-05,
          "t": 21.47,
          "v": -0.626916
         },
         {
          "i": 1.44333e-05,
          "t": 21.48,
          "v": -0.62644
         },
         {
          "i": 1.41762e-05,
          "t": 21.49,
          "v": -0.62584
         },
         {
          "i": 1.4263e-05,
          "t": 21.5,
          "v": -0.625451
         },
         {
          "i": 1.43031e-05,
          "t": 21.51,
          "v": -0.624895
         },
         {
          "i": 1.43498e-05,
          "t": 21.52,
          "v": -0.624428
         },
         {
          "i": 1.46971e-05,
          "t": 21.53,
          "v": -0.623935
         },
         {
          "i": 1.45702e-05,
          "t": 21.54,
          "v": -0.623315
         },
         {
          "i": 1.43398e-05,
          "t": 21.55,
          "v": -0.622939
         },
         {
          "i": 1.445e-05,
          "t": 21.56,
          "v": -0.622416
         },
         {
          "i": 1.41228e-05,
          "t": 21.57,
          "v": -0.621826
         },
         {
          "i": 1.41762e-05,
          "t": 21.58,
          "v": -0.621415
         },
         {
          "i": 1.42062e-05,
          "t": 21.59,
          "v": -0.620852
         },
         {
          "i": 1.42162e-05,
          "t": 21.6,
          "v": -0.62038
         },
         {
          "i": 1.39525e-05,
          "t": 21.61,
          "v": -0.619854
         },
         {
          "i": 1.4076e-05,
          "t": 21.62,
          "v": -0.619333
         },
         {
          "i": 1.39825e-05,
          "t": 21.63,
          "v": -0.618931
         },
         {
          "i": 1.41728e-05,
          "t": 21.64,
          "v": -0.618394
         },
         {
          "i": 1.39658e-05,
          "t": 21.65,
          "v": -0.617846
         },
         {
          "i": 1.40493e-05,
          "t": 21.66,
          "v": -0.617446
         },
         {
          "i": 1.38256e-05,
          "t": 21.67,
          "v": -0.616883
         },
         {
          "i": 1.37955e-05,
          "t": 21.68,
          "v": -0.61639
         },
         {
          "i": 1.37421e-05,
          "t": 21.69,
          "v": -0.615915
         },
         {
          "i": 1.38456e-05,
          "t": 21.7,
          "v": -0.615344
         },
         {
          "i": 1.37488e-05,
          "t": 21.71,
          "v": -0.614928
         },
         {
          "i": 1.37388e-05,
          "t": 21.72,
          "v": -0.614431
         },
         {
          "i": 1.35251e-05,
          "t": 21.73,
          "v": -0.61385
         },
         {
          "i": 1.36319e-05,
          "t": 21.74,
          "v": -0.613405
         },
         {
          "i": 1.36787e-05,
          "t": 21.75,
          "v": -0.612878
         },
         {
          "i": 1.38323e-05,
          "t": 21.76,
          "v": -0.612392
         },
         {
          "i": 1.36586e-05,
          "t": 21.77,
          "v": -0.611875
         },
         {
          "i": 1.35618e-05,
          "t": 21.78,
          "v": -0.611336
         },
         {
          "i": 1.35484e-05,
          "t": 21.79,
          "v": -0.610913
         },
         {
          "i": 1.36152e-05,
          "t": 21.8,
          "v": -0.610383
         },
         {
          "i": 1.36186e-05,
          "t": 21.81,
          "v": -0.60985
         },
         {
          "i": 1.35451e-05,
          "t": 21.82,
          "v": -0.609408
         },
         {
          "i": 1.34316e-05,
          "t": 21.83,
          "v": -0.60885
         },
         {
          "i": 1.35518e-05,
          "t": 21.84,
          "v": -0.60836
         },
         {
          "i": 1.33014e-05,
          "t": 21.85,
          "v": -0.607876
         },
         {
          "i": 1.32379e-05,
          "t": 21.86,
          "v": -0.607338
         },
         {
          "i": 1.33281e-05,
          "t": 21.87,
          "v": -0.60687
         },
         {
          "i": 1.33848e-05,
          "t": 21.88,
          "v": -0.60636
         },
         {
          "i": 1.34549e-05,
          "t": 21.89,
          "v": -0.605847
         },
         {
          "i": 1.31544e-05,
          "t": 21.9,
          "v": -0.605362
         },
         {
          "i": 1.3308e-05,
          "t": 21.91,
          "v": -0.604842
         },
         {
          "i": 1.3111e-05,
          "t": 21.92,
          "v": -0.604374
         },
         {
          "i": 1.32813e-05,
          "t": 21.93,
          "v": -0.603836
         },
         {
          "i": 1.29875e-05,
          "t": 21.94,
          "v": -0.603353
         },
         {
          "i": 1.3268e-05,
          "t": 21.95,
          "v": -0.602901
         },
         {
          "i": 1.30543e-05,
          "t": 21.96,
          "v": -0.602347
         },
         {
          "i": 1.29808e-05,
          "t": 21.97,
          "v": -0.601838
         },
         {
          "i": 1.30142e-05,
          "t": 21.98,
          "v": -0.601399
         },
         {
          "i": 1.31645e-05,
          "t": 21.99,
          "v": -0.600897
         },
         {
          "i": 1.29641e-05,
          "t": 22,
          "v": -0.600437
         },
         {
          "i": 1.27204e-05,
          "t": 22.01,
          "v": -0.599954
         },
         {
          "i": 1.28406e-05,
          "t": 22.02,
          "v": -0.599311
         },
         {
          "i": 1.28673e-05,
          "t": 22.03,
          "v": -0.598978
         },
         {
          "i": 1.2697e-05,
          "t": 22.04,
          "v": -0.598449
         },
         {
          "i": 1.28072e-05,
          "t": 22.05,
          "v": -0.597796
         },
         {
          "i": 1.28606e-05,
          "t": 22.06,
          "v": -0.597434
         },
         {
          "i": 1.27871e-05,
          "t": 22.07,
          "v": -0.59689
         },
         {
          "i": 1.27738e-05,
          "t": 22.08,
          "v": -0.596408
         },
         {
          "i": 1.27471e-05,
          "t": 22.09,
          "v": -0.595902
         },
         {
          "i": 1.26169e-05,
          "t": 22.1,
          "v": -0.595337
         },
         {
          "i": 1.25401e-05,
          "t": 22.11,
          "v": -0.594945
         },
         {
          "i": 1.26569e-05,
          "t": 22.12,
          "v": -0.594362
         },
         {
          "i": 1.28573e-05,
          "t": 22.13,
          "v": -0.593831
         },
         {
          "i": 1.25234e-05,
          "t": 22.14,
          "v": -0.593451
         },
         {
          "i": 1.253e-05,
          "t": 22.15,
          "v": -0.592883
         },
         {
          "i": 1.23698e-05,
          "t": 22.16,
          "v": -0.59239
         },
         {
          "i": 1.23664e-05,
          "t": 22.17,
          "v": -0.59193
         },
         {
          "i": 1.25401e-05,
          "t": 22.18,
          "v": -0.591331
         },
         {
          "i": 1.25768e-05,
          "t": 22.19,
          "v": -0.590927
         },
         {
          "i": 1.25133e-05,
          "t": 22.2,
          "v": -0.59043
         },
         {
          "i": 1.25534e-05,
          "t": 22.21,
          "v": -0.589848
         },
         {
          "i": 1.26335e-05,
          "t": 22.22,
          "v": -0.589431
         },
         {
          "i": 1.26002e-05,
          "t": 22.23,
          "v": -0.588901
         },
         {
          "i": 1.26569e-05,
          "t": 22.24,
          "v": -0.588429
         },
         {
          "i": 1.25334e-05,
          "t": 22.25,
          "v": -0.587925
         },
         {
          "i": 1.23464e-05,
          "t": 22.26,
          "v": -0.587342
         },
         {
          "i": 1.23865e-05,
          "t": 22.27,
          "v": -0.586949
         },
         {
          "i": 1.22963e-05,
          "t": 22.28,
          "v": -0.58643
         },
         {
          "i": 1.22429e-05,
          "t": 22.29,
          "v": -0.585877
         },
         {
          "i": 1.24198e-05,
          "t": 22.3,
          "v": -0.585452
         },
         {
          "i": 1.23431e-05,
          "t": 22.31,
          "v": -0.584889
         },
         {
          "i": 1.24032e-05,
          "t": 22.32,
          "v": -0.584389
         },
         {
          "i": 1.25401e-05,
          "t": 22.33,
          "v": -0.583918
         },
         {
          "i": 1.25e-05,
          "t": 22.34,
          "v": -0.583365
         },
         {
          "i": 1.25234e-05,
          "t": 22.35,
          "v": -0.582894
         },
         {
          "i": 1.25901e-05,
          "t": 22.36,
          "v": -0.582395
         },
         {
          "i": 1.24633e-05,
          "t": 22.37,
          "v": -0.581875
         },
         {
          "i": 1.23698e-05,
          "t": 22.38,
          "v": -0.581383
         },
         {
          "i": 1.25367e-05,
          "t": 22.39,
          "v": -0.580862
         },
         {
          "i": 1.23531e-05,
          "t": 22.4,
          "v": -0.580393
         },
         {
          "i": 1.23898e-05,
          "t": 22.41,
          "v": -0.579863
         },
         {
          "i": 1.23631e-05,
          "t": 22.42,
          "v": -0.579359
         },
         {
          "i": 1.21995e-05,
          "t": 22.43,
          "v": -0.57894
         },
         {
          "i": 1.23264e-05,
          "t": 22.44,
          "v": -0.57837
         },
         {
          "i": 1.22562e-05,
          "t": 22.45,
          "v": -0.577854
         },
         {
          "i": 1.21761e-05,
          "t": 22.46,
          "v": -0.577402
         },
         {
          "i": 1.21995e-05,
          "t": 22.47,
          "v": -0.576849
         },
         {
          "i": 1.22596e-05,
          "t": 22.48,
          "v": -0.576365
         },
         {
          "i": 1.2333e-05,
          "t": 22.49,
          "v": -0.575858
         },
         {
          "i": 1.2303e-05,
          "t": 22.5,
          "v": -0.575313
         },
         {
          "i": 1.22329e-05,
          "t": 22.51,
          "v": -0.575002
         },
         {
          "i": 1.21661e-05,
          "t": 22.52,
          "v": -0.574469
         },
         {
          "i": 1.22295e-05,
          "t": 22.53,
          "v": -0.573784
         },
         {
          "i": 1.22295e-05,
          "t": 22.54,
          "v": -0.573466
         },
         {
          "i": 1.21728e-05,
          "t": 22.55,
          "v": -0.572903
         },
         {
          "i": 1.21861e-05,
          "t": 22.56,
          "v": -0.572424
         },
         {
          "i": 1.21694e-05,
          "t": 22.57,
          "v": -0.571917
         },
         {
          "i": 1.20693e-05,
          "t": 22.58,
          "v": -0.571335
         },
         {
          "i": 1.21995e-05,
          "t": 22.59,
          "v": -0.570991
         },
         {
          "i": 1.20793e-05,
          "t": 22.6,
          "v": -0.570392
         },
         {
          "i": 1.21093e-05,
          "t": 22.61,
          "v": -0.569858
         },
         {
          "i": 1.22062e-05,
          "t": 22.62,
          "v": -0.569436
         },
         {
          "i": 1.21895e-05,
          "t": 22.63,
          "v": -0.568874
         },
         {
          "i": 1.20759e-05,
          "t": 22.64,
          "v": -0.568402
         },
         {
          "i": 1.21594e-05,
          "t": 22.65,
          "v": -0.567922
         },
         {
          "i": 1.20726e-05,
          "t": 22.66,
          "v": -0.567337
         },
         {
          "i": 1.20058e-05,
          "t": 22.67,
          "v": -0.566932
         },
         {
          "i": 1.21895e-05,
          "t": 22.68,
          "v": -0.56643
         },
         {
          "i": 1.21026e-05,
          "t": 22.69,
          "v": -0.56586
         },
         {
          "i": 1.20325e-05,
          "t": 22.7,
          "v": -0.565429
         },
         {
          "i": 1.21861e-05,
          "t": 22.71,
          "v": -0.564895
         },
         {
          "i": 1.21294e-05,
          "t": 22.72,
          "v": -0.564423
         },
         {
          "i": 1.19824e-05,
          "t": 22.73,
          "v": -0.563917
         },
         {
          "i": 1.19791e-05,
          "t": 22.74,
          "v": -0.56335
         },
         {
          "i": 1.19925e-05,
          "t": 22.75,
          "v": -0.562953
         },
         {
          "i": 1.18956e-05,
          "t": 22.76,
          "v": -0.562384
         },
         {
          "i": 1.18656e-05,
          "t": 22.77,
          "v": -0.56182
         },
         {
          "i": 1.1929e-05,
          "t": 22.78,
          "v": -0.561427
         },
         {
          "i": 1.20192e-05,
          "t": 22.79,
          "v": -0.560869
         },
         {
          "i": 1.1929e-05,
          "t": 22.8,
          "v": -0.560362
         },
         {
          "i": 1.18923e-05,
          "t": 22.81,
          "v": -0.559903
         },
         {
          "i": 1.17721e-05,
          "t": 22.82,
          "v": -0.559333
         },
         {
          "i": 1.17153e-05,
          "t": 22.83,
          "v": -0.558887
         },
         {
          "i": 1.17287e-05,
          "t": 22.84,
          "v": -0.558373
         },
         {
          "i": 1.15951e-05,
          "t": 22.85,
          "v": -0.557846
         },
         {
          "i": 1.18155e-05,
          "t": 22.86,
          "v": -0.557376
         },
         {
          "i": 1.17287e-05,
          "t": 22.87,
          "v": -0.556853
         },
         {
          "i": 1.16552e-05,
          "t": 22.88,
          "v": -0.556363
         },
         {
          "i": 1.16218e-05,
          "t": 22.89,
          "v": -0.555832
         },
         {
          "i": 1.18055e-05,
          "t": 22.9,
          "v": -0.555335
         },
         {
          "i": 1.16185e-05,
          "t": 22.91,
          "v": -0.554886
         },
         {
          "i": 1.15784e-05,
          "t": 22.92,
          "v": -0.554338
         },
         {
          "i": 1.17187e-05,
          "t": 22.93,
          "v": -0.553829
         },
         {
          "i": 1.15884e-05,
          "t": 22.94,
          "v": -0.553389
         },
         {
          "i": 1.15383e-05,
          "t": 22.95,
          "v": -0.552824
         },
         {
          "i": 1.14716e-05,
          "t": 22.96,
          "v": -0.55233
         },
         {
          "i": 1.15484e-05,
          "t": 22.97,
          "v": -0.551843
         },
         {
          "i": 1.14482e-05,
          "t": 22.98,
          "v": -0.551341
         },
         {
          "i": 1.15984e-05,
          "t": 22.99,
          "v": -0.550843
         },
         {
          "i": 1.15951e-05,
          "t": 23,
          "v": -0.550338
         },
         {
          "i": 1.14749e-05,
          "t": 23.01,
          "v": -0.549748
         },
         {
          "i": 1.14782e-05,
          "t": 23.02,
          "v": -0.549464
         },
         {
          "i": 1.15818e-05,
          "t": 23.03,
          "v": -0.548896
         },
         {
          "i": 1.15216e-05,
          "t": 23.04,
          "v": -0.548366
         },
         {
          "i": 1.1348e-05,
          "t": 23.05,
          "v": -0.547918
         },
         {
          "i": 1.14348e-05,
          "t": 23.06,
          "v": -0.547319
         },
         {
          "i": 1.14983e-05,
          "t": 23.07,
          "v": -0.546985
         },
         {
          "i": 1.15717e-05,
          "t": 23.08,
          "v": -0.546397
         },
         {
          "i": 1.13447e-05,
          "t": 23.09,
          "v": -0.545833
         },
         {
          "i": 1.15717e-05,
          "t": 23.1,
          "v": -0.54547
         },
         {
          "i": 1.14014e-05,
          "t": 23.11,
          "v": -0.544879
         },
         {
          "i": 1.15517e-05,
          "t": 23.12,
          "v": -0.544351
         },
         {
          "i": 1.15216e-05,
          "t": 23.13,
          "v": -0.543877
         },
         {
          "i": 1.1545e-05,
          "t": 23.14,
          "v": -0.543329
         },
         {
          "i": 1.1525e-05,
          "t": 23.15,
          "v": -0.542906
         },
         {
          "i": 1.14816e-05,
          "t": 23.16,
          "v": -0.542392
         },
         {
          "i": 1.13881e-05,
          "t": 23.17,
          "v": -0.541835
         },
         {
          "i": 1.14582e-05,
          "t": 23.18,
          "v": -0.54142
         },
         {
          "i": 1.14682e-05,
          "t": 23.19,
          "v": -0.540886
         },
         {
          "i": 1.14248e-05,
          "t": 23.2,
          "v": -0.540389
         },
         {
          "i": 1.14348e-05,
          "t": 23.21,
          "v": -0.539899
         },
         {
          "i": 1.13447e-05,
          "t": 23.22,
          "v": -0.539338
         },
         {
          "i": 1.12645e-05,
          "t": 23.23,
          "v": -0.53895
         },
         {
          "i": 1.13046e-05,
          "t": 23.24,
          "v": -0.538397
         },
         {
          "i": 1.13714e-05,
          "t": 23.25,
          "v": -0.537862
         },
         {
          "i": 1.1308e-05,
          "t": 23.26,
          "v": -0.537468
         },
         {
          "i": 1.13981e-05,
          "t": 23.27,
          "v": -0.536887
         },
         {
          "i": 1.14549e-05,
          "t": 23.28,
          "v": -0.536383
         },
         {
          "i": 1.1308e-05,
          "t": 23.29,
          "v": -0.535921
         },
         {
          "i": 1.13848e-05,
          "t": 23.3,
          "v": -0.535342
         },
         {
          "i": 1.13146e-05,
          "t": 23.31,
          "v": -0.534917
         },
         {
          "i": 1.1308e-05,
          "t": 23.32,
          "v": -0.53441
         },
         {
          "i": 1.14315e-05,
          "t": 23.33,
          "v": -0.533873
         },
         {
          "i": 1.13547e-05,
          "t": 23.34,
          "v": -0.533404
         },
         {
          "i": 1.13013e-05,
          "t": 23.35,
          "v": -0.532872
         },
         {
          "i": 1.13447e-05,
          "t": 23.36,
          "v": -0.5324
         },
         {
          "i": 1.13413e-05,
          "t": 23.37,
          "v": -0.531866
         },
         {
          "i": 1.12011e-05,
          "t": 23.38,
          "v": -0.531352
         },
         {
          "i": 1.13614e-05,
          "t": 23.39,
          "v": -0.53093
         },
         {
          "i": 1.13013e-05,
          "t": 23.4,
          "v": -0.530359
         },
         {
          "i": 1.1308e-05,
          "t": 23.41,
          "v": -0.529849
         },
         {
          "i": 1.13013e-05,
          "t": 23.42,
          "v": -0.529409
         },
         {
          "i": 1.13246e-05,
          "t": 23.43,
          "v": -0.528849
         },
         {
          "i": 1.13848e-05,
          "t": 23.44,
          "v": -0.528355
         },
         {
          "i": 1.13647e-05,
          "t": 23.45,
          "v": -0.52787
         },
         {
          "i": 1.12913e-05,
          "t": 23.46,
          "v": -0.527355
         },
         {
          "i": 1.13747e-05,
          "t": 23.47,
          "v": -0.52687
         },
         {
          "i": 1.14949e-05,
          "t": 23.48,
          "v": -0.526364
         },
         {
          "i": 1.13981e-05,
          "t": 23.49,
          "v": -0.525854
         },
         {
          "i": 1.14282e-05,
          "t": 23.5,
          "v": -0.525369
         },
         {
          "i": 1.13246e-05,
          "t": 23.51,
          "v": -0.524855
         },
         {
          "i": 1.13747e-05,
          "t": 23.52,
          "v": -0.524344
         },
         {
          "i": 1.13781e-05,
          "t": 23.53,
          "v": -0.52394
         },
         {
          "i": 1.13614e-05,
          "t": 23.54,
          "v": -0.523324
         },
         {
          "i": 1.1338e-05,
          "t": 23.55,
          "v": -0.522999
         },
         {
          "i": 1.13814e-05,
          "t": 23.56,
          "v": -0.522433
         },
         {
          "i": 1.11911e-05,
          "t": 23.57,
          "v": -0.52184
         },
         {
          "i": 1.12846e-05,
          "t": 23.58,
          "v": -0.52149
         },
         {
          "i": 1.12746e-05,
          "t": 23.59,
          "v": -0.520895
         },
         {
          "i": 1.11343e-05,
          "t": 23.6,
          "v": -0.520405
         },
         {
          "i": 1.13647e-05,
          "t": 23.61,
          "v": -0.519927
         },
         {
          "i": 1.12879e-05,
          "t": 23.62,
          "v": -0.519332
         },
         {
          "i": 1.11877e-05,
          "t": 23.63,
          "v": -0.518919
         },
         {
          "i": 1.09741e-05,
          "t": 23.64,
          "v": -0.518372
         },
         {
          "i": 1.10442e-05,
          "t": 23.65,
          "v": -0.517855
         },
         {
          "i": 1.0954e-05,
          "t": 23.66,
          "v": -0.51741
         },
         {
          "i": 1.10675e-05,
          "t": 23.67,
          "v": -0.51689
         },
         {
          "i": 1.0924e-05,
          "t": 23.68,
          "v": -0.516416
         },
         {
          "i": 1.10542e-05,
          "t": 23.69,
          "v": -0.51591
         },
         {
          "i": 1.10675e-05,
          "t": 23.7,
          "v": -0.515346
         },
         {
          "i": 1.10876e-05,
          "t": 23.71,
          "v": -0.514987
         },
         {
          "i": 1.10575e-05,
          "t": 23.72,
          "v": -0.514402
         },
         {
          "i": 1.0964e-05,
          "t": 23.73,
          "v": -0.51388
         },
         {
          "i": 1.08505e-05,
          "t": 23.74,
          "v": -0.513472
         },
         {
          "i": 1.09507e-05,
          "t": 23.75,
          "v": -0.512892
         },
         {
          "i": 1.10809e-05,
          "t": 23.76,
          "v": -0.512396
         },
         {
          "i": 1.11477e-05,
          "t": 23.77,
          "v": -0.511928
         },
         {
          "i": 1.10342e-05,
          "t": 23.78,
          "v": -0.511341
         },
         {
          "i": 1.10508e-05,
          "t": 23.79,
          "v": -0.510906
         },
         {
          "i": 1.11811e-05,
          "t": 23.8,
          "v": -0.510413
         },
         {
          "i": 1.09807e-05,
          "t": 23.81,
          "v": -0.509866
         },
         {
          "i": 1.11343e-05,
          "t": 23.82,
          "v": -0.509409
         },
         {
          "i": 1.10609e-05,
          "t": 23.83,
          "v": -0.508881
         },
         {
          "i": 1.10642e-05,
          "t": 23.84,
          "v": -0.508408
         },
         {
          "i": 1.0964e-05,
          "t": 23.85,
          "v": -0.507873
         },
         {
          "i": 1.0954e-05,
          "t": 23.86,
          "v": -0.507346
         },
         {
          "i": 1.10675e-05,
          "t": 23.87,
          "v": -0.506931
         },
         {
          "i": 1.12345e-05,
          "t": 23.88,
          "v": -0.506374
         },
         {
          "i": 1.10709e-05,
          "t": 23.89,
          "v": -0.505847
         },
         {
          "i": 1.08305e-05,
          "t": 23.9,
          "v": -0.505416
         },
         {
          "i": 1.09774e-05,
          "t": 23.91,
          "v": -0.504843
         },
         {
          "i": 1.09473e-05,
          "t": 23.92,
          "v": -0.504359
         },
         {
          "i": 1.09574e-05,
          "t": 23.93,
          "v": -0.503857
         },
         {
          "i": 1.0954e-05,
          "t": 23.94,
          "v": -0.503342
         },
         {
          "i": 1.10108e-05,
          "t": 23.95,
          "v": -0.502857
         },
         {
          "i": 1.10542e-05,
          "t": 23.96,
          "v": -0.502363
         },
         {
          "i": 1.09974e-05,
          "t": 23.97,
          "v": -0.501842
         },
         {
          "i": 1.08906e-05,
          "t": 23.98,
          "v": -0.501361
         },
         {
          "i": 1.10642e-05,
          "t": 23.99,
          "v": -0.500845
         },
         {
          "i": 1.10508e-05,
          "t": 24,
          "v": -0.500364
         },
         {
          "i": 1.09974e-05,
          "t": 24.01,
          "v": -0.49984
         }
        ],
        "data-9b4ea0533678c812c6e0ce585cdc4cb3": [
         {
          "i": 1.56487e-05,
          "v": -0.652287
         }
        ]
       },
       "layer": [
        {
         "data": {
          "name": "data-1786f7bfa51551e016ed98b3057b78fd"
         },
         "encoding": {
          "x": {
           "field": "v",
           "type": "quantitative"
          },
          "y": {
           "field": "i",
           "type": "quantitative"
          }
         },
         "mark": "point"
        },
        {
         "data": {
          "name": "data-9b4ea0533678c812c6e0ce585cdc4cb3"
         },
         "encoding": {
          "color": {
           "value": "black"
          },
          "x": {
           "field": "v",
           "type": "quantitative"
          },
          "y": {
           "field": "i",
           "type": "quantitative"
          }
         },
         "mark": {
          "filled": true,
          "size": 50,
          "type": "point"
         }
        }
       ]
      },
      "image/png": "[encoded data removed]",
      "text/plain": [
       "<VegaLite 3 object>\n",
       "\n",
       "If you see this message, it means the renderer has not been properly enabled\n",
       "for the frontend that you are using. For more information, see\n",
       "https://altair-viz.github.io/user_guide/troubleshooting.html\n"
      ]
     },
     "metadata": {},
     "output_type": "display_data"
    },
    {
     "name": "stdout",
     "output_type": "stream",
     "text": [
      "2.7759e-05 -0.648086\n"
     ]
    },
    {
     "data": {
      "application/vnd.vegalite.v3+json": {
       "$schema": "https://vega.github.io/schema/vega-lite/v3.2.1.json",
       "config": {
        "mark": {
         "tooltip": null
        },
        "view": {
         "height": 300,
         "width": 400
        }
       },
       "datasets": {
        "data-85dffa779ed2d1e67a9d11c37f176016": [
         {
          "i": -9.35833e-05,
          "t": 6.005,
          "v": -1.10008
         },
         {
          "i": -8.82453e-05,
          "t": 6.01,
          "v": -1.0997
         },
         {
          "i": -8.66733e-05,
          "t": 6.015,
          "v": -1.09919
         },
         {
          "i": -8.49408e-05,
          "t": 6.02,
          "v": -1.09865
         },
         {
          "i": -8.38705e-05,
          "t": 6.025,
          "v": -1.09818
         },
         {
          "i": -8.32217e-05,
          "t": 6.03,
          "v": -1.09765
         },
         {
          "i": -8.24457e-05,
          "t": 6.035,
          "v": -1.09718
         },
         {
          "i": -8.1944e-05,
          "t": 6.04,
          "v": -1.09666
         },
         {
          "i": -8.11079e-05,
          "t": 6.045,
          "v": -1.09614
         },
         {
          "i": -8.07266e-05,
          "t": 6.05,
          "v": -1.09568
         },
         {
          "i": -8.01313e-05,
          "t": 6.055,
          "v": -1.09516
         },
         {
          "i": -7.94356e-05,
          "t": 6.06,
          "v": -1.09465
         },
         {
          "i": -7.87867e-05,
          "t": 6.065,
          "v": -1.09419
         },
         {
          "i": -7.83787e-05,
          "t": 6.07,
          "v": -1.09364
         },
         {
          "i": -7.80108e-05,
          "t": 6.075,
          "v": -1.09316
         },
         {
          "i": -7.74021e-05,
          "t": 6.08,
          "v": -1.09265
         },
         {
          "i": -7.71211e-05,
          "t": 6.085,
          "v": -1.09215
         },
         {
          "i": -7.65258e-05,
          "t": 6.09,
          "v": -1.09166
         },
         {
          "i": -7.65793e-05,
          "t": 6.095,
          "v": -1.09115
         },
         {
          "i": -7.60843e-05,
          "t": 6.1,
          "v": -1.09066
         },
         {
          "i": -7.56428e-05,
          "t": 6.105,
          "v": -1.09017
         },
         {
          "i": -7.54154e-05,
          "t": 6.11,
          "v": -1.08966
         },
         {
          "i": -7.51478e-05,
          "t": 6.115,
          "v": -1.08917
         },
         {
          "i": -7.50408e-05,
          "t": 6.12,
          "v": -1.08866
         },
         {
          "i": -7.46595e-05,
          "t": 6.125,
          "v": -1.08817
         },
         {
          "i": -7.42247e-05,
          "t": 6.13,
          "v": -1.08769
         },
         {
          "i": -7.40106e-05,
          "t": 6.135,
          "v": -1.08719
         },
         {
          "i": -7.38501e-05,
          "t": 6.14,
          "v": -1.08659
         },
         {
          "i": -7.37364e-05,
          "t": 6.145,
          "v": -1.08621
         },
         {
          "i": -7.32213e-05,
          "t": 6.15,
          "v": -1.08564
         },
         {
          "i": -7.28333e-05,
          "t": 6.155,
          "v": -1.0852
         },
         {
          "i": -7.24788e-05,
          "t": 6.16,
          "v": -1.08471
         },
         {
          "i": -7.21711e-05,
          "t": 6.165,
          "v": -1.08409
         },
         {
          "i": -7.17898e-05,
          "t": 6.17,
          "v": -1.0837
         },
         {
          "i": -7.13483e-05,
          "t": 6.175,
          "v": -1.08316
         },
         {
          "i": -7.11811e-05,
          "t": 6.18,
          "v": -1.08262
         },
         {
          "i": -7.07731e-05,
          "t": 6.185,
          "v": -1.08217
         },
         {
          "i": -7.04319e-05,
          "t": 6.19,
          "v": -1.08162
         },
         {
          "i": -7.03316e-05,
          "t": 6.195,
          "v": -1.08117
         },
         {
          "i": -7.02914e-05,
          "t": 6.2,
          "v": -1.08064
         },
         {
          "i": -6.99168e-05,
          "t": 6.205,
          "v": -1.08013
         },
         {
          "i": -6.99035e-05,
          "t": 6.21,
          "v": -1.07969
         },
         {
          "i": -6.98366e-05,
          "t": 6.215,
          "v": -1.07916
         },
         {
          "i": -6.9676e-05,
          "t": 6.22,
          "v": -1.07865
         },
         {
          "i": -6.9656e-05,
          "t": 6.225,
          "v": -1.0782
         },
         {
          "i": -6.95891e-05,
          "t": 6.23,
          "v": -1.07766
         },
         {
          "i": -6.92011e-05,
          "t": 6.235,
          "v": -1.07717
         },
         {
          "i": -6.90539e-05,
          "t": 6.24,
          "v": -1.07668
         },
         {
          "i": -6.86793e-05,
          "t": 6.245,
          "v": -1.07615
         },
         {
          "i": -6.87262e-05,
          "t": 6.25,
          "v": -1.0757
         },
         {
          "i": -6.83315e-05,
          "t": 6.255,
          "v": -1.0752
         },
         {
          "i": -6.82646e-05,
          "t": 6.26,
          "v": -1.07462
         },
         {
          "i": -6.82111e-05,
          "t": 6.265,
          "v": -1.07417
         },
         {
          "i": -6.81375e-05,
          "t": 6.27,
          "v": -1.07361
         },
         {
          "i": -6.80305e-05,
          "t": 6.275,
          "v": -1.07313
         },
         {
          "i": -6.78097e-05,
          "t": 6.28,
          "v": -1.07262
         },
         {
          "i": -6.77696e-05,
          "t": 6.285,
          "v": -1.07211
         },
         {
          "i": -6.73415e-05,
          "t": 6.29,
          "v": -1.07164
         },
         {
          "i": -6.76157e-05,
          "t": 6.295,
          "v": -1.07113
         },
         {
          "i": -6.69669e-05,
          "t": 6.3,
          "v": -1.07061
         },
         {
          "i": -6.68465e-05,
          "t": 6.305,
          "v": -1.07017
         },
         {
          "i": -6.67796e-05,
          "t": 6.31,
          "v": -1.06962
         },
         {
          "i": -6.6813e-05,
          "t": 6.315,
          "v": -1.06913
         },
         {
          "i": -6.64853e-05,
          "t": 6.32,
          "v": -1.06863
         },
         {
          "i": -6.6492e-05,
          "t": 6.325,
          "v": -1.06813
         },
         {
          "i": -6.62244e-05,
          "t": 6.33,
          "v": -1.06764
         },
         {
          "i": -6.5803e-05,
          "t": 6.335,
          "v": -1.06713
         },
         {
          "i": -6.5716e-05,
          "t": 6.34,
          "v": -1.06663
         },
         {
          "i": -6.55153e-05,
          "t": 6.345,
          "v": -1.06614
         },
         {
          "i": -6.55086e-05,
          "t": 6.35,
          "v": -1.06562
         },
         {
          "i": -6.52009e-05,
          "t": 6.355,
          "v": -1.06514
         },
         {
          "i": -6.53147e-05,
          "t": 6.36,
          "v": -1.06463
         },
         {
          "i": -6.50471e-05,
          "t": 6.365,
          "v": -1.06413
         },
         {
          "i": -6.50203e-05,
          "t": 6.37,
          "v": -1.06366
         },
         {
          "i": -6.50605e-05,
          "t": 6.375,
          "v": -1.06314
         },
         {
          "i": -6.48999e-05,
          "t": 6.38,
          "v": -1.06263
         },
         {
          "i": -6.4619e-05,
          "t": 6.385,
          "v": -1.06217
         },
         {
          "i": -6.44384e-05,
          "t": 6.39,
          "v": -1.06164
         },
         {
          "i": -6.41173e-05,
          "t": 6.395,
          "v": -1.06112
         },
         {
          "i": -6.38765e-05,
          "t": 6.4,
          "v": -1.06066
         },
         {
          "i": -6.36825e-05,
          "t": 6.405,
          "v": -1.06008
         },
         {
          "i": -6.34417e-05,
          "t": 6.41,
          "v": -1.0597
         },
         {
          "i": -6.3348e-05,
          "t": 6.415,
          "v": -1.05917
         },
         {
          "i": -6.31072e-05,
          "t": 6.42,
          "v": -1.05858
         },
         {
          "i": -6.28463e-05,
          "t": 6.425,
          "v": -1.05817
         },
         {
          "i": -6.28865e-05,
          "t": 6.43,
          "v": -1.05762
         },
         {
          "i": -6.23045e-05,
          "t": 6.435,
          "v": -1.05714
         },
         {
          "i": -6.21306e-05,
          "t": 6.44,
          "v": -1.05663
         },
         {
          "i": -6.2358e-05,
          "t": 6.445,
          "v": -1.05611
         },
         {
          "i": -6.22644e-05,
          "t": 6.45,
          "v": -1.05567
         },
         {
          "i": -6.23714e-05,
          "t": 6.455,
          "v": -1.05512
         },
         {
          "i": -6.19032e-05,
          "t": 6.46,
          "v": -1.05462
         },
         {
          "i": -6.19232e-05,
          "t": 6.465,
          "v": -1.05419
         },
         {
          "i": -6.16222e-05,
          "t": 6.47,
          "v": -1.05363
         },
         {
          "i": -6.1649e-05,
          "t": 6.475,
          "v": -1.05314
         },
         {
          "i": -6.16757e-05,
          "t": 6.48,
          "v": -1.05266
         },
         {
          "i": -6.14416e-05,
          "t": 6.485,
          "v": -1.05212
         },
         {
          "i": -6.13279e-05,
          "t": 6.49,
          "v": -1.05168
         },
         {
          "i": -6.12878e-05,
          "t": 6.495,
          "v": -1.05116
         },
         {
          "i": -6.11941e-05,
          "t": 6.5,
          "v": -1.05063
         },
         {
          "i": -6.08663e-05,
          "t": 6.505,
          "v": -1.05018
         },
         {
          "i": -6.09065e-05,
          "t": 6.51,
          "v": -1.04965
         },
         {
          "i": -6.07259e-05,
          "t": 6.515,
          "v": -1.04917
         },
         {
          "i": -6.04048e-05,
          "t": 6.52,
          "v": -1.04865
         },
         {
          "i": -6.00436e-05,
          "t": 6.525,
          "v": -1.04811
         },
         {
          "i": -6.02375e-05,
          "t": 6.53,
          "v": -1.04771
         },
         {
          "i": -6.02041e-05,
          "t": 6.535,
          "v": -1.04716
         },
         {
          "i": -5.99767e-05,
          "t": 6.54,
          "v": -1.04663
         },
         {
          "i": -5.99633e-05,
          "t": 6.545,
          "v": -1.0462
         },
         {
          "i": -5.98496e-05,
          "t": 6.55,
          "v": -1.04563
         },
         {
          "i": -5.96556e-05,
          "t": 6.555,
          "v": -1.04516
         },
         {
          "i": -5.96957e-05,
          "t": 6.56,
          "v": -1.04465
         },
         {
          "i": -5.94348e-05,
          "t": 6.565,
          "v": -1.04415
         },
         {
          "i": -5.92609e-05,
          "t": 6.57,
          "v": -1.04366
         },
         {
          "i": -5.89867e-05,
          "t": 6.575,
          "v": -1.04316
         },
         {
          "i": -5.87726e-05,
          "t": 6.58,
          "v": -1.04264
         },
         {
          "i": -5.88863e-05,
          "t": 6.585,
          "v": -1.04216
         },
         {
          "i": -5.8592e-05,
          "t": 6.59,
          "v": -1.04163
         },
         {
          "i": -5.84582e-05,
          "t": 6.595,
          "v": -1.04116
         },
         {
          "i": -5.80502e-05,
          "t": 6.6,
          "v": -1.04064
         },
         {
          "i": -5.82843e-05,
          "t": 6.605,
          "v": -1.04015
         },
         {
          "i": -5.82241e-05,
          "t": 6.61,
          "v": -1.0397
         },
         {
          "i": -5.78161e-05,
          "t": 6.615,
          "v": -1.03915
         },
         {
          "i": -5.79365e-05,
          "t": 6.62,
          "v": -1.03864
         },
         {
          "i": -5.78027e-05,
          "t": 6.625,
          "v": -1.03819
         },
         {
          "i": -5.77558e-05,
          "t": 6.63,
          "v": -1.03765
         },
         {
          "i": -5.78227e-05,
          "t": 6.635,
          "v": -1.03715
         },
         {
          "i": -5.75485e-05,
          "t": 6.64,
          "v": -1.03666
         },
         {
          "i": -5.70669e-05,
          "t": 6.645,
          "v": -1.03609
         },
         {
          "i": -5.69331e-05,
          "t": 6.65,
          "v": -1.0357
         },
         {
          "i": -5.68461e-05,
          "t": 6.655,
          "v": -1.03519
         },
         {
          "i": -5.62976e-05,
          "t": 6.66,
          "v": -1.03458
         },
         {
          "i": -5.63846e-05,
          "t": 6.665,
          "v": -1.03418
         },
         {
          "i": -5.62173e-05,
          "t": 6.67,
          "v": -1.03365
         },
         {
          "i": -5.56621e-05,
          "t": 6.675,
          "v": -1.03317
         },
         {
          "i": -5.57758e-05,
          "t": 6.68,
          "v": -1.03264
         },
         {
          "i": -5.56688e-05,
          "t": 6.685,
          "v": -1.03209
         },
         {
          "i": -5.57156e-05,
          "t": 6.69,
          "v": -1.03173
         },
         {
          "i": -5.52942e-05,
          "t": 6.695,
          "v": -1.03114
         },
         {
          "i": -5.5515e-05,
          "t": 6.7,
          "v": -1.03062
         },
         {
          "i": -5.48996e-05,
          "t": 6.705,
          "v": -1.03019
         },
         {
          "i": -5.4739e-05,
          "t": 6.71,
          "v": -1.02962
         },
         {
          "i": -5.45785e-05,
          "t": 6.715,
          "v": -1.02914
         },
         {
          "i": -5.40969e-05,
          "t": 6.72,
          "v": -1.02866
         },
         {
          "i": -5.42173e-05,
          "t": 6.725,
          "v": -1.02813
         },
         {
          "i": -5.40166e-05,
          "t": 6.73,
          "v": -1.02767
         },
         {
          "i": -5.41102e-05,
          "t": 6.735,
          "v": -1.02717
         },
         {
          "i": -5.40233e-05,
          "t": 6.74,
          "v": -1.02664
         },
         {
          "i": -5.36955e-05,
          "t": 6.745,
          "v": -1.02618
         },
         {
          "i": -5.36955e-05,
          "t": 6.75,
          "v": -1.02565
         },
         {
          "i": -5.38962e-05,
          "t": 6.755,
          "v": -1.02518
         },
         {
          "i": -5.34881e-05,
          "t": 6.76,
          "v": -1.02466
         },
         {
          "i": -5.34614e-05,
          "t": 6.765,
          "v": -1.02413
         },
         {
          "i": -5.30734e-05,
          "t": 6.77,
          "v": -1.02369
         },
         {
          "i": -5.29062e-05,
          "t": 6.775,
          "v": -1.02316
         },
         {
          "i": -5.2953e-05,
          "t": 6.78,
          "v": -1.02262
         },
         {
          "i": -5.29864e-05,
          "t": 6.785,
          "v": -1.02219
         },
         {
          "i": -5.27189e-05,
          "t": 6.79,
          "v": -1.02161
         },
         {
          "i": -5.2652e-05,
          "t": 6.795,
          "v": -1.02114
         },
         {
          "i": -5.24914e-05,
          "t": 6.8,
          "v": -1.02066
         },
         {
          "i": -5.2458e-05,
          "t": 6.805,
          "v": -1.02012
         },
         {
          "i": -5.22439e-05,
          "t": 6.81,
          "v": -1.01965
         },
         {
          "i": -5.21369e-05,
          "t": 6.815,
          "v": -1.01916
         },
         {
          "i": -5.18626e-05,
          "t": 6.82,
          "v": -1.01863
         },
         {
          "i": -5.17155e-05,
          "t": 6.825,
          "v": -1.01816
         },
         {
          "i": -5.16085e-05,
          "t": 6.83,
          "v": -1.01763
         },
         {
          "i": -5.14613e-05,
          "t": 6.835,
          "v": -1.01716
         },
         {
          "i": -5.14412e-05,
          "t": 6.84,
          "v": -1.01664
         },
         {
          "i": -5.13944e-05,
          "t": 6.845,
          "v": -1.01614
         },
         {
          "i": -5.11068e-05,
          "t": 6.85,
          "v": -1.01569
         },
         {
          "i": -5.08325e-05,
          "t": 6.855,
          "v": -1.01515
         },
         {
          "i": -5.10131e-05,
          "t": 6.86,
          "v": -1.01465
         },
         {
          "i": -5.06653e-05,
          "t": 6.865,
          "v": -1.01418
         },
         {
          "i": -5.08526e-05,
          "t": 6.87,
          "v": -1.01364
         },
         {
          "i": -5.01903e-05,
          "t": 6.875,
          "v": -1.01315
         },
         {
          "i": -5.02104e-05,
          "t": 6.88,
          "v": -1.01264
         },
         {
          "i": -5.00164e-05,
          "t": 6.885,
          "v": -1.01216
         },
         {
          "i": -5.00833e-05,
          "t": 6.89,
          "v": -1.01165
         },
         {
          "i": -4.97555e-05,
          "t": 6.895,
          "v": -1.01115
         },
         {
          "i": -4.95816e-05,
          "t": 6.9,
          "v": -1.01057
         },
         {
          "i": -4.93676e-05,
          "t": 6.905,
          "v": -1.01021
         },
         {
          "i": -4.94345e-05,
          "t": 6.91,
          "v": -1.00965
         },
         {
          "i": -4.94278e-05,
          "t": 6.915,
          "v": -1.00915
         },
         {
          "i": -4.93475e-05,
          "t": 6.92,
          "v": -1.00865
         },
         {
          "i": -4.90264e-05,
          "t": 6.925,
          "v": -1.00809
         },
         {
          "i": -4.88257e-05,
          "t": 6.93,
          "v": -1.00769
         },
         {
          "i": -4.83709e-05,
          "t": 6.935,
          "v": -1.00716
         },
         {
          "i": -4.83709e-05,
          "t": 6.94,
          "v": -1.00661
         },
         {
          "i": -4.77287e-05,
          "t": 6.945,
          "v": -1.00619
         },
         {
          "i": -4.7722e-05,
          "t": 6.95,
          "v": -1.00562
         },
         {
          "i": -4.75615e-05,
          "t": 6.955,
          "v": -1.00515
         },
         {
          "i": -4.74277e-05,
          "t": 6.96,
          "v": -1.00465
         },
         {
          "i": -4.71601e-05,
          "t": 6.965,
          "v": -1.0041
         },
         {
          "i": -4.72805e-05,
          "t": 6.97,
          "v": -1.00368
         },
         {
          "i": -4.68792e-05,
          "t": 6.975,
          "v": -1.00317
         },
         {
          "i": -4.64578e-05,
          "t": 6.98,
          "v": -1.00264
         },
         {
          "i": -4.63842e-05,
          "t": 6.985,
          "v": -1.00218
         },
         {
          "i": -4.60765e-05,
          "t": 6.99,
          "v": -1.00165
         },
         {
          "i": -4.5849e-05,
          "t": 6.995,
          "v": -1.00118
         },
         {
          "i": -4.59962e-05,
          "t": 7,
          "v": -1.00068
         },
         {
          "i": -4.59828e-05,
          "t": 7.005,
          "v": -1.00014
         },
         {
          "i": -4.56885e-05,
          "t": 7.01,
          "v": -0.999696
         },
         {
          "i": -4.55547e-05,
          "t": 7.015,
          "v": -0.999191
         },
         {
          "i": -4.51467e-05,
          "t": 7.02,
          "v": -0.998652
         },
         {
          "i": -4.48657e-05,
          "t": 7.025,
          "v": -0.998196
         },
         {
          "i": -4.50263e-05,
          "t": 7.03,
          "v": -0.997638
         },
         {
          "i": -4.47253e-05,
          "t": 7.035,
          "v": -0.997177
         },
         {
          "i": -4.44778e-05,
          "t": 7.04,
          "v": -0.996681
         },
         {
          "i": -4.42035e-05,
          "t": 7.045,
          "v": -0.996118
         },
         {
          "i": -4.40563e-05,
          "t": 7.05,
          "v": -0.99569
         },
         {
          "i": -4.37821e-05,
          "t": 7.055,
          "v": -0.995186
         },
         {
          "i": -4.34944e-05,
          "t": 7.06,
          "v": -0.994658
         },
         {
          "i": -4.3655e-05,
          "t": 7.065,
          "v": -0.994167
         },
         {
          "i": -4.33005e-05,
          "t": 7.07,
          "v": -0.993641
         },
         {
          "i": -4.30262e-05,
          "t": 7.075,
          "v": -0.993174
         },
         {
          "i": -4.27118e-05,
          "t": 7.08,
          "v": -0.992648
         },
         {
          "i": -4.23372e-05,
          "t": 7.085,
          "v": -0.992132
         },
         {
          "i": -4.23372e-05,
          "t": 7.09,
          "v": -0.991684
         },
         {
          "i": -4.20964e-05,
          "t": 7.095,
          "v": -0.991158
         },
         {
          "i": -4.22369e-05,
          "t": 7.1,
          "v": -0.990642
         },
         {
          "i": -4.2063e-05,
          "t": 7.105,
          "v": -0.990188
         },
         {
          "i": -4.15546e-05,
          "t": 7.11,
          "v": -0.989642
         },
         {
          "i": -4.13271e-05,
          "t": 7.115,
          "v": -0.989173
         },
         {
          "i": -4.0578e-05,
          "t": 7.12,
          "v": -0.98866
         },
         {
          "i": -4.04509e-05,
          "t": 7.125,
          "v": -0.988168
         },
         {
          "i": -4.03037e-05,
          "t": 7.13,
          "v": -0.987663
         },
         {
          "i": -3.98354e-05,
          "t": 7.135,
          "v": -0.987162
         },
         {
          "i": -3.97351e-05,
          "t": 7.14,
          "v": -0.986645
         },
         {
          "i": -3.92e-05,
          "t": 7.145,
          "v": -0.986166
         },
         {
          "i": -3.89257e-05,
          "t": 7.15,
          "v": -0.98566
         },
         {
          "i": -3.87785e-05,
          "t": 7.155,
          "v": -0.985152
         },
         {
          "i": -3.83036e-05,
          "t": 7.16,
          "v": -0.984697
         },
         {
          "i": -3.81765e-05,
          "t": 7.165,
          "v": -0.984083
         },
         {
          "i": -3.80361e-05,
          "t": 7.17,
          "v": -0.983692
         },
         {
          "i": -3.77083e-05,
          "t": 7.175,
          "v": -0.98318
         },
         {
          "i": -3.7541e-05,
          "t": 7.18,
          "v": -0.982603
         },
         {
          "i": -3.73538e-05,
          "t": 7.185,
          "v": -0.982211
         },
         {
          "i": -3.69256e-05,
          "t": 7.19,
          "v": -0.981638
         },
         {
          "i": -3.68788e-05,
          "t": 7.195,
          "v": -0.981162
         },
         {
          "i": -3.6638e-05,
          "t": 7.2,
          "v": -0.980663
         },
         {
          "i": -3.63169e-05,
          "t": 7.205,
          "v": -0.980115
         },
         {
          "i": -3.60494e-05,
          "t": 7.21,
          "v": -0.979653
         },
         {
          "i": -3.6036e-05,
          "t": 7.215,
          "v": -0.979141
         },
         {
          "i": -3.5648e-05,
          "t": 7.22,
          "v": -0.978637
         },
         {
          "i": -3.52935e-05,
          "t": 7.225,
          "v": -0.97818
         },
         {
          "i": -3.5046e-05,
          "t": 7.23,
          "v": -0.977649
         },
         {
          "i": -3.46179e-05,
          "t": 7.235,
          "v": -0.977167
         },
         {
          "i": -3.46179e-05,
          "t": 7.24,
          "v": -0.976664
         },
         {
          "i": -3.4464e-05,
          "t": 7.245,
          "v": -0.976137
         },
         {
          "i": -3.38152e-05,
          "t": 7.25,
          "v": -0.975713
         },
         {
          "i": -3.37215e-05,
          "t": 7.255,
          "v": -0.975168
         },
         {
          "i": -3.30593e-05,
          "t": 7.26,
          "v": -0.974648
         },
         {
          "i": -3.27315e-05,
          "t": 7.265,
          "v": -0.974205
         },
         {
          "i": -3.22432e-05,
          "t": 7.27,
          "v": -0.973661
         },
         {
          "i": -3.18084e-05,
          "t": 7.275,
          "v": -0.973176
         },
         {
          "i": -3.18753e-05,
          "t": 7.28,
          "v": -0.97269
         },
         {
          "i": -3.13535e-05,
          "t": 7.285,
          "v": -0.972083
         },
         {
          "i": -3.06445e-05,
          "t": 7.29,
          "v": -0.971644
         },
         {
          "i": -3.08719e-05,
          "t": 7.295,
          "v": -0.971137
         },
         {
          "i": -3.02297e-05,
          "t": 7.3,
          "v": -0.970607
         },
         {
          "i": -3.01294e-05,
          "t": 7.305,
          "v": -0.970165
         },
         {
          "i": -2.93668e-05,
          "t": 7.31,
          "v": -0.96963
         },
         {
          "i": -2.88919e-05,
          "t": 7.315,
          "v": -0.969155
         },
         {
          "i": -2.85307e-05,
          "t": 7.32,
          "v": -0.968628
         },
         {
          "i": -2.83233e-05,
          "t": 7.325,
          "v": -0.96812
         },
         {
          "i": -2.77748e-05,
          "t": 7.33,
          "v": -0.967693
         },
         {
          "i": -2.734e-05,
          "t": 7.335,
          "v": -0.96714
         },
         {
          "i": -2.66911e-05,
          "t": 7.34,
          "v": -0.966628
         },
         {
          "i": -2.64905e-05,
          "t": 7.345,
          "v": -0.96618
         },
         {
          "i": -2.62363e-05,
          "t": 7.35,
          "v": -0.96563
         },
         {
          "i": -2.56075e-05,
          "t": 7.355,
          "v": -0.965132
         },
         {
          "i": -2.52195e-05,
          "t": 7.36,
          "v": -0.964632
         },
         {
          "i": -2.47513e-05,
          "t": 7.365,
          "v": -0.964142
         },
         {
          "i": -2.4263e-05,
          "t": 7.37,
          "v": -0.963634
         },
         {
          "i": -2.36676e-05,
          "t": 7.375,
          "v": -0.963135
         },
         {
          "i": -2.31459e-05,
          "t": 7.38,
          "v": -0.96263
         },
         {
          "i": -2.27044e-05,
          "t": 7.385,
          "v": -0.962131
         },
         {
          "i": -2.24435e-05,
          "t": 7.39,
          "v": -0.961625
         },
         {
          "i": -2.15538e-05,
          "t": 7.395,
          "v": -0.961156
         },
         {
          "i": -2.11659e-05,
          "t": 7.4,
          "v": -0.96063
         },
         {
          "i": -2.0711e-05,
          "t": 7.405,
          "v": -0.96013
         },
         {
          "i": -2.05103e-05,
          "t": 7.41,
          "v": -0.959675
         },
         {
          "i": -2.02427e-05,
          "t": 7.415,
          "v": -0.959186
         },
         {
          "i": -1.9333e-05,
          "t": 7.42,
          "v": -0.958549
         },
         {
          "i": -1.89183e-05,
          "t": 7.425,
          "v": -0.958199
         },
         {
          "i": -1.88179e-05,
          "t": 7.43,
          "v": -0.957628
         },
         {
          "i": -1.83497e-05,
          "t": 7.435,
          "v": -0.957158
         },
         {
          "i": -1.76875e-05,
          "t": 7.44,
          "v": -0.956674
         },
         {
          "i": -1.70854e-05,
          "t": 7.445,
          "v": -0.956067
         },
         {
          "i": -1.65168e-05,
          "t": 7.45,
          "v": -0.95568
         },
         {
          "i": -1.5868e-05,
          "t": 7.455,
          "v": -0.95516
         },
         {
          "i": -1.54131e-05,
          "t": 7.46,
          "v": -0.954587
         },
         {
          "i": -1.51656e-05,
          "t": 7.465,
          "v": -0.954145
         },
         {
          "i": -1.46974e-05,
          "t": 7.47,
          "v": -0.9536
         },
         {
          "i": -1.41087e-05,
          "t": 7.475,
          "v": -0.953114
         },
         {
          "i": -1.37876e-05,
          "t": 7.48,
          "v": -0.952626
         },
         {
          "i": -1.29381e-05,
          "t": 7.485,
          "v": -0.952096
         },
         {
          "i": -1.27976e-05,
          "t": 7.49,
          "v": -0.951668
         },
         {
          "i": -1.1928e-05,
          "t": 7.495,
          "v": -0.951144
         },
         {
          "i": -1.16939e-05,
          "t": 7.5,
          "v": -0.950597
         },
         {
          "i": -1.10785e-05,
          "t": 7.505,
          "v": -0.950177
         },
         {
          "i": -1.06571e-05,
          "t": 7.51,
          "v": -0.949635
         },
         {
          "i": -1.00818e-05,
          "t": 7.515,
          "v": -0.949146
         },
         {
          "i": -9.67378e-06,
          "t": 7.52,
          "v": -0.948661
         },
         {
          "i": -9.1052e-06,
          "t": 7.525,
          "v": -0.948118
         },
         {
          "i": -8.28243e-06,
          "t": 7.53,
          "v": -0.947663
         },
         {
          "i": -7.42621e-06,
          "t": 7.535,
          "v": -0.947157
         },
         {
          "i": -6.87769e-06,
          "t": 7.54,
          "v": -0.946627
         },
         {
          "i": -6.39607e-06,
          "t": 7.545,
          "v": -0.946166
         },
         {
          "i": -5.51978e-06,
          "t": 7.55,
          "v": -0.945619
         },
         {
          "i": -5.23884e-06,
          "t": 7.555,
          "v": -0.945156
         },
         {
          "i": -4.62343e-06,
          "t": 7.56,
          "v": -0.944637
         },
         {
          "i": -4.02809e-06,
          "t": 7.565,
          "v": -0.944106
         },
         {
          "i": -3.7137e-06,
          "t": 7.57,
          "v": -0.94368
         },
         {
          "i": -3.29896e-06,
          "t": 7.575,
          "v": -0.943142
         },
         {
          "i": -3.19194e-06,
          "t": 7.58,
          "v": -0.942637
         },
         {
          "i": -2.28889e-06,
          "t": 7.585,
          "v": -0.942182
         },
         {
          "i": -1.76045e-06,
          "t": 7.59,
          "v": -0.941624
         },
         {
          "i": -7.57063e-07,
          "t": 7.595,
          "v": -0.941146
         },
         {
          "i": -4.82806e-07,
          "t": 7.6,
          "v": -0.940646
         },
         {
          "i": 3.66724e-07,
          "t": 7.605,
          "v": -0.940131
         },
         {
          "i": 1.0022e-06,
          "t": 7.61,
          "v": -0.939649
         },
         {
          "i": 1.53065e-06,
          "t": 7.615,
          "v": -0.939147
         },
         {
          "i": 1.75139e-06,
          "t": 7.62,
          "v": -0.938644
         },
         {
          "i": 2.25977e-06,
          "t": 7.625,
          "v": -0.93816
         },
         {
          "i": 3.02903e-06,
          "t": 7.63,
          "v": -0.937643
         },
         {
          "i": 3.59761e-06,
          "t": 7.635,
          "v": -0.937181
         },
         {
          "i": 4.19964e-06,
          "t": 7.64,
          "v": -0.936657
         },
         {
          "i": 4.71471e-06,
          "t": 7.645,
          "v": -0.93616
         },
         {
          "i": 5.13613e-06,
          "t": 7.65,
          "v": -0.935711
         },
         {
          "i": 5.95222e-06,
          "t": 7.655,
          "v": -0.935165
         },
         {
          "i": 6.86864e-06,
          "t": 7.66,
          "v": -0.934655
         },
         {
          "i": 7.31013e-06,
          "t": 7.665,
          "v": -0.934199
         },
         {
          "i": 8.29344e-06,
          "t": 7.67,
          "v": -0.933656
         },
         {
          "i": 9.06939e-06,
          "t": 7.675,
          "v": -0.933158
         },
         {
          "i": 9.46405e-06,
          "t": 7.68,
          "v": -0.932695
         },
         {
          "i": 1.01999e-05,
          "t": 7.685,
          "v": -0.932093
         },
         {
          "i": 1.08822e-05,
          "t": 7.69,
          "v": -0.93173
         },
         {
          "i": 1.1424e-05,
          "t": 7.695,
          "v": -0.931199
         },
         {
          "i": 1.17518e-05,
          "t": 7.7,
          "v": -0.930621
         },
         {
          "i": 1.24073e-05,
          "t": 7.705,
          "v": -0.930189
         },
         {
          "i": 1.30026e-05,
          "t": 7.71,
          "v": -0.92963
         },
         {
          "i": 1.35913e-05,
          "t": 7.715,
          "v": -0.929184
         },
         {
          "i": 1.41799e-05,
          "t": 7.72,
          "v": -0.92865
         },
         {
          "i": 1.48489e-05,
          "t": 7.725,
          "v": -0.928138
         },
         {
          "i": 1.58523e-05,
          "t": 7.73,
          "v": -0.927707
         },
         {
          "i": 1.66148e-05,
          "t": 7.735,
          "v": -0.927147
         },
         {
          "i": 1.70563e-05,
          "t": 7.74,
          "v": -0.926643
         },
         {
          "i": 1.75848e-05,
          "t": 7.745,
          "v": -0.9262
         },
         {
          "i": 1.83674e-05,
          "t": 7.75,
          "v": -0.925647
         },
         {
          "i": 1.8742e-05,
          "t": 7.755,
          "v": -0.925177
         },
         {
          "i": 1.94845e-05,
          "t": 7.76,
          "v": -0.924693
         },
         {
          "i": 1.98925e-05,
          "t": 7.765,
          "v": -0.924145
         },
         {
          "i": 2.01333e-05,
          "t": 7.77,
          "v": -0.923704
         },
         {
          "i": 2.08023e-05,
          "t": 7.775,
          "v": -0.923189
         },
         {
          "i": 2.1518e-05,
          "t": 7.78,
          "v": -0.922673
         },
         {
          "i": 2.21669e-05,
          "t": 7.785,
          "v": -0.922203
         },
         {
          "i": 2.29227e-05,
          "t": 7.79,
          "v": -0.921669
         },
         {
          "i": 2.35515e-05,
          "t": 7.795,
          "v": -0.921183
         },
         {
          "i": 2.4468e-05,
          "t": 7.8,
          "v": -0.920664
         },
         {
          "i": 2.5371e-05,
          "t": 7.805,
          "v": -0.920116
         },
         {
          "i": 2.58994e-05,
          "t": 7.81,
          "v": -0.919696
         },
         {
          "i": 2.65082e-05,
          "t": 7.815,
          "v": -0.919153
         },
         {
          "i": 2.71169e-05,
          "t": 7.82,
          "v": -0.918634
         },
         {
          "i": 2.74045e-05,
          "t": 7.825,
          "v": -0.9182
         },
         {
          "i": 2.80734e-05,
          "t": 7.83,
          "v": -0.917634
         },
         {
          "i": 2.82607e-05,
          "t": 7.835,
          "v": -0.917162
         },
         {
          "i": 2.88093e-05,
          "t": 7.84,
          "v": -0.916651
         },
         {
          "i": 2.91036e-05,
          "t": 7.845,
          "v": -0.916154
         },
         {
          "i": 3.00267e-05,
          "t": 7.85,
          "v": -0.915676
         },
         {
          "i": 3.08026e-05,
          "t": 7.855,
          "v": -0.915163
         },
         {
          "i": 3.17592e-05,
          "t": 7.86,
          "v": -0.914652
         },
         {
          "i": 3.21271e-05,
          "t": 7.865,
          "v": -0.914177
         },
         {
          "i": 3.30302e-05,
          "t": 7.87,
          "v": -0.913651
         },
         {
          "i": 3.38195e-05,
          "t": 7.875,
          "v": -0.913178
         },
         {
          "i": 3.43881e-05,
          "t": 7.88,
          "v": -0.912658
         },
         {
          "i": 3.47025e-05,
          "t": 7.885,
          "v": -0.912158
         },
         {
          "i": 3.53847e-05,
          "t": 7.89,
          "v": -0.911717
         },
         {
          "i": 3.57259e-05,
          "t": 7.895,
          "v": -0.911163
         },
         {
          "i": 3.61072e-05,
          "t": 7.9,
          "v": -0.910658
         },
         {
          "i": 3.6542e-05,
          "t": 7.905,
          "v": -0.910198
         },
         {
          "i": 3.69768e-05,
          "t": 7.91,
          "v": -0.909657
         },
         {
          "i": 3.73982e-05,
          "t": 7.915,
          "v": -0.909167
         },
         {
          "i": 3.79066e-05,
          "t": 7.92,
          "v": -0.908652
         },
         {
          "i": 3.85421e-05,
          "t": 7.925,
          "v": -0.908099
         },
         {
          "i": 3.95722e-05,
          "t": 7.93,
          "v": -0.907714
         },
         {
          "i": 4.00204e-05,
          "t": 7.935,
          "v": -0.907194
         },
         {
          "i": 4.0609e-05,
          "t": 7.94,
          "v": -0.906596
         },
         {
          "i": 4.11642e-05,
          "t": 7.945,
          "v": -0.906198
         },
         {
          "i": 4.17061e-05,
          "t": 7.95,
          "v": -0.905654
         },
         {
          "i": 4.23215e-05,
          "t": 7.955,
          "v": -0.905198
         },
         {
          "i": 4.30305e-05,
          "t": 7.96,
          "v": -0.904658
         },
         {
          "i": 4.2783e-05,
          "t": 7.965,
          "v": -0.904096
         },
         {
          "i": 4.34519e-05,
          "t": 7.97,
          "v": -0.90372
         },
         {
          "i": 4.38934e-05,
          "t": 7.975,
          "v": -0.903154
         },
         {
          "i": 4.41677e-05,
          "t": 7.98,
          "v": -0.902627
         },
         {
          "i": 4.45222e-05,
          "t": 7.985,
          "v": -0.902199
         },
         {
          "i": 4.49503e-05,
          "t": 7.99,
          "v": -0.901624
         },
         {
          "i": 4.5258e-05,
          "t": 7.995,
          "v": -0.901158
         },
         {
          "i": 4.55925e-05,
          "t": 8,
          "v": -0.900657
         },
         {
          "i": 4.5927e-05,
          "t": 8.005,
          "v": -0.900111
         },
         {
          "i": 4.65223e-05,
          "t": 8.01,
          "v": -0.899679
         },
         {
          "i": 4.72046e-05,
          "t": 8.015,
          "v": -0.899176
         },
         {
          "i": 4.81411e-05,
          "t": 8.02,
          "v": -0.898631
         },
         {
          "i": 4.82481e-05,
          "t": 8.025,
          "v": -0.898175
         },
         {
          "i": 4.91378e-05,
          "t": 8.03,
          "v": -0.897646
         },
         {
          "i": 4.94589e-05,
          "t": 8.035,
          "v": -0.897186
         },
         {
          "i": 4.98535e-05,
          "t": 8.04,
          "v": -0.896665
         },
         {
          "i": 5.03351e-05,
          "t": 8.045,
          "v": -0.89614
         },
         {
          "i": 5.06362e-05,
          "t": 8.05,
          "v": -0.895684
         },
         {
          "i": 5.11646e-05,
          "t": 8.055,
          "v": -0.895169
         },
         {
          "i": 5.14656e-05,
          "t": 8.06,
          "v": -0.894633
         },
         {
          "i": 5.15392e-05,
          "t": 8.065,
          "v": -0.8942
         },
         {
          "i": 5.18268e-05,
          "t": 8.07,
          "v": -0.893635
         },
         {
          "i": 5.22683e-05,
          "t": 8.075,
          "v": -0.893186
         },
         {
          "i": 5.24088e-05,
          "t": 8.08,
          "v": -0.892669
         },
         {
          "i": 5.25359e-05,
          "t": 8.085,
          "v": -0.892148
         },
         {
          "i": 5.3158e-05,
          "t": 8.09,
          "v": -0.891676
         },
         {
          "i": 5.33854e-05,
          "t": 8.095,
          "v": -0.891167
         },
         {
          "i": 5.36129e-05,
          "t": 8.1,
          "v": -0.890646
         },
         {
          "i": 5.38737e-05,
          "t": 8.105,
          "v": -0.890175
         },
         {
          "i": 5.46631e-05,
          "t": 8.11,
          "v": -0.889643
         },
         {
          "i": 5.5051e-05,
          "t": 8.115,
          "v": -0.889186
         },
         {
          "i": 5.48704e-05,
          "t": 8.12,
          "v": -0.888662
         },
         {
          "i": 5.53721e-05,
          "t": 8.125,
          "v": -0.888158
         },
         {
          "i": 5.5827e-05,
          "t": 8.13,
          "v": -0.887708
         },
         {
          "i": 5.61548e-05,
          "t": 8.135,
          "v": -0.887174
         },
         {
          "i": 5.65962e-05,
          "t": 8.14,
          "v": -0.886648
         },
         {
          "i": 5.66096e-05,
          "t": 8.145,
          "v": -0.886197
         },
         {
          "i": 5.70912e-05,
          "t": 8.15,
          "v": -0.885662
         },
         {
          "i": 5.74792e-05,
          "t": 8.155,
          "v": -0.885176
         },
         {
          "i": 5.77802e-05,
          "t": 8.16,
          "v": -0.884661
         },
         {
          "i": 5.8215e-05,
          "t": 8.165,
          "v": -0.884173
         },
         {
          "i": 5.83421e-05,
          "t": 8.17,
          "v": -0.883671
         },
         {
          "i": 5.84492e-05,
          "t": 8.175,
          "v": -0.883162
         },
         {
          "i": 5.83221e-05,
          "t": 8.18,
          "v": -0.882574
         },
         {
          "i": 5.84559e-05,
          "t": 8.185,
          "v": -0.882201
         },
         {
          "i": 5.87033e-05,
          "t": 8.19,
          "v": -0.881637
         },
         {
          "i": 5.88505e-05,
          "t": 8.195,
          "v": -0.881159
         },
         {
          "i": 5.8904e-05,
          "t": 8.2,
          "v": -0.880653
         },
         {
          "i": 5.91783e-05,
          "t": 8.205,
          "v": -0.8801
         },
         {
          "i": 5.9205e-05,
          "t": 8.21,
          "v": -0.879727
         },
         {
          "i": 5.93321e-05,
          "t": 8.215,
          "v": -0.879149
         },
         {
          "i": 5.94793e-05,
          "t": 8.22,
          "v": -0.878611
         },
         {
          "i": 5.97803e-05,
          "t": 8.225,
          "v": -0.878205
         },
         {
          "i": 5.96666e-05,
          "t": 8.23,
          "v": -0.877616
         },
         {
          "i": 5.97803e-05,
          "t": 8.235,
          "v": -0.877154
         },
         {
          "i": 6.00144e-05,
          "t": 8.24,
          "v": -0.87665
         },
         {
          "i": 6.01683e-05,
          "t": 8.245,
          "v": -0.876132
         },
         {
          "i": 6.01348e-05,
          "t": 8.25,
          "v": -0.875682
         },
         {
          "i": 6.0282e-05,
          "t": 8.255,
          "v": -0.875168
         },
         {
          "i": 6.03623e-05,
          "t": 8.26,
          "v": -0.874651
         },
         {
          "i": 6.06365e-05,
          "t": 8.265,
          "v": -0.874187
         },
         {
          "i": 6.0583e-05,
          "t": 8.27,
          "v": -0.873646
         },
         {
          "i": 6.05295e-05,
          "t": 8.275,
          "v": -0.873172
         },
         {
          "i": 6.0777e-05,
          "t": 8.28,
          "v": -0.872668
         },
         {
          "i": 6.06834e-05,
          "t": 8.285,
          "v": -0.872149
         },
         {
          "i": 6.08506e-05,
          "t": 8.29,
          "v": -0.871713
         },
         {
          "i": 6.08773e-05,
          "t": 8.295,
          "v": -0.871177
         },
         {
          "i": 6.09844e-05,
          "t": 8.3,
          "v": -0.870668
         },
         {
          "i": 6.09242e-05,
          "t": 8.305,
          "v": -0.870203
         },
         {
          "i": 6.11115e-05,
          "t": 8.31,
          "v": -0.869621
         },
         {
          "i": 6.12988e-05,
          "t": 8.315,
          "v": -0.869133
         },
         {
          "i": 6.12586e-05,
          "t": 8.32,
          "v": -0.868636
         },
         {
          "i": 6.12519e-05,
          "t": 8.325,
          "v": -0.868103
         },
         {
          "i": 6.13991e-05,
          "t": 8.33,
          "v": -0.867657
         },
         {
          "i": 6.1078e-05,
          "t": 8.335,
          "v": -0.867144
         },
         {
          "i": 6.12787e-05,
          "t": 8.34,
          "v": -0.866621
         },
         {
          "i": 6.13523e-05,
          "t": 8.345,
          "v": -0.866149
         },
         {
          "i": 6.1359e-05,
          "t": 8.35,
          "v": -0.865625
         },
         {
          "i": 6.13723e-05,
          "t": 8.355,
          "v": -0.865141
         },
         {
          "i": 6.14058e-05,
          "t": 8.36,
          "v": -0.864632
         },
         {
          "i": 6.1359e-05,
          "t": 8.365,
          "v": -0.864133
         },
         {
          "i": 6.14459e-05,
          "t": 8.37,
          "v": -0.863676
         },
         {
          "i": 6.16399e-05,
          "t": 8.375,
          "v": -0.863136
         },
         {
          "i": 6.13055e-05,
          "t": 8.38,
          "v": -0.862626
         },
         {
          "i": 6.19342e-05,
          "t": 8.385,
          "v": -0.862173
         },
         {
          "i": 6.1854e-05,
          "t": 8.39,
          "v": -0.861631
         },
         {
          "i": 6.15463e-05,
          "t": 8.395,
          "v": -0.861132
         },
         {
          "i": 6.14125e-05,
          "t": 8.4,
          "v": -0.860633
         },
         {
          "i": 6.13456e-05,
          "t": 8.405,
          "v": -0.860134
         },
         {
          "i": 6.1466e-05,
          "t": 8.41,
          "v": -0.859633
         },
         {
          "i": 6.16466e-05,
          "t": 8.415,
          "v": -0.859134
         },
         {
          "i": 6.1359e-05,
          "t": 8.42,
          "v": -0.858625
         },
         {
          "i": 6.1379e-05,
          "t": 8.425,
          "v": -0.858151
         },
         {
          "i": 6.1466e-05,
          "t": 8.43,
          "v": -0.857635
         },
         {
          "i": 6.13188e-05,
          "t": 8.435,
          "v": -0.857102
         },
         {
          "i": 6.16466e-05,
          "t": 8.44,
          "v": -0.856645
         },
         {
          "i": 6.11048e-05,
          "t": 8.445,
          "v": -0.856066
         },
         {
          "i": 6.1165e-05,
          "t": 8.45,
          "v": -0.85569
         },
         {
          "i": 6.14459e-05,
          "t": 8.455,
          "v": -0.855129
         },
         {
          "i": 6.1359e-05,
          "t": 8.46,
          "v": -0.854581
         },
         {
          "i": 6.13991e-05,
          "t": 8.465,
          "v": -0.854202
         },
         {
          "i": 6.17001e-05,
          "t": 8.47,
          "v": -0.853622
         },
         {
          "i": 6.11449e-05,
          "t": 8.475,
          "v": -0.853141
         },
         {
          "i": 6.13055e-05,
          "t": 8.48,
          "v": -0.85265
         },
         {
          "i": 6.10847e-05,
          "t": 8.485,
          "v": -0.852096
         },
         {
          "i": 6.09643e-05,
          "t": 8.49,
          "v": -0.851644
         },
         {
          "i": 6.12386e-05,
          "t": 8.495,
          "v": -0.851126
         },
         {
          "i": 6.11248e-05,
          "t": 8.5,
          "v": -0.850613
         },
         {
          "i": 6.11182e-05,
          "t": 8.505,
          "v": -0.850152
         },
         {
          "i": 6.08171e-05,
          "t": 8.51,
          "v": -0.849628
         },
         {
          "i": 6.05629e-05,
          "t": 8.515,
          "v": -0.849132
         },
         {
          "i": 6.05295e-05,
          "t": 8.52,
          "v": -0.848646
         },
         {
          "i": 6.0389e-05,
          "t": 8.525,
          "v": -0.848105
         },
         {
          "i": 6.07168e-05,
          "t": 8.53,
          "v": -0.847685
         },
         {
          "i": 6.04693e-05,
          "t": 8.535,
          "v": -0.847143
         },
         {
          "i": 6.05964e-05,
          "t": 8.54,
          "v": -0.84663
         },
         {
          "i": 6.06633e-05,
          "t": 8.545,
          "v": -0.846195
         },
         {
          "i": 6.0389e-05,
          "t": 8.55,
          "v": -0.845637
         },
         {
          "i": 6.03288e-05,
          "t": 8.555,
          "v": -0.845164
         },
         {
          "i": 6.02887e-05,
          "t": 8.56,
          "v": -0.844675
         },
         {
          "i": 6.01884e-05,
          "t": 8.565,
          "v": -0.844107
         },
         {
          "i": 6.02419e-05,
          "t": 8.57,
          "v": -0.843671
         },
         {
          "i": 6.02285e-05,
          "t": 8.575,
          "v": -0.843166
         },
         {
          "i": 6.03556e-05,
          "t": 8.58,
          "v": -0.842628
         },
         {
          "i": 6.00144e-05,
          "t": 8.585,
          "v": -0.842172
         },
         {
          "i": 5.98472e-05,
          "t": 8.59,
          "v": -0.841631
         },
         {
          "i": 5.97937e-05,
          "t": 8.595,
          "v": -0.841162
         },
         {
          "i": 5.97602e-05,
          "t": 8.6,
          "v": -0.840639
         },
         {
          "i": 5.99275e-05,
          "t": 8.605,
          "v": -0.84013
         },
         {
          "i": 5.96733e-05,
          "t": 8.61,
          "v": -0.83969
         },
         {
          "i": 5.95997e-05,
          "t": 8.615,
          "v": -0.839153
         },
         {
          "i": 5.94191e-05,
          "t": 8.62,
          "v": -0.838638
         },
         {
          "i": 5.94525e-05,
          "t": 8.625,
          "v": -0.838189
         },
         {
          "i": 5.9399e-05,
          "t": 8.63,
          "v": -0.837638
         },
         {
          "i": 5.89843e-05,
          "t": 8.635,
          "v": -0.837155
         },
         {
          "i": 5.91582e-05,
          "t": 8.64,
          "v": -0.836641
         },
         {
          "i": 5.90378e-05,
          "t": 8.645,
          "v": -0.836151
         },
         {
          "i": 5.89375e-05,
          "t": 8.65,
          "v": -0.83566
         },
         {
          "i": 5.85829e-05,
          "t": 8.655,
          "v": -0.835154
         },
         {
          "i": 5.86632e-05,
          "t": 8.66,
          "v": -0.834644
         },
         {
          "i": 5.87033e-05,
          "t": 8.665,
          "v": -0.834162
         },
         {
          "i": 5.86766e-05,
          "t": 8.67,
          "v": -0.833653
         },
         {
          "i": 5.87368e-05,
          "t": 8.675,
          "v": -0.833171
         },
         {
          "i": 5.85294e-05,
          "t": 8.68,
          "v": -0.832648
         },
         {
          "i": 5.82685e-05,
          "t": 8.685,
          "v": -0.832168
         },
         {
          "i": 5.82953e-05,
          "t": 8.69,
          "v": -0.831701
         },
         {
          "i": 5.8409e-05,
          "t": 8.695,
          "v": -0.831178
         },
         {
          "i": 5.81548e-05,
          "t": 8.7,
          "v": -0.830581
         },
         {
          "i": 5.82752e-05,
          "t": 8.705,
          "v": -0.830207
         },
         {
          "i": 5.82017e-05,
          "t": 8.71,
          "v": -0.82964
         },
         {
          "i": 5.79876e-05,
          "t": 8.715,
          "v": -0.829172
         },
         {
          "i": 5.79608e-05,
          "t": 8.72,
          "v": -0.828681
         },
         {
          "i": 5.7894e-05,
          "t": 8.725,
          "v": -0.8281
         },
         {
          "i": 5.7807e-05,
          "t": 8.73,
          "v": -0.827682
         },
         {
          "i": 5.77602e-05,
          "t": 8.735,
          "v": -0.827159
         },
         {
          "i": 5.75796e-05,
          "t": 8.74,
          "v": -0.826609
         },
         {
          "i": 5.75528e-05,
          "t": 8.745,
          "v": -0.82617
         },
         {
          "i": 5.75528e-05,
          "t": 8.75,
          "v": -0.825623
         },
         {
          "i": 5.71113e-05,
          "t": 8.755,
          "v": -0.825175
         },
         {
          "i": 5.68304e-05,
          "t": 8.76,
          "v": -0.824639
         },
         {
          "i": 5.68103e-05,
          "t": 8.765,
          "v": -0.824123
         },
         {
          "i": 5.68304e-05,
          "t": 8.77,
          "v": -0.823709
         },
         {
          "i": 5.66966e-05,
          "t": 8.775,
          "v": -0.823158
         },
         {
          "i": 5.64825e-05,
          "t": 8.78,
          "v": -0.822636
         },
         {
          "i": 5.66029e-05,
          "t": 8.785,
          "v": -0.822196
         },
         {
          "i": 5.63554e-05,
          "t": 8.79,
          "v": -0.821647
         },
         {
          "i": 5.6128e-05,
          "t": 8.795,
          "v": -0.821169
         },
         {
          "i": 5.54323e-05,
          "t": 8.8,
          "v": -0.820677
         },
         {
          "i": 5.55862e-05,
          "t": 8.805,
          "v": -0.820146
         },
         {
          "i": 5.55594e-05,
          "t": 8.81,
          "v": -0.8197
         },
         {
          "i": 5.57668e-05,
          "t": 8.815,
          "v": -0.819185
         },
         {
          "i": 5.52517e-05,
          "t": 8.82,
          "v": -0.818648
         },
         {
          "i": 5.5245e-05,
          "t": 8.825,
          "v": -0.818191
         },
         {
          "i": 5.46764e-05,
          "t": 8.83,
          "v": -0.817623
         },
         {
          "i": 5.45895e-05,
          "t": 8.835,
          "v": -0.817168
         },
         {
          "i": 5.45226e-05,
          "t": 8.84,
          "v": -0.816645
         },
         {
          "i": 5.42751e-05,
          "t": 8.845,
          "v": -0.81613
         },
         {
          "i": 5.44089e-05,
          "t": 8.85,
          "v": -0.815696
         },
         {
          "i": 5.40008e-05,
          "t": 8.855,
          "v": -0.815154
         },
         {
          "i": 5.40343e-05,
          "t": 8.86,
          "v": -0.814638
         },
         {
          "i": 5.39406e-05,
          "t": 8.865,
          "v": -0.814193
         },
         {
          "i": 5.39808e-05,
          "t": 8.87,
          "v": -0.813629
         },
         {
          "i": 5.36597e-05,
          "t": 8.875,
          "v": -0.813154
         },
         {
          "i": 5.33921e-05,
          "t": 8.88,
          "v": -0.812654
         },
         {
          "i": 5.33386e-05,
          "t": 8.885,
          "v": -0.81215
         },
         {
          "i": 5.32918e-05,
          "t": 8.89,
          "v": -0.811659
         },
         {
          "i": 5.31112e-05,
          "t": 8.895,
          "v": -0.811155
         },
         {
          "i": 5.30844e-05,
          "t": 8.9,
          "v": -0.810644
         },
         {
          "i": 5.28704e-05,
          "t": 8.905,
          "v": -0.810156
         },
         {
          "i": 5.27165e-05,
          "t": 8.91,
          "v": -0.809639
         },
         {
          "i": 5.28503e-05,
          "t": 8.915,
          "v": -0.80917
         },
         {
          "i": 5.2877e-05,
          "t": 8.92,
          "v": -0.808647
         },
         {
          "i": 5.27165e-05,
          "t": 8.925,
          "v": -0.808174
         },
         {
          "i": 5.2469e-05,
          "t": 8.93,
          "v": -0.807708
         },
         {
          "i": 5.22349e-05,
          "t": 8.935,
          "v": -0.80716
         },
         {
          "i": 5.23018e-05,
          "t": 8.94,
          "v": -0.806649
         },
         {
          "i": 5.22616e-05,
          "t": 8.945,
          "v": -0.80619
         },
         {
          "i": 5.21747e-05,
          "t": 8.95,
          "v": -0.80567
         },
         {
          "i": 5.22282e-05,
          "t": 8.955,
          "v": -0.805167
         },
         {
          "i": 5.19205e-05,
          "t": 8.96,
          "v": -0.804695
         },
         {
          "i": 5.17466e-05,
          "t": 8.965,
          "v": -0.804089
         },
         {
          "i": 5.15994e-05,
          "t": 8.97,
          "v": -0.803745
         },
         {
          "i": 5.17131e-05,
          "t": 8.975,
          "v": -0.803196
         },
         {
          "i": 5.18268e-05,
          "t": 8.98,
          "v": -0.802598
         },
         {
          "i": 5.14456e-05,
          "t": 8.985,
          "v": -0.80219
         },
         {
          "i": 5.11579e-05,
          "t": 8.99,
          "v": -0.801638
         },
         {
          "i": 5.13318e-05,
          "t": 8.995,
          "v": -0.801162
         },
         {
          "i": 5.0897e-05,
          "t": 9,
          "v": -0.800645
         },
         {
          "i": 5.08502e-05,
          "t": 9.005,
          "v": -0.800128
         },
         {
          "i": 5.06964e-05,
          "t": 9.01,
          "v": -0.799714
         },
         {
          "i": 5.07699e-05,
          "t": 9.015,
          "v": -0.799152
         },
         {
          "i": 5.0576e-05,
          "t": 9.02,
          "v": -0.798628
         },
         {
          "i": 5.0576e-05,
          "t": 9.025,
          "v": -0.7982
         },
         {
          "i": 5.02014e-05,
          "t": 9.03,
          "v": -0.797654
         },
         {
          "i": 5.03418e-05,
          "t": 9.035,
          "v": -0.797184
         },
         {
          "i": 5.0081e-05,
          "t": 9.04,
          "v": -0.796691
         },
         {
          "i": 5.01612e-05,
          "t": 9.045,
          "v": -0.796136
         },
         {
          "i": 5.01545e-05,
          "t": 9.05,
          "v": -0.795707
         },
         {
          "i": 4.96328e-05,
          "t": 9.055,
          "v": -0.795204
         },
         {
          "i": 4.95124e-05,
          "t": 9.06,
          "v": -0.794664
         },
         {
          "i": 4.95592e-05,
          "t": 9.065,
          "v": -0.794205
         },
         {
          "i": 4.93251e-05,
          "t": 9.07,
          "v": -0.793676
         },
         {
          "i": 4.90107e-05,
          "t": 9.075,
          "v": -0.793197
         },
         {
          "i": 4.92782e-05,
          "t": 9.08,
          "v": -0.792699
         },
         {
          "i": 4.88434e-05,
          "t": 9.085,
          "v": -0.792129
         },
         {
          "i": 4.90174e-05,
          "t": 9.09,
          "v": -0.791687
         },
         {
          "i": 4.85625e-05,
          "t": 9.095,
          "v": -0.791179
         },
         {
          "i": 4.84622e-05,
          "t": 9.1,
          "v": -0.790657
         },
         {
          "i": 4.81678e-05,
          "t": 9.105,
          "v": -0.790209
         },
         {
          "i": 4.80541e-05,
          "t": 9.11,
          "v": -0.789651
         },
         {
          "i": 4.79739e-05,
          "t": 9.115,
          "v": -0.789185
         },
         {
          "i": 4.81745e-05,
          "t": 9.12,
          "v": -0.788673
         },
         {
          "i": 4.80675e-05,
          "t": 9.125,
          "v": -0.788149
         },
         {
          "i": 4.76795e-05,
          "t": 9.13,
          "v": -0.78768
         },
         {
          "i": 4.74387e-05,
          "t": 9.135,
          "v": -0.787179
         },
         {
          "i": 4.72849e-05,
          "t": 9.14,
          "v": -0.786662
         },
         {
          "i": 4.73317e-05,
          "t": 9.145,
          "v": -0.786178
         },
         {
          "i": 4.72514e-05,
          "t": 9.15,
          "v": -0.785647
         },
         {
          "i": 4.7218e-05,
          "t": 9.155,
          "v": -0.785186
         },
         {
          "i": 4.69705e-05,
          "t": 9.16,
          "v": -0.784663
         },
         {
          "i": 4.67363e-05,
          "t": 9.165,
          "v": -0.784156
         },
         {
          "i": 4.65223e-05,
          "t": 9.17,
          "v": -0.78371
         },
         {
          "i": 4.65557e-05,
          "t": 9.175,
          "v": -0.783167
         },
         {
          "i": 4.64554e-05,
          "t": 9.18,
          "v": -0.782649
         },
         {
          "i": 4.65825e-05,
          "t": 9.185,
          "v": -0.782202
         },
         {
          "i": 4.6549e-05,
          "t": 9.19,
          "v": -0.781658
         },
         {
          "i": 4.60206e-05,
          "t": 9.195,
          "v": -0.781166
         },
         {
          "i": 4.60741e-05,
          "t": 9.2,
          "v": -0.780668
         },
         {
          "i": 4.58734e-05,
          "t": 9.205,
          "v": -0.780112
         },
         {
          "i": 4.5753e-05,
          "t": 9.21,
          "v": -0.779739
         },
         {
          "i": 4.5539e-05,
          "t": 9.215,
          "v": -0.779222
         },
         {
          "i": 4.53784e-05,
          "t": 9.22,
          "v": -0.778602
         },
         {
          "i": 4.53985e-05,
          "t": 9.225,
          "v": -0.77821
         },
         {
          "i": 4.53316e-05,
          "t": 9.23,
          "v": -0.777665
         },
         {
          "i": 4.50239e-05,
          "t": 9.235,
          "v": -0.777182
         },
         {
          "i": 4.52915e-05,
          "t": 9.24,
          "v": -0.776666
         },
         {
          "i": 4.53049e-05,
          "t": 9.245,
          "v": -0.776117
         },
         {
          "i": 4.49436e-05,
          "t": 9.25,
          "v": -0.775713
         },
         {
          "i": 4.50172e-05,
          "t": 9.255,
          "v": -0.775167
         },
         {
          "i": 4.51176e-05,
          "t": 9.26,
          "v": -0.774638
         },
         {
          "i": 4.47095e-05,
          "t": 9.265,
          "v": -0.774204
         },
         {
          "i": 4.48767e-05,
          "t": 9.27,
          "v": -0.773632
         },
         {
          "i": 4.47563e-05,
          "t": 9.275,
          "v": -0.773183
         },
         {
          "i": 4.47563e-05,
          "t": 9.28,
          "v": -0.77269
         },
         {
          "i": 4.46226e-05,
          "t": 9.285,
          "v": -0.772139
         },
         {
          "i": 4.45356e-05,
          "t": 9.29,
          "v": -0.771709
         },
         {
          "i": 4.43416e-05,
          "t": 9.295,
          "v": -0.771205
         },
         {
          "i": 4.42546e-05,
          "t": 9.3,
          "v": -0.770674
         },
         {
          "i": 4.42212e-05,
          "t": 9.305,
          "v": -0.7702
         },
         {
          "i": 4.40406e-05,
          "t": 9.31,
          "v": -0.769668
         },
         {
          "i": 4.39737e-05,
          "t": 9.315,
          "v": -0.769187
         },
         {
          "i": 4.40607e-05,
          "t": 9.32,
          "v": -0.768683
         },
         {
          "i": 4.38198e-05,
          "t": 9.325,
          "v": -0.768146
         },
         {
          "i": 4.38198e-05,
          "t": 9.33,
          "v": -0.767702
         },
         {
          "i": 4.37463e-05,
          "t": 9.335,
          "v": -0.767178
         },
         {
          "i": 4.36928e-05,
          "t": 9.34,
          "v": -0.766619
         },
         {
          "i": 4.35723e-05,
          "t": 9.345,
          "v": -0.766182
         },
         {
          "i": 4.34386e-05,
          "t": 9.35,
          "v": -0.765623
         },
         {
          "i": 4.3666e-05,
          "t": 9.355,
          "v": -0.765157
         },
         {
          "i": 4.36125e-05,
          "t": 9.36,
          "v": -0.764663
         },
         {
          "i": 4.3365e-05,
          "t": 9.365,
          "v": -0.764106
         },
         {
          "i": 4.33984e-05,
          "t": 9.37,
          "v": -0.763662
         },
         {
          "i": 4.31643e-05,
          "t": 9.375,
          "v": -0.763162
         },
         {
          "i": 4.30238e-05,
          "t": 9.38,
          "v": -0.76263
         },
         {
          "i": 4.30506e-05,
          "t": 9.385,
          "v": -0.762156
         },
         {
          "i": 4.28633e-05,
          "t": 9.39,
          "v": -0.761626
         },
         {
          "i": 4.28365e-05,
          "t": 9.395,
          "v": -0.761169
         },
         {
          "i": 4.25355e-05,
          "t": 9.4,
          "v": -0.76064
         },
         {
          "i": 4.27429e-05,
          "t": 9.405,
          "v": -0.760122
         },
         {
          "i": 4.2783e-05,
          "t": 9.41,
          "v": -0.759694
         },
         {
          "i": 4.24553e-05,
          "t": 9.415,
          "v": -0.759151
         },
         {
          "i": 4.23148e-05,
          "t": 9.42,
          "v": -0.758632
         },
         {
          "i": 4.22211e-05,
          "t": 9.425,
          "v": -0.758188
         },
         {
          "i": 4.24619e-05,
          "t": 9.43,
          "v": -0.757639
         },
         {
          "i": 4.24954e-05,
          "t": 9.435,
          "v": -0.757136
         },
         {
          "i": 4.22613e-05,
          "t": 9.44,
          "v": -0.756648
         },
         {
          "i": 4.23549e-05,
          "t": 9.445,
          "v": -0.75615
         },
         {
          "i": 4.17663e-05,
          "t": 9.45,
          "v": -0.755654
         },
         {
          "i": 4.18131e-05,
          "t": 9.455,
          "v": -0.755146
         },
         {
          "i": 4.18599e-05,
          "t": 9.46,
          "v": -0.754551
         },
         {
          "i": 4.18465e-05,
          "t": 9.465,
          "v": -0.754201
         },
         {
          "i": 4.20606e-05,
          "t": 9.47,
          "v": -0.753652
         },
         {
          "i": 4.16057e-05,
          "t": 9.475,
          "v": -0.753147
         },
         {
          "i": 4.1385e-05,
          "t": 9.48,
          "v": -0.752644
         },
         {
          "i": 4.17328e-05,
          "t": 9.485,
          "v": -0.752088
         },
         {
          "i": 4.14452e-05,
          "t": 9.49,
          "v": -0.75171
         },
         {
          "i": 4.1084e-05,
          "t": 9.495,
          "v": -0.751157
         },
         {
          "i": 4.06492e-05,
          "t": 9.5,
          "v": -0.750597
         },
         {
          "i": 4.07227e-05,
          "t": 9.505,
          "v": -0.750206
         },
         {
          "i": 4.07763e-05,
          "t": 9.51,
          "v": -0.749612
         },
         {
          "i": 4.05288e-05,
          "t": 9.515,
          "v": -0.749128
         },
         {
          "i": 4.04284e-05,
          "t": 9.52,
          "v": -0.748643
         },
         {
          "i": 4.05956e-05,
          "t": 9.525,
          "v": -0.748099
         },
         {
          "i": 4.02411e-05,
          "t": 9.53,
          "v": -0.747671
         },
         {
          "i": 4.06893e-05,
          "t": 9.535,
          "v": -0.747169
         },
         {
          "i": 4.03281e-05,
          "t": 9.54,
          "v": -0.746624
         },
         {
          "i": 4.05689e-05,
          "t": 9.545,
          "v": -0.746176
         },
         {
          "i": 4.01073e-05,
          "t": 9.55,
          "v": -0.745642
         },
         {
          "i": 3.98732e-05,
          "t": 9.555,
          "v": -0.745181
         },
         {
          "i": 3.98398e-05,
          "t": 9.56,
          "v": -0.744657
         },
         {
          "i": 3.96792e-05,
          "t": 9.565,
          "v": -0.744122
         },
         {
          "i": 3.98732e-05,
          "t": 9.57,
          "v": -0.743693
         },
         {
          "i": 3.95923e-05,
          "t": 9.575,
          "v": -0.743154
         },
         {
          "i": 3.97996e-05,
          "t": 9.58,
          "v": -0.742641
         },
         {
          "i": 3.95521e-05,
          "t": 9.585,
          "v": -0.742199
         },
         {
          "i": 3.94317e-05,
          "t": 9.59,
          "v": -0.741639
         },
         {
          "i": 3.93113e-05,
          "t": 9.595,
          "v": -0.741151
         },
         {
          "i": 3.91642e-05,
          "t": 9.6,
          "v": -0.740669
         },
         {
          "i": 3.88832e-05,
          "t": 9.605,
          "v": -0.740106
         },
         {
          "i": 3.89568e-05,
          "t": 9.61,
          "v": -0.739694
         },
         {
          "i": 3.87695e-05,
          "t": 9.615,
          "v": -0.739178
         },
         {
          "i": 3.88899e-05,
          "t": 9.62,
          "v": -0.738643
         },
         {
          "i": 3.87361e-05,
          "t": 9.625,
          "v": -0.738164
         },
         {
          "i": 3.8609e-05,
          "t": 9.63,
          "v": -0.737629
         },
         {
          "i": 3.84752e-05,
          "t": 9.635,
          "v": -0.737163
         },
         {
          "i": 3.8522e-05,
          "t": 9.64,
          "v": -0.736649
         },
         {
          "i": 3.83949e-05,
          "t": 9.645,
          "v": -0.736137
         },
         {
          "i": 3.82477e-05,
          "t": 9.65,
          "v": -0.735717
         },
         {
          "i": 3.79333e-05,
          "t": 9.655,
          "v": -0.735151
         },
         {
          "i": 3.78865e-05,
          "t": 9.66,
          "v": -0.734647
         },
         {
          "i": 3.78598e-05,
          "t": 9.665,
          "v": -0.734197
         },
         {
          "i": 3.74718e-05,
          "t": 9.67,
          "v": -0.733637
         },
         {
          "i": 3.74785e-05,
          "t": 9.675,
          "v": -0.733149
         },
         {
          "i": 3.71507e-05,
          "t": 9.68,
          "v": -0.732652
         },
         {
          "i": 3.72377e-05,
          "t": 9.685,
          "v": -0.732157
         },
         {
          "i": 3.70102e-05,
          "t": 9.69,
          "v": -0.731651
         },
         {
          "i": 3.72577e-05,
          "t": 9.695,
          "v": -0.731155
         },
         {
          "i": 3.68965e-05,
          "t": 9.7,
          "v": -0.730653
         },
         {
          "i": 3.71039e-05,
          "t": 9.705,
          "v": -0.730153
         },
         {
          "i": 3.69366e-05,
          "t": 9.71,
          "v": -0.729646
         },
         {
          "i": 3.70637e-05,
          "t": 9.715,
          "v": -0.72913
         },
         {
          "i": 3.67761e-05,
          "t": 9.72,
          "v": -0.728684
         },
         {
          "i": 3.7124e-05,
          "t": 9.725,
          "v": -0.72807
         },
         {
          "i": 3.69099e-05,
          "t": 9.73,
          "v": -0.727745
         },
         {
          "i": 3.68631e-05,
          "t": 9.735,
          "v": -0.727174
         },
         {
          "i": 3.66892e-05,
          "t": 9.74,
          "v": -0.726587
         },
         {
          "i": 3.65754e-05,
          "t": 9.745,
          "v": -0.726231
         },
         {
          "i": 3.66089e-05,
          "t": 9.75,
          "v": -0.725638
         },
         {
          "i": 3.64149e-05,
          "t": 9.755,
          "v": -0.72515
         },
         {
          "i": 3.65152e-05,
          "t": 9.76,
          "v": -0.724664
         },
         {
          "i": 3.62477e-05,
          "t": 9.765,
          "v": -0.7241
         },
         {
          "i": 3.61941e-05,
          "t": 9.77,
          "v": -0.723651
         },
         {
          "i": 3.65821e-05,
          "t": 9.775,
          "v": -0.72314
         },
         {
          "i": 3.61674e-05,
          "t": 9.78,
          "v": -0.722619
         },
         {
          "i": 3.6154e-05,
          "t": 9.785,
          "v": -0.722176
         },
         {
          "i": 3.61005e-05,
          "t": 9.79,
          "v": -0.721636
         },
         {
          "i": 3.60002e-05,
          "t": 9.795,
          "v": -0.721182
         },
         {
          "i": 3.59065e-05,
          "t": 9.8,
          "v": -0.720647
         },
         {
          "i": 3.57393e-05,
          "t": 9.805,
          "v": -0.720133
         },
         {
          "i": 3.59466e-05,
          "t": 9.81,
          "v": -0.719729
         },
         {
          "i": 3.59199e-05,
          "t": 9.815,
          "v": -0.719173
         },
         {
          "i": 3.58664e-05,
          "t": 9.82,
          "v": -0.718635
         },
         {
          "i": 3.594e-05,
          "t": 9.825,
          "v": -0.718212
         },
         {
          "i": 3.58329e-05,
          "t": 9.83,
          "v": -0.717652
         },
         {
          "i": 3.57125e-05,
          "t": 9.835,
          "v": -0.717186
         },
         {
          "i": 3.57727e-05,
          "t": 9.84,
          "v": -0.716697
         },
         {
          "i": 3.56189e-05,
          "t": 9.845,
          "v": -0.716087
         },
         {
          "i": 3.53379e-05,
          "t": 9.85,
          "v": -0.715666
         },
         {
          "i": 3.54048e-05,
          "t": 9.855,
          "v": -0.715163
         },
         {
          "i": 3.53245e-05,
          "t": 9.86,
          "v": -0.714623
         },
         {
          "i": 3.53312e-05,
          "t": 9.865,
          "v": -0.714167
         },
         {
          "i": 3.51774e-05,
          "t": 9.87,
          "v": -0.713631
         },
         {
          "i": 3.52844e-05,
          "t": 9.875,
          "v": -0.713168
         },
         {
          "i": 3.54717e-05,
          "t": 9.88,
          "v": -0.71264
         },
         {
          "i": 3.51506e-05,
          "t": 9.885,
          "v": -0.712117
         },
         {
          "i": 3.51975e-05,
          "t": 9.89,
          "v": -0.711699
         },
         {
          "i": 3.47225e-05,
          "t": 9.895,
          "v": -0.711139
         },
         {
          "i": 3.46222e-05,
          "t": 9.9,
          "v": -0.710625
         },
         {
          "i": 3.48964e-05,
          "t": 9.905,
          "v": -0.710195
         },
         {
          "i": 3.46021e-05,
          "t": 9.91,
          "v": -0.709628
         },
         {
          "i": 3.4455e-05,
          "t": 9.915,
          "v": -0.709149
         },
         {
          "i": 3.43814e-05,
          "t": 9.92,
          "v": -0.708648
         },
         {
          "i": 3.43613e-05,
          "t": 9.925,
          "v": -0.708133
         },
         {
          "i": 3.4475e-05,
          "t": 9.93,
          "v": -0.707644
         },
         {
          "i": 3.44683e-05,
          "t": 9.935,
          "v": -0.707144
         },
         {
          "i": 3.44483e-05,
          "t": 9.94,
          "v": -0.706631
         },
         {
          "i": 3.43145e-05,
          "t": 9.945,
          "v": -0.706145
         },
         {
          "i": 3.4368e-05,
          "t": 9.95,
          "v": -0.705641
         },
         {
          "i": 3.44215e-05,
          "t": 9.955,
          "v": -0.705165
         },
         {
          "i": 3.42944e-05,
          "t": 9.96,
          "v": -0.704638
         },
         {
          "i": 3.39934e-05,
          "t": 9.965,
          "v": -0.704145
         },
         {
          "i": 3.40268e-05,
          "t": 9.97,
          "v": -0.703695
         },
         {
          "i": 3.39867e-05,
          "t": 9.975,
          "v": -0.70321
         },
         {
          "i": 3.36054e-05,
          "t": 9.98,
          "v": -0.702582
         },
         {
          "i": 3.35519e-05,
          "t": 9.985,
          "v": -0.702221
         },
         {
          "i": 3.34716e-05,
          "t": 9.99,
          "v": -0.701649
         },
         {
          "i": 3.31104e-05,
          "t": 9.995,
          "v": -0.701185
         },
         {
          "i": 3.32442e-05,
          "t": 10,
          "v": -0.700696
         },
         {
          "i": 3.31372e-05,
          "t": 10.005,
          "v": -0.700094
         },
         {
          "i": 3.28696e-05,
          "t": 10.01,
          "v": -0.699692
         },
         {
          "i": 3.28897e-05,
          "t": 10.015,
          "v": -0.699166
         },
         {
          "i": 3.29766e-05,
          "t": 10.02,
          "v": -0.698603
         },
         {
          "i": 3.31907e-05,
          "t": 10.025,
          "v": -0.698164
         },
         {
          "i": 3.29164e-05,
          "t": 10.03,
          "v": -0.697626
         },
         {
          "i": 3.28495e-05,
          "t": 10.035,
          "v": -0.697146
         },
         {
          "i": 3.29633e-05,
          "t": 10.04,
          "v": -0.69663
         },
         {
          "i": 3.26823e-05,
          "t": 10.045,
          "v": -0.696111
         },
         {
          "i": 3.24883e-05,
          "t": 10.05,
          "v": -0.695693
         },
         {
          "i": 3.23478e-05,
          "t": 10.055,
          "v": -0.695152
         },
         {
          "i": 3.2796e-05,
          "t": 10.06,
          "v": -0.69462
         },
         {
          "i": 3.2689e-05,
          "t": 10.065,
          "v": -0.694198
         },
         {
          "i": 3.27358e-05,
          "t": 10.07,
          "v": -0.693642
         },
         {
          "i": 3.22609e-05,
          "t": 10.075,
          "v": -0.693151
         },
         {
          "i": 3.23679e-05,
          "t": 10.08,
          "v": -0.692671
         },
         {
          "i": 3.23478e-05,
          "t": 10.085,
          "v": -0.692119
         },
         {
          "i": 3.2194e-05,
          "t": 10.09,
          "v": -0.691678
         },
         {
          "i": 3.1913e-05,
          "t": 10.095,
          "v": -0.691185
         },
         {
          "i": 3.21606e-05,
          "t": 10.1,
          "v": -0.69065
         },
         {
          "i": 3.2087e-05,
          "t": 10.105,
          "v": -0.690179
         },
         {
          "i": 3.17525e-05,
          "t": 10.11,
          "v": -0.689635
         },
         {
          "i": 3.1913e-05,
          "t": 10.115,
          "v": -0.689178
         },
         {
          "i": 3.18127e-05,
          "t": 10.12,
          "v": -0.688652
         },
         {
          "i": 3.15786e-05,
          "t": 10.125,
          "v": -0.688128
         },
         {
          "i": 3.19666e-05,
          "t": 10.13,
          "v": -0.687702
         },
         {
          "i": 3.17926e-05,
          "t": 10.135,
          "v": -0.687156
         },
         {
          "i": 3.16455e-05,
          "t": 10.14,
          "v": -0.686642
         },
         {
          "i": 3.15585e-05,
          "t": 10.145,
          "v": -0.686191
         },
         {
          "i": 3.14314e-05,
          "t": 10.15,
          "v": -0.685631
         },
         {
          "i": 3.14448e-05,
          "t": 10.155,
          "v": -0.685169
         },
         {
          "i": 3.12642e-05,
          "t": 10.16,
          "v": -0.684668
         },
         {
          "i": 3.10501e-05,
          "t": 10.165,
          "v": -0.684144
         },
         {
          "i": 3.1204e-05,
          "t": 10.17,
          "v": -0.683666
         },
         {
          "i": 3.06488e-05,
          "t": 10.175,
          "v": -0.683156
         },
         {
          "i": 3.07491e-05,
          "t": 10.18,
          "v": -0.682646
         },
         {
          "i": 3.08628e-05,
          "t": 10.185,
          "v": -0.682164
         },
         {
          "i": 3.07692e-05,
          "t": 10.19,
          "v": -0.681639
         },
         {
          "i": 3.02675e-05,
          "t": 10.195,
          "v": -0.681154
         },
         {
          "i": 3.03879e-05,
          "t": 10.2,
          "v": -0.680638
         },
         {
          "i": 3.04013e-05,
          "t": 10.205,
          "v": -0.680168
         },
         {
          "i": 3.03143e-05,
          "t": 10.21,
          "v": -0.679696
         },
         {
          "i": 3.03076e-05,
          "t": 10.215,
          "v": -0.679153
         },
         {
          "i": 3.04347e-05,
          "t": 10.22,
          "v": -0.67864
         },
         {
          "i": 3.03076e-05,
          "t": 10.225,
          "v": -0.678194
         },
         {
          "i": 3.04882e-05,
          "t": 10.23,
          "v": -0.677665
         },
         {
          "i": 3.01739e-05,
          "t": 10.235,
          "v": -0.677167
         },
         {
          "i": 3.00735e-05,
          "t": 10.24,
          "v": -0.676675
         },
         {
          "i": 2.98528e-05,
          "t": 10.245,
          "v": -0.676089
         },
         {
          "i": 2.97591e-05,
          "t": 10.25,
          "v": -0.675725
         },
         {
          "i": 3.01538e-05,
          "t": 10.255,
          "v": -0.675192
         },
         {
          "i": 2.97391e-05,
          "t": 10.26,
          "v": -0.674606
         },
         {
          "i": 2.97658e-05,
          "t": 10.265,
          "v": -0.674185
         },
         {
          "i": 2.9719e-05,
          "t": 10.27,
          "v": -0.673629
         },
         {
          "i": 2.96855e-05,
          "t": 10.275,
          "v": -0.673159
         },
         {
          "i": 2.97123e-05,
          "t": 10.28,
          "v": -0.672642
         },
         {
          "i": 2.9612e-05,
          "t": 10.285,
          "v": -0.672141
         },
         {
          "i": 2.95986e-05,
          "t": 10.29,
          "v": -0.671695
         },
         {
          "i": 2.9331e-05,
          "t": 10.295,
          "v": -0.671144
         },
         {
          "i": 2.93109e-05,
          "t": 10.3,
          "v": -0.670631
         },
         {
          "i": 2.93912e-05,
          "t": 10.305,
          "v": -0.670203
         },
         {
          "i": 2.96253e-05,
          "t": 10.31,
          "v": -0.669643
         },
         {
          "i": 2.92374e-05,
          "t": 10.315,
          "v": -0.669158
         },
         {
          "i": 2.94247e-05,
          "t": 10.32,
          "v": -0.668667
         },
         {
          "i": 2.91571e-05,
          "t": 10.325,
          "v": -0.668131
         },
         {
          "i": 2.92173e-05,
          "t": 10.33,
          "v": -0.667691
         },
         {
          "i": 2.89966e-05,
          "t": 10.335,
          "v": -0.667172
         },
         {
          "i": 2.91638e-05,
          "t": 10.34,
          "v": -0.666648
         },
         {
          "i": 2.9224e-05,
          "t": 10.345,
          "v": -0.666191
         },
         {
          "i": 2.94581e-05,
          "t": 10.35,
          "v": -0.665663
         },
         {
          "i": 2.91237e-05,
          "t": 10.355,
          "v": -0.665143
         },
         {
          "i": 2.91504e-05,
          "t": 10.36,
          "v": -0.664636
         },
         {
          "i": 2.89096e-05,
          "t": 10.365,
          "v": -0.664088
         },
         {
          "i": 2.8943e-05,
          "t": 10.37,
          "v": -0.66367
         },
         {
          "i": 2.89029e-05,
          "t": 10.375,
          "v": -0.663121
         },
         {
          "i": 2.89364e-05,
          "t": 10.38,
          "v": -0.662604
         },
         {
          "i": 2.87156e-05,
          "t": 10.385,
          "v": -0.662178
         },
         {
          "i": 2.87357e-05,
          "t": 10.39,
          "v": -0.661621
         },
         {
          "i": 2.87557e-05,
          "t": 10.395,
          "v": -0.661137
         },
         {
          "i": 2.86554e-05,
          "t": 10.4,
          "v": -0.660629
         },
         {
          "i": 2.85751e-05,
          "t": 10.405,
          "v": -0.660113
         },
         {
          "i": 2.84547e-05,
          "t": 10.41,
          "v": -0.65964
         },
         {
          "i": 2.84815e-05,
          "t": 10.415,
          "v": -0.659133
         },
         {
          "i": 2.83477e-05,
          "t": 10.42,
          "v": -0.658615
         },
         {
          "i": 2.87022e-05,
          "t": 10.425,
          "v": -0.658141
         },
         {
          "i": 2.85751e-05,
          "t": 10.43,
          "v": -0.657621
         },
         {
          "i": 2.82005e-05,
          "t": 10.435,
          "v": -0.657135
         },
         {
          "i": 2.8535e-05,
          "t": 10.44,
          "v": -0.656625
         },
         {
          "i": 2.82072e-05,
          "t": 10.445,
          "v": -0.656124
         },
         {
          "i": 2.82005e-05,
          "t": 10.45,
          "v": -0.655676
         },
         {
          "i": 2.82005e-05,
          "t": 10.455,
          "v": -0.65513
         },
         {
          "i": 2.82206e-05,
          "t": 10.46,
          "v": -0.654621
         },
         {
          "i": 2.83276e-05,
          "t": 10.465,
          "v": -0.654178
         },
         {
          "i": 2.81002e-05,
          "t": 10.47,
          "v": -0.653639
         },
         {
          "i": 2.82407e-05,
          "t": 10.475,
          "v": -0.653138
         },
         {
          "i": 2.8127e-05,
          "t": 10.48,
          "v": -0.652635
         },
         {
          "i": 2.80868e-05,
          "t": 10.485,
          "v": -0.652092
         },
         {
          "i": 2.80935e-05,
          "t": 10.49,
          "v": -0.651669
         },
         {
          "i": 2.80801e-05,
          "t": 10.495,
          "v": -0.65116
         },
         {
          "i": 2.804e-05,
          "t": 10.5,
          "v": -0.650553
         },
         {
          "i": 2.80333e-05,
          "t": 10.505,
          "v": -0.650178
         },
         {
          "i": 2.79129e-05,
          "t": 10.51,
          "v": -0.649645
         },
         {
          "i": 2.78928e-05,
          "t": 10.515,
          "v": -0.649115
         },
         {
          "i": 2.77858e-05,
          "t": 10.52,
          "v": -0.648625
         },
         {
          "i": 2.7759e-05,
          "t": 10.525,
          "v": -0.648086
         },
         {
          "i": 2.79062e-05,
          "t": 10.53,
          "v": -0.647662
         },
         {
          "i": 2.77122e-05,
          "t": 10.535,
          "v": -0.64712
         },
         {
          "i": 2.76988e-05,
          "t": 10.54,
          "v": -0.646602
         },
         {
          "i": 2.77524e-05,
          "t": 10.545,
          "v": -0.646192
         },
         {
          "i": 2.76587e-05,
          "t": 10.55,
          "v": -0.645616
         },
         {
          "i": 2.77657e-05,
          "t": 10.555,
          "v": -0.645118
         },
         {
          "i": 2.75584e-05,
          "t": 10.56,
          "v": -0.644646
         },
         {
          "i": 2.74848e-05,
          "t": 10.565,
          "v": -0.644099
         },
         {
          "i": 2.74447e-05,
          "t": 10.57,
          "v": -0.643653
         },
         {
          "i": 2.74513e-05,
          "t": 10.575,
          "v": -0.643155
         },
         {
          "i": 2.75651e-05,
          "t": 10.58,
          "v": -0.642619
         },
         {
          "i": 2.75049e-05,
          "t": 10.585,
          "v": -0.64217
         },
         {
          "i": 2.76052e-05,
          "t": 10.59,
          "v": -0.641639
         },
         {
          "i": 2.76788e-05,
          "t": 10.595,
          "v": -0.641148
         },
         {
          "i": 2.75249e-05,
          "t": 10.6,
          "v": -0.640648
         },
         {
          "i": 2.76052e-05,
          "t": 10.605,
          "v": -0.640124
         },
         {
          "i": 2.74714e-05,
          "t": 10.61,
          "v": -0.639672
         },
         {
          "i": 2.74982e-05,
          "t": 10.615,
          "v": -0.639155
         },
         {
          "i": 2.73176e-05,
          "t": 10.62,
          "v": -0.638614
         },
         {
          "i": 2.72105e-05,
          "t": 10.625,
          "v": -0.638192
         },
         {
          "i": 2.73309e-05,
          "t": 10.63,
          "v": -0.637632
         },
         {
          "i": 2.74513e-05,
          "t": 10.635,
          "v": -0.637161
         },
         {
          "i": 2.7244e-05,
          "t": 10.64,
          "v": -0.636658
         },
         {
          "i": 2.72373e-05,
          "t": 10.645,
          "v": -0.636119
         },
         {
          "i": 2.71169e-05,
          "t": 10.65,
          "v": -0.63566
         },
         {
          "i": 2.71102e-05,
          "t": 10.655,
          "v": -0.635149
         },
         {
          "i": 2.71637e-05,
          "t": 10.66,
          "v": -0.634637
         },
         {
          "i": 2.71771e-05,
          "t": 10.665,
          "v": -0.634162
         },
         {
          "i": 2.7157e-05,
          "t": 10.67,
          "v": -0.63363
         },
         {
          "i": 2.68761e-05,
          "t": 10.675,
          "v": -0.633154
         },
         {
          "i": 2.71236e-05,
          "t": 10.68,
          "v": -0.632633
         },
         {
          "i": 2.71503e-05,
          "t": 10.685,
          "v": -0.632135
         },
         {
          "i": 2.70366e-05,
          "t": 10.69,
          "v": -0.631669
         },
         {
          "i": 2.71905e-05,
          "t": 10.695,
          "v": -0.631144
         },
         {
          "i": 2.71503e-05,
          "t": 10.7,
          "v": -0.630643
         },
         {
          "i": 2.72908e-05,
          "t": 10.705,
          "v": -0.630179
         },
         {
          "i": 2.71169e-05,
          "t": 10.71,
          "v": -0.629639
         },
         {
          "i": 2.705e-05,
          "t": 10.715,
          "v": -0.629152
         },
         {
          "i": 2.68159e-05,
          "t": 10.72,
          "v": -0.628634
         },
         {
          "i": 2.69028e-05,
          "t": 10.725,
          "v": -0.628151
         },
         {
          "i": 2.70299e-05,
          "t": 10.73,
          "v": -0.627652
         },
         {
          "i": 2.67222e-05,
          "t": 10.735,
          "v": -0.627151
         },
         {
          "i": 2.67757e-05,
          "t": 10.74,
          "v": -0.626566
         },
         {
          "i": 2.67222e-05,
          "t": 10.745,
          "v": -0.626198
         },
         {
          "i": 2.66486e-05,
          "t": 10.75,
          "v": -0.625636
         },
         {
          "i": 2.64346e-05,
          "t": 10.755,
          "v": -0.625118
         },
         {
          "i": 2.63677e-05,
          "t": 10.76,
          "v": -0.62465
         },
         {
          "i": 2.65282e-05,
          "t": 10.765,
          "v": -0.624087
         },
         {
          "i": 2.65215e-05,
          "t": 10.77,
          "v": -0.6237
         },
         {
          "i": 2.64547e-05,
          "t": 10.775,
          "v": -0.623138
         },
         {
          "i": 2.64011e-05,
          "t": 10.78,
          "v": -0.622602
         },
         {
          "i": 2.64145e-05,
          "t": 10.785,
          "v": -0.622202
         },
         {
          "i": 2.63811e-05,
          "t": 10.79,
          "v": -0.621624
         },
         {
          "i": 2.6254e-05,
          "t": 10.795,
          "v": -0.621125
         },
         {
          "i": 2.63342e-05,
          "t": 10.8,
          "v": -0.62064
         },
         {
          "i": 2.64145e-05,
          "t": 10.805,
          "v": -0.620116
         },
         {
          "i": 2.6274e-05,
          "t": 10.81,
          "v": -0.619664
         },
         {
          "i": 2.62607e-05,
          "t": 10.815,
          "v": -0.61916
         },
         {
          "i": 2.64881e-05,
          "t": 10.82,
          "v": -0.618624
         },
         {
          "i": 2.65751e-05,
          "t": 10.825,
          "v": -0.618176
         },
         {
          "i": 2.65817e-05,
          "t": 10.83,
          "v": -0.617642
         },
         {
          "i": 2.64547e-05,
          "t": 10.835,
          "v": -0.617162
         },
         {
          "i": 2.62674e-05,
          "t": 10.84,
          "v": -0.616661
         },
         {
          "i": 2.61603e-05,
          "t": 10.845,
          "v": -0.616122
         },
         {
          "i": 2.63075e-05,
          "t": 10.85,
          "v": -0.615691
         },
         {
          "i": 2.61135e-05,
          "t": 10.855,
          "v": -0.615167
         },
         {
          "i": 2.60867e-05,
          "t": 10.86,
          "v": -0.614632
         },
         {
          "i": 2.62138e-05,
          "t": 10.865,
          "v": -0.614209
         },
         {
          "i": 2.59463e-05,
          "t": 10.87,
          "v": -0.613625
         },
         {
          "i": 2.58994e-05,
          "t": 10.875,
          "v": -0.613141
         },
         {
          "i": 2.58058e-05,
          "t": 10.88,
          "v": -0.612652
         },
         {
          "i": 2.58526e-05,
          "t": 10.885,
          "v": -0.612108
         },
         {
          "i": 2.57055e-05,
          "t": 10.89,
          "v": -0.611676
         },
         {
          "i": 2.55917e-05,
          "t": 10.895,
          "v": -0.611162
         },
         {
          "i": 2.57255e-05,
          "t": 10.9,
          "v": -0.610625
         },
         {
          "i": 2.57055e-05,
          "t": 10.905,
          "v": -0.610168
         },
         {
          "i": 2.56988e-05,
          "t": 10.91,
          "v": -0.609627
         },
         {
          "i": 2.58459e-05,
          "t": 10.915,
          "v": -0.609158
         },
         {
          "i": 2.59329e-05,
          "t": 10.92,
          "v": -0.608636
         },
         {
          "i": 2.56252e-05,
          "t": 10.925,
          "v": -0.608133
         },
         {
          "i": 2.57255e-05,
          "t": 10.93,
          "v": -0.607674
         },
         {
          "i": 2.57456e-05,
          "t": 10.935,
          "v": -0.607148
         },
         {
          "i": 2.57122e-05,
          "t": 10.94,
          "v": -0.606628
         },
         {
          "i": 2.54245e-05,
          "t": 10.945,
          "v": -0.606196
         },
         {
          "i": 2.52774e-05,
          "t": 10.95,
          "v": -0.605642
         },
         {
          "i": 2.55315e-05,
          "t": 10.955,
          "v": -0.605143
         },
         {
          "i": 2.54312e-05,
          "t": 10.96,
          "v": -0.604645
         },
         {
          "i": 2.55583e-05,
          "t": 10.965,
          "v": -0.604141
         },
         {
          "i": 2.52907e-05,
          "t": 10.97,
          "v": -0.603652
         },
         {
          "i": 2.55048e-05,
          "t": 10.975,
          "v": -0.603136
         },
         {
          "i": 2.4983e-05,
          "t": 10.98,
          "v": -0.602637
         },
         {
          "i": 2.50031e-05,
          "t": 10.985,
          "v": -0.602153
         },
         {
          "i": 2.52172e-05,
          "t": 10.99,
          "v": -0.601644
         },
         {
          "i": 2.49228e-05,
          "t": 10.995,
          "v": -0.601117
         },
         {
          "i": 2.4769e-05,
          "t": 11,
          "v": -0.600679
         },
         {
          "i": 2.51636e-05,
          "t": 11.005,
          "v": -0.600085
         },
         {
          "i": 2.49563e-05,
          "t": 11.01,
          "v": -0.599677
         },
         {
          "i": 2.48827e-05,
          "t": 11.015,
          "v": -0.599157
         },
         {
          "i": 2.50165e-05,
          "t": 11.02,
          "v": -0.598601
         },
         {
          "i": 2.4983e-05,
          "t": 11.025,
          "v": -0.5982
         },
         {
          "i": 2.44412e-05,
          "t": 11.03,
          "v": -0.597641
         },
         {
          "i": 2.48827e-05,
          "t": 11.035,
          "v": -0.597148
         },
         {
          "i": 2.48292e-05,
          "t": 11.04,
          "v": -0.596678
         },
         {
          "i": 2.50767e-05,
          "t": 11.045,
          "v": -0.596091
         },
         {
          "i": 2.46352e-05,
          "t": 11.05,
          "v": -0.595651
         },
         {
          "i": 2.4983e-05,
          "t": 11.055,
          "v": -0.595131
         },
         {
          "i": 2.48158e-05,
          "t": 11.06,
          "v": -0.594608
         },
         {
          "i": 2.46084e-05,
          "t": 11.065,
          "v": -0.59418
         },
         {
          "i": 2.48091e-05,
          "t": 11.07,
          "v": -0.593627
         },
         {
          "i": 2.48292e-05,
          "t": 11.075,
          "v": -0.593153
         },
         {
          "i": 2.46017e-05,
          "t": 11.08,
          "v": -0.592644
         },
         {
          "i": 2.45014e-05,
          "t": 11.085,
          "v": -0.592117
         },
         {
          "i": 2.42873e-05,
          "t": 11.09,
          "v": -0.591685
         },
         {
          "i": 2.43676e-05,
          "t": 11.095,
          "v": -0.591159
         },
         {
          "i": 2.43743e-05,
          "t": 11.1,
          "v": -0.590618
         },
         {
          "i": 2.45282e-05,
          "t": 11.105,
          "v": -0.590188
         },
         {
          "i": 2.46954e-05,
          "t": 11.11,
          "v": -0.589647
         },
         {
          "i": 2.43743e-05,
          "t": 11.115,
          "v": -0.589155
         },
         {
          "i": 2.3993e-05,
          "t": 11.12,
          "v": -0.588683
         },
         {
          "i": 2.39128e-05,
          "t": 11.125,
          "v": -0.588104
         },
         {
          "i": 2.3973e-05,
          "t": 11.13,
          "v": -0.587683
         },
         {
          "i": 2.39596e-05,
          "t": 11.135,
          "v": -0.587175
         },
         {
          "i": 2.3692e-05,
          "t": 11.14,
          "v": -0.586639
         },
         {
          "i": 2.36987e-05,
          "t": 11.145,
          "v": -0.586183
         },
         {
          "i": 2.3973e-05,
          "t": 11.15,
          "v": -0.585643
         },
         {
          "i": 2.43208e-05,
          "t": 11.155,
          "v": -0.585173
         },
         {
          "i": 2.42071e-05,
          "t": 11.16,
          "v": -0.584642
         },
         {
          "i": 2.38526e-05,
          "t": 11.165,
          "v": -0.584121
         },
         {
          "i": 2.38325e-05,
          "t": 11.17,
          "v": -0.583671
         },
         {
          "i": 2.39261e-05,
          "t": 11.175,
          "v": -0.583149
         },
         {
          "i": 2.37321e-05,
          "t": 11.18,
          "v": -0.582639
         },
         {
          "i": 2.3304e-05,
          "t": 11.185,
          "v": -0.582186
         },
         {
          "i": 2.28893e-05,
          "t": 11.19,
          "v": -0.581635
         },
         {
          "i": 2.29963e-05,
          "t": 11.195,
          "v": -0.581148
         },
         {
          "i": 2.34579e-05,
          "t": 11.2,
          "v": -0.58065
         },
         {
          "i": 2.36719e-05,
          "t": 11.205,
          "v": -0.580138
         },
         {
          "i": 2.35248e-05,
          "t": 11.21,
          "v": -0.579646
         },
         {
          "i": 2.36318e-05,
          "t": 11.215,
          "v": -0.579148
         },
         {
          "i": 2.33709e-05,
          "t": 11.22,
          "v": -0.578642
         },
         {
          "i": 2.3585e-05,
          "t": 11.225,
          "v": -0.578162
         },
         {
          "i": 2.30298e-05,
          "t": 11.23,
          "v": -0.577636
         },
         {
          "i": 2.34646e-05,
          "t": 11.235,
          "v": -0.577151
         },
         {
          "i": 2.33509e-05,
          "t": 11.24,
          "v": -0.576644
         },
         {
          "i": 2.32438e-05,
          "t": 11.245,
          "v": -0.576149
         },
         {
          "i": 2.32505e-05,
          "t": 11.25,
          "v": -0.575694
         },
         {
          "i": 2.3197e-05,
          "t": 11.255,
          "v": -0.575201
         },
         {
          "i": 2.33843e-05,
          "t": 11.26,
          "v": -0.574577
         },
         {
          "i": 2.27087e-05,
          "t": 11.265,
          "v": -0.574208
         },
         {
          "i": 2.28559e-05,
          "t": 11.27,
          "v": -0.57365
         },
         {
          "i": 2.29294e-05,
          "t": 11.275,
          "v": -0.57317
         },
         {
          "i": 2.27355e-05,
          "t": 11.28,
          "v": -0.572686
         },
         {
          "i": 2.26752e-05,
          "t": 11.285,
          "v": -0.572098
         },
         {
          "i": 2.27555e-05,
          "t": 11.29,
          "v": -0.5717
         },
         {
          "i": 2.29963e-05,
          "t": 11.295,
          "v": -0.571163
         },
         {
          "i": 2.27756e-05,
          "t": 11.3,
          "v": -0.570601
         },
         {
          "i": 2.26953e-05,
          "t": 11.305,
          "v": -0.570168
         },
         {
          "i": 2.26217e-05,
          "t": 11.31,
          "v": -0.569619
         },
         {
          "i": 2.26619e-05,
          "t": 11.315,
          "v": -0.569136
         },
         {
          "i": 2.27087e-05,
          "t": 11.32,
          "v": -0.568637
         },
         {
          "i": 2.28224e-05,
          "t": 11.325,
          "v": -0.568101
         },
         {
          "i": 2.28559e-05,
          "t": 11.33,
          "v": -0.567677
         },
         {
          "i": 2.29294e-05,
          "t": 11.335,
          "v": -0.567149
         },
         {
          "i": 2.29161e-05,
          "t": 11.34,
          "v": -0.566624
         },
         {
          "i": 2.28893e-05,
          "t": 11.345,
          "v": -0.566195
         },
         {
          "i": 2.2789e-05,
          "t": 11.35,
          "v": -0.565651
         },
         {
          "i": 2.29161e-05,
          "t": 11.355,
          "v": -0.565175
         },
         {
          "i": 2.25013e-05,
          "t": 11.36,
          "v": -0.564686
         },
         {
          "i": 2.24344e-05,
          "t": 11.365,
          "v": -0.564126
         },
         {
          "i": 2.25682e-05,
          "t": 11.37,
          "v": -0.56369
         },
         {
          "i": 2.23408e-05,
          "t": 11.375,
          "v": -0.563187
         },
         {
          "i": 2.23475e-05,
          "t": 11.38,
          "v": -0.562613
         },
         {
          "i": 2.21535e-05,
          "t": 11.385,
          "v": -0.562162
         },
         {
          "i": 2.20063e-05,
          "t": 11.39,
          "v": -0.561614
         },
         {
          "i": 2.2207e-05,
          "t": 11.395,
          "v": -0.561107
         },
         {
          "i": 2.23475e-05,
          "t": 11.4,
          "v": -0.560622
         },
         {
          "i": 2.21468e-05,
          "t": 11.405,
          "v": -0.560086
         },
         {
          "i": 2.21602e-05,
          "t": 11.41,
          "v": -0.559652
         },
         {
          "i": 2.2401e-05,
          "t": 11.415,
          "v": -0.559119
         },
         {
          "i": 2.26953e-05,
          "t": 11.42,
          "v": -0.558608
         },
         {
          "i": 2.24879e-05,
          "t": 11.425,
          "v": -0.558164
         },
         {
          "i": 2.20063e-05,
          "t": 11.43,
          "v": -0.557612
         },
         {
          "i": 2.21602e-05,
          "t": 11.435,
          "v": -0.557119
         },
         {
          "i": 2.20465e-05,
          "t": 11.44,
          "v": -0.556635
         },
         {
          "i": 2.24813e-05,
          "t": 11.445,
          "v": -0.556114
         },
         {
          "i": 2.23207e-05,
          "t": 11.45,
          "v": -0.555617
         },
         {
          "i": 2.23809e-05,
          "t": 11.455,
          "v": -0.555125
         },
         {
          "i": 2.24813e-05,
          "t": 11.46,
          "v": -0.554608
         },
         {
          "i": 2.19528e-05,
          "t": 11.465,
          "v": -0.554126
         },
         {
          "i": 2.21134e-05,
          "t": 11.47,
          "v": -0.553619
         },
         {
          "i": 2.22471e-05,
          "t": 11.475,
          "v": -0.553128
         },
         {
          "i": 2.1799e-05,
          "t": 11.48,
          "v": -0.55262
         },
         {
          "i": 2.21067e-05,
          "t": 11.485,
          "v": -0.552118
         },
         {
          "i": 2.20197e-05,
          "t": 11.49,
          "v": -0.55166
         },
         {
          "i": 2.21869e-05,
          "t": 11.495,
          "v": -0.551122
         },
         {
          "i": 2.18859e-05,
          "t": 11.5,
          "v": -0.550623
         },
         {
          "i": 2.18993e-05,
          "t": 11.505,
          "v": -0.550174
         },
         {
          "i": 2.15581e-05,
          "t": 11.51,
          "v": -0.549652
         },
         {
          "i": 2.12571e-05,
          "t": 11.515,
          "v": -0.549119
         },
         {
          "i": 2.16117e-05,
          "t": 11.52,
          "v": -0.548666
         },
         {
          "i": 2.16451e-05,
          "t": 11.525,
          "v": -0.548084
         },
         {
          "i": 2.1712e-05,
          "t": 11.53,
          "v": -0.547705
         },
         {
          "i": 2.14177e-05,
          "t": 11.535,
          "v": -0.547162
         },
         {
          "i": 2.1712e-05,
          "t": 11.54,
          "v": -0.546561
         },
         {
          "i": 2.12705e-05,
          "t": 11.545,
          "v": -0.546159
         },
         {
          "i": 2.13842e-05,
          "t": 11.55,
          "v": -0.545624
         },
         {
          "i": 2.1518e-05,
          "t": 11.555,
          "v": -0.545104
         },
         {
          "i": 2.12371e-05,
          "t": 11.56,
          "v": -0.544612
         },
         {
          "i": 2.13775e-05,
          "t": 11.565,
          "v": -0.544094
         },
         {
          "i": 2.15916e-05,
          "t": 11.57,
          "v": -0.543683
         },
         {
          "i": 2.17655e-05,
          "t": 11.575,
          "v": -0.543104
         },
         {
          "i": 2.11969e-05,
          "t": 11.58,
          "v": -0.542585
         },
         {
          "i": 2.15247e-05,
          "t": 11.585,
          "v": -0.542163
         },
         {
          "i": 2.10899e-05,
          "t": 11.59,
          "v": -0.541613
         },
         {
          "i": 2.13642e-05,
          "t": 11.595,
          "v": -0.541122
         },
         {
          "i": 2.11167e-05,
          "t": 11.6,
          "v": -0.540647
         },
         {
          "i": 2.11635e-05,
          "t": 11.605,
          "v": -0.540098
         },
         {
          "i": 2.10297e-05,
          "t": 11.61,
          "v": -0.539653
         },
         {
          "i": 2.1217e-05,
          "t": 11.615,
          "v": -0.53915
         },
         {
          "i": 2.10431e-05,
          "t": 11.62,
          "v": -0.538603
         },
         {
          "i": 2.11769e-05,
          "t": 11.625,
          "v": -0.538168
         },
         {
          "i": 2.11367e-05,
          "t": 11.63,
          "v": -0.53764
         },
         {
          "i": 2.10565e-05,
          "t": 11.635,
          "v": -0.537146
         },
         {
          "i": 2.09227e-05,
          "t": 11.64,
          "v": -0.536648
         },
         {
          "i": 2.11969e-05,
          "t": 11.645,
          "v": -0.536081
         },
         {
          "i": 2.11234e-05,
          "t": 11.65,
          "v": -0.535659
         },
         {
          "i": 2.08558e-05,
          "t": 11.655,
          "v": -0.535138
         },
         {
          "i": 2.0916e-05,
          "t": 11.66,
          "v": -0.534603
         },
         {
          "i": 2.06551e-05,
          "t": 11.665,
          "v": -0.53417
         },
         {
          "i": 2.05748e-05,
          "t": 11.67,
          "v": -0.533621
         },
         {
          "i": 2.07019e-05,
          "t": 11.675,
          "v": -0.533136
         },
         {
          "i": 2.08558e-05,
          "t": 11.68,
          "v": -0.532645
         },
         {
          "i": 2.07889e-05,
          "t": 11.685,
          "v": -0.532111
         },
         {
          "i": 2.08491e-05,
          "t": 11.69,
          "v": -0.53164
         },
         {
          "i": 2.09294e-05,
          "t": 11.695,
          "v": -0.531137
         },
         {
          "i": 2.09561e-05,
          "t": 11.7,
          "v": -0.53062
         },
         {
          "i": 2.09762e-05,
          "t": 11.705,
          "v": -0.530144
         },
         {
          "i": 2.10498e-05,
          "t": 11.71,
          "v": -0.529627
         },
         {
          "i": 2.09093e-05,
          "t": 11.715,
          "v": -0.529131
         },
         {
          "i": 2.0916e-05,
          "t": 11.72,
          "v": -0.528625
         },
         {
          "i": 2.10899e-05,
          "t": 11.725,
          "v": -0.528123
         },
         {
          "i": 2.09628e-05,
          "t": 11.73,
          "v": -0.527673
         },
         {
          "i": 2.08357e-05,
          "t": 11.735,
          "v": -0.527135
         },
         {
          "i": 2.07889e-05,
          "t": 11.74,
          "v": -0.526625
         },
         {
          "i": 2.07019e-05,
          "t": 11.745,
          "v": -0.526185
         },
         {
          "i": 2.05548e-05,
          "t": 11.75,
          "v": -0.525629
         },
         {
          "i": 2.04277e-05,
          "t": 11.755,
          "v": -0.525138
         },
         {
          "i": 2.04411e-05,
          "t": 11.76,
          "v": -0.524638
         },
         {
          "i": 2.06016e-05,
          "t": 11.765,
          "v": -0.52409
         },
         {
          "i": 2.04611e-05,
          "t": 11.77,
          "v": -0.523665
         },
         {
          "i": 2.07086e-05,
          "t": 11.775,
          "v": -0.523168
         },
         {
          "i": 2.06886e-05,
          "t": 11.78,
          "v": -0.522554
         },
         {
          "i": 2.07688e-05,
          "t": 11.785,
          "v": -0.522177
         },
         {
          "i": 2.11033e-05,
          "t": 11.79,
          "v": -0.521639
         },
         {
          "i": 2.08892e-05,
          "t": 11.795,
          "v": -0.521144
         },
         {
          "i": 2.09427e-05,
          "t": 11.8,
          "v": -0.520625
         },
         {
          "i": 2.06752e-05,
          "t": 11.805,
          "v": -0.520077
         },
         {
          "i": 2.07086e-05,
          "t": 11.81,
          "v": -0.519694
         },
         {
          "i": 2.07287e-05,
          "t": 11.815,
          "v": -0.519118
         },
         {
          "i": 2.0809e-05,
          "t": 11.82,
          "v": -0.518608
         },
         {
          "i": 2.05882e-05,
          "t": 11.825,
          "v": -0.518192
         },
         {
          "i": 2.07153e-05,
          "t": 11.83,
          "v": -0.517615
         },
         {
          "i": 2.03407e-05,
          "t": 11.835,
          "v": -0.517123
         },
         {
          "i": 2.01267e-05,
          "t": 11.84,
          "v": -0.516645
         },
         {
          "i": 2.00932e-05,
          "t": 11.845,
          "v": -0.516105
         },
         {
          "i": 2.00531e-05,
          "t": 11.85,
          "v": -0.51565
         },
         {
          "i": 2.01735e-05,
          "t": 11.855,
          "v": -0.515157
         },
         {
          "i": 2.04076e-05,
          "t": 11.86,
          "v": -0.514616
         },
         {
          "i": 2.00865e-05,
          "t": 11.865,
          "v": -0.514176
         },
         {
          "i": 2.02738e-05,
          "t": 11.87,
          "v": -0.513635
         },
         {
          "i": 2.05213e-05,
          "t": 11.875,
          "v": -0.513145
         },
         {
          "i": 2.04879e-05,
          "t": 11.88,
          "v": -0.512652
         },
         {
          "i": 2.05615e-05,
          "t": 11.885,
          "v": -0.512129
         },
         {
          "i": 2.03206e-05,
          "t": 11.89,
          "v": -0.511666
         },
         {
          "i": 2.01534e-05,
          "t": 11.895,
          "v": -0.511129
         },
         {
          "i": 2.05882e-05,
          "t": 11.9,
          "v": -0.510584
         },
         {
          "i": 2.04277e-05,
          "t": 11.905,
          "v": -0.510169
         },
         {
          "i": 2.04143e-05,
          "t": 11.91,
          "v": -0.50961
         },
         {
          "i": 2.02002e-05,
          "t": 11.915,
          "v": -0.509113
         },
         {
          "i": 2.00999e-05,
          "t": 11.92,
          "v": -0.508647
         },
         {
          "i": 2.03073e-05,
          "t": 11.925,
          "v": -0.508085
         },
         {
          "i": 2.03273e-05,
          "t": 11.93,
          "v": -0.507641
         },
         {
          "i": 2.02604e-05,
          "t": 11.935,
          "v": -0.507132
         },
         {
          "i": 2.05079e-05,
          "t": 11.94,
          "v": -0.506609
         },
         {
          "i": 2.03742e-05,
          "t": 11.945,
          "v": -0.506136
         },
         {
          "i": 2.01601e-05,
          "t": 11.95,
          "v": -0.505617
         },
         {
          "i": 2.04812e-05,
          "t": 11.955,
          "v": -0.50512
         },
         {
          "i": 2.03006e-05,
          "t": 11.96,
          "v": -0.504625
         },
         {
          "i": 2.02404e-05,
          "t": 11.965,
          "v": -0.504108
         },
         {
          "i": 2.03608e-05,
          "t": 11.97,
          "v": -0.503649
         },
         {
          "i": 2.03675e-05,
          "t": 11.975,
          "v": -0.503105
         },
         {
          "i": 2.02738e-05,
          "t": 11.98,
          "v": -0.502618
         },
         {
          "i": 1.99594e-05,
          "t": 11.985,
          "v": -0.502171
         },
         {
          "i": 2.01601e-05,
          "t": 11.99,
          "v": -0.501617
         },
         {
          "i": 2.00999e-05,
          "t": 11.995,
          "v": -0.501126
         },
         {
          "i": 2.01133e-05,
          "t": 12,
          "v": -0.500638
         },
         {
          "i": 2.02471e-05,
          "t": 12.005,
          "v": -0.500139
         }
        ],
        "data-d1b1434f8f0b46294b426c117a815f45": [
         {
          "i": 2.7759e-05,
          "v": -0.648086
         }
        ]
       },
       "layer": [
        {
         "data": {
          "name": "data-85dffa779ed2d1e67a9d11c37f176016"
         },
         "encoding": {
          "x": {
           "field": "v",
           "type": "quantitative"
          },
          "y": {
           "field": "i",
           "type": "quantitative"
          }
         },
         "mark": "point"
        },
        {
         "data": {
          "name": "data-d1b1434f8f0b46294b426c117a815f45"
         },
         "encoding": {
          "color": {
           "value": "black"
          },
          "x": {
           "field": "v",
           "type": "quantitative"
          },
          "y": {
           "field": "i",
           "type": "quantitative"
          }
         },
         "mark": {
          "filled": true,
          "size": 50,
          "type": "point"
         }
        }
       ]
      },
      "image/png": "[encoded data removed]",
      "text/plain": [
       "<VegaLite 3 object>\n",
       "\n",
       "If you see this message, it means the renderer has not been properly enabled\n",
       "for the frontend that you are using. For more information, see\n",
       "https://altair-viz.github.io/user_guide/troubleshooting.html\n"
      ]
     },
     "metadata": {},
     "output_type": "display_data"
    },
    {
     "name": "stdout",
     "output_type": "stream",
     "text": [
      "0.00013709 -0.740565\n"
     ]
    },
    {
     "data": {
      "application/vnd.vegalite.v3+json": {
       "$schema": "https://vega.github.io/schema/vega-lite/v3.2.1.json",
       "config": {
        "mark": {
         "tooltip": null
        },
        "view": {
         "height": 300,
         "width": 400
        }
       },
       "datasets": {
        "data-290fd08cc1b2bf5fc935c39638b0c5b3": [
         {
          "i": -0.000290926,
          "t": 1.001,
          "v": -1.10001
         },
         {
          "i": -0.000285759,
          "t": 1.002,
          "v": -1.09956
         },
         {
          "i": -0.000284425,
          "t": 1.003,
          "v": -1.09909
         },
         {
          "i": -0.000282425,
          "t": 1.004,
          "v": -1.09851
         },
         {
          "i": -0.000279259,
          "t": 1.005,
          "v": -1.09803
         },
         {
          "i": -0.000275925,
          "t": 1.006,
          "v": -1.09755
         },
         {
          "i": -0.000276258,
          "t": 1.007,
          "v": -1.09699
         },
         {
          "i": -0.000273925,
          "t": 1.008,
          "v": -1.09654
         },
         {
          "i": -0.000272592,
          "t": 1.009,
          "v": -1.09601
         },
         {
          "i": -0.000271425,
          "t": 1.01,
          "v": -1.0955
         },
         {
          "i": -0.000270258,
          "t": 1.011,
          "v": -1.09503
         },
         {
          "i": -0.000269925,
          "t": 1.012,
          "v": -1.09448
         },
         {
          "i": -0.000268425,
          "t": 1.013,
          "v": -1.09406
         },
         {
          "i": -0.000268091,
          "t": 1.014,
          "v": -1.09349
         },
         {
          "i": -0.000265591,
          "t": 1.015,
          "v": -1.093
         },
         {
          "i": -0.000263591,
          "t": 1.016,
          "v": -1.09257
         },
         {
          "i": -0.000262758,
          "t": 1.017,
          "v": -1.09199
         },
         {
          "i": -0.000260925,
          "t": 1.018,
          "v": -1.0915
         },
         {
          "i": -0.000260425,
          "t": 1.019,
          "v": -1.09102
         },
         {
          "i": -0.000260258,
          "t": 1.02,
          "v": -1.09051
         },
         {
          "i": -0.000259925,
          "t": 1.021,
          "v": -1.08997
         },
         {
          "i": -0.000258924,
          "t": 1.022,
          "v": -1.08954
         },
         {
          "i": -0.000258591,
          "t": 1.023,
          "v": -1.08904
         },
         {
          "i": -0.000255591,
          "t": 1.024,
          "v": -1.08851
         },
         {
          "i": -0.000254924,
          "t": 1.025,
          "v": -1.088
         },
         {
          "i": -0.000252091,
          "t": 1.026,
          "v": -1.08753
         },
         {
          "i": -0.000252924,
          "t": 1.027,
          "v": -1.08705
         },
         {
          "i": -0.000252258,
          "t": 1.028,
          "v": -1.08644
         },
         {
          "i": -0.000250591,
          "t": 1.029,
          "v": -1.08615
         },
         {
          "i": -0.000250257,
          "t": 1.03,
          "v": -1.08555
         },
         {
          "i": -0.000248924,
          "t": 1.031,
          "v": -1.08496
         },
         {
          "i": -0.000248591,
          "t": 1.032,
          "v": -1.08459
         },
         {
          "i": -0.000247924,
          "t": 1.033,
          "v": -1.08401
         },
         {
          "i": -0.000247591,
          "t": 1.034,
          "v": -1.08353
         },
         {
          "i": -0.000246757,
          "t": 1.035,
          "v": -1.08304
         },
         {
          "i": -0.000246591,
          "t": 1.036,
          "v": -1.0825
         },
         {
          "i": -0.000244424,
          "t": 1.037,
          "v": -1.08201
         },
         {
          "i": -0.000243591,
          "t": 1.038,
          "v": -1.08154
         },
         {
          "i": -0.000242757,
          "t": 1.039,
          "v": -1.08103
         },
         {
          "i": -0.000242924,
          "t": 1.04,
          "v": -1.08056
         },
         {
          "i": -0.000241924,
          "t": 1.041,
          "v": -1.08002
         },
         {
          "i": -0.000240924,
          "t": 1.042,
          "v": -1.07959
         },
         {
          "i": -0.00024009,
          "t": 1.043,
          "v": -1.07909
         },
         {
          "i": -0.000239424,
          "t": 1.044,
          "v": -1.07849
         },
         {
          "i": -0.000238757,
          "t": 1.045,
          "v": -1.07806
         },
         {
          "i": -0.000238424,
          "t": 1.046,
          "v": -1.07754
         },
         {
          "i": -0.000237757,
          "t": 1.047,
          "v": -1.07704
         },
         {
          "i": -0.000236424,
          "t": 1.048,
          "v": -1.07656
         },
         {
          "i": -0.000237257,
          "t": 1.049,
          "v": -1.076
         },
         {
          "i": -0.000236257,
          "t": 1.05,
          "v": -1.07557
         },
         {
          "i": -0.000235424,
          "t": 1.051,
          "v": -1.07506
         },
         {
          "i": -0.000234424,
          "t": 1.052,
          "v": -1.07453
         },
         {
          "i": -0.000233923,
          "t": 1.053,
          "v": -1.074
         },
         {
          "i": -0.00023309,
          "t": 1.054,
          "v": -1.07351
         },
         {
          "i": -0.000233423,
          "t": 1.055,
          "v": -1.07294
         },
         {
          "i": -0.000232257,
          "t": 1.056,
          "v": -1.07258
         },
         {
          "i": -0.000231423,
          "t": 1.057,
          "v": -1.07201
         },
         {
          "i": -0.000231257,
          "t": 1.058,
          "v": -1.0715
         },
         {
          "i": -0.00023009,
          "t": 1.059,
          "v": -1.071
         },
         {
          "i": -0.00022909,
          "t": 1.06,
          "v": -1.07045
         },
         {
          "i": -0.000229923,
          "t": 1.061,
          "v": -1.07
         },
         {
          "i": -0.00022959,
          "t": 1.062,
          "v": -1.06946
         },
         {
          "i": -0.00022859,
          "t": 1.063,
          "v": -1.06899
         },
         {
          "i": -0.000228257,
          "t": 1.064,
          "v": -1.06854
         },
         {
          "i": -0.000227423,
          "t": 1.065,
          "v": -1.068
         },
         {
          "i": -0.00022709,
          "t": 1.066,
          "v": -1.0675
         },
         {
          "i": -0.000224923,
          "t": 1.067,
          "v": -1.06698
         },
         {
          "i": -0.00022509,
          "t": 1.068,
          "v": -1.06654
         },
         {
          "i": -0.00022459,
          "t": 1.069,
          "v": -1.066
         },
         {
          "i": -0.000224923,
          "t": 1.07,
          "v": -1.06549
         },
         {
          "i": -0.00022409,
          "t": 1.071,
          "v": -1.065
         },
         {
          "i": -0.00022309,
          "t": 1.072,
          "v": -1.0645
         },
         {
          "i": -0.000222756,
          "t": 1.073,
          "v": -1.06401
         },
         {
          "i": -0.00022209,
          "t": 1.074,
          "v": -1.06352
         },
         {
          "i": -0.000221756,
          "t": 1.075,
          "v": -1.06301
         },
         {
          "i": -0.00022109,
          "t": 1.076,
          "v": -1.06248
         },
         {
          "i": -0.000220756,
          "t": 1.077,
          "v": -1.06204
         },
         {
          "i": -0.000219756,
          "t": 1.078,
          "v": -1.06159
         },
         {
          "i": -0.000219756,
          "t": 1.079,
          "v": -1.06095
         },
         {
          "i": -0.00022009,
          "t": 1.08,
          "v": -1.06062
         },
         {
          "i": -0.00021909,
          "t": 1.081,
          "v": -1.06002
         },
         {
          "i": -0.000218756,
          "t": 1.082,
          "v": -1.05954
         },
         {
          "i": -0.000216923,
          "t": 1.083,
          "v": -1.05907
         },
         {
          "i": -0.000217923,
          "t": 1.084,
          "v": -1.05844
         },
         {
          "i": -0.000216423,
          "t": 1.085,
          "v": -1.05802
         },
         {
          "i": -0.000215423,
          "t": 1.086,
          "v": -1.05754
         },
         {
          "i": -0.00021659,
          "t": 1.087,
          "v": -1.05693
         },
         {
          "i": -0.000215423,
          "t": 1.088,
          "v": -1.05654
         },
         {
          "i": -0.000215256,
          "t": 1.089,
          "v": -1.05603
         },
         {
          "i": -0.000215423,
          "t": 1.09,
          "v": -1.05551
         },
         {
          "i": -0.000214756,
          "t": 1.091,
          "v": -1.05499
         },
         {
          "i": -0.000213256,
          "t": 1.092,
          "v": -1.05449
         },
         {
          "i": -0.000212756,
          "t": 1.093,
          "v": -1.05404
         },
         {
          "i": -0.000212423,
          "t": 1.094,
          "v": -1.05353
         },
         {
          "i": -0.000212423,
          "t": 1.095,
          "v": -1.05295
         },
         {
          "i": -0.000212256,
          "t": 1.096,
          "v": -1.05255
         },
         {
          "i": -0.000211089,
          "t": 1.097,
          "v": -1.05201
         },
         {
          "i": -0.000210089,
          "t": 1.098,
          "v": -1.05154
         },
         {
          "i": -0.000210423,
          "t": 1.099,
          "v": -1.05105
         },
         {
          "i": -0.000209423,
          "t": 1.1,
          "v": -1.0505
         },
         {
          "i": -0.000210089,
          "t": 1.101,
          "v": -1.05005
         },
         {
          "i": -0.000209923,
          "t": 1.102,
          "v": -1.04949
         },
         {
          "i": -0.000210423,
          "t": 1.103,
          "v": -1.04902
         },
         {
          "i": -0.000208256,
          "t": 1.104,
          "v": -1.0486
         },
         {
          "i": -0.000208089,
          "t": 1.105,
          "v": -1.04804
         },
         {
          "i": -0.000207423,
          "t": 1.106,
          "v": -1.04754
         },
         {
          "i": -0.000207423,
          "t": 1.107,
          "v": -1.04703
         },
         {
          "i": -0.000207756,
          "t": 1.108,
          "v": -1.04646
         },
         {
          "i": -0.000205922,
          "t": 1.109,
          "v": -1.04604
         },
         {
          "i": -0.000206256,
          "t": 1.11,
          "v": -1.04556
         },
         {
          "i": -0.000205922,
          "t": 1.111,
          "v": -1.04499
         },
         {
          "i": -0.000204422,
          "t": 1.112,
          "v": -1.04453
         },
         {
          "i": -0.000204422,
          "t": 1.113,
          "v": -1.044
         },
         {
          "i": -0.000204756,
          "t": 1.114,
          "v": -1.04352
         },
         {
          "i": -0.000204589,
          "t": 1.115,
          "v": -1.04303
         },
         {
          "i": -0.000203756,
          "t": 1.116,
          "v": -1.04253
         },
         {
          "i": -0.000202756,
          "t": 1.117,
          "v": -1.04204
         },
         {
          "i": -0.000203256,
          "t": 1.118,
          "v": -1.04148
         },
         {
          "i": -0.000202589,
          "t": 1.119,
          "v": -1.04102
         },
         {
          "i": -0.000200922,
          "t": 1.12,
          "v": -1.04054
         },
         {
          "i": -0.000201256,
          "t": 1.121,
          "v": -1.03999
         },
         {
          "i": -0.000201089,
          "t": 1.122,
          "v": -1.03954
         },
         {
          "i": -0.000200256,
          "t": 1.123,
          "v": -1.03901
         },
         {
          "i": -0.000200756,
          "t": 1.124,
          "v": -1.03853
         },
         {
          "i": -0.000200089,
          "t": 1.125,
          "v": -1.03807
         },
         {
          "i": -0.000199256,
          "t": 1.126,
          "v": -1.03755
         },
         {
          "i": -0.000199256,
          "t": 1.127,
          "v": -1.03702
         },
         {
          "i": -0.000198756,
          "t": 1.128,
          "v": -1.03659
         },
         {
          "i": -0.000198256,
          "t": 1.129,
          "v": -1.03602
         },
         {
          "i": -0.000197422,
          "t": 1.13,
          "v": -1.03554
         },
         {
          "i": -0.000196922,
          "t": 1.131,
          "v": -1.03508
         },
         {
          "i": -0.000196255,
          "t": 1.132,
          "v": -1.03444
         },
         {
          "i": -0.000196422,
          "t": 1.133,
          "v": -1.0341
         },
         {
          "i": -0.000196755,
          "t": 1.134,
          "v": -1.03354
         },
         {
          "i": -0.000195755,
          "t": 1.135,
          "v": -1.03292
         },
         {
          "i": -0.000195089,
          "t": 1.136,
          "v": -1.03254
         },
         {
          "i": -0.000194422,
          "t": 1.137,
          "v": -1.032
         },
         {
          "i": -0.000193922,
          "t": 1.138,
          "v": -1.03152
         },
         {
          "i": -0.000193255,
          "t": 1.139,
          "v": -1.031
         },
         {
          "i": -0.000192922,
          "t": 1.14,
          "v": -1.0305
         },
         {
          "i": -0.000192922,
          "t": 1.141,
          "v": -1.03011
         },
         {
          "i": -0.000191755,
          "t": 1.142,
          "v": -1.02952
         },
         {
          "i": -0.000191922,
          "t": 1.143,
          "v": -1.02899
         },
         {
          "i": -0.000191755,
          "t": 1.144,
          "v": -1.02859
         },
         {
          "i": -0.000191255,
          "t": 1.145,
          "v": -1.02804
         },
         {
          "i": -0.000190422,
          "t": 1.146,
          "v": -1.02755
         },
         {
          "i": -0.000189922,
          "t": 1.147,
          "v": -1.02707
         },
         {
          "i": -0.000190255,
          "t": 1.148,
          "v": -1.0265
         },
         {
          "i": -0.000189255,
          "t": 1.149,
          "v": -1.02609
         },
         {
          "i": -0.000189755,
          "t": 1.15,
          "v": -1.02553
         },
         {
          "i": -0.000188422,
          "t": 1.151,
          "v": -1.02497
         },
         {
          "i": -0.000187588,
          "t": 1.152,
          "v": -1.02451
         },
         {
          "i": -0.000188422,
          "t": 1.153,
          "v": -1.02399
         },
         {
          "i": -0.000187755,
          "t": 1.154,
          "v": -1.02349
         },
         {
          "i": -0.000187255,
          "t": 1.155,
          "v": -1.023
         },
         {
          "i": -0.000187255,
          "t": 1.156,
          "v": -1.02247
         },
         {
          "i": -0.000186255,
          "t": 1.157,
          "v": -1.02208
         },
         {
          "i": -0.000185755,
          "t": 1.158,
          "v": -1.02154
         },
         {
          "i": -0.000186255,
          "t": 1.159,
          "v": -1.02099
         },
         {
          "i": -0.000184755,
          "t": 1.16,
          "v": -1.02055
         },
         {
          "i": -0.000184922,
          "t": 1.161,
          "v": -1.01998
         },
         {
          "i": -0.000185088,
          "t": 1.162,
          "v": -1.01955
         },
         {
          "i": -0.000184255,
          "t": 1.163,
          "v": -1.019
         },
         {
          "i": -0.000183255,
          "t": 1.164,
          "v": -1.0185
         },
         {
          "i": -0.000183922,
          "t": 1.165,
          "v": -1.01808
         },
         {
          "i": -0.000183088,
          "t": 1.166,
          "v": -1.01749
         },
         {
          "i": -0.000183088,
          "t": 1.167,
          "v": -1.01704
         },
         {
          "i": -0.000181755,
          "t": 1.168,
          "v": -1.01649
         },
         {
          "i": -0.000181588,
          "t": 1.169,
          "v": -1.01604
         },
         {
          "i": -0.000180922,
          "t": 1.17,
          "v": -1.01554
         },
         {
          "i": -0.000181422,
          "t": 1.171,
          "v": -1.015
         },
         {
          "i": -0.000179755,
          "t": 1.172,
          "v": -1.01443
         },
         {
          "i": -0.000179921,
          "t": 1.173,
          "v": -1.01409
         },
         {
          "i": -0.000180088,
          "t": 1.174,
          "v": -1.01351
         },
         {
          "i": -0.000179255,
          "t": 1.175,
          "v": -1.01299
         },
         {
          "i": -0.000178088,
          "t": 1.176,
          "v": -1.01258
         },
         {
          "i": -0.000177421,
          "t": 1.177,
          "v": -1.01204
         },
         {
          "i": -0.000179088,
          "t": 1.178,
          "v": -1.01148
         },
         {
          "i": -0.000177255,
          "t": 1.179,
          "v": -1.01102
         },
         {
          "i": -0.000176421,
          "t": 1.18,
          "v": -1.01045
         },
         {
          "i": -0.000175755,
          "t": 1.181,
          "v": -1.01012
         },
         {
          "i": -0.000175255,
          "t": 1.182,
          "v": -1.00954
         },
         {
          "i": -0.000175088,
          "t": 1.183,
          "v": -1.00889
         },
         {
          "i": -0.000175421,
          "t": 1.184,
          "v": -1.00859
         },
         {
          "i": -0.000175421,
          "t": 1.185,
          "v": -1.00802
         },
         {
          "i": -0.000174255,
          "t": 1.186,
          "v": -1.00761
         },
         {
          "i": -0.000174421,
          "t": 1.187,
          "v": -1.00704
         },
         {
          "i": -0.000173255,
          "t": 1.188,
          "v": -1.00645
         },
         {
          "i": -0.000172921,
          "t": 1.189,
          "v": -1.006
         },
         {
          "i": -0.000172755,
          "t": 1.19,
          "v": -1.00555
         },
         {
          "i": -0.000172421,
          "t": 1.191,
          "v": -1.00497
         },
         {
          "i": -0.000170588,
          "t": 1.192,
          "v": -1.00459
         },
         {
          "i": -0.000171588,
          "t": 1.193,
          "v": -1.00401
         },
         {
          "i": -0.000170588,
          "t": 1.194,
          "v": -1.00354
         },
         {
          "i": -0.000170254,
          "t": 1.195,
          "v": -1.003
         },
         {
          "i": -0.000169588,
          "t": 1.196,
          "v": -1.00244
         },
         {
          "i": -0.000169088,
          "t": 1.197,
          "v": -1.00208
         },
         {
          "i": -0.000168754,
          "t": 1.198,
          "v": -1.00153
         },
         {
          "i": -0.000167588,
          "t": 1.199,
          "v": -1.00101
         },
         {
          "i": -0.000167421,
          "t": 1.2,
          "v": -1.00057
         },
         {
          "i": -0.000167254,
          "t": 1.201,
          "v": -1.00004
         },
         {
          "i": -0.000166921,
          "t": 1.202,
          "v": -0.99957
         },
         {
          "i": -0.000166254,
          "t": 1.203,
          "v": -0.999045
         },
         {
          "i": -0.000165754,
          "t": 1.204,
          "v": -0.998503
         },
         {
          "i": -0.000164588,
          "t": 1.205,
          "v": -0.998053
         },
         {
          "i": -0.000164754,
          "t": 1.206,
          "v": -0.997528
         },
         {
          "i": -0.000164254,
          "t": 1.207,
          "v": -0.997011
         },
         {
          "i": -0.000163421,
          "t": 1.208,
          "v": -0.996561
         },
         {
          "i": -0.000162921,
          "t": 1.209,
          "v": -0.996003
         },
         {
          "i": -0.000162588,
          "t": 1.21,
          "v": -0.99557
         },
         {
          "i": -0.000161254,
          "t": 1.211,
          "v": -0.995036
         },
         {
          "i": -0.000161087,
          "t": 1.212,
          "v": -0.994495
         },
         {
          "i": -0.000161087,
          "t": 1.213,
          "v": -0.994078
         },
         {
          "i": -0.000159921,
          "t": 1.214,
          "v": -0.993545
         },
         {
          "i": -0.000159421,
          "t": 1.215,
          "v": -0.993012
         },
         {
          "i": -0.000159087,
          "t": 1.216,
          "v": -0.992553
         },
         {
          "i": -0.000159087,
          "t": 1.217,
          "v": -0.99202
         },
         {
          "i": -0.000158087,
          "t": 1.218,
          "v": -0.99157
         },
         {
          "i": -0.000157587,
          "t": 1.219,
          "v": -0.991053
         },
         {
          "i": -0.000156421,
          "t": 1.22,
          "v": -0.990503
         },
         {
          "i": -0.000155921,
          "t": 1.221,
          "v": -0.990095
         },
         {
          "i": -0.000155587,
          "t": 1.222,
          "v": -0.989553
         },
         {
          "i": -0.000155754,
          "t": 1.223,
          "v": -0.988987
         },
         {
          "i": -0.000154421,
          "t": 1.224,
          "v": -0.988587
         },
         {
          "i": -0.00015342,
          "t": 1.225,
          "v": -0.988003
         },
         {
          "i": -0.000152587,
          "t": 1.226,
          "v": -0.98752
         },
         {
          "i": -0.000152254,
          "t": 1.227,
          "v": -0.98702
         },
         {
          "i": -0.000151754,
          "t": 1.228,
          "v": -0.986537
         },
         {
          "i": -0.00015142,
          "t": 1.229,
          "v": -0.986003
         },
         {
          "i": -0.000150087,
          "t": 1.23,
          "v": -0.985595
         },
         {
          "i": -0.000149087,
          "t": 1.231,
          "v": -0.98502
         },
         {
          "i": -0.000149254,
          "t": 1.232,
          "v": -0.984587
         },
         {
          "i": -0.000148087,
          "t": 1.233,
          "v": -0.984012
         },
         {
          "i": -0.000147254,
          "t": 1.234,
          "v": -0.983528
         },
         {
          "i": -0.000146087,
          "t": 1.235,
          "v": -0.983037
         },
         {
          "i": -0.000145587,
          "t": 1.236,
          "v": -0.982453
         },
         {
          "i": -0.000145587,
          "t": 1.237,
          "v": -0.981995
         },
         {
          "i": -0.000144253,
          "t": 1.238,
          "v": -0.981562
         },
         {
          "i": -0.00014292,
          "t": 1.239,
          "v": -0.980978
         },
         {
          "i": -0.000143587,
          "t": 1.24,
          "v": -0.980562
         },
         {
          "i": -0.000142587,
          "t": 1.241,
          "v": -0.979987
         },
         {
          "i": -0.000141587,
          "t": 1.242,
          "v": -0.979503
         },
         {
          "i": -0.00013992,
          "t": 1.243,
          "v": -0.979028
         },
         {
          "i": -0.000139587,
          "t": 1.244,
          "v": -0.978553
         },
         {
          "i": -0.000140253,
          "t": 1.245,
          "v": -0.977995
         },
         {
          "i": -0.000138753,
          "t": 1.246,
          "v": -0.97752
         },
         {
          "i": -0.000137087,
          "t": 1.247,
          "v": -0.977037
         },
         {
          "i": -0.00013642,
          "t": 1.248,
          "v": -0.976553
         },
         {
          "i": -0.000135753,
          "t": 1.249,
          "v": -0.976045
         },
         {
          "i": -0.000133586,
          "t": 1.25,
          "v": -0.975554
         },
         {
          "i": -0.000134586,
          "t": 1.251,
          "v": -0.975045
         },
         {
          "i": -0.00013242,
          "t": 1.252,
          "v": -0.974504
         },
         {
          "i": -0.000131086,
          "t": 1.253,
          "v": -0.974037
         },
         {
          "i": -0.000130753,
          "t": 1.254,
          "v": -0.973537
         },
         {
          "i": -0.00012942,
          "t": 1.255,
          "v": -0.973029
         },
         {
          "i": -0.00012792,
          "t": 1.256,
          "v": -0.97252
         },
         {
          "i": -0.00012692,
          "t": 1.257,
          "v": -0.97202
         },
         {
          "i": -0.000126086,
          "t": 1.258,
          "v": -0.971495
         },
         {
          "i": -0.000125253,
          "t": 1.259,
          "v": -0.971045
         },
         {
          "i": -0.000124086,
          "t": 1.26,
          "v": -0.97042
         },
         {
          "i": -0.000123086,
          "t": 1.261,
          "v": -0.970029
         },
         {
          "i": -0.000123086,
          "t": 1.262,
          "v": -0.96952
         },
         {
          "i": -0.000121253,
          "t": 1.263,
          "v": -0.968995
         },
         {
          "i": -0.000120419,
          "t": 1.264,
          "v": -0.968495
         },
         {
          "i": -0.000118753,
          "t": 1.265,
          "v": -0.96797
         },
         {
          "i": -0.000118253,
          "t": 1.266,
          "v": -0.967487
         },
         {
          "i": -0.000116919,
          "t": 1.267,
          "v": -0.966995
         },
         {
          "i": -0.000115419,
          "t": 1.268,
          "v": -0.966479
         },
         {
          "i": -0.000114419,
          "t": 1.269,
          "v": -0.96602
         },
         {
          "i": -0.000112752,
          "t": 1.27,
          "v": -0.965495
         },
         {
          "i": -0.000111586,
          "t": 1.271,
          "v": -0.965004
         },
         {
          "i": -0.000110086,
          "t": 1.272,
          "v": -0.964562
         },
         {
          "i": -0.000110419,
          "t": 1.273,
          "v": -0.963987
         },
         {
          "i": -0.000108085,
          "t": 1.274,
          "v": -0.963504
         },
         {
          "i": -0.000106752,
          "t": 1.275,
          "v": -0.963029
         },
         {
          "i": -0.000104919,
          "t": 1.276,
          "v": -0.962554
         },
         {
          "i": -0.000103585,
          "t": 1.277,
          "v": -0.962004
         },
         {
          "i": -0.000102919,
          "t": 1.278,
          "v": -0.961529
         },
         {
          "i": -0.000101419,
          "t": 1.279,
          "v": -0.961012
         },
         {
          "i": -9.99185e-05,
          "t": 1.28,
          "v": -0.960512
         },
         {
          "i": -9.87518e-05,
          "t": 1.281,
          "v": -0.960004
         },
         {
          "i": -9.69184e-05,
          "t": 1.282,
          "v": -0.959462
         },
         {
          "i": -9.4085e-05,
          "t": 1.283,
          "v": -0.95902
         },
         {
          "i": -9.42516e-05,
          "t": 1.284,
          "v": -0.958437
         },
         {
          "i": -9.25849e-05,
          "t": 1.285,
          "v": -0.958145
         },
         {
          "i": -9.04182e-05,
          "t": 1.286,
          "v": -0.957512
         },
         {
          "i": -8.85848e-05,
          "t": 1.287,
          "v": -0.956962
         },
         {
          "i": -8.72514e-05,
          "t": 1.288,
          "v": -0.956612
         },
         {
          "i": -8.45846e-05,
          "t": 1.289,
          "v": -0.955995
         },
         {
          "i": -8.42513e-05,
          "t": 1.29,
          "v": -0.955462
         },
         {
          "i": -8.22512e-05,
          "t": 1.291,
          "v": -0.955004
         },
         {
          "i": -7.94178e-05,
          "t": 1.292,
          "v": -0.954462
         },
         {
          "i": -7.85844e-05,
          "t": 1.293,
          "v": -0.954037
         },
         {
          "i": -7.7751e-05,
          "t": 1.294,
          "v": -0.953554
         },
         {
          "i": -7.44176e-05,
          "t": 1.295,
          "v": -0.952987
         },
         {
          "i": -7.17508e-05,
          "t": 1.296,
          "v": -0.952537
         },
         {
          "i": -6.99174e-05,
          "t": 1.297,
          "v": -0.95207
         },
         {
          "i": -6.84173e-05,
          "t": 1.298,
          "v": -0.951545
         },
         {
          "i": -6.7084e-05,
          "t": 1.299,
          "v": -0.95102
         },
         {
          "i": -6.52505e-05,
          "t": 1.3,
          "v": -0.95047
         },
         {
          "i": -6.30838e-05,
          "t": 1.301,
          "v": -0.95012
         },
         {
          "i": -6.05837e-05,
          "t": 1.302,
          "v": -0.949537
         },
         {
          "i": -5.85836e-05,
          "t": 1.303,
          "v": -0.949054
         },
         {
          "i": -5.57502e-05,
          "t": 1.304,
          "v": -0.948579
         },
         {
          "i": -5.39168e-05,
          "t": 1.305,
          "v": -0.948037
         },
         {
          "i": -5.20834e-05,
          "t": 1.306,
          "v": -0.947545
         },
         {
          "i": -4.84166e-05,
          "t": 1.307,
          "v": -0.94707
         },
         {
          "i": -4.72499e-05,
          "t": 1.308,
          "v": -0.946496
         },
         {
          "i": -4.44164e-05,
          "t": 1.309,
          "v": -0.946096
         },
         {
          "i": -4.1083e-05,
          "t": 1.31,
          "v": -0.945512
         },
         {
          "i": -3.90829e-05,
          "t": 1.311,
          "v": -0.945012
         },
         {
          "i": -3.74162e-05,
          "t": 1.312,
          "v": -0.944537
         },
         {
          "i": -3.42494e-05,
          "t": 1.313,
          "v": -0.944021
         },
         {
          "i": -3.1916e-05,
          "t": 1.314,
          "v": -0.943562
         },
         {
          "i": -2.94159e-05,
          "t": 1.315,
          "v": -0.943054
         },
         {
          "i": -2.75825e-05,
          "t": 1.316,
          "v": -0.942504
         },
         {
          "i": -2.35823e-05,
          "t": 1.317,
          "v": -0.942037
         },
         {
          "i": -2.09156e-05,
          "t": 1.318,
          "v": -0.941571
         },
         {
          "i": -1.87488e-05,
          "t": 1.319,
          "v": -0.941029
         },
         {
          "i": -1.57487e-05,
          "t": 1.32,
          "v": -0.940554
         },
         {
          "i": -1.47487e-05,
          "t": 1.321,
          "v": -0.940037
         },
         {
          "i": -1.09152e-05,
          "t": 1.322,
          "v": -0.939571
         },
         {
          "i": -7.91508e-06,
          "t": 1.323,
          "v": -0.939029
         },
         {
          "i": -4.24827e-06,
          "t": 1.324,
          "v": -0.938554
         },
         {
          "i": -3.41491e-06,
          "t": 1.325,
          "v": -0.938054
         },
         {
          "i": 5.85239e-07,
          "t": 1.326,
          "v": -0.937562
         },
         {
          "i": 3.08533e-06,
          "t": 1.327,
          "v": -0.937021
         },
         {
          "i": 6.75214e-06,
          "t": 1.328,
          "v": -0.936546
         },
         {
          "i": 9.25223e-06,
          "t": 1.329,
          "v": -0.936071
         },
         {
          "i": 1.25857e-05,
          "t": 1.33,
          "v": -0.935579
         },
         {
          "i": 1.55858e-05,
          "t": 1.331,
          "v": -0.935079
         },
         {
          "i": 1.89193e-05,
          "t": 1.332,
          "v": -0.934554
         },
         {
          "i": 2.1086e-05,
          "t": 1.333,
          "v": -0.934146
         },
         {
          "i": 2.57528e-05,
          "t": 1.334,
          "v": -0.933546
         },
         {
          "i": 2.69196e-05,
          "t": 1.335,
          "v": -0.933054
         },
         {
          "i": 3.12531e-05,
          "t": 1.336,
          "v": -0.932621
         },
         {
          "i": 3.44198e-05,
          "t": 1.337,
          "v": -0.932054
         },
         {
          "i": 3.82533e-05,
          "t": 1.338,
          "v": -0.931587
         },
         {
          "i": 4.20868e-05,
          "t": 1.339,
          "v": -0.931162
         },
         {
          "i": 4.47535e-05,
          "t": 1.34,
          "v": -0.930521
         },
         {
          "i": 4.8587e-05,
          "t": 1.341,
          "v": -0.930112
         },
         {
          "i": 5.15871e-05,
          "t": 1.342,
          "v": -0.929613
         },
         {
          "i": 5.55873e-05,
          "t": 1.343,
          "v": -0.929062
         },
         {
          "i": 5.84207e-05,
          "t": 1.344,
          "v": -0.928587
         },
         {
          "i": 6.20875e-05,
          "t": 1.345,
          "v": -0.928088
         },
         {
          "i": 6.55877e-05,
          "t": 1.346,
          "v": -0.927621
         },
         {
          "i": 6.89211e-05,
          "t": 1.347,
          "v": -0.927096
         },
         {
          "i": 7.27546e-05,
          "t": 1.348,
          "v": -0.926579
         },
         {
          "i": 7.67548e-05,
          "t": 1.349,
          "v": -0.926146
         },
         {
          "i": 7.97549e-05,
          "t": 1.35,
          "v": -0.925588
         },
         {
          "i": 8.30883e-05,
          "t": 1.351,
          "v": -0.925113
         },
         {
          "i": 8.64218e-05,
          "t": 1.352,
          "v": -0.924613
         },
         {
          "i": 9.04219e-05,
          "t": 1.353,
          "v": -0.924121
         },
         {
          "i": 9.27553e-05,
          "t": 1.354,
          "v": -0.923688
         },
         {
          "i": 9.85889e-05,
          "t": 1.355,
          "v": -0.923138
         },
         {
          "i": 0.000100422,
          "t": 1.356,
          "v": -0.922621
         },
         {
          "i": 0.000104256,
          "t": 1.357,
          "v": -0.922163
         },
         {
          "i": 0.000107589,
          "t": 1.358,
          "v": -0.921629
         },
         {
          "i": 0.000110589,
          "t": 1.359,
          "v": -0.921029
         },
         {
          "i": 0.000114089,
          "t": 1.36,
          "v": -0.920613
         },
         {
          "i": 0.000119756,
          "t": 1.361,
          "v": -0.920013
         },
         {
          "i": 0.00012309,
          "t": 1.362,
          "v": -0.919621
         },
         {
          "i": 0.00012609,
          "t": 1.363,
          "v": -0.919046
         },
         {
          "i": 0.000130257,
          "t": 1.364,
          "v": -0.918563
         },
         {
          "i": 0.00013209,
          "t": 1.365,
          "v": -0.918171
         },
         {
          "i": 0.000137924,
          "t": 1.366,
          "v": -0.917571
         },
         {
          "i": 0.000142591,
          "t": 1.367,
          "v": -0.917146
         },
         {
          "i": 0.000143924,
          "t": 1.368,
          "v": -0.916638
         },
         {
          "i": 0.000147257,
          "t": 1.369,
          "v": -0.916121
         },
         {
          "i": 0.000151091,
          "t": 1.37,
          "v": -0.915571
         },
         {
          "i": 0.000153758,
          "t": 1.371,
          "v": -0.915046
         },
         {
          "i": 0.000155758,
          "t": 1.372,
          "v": -0.914563
         },
         {
          "i": 0.000161425,
          "t": 1.373,
          "v": -0.914079
         },
         {
          "i": 0.000164425,
          "t": 1.374,
          "v": -0.913571
         },
         {
          "i": 0.000168425,
          "t": 1.375,
          "v": -0.913063
         },
         {
          "i": 0.000171258,
          "t": 1.376,
          "v": -0.912571
         },
         {
          "i": 0.000174092,
          "t": 1.377,
          "v": -0.912063
         },
         {
          "i": 0.000178092,
          "t": 1.378,
          "v": -0.911588
         },
         {
          "i": 0.000179925,
          "t": 1.379,
          "v": -0.911088
         },
         {
          "i": 0.000182925,
          "t": 1.38,
          "v": -0.910604
         },
         {
          "i": 0.000186592,
          "t": 1.381,
          "v": -0.910155
         },
         {
          "i": 0.000190426,
          "t": 1.382,
          "v": -0.90958
         },
         {
          "i": 0.000194092,
          "t": 1.383,
          "v": -0.909088
         },
         {
          "i": 0.000196259,
          "t": 1.384,
          "v": -0.908588
         },
         {
          "i": 0.000200259,
          "t": 1.385,
          "v": -0.908021
         },
         {
          "i": 0.000202759,
          "t": 1.386,
          "v": -0.907655
         },
         {
          "i": 0.000206426,
          "t": 1.387,
          "v": -0.907113
         },
         {
          "i": 0.000209093,
          "t": 1.388,
          "v": -0.90648
         },
         {
          "i": 0.000211926,
          "t": 1.389,
          "v": -0.90613
         },
         {
          "i": 0.000215093,
          "t": 1.39,
          "v": -0.905605
         },
         {
          "i": 0.000216593,
          "t": 1.391,
          "v": -0.905055
         },
         {
          "i": 0.000219427,
          "t": 1.392,
          "v": -0.904571
         },
         {
          "i": 0.000222927,
          "t": 1.393,
          "v": -0.904046
         },
         {
          "i": 0.00022576,
          "t": 1.394,
          "v": -0.903588
         },
         {
          "i": 0.000228094,
          "t": 1.395,
          "v": -0.903055
         },
         {
          "i": 0.000230427,
          "t": 1.396,
          "v": -0.902513
         },
         {
          "i": 0.000232761,
          "t": 1.397,
          "v": -0.902105
         },
         {
          "i": 0.000235261,
          "t": 1.398,
          "v": -0.90158
         },
         {
          "i": 0.000239427,
          "t": 1.399,
          "v": -0.901013
         },
         {
          "i": 0.000241261,
          "t": 1.4,
          "v": -0.900596
         },
         {
          "i": 0.000242928,
          "t": 1.401,
          "v": -0.899988
         },
         {
          "i": 0.000244928,
          "t": 1.402,
          "v": -0.899571
         },
         {
          "i": 0.000246428,
          "t": 1.403,
          "v": -0.89908
         },
         {
          "i": 0.000249761,
          "t": 1.404,
          "v": -0.898513
         },
         {
          "i": 0.000251595,
          "t": 1.405,
          "v": -0.898105
         },
         {
          "i": 0.000254761,
          "t": 1.406,
          "v": -0.897555
         },
         {
          "i": 0.000257595,
          "t": 1.407,
          "v": -0.897038
         },
         {
          "i": 0.000259428,
          "t": 1.408,
          "v": -0.896571
         },
         {
          "i": 0.000261095,
          "t": 1.409,
          "v": -0.896021
         },
         {
          "i": 0.000263428,
          "t": 1.41,
          "v": -0.895563
         },
         {
          "i": 0.000265095,
          "t": 1.411,
          "v": -0.895088
         },
         {
          "i": 0.000266595,
          "t": 1.412,
          "v": -0.89453
         },
         {
          "i": 0.000267762,
          "t": 1.413,
          "v": -0.894155
         },
         {
          "i": 0.000271095,
          "t": 1.414,
          "v": -0.893513
         },
         {
          "i": 0.000271929,
          "t": 1.415,
          "v": -0.893013
         },
         {
          "i": 0.000273262,
          "t": 1.416,
          "v": -0.892588
         },
         {
          "i": 0.000275095,
          "t": 1.417,
          "v": -0.892021
         },
         {
          "i": 0.000276262,
          "t": 1.418,
          "v": -0.89158
         },
         {
          "i": 0.000278429,
          "t": 1.419,
          "v": -0.891038
         },
         {
          "i": 0.000279596,
          "t": 1.42,
          "v": -0.890555
         },
         {
          "i": 0.000280096,
          "t": 1.421,
          "v": -0.890071
         },
         {
          "i": 0.000281096,
          "t": 1.422,
          "v": -0.889546
         },
         {
          "i": 0.000281596,
          "t": 1.423,
          "v": -0.88908
         },
         {
          "i": 0.000284263,
          "t": 1.424,
          "v": -0.888563
         },
         {
          "i": 0.000285429,
          "t": 1.425,
          "v": -0.888063
         },
         {
          "i": 0.000287263,
          "t": 1.426,
          "v": -0.887571
         },
         {
          "i": 0.000287429,
          "t": 1.427,
          "v": -0.887013
         },
         {
          "i": 0.000288763,
          "t": 1.428,
          "v": -0.88653
         },
         {
          "i": 0.000289929,
          "t": 1.429,
          "v": -0.886105
         },
         {
          "i": 0.000291763,
          "t": 1.43,
          "v": -0.885513
         },
         {
          "i": 0.000292429,
          "t": 1.431,
          "v": -0.885063
         },
         {
          "i": 0.000293263,
          "t": 1.432,
          "v": -0.88458
         },
         {
          "i": 0.000292929,
          "t": 1.433,
          "v": -0.884046
         },
         {
          "i": 0.000292929,
          "t": 1.434,
          "v": -0.883546
         },
         {
          "i": 0.000294763,
          "t": 1.435,
          "v": -0.883021
         },
         {
          "i": 0.000294596,
          "t": 1.436,
          "v": -0.882472
         },
         {
          "i": 0.000295763,
          "t": 1.437,
          "v": -0.882071
         },
         {
          "i": 0.000295596,
          "t": 1.438,
          "v": -0.881588
         },
         {
          "i": 0.00029593,
          "t": 1.439,
          "v": -0.881005
         },
         {
          "i": 0.00029693,
          "t": 1.44,
          "v": -0.880605
         },
         {
          "i": 0.000297096,
          "t": 1.441,
          "v": -0.880022
         },
         {
          "i": 0.000297263,
          "t": 1.442,
          "v": -0.879563
         },
         {
          "i": 0.000297263,
          "t": 1.443,
          "v": -0.879038
         },
         {
          "i": 0.000298096,
          "t": 1.444,
          "v": -0.878455
         },
         {
          "i": 0.00029843,
          "t": 1.445,
          "v": -0.878122
         },
         {
          "i": 0.000298096,
          "t": 1.446,
          "v": -0.877563
         },
         {
          "i": 0.00029993,
          "t": 1.447,
          "v": -0.877013
         },
         {
          "i": 0.000300096,
          "t": 1.448,
          "v": -0.876572
         },
         {
          "i": 0.000299596,
          "t": 1.449,
          "v": -0.876013
         },
         {
          "i": 0.000299263,
          "t": 1.45,
          "v": -0.875555
         },
         {
          "i": 0.00029943,
          "t": 1.451,
          "v": -0.87503
         },
         {
          "i": 0.000300263,
          "t": 1.452,
          "v": -0.874472
         },
         {
          "i": 0.000299596,
          "t": 1.453,
          "v": -0.874097
         },
         {
          "i": 0.000300096,
          "t": 1.454,
          "v": -0.87358
         },
         {
          "i": 0.000300596,
          "t": 1.455,
          "v": -0.873088
         },
         {
          "i": 0.000299596,
          "t": 1.456,
          "v": -0.872538
         },
         {
          "i": 0.000301096,
          "t": 1.457,
          "v": -0.872047
         },
         {
          "i": 0.000299263,
          "t": 1.458,
          "v": -0.871597
         },
         {
          "i": 0.000298596,
          "t": 1.459,
          "v": -0.871072
         },
         {
          "i": 0.00029943,
          "t": 1.46,
          "v": -0.870488
         },
         {
          "i": 0.00029943,
          "t": 1.461,
          "v": -0.870113
         },
         {
          "i": 0.00029843,
          "t": 1.462,
          "v": -0.869547
         },
         {
          "i": 0.000298096,
          "t": 1.463,
          "v": -0.869005
         },
         {
          "i": 0.000299096,
          "t": 1.464,
          "v": -0.868563
         },
         {
          "i": 0.00029793,
          "t": 1.465,
          "v": -0.867997
         },
         {
          "i": 0.00029743,
          "t": 1.466,
          "v": -0.867538
         },
         {
          "i": 0.00029743,
          "t": 1.467,
          "v": -0.866997
         },
         {
          "i": 0.000296096,
          "t": 1.468,
          "v": -0.866463
         },
         {
          "i": 0.000296096,
          "t": 1.469,
          "v": -0.86603
         },
         {
          "i": 0.000296096,
          "t": 1.47,
          "v": -0.865563
         },
         {
          "i": 0.000295596,
          "t": 1.471,
          "v": -0.865005
         },
         {
          "i": 0.00029543,
          "t": 1.472,
          "v": -0.864505
         },
         {
          "i": 0.000295596,
          "t": 1.473,
          "v": -0.863988
         },
         {
          "i": 0.000294763,
          "t": 1.474,
          "v": -0.863497
         },
         {
          "i": 0.000293763,
          "t": 1.475,
          "v": -0.863022
         },
         {
          "i": 0.000293596,
          "t": 1.476,
          "v": -0.862438
         },
         {
          "i": 0.000292929,
          "t": 1.477,
          "v": -0.86203
         },
         {
          "i": 0.000292263,
          "t": 1.478,
          "v": -0.861489
         },
         {
          "i": 0.000291263,
          "t": 1.479,
          "v": -0.860947
         },
         {
          "i": 0.000291096,
          "t": 1.48,
          "v": -0.860555
         },
         {
          "i": 0.000290263,
          "t": 1.481,
          "v": -0.859989
         },
         {
          "i": 0.000288929,
          "t": 1.482,
          "v": -0.859447
         },
         {
          "i": 0.000289263,
          "t": 1.483,
          "v": -0.859022
         },
         {
          "i": 0.000288429,
          "t": 1.484,
          "v": -0.858547
         },
         {
          "i": 0.000288096,
          "t": 1.485,
          "v": -0.858014
         },
         {
          "i": 0.000288096,
          "t": 1.486,
          "v": -0.857522
         },
         {
          "i": 0.000286263,
          "t": 1.487,
          "v": -0.85693
         },
         {
          "i": 0.000287096,
          "t": 1.488,
          "v": -0.856555
         },
         {
          "i": 0.000285763,
          "t": 1.489,
          "v": -0.856022
         },
         {
          "i": 0.000283262,
          "t": 1.49,
          "v": -0.85553
         },
         {
          "i": 0.000283762,
          "t": 1.491,
          "v": -0.855022
         },
         {
          "i": 0.000282429,
          "t": 1.492,
          "v": -0.854455
         },
         {
          "i": 0.000281762,
          "t": 1.493,
          "v": -0.854089
         },
         {
          "i": 0.000280762,
          "t": 1.494,
          "v": -0.853539
         },
         {
          "i": 0.000280096,
          "t": 1.495,
          "v": -0.853022
         },
         {
          "i": 0.000279262,
          "t": 1.496,
          "v": -0.852589
         },
         {
          "i": 0.000279096,
          "t": 1.497,
          "v": -0.852022
         },
         {
          "i": 0.000278429,
          "t": 1.498,
          "v": -0.851497
         },
         {
          "i": 0.000278096,
          "t": 1.499,
          "v": -0.851039
         },
         {
          "i": 0.000276429,
          "t": 1.5,
          "v": -0.850505
         },
         {
          "i": 0.000276095,
          "t": 1.501,
          "v": -0.85003
         },
         {
          "i": 0.000275095,
          "t": 1.502,
          "v": -0.849522
         },
         {
          "i": 0.000274429,
          "t": 1.503,
          "v": -0.848972
         },
         {
          "i": 0.000272762,
          "t": 1.504,
          "v": -0.848564
         },
         {
          "i": 0.000273595,
          "t": 1.505,
          "v": -0.848047
         },
         {
          "i": 0.000271929,
          "t": 1.506,
          "v": -0.847572
         },
         {
          "i": 0.000270429,
          "t": 1.507,
          "v": -0.847047
         },
         {
          "i": 0.000269595,
          "t": 1.508,
          "v": -0.846497
         },
         {
          "i": 0.000268262,
          "t": 1.509,
          "v": -0.846089
         },
         {
          "i": 0.000268095,
          "t": 1.51,
          "v": -0.845547
         },
         {
          "i": 0.000264928,
          "t": 1.511,
          "v": -0.845022
         },
         {
          "i": 0.000265595,
          "t": 1.512,
          "v": -0.844597
         },
         {
          "i": 0.000265262,
          "t": 1.513,
          "v": -0.843989
         },
         {
          "i": 0.000264595,
          "t": 1.514,
          "v": -0.843522
         },
         {
          "i": 0.000264262,
          "t": 1.515,
          "v": -0.843014
         },
         {
          "i": 0.000262928,
          "t": 1.516,
          "v": -0.842472
         },
         {
          "i": 0.000262428,
          "t": 1.517,
          "v": -0.842039
         },
         {
          "i": 0.000260928,
          "t": 1.518,
          "v": -0.841531
         },
         {
          "i": 0.000259595,
          "t": 1.519,
          "v": -0.841022
         },
         {
          "i": 0.000259262,
          "t": 1.52,
          "v": -0.840547
         },
         {
          "i": 0.000258928,
          "t": 1.521,
          "v": -0.840006
         },
         {
          "i": 0.000258928,
          "t": 1.522,
          "v": -0.839522
         },
         {
          "i": 0.000256595,
          "t": 1.523,
          "v": -0.839022
         },
         {
          "i": 0.000254761,
          "t": 1.524,
          "v": -0.838464
         },
         {
          "i": 0.000254261,
          "t": 1.525,
          "v": -0.838122
         },
         {
          "i": 0.000251928,
          "t": 1.526,
          "v": -0.837531
         },
         {
          "i": 0.000251761,
          "t": 1.527,
          "v": -0.836972
         },
         {
          "i": 0.000251928,
          "t": 1.528,
          "v": -0.836572
         },
         {
          "i": 0.000250261,
          "t": 1.529,
          "v": -0.835989
         },
         {
          "i": 0.000249261,
          "t": 1.53,
          "v": -0.835514
         },
         {
          "i": 0.000249428,
          "t": 1.531,
          "v": -0.834989
         },
         {
          "i": 0.000248261,
          "t": 1.532,
          "v": -0.834514
         },
         {
          "i": 0.000247928,
          "t": 1.533,
          "v": -0.833997
         },
         {
          "i": 0.000247594,
          "t": 1.534,
          "v": -0.833489
         },
         {
          "i": 0.000244261,
          "t": 1.535,
          "v": -0.833006
         },
         {
          "i": 0.000243761,
          "t": 1.536,
          "v": -0.832539
         },
         {
          "i": 0.000243094,
          "t": 1.537,
          "v": -0.832014
         },
         {
          "i": 0.000241928,
          "t": 1.538,
          "v": -0.831506
         },
         {
          "i": 0.000241594,
          "t": 1.539,
          "v": -0.831039
         },
         {
          "i": 0.000242428,
          "t": 1.54,
          "v": -0.830464
         },
         {
          "i": 0.000240094,
          "t": 1.541,
          "v": -0.830081
         },
         {
          "i": 0.000239261,
          "t": 1.542,
          "v": -0.829506
         },
         {
          "i": 0.000239261,
          "t": 1.543,
          "v": -0.828964
         },
         {
          "i": 0.000238427,
          "t": 1.544,
          "v": -0.828589
         },
         {
          "i": 0.000237427,
          "t": 1.545,
          "v": -0.828047
         },
         {
          "i": 0.000236927,
          "t": 1.546,
          "v": -0.827572
         },
         {
          "i": 0.000234761,
          "t": 1.547,
          "v": -0.827072
         },
         {
          "i": 0.000234261,
          "t": 1.548,
          "v": -0.826439
         },
         {
          "i": 0.000232761,
          "t": 1.549,
          "v": -0.826089
         },
         {
          "i": 0.000232761,
          "t": 1.55,
          "v": -0.825539
         },
         {
          "i": 0.000231094,
          "t": 1.551,
          "v": -0.825006
         },
         {
          "i": 0.000230594,
          "t": 1.552,
          "v": -0.824572
         },
         {
          "i": 0.00022926,
          "t": 1.553,
          "v": -0.824006
         },
         {
          "i": 0.00022976,
          "t": 1.554,
          "v": -0.823547
         },
         {
          "i": 0.000228094,
          "t": 1.555,
          "v": -0.823064
         },
         {
          "i": 0.000227594,
          "t": 1.556,
          "v": -0.822514
         },
         {
          "i": 0.000227094,
          "t": 1.557,
          "v": -0.822097
         },
         {
          "i": 0.00022626,
          "t": 1.558,
          "v": -0.821572
         },
         {
          "i": 0.000224927,
          "t": 1.559,
          "v": -0.821014
         },
         {
          "i": 0.000224094,
          "t": 1.56,
          "v": -0.820622
         },
         {
          "i": 0.000221927,
          "t": 1.561,
          "v": -0.820014
         },
         {
          "i": 0.00022176,
          "t": 1.562,
          "v": -0.819606
         },
         {
          "i": 0.000221927,
          "t": 1.563,
          "v": -0.819031
         },
         {
          "i": 0.000220593,
          "t": 1.564,
          "v": -0.818489
         },
         {
          "i": 0.000219927,
          "t": 1.565,
          "v": -0.818089
         },
         {
          "i": 0.000218093,
          "t": 1.566,
          "v": -0.817564
         },
         {
          "i": 0.000218427,
          "t": 1.567,
          "v": -0.816956
         },
         {
          "i": 0.000217593,
          "t": 1.568,
          "v": -0.816581
         },
         {
          "i": 0.00021626,
          "t": 1.569,
          "v": -0.816031
         },
         {
          "i": 0.000216427,
          "t": 1.57,
          "v": -0.815514
         },
         {
          "i": 0.00021526,
          "t": 1.571,
          "v": -0.815031
         },
         {
          "i": 0.000214927,
          "t": 1.572,
          "v": -0.814523
         },
         {
          "i": 0.000212927,
          "t": 1.573,
          "v": -0.814064
         },
         {
          "i": 0.00021276,
          "t": 1.574,
          "v": -0.813473
         },
         {
          "i": 0.000212426,
          "t": 1.575,
          "v": -0.813006
         },
         {
          "i": 0.000211426,
          "t": 1.576,
          "v": -0.812623
         },
         {
          "i": 0.00021176,
          "t": 1.577,
          "v": -0.811998
         },
         {
          "i": 0.00021076,
          "t": 1.578,
          "v": -0.811556
         },
         {
          "i": 0.00020926,
          "t": 1.579,
          "v": -0.811073
         },
         {
          "i": 0.000209426,
          "t": 1.58,
          "v": -0.810456
         },
         {
          "i": 0.000208593,
          "t": 1.581,
          "v": -0.810023
         },
         {
          "i": 0.000208426,
          "t": 1.582,
          "v": -0.809539
         },
         {
          "i": 0.000208926,
          "t": 1.583,
          "v": -0.809023
         },
         {
          "i": 0.000205093,
          "t": 1.584,
          "v": -0.808548
         },
         {
          "i": 0.00020676,
          "t": 1.585,
          "v": -0.808006
         },
         {
          "i": 0.000205093,
          "t": 1.586,
          "v": -0.807548
         },
         {
          "i": 0.000203259,
          "t": 1.587,
          "v": -0.807014
         },
         {
          "i": 0.000202259,
          "t": 1.588,
          "v": -0.806556
         },
         {
          "i": 0.000202093,
          "t": 1.589,
          "v": -0.806123
         },
         {
          "i": 0.000202426,
          "t": 1.59,
          "v": -0.805598
         },
         {
          "i": 0.000201426,
          "t": 1.591,
          "v": -0.805023
         },
         {
          "i": 0.000200759,
          "t": 1.592,
          "v": -0.804564
         },
         {
          "i": 0.000199759,
          "t": 1.593,
          "v": -0.804023
         },
         {
          "i": 0.000199259,
          "t": 1.594,
          "v": -0.803664
         },
         {
          "i": 0.000197426,
          "t": 1.595,
          "v": -0.803081
         },
         {
          "i": 0.000197593,
          "t": 1.596,
          "v": -0.802473
         },
         {
          "i": 0.000196593,
          "t": 1.597,
          "v": -0.802089
         },
         {
          "i": 0.000196426,
          "t": 1.598,
          "v": -0.801498
         },
         {
          "i": 0.000195259,
          "t": 1.599,
          "v": -0.800998
         },
         {
          "i": 0.000195093,
          "t": 1.6,
          "v": -0.800548
         },
         {
          "i": 0.000194426,
          "t": 1.601,
          "v": -0.800006
         },
         {
          "i": 0.000193259,
          "t": 1.602,
          "v": -0.799531
         },
         {
          "i": 0.000192426,
          "t": 1.603,
          "v": -0.799023
         },
         {
          "i": 0.000192092,
          "t": 1.604,
          "v": -0.798506
         },
         {
          "i": 0.000192092,
          "t": 1.605,
          "v": -0.798106
         },
         {
          "i": 0.000190592,
          "t": 1.606,
          "v": -0.797523
         },
         {
          "i": 0.000189592,
          "t": 1.607,
          "v": -0.796973
         },
         {
          "i": 0.000189259,
          "t": 1.608,
          "v": -0.796581
         },
         {
          "i": 0.000189926,
          "t": 1.609,
          "v": -0.796023
         },
         {
          "i": 0.000188426,
          "t": 1.61,
          "v": -0.795556
         },
         {
          "i": 0.000187759,
          "t": 1.611,
          "v": -0.795048
         },
         {
          "i": 0.000187092,
          "t": 1.612,
          "v": -0.79449
         },
         {
          "i": 0.000186759,
          "t": 1.613,
          "v": -0.794081
         },
         {
          "i": 0.000186926,
          "t": 1.614,
          "v": -0.793573
         },
         {
          "i": 0.000185592,
          "t": 1.615,
          "v": -0.793015
         },
         {
          "i": 0.000185592,
          "t": 1.616,
          "v": -0.792598
         },
         {
          "i": 0.000184425,
          "t": 1.617,
          "v": -0.792023
         },
         {
          "i": 0.000184592,
          "t": 1.618,
          "v": -0.791606
         },
         {
          "i": 0.000183259,
          "t": 1.619,
          "v": -0.79104
         },
         {
          "i": 0.000182425,
          "t": 1.62,
          "v": -0.790481
         },
         {
          "i": 0.000181092,
          "t": 1.621,
          "v": -0.790106
         },
         {
          "i": 0.000180259,
          "t": 1.622,
          "v": -0.789581
         },
         {
          "i": 0.000181092,
          "t": 1.623,
          "v": -0.78904
         },
         {
          "i": 0.000178592,
          "t": 1.624,
          "v": -0.788606
         },
         {
          "i": 0.000179759,
          "t": 1.625,
          "v": -0.78799
         },
         {
          "i": 0.000178759,
          "t": 1.626,
          "v": -0.787556
         },
         {
          "i": 0.000177258,
          "t": 1.627,
          "v": -0.78704
         },
         {
          "i": 0.000177092,
          "t": 1.628,
          "v": -0.78654
         },
         {
          "i": 0.000176592,
          "t": 1.629,
          "v": -0.786073
         },
         {
          "i": 0.000177258,
          "t": 1.63,
          "v": -0.785556
         },
         {
          "i": 0.000176592,
          "t": 1.631,
          "v": -0.78504
         },
         {
          "i": 0.000175258,
          "t": 1.632,
          "v": -0.784523
         },
         {
          "i": 0.000174592,
          "t": 1.633,
          "v": -0.78404
         },
         {
          "i": 0.000174592,
          "t": 1.634,
          "v": -0.783548
         },
         {
          "i": 0.000173758,
          "t": 1.635,
          "v": -0.783023
         },
         {
          "i": 0.000173092,
          "t": 1.636,
          "v": -0.782565
         },
         {
          "i": 0.000173092,
          "t": 1.637,
          "v": -0.782106
         },
         {
          "i": 0.000173092,
          "t": 1.638,
          "v": -0.781531
         },
         {
          "i": 0.000171758,
          "t": 1.639,
          "v": -0.781023
         },
         {
          "i": 0.000171592,
          "t": 1.64,
          "v": -0.780573
         },
         {
          "i": 0.000170758,
          "t": 1.641,
          "v": -0.780073
         },
         {
          "i": 0.000170092,
          "t": 1.642,
          "v": -0.779573
         },
         {
          "i": 0.000170258,
          "t": 1.643,
          "v": -0.779031
         },
         {
          "i": 0.000168925,
          "t": 1.644,
          "v": -0.778465
         },
         {
          "i": 0.000168925,
          "t": 1.645,
          "v": -0.778181
         },
         {
          "i": 0.000168425,
          "t": 1.646,
          "v": -0.777623
         },
         {
          "i": 0.000166758,
          "t": 1.647,
          "v": -0.77694
         },
         {
          "i": 0.000166425,
          "t": 1.648,
          "v": -0.776556
         },
         {
          "i": 0.000166091,
          "t": 1.649,
          "v": -0.776031
         },
         {
          "i": 0.000165258,
          "t": 1.65,
          "v": -0.775523
         },
         {
          "i": 0.000166258,
          "t": 1.651,
          "v": -0.774998
         },
         {
          "i": 0.000164925,
          "t": 1.652,
          "v": -0.774523
         },
         {
          "i": 0.000163925,
          "t": 1.653,
          "v": -0.774123
         },
         {
          "i": 0.000164091,
          "t": 1.654,
          "v": -0.773531
         },
         {
          "i": 0.000164091,
          "t": 1.655,
          "v": -0.772998
         },
         {
          "i": 0.000163591,
          "t": 1.656,
          "v": -0.772565
         },
         {
          "i": 0.000163091,
          "t": 1.657,
          "v": -0.772048
         },
         {
          "i": 0.000162758,
          "t": 1.658,
          "v": -0.771632
         },
         {
          "i": 0.000161591,
          "t": 1.659,
          "v": -0.771115
         },
         {
          "i": 0.000160591,
          "t": 1.66,
          "v": -0.770557
         },
         {
          "i": 0.000161925,
          "t": 1.661,
          "v": -0.770048
         },
         {
          "i": 0.000160258,
          "t": 1.662,
          "v": -0.769573
         },
         {
          "i": 0.000158924,
          "t": 1.663,
          "v": -0.769082
         },
         {
          "i": 0.000159591,
          "t": 1.664,
          "v": -0.768573
         },
         {
          "i": 0.000158424,
          "t": 1.665,
          "v": -0.768023
         },
         {
          "i": 0.000156591,
          "t": 1.666,
          "v": -0.767548
         },
         {
          "i": 0.000157924,
          "t": 1.667,
          "v": -0.76699
         },
         {
          "i": 0.000156758,
          "t": 1.668,
          "v": -0.766457
         },
         {
          "i": 0.000155758,
          "t": 1.669,
          "v": -0.766057
         },
         {
          "i": 0.000155424,
          "t": 1.67,
          "v": -0.765548
         },
         {
          "i": 0.000156091,
          "t": 1.671,
          "v": -0.765015
         },
         {
          "i": 0.000155758,
          "t": 1.672,
          "v": -0.764532
         },
         {
          "i": 0.000155424,
          "t": 1.673,
          "v": -0.763998
         },
         {
          "i": 0.000155091,
          "t": 1.674,
          "v": -0.763465
         },
         {
          "i": 0.000154758,
          "t": 1.675,
          "v": -0.763007
         },
         {
          "i": 0.000154258,
          "t": 1.676,
          "v": -0.762473
         },
         {
          "i": 0.000152758,
          "t": 1.677,
          "v": -0.76204
         },
         {
          "i": 0.000153258,
          "t": 1.678,
          "v": -0.761515
         },
         {
          "i": 0.000153258,
          "t": 1.679,
          "v": -0.761032
         },
         {
          "i": 0.000153258,
          "t": 1.68,
          "v": -0.760557
         },
         {
          "i": 0.000150758,
          "t": 1.681,
          "v": -0.760023
         },
         {
          "i": 0.000149924,
          "t": 1.682,
          "v": -0.759482
         },
         {
          "i": 0.000151258,
          "t": 1.683,
          "v": -0.758973
         },
         {
          "i": 0.000150257,
          "t": 1.684,
          "v": -0.758457
         },
         {
          "i": 0.000149591,
          "t": 1.685,
          "v": -0.758057
         },
         {
          "i": 0.000149424,
          "t": 1.686,
          "v": -0.75754
         },
         {
          "i": 0.000148924,
          "t": 1.687,
          "v": -0.756998
         },
         {
          "i": 0.000148091,
          "t": 1.688,
          "v": -0.756557
         },
         {
          "i": 0.000147924,
          "t": 1.689,
          "v": -0.756007
         },
         {
          "i": 0.000147924,
          "t": 1.69,
          "v": -0.755498
         },
         {
          "i": 0.000147091,
          "t": 1.691,
          "v": -0.755032
         },
         {
          "i": 0.000147757,
          "t": 1.692,
          "v": -0.754457
         },
         {
          "i": 0.000146424,
          "t": 1.693,
          "v": -0.75409
         },
         {
          "i": 0.000145924,
          "t": 1.694,
          "v": -0.753574
         },
         {
          "i": 0.000145757,
          "t": 1.695,
          "v": -0.75294
         },
         {
          "i": 0.000146091,
          "t": 1.696,
          "v": -0.752565
         },
         {
          "i": 0.000145757,
          "t": 1.697,
          "v": -0.752015
         },
         {
          "i": 0.000145424,
          "t": 1.698,
          "v": -0.751582
         },
         {
          "i": 0.000145091,
          "t": 1.699,
          "v": -0.751024
         },
         {
          "i": 0.000144591,
          "t": 1.7,
          "v": -0.750474
         },
         {
          "i": 0.000145591,
          "t": 1.701,
          "v": -0.750099
         },
         {
          "i": 0.000144424,
          "t": 1.702,
          "v": -0.749474
         },
         {
          "i": 0.000143757,
          "t": 1.703,
          "v": -0.748982
         },
         {
          "i": 0.000143591,
          "t": 1.704,
          "v": -0.748599
         },
         {
          "i": 0.000142757,
          "t": 1.705,
          "v": -0.748015
         },
         {
          "i": 0.000141591,
          "t": 1.706,
          "v": -0.747574
         },
         {
          "i": 0.000142591,
          "t": 1.707,
          "v": -0.747032
         },
         {
          "i": 0.000142257,
          "t": 1.708,
          "v": -0.746457
         },
         {
          "i": 0.00014109,
          "t": 1.709,
          "v": -0.746024
         },
         {
          "i": 0.00014009,
          "t": 1.71,
          "v": -0.745557
         },
         {
          "i": 0.000140257,
          "t": 1.711,
          "v": -0.744957
         },
         {
          "i": 0.000139257,
          "t": 1.712,
          "v": -0.744565
         },
         {
          "i": 0.000139757,
          "t": 1.713,
          "v": -0.744007
         },
         {
          "i": 0.000139257,
          "t": 1.714,
          "v": -0.743549
         },
         {
          "i": 0.00013959,
          "t": 1.715,
          "v": -0.743057
         },
         {
          "i": 0.000139257,
          "t": 1.716,
          "v": -0.742482
         },
         {
          "i": 0.000137424,
          "t": 1.717,
          "v": -0.742107
         },
         {
          "i": 0.00013809,
          "t": 1.718,
          "v": -0.741582
         },
         {
          "i": 0.00013759,
          "t": 1.719,
          "v": -0.74094
         },
         {
          "i": 0.00013709,
          "t": 1.72,
          "v": -0.740565
         },
         {
          "i": 0.000136757,
          "t": 1.721,
          "v": -0.73999
         },
         {
          "i": 0.000137424,
          "t": 1.722,
          "v": -0.739565
         },
         {
          "i": 0.000136424,
          "t": 1.723,
          "v": -0.739032
         },
         {
          "i": 0.00013609,
          "t": 1.724,
          "v": -0.73849
         },
         {
          "i": 0.000134924,
          "t": 1.725,
          "v": -0.737999
         },
         {
          "i": 0.00013609,
          "t": 1.726,
          "v": -0.737482
         },
         {
          "i": 0.000133757,
          "t": 1.727,
          "v": -0.737024
         },
         {
          "i": 0.00013359,
          "t": 1.728,
          "v": -0.736515
         },
         {
          "i": 0.00013309,
          "t": 1.729,
          "v": -0.736015
         },
         {
          "i": 0.000132757,
          "t": 1.73,
          "v": -0.735557
         },
         {
          "i": 0.00013209,
          "t": 1.731,
          "v": -0.735032
         },
         {
          "i": 0.000132924,
          "t": 1.732,
          "v": -0.734515
         },
         {
          "i": 0.00013209,
          "t": 1.733,
          "v": -0.734074
         },
         {
          "i": 0.00013209,
          "t": 1.734,
          "v": -0.733532
         },
         {
          "i": 0.000131423,
          "t": 1.735,
          "v": -0.733032
         },
         {
          "i": 0.00013159,
          "t": 1.736,
          "v": -0.732582
         },
         {
          "i": 0.00013159,
          "t": 1.737,
          "v": -0.731991
         },
         {
          "i": 0.000130423,
          "t": 1.738,
          "v": -0.731516
         },
         {
          "i": 0.00013009,
          "t": 1.739,
          "v": -0.731007
         },
         {
          "i": 0.000130423,
          "t": 1.74,
          "v": -0.730532
         },
         {
          "i": 0.00013109,
          "t": 1.741,
          "v": -0.730041
         },
         {
          "i": 0.000129423,
          "t": 1.742,
          "v": -0.729557
         },
         {
          "i": 0.00012959,
          "t": 1.743,
          "v": -0.728941
         },
         {
          "i": 0.000128757,
          "t": 1.744,
          "v": -0.728599
         },
         {
          "i": 0.00012909,
          "t": 1.745,
          "v": -0.728049
         },
         {
          "i": 0.00012759,
          "t": 1.746,
          "v": -0.727574
         },
         {
          "i": 0.00012859,
          "t": 1.747,
          "v": -0.727007
         },
         {
          "i": 0.000127257,
          "t": 1.748,
          "v": -0.726457
         },
         {
          "i": 0.000126923,
          "t": 1.749,
          "v": -0.726116
         },
         {
          "i": 0.00012809,
          "t": 1.75,
          "v": -0.725582
         },
         {
          "i": 0.00012659,
          "t": 1.751,
          "v": -0.725024
         },
         {
          "i": 0.000126257,
          "t": 1.752,
          "v": -0.724582
         },
         {
          "i": 0.00012559,
          "t": 1.753,
          "v": -0.723991
         },
         {
          "i": 0.00012609,
          "t": 1.754,
          "v": -0.723532
         },
         {
          "i": 0.00012459,
          "t": 1.755,
          "v": -0.723041
         },
         {
          "i": 0.000124757,
          "t": 1.756,
          "v": -0.722499
         },
         {
          "i": 0.000124923,
          "t": 1.757,
          "v": -0.722107
         },
         {
          "i": 0.000124923,
          "t": 1.758,
          "v": -0.721549
         },
         {
          "i": 0.000123757,
          "t": 1.759,
          "v": -0.720982
         },
         {
          "i": 0.000124257,
          "t": 1.76,
          "v": -0.720524
         },
         {
          "i": 0.000124257,
          "t": 1.761,
          "v": -0.720041
         },
         {
          "i": 0.000123757,
          "t": 1.762,
          "v": -0.719566
         },
         {
          "i": 0.000124257,
          "t": 1.763,
          "v": -0.719091
         },
         {
          "i": 0.000123256,
          "t": 1.764,
          "v": -0.718499
         },
         {
          "i": 0.00012309,
          "t": 1.765,
          "v": -0.718066
         },
         {
          "i": 0.00012309,
          "t": 1.766,
          "v": -0.717524
         },
         {
          "i": 0.000122256,
          "t": 1.767,
          "v": -0.717074
         },
         {
          "i": 0.000121756,
          "t": 1.768,
          "v": -0.716591
         },
         {
          "i": 0.000122756,
          "t": 1.769,
          "v": -0.716007
         },
         {
          "i": 0.000122423,
          "t": 1.77,
          "v": -0.715532
         },
         {
          "i": 0.000121923,
          "t": 1.771,
          "v": -0.715032
         },
         {
          "i": 0.000121923,
          "t": 1.772,
          "v": -0.714499
         },
         {
          "i": 0.000121256,
          "t": 1.773,
          "v": -0.714107
         },
         {
          "i": 0.000121423,
          "t": 1.774,
          "v": -0.713557
         },
         {
          "i": 0.000121423,
          "t": 1.775,
          "v": -0.712982
         },
         {
          "i": 0.000118923,
          "t": 1.776,
          "v": -0.712524
         },
         {
          "i": 0.000120756,
          "t": 1.777,
          "v": -0.711966
         },
         {
          "i": 0.000119256,
          "t": 1.778,
          "v": -0.711474
         },
         {
          "i": 0.000119256,
          "t": 1.779,
          "v": -0.711024
         },
         {
          "i": 0.000119256,
          "t": 1.78,
          "v": -0.710541
         },
         {
          "i": 0.000119256,
          "t": 1.781,
          "v": -0.710091
         },
         {
          "i": 0.000117756,
          "t": 1.782,
          "v": -0.709566
         },
         {
          "i": 0.000117756,
          "t": 1.783,
          "v": -0.708982
         },
         {
          "i": 0.000118423,
          "t": 1.784,
          "v": -0.708549
         },
         {
          "i": 0.000117256,
          "t": 1.785,
          "v": -0.708016
         },
         {
          "i": 0.00011709,
          "t": 1.786,
          "v": -0.707541
         },
         {
          "i": 0.000116423,
          "t": 1.787,
          "v": -0.707016
         },
         {
          "i": 0.00011709,
          "t": 1.788,
          "v": -0.706508
         },
         {
          "i": 0.00011609,
          "t": 1.789,
          "v": -0.706041
         },
         {
          "i": 0.000115756,
          "t": 1.79,
          "v": -0.705499
         },
         {
          "i": 0.000115256,
          "t": 1.791,
          "v": -0.705024
         },
         {
          "i": 0.000115423,
          "t": 1.792,
          "v": -0.704524
         },
         {
          "i": 0.000115256,
          "t": 1.793,
          "v": -0.703983
         },
         {
          "i": 0.00011559,
          "t": 1.794,
          "v": -0.703566
         },
         {
          "i": 0.000114423,
          "t": 1.795,
          "v": -0.703091
         },
         {
          "i": 0.000114756,
          "t": 1.796,
          "v": -0.702491
         },
         {
          "i": 0.000114089,
          "t": 1.797,
          "v": -0.702083
         },
         {
          "i": 0.000113589,
          "t": 1.798,
          "v": -0.701566
         },
         {
          "i": 0.000114089,
          "t": 1.799,
          "v": -0.700983
         },
         {
          "i": 0.000114089,
          "t": 1.8,
          "v": -0.700616
         },
         {
          "i": 0.000113923,
          "t": 1.801,
          "v": -0.700049
         },
         {
          "i": 0.000114256,
          "t": 1.802,
          "v": -0.699508
         },
         {
          "i": 0.000112756,
          "t": 1.803,
          "v": -0.699024
         },
         {
          "i": 0.000112756,
          "t": 1.804,
          "v": -0.698533
         },
         {
          "i": 0.000112756,
          "t": 1.805,
          "v": -0.697999
         },
         {
          "i": 0.000113423,
          "t": 1.806,
          "v": -0.697483
         },
         {
          "i": 0.000111923,
          "t": 1.807,
          "v": -0.696991
         },
         {
          "i": 0.000112089,
          "t": 1.808,
          "v": -0.696549
         },
         {
          "i": 0.000112423,
          "t": 1.809,
          "v": -0.696041
         },
         {
          "i": 0.000111756,
          "t": 1.81,
          "v": -0.695491
         },
         {
          "i": 0.000111923,
          "t": 1.811,
          "v": -0.695016
         },
         {
          "i": 0.000112089,
          "t": 1.812,
          "v": -0.694466
         },
         {
          "i": 0.000110256,
          "t": 1.813,
          "v": -0.694058
         },
         {
          "i": 0.000112256,
          "t": 1.814,
          "v": -0.693616
         },
         {
          "i": 0.000112089,
          "t": 1.815,
          "v": -0.692991
         },
         {
          "i": 0.000110923,
          "t": 1.816,
          "v": -0.692591
         },
         {
          "i": 0.000109089,
          "t": 1.817,
          "v": -0.692016
         },
         {
          "i": 0.000109756,
          "t": 1.818,
          "v": -0.691524
         },
         {
          "i": 0.000108423,
          "t": 1.819,
          "v": -0.691083
         },
         {
          "i": 0.000111089,
          "t": 1.82,
          "v": -0.690475
         },
         {
          "i": 0.000109256,
          "t": 1.821,
          "v": -0.690075
         },
         {
          "i": 0.000109589,
          "t": 1.822,
          "v": -0.689574
         },
         {
          "i": 0.000108756,
          "t": 1.823,
          "v": -0.689025
         },
         {
          "i": 0.000108256,
          "t": 1.824,
          "v": -0.688591
         },
         {
          "i": 0.000108923,
          "t": 1.825,
          "v": -0.688033
         },
         {
          "i": 0.000108589,
          "t": 1.826,
          "v": -0.687583
         },
         {
          "i": 0.000109089,
          "t": 1.827,
          "v": -0.687025
         },
         {
          "i": 0.000109089,
          "t": 1.828,
          "v": -0.686516
         },
         {
          "i": 0.000108923,
          "t": 1.829,
          "v": -0.686125
         },
         {
          "i": 0.000107923,
          "t": 1.83,
          "v": -0.685533
         },
         {
          "i": 0.000107923,
          "t": 1.831,
          "v": -0.685008
         },
         {
          "i": 0.000107256,
          "t": 1.832,
          "v": -0.684558
         },
         {
          "i": 0.000106923,
          "t": 1.833,
          "v": -0.684008
         },
         {
          "i": 0.000107756,
          "t": 1.834,
          "v": -0.6835
         },
         {
          "i": 0.000106589,
          "t": 1.835,
          "v": -0.683025
         },
         {
          "i": 0.000105923,
          "t": 1.836,
          "v": -0.682508
         },
         {
          "i": 0.000106423,
          "t": 1.837,
          "v": -0.682016
         },
         {
          "i": 0.000106423,
          "t": 1.838,
          "v": -0.681558
         },
         {
          "i": 0.000104922,
          "t": 1.839,
          "v": -0.681016
         },
         {
          "i": 0.000105422,
          "t": 1.84,
          "v": -0.680558
         },
         {
          "i": 0.000105256,
          "t": 1.841,
          "v": -0.680033
         },
         {
          "i": 0.000105256,
          "t": 1.842,
          "v": -0.679525
         },
         {
          "i": 0.000105089,
          "t": 1.843,
          "v": -0.679008
         },
         {
          "i": 0.000104756,
          "t": 1.844,
          "v": -0.678525
         },
         {
          "i": 0.000105756,
          "t": 1.845,
          "v": -0.678091
         },
         {
          "i": 0.000103922,
          "t": 1.846,
          "v": -0.677583
         },
         {
          "i": 0.000104756,
          "t": 1.847,
          "v": -0.676941
         },
         {
          "i": 0.000103422,
          "t": 1.848,
          "v": -0.676608
         },
         {
          "i": 0.000103922,
          "t": 1.849,
          "v": -0.676025
         },
         {
          "i": 0.000103589,
          "t": 1.85,
          "v": -0.675533
         },
         {
          "i": 0.000103756,
          "t": 1.851,
          "v": -0.675075
         },
         {
          "i": 0.000103922,
          "t": 1.852,
          "v": -0.674483
         },
         {
          "i": 0.000102589,
          "t": 1.853,
          "v": -0.674075
         },
         {
          "i": 0.000102756,
          "t": 1.854,
          "v": -0.673541
         },
         {
          "i": 0.000102256,
          "t": 1.855,
          "v": -0.673008
         },
         {
          "i": 0.000101756,
          "t": 1.856,
          "v": -0.672575
         },
         {
          "i": 0.000101089,
          "t": 1.857,
          "v": -0.672025
         },
         {
          "i": 0.000100756,
          "t": 1.858,
          "v": -0.671558
         },
         {
          "i": 0.000103256,
          "t": 1.859,
          "v": -0.671058
         },
         {
          "i": 0.000102422,
          "t": 1.86,
          "v": -0.670483
         },
         {
          "i": 0.000100089,
          "t": 1.861,
          "v": -0.670091
         },
         {
          "i": 0.000100089,
          "t": 1.862,
          "v": -0.66955
         },
         {
          "i": 0.000100089,
          "t": 1.863,
          "v": -0.669025
         },
         {
          "i": 0.000101089,
          "t": 1.864,
          "v": -0.6686
         },
         {
          "i": 0.000100089,
          "t": 1.865,
          "v": -0.668041
         },
         {
          "i": 0.000100256,
          "t": 1.866,
          "v": -0.667566
         },
         {
          "i": 9.95889e-05,
          "t": 1.867,
          "v": -0.667066
         },
         {
          "i": 0.000100256,
          "t": 1.868,
          "v": -0.666558
         },
         {
          "i": 9.99223e-05,
          "t": 1.869,
          "v": -0.666125
         },
         {
          "i": 9.94223e-05,
          "t": 1.87,
          "v": -0.665567
         },
         {
          "i": 9.92556e-05,
          "t": 1.871,
          "v": -0.664991
         },
         {
          "i": 9.99223e-05,
          "t": 1.872,
          "v": -0.664542
         },
         {
          "i": 9.97556e-05,
          "t": 1.873,
          "v": -0.663975
         },
         {
          "i": 9.90889e-05,
          "t": 1.874,
          "v": -0.663483
         },
         {
          "i": 9.84222e-05,
          "t": 1.875,
          "v": -0.663
         },
         {
          "i": 9.87556e-05,
          "t": 1.876,
          "v": -0.662475
         },
         {
          "i": 9.85889e-05,
          "t": 1.877,
          "v": -0.662083
         },
         {
          "i": 9.92556e-05,
          "t": 1.878,
          "v": -0.661517
         },
         {
          "i": 9.85889e-05,
          "t": 1.879,
          "v": -0.660983
         },
         {
          "i": 9.82556e-05,
          "t": 1.88,
          "v": -0.660558
         },
         {
          "i": 9.75889e-05,
          "t": 1.881,
          "v": -0.660017
         },
         {
          "i": 9.77555e-05,
          "t": 1.882,
          "v": -0.659492
         },
         {
          "i": 9.77555e-05,
          "t": 1.883,
          "v": -0.659017
         },
         {
          "i": 9.72555e-05,
          "t": 1.884,
          "v": -0.658467
         },
         {
          "i": 9.74222e-05,
          "t": 1.885,
          "v": -0.657967
         },
         {
          "i": 9.60888e-05,
          "t": 1.886,
          "v": -0.657533
         },
         {
          "i": 9.64221e-05,
          "t": 1.887,
          "v": -0.656983
         },
         {
          "i": 9.77555e-05,
          "t": 1.888,
          "v": -0.656492
         },
         {
          "i": 9.64221e-05,
          "t": 1.889,
          "v": -0.656
         },
         {
          "i": 9.60888e-05,
          "t": 1.89,
          "v": -0.655508
         },
         {
          "i": 9.70888e-05,
          "t": 1.891,
          "v": -0.655025
         },
         {
          "i": 9.62555e-05,
          "t": 1.892,
          "v": -0.6545
         },
         {
          "i": 9.65888e-05,
          "t": 1.893,
          "v": -0.654042
         },
         {
          "i": 9.52554e-05,
          "t": 1.894,
          "v": -0.65355
         },
         {
          "i": 9.65888e-05,
          "t": 1.895,
          "v": -0.653
         },
         {
          "i": 9.60888e-05,
          "t": 1.896,
          "v": -0.652508
         },
         {
          "i": 9.47554e-05,
          "t": 1.897,
          "v": -0.65205
         },
         {
          "i": 9.45887e-05,
          "t": 1.898,
          "v": -0.65155
         },
         {
          "i": 9.45887e-05,
          "t": 1.899,
          "v": -0.651058
         },
         {
          "i": 9.60888e-05,
          "t": 1.9,
          "v": -0.650442
         },
         {
          "i": 9.40887e-05,
          "t": 1.901,
          "v": -0.650108
         },
         {
          "i": 9.40887e-05,
          "t": 1.902,
          "v": -0.6495
         },
         {
          "i": 9.44221e-05,
          "t": 1.903,
          "v": -0.648967
         },
         {
          "i": 9.3422e-05,
          "t": 1.904,
          "v": -0.648533
         },
         {
          "i": 9.35887e-05,
          "t": 1.905,
          "v": -0.648008
         },
         {
          "i": 9.27553e-05,
          "t": 1.906,
          "v": -0.647467
         },
         {
          "i": 9.25887e-05,
          "t": 1.907,
          "v": -0.647
         },
         {
          "i": 9.27553e-05,
          "t": 1.908,
          "v": -0.6465
         },
         {
          "i": 9.3422e-05,
          "t": 1.909,
          "v": -0.64605
         },
         {
          "i": 9.20886e-05,
          "t": 1.91,
          "v": -0.645517
         },
         {
          "i": 9.35887e-05,
          "t": 1.911,
          "v": -0.645017
         },
         {
          "i": 9.2422e-05,
          "t": 1.912,
          "v": -0.644533
         },
         {
          "i": 9.25887e-05,
          "t": 1.913,
          "v": -0.644017
         },
         {
          "i": 9.37554e-05,
          "t": 1.914,
          "v": -0.643483
         },
         {
          "i": 9.20886e-05,
          "t": 1.915,
          "v": -0.643034
         },
         {
          "i": 9.1922e-05,
          "t": 1.916,
          "v": -0.6425
         },
         {
          "i": 9.12553e-05,
          "t": 1.917,
          "v": -0.642084
         },
         {
          "i": 9.17553e-05,
          "t": 1.918,
          "v": -0.641533
         },
         {
          "i": 9.15886e-05,
          "t": 1.919,
          "v": -0.640892
         },
         {
          "i": 9.15886e-05,
          "t": 1.92,
          "v": -0.640492
         },
         {
          "i": 9.15886e-05,
          "t": 1.921,
          "v": -0.640025
         },
         {
          "i": 9.15886e-05,
          "t": 1.922,
          "v": -0.639584
         },
         {
          "i": 9.09219e-05,
          "t": 1.923,
          "v": -0.639009
         },
         {
          "i": 9.12553e-05,
          "t": 1.924,
          "v": -0.638484
         },
         {
          "i": 9.10886e-05,
          "t": 1.925,
          "v": -0.638042
         },
         {
          "i": 9.02553e-05,
          "t": 1.926,
          "v": -0.6375
         },
         {
          "i": 9.1422e-05,
          "t": 1.927,
          "v": -0.636942
         },
         {
          "i": 9.07553e-05,
          "t": 1.928,
          "v": -0.636517
         },
         {
          "i": 9.09219e-05,
          "t": 1.929,
          "v": -0.635984
         },
         {
          "i": 8.97552e-05,
          "t": 1.93,
          "v": -0.635492
         },
         {
          "i": 9.00886e-05,
          "t": 1.931,
          "v": -0.635009
         },
         {
          "i": 9.00886e-05,
          "t": 1.932,
          "v": -0.634525
         },
         {
          "i": 9.02553e-05,
          "t": 1.933,
          "v": -0.633992
         },
         {
          "i": 8.92552e-05,
          "t": 1.934,
          "v": -0.633467
         },
         {
          "i": 9.02553e-05,
          "t": 1.935,
          "v": -0.633025
         },
         {
          "i": 9.02553e-05,
          "t": 1.936,
          "v": -0.632509
         },
         {
          "i": 8.92552e-05,
          "t": 1.937,
          "v": -0.631984
         },
         {
          "i": 8.87552e-05,
          "t": 1.938,
          "v": -0.631492
         },
         {
          "i": 8.90885e-05,
          "t": 1.939,
          "v": -0.631025
         },
         {
          "i": 9.02553e-05,
          "t": 1.94,
          "v": -0.630517
         },
         {
          "i": 8.89219e-05,
          "t": 1.941,
          "v": -0.630075
         },
         {
          "i": 8.95886e-05,
          "t": 1.942,
          "v": -0.629517
         },
         {
          "i": 8.90885e-05,
          "t": 1.943,
          "v": -0.628984
         },
         {
          "i": 8.82552e-05,
          "t": 1.944,
          "v": -0.628584
         },
         {
          "i": 8.84218e-05,
          "t": 1.945,
          "v": -0.628
         },
         {
          "i": 8.89219e-05,
          "t": 1.946,
          "v": -0.6275
         },
         {
          "i": 8.79218e-05,
          "t": 1.947,
          "v": -0.627
         },
         {
          "i": 8.74218e-05,
          "t": 1.948,
          "v": -0.626467
         },
         {
          "i": 8.87552e-05,
          "t": 1.949,
          "v": -0.626134
         },
         {
          "i": 8.89219e-05,
          "t": 1.95,
          "v": -0.625567
         },
         {
          "i": 8.89219e-05,
          "t": 1.951,
          "v": -0.624909
         },
         {
          "i": 8.72551e-05,
          "t": 1.952,
          "v": -0.624542
         },
         {
          "i": 8.57551e-05,
          "t": 1.953,
          "v": -0.624026
         },
         {
          "i": 8.69218e-05,
          "t": 1.954,
          "v": -0.623567
         },
         {
          "i": 8.72551e-05,
          "t": 1.955,
          "v": -0.623026
         },
         {
          "i": 8.65884e-05,
          "t": 1.956,
          "v": -0.622459
         },
         {
          "i": 8.69218e-05,
          "t": 1.957,
          "v": -0.622092
         },
         {
          "i": 8.64218e-05,
          "t": 1.958,
          "v": -0.621484
         },
         {
          "i": 8.69218e-05,
          "t": 1.959,
          "v": -0.621051
         },
         {
          "i": 8.59218e-05,
          "t": 1.96,
          "v": -0.620592
         },
         {
          "i": 8.59218e-05,
          "t": 1.961,
          "v": -0.619992
         },
         {
          "i": 8.54217e-05,
          "t": 1.962,
          "v": -0.619501
         },
         {
          "i": 8.54217e-05,
          "t": 1.963,
          "v": -0.619051
         },
         {
          "i": 8.57551e-05,
          "t": 1.964,
          "v": -0.618484
         },
         {
          "i": 8.52551e-05,
          "t": 1.965,
          "v": -0.618042
         },
         {
          "i": 8.57551e-05,
          "t": 1.966,
          "v": -0.617559
         },
         {
          "i": 8.4755e-05,
          "t": 1.967,
          "v": -0.616984
         },
         {
          "i": 8.45884e-05,
          "t": 1.968,
          "v": -0.616551
         },
         {
          "i": 8.40884e-05,
          "t": 1.969,
          "v": -0.616001
         },
         {
          "i": 8.45884e-05,
          "t": 1.97,
          "v": -0.615534
         },
         {
          "i": 8.50884e-05,
          "t": 1.971,
          "v": -0.615059
         },
         {
          "i": 8.34217e-05,
          "t": 1.972,
          "v": -0.614484
         },
         {
          "i": 8.35883e-05,
          "t": 1.973,
          "v": -0.614067
         },
         {
          "i": 8.4255e-05,
          "t": 1.974,
          "v": -0.613484
         },
         {
          "i": 8.30883e-05,
          "t": 1.975,
          "v": -0.612959
         },
         {
          "i": 8.30883e-05,
          "t": 1.976,
          "v": -0.612542
         },
         {
          "i": 8.2255e-05,
          "t": 1.977,
          "v": -0.611984
         },
         {
          "i": 8.3255e-05,
          "t": 1.978,
          "v": -0.611492
         },
         {
          "i": 8.30883e-05,
          "t": 1.979,
          "v": -0.611017
         },
         {
          "i": 8.2755e-05,
          "t": 1.98,
          "v": -0.610501
         },
         {
          "i": 8.20883e-05,
          "t": 1.981,
          "v": -0.610042
         },
         {
          "i": 8.2255e-05,
          "t": 1.982,
          "v": -0.609476
         },
         {
          "i": 8.2255e-05,
          "t": 1.983,
          "v": -0.608976
         },
         {
          "i": 8.35883e-05,
          "t": 1.984,
          "v": -0.608542
         },
         {
          "i": 8.30883e-05,
          "t": 1.985,
          "v": -0.607992
         },
         {
          "i": 8.30883e-05,
          "t": 1.986,
          "v": -0.607434
         },
         {
          "i": 8.3255e-05,
          "t": 1.987,
          "v": -0.607009
         },
         {
          "i": 8.24216e-05,
          "t": 1.988,
          "v": -0.606434
         },
         {
          "i": 8.15883e-05,
          "t": 1.989,
          "v": -0.605992
         },
         {
          "i": 8.17549e-05,
          "t": 1.99,
          "v": -0.605509
         },
         {
          "i": 8.24216e-05,
          "t": 1.991,
          "v": -0.605026
         },
         {
          "i": 8.09216e-05,
          "t": 1.992,
          "v": -0.604567
         },
         {
          "i": 8.14216e-05,
          "t": 1.993,
          "v": -0.604001
         },
         {
          "i": 8.14216e-05,
          "t": 1.994,
          "v": -0.603476
         },
         {
          "i": 8.12549e-05,
          "t": 1.995,
          "v": -0.603026
         },
         {
          "i": 8.20883e-05,
          "t": 1.996,
          "v": -0.602467
         },
         {
          "i": 8.09216e-05,
          "t": 1.997,
          "v": -0.602051
         },
         {
          "i": 8.19216e-05,
          "t": 1.998,
          "v": -0.601517
         },
         {
          "i": 8.05882e-05,
          "t": 1.999,
          "v": -0.600884
         },
         {
          "i": 8.05882e-05,
          "t": 2,
          "v": -0.600551
         },
         {
          "i": 8.07549e-05,
          "t": 2.001,
          "v": -0.600059
         }
        ],
        "data-618071c01878769dd88ae186f21dd12e": [
         {
          "i": 0.00013709,
          "v": -0.740565
         }
        ]
       },
       "layer": [
        {
         "data": {
          "name": "data-290fd08cc1b2bf5fc935c39638b0c5b3"
         },
         "encoding": {
          "x": {
           "field": "v",
           "type": "quantitative"
          },
          "y": {
           "field": "i",
           "type": "quantitative"
          }
         },
         "mark": "point"
        },
        {
         "data": {
          "name": "data-618071c01878769dd88ae186f21dd12e"
         },
         "encoding": {
          "color": {
           "value": "black"
          },
          "x": {
           "field": "v",
           "type": "quantitative"
          },
          "y": {
           "field": "i",
           "type": "quantitative"
          }
         },
         "mark": {
          "filled": true,
          "size": 50,
          "type": "point"
         }
        }
       ]
      },
      "image/png": "[encoded data removed]",
      "text/plain": [
       "<VegaLite 3 object>\n",
       "\n",
       "If you see this message, it means the renderer has not been properly enabled\n",
       "for the frontend that you are using. For more information, see\n",
       "https://altair-viz.github.io/user_guide/troubleshooting.html\n"
      ]
     },
     "metadata": {},
     "output_type": "display_data"
    },
    {
     "name": "stdout",
     "output_type": "stream",
     "text": [
      "2.18592e-05 -0.67295\n"
     ]
    },
    {
     "data": {
      "application/vnd.vegalite.v3+json": {
       "$schema": "https://vega.github.io/schema/vega-lite/v3.2.1.json",
       "config": {
        "mark": {
         "tooltip": null
        },
        "view": {
         "height": 300,
         "width": 400
        }
       },
       "datasets": {
        "data-d34167458af0ee932352bf8e0eb55b6f": [
         {
          "i": -6.66124e-05,
          "t": 6.005,
          "v": -1.09998
         },
         {
          "i": -6.08998e-05,
          "t": 6.01,
          "v": -1.09948
         },
         {
          "i": -5.93345e-05,
          "t": 6.015,
          "v": -1.09905
         },
         {
          "i": -5.8204e-05,
          "t": 6.02,
          "v": -1.09848
         },
         {
          "i": -5.7321e-05,
          "t": 6.025,
          "v": -1.09801
         },
         {
          "i": -5.65719e-05,
          "t": 6.03,
          "v": -1.09753
         },
         {
          "i": -5.59565e-05,
          "t": 6.035,
          "v": -1.09697
         },
         {
          "i": -5.56354e-05,
          "t": 6.04,
          "v": -1.09653
         },
         {
          "i": -5.49664e-05,
          "t": 6.045,
          "v": -1.09601
         },
         {
          "i": -5.47123e-05,
          "t": 6.05,
          "v": -1.09548
         },
         {
          "i": -5.43577e-05,
          "t": 6.055,
          "v": -1.095
         },
         {
          "i": -5.43644e-05,
          "t": 6.06,
          "v": -1.09448
         },
         {
          "i": -5.36487e-05,
          "t": 6.065,
          "v": -1.094
         },
         {
          "i": -5.34747e-05,
          "t": 6.07,
          "v": -1.09349
         },
         {
          "i": -5.32005e-05,
          "t": 6.075,
          "v": -1.09297
         },
         {
          "i": -5.30466e-05,
          "t": 6.08,
          "v": -1.09254
         },
         {
          "i": -5.29664e-05,
          "t": 6.085,
          "v": -1.09197
         },
         {
          "i": -5.25048e-05,
          "t": 6.09,
          "v": -1.09147
         },
         {
          "i": -5.24781e-05,
          "t": 6.095,
          "v": -1.09101
         },
         {
          "i": -5.23108e-05,
          "t": 6.1,
          "v": -1.09045
         },
         {
          "i": -5.20232e-05,
          "t": 6.105,
          "v": -1.08998
         },
         {
          "i": -5.20901e-05,
          "t": 6.11,
          "v": -1.08948
         },
         {
          "i": -5.22172e-05,
          "t": 6.115,
          "v": -1.08897
         },
         {
          "i": -5.20165e-05,
          "t": 6.12,
          "v": -1.08848
         },
         {
          "i": -5.20098e-05,
          "t": 6.125,
          "v": -1.08799
         },
         {
          "i": -5.18626e-05,
          "t": 6.13,
          "v": -1.08742
         },
         {
          "i": -5.15951e-05,
          "t": 6.135,
          "v": -1.08704
         },
         {
          "i": -5.17422e-05,
          "t": 6.14,
          "v": -1.0865
         },
         {
          "i": -5.14881e-05,
          "t": 6.145,
          "v": -1.08605
         },
         {
          "i": -5.13944e-05,
          "t": 6.15,
          "v": -1.08555
         },
         {
          "i": -5.12138e-05,
          "t": 6.155,
          "v": -1.08495
         },
         {
          "i": -5.10131e-05,
          "t": 6.16,
          "v": -1.0846
         },
         {
          "i": -5.09997e-05,
          "t": 6.165,
          "v": -1.08403
         },
         {
          "i": -5.07188e-05,
          "t": 6.17,
          "v": -1.08348
         },
         {
          "i": -5.06853e-05,
          "t": 6.175,
          "v": -1.08304
         },
         {
          "i": -5.06519e-05,
          "t": 6.18,
          "v": -1.08247
         },
         {
          "i": -5.03977e-05,
          "t": 6.185,
          "v": -1.08199
         },
         {
          "i": -5.02974e-05,
          "t": 6.19,
          "v": -1.08148
         },
         {
          "i": -5.00833e-05,
          "t": 6.195,
          "v": -1.08094
         },
         {
          "i": -5.0197e-05,
          "t": 6.2,
          "v": -1.08055
         },
         {
          "i": -5.01636e-05,
          "t": 6.205,
          "v": -1.08002
         },
         {
          "i": -4.98024e-05,
          "t": 6.21,
          "v": -1.07949
         },
         {
          "i": -5.00231e-05,
          "t": 6.215,
          "v": -1.07902
         },
         {
          "i": -4.96418e-05,
          "t": 6.22,
          "v": -1.07849
         },
         {
          "i": -4.95415e-05,
          "t": 6.225,
          "v": -1.07803
         },
         {
          "i": -4.92204e-05,
          "t": 6.23,
          "v": -1.07752
         },
         {
          "i": -4.88257e-05,
          "t": 6.235,
          "v": -1.07697
         },
         {
          "i": -4.87923e-05,
          "t": 6.24,
          "v": -1.07655
         },
         {
          "i": -4.88057e-05,
          "t": 6.245,
          "v": -1.07602
         },
         {
          "i": -4.85916e-05,
          "t": 6.25,
          "v": -1.07549
         },
         {
          "i": -4.85448e-05,
          "t": 6.255,
          "v": -1.07505
         },
         {
          "i": -4.86786e-05,
          "t": 6.26,
          "v": -1.07445
         },
         {
          "i": -4.8411e-05,
          "t": 6.265,
          "v": -1.07397
         },
         {
          "i": -4.79896e-05,
          "t": 6.27,
          "v": -1.07348
         },
         {
          "i": -4.76953e-05,
          "t": 6.275,
          "v": -1.07294
         },
         {
          "i": -4.78959e-05,
          "t": 6.28,
          "v": -1.07249
         },
         {
          "i": -4.78826e-05,
          "t": 6.285,
          "v": -1.07199
         },
         {
          "i": -4.79762e-05,
          "t": 6.29,
          "v": -1.07146
         },
         {
          "i": -4.7702e-05,
          "t": 6.295,
          "v": -1.07099
         },
         {
          "i": -4.7421e-05,
          "t": 6.3,
          "v": -1.07044
         },
         {
          "i": -4.73943e-05,
          "t": 6.305,
          "v": -1.06997
         },
         {
          "i": -4.70397e-05,
          "t": 6.31,
          "v": -1.06946
         },
         {
          "i": -4.70531e-05,
          "t": 6.315,
          "v": -1.06894
         },
         {
          "i": -4.70999e-05,
          "t": 6.32,
          "v": -1.0685
         },
         {
          "i": -4.72003e-05,
          "t": 6.325,
          "v": -1.06796
         },
         {
          "i": -4.70397e-05,
          "t": 6.33,
          "v": -1.06744
         },
         {
          "i": -4.68123e-05,
          "t": 6.335,
          "v": -1.06699
         },
         {
          "i": -4.62905e-05,
          "t": 6.34,
          "v": -1.06644
         },
         {
          "i": -4.66451e-05,
          "t": 6.345,
          "v": -1.06596
         },
         {
          "i": -4.67186e-05,
          "t": 6.35,
          "v": -1.06545
         },
         {
          "i": -4.64176e-05,
          "t": 6.355,
          "v": -1.06495
         },
         {
          "i": -4.62972e-05,
          "t": 6.36,
          "v": -1.06447
         },
         {
          "i": -4.59828e-05,
          "t": 6.365,
          "v": -1.06396
         },
         {
          "i": -4.61166e-05,
          "t": 6.37,
          "v": -1.06345
         },
         {
          "i": -4.61099e-05,
          "t": 6.375,
          "v": -1.06296
         },
         {
          "i": -4.60163e-05,
          "t": 6.38,
          "v": -1.06245
         },
         {
          "i": -4.59226e-05,
          "t": 6.385,
          "v": -1.06197
         },
         {
          "i": -4.59427e-05,
          "t": 6.39,
          "v": -1.06152
         },
         {
          "i": -4.5722e-05,
          "t": 6.395,
          "v": -1.06093
         },
         {
          "i": -4.59895e-05,
          "t": 6.4,
          "v": -1.06053
         },
         {
          "i": -4.57822e-05,
          "t": 6.405,
          "v": -1.06003
         },
         {
          "i": -4.55949e-05,
          "t": 6.41,
          "v": -1.05944
         },
         {
          "i": -4.57755e-05,
          "t": 6.415,
          "v": -1.05904
         },
         {
          "i": -4.52938e-05,
          "t": 6.42,
          "v": -1.05848
         },
         {
          "i": -4.51801e-05,
          "t": 6.425,
          "v": -1.05798
         },
         {
          "i": -4.52938e-05,
          "t": 6.43,
          "v": -1.05749
         },
         {
          "i": -4.46851e-05,
          "t": 6.435,
          "v": -1.05692
         },
         {
          "i": -4.50129e-05,
          "t": 6.44,
          "v": -1.05651
         },
         {
          "i": -4.46851e-05,
          "t": 6.445,
          "v": -1.05595
         },
         {
          "i": -4.46517e-05,
          "t": 6.45,
          "v": -1.05543
         },
         {
          "i": -4.45647e-05,
          "t": 6.455,
          "v": -1.055
         },
         {
          "i": -4.46249e-05,
          "t": 6.46,
          "v": -1.05447
         },
         {
          "i": -4.48791e-05,
          "t": 6.465,
          "v": -1.05398
         },
         {
          "i": -4.47654e-05,
          "t": 6.47,
          "v": -1.05349
         },
         {
          "i": -4.43707e-05,
          "t": 6.475,
          "v": -1.05294
         },
         {
          "i": -4.4451e-05,
          "t": 6.48,
          "v": -1.05253
         },
         {
          "i": -4.43306e-05,
          "t": 6.485,
          "v": -1.05199
         },
         {
          "i": -4.40831e-05,
          "t": 6.49,
          "v": -1.05145
         },
         {
          "i": -4.40162e-05,
          "t": 6.495,
          "v": -1.05102
         },
         {
          "i": -4.37955e-05,
          "t": 6.5,
          "v": -1.05047
         },
         {
          "i": -4.35546e-05,
          "t": 6.505,
          "v": -1.04998
         },
         {
          "i": -4.39426e-05,
          "t": 6.51,
          "v": -1.04951
         },
         {
          "i": -4.35546e-05,
          "t": 6.515,
          "v": -1.04895
         },
         {
          "i": -4.38021e-05,
          "t": 6.52,
          "v": -1.04853
         },
         {
          "i": -4.35546e-05,
          "t": 6.525,
          "v": -1.048
         },
         {
          "i": -4.3548e-05,
          "t": 6.53,
          "v": -1.04747
         },
         {
          "i": -4.32871e-05,
          "t": 6.535,
          "v": -1.047
         },
         {
          "i": -4.32469e-05,
          "t": 6.54,
          "v": -1.04647
         },
         {
          "i": -4.32469e-05,
          "t": 6.545,
          "v": -1.046
         },
         {
          "i": -4.35546e-05,
          "t": 6.55,
          "v": -1.04547
         },
         {
          "i": -4.33205e-05,
          "t": 6.555,
          "v": -1.04496
         },
         {
          "i": -4.29058e-05,
          "t": 6.56,
          "v": -1.04452
         },
         {
          "i": -4.29392e-05,
          "t": 6.565,
          "v": -1.04399
         },
         {
          "i": -4.27653e-05,
          "t": 6.57,
          "v": -1.04346
         },
         {
          "i": -4.30329e-05,
          "t": 6.575,
          "v": -1.043
         },
         {
          "i": -4.26583e-05,
          "t": 6.58,
          "v": -1.04245
         },
         {
          "i": -4.26115e-05,
          "t": 6.585,
          "v": -1.04198
         },
         {
          "i": -4.26516e-05,
          "t": 6.59,
          "v": -1.04146
         },
         {
          "i": -4.24041e-05,
          "t": 6.595,
          "v": -1.04096
         },
         {
          "i": -4.23439e-05,
          "t": 6.6,
          "v": -1.04048
         },
         {
          "i": -4.26382e-05,
          "t": 6.605,
          "v": -1.03997
         },
         {
          "i": -4.24576e-05,
          "t": 6.61,
          "v": -1.03947
         },
         {
          "i": -4.21633e-05,
          "t": 6.615,
          "v": -1.03897
         },
         {
          "i": -4.20094e-05,
          "t": 6.62,
          "v": -1.03846
         },
         {
          "i": -4.23573e-05,
          "t": 6.625,
          "v": -1.03798
         },
         {
          "i": -4.19827e-05,
          "t": 6.63,
          "v": -1.03745
         },
         {
          "i": -4.22302e-05,
          "t": 6.635,
          "v": -1.03697
         },
         {
          "i": -4.17419e-05,
          "t": 6.64,
          "v": -1.03653
         },
         {
          "i": -4.17352e-05,
          "t": 6.645,
          "v": -1.03603
         },
         {
          "i": -4.12469e-05,
          "t": 6.65,
          "v": -1.03545
         },
         {
          "i": -4.16014e-05,
          "t": 6.655,
          "v": -1.03506
         },
         {
          "i": -4.18757e-05,
          "t": 6.66,
          "v": -1.03449
         },
         {
          "i": -4.15679e-05,
          "t": 6.665,
          "v": -1.03404
         },
         {
          "i": -4.15412e-05,
          "t": 6.67,
          "v": -1.03354
         },
         {
          "i": -4.11398e-05,
          "t": 6.675,
          "v": -1.03293
         },
         {
          "i": -4.11064e-05,
          "t": 6.68,
          "v": -1.03254
         },
         {
          "i": -4.08121e-05,
          "t": 6.685,
          "v": -1.03201
         },
         {
          "i": -4.13338e-05,
          "t": 6.69,
          "v": -1.03145
         },
         {
          "i": -4.08054e-05,
          "t": 6.695,
          "v": -1.031
         },
         {
          "i": -4.10997e-05,
          "t": 6.7,
          "v": -1.03044
         },
         {
          "i": -4.06181e-05,
          "t": 6.705,
          "v": -1.03003
         },
         {
          "i": -4.0598e-05,
          "t": 6.71,
          "v": -1.02946
         },
         {
          "i": -4.05646e-05,
          "t": 6.715,
          "v": -1.02895
         },
         {
          "i": -4.04442e-05,
          "t": 6.72,
          "v": -1.02854
         },
         {
          "i": -4.04308e-05,
          "t": 6.725,
          "v": -1.02801
         },
         {
          "i": -4.01298e-05,
          "t": 6.73,
          "v": -1.02746
         },
         {
          "i": -4.02167e-05,
          "t": 6.735,
          "v": -1.02704
         },
         {
          "i": -4.02368e-05,
          "t": 6.74,
          "v": -1.02648
         },
         {
          "i": -4.03104e-05,
          "t": 6.745,
          "v": -1.02601
         },
         {
          "i": -4.01164e-05,
          "t": 6.75,
          "v": -1.02551
         },
         {
          "i": -4.00696e-05,
          "t": 6.755,
          "v": -1.02495
         },
         {
          "i": -3.9501e-05,
          "t": 6.76,
          "v": -1.02453
         },
         {
          "i": -3.95946e-05,
          "t": 6.765,
          "v": -1.02401
         },
         {
          "i": -3.94475e-05,
          "t": 6.77,
          "v": -1.02346
         },
         {
          "i": -3.9501e-05,
          "t": 6.775,
          "v": -1.02301
         },
         {
          "i": -3.92133e-05,
          "t": 6.78,
          "v": -1.02247
         },
         {
          "i": -3.92869e-05,
          "t": 6.785,
          "v": -1.02199
         },
         {
          "i": -3.91398e-05,
          "t": 6.79,
          "v": -1.02148
         },
         {
          "i": -3.93338e-05,
          "t": 6.795,
          "v": -1.02095
         },
         {
          "i": -3.90863e-05,
          "t": 6.8,
          "v": -1.02052
         },
         {
          "i": -3.89792e-05,
          "t": 6.805,
          "v": -1.01998
         },
         {
          "i": -3.88254e-05,
          "t": 6.81,
          "v": -1.01946
         },
         {
          "i": -3.88655e-05,
          "t": 6.815,
          "v": -1.01901
         },
         {
          "i": -3.86782e-05,
          "t": 6.82,
          "v": -1.01845
         },
         {
          "i": -3.84508e-05,
          "t": 6.825,
          "v": -1.01799
         },
         {
          "i": -3.85311e-05,
          "t": 6.83,
          "v": -1.01748
         },
         {
          "i": -3.82501e-05,
          "t": 6.835,
          "v": -1.01694
         },
         {
          "i": -3.84642e-05,
          "t": 6.84,
          "v": -1.01647
         },
         {
          "i": -3.82501e-05,
          "t": 6.845,
          "v": -1.01597
         },
         {
          "i": -3.82702e-05,
          "t": 6.85,
          "v": -1.01546
         },
         {
          "i": -3.80695e-05,
          "t": 6.855,
          "v": -1.01498
         },
         {
          "i": -3.82434e-05,
          "t": 6.86,
          "v": -1.01445
         },
         {
          "i": -3.80695e-05,
          "t": 6.865,
          "v": -1.01398
         },
         {
          "i": -3.7822e-05,
          "t": 6.87,
          "v": -1.01345
         },
         {
          "i": -3.78019e-05,
          "t": 6.875,
          "v": -1.01296
         },
         {
          "i": -3.75277e-05,
          "t": 6.88,
          "v": -1.01251
         },
         {
          "i": -3.76347e-05,
          "t": 6.885,
          "v": -1.01197
         },
         {
          "i": -3.76146e-05,
          "t": 6.89,
          "v": -1.01146
         },
         {
          "i": -3.75143e-05,
          "t": 6.895,
          "v": -1.011
         },
         {
          "i": -3.74407e-05,
          "t": 6.9,
          "v": -1.0105
         },
         {
          "i": -3.74273e-05,
          "t": 6.905,
          "v": -1.0101
         },
         {
          "i": -3.71999e-05,
          "t": 6.91,
          "v": -1.00956
         },
         {
          "i": -3.72935e-05,
          "t": 6.915,
          "v": -1.00894
         },
         {
          "i": -3.70594e-05,
          "t": 6.92,
          "v": -1.00858
         },
         {
          "i": -3.69992e-05,
          "t": 6.925,
          "v": -1.00805
         },
         {
          "i": -3.71598e-05,
          "t": 6.93,
          "v": -1.00745
         },
         {
          "i": -3.70327e-05,
          "t": 6.935,
          "v": -1.00703
         },
         {
          "i": -3.69858e-05,
          "t": 6.94,
          "v": -1.00649
         },
         {
          "i": -3.68922e-05,
          "t": 6.945,
          "v": -1.00601
         },
         {
          "i": -3.69792e-05,
          "t": 6.95,
          "v": -1.0055
         },
         {
          "i": -3.67985e-05,
          "t": 6.955,
          "v": -1.00494
         },
         {
          "i": -3.65377e-05,
          "t": 6.96,
          "v": -1.00457
         },
         {
          "i": -3.6725e-05,
          "t": 6.965,
          "v": -1.00398
         },
         {
          "i": -3.64908e-05,
          "t": 6.97,
          "v": -1.00346
         },
         {
          "i": -3.64775e-05,
          "t": 6.975,
          "v": -1.00305
         },
         {
          "i": -3.64306e-05,
          "t": 6.98,
          "v": -1.00249
         },
         {
          "i": -3.62768e-05,
          "t": 6.985,
          "v": -1.00201
         },
         {
          "i": -3.60694e-05,
          "t": 6.99,
          "v": -1.00153
         },
         {
          "i": -3.61497e-05,
          "t": 6.995,
          "v": -1.00096
         },
         {
          "i": -3.61764e-05,
          "t": 7,
          "v": -1.00055
         },
         {
          "i": -3.59356e-05,
          "t": 7.005,
          "v": -1.00002
         },
         {
          "i": -3.6036e-05,
          "t": 7.01,
          "v": -0.999474
         },
         {
          "i": -3.59758e-05,
          "t": 7.015,
          "v": -0.999031
         },
         {
          "i": -3.58152e-05,
          "t": 7.02,
          "v": -0.998504
         },
         {
          "i": -3.58219e-05,
          "t": 7.025,
          "v": -0.998044
         },
         {
          "i": -3.57617e-05,
          "t": 7.03,
          "v": -0.997523
         },
         {
          "i": -3.59691e-05,
          "t": 7.035,
          "v": -0.996967
         },
         {
          "i": -3.57617e-05,
          "t": 7.04,
          "v": -0.996542
         },
         {
          "i": -3.57818e-05,
          "t": 7.045,
          "v": -0.99603
         },
         {
          "i": -3.55811e-05,
          "t": 7.05,
          "v": -0.995487
         },
         {
          "i": -3.55276e-05,
          "t": 7.055,
          "v": -0.995033
         },
         {
          "i": -3.55878e-05,
          "t": 7.06,
          "v": -0.994494
         },
         {
          "i": -3.54607e-05,
          "t": 7.065,
          "v": -0.993999
         },
         {
          "i": -3.5454e-05,
          "t": 7.07,
          "v": -0.993498
         },
         {
          "i": -3.55008e-05,
          "t": 7.075,
          "v": -0.992978
         },
         {
          "i": -3.54273e-05,
          "t": 7.08,
          "v": -0.992514
         },
         {
          "i": -3.53135e-05,
          "t": 7.085,
          "v": -0.991991
         },
         {
          "i": -3.53202e-05,
          "t": 7.09,
          "v": -0.991472
         },
         {
          "i": -3.53804e-05,
          "t": 7.095,
          "v": -0.990993
         },
         {
          "i": -3.5066e-05,
          "t": 7.1,
          "v": -0.990463
         },
         {
          "i": -3.49858e-05,
          "t": 7.105,
          "v": -0.989994
         },
         {
          "i": -3.48386e-05,
          "t": 7.11,
          "v": -0.989467
         },
         {
          "i": -3.46312e-05,
          "t": 7.115,
          "v": -0.988969
         },
         {
          "i": -3.48185e-05,
          "t": 7.12,
          "v": -0.988508
         },
         {
          "i": -3.47383e-05,
          "t": 7.125,
          "v": -0.987982
         },
         {
          "i": -3.45376e-05,
          "t": 7.13,
          "v": -0.987466
         },
         {
          "i": -3.4464e-05,
          "t": 7.135,
          "v": -0.987005
         },
         {
          "i": -3.45911e-05,
          "t": 7.14,
          "v": -0.986473
         },
         {
          "i": -3.43102e-05,
          "t": 7.145,
          "v": -0.985981
         },
         {
          "i": -3.43235e-05,
          "t": 7.15,
          "v": -0.985454
         },
         {
          "i": -3.40493e-05,
          "t": 7.155,
          "v": -0.98493
         },
         {
          "i": -3.4056e-05,
          "t": 7.16,
          "v": -0.984604
         },
         {
          "i": -3.36011e-05,
          "t": 7.165,
          "v": -0.984055
         },
         {
          "i": -3.36279e-05,
          "t": 7.17,
          "v": -0.983464
         },
         {
          "i": -3.37616e-05,
          "t": 7.175,
          "v": -0.983044
         },
         {
          "i": -3.36814e-05,
          "t": 7.18,
          "v": -0.982489
         },
         {
          "i": -3.36412e-05,
          "t": 7.185,
          "v": -0.982023
         },
         {
          "i": -3.30124e-05,
          "t": 7.19,
          "v": -0.981495
         },
         {
          "i": -3.32934e-05,
          "t": 7.195,
          "v": -0.980941
         },
         {
          "i": -3.24907e-05,
          "t": 7.2,
          "v": -0.980574
         },
         {
          "i": -3.27181e-05,
          "t": 7.205,
          "v": -0.979994
         },
         {
          "i": -3.2765e-05,
          "t": 7.21,
          "v": -0.979464
         },
         {
          "i": -3.21696e-05,
          "t": 7.215,
          "v": -0.979024
         },
         {
          "i": -3.27114e-05,
          "t": 7.22,
          "v": -0.978476
         },
         {
          "i": -3.21964e-05,
          "t": 7.225,
          "v": -0.978018
         },
         {
          "i": -3.17214e-05,
          "t": 7.23,
          "v": -0.977512
         },
         {
          "i": -3.18485e-05,
          "t": 7.235,
          "v": -0.976961
         },
         {
          "i": -3.14605e-05,
          "t": 7.24,
          "v": -0.976538
         },
         {
          "i": -3.11595e-05,
          "t": 7.245,
          "v": -0.976023
         },
         {
          "i": -3.09722e-05,
          "t": 7.25,
          "v": -0.975494
         },
         {
          "i": -3.09722e-05,
          "t": 7.255,
          "v": -0.975024
         },
         {
          "i": -3.0912e-05,
          "t": 7.26,
          "v": -0.974494
         },
         {
          "i": -3.04705e-05,
          "t": 7.265,
          "v": -0.974032
         },
         {
          "i": -3.0504e-05,
          "t": 7.27,
          "v": -0.973517
         },
         {
          "i": -3.01026e-05,
          "t": 7.275,
          "v": -0.972976
         },
         {
          "i": -2.99622e-05,
          "t": 7.28,
          "v": -0.972558
         },
         {
          "i": -3.0116e-05,
          "t": 7.285,
          "v": -0.971985
         },
         {
          "i": -2.97749e-05,
          "t": 7.29,
          "v": -0.971447
         },
         {
          "i": -2.96545e-05,
          "t": 7.295,
          "v": -0.971022
         },
         {
          "i": -2.92932e-05,
          "t": 7.3,
          "v": -0.970461
         },
         {
          "i": -2.94538e-05,
          "t": 7.305,
          "v": -0.969967
         },
         {
          "i": -2.90859e-05,
          "t": 7.31,
          "v": -0.969483
         },
         {
          "i": -2.89253e-05,
          "t": 7.315,
          "v": -0.968947
         },
         {
          "i": -2.87715e-05,
          "t": 7.32,
          "v": -0.96849
         },
         {
          "i": -2.85641e-05,
          "t": 7.325,
          "v": -0.967972
         },
         {
          "i": -2.87113e-05,
          "t": 7.33,
          "v": -0.967451
         },
         {
          "i": -2.83835e-05,
          "t": 7.335,
          "v": -0.966969
         },
         {
          "i": -2.81226e-05,
          "t": 7.34,
          "v": -0.966442
         },
         {
          "i": -2.8223e-05,
          "t": 7.345,
          "v": -0.965975
         },
         {
          "i": -2.76276e-05,
          "t": 7.35,
          "v": -0.965449
         },
         {
          "i": -2.76209e-05,
          "t": 7.355,
          "v": -0.964944
         },
         {
          "i": -2.73801e-05,
          "t": 7.36,
          "v": -0.964513
         },
         {
          "i": -2.71326e-05,
          "t": 7.365,
          "v": -0.963951
         },
         {
          "i": -2.70657e-05,
          "t": 7.37,
          "v": -0.963433
         },
         {
          "i": -2.69654e-05,
          "t": 7.375,
          "v": -0.962992
         },
         {
          "i": -2.6564e-05,
          "t": 7.38,
          "v": -0.962443
         },
         {
          "i": -2.60624e-05,
          "t": 7.385,
          "v": -0.961955
         },
         {
          "i": -2.63099e-05,
          "t": 7.39,
          "v": -0.961452
         },
         {
          "i": -2.57547e-05,
          "t": 7.395,
          "v": -0.960959
         },
         {
          "i": -2.5467e-05,
          "t": 7.4,
          "v": -0.96046
         },
         {
          "i": -2.51459e-05,
          "t": 7.405,
          "v": -0.959954
         },
         {
          "i": -2.5079e-05,
          "t": 7.41,
          "v": -0.959399
         },
         {
          "i": -2.45372e-05,
          "t": 7.415,
          "v": -0.959037
         },
         {
          "i": -2.46643e-05,
          "t": 7.42,
          "v": -0.958484
         },
         {
          "i": -2.40556e-05,
          "t": 7.425,
          "v": -0.957991
         },
         {
          "i": -2.39486e-05,
          "t": 7.43,
          "v": -0.9575
         },
         {
          "i": -2.32863e-05,
          "t": 7.435,
          "v": -0.956918
         },
         {
          "i": -2.30857e-05,
          "t": 7.44,
          "v": -0.956576
         },
         {
          "i": -2.30188e-05,
          "t": 7.445,
          "v": -0.955998
         },
         {
          "i": -2.23699e-05,
          "t": 7.45,
          "v": -0.955425
         },
         {
          "i": -2.23967e-05,
          "t": 7.455,
          "v": -0.955033
         },
         {
          "i": -2.18883e-05,
          "t": 7.46,
          "v": -0.954456
         },
         {
          "i": -2.16408e-05,
          "t": 7.465,
          "v": -0.953964
         },
         {
          "i": -2.15739e-05,
          "t": 7.47,
          "v": -0.953457
         },
         {
          "i": -2.10254e-05,
          "t": 7.475,
          "v": -0.952924
         },
         {
          "i": -2.08916e-05,
          "t": 7.48,
          "v": -0.952515
         },
         {
          "i": -2.07645e-05,
          "t": 7.485,
          "v": -0.951993
         },
         {
          "i": -2.05304e-05,
          "t": 7.49,
          "v": -0.951433
         },
         {
          "i": -2.0216e-05,
          "t": 7.495,
          "v": -0.951004
         },
         {
          "i": -1.99417e-05,
          "t": 7.5,
          "v": -0.950476
         },
         {
          "i": -1.94802e-05,
          "t": 7.505,
          "v": -0.949995
         },
         {
          "i": -1.90721e-05,
          "t": 7.51,
          "v": -0.949481
         },
         {
          "i": -1.88112e-05,
          "t": 7.515,
          "v": -0.948941
         },
         {
          "i": -1.86574e-05,
          "t": 7.52,
          "v": -0.948523
         },
         {
          "i": -1.85972e-05,
          "t": 7.525,
          "v": -0.94799
         },
         {
          "i": -1.82293e-05,
          "t": 7.53,
          "v": -0.947468
         },
         {
          "i": -1.79416e-05,
          "t": 7.535,
          "v": -0.94703
         },
         {
          "i": -1.74132e-05,
          "t": 7.54,
          "v": -0.946464
         },
         {
          "i": -1.74333e-05,
          "t": 7.545,
          "v": -0.945991
         },
         {
          "i": -1.6858e-05,
          "t": 7.55,
          "v": -0.945497
         },
         {
          "i": -1.61958e-05,
          "t": 7.555,
          "v": -0.94494
         },
         {
          "i": -1.60553e-05,
          "t": 7.56,
          "v": -0.944508
         },
         {
          "i": -1.54131e-05,
          "t": 7.565,
          "v": -0.944002
         },
         {
          "i": -1.48178e-05,
          "t": 7.57,
          "v": -0.943468
         },
         {
          "i": -1.43629e-05,
          "t": 7.575,
          "v": -0.942989
         },
         {
          "i": -1.3995e-05,
          "t": 7.58,
          "v": -0.942453
         },
         {
          "i": -1.37007e-05,
          "t": 7.585,
          "v": -0.941997
         },
         {
          "i": -1.32124e-05,
          "t": 7.59,
          "v": -0.941477
         },
         {
          "i": -1.26906e-05,
          "t": 7.595,
          "v": -0.940955
         },
         {
          "i": -1.21488e-05,
          "t": 7.6,
          "v": -0.940521
         },
         {
          "i": -1.14464e-05,
          "t": 7.605,
          "v": -0.939977
         },
         {
          "i": -1.06705e-05,
          "t": 7.61,
          "v": -0.939453
         },
         {
          "i": -1.02022e-05,
          "t": 7.615,
          "v": -0.939004
         },
         {
          "i": -9.59351e-06,
          "t": 7.62,
          "v": -0.938457
         },
         {
          "i": -8.9848e-06,
          "t": 7.625,
          "v": -0.937963
         },
         {
          "i": -8.73061e-06,
          "t": 7.63,
          "v": -0.937468
         },
         {
          "i": -8.02824e-06,
          "t": 7.635,
          "v": -0.936971
         },
         {
          "i": -7.23222e-06,
          "t": 7.64,
          "v": -0.936477
         },
         {
          "i": -6.38938e-06,
          "t": 7.645,
          "v": -0.935965
         },
         {
          "i": -5.27228e-06,
          "t": 7.65,
          "v": -0.935447
         },
         {
          "i": -4.77059e-06,
          "t": 7.655,
          "v": -0.934981
         },
         {
          "i": -4.7037e-06,
          "t": 7.66,
          "v": -0.934465
         },
         {
          "i": -3.6468e-06,
          "t": 7.665,
          "v": -0.933976
         },
         {
          "i": -3.11836e-06,
          "t": 7.67,
          "v": -0.933508
         },
         {
          "i": -3.0916e-06,
          "t": 7.675,
          "v": -0.932926
         },
         {
          "i": -2.41599e-06,
          "t": 7.68,
          "v": -0.932582
         },
         {
          "i": -1.74707e-06,
          "t": 7.685,
          "v": -0.932023
         },
         {
          "i": -1.25207e-06,
          "t": 7.69,
          "v": -0.931467
         },
         {
          "i": -3.15575e-07,
          "t": 7.695,
          "v": -0.93107
         },
         {
          "i": 4.46995e-07,
          "t": 7.7,
          "v": -0.930488
         },
         {
          "i": 1.04902e-06,
          "t": 7.705,
          "v": -0.930025
         },
         {
          "i": 1.95207e-06,
          "t": 7.71,
          "v": -0.929516
         },
         {
          "i": 2.62768e-06,
          "t": 7.715,
          "v": -0.92895
         },
         {
          "i": 3.39694e-06,
          "t": 7.72,
          "v": -0.928542
         },
         {
          "i": 3.93207e-06,
          "t": 7.725,
          "v": -0.927968
         },
         {
          "i": 4.60769e-06,
          "t": 7.73,
          "v": -0.92747
         },
         {
          "i": 5.49735e-06,
          "t": 7.735,
          "v": -0.92701
         },
         {
          "i": 6.68803e-06,
          "t": 7.74,
          "v": -0.92648
         },
         {
          "i": 7.3904e-06,
          "t": 7.745,
          "v": -0.92604
         },
         {
          "i": 8.3202e-06,
          "t": 7.75,
          "v": -0.925504
         },
         {
          "i": 9.14297e-06,
          "t": 7.755,
          "v": -0.924972
         },
         {
          "i": 1.03337e-05,
          "t": 7.76,
          "v": -0.924586
         },
         {
          "i": 1.0842e-05,
          "t": 7.765,
          "v": -0.924019
         },
         {
          "i": 1.18387e-05,
          "t": 7.77,
          "v": -0.923501
         },
         {
          "i": 1.24675e-05,
          "t": 7.775,
          "v": -0.923049
         },
         {
          "i": 1.35177e-05,
          "t": 7.78,
          "v": -0.922496
         },
         {
          "i": 1.42402e-05,
          "t": 7.785,
          "v": -0.922024
         },
         {
          "i": 1.53238e-05,
          "t": 7.79,
          "v": -0.921533
         },
         {
          "i": 1.618e-05,
          "t": 7.795,
          "v": -0.92095
         },
         {
          "i": 1.73506e-05,
          "t": 7.8,
          "v": -0.920539
         },
         {
          "i": 1.77453e-05,
          "t": 7.805,
          "v": -0.920003
         },
         {
          "i": 1.93574e-05,
          "t": 7.81,
          "v": -0.919478
         },
         {
          "i": 2.05748e-05,
          "t": 7.815,
          "v": -0.91901
         },
         {
          "i": 2.18659e-05,
          "t": 7.82,
          "v": -0.918471
         },
         {
          "i": 2.3003e-05,
          "t": 7.825,
          "v": -0.918024
         },
         {
          "i": 2.42539e-05,
          "t": 7.83,
          "v": -0.917494
         },
         {
          "i": 2.58058e-05,
          "t": 7.835,
          "v": -0.916974
         },
         {
          "i": 2.69697e-05,
          "t": 7.84,
          "v": -0.91655
         },
         {
          "i": 2.76119e-05,
          "t": 7.845,
          "v": -0.915992
         },
         {
          "i": 2.8642e-05,
          "t": 7.85,
          "v": -0.915486
         },
         {
          "i": 2.92775e-05,
          "t": 7.855,
          "v": -0.915018
         },
         {
          "i": 3.07224e-05,
          "t": 7.86,
          "v": -0.914479
         },
         {
          "i": 3.20268e-05,
          "t": 7.865,
          "v": -0.914004
         },
         {
          "i": 3.37793e-05,
          "t": 7.87,
          "v": -0.913497
         },
         {
          "i": 3.51841e-05,
          "t": 7.875,
          "v": -0.912983
         },
         {
          "i": 3.61206e-05,
          "t": 7.88,
          "v": -0.912496
         },
         {
          "i": 3.7338e-05,
          "t": 7.885,
          "v": -0.911989
         },
         {
          "i": 3.85421e-05,
          "t": 7.89,
          "v": -0.911483
         },
         {
          "i": 3.9599e-05,
          "t": 7.895,
          "v": -0.911003
         },
         {
          "i": 4.14184e-05,
          "t": 7.9,
          "v": -0.910477
         },
         {
          "i": 4.27496e-05,
          "t": 7.905,
          "v": -0.910017
         },
         {
          "i": 4.37663e-05,
          "t": 7.91,
          "v": -0.909479
         },
         {
          "i": 4.48901e-05,
          "t": 7.915,
          "v": -0.908992
         },
         {
          "i": 4.58467e-05,
          "t": 7.92,
          "v": -0.908565
         },
         {
          "i": 4.73116e-05,
          "t": 7.925,
          "v": -0.908059
         },
         {
          "i": 4.87966e-05,
          "t": 7.93,
          "v": -0.907532
         },
         {
          "i": 5.00876e-05,
          "t": 7.935,
          "v": -0.907077
         },
         {
          "i": 5.13185e-05,
          "t": 7.94,
          "v": -0.906493
         },
         {
          "i": 5.27633e-05,
          "t": 7.945,
          "v": -0.906084
         },
         {
          "i": 5.3847e-05,
          "t": 7.95,
          "v": -0.905556
         },
         {
          "i": 5.51915e-05,
          "t": 7.955,
          "v": -0.904949
         },
         {
          "i": 5.65294e-05,
          "t": 7.96,
          "v": -0.904567
         },
         {
          "i": 5.79742e-05,
          "t": 7.965,
          "v": -0.904021
         },
         {
          "i": 5.92519e-05,
          "t": 7.97,
          "v": -0.903474
         },
         {
          "i": 5.99342e-05,
          "t": 7.975,
          "v": -0.90302
         },
         {
          "i": 6.06165e-05,
          "t": 7.98,
          "v": -0.902471
         },
         {
          "i": 6.18138e-05,
          "t": 7.985,
          "v": -0.902036
         },
         {
          "i": 6.30714e-05,
          "t": 7.99,
          "v": -0.90148
         },
         {
          "i": 6.46701e-05,
          "t": 7.995,
          "v": -0.900955
         },
         {
          "i": 6.58541e-05,
          "t": 8,
          "v": -0.900576
         },
         {
          "i": 6.70247e-05,
          "t": 8.005,
          "v": -0.900022
         },
         {
          "i": 6.81218e-05,
          "t": 8.01,
          "v": -0.899487
         },
         {
          "i": 6.89378e-05,
          "t": 8.015,
          "v": -0.899059
         },
         {
          "i": 7.02623e-05,
          "t": 8.02,
          "v": -0.898492
         },
         {
          "i": 7.14731e-05,
          "t": 8.025,
          "v": -0.898022
         },
         {
          "i": 7.25366e-05,
          "t": 8.03,
          "v": -0.897531
         },
         {
          "i": 7.3346e-05,
          "t": 8.035,
          "v": -0.896979
         },
         {
          "i": 7.47374e-05,
          "t": 8.04,
          "v": -0.896542
         },
         {
          "i": 7.53461e-05,
          "t": 8.045,
          "v": -0.896035
         },
         {
          "i": 7.58679e-05,
          "t": 8.05,
          "v": -0.895503
         },
         {
          "i": 7.69047e-05,
          "t": 8.055,
          "v": -0.895027
         },
         {
          "i": 7.77141e-05,
          "t": 8.06,
          "v": -0.894473
         },
         {
          "i": 7.8684e-05,
          "t": 8.065,
          "v": -0.894038
         },
         {
          "i": 7.88579e-05,
          "t": 8.07,
          "v": -0.893511
         },
         {
          "i": 7.99416e-05,
          "t": 8.075,
          "v": -0.892976
         },
         {
          "i": 8.07109e-05,
          "t": 8.08,
          "v": -0.892554
         },
         {
          "i": 8.18882e-05,
          "t": 8.085,
          "v": -0.892005
         },
         {
          "i": 8.27711e-05,
          "t": 8.09,
          "v": -0.891482
         },
         {
          "i": 8.33197e-05,
          "t": 8.095,
          "v": -0.891028
         },
         {
          "i": 8.42762e-05,
          "t": 8.1,
          "v": -0.89047
         },
         {
          "i": 8.4624e-05,
          "t": 8.105,
          "v": -0.890024
         },
         {
          "i": 8.51859e-05,
          "t": 8.11,
          "v": -0.889504
         },
         {
          "i": 8.57211e-05,
          "t": 8.115,
          "v": -0.888989
         },
         {
          "i": 8.68181e-05,
          "t": 8.12,
          "v": -0.888518
         },
         {
          "i": 8.73466e-05,
          "t": 8.125,
          "v": -0.887995
         },
         {
          "i": 8.79085e-05,
          "t": 8.13,
          "v": -0.887499
         },
         {
          "i": 8.83299e-05,
          "t": 8.135,
          "v": -0.886997
         },
         {
          "i": 8.88784e-05,
          "t": 8.14,
          "v": -0.886484
         },
         {
          "i": 8.9146e-05,
          "t": 8.145,
          "v": -0.886027
         },
         {
          "i": 8.9554e-05,
          "t": 8.15,
          "v": -0.885483
         },
         {
          "i": 9.02764e-05,
          "t": 8.155,
          "v": -0.884996
         },
         {
          "i": 9.05239e-05,
          "t": 8.16,
          "v": -0.884552
         },
         {
          "i": 9.08517e-05,
          "t": 8.165,
          "v": -0.883999
         },
         {
          "i": 9.10189e-05,
          "t": 8.17,
          "v": -0.883484
         },
         {
          "i": 9.13266e-05,
          "t": 8.175,
          "v": -0.883012
         },
         {
          "i": 9.12865e-05,
          "t": 8.18,
          "v": -0.8825
         },
         {
          "i": 9.13266e-05,
          "t": 8.185,
          "v": -0.882125
         },
         {
          "i": 9.15942e-05,
          "t": 8.19,
          "v": -0.881562
         },
         {
          "i": 9.1641e-05,
          "t": 8.195,
          "v": -0.88095
         },
         {
          "i": 9.17681e-05,
          "t": 8.2,
          "v": -0.88059
         },
         {
          "i": 9.19487e-05,
          "t": 8.205,
          "v": -0.880042
         },
         {
          "i": 9.18885e-05,
          "t": 8.21,
          "v": -0.879495
         },
         {
          "i": 9.18016e-05,
          "t": 8.215,
          "v": -0.87903
         },
         {
          "i": 9.1942e-05,
          "t": 8.22,
          "v": -0.878476
         },
         {
          "i": 9.19019e-05,
          "t": 8.225,
          "v": -0.878062
         },
         {
          "i": 9.19822e-05,
          "t": 8.23,
          "v": -0.877502
         },
         {
          "i": 9.19554e-05,
          "t": 8.235,
          "v": -0.876962
         },
         {
          "i": 9.18083e-05,
          "t": 8.24,
          "v": -0.876587
         },
         {
          "i": 9.21093e-05,
          "t": 8.245,
          "v": -0.875985
         },
         {
          "i": 9.19688e-05,
          "t": 8.25,
          "v": -0.875493
         },
         {
          "i": 9.18685e-05,
          "t": 8.255,
          "v": -0.875048
         },
         {
          "i": 9.19889e-05,
          "t": 8.26,
          "v": -0.874495
         },
         {
          "i": 9.18083e-05,
          "t": 8.265,
          "v": -0.874028
         },
         {
          "i": 9.18016e-05,
          "t": 8.27,
          "v": -0.873531
         },
         {
          "i": 9.15942e-05,
          "t": 8.275,
          "v": -0.872981
         },
         {
          "i": 9.15139e-05,
          "t": 8.28,
          "v": -0.872548
         },
         {
          "i": 9.13266e-05,
          "t": 8.285,
          "v": -0.872035
         },
         {
          "i": 9.12531e-05,
          "t": 8.29,
          "v": -0.871515
         },
         {
          "i": 9.10925e-05,
          "t": 8.295,
          "v": -0.871039
         },
         {
          "i": 9.11728e-05,
          "t": 8.3,
          "v": -0.870511
         },
         {
          "i": 9.08985e-05,
          "t": 8.305,
          "v": -0.870033
         },
         {
          "i": 9.0437e-05,
          "t": 8.31,
          "v": -0.869488
         },
         {
          "i": 9.00824e-05,
          "t": 8.315,
          "v": -0.868942
         },
         {
          "i": 9.00557e-05,
          "t": 8.32,
          "v": -0.868529
         },
         {
          "i": 8.98349e-05,
          "t": 8.325,
          "v": -0.867985
         },
         {
          "i": 8.92062e-05,
          "t": 8.33,
          "v": -0.867455
         },
         {
          "i": 8.85573e-05,
          "t": 8.335,
          "v": -0.867029
         },
         {
          "i": 8.85908e-05,
          "t": 8.34,
          "v": -0.866447
         },
         {
          "i": 8.80155e-05,
          "t": 8.345,
          "v": -0.865966
         },
         {
          "i": 8.75807e-05,
          "t": 8.35,
          "v": -0.865482
         },
         {
          "i": 8.73131e-05,
          "t": 8.355,
          "v": -0.864947
         },
         {
          "i": 8.65907e-05,
          "t": 8.36,
          "v": -0.864489
         },
         {
          "i": 8.6477e-05,
          "t": 8.365,
          "v": -0.863976
         },
         {
          "i": 8.59418e-05,
          "t": 8.37,
          "v": -0.863448
         },
         {
          "i": 8.55271e-05,
          "t": 8.375,
          "v": -0.862981
         },
         {
          "i": 8.4905e-05,
          "t": 8.38,
          "v": -0.862449
         },
         {
          "i": 8.43498e-05,
          "t": 8.385,
          "v": -0.861992
         },
         {
          "i": 8.43899e-05,
          "t": 8.39,
          "v": -0.86146
         },
         {
          "i": 8.41892e-05,
          "t": 8.395,
          "v": -0.860962
         },
         {
          "i": 8.35672e-05,
          "t": 8.4,
          "v": -0.860524
         },
         {
          "i": 8.29718e-05,
          "t": 8.405,
          "v": -0.859966
         },
         {
          "i": 8.2644e-05,
          "t": 8.41,
          "v": -0.859463
         },
         {
          "i": 8.2343e-05,
          "t": 8.415,
          "v": -0.859002
         },
         {
          "i": 8.15136e-05,
          "t": 8.42,
          "v": -0.858459
         },
         {
          "i": 8.13129e-05,
          "t": 8.425,
          "v": -0.857981
         },
         {
          "i": 8.07376e-05,
          "t": 8.43,
          "v": -0.857465
         },
         {
          "i": 8.02159e-05,
          "t": 8.435,
          "v": -0.85692
         },
         {
          "i": 7.96807e-05,
          "t": 8.44,
          "v": -0.856571
         },
         {
          "i": 7.94734e-05,
          "t": 8.445,
          "v": -0.856045
         },
         {
          "i": 7.88579e-05,
          "t": 8.45,
          "v": -0.855418
         },
         {
          "i": 7.85101e-05,
          "t": 8.455,
          "v": -0.855028
         },
         {
          "i": 7.78345e-05,
          "t": 8.46,
          "v": -0.85448
         },
         {
          "i": 7.75067e-05,
          "t": 8.465,
          "v": -0.854028
         },
         {
          "i": 7.70652e-05,
          "t": 8.47,
          "v": -0.853491
         },
         {
          "i": 7.68177e-05,
          "t": 8.475,
          "v": -0.852925
         },
         {
          "i": 7.64164e-05,
          "t": 8.48,
          "v": -0.852586
         },
         {
          "i": 7.61689e-05,
          "t": 8.485,
          "v": -0.851989
         },
         {
          "i": 7.5801e-05,
          "t": 8.49,
          "v": -0.851449
         },
         {
          "i": 7.56538e-05,
          "t": 8.495,
          "v": -0.851017
         },
         {
          "i": 7.54732e-05,
          "t": 8.5,
          "v": -0.850451
         },
         {
          "i": 7.52993e-05,
          "t": 8.505,
          "v": -0.849981
         },
         {
          "i": 7.48912e-05,
          "t": 8.51,
          "v": -0.849503
         },
         {
          "i": 7.47106e-05,
          "t": 8.515,
          "v": -0.84894
         },
         {
          "i": 7.42491e-05,
          "t": 8.52,
          "v": -0.848513
         },
         {
          "i": 7.38544e-05,
          "t": 8.525,
          "v": -0.848004
         },
         {
          "i": 7.31119e-05,
          "t": 8.53,
          "v": -0.847475
         },
         {
          "i": 7.29915e-05,
          "t": 8.535,
          "v": -0.847007
         },
         {
          "i": 7.17874e-05,
          "t": 8.54,
          "v": -0.846478
         },
         {
          "i": 7.15132e-05,
          "t": 8.545,
          "v": -0.846016
         },
         {
          "i": 7.09847e-05,
          "t": 8.55,
          "v": -0.845491
         },
         {
          "i": 7.05767e-05,
          "t": 8.555,
          "v": -0.844964
         },
         {
          "i": 6.9968e-05,
          "t": 8.56,
          "v": -0.844563
         },
         {
          "i": 6.95733e-05,
          "t": 8.565,
          "v": -0.844001
         },
         {
          "i": 6.90917e-05,
          "t": 8.57,
          "v": -0.843464
         },
         {
          "i": 6.88442e-05,
          "t": 8.575,
          "v": -0.843036
         },
         {
          "i": 6.84629e-05,
          "t": 8.58,
          "v": -0.842463
         },
         {
          "i": 6.80281e-05,
          "t": 8.585,
          "v": -0.842012
         },
         {
          "i": 6.79077e-05,
          "t": 8.59,
          "v": -0.841505
         },
         {
          "i": 6.74261e-05,
          "t": 8.595,
          "v": -0.840969
         },
         {
          "i": 6.6998e-05,
          "t": 8.6,
          "v": -0.840506
         },
         {
          "i": 6.67705e-05,
          "t": 8.605,
          "v": -0.839993
         },
         {
          "i": 6.64829e-05,
          "t": 8.61,
          "v": -0.839482
         },
         {
          "i": 6.6202e-05,
          "t": 8.615,
          "v": -0.838994
         },
         {
          "i": 6.56869e-05,
          "t": 8.62,
          "v": -0.838477
         },
         {
          "i": 6.54795e-05,
          "t": 8.625,
          "v": -0.838016
         },
         {
          "i": 6.46768e-05,
          "t": 8.63,
          "v": -0.83748
         },
         {
          "i": 6.42487e-05,
          "t": 8.635,
          "v": -0.836968
         },
         {
          "i": 6.37738e-05,
          "t": 8.64,
          "v": -0.83653
         },
         {
          "i": 6.34794e-05,
          "t": 8.645,
          "v": -0.83598
         },
         {
          "i": 6.34059e-05,
          "t": 8.65,
          "v": -0.835471
         },
         {
          "i": 6.24493e-05,
          "t": 8.655,
          "v": -0.835005
         },
         {
          "i": 6.18941e-05,
          "t": 8.66,
          "v": -0.834465
         },
         {
          "i": 6.16198e-05,
          "t": 8.665,
          "v": -0.833985
         },
         {
          "i": 6.11917e-05,
          "t": 8.67,
          "v": -0.833475
         },
         {
          "i": 6.09844e-05,
          "t": 8.675,
          "v": -0.83298
         },
         {
          "i": 6.08573e-05,
          "t": 8.68,
          "v": -0.832485
         },
         {
          "i": 6.0476e-05,
          "t": 8.685,
          "v": -0.831972
         },
         {
          "i": 6.02954e-05,
          "t": 8.69,
          "v": -0.831409
         },
         {
          "i": 6.01014e-05,
          "t": 8.695,
          "v": -0.831035
         },
         {
          "i": 5.98271e-05,
          "t": 8.7,
          "v": -0.830491
         },
         {
          "i": 5.94927e-05,
          "t": 8.705,
          "v": -0.830046
         },
         {
          "i": 5.94659e-05,
          "t": 8.71,
          "v": -0.829521
         },
         {
          "i": 5.93923e-05,
          "t": 8.715,
          "v": -0.828939
         },
         {
          "i": 5.90713e-05,
          "t": 8.72,
          "v": -0.828607
         },
         {
          "i": 5.89642e-05,
          "t": 8.725,
          "v": -0.82801
         },
         {
          "i": 5.85294e-05,
          "t": 8.73,
          "v": -0.827472
         },
         {
          "i": 5.82953e-05,
          "t": 8.735,
          "v": -0.827047
         },
         {
          "i": 5.82552e-05,
          "t": 8.74,
          "v": -0.826468
         },
         {
          "i": 5.78204e-05,
          "t": 8.745,
          "v": -0.826009
         },
         {
          "i": 5.74993e-05,
          "t": 8.75,
          "v": -0.82548
         },
         {
          "i": 5.72451e-05,
          "t": 8.755,
          "v": -0.824951
         },
         {
          "i": 5.69039e-05,
          "t": 8.76,
          "v": -0.824534
         },
         {
          "i": 5.67033e-05,
          "t": 8.765,
          "v": -0.824002
         },
         {
          "i": 5.62016e-05,
          "t": 8.77,
          "v": -0.823487
         },
         {
          "i": 5.57802e-05,
          "t": 8.775,
          "v": -0.823018
         },
         {
          "i": 5.56129e-05,
          "t": 8.78,
          "v": -0.822481
         },
         {
          "i": 5.52316e-05,
          "t": 8.785,
          "v": -0.822038
         },
         {
          "i": 5.46831e-05,
          "t": 8.79,
          "v": -0.821519
         },
         {
          "i": 5.45226e-05,
          "t": 8.795,
          "v": -0.820962
         },
         {
          "i": 5.41881e-05,
          "t": 8.8,
          "v": -0.82056
         },
         {
          "i": 5.38135e-05,
          "t": 8.805,
          "v": -0.820015
         },
         {
          "i": 5.33319e-05,
          "t": 8.81,
          "v": -0.8195
         },
         {
          "i": 5.32784e-05,
          "t": 8.815,
          "v": -0.819052
         },
         {
          "i": 5.30443e-05,
          "t": 8.82,
          "v": -0.818464
         },
         {
          "i": 5.25024e-05,
          "t": 8.825,
          "v": -0.818014
         },
         {
          "i": 5.22282e-05,
          "t": 8.83,
          "v": -0.817521
         },
         {
          "i": 5.20743e-05,
          "t": 8.835,
          "v": -0.816974
         },
         {
          "i": 5.19807e-05,
          "t": 8.84,
          "v": -0.816541
         },
         {
          "i": 5.16462e-05,
          "t": 8.845,
          "v": -0.816013
         },
         {
          "i": 5.14522e-05,
          "t": 8.85,
          "v": -0.815499
         },
         {
          "i": 5.08703e-05,
          "t": 8.855,
          "v": -0.815012
         },
         {
          "i": 5.09773e-05,
          "t": 8.86,
          "v": -0.81447
         },
         {
          "i": 5.03619e-05,
          "t": 8.865,
          "v": -0.814023
         },
         {
          "i": 5.03017e-05,
          "t": 8.87,
          "v": -0.813482
         },
         {
          "i": 5.01545e-05,
          "t": 8.875,
          "v": -0.81298
         },
         {
          "i": 4.94923e-05,
          "t": 8.88,
          "v": -0.812539
         },
         {
          "i": 4.94522e-05,
          "t": 8.885,
          "v": -0.811985
         },
         {
          "i": 4.89973e-05,
          "t": 8.89,
          "v": -0.81148
         },
         {
          "i": 4.87832e-05,
          "t": 8.895,
          "v": -0.811017
         },
         {
          "i": 4.84889e-05,
          "t": 8.9,
          "v": -0.810474
         },
         {
          "i": 4.83083e-05,
          "t": 8.905,
          "v": -0.809988
         },
         {
          "i": 4.8121e-05,
          "t": 8.91,
          "v": -0.809475
         },
         {
          "i": 4.81344e-05,
          "t": 8.915,
          "v": -0.80898
         },
         {
          "i": 4.80943e-05,
          "t": 8.92,
          "v": -0.808488
         },
         {
          "i": 4.74922e-05,
          "t": 8.925,
          "v": -0.807987
         },
         {
          "i": 4.71845e-05,
          "t": 8.93,
          "v": -0.807484
         },
         {
          "i": 4.69303e-05,
          "t": 8.935,
          "v": -0.806995
         },
         {
          "i": 4.64621e-05,
          "t": 8.94,
          "v": -0.806479
         },
         {
          "i": 4.65089e-05,
          "t": 8.945,
          "v": -0.80603
         },
         {
          "i": 4.63149e-05,
          "t": 8.95,
          "v": -0.805566
         },
         {
          "i": 4.60005e-05,
          "t": 8.955,
          "v": -0.804958
         },
         {
          "i": 4.55858e-05,
          "t": 8.96,
          "v": -0.804576
         },
         {
          "i": 4.55791e-05,
          "t": 8.965,
          "v": -0.804048
         },
         {
          "i": 4.52447e-05,
          "t": 8.97,
          "v": -0.803513
         },
         {
          "i": 4.51911e-05,
          "t": 8.975,
          "v": -0.803077
         },
         {
          "i": 4.52647e-05,
          "t": 8.98,
          "v": -0.802495
         },
         {
          "i": 4.49236e-05,
          "t": 8.985,
          "v": -0.80208
         },
         {
          "i": 4.49169e-05,
          "t": 8.99,
          "v": -0.801542
         },
         {
          "i": 4.46627e-05,
          "t": 8.995,
          "v": -0.800951
         },
         {
          "i": 4.47229e-05,
          "t": 9,
          "v": -0.800539
         },
         {
          "i": 4.43215e-05,
          "t": 9.005,
          "v": -0.799989
         },
         {
          "i": 4.4161e-05,
          "t": 9.01,
          "v": -0.799474
         },
         {
          "i": 4.40205e-05,
          "t": 9.015,
          "v": -0.799027
         },
         {
          "i": 4.39135e-05,
          "t": 9.02,
          "v": -0.798496
         },
         {
          "i": 4.39269e-05,
          "t": 9.025,
          "v": -0.79805
         },
         {
          "i": 4.37663e-05,
          "t": 9.03,
          "v": -0.797533
         },
         {
          "i": 4.36392e-05,
          "t": 9.035,
          "v": -0.796977
         },
         {
          "i": 4.35121e-05,
          "t": 9.04,
          "v": -0.796575
         },
         {
          "i": 4.33315e-05,
          "t": 9.045,
          "v": -0.79604
         },
         {
          "i": 4.33382e-05,
          "t": 9.05,
          "v": -0.795501
         },
         {
          "i": 4.30171e-05,
          "t": 9.055,
          "v": -0.795053
         },
         {
          "i": 4.30707e-05,
          "t": 9.06,
          "v": -0.794506
         },
         {
          "i": 4.27228e-05,
          "t": 9.065,
          "v": -0.79406
         },
         {
          "i": 4.27429e-05,
          "t": 9.07,
          "v": -0.793575
         },
         {
          "i": 4.24753e-05,
          "t": 9.075,
          "v": -0.792995
         },
         {
          "i": 4.25757e-05,
          "t": 9.08,
          "v": -0.792568
         },
         {
          "i": 4.26225e-05,
          "t": 9.085,
          "v": -0.792057
         },
         {
          "i": 4.2395e-05,
          "t": 9.09,
          "v": -0.791543
         },
         {
          "i": 4.23014e-05,
          "t": 9.095,
          "v": -0.791041
         },
         {
          "i": 4.21409e-05,
          "t": 9.1,
          "v": -0.790505
         },
         {
          "i": 4.15522e-05,
          "t": 9.105,
          "v": -0.790061
         },
         {
          "i": 4.18599e-05,
          "t": 9.11,
          "v": -0.789521
         },
         {
          "i": 4.15723e-05,
          "t": 9.115,
          "v": -0.788989
         },
         {
          "i": 4.13248e-05,
          "t": 9.12,
          "v": -0.788553
         },
         {
          "i": 4.11642e-05,
          "t": 9.125,
          "v": -0.788013
         },
         {
          "i": 4.07629e-05,
          "t": 9.13,
          "v": -0.787502
         },
         {
          "i": 4.07428e-05,
          "t": 9.135,
          "v": -0.787035
         },
         {
          "i": 4.04084e-05,
          "t": 9.14,
          "v": -0.786478
         },
         {
          "i": 4.04886e-05,
          "t": 9.145,
          "v": -0.786018
         },
         {
          "i": 3.99134e-05,
          "t": 9.15,
          "v": -0.785511
         },
         {
          "i": 4.01006e-05,
          "t": 9.155,
          "v": -0.785
         },
         {
          "i": 3.95521e-05,
          "t": 9.16,
          "v": -0.784505
         },
         {
          "i": 3.96324e-05,
          "t": 9.165,
          "v": -0.784001
         },
         {
          "i": 3.90906e-05,
          "t": 9.17,
          "v": -0.783509
         },
         {
          "i": 3.91708e-05,
          "t": 9.175,
          "v": -0.783005
         },
         {
          "i": 3.86156e-05,
          "t": 9.18,
          "v": -0.782483
         },
         {
          "i": 3.8823e-05,
          "t": 9.185,
          "v": -0.782039
         },
         {
          "i": 3.8415e-05,
          "t": 9.19,
          "v": -0.781489
         },
         {
          "i": 3.8114e-05,
          "t": 9.195,
          "v": -0.78099
         },
         {
          "i": 3.82745e-05,
          "t": 9.2,
          "v": -0.780568
         },
         {
          "i": 3.80805e-05,
          "t": 9.205,
          "v": -0.780092
         },
         {
          "i": 3.77661e-05,
          "t": 9.21,
          "v": -0.779546
         },
         {
          "i": 3.75186e-05,
          "t": 9.215,
          "v": -0.779106
         },
         {
          "i": 3.76725e-05,
          "t": 9.22,
          "v": -0.77851
         },
         {
          "i": 3.71106e-05,
          "t": 9.225,
          "v": -0.778136
         },
         {
          "i": 3.70905e-05,
          "t": 9.23,
          "v": -0.777597
         },
         {
          "i": 3.72644e-05,
          "t": 9.235,
          "v": -0.776954
         },
         {
          "i": 3.72778e-05,
          "t": 9.24,
          "v": -0.776582
         },
         {
          "i": 3.68564e-05,
          "t": 9.245,
          "v": -0.776037
         },
         {
          "i": 3.65219e-05,
          "t": 9.25,
          "v": -0.775505
         },
         {
          "i": 3.64082e-05,
          "t": 9.255,
          "v": -0.775015
         },
         {
          "i": 3.65754e-05,
          "t": 9.26,
          "v": -0.774477
         },
         {
          "i": 3.63881e-05,
          "t": 9.265,
          "v": -0.774081
         },
         {
          "i": 3.63012e-05,
          "t": 9.27,
          "v": -0.773502
         },
         {
          "i": 3.62209e-05,
          "t": 9.275,
          "v": -0.77298
         },
         {
          "i": 3.61808e-05,
          "t": 9.28,
          "v": -0.772596
         },
         {
          "i": 3.60403e-05,
          "t": 9.285,
          "v": -0.772023
         },
         {
          "i": 3.62008e-05,
          "t": 9.29,
          "v": -0.771508
         },
         {
          "i": 3.59935e-05,
          "t": 9.295,
          "v": -0.771078
         },
         {
          "i": 3.55052e-05,
          "t": 9.3,
          "v": -0.770507
         },
         {
          "i": 3.54583e-05,
          "t": 9.305,
          "v": -0.770049
         },
         {
          "i": 3.54249e-05,
          "t": 9.31,
          "v": -0.76955
         },
         {
          "i": 3.5572e-05,
          "t": 9.315,
          "v": -0.76901
         },
         {
          "i": 3.53245e-05,
          "t": 9.32,
          "v": -0.768556
         },
         {
          "i": 3.53045e-05,
          "t": 9.325,
          "v": -0.768052
         },
         {
          "i": 3.52041e-05,
          "t": 9.33,
          "v": -0.767479
         },
         {
          "i": 3.49165e-05,
          "t": 9.335,
          "v": -0.767024
         },
         {
          "i": 3.50503e-05,
          "t": 9.34,
          "v": -0.766475
         },
         {
          "i": 3.50035e-05,
          "t": 9.345,
          "v": -0.766034
         },
         {
          "i": 3.51506e-05,
          "t": 9.35,
          "v": -0.765491
         },
         {
          "i": 3.45887e-05,
          "t": 9.355,
          "v": -0.764969
         },
         {
          "i": 3.46423e-05,
          "t": 9.36,
          "v": -0.764561
         },
         {
          "i": 3.44081e-05,
          "t": 9.365,
          "v": -0.764004
         },
         {
          "i": 3.43479e-05,
          "t": 9.37,
          "v": -0.763471
         },
         {
          "i": 3.42141e-05,
          "t": 9.375,
          "v": -0.763029
         },
         {
          "i": 3.39265e-05,
          "t": 9.38,
          "v": -0.762465
         },
         {
          "i": 3.34516e-05,
          "t": 9.385,
          "v": -0.761988
         },
         {
          "i": 3.33981e-05,
          "t": 9.39,
          "v": -0.761479
         },
         {
          "i": 3.27492e-05,
          "t": 9.395,
          "v": -0.760964
         },
         {
          "i": 3.30837e-05,
          "t": 9.4,
          "v": -0.760501
         },
         {
          "i": 3.28897e-05,
          "t": 9.405,
          "v": -0.759988
         },
         {
          "i": 3.28094e-05,
          "t": 9.41,
          "v": -0.759464
         },
         {
          "i": 3.29298e-05,
          "t": 9.415,
          "v": -0.758989
         },
         {
          "i": 3.25218e-05,
          "t": 9.42,
          "v": -0.758456
         },
         {
          "i": 3.24683e-05,
          "t": 9.425,
          "v": -0.757998
         },
         {
          "i": 3.23612e-05,
          "t": 9.43,
          "v": -0.757461
         },
         {
          "i": 3.2281e-05,
          "t": 9.435,
          "v": -0.756975
         },
         {
          "i": 3.19799e-05,
          "t": 9.44,
          "v": -0.756527
         },
         {
          "i": 3.17324e-05,
          "t": 9.445,
          "v": -0.755972
         },
         {
          "i": 3.17993e-05,
          "t": 9.45,
          "v": -0.755456
         },
         {
          "i": 3.19933e-05,
          "t": 9.455,
          "v": -0.75501
         },
         {
          "i": 3.1612e-05,
          "t": 9.46,
          "v": -0.754502
         },
         {
          "i": 3.1398e-05,
          "t": 9.465,
          "v": -0.754098
         },
         {
          "i": 3.12107e-05,
          "t": 9.47,
          "v": -0.753564
         },
         {
          "i": 3.11772e-05,
          "t": 9.475,
          "v": -0.752939
         },
         {
          "i": 3.10167e-05,
          "t": 9.48,
          "v": -0.752578
         },
         {
          "i": 3.11639e-05,
          "t": 9.485,
          "v": -0.752054
         },
         {
          "i": 3.08428e-05,
          "t": 9.49,
          "v": -0.751456
         },
         {
          "i": 3.09766e-05,
          "t": 9.495,
          "v": -0.751016
         },
         {
          "i": 3.0709e-05,
          "t": 9.5,
          "v": -0.750476
         },
         {
          "i": 3.02541e-05,
          "t": 9.505,
          "v": -0.750028
         },
         {
          "i": 3.04615e-05,
          "t": 9.51,
          "v": -0.749485
         },
         {
          "i": 3.03076e-05,
          "t": 9.515,
          "v": -0.748943
         },
         {
          "i": 3.05217e-05,
          "t": 9.52,
          "v": -0.74857
         },
         {
          "i": 3.0515e-05,
          "t": 9.525,
          "v": -0.747972
         },
         {
          "i": 3.01203e-05,
          "t": 9.53,
          "v": -0.747472
         },
         {
          "i": 3.01538e-05,
          "t": 9.535,
          "v": -0.747047
         },
         {
          "i": 3.01203e-05,
          "t": 9.54,
          "v": -0.746486
         },
         {
          "i": 3.00133e-05,
          "t": 9.545,
          "v": -0.746018
         },
         {
          "i": 2.96922e-05,
          "t": 9.55,
          "v": -0.745526
         },
         {
          "i": 2.9632e-05,
          "t": 9.555,
          "v": -0.744971
         },
         {
          "i": 2.92775e-05,
          "t": 9.56,
          "v": -0.744546
         },
         {
          "i": 2.92842e-05,
          "t": 9.565,
          "v": -0.744018
         },
         {
          "i": 2.91504e-05,
          "t": 9.57,
          "v": -0.743485
         },
         {
          "i": 2.91638e-05,
          "t": 9.575,
          "v": -0.743029
         },
         {
          "i": 2.91839e-05,
          "t": 9.58,
          "v": -0.742502
         },
         {
          "i": 2.92307e-05,
          "t": 9.585,
          "v": -0.742027
         },
         {
          "i": 2.93778e-05,
          "t": 9.59,
          "v": -0.741509
         },
         {
          "i": 2.88427e-05,
          "t": 9.595,
          "v": -0.740972
         },
         {
          "i": 2.88026e-05,
          "t": 9.6,
          "v": -0.740543
         },
         {
          "i": 2.86487e-05,
          "t": 9.605,
          "v": -0.740014
         },
         {
          "i": 2.88026e-05,
          "t": 9.61,
          "v": -0.739487
         },
         {
          "i": 2.84681e-05,
          "t": 9.615,
          "v": -0.73904
         },
         {
          "i": 2.86487e-05,
          "t": 9.62,
          "v": -0.738481
         },
         {
          "i": 2.87424e-05,
          "t": 9.625,
          "v": -0.738013
         },
         {
          "i": 2.86019e-05,
          "t": 9.63,
          "v": -0.737507
         },
         {
          "i": 2.84815e-05,
          "t": 9.635,
          "v": -0.736986
         },
         {
          "i": 2.84681e-05,
          "t": 9.64,
          "v": -0.736519
         },
         {
          "i": 2.87424e-05,
          "t": 9.645,
          "v": -0.736004
         },
         {
          "i": 2.83811e-05,
          "t": 9.65,
          "v": -0.735492
         },
         {
          "i": 2.84414e-05,
          "t": 9.655,
          "v": -0.734993
         },
         {
          "i": 2.83276e-05,
          "t": 9.66,
          "v": -0.734469
         },
         {
          "i": 2.84146e-05,
          "t": 9.665,
          "v": -0.734005
         },
         {
          "i": 2.82674e-05,
          "t": 9.67,
          "v": -0.733477
         },
         {
          "i": 2.81336e-05,
          "t": 9.675,
          "v": -0.732981
         },
         {
          "i": 2.83343e-05,
          "t": 9.68,
          "v": -0.732531
         },
         {
          "i": 2.82206e-05,
          "t": 9.685,
          "v": -0.731983
         },
         {
          "i": 2.82607e-05,
          "t": 9.69,
          "v": -0.731473
         },
         {
          "i": 2.79062e-05,
          "t": 9.695,
          "v": -0.731007
         },
         {
          "i": 2.79664e-05,
          "t": 9.7,
          "v": -0.730479
         },
         {
          "i": 2.8127e-05,
          "t": 9.705,
          "v": -0.729988
         },
         {
          "i": 2.78259e-05,
          "t": 9.71,
          "v": -0.729476
         },
         {
          "i": 2.78795e-05,
          "t": 9.715,
          "v": -0.728937
         },
         {
          "i": 2.79932e-05,
          "t": 9.72,
          "v": -0.728609
         },
         {
          "i": 2.78393e-05,
          "t": 9.725,
          "v": -0.728067
         },
         {
          "i": 2.77189e-05,
          "t": 9.73,
          "v": -0.727468
         },
         {
          "i": 2.76119e-05,
          "t": 9.735,
          "v": -0.727055
         },
         {
          "i": 2.75851e-05,
          "t": 9.74,
          "v": -0.726504
         },
         {
          "i": 2.74982e-05,
          "t": 9.745,
          "v": -0.726054
         },
         {
          "i": 2.74513e-05,
          "t": 9.75,
          "v": -0.725508
         },
         {
          "i": 2.75115e-05,
          "t": 9.755,
          "v": -0.724946
         },
         {
          "i": 2.73845e-05,
          "t": 9.76,
          "v": -0.724588
         },
         {
          "i": 2.73845e-05,
          "t": 9.765,
          "v": -0.723997
         },
         {
          "i": 2.73109e-05,
          "t": 9.77,
          "v": -0.72347
         },
         {
          "i": 2.71637e-05,
          "t": 9.775,
          "v": -0.723024
         },
         {
          "i": 2.72172e-05,
          "t": 9.78,
          "v": -0.722478
         },
         {
          "i": 2.70901e-05,
          "t": 9.785,
          "v": -0.722029
         },
         {
          "i": 2.7244e-05,
          "t": 9.79,
          "v": -0.721529
         },
         {
          "i": 2.70433e-05,
          "t": 9.795,
          "v": -0.720974
         },
         {
          "i": 2.72507e-05,
          "t": 9.8,
          "v": -0.720545
         },
         {
          "i": 2.71905e-05,
          "t": 9.805,
          "v": -0.72003
         },
         {
          "i": 2.70032e-05,
          "t": 9.81,
          "v": -0.719505
         },
         {
          "i": 2.71035e-05,
          "t": 9.815,
          "v": -0.719041
         },
         {
          "i": 2.69028e-05,
          "t": 9.82,
          "v": -0.718499
         },
         {
          "i": 2.67222e-05,
          "t": 9.825,
          "v": -0.718044
         },
         {
          "i": 2.70232e-05,
          "t": 9.83,
          "v": -0.717534
         },
         {
          "i": 2.69162e-05,
          "t": 9.835,
          "v": -0.71698
         },
         {
          "i": 2.66286e-05,
          "t": 9.84,
          "v": -0.716559
         },
         {
          "i": 2.69363e-05,
          "t": 9.845,
          "v": -0.716005
         },
         {
          "i": 2.68025e-05,
          "t": 9.85,
          "v": -0.715448
         },
         {
          "i": 2.69965e-05,
          "t": 9.855,
          "v": -0.715036
         },
         {
          "i": 2.68961e-05,
          "t": 9.86,
          "v": -0.714472
         },
         {
          "i": 2.67557e-05,
          "t": 9.865,
          "v": -0.714
         },
         {
          "i": 2.66085e-05,
          "t": 9.87,
          "v": -0.71351
         },
         {
          "i": 2.64881e-05,
          "t": 9.875,
          "v": -0.712968
         },
         {
          "i": 2.66085e-05,
          "t": 9.88,
          "v": -0.712502
         },
         {
          "i": 2.65215e-05,
          "t": 9.885,
          "v": -0.711979
         },
         {
          "i": 2.64212e-05,
          "t": 9.89,
          "v": -0.711466
         },
         {
          "i": 2.65282e-05,
          "t": 9.895,
          "v": -0.711002
         },
         {
          "i": 2.64413e-05,
          "t": 9.9,
          "v": -0.710464
         },
         {
          "i": 2.62339e-05,
          "t": 9.905,
          "v": -0.709996
         },
         {
          "i": 2.64413e-05,
          "t": 9.91,
          "v": -0.709462
         },
         {
          "i": 2.64413e-05,
          "t": 9.915,
          "v": -0.708969
         },
         {
          "i": 2.63342e-05,
          "t": 9.92,
          "v": -0.708518
         },
         {
          "i": 2.59463e-05,
          "t": 9.925,
          "v": -0.707976
         },
         {
          "i": 2.60667e-05,
          "t": 9.93,
          "v": -0.70746
         },
         {
          "i": 2.60533e-05,
          "t": 9.935,
          "v": -0.707017
         },
         {
          "i": 2.56319e-05,
          "t": 9.94,
          "v": -0.706465
         },
         {
          "i": 2.59396e-05,
          "t": 9.945,
          "v": -0.705979
         },
         {
          "i": 2.5672e-05,
          "t": 9.95,
          "v": -0.705474
         },
         {
          "i": 2.54914e-05,
          "t": 9.955,
          "v": -0.704977
         },
         {
          "i": 2.58125e-05,
          "t": 9.96,
          "v": -0.704488
         },
         {
          "i": 2.53911e-05,
          "t": 9.965,
          "v": -0.703976
         },
         {
          "i": 2.55784e-05,
          "t": 9.97,
          "v": -0.703416
         },
         {
          "i": 2.55182e-05,
          "t": 9.975,
          "v": -0.703044
         },
         {
          "i": 2.56319e-05,
          "t": 9.98,
          "v": -0.702503
         },
         {
          "i": 2.57389e-05,
          "t": 9.985,
          "v": -0.702026
         },
         {
          "i": 2.55315e-05,
          "t": 9.99,
          "v": -0.701528
         },
         {
          "i": 2.59195e-05,
          "t": 9.995,
          "v": -0.700949
         },
         {
          "i": 2.57657e-05,
          "t": 10,
          "v": -0.700585
         },
         {
          "i": 2.55784e-05,
          "t": 10.005,
          "v": -0.700027
         },
         {
          "i": 2.55115e-05,
          "t": 10.01,
          "v": -0.699467
         },
         {
          "i": 2.56118e-05,
          "t": 10.015,
          "v": -0.699049
         },
         {
          "i": 2.51837e-05,
          "t": 10.02,
          "v": -0.698471
         },
         {
          "i": 2.54044e-05,
          "t": 10.025,
          "v": -0.697984
         },
         {
          "i": 2.54513e-05,
          "t": 10.03,
          "v": -0.697503
         },
         {
          "i": 2.54647e-05,
          "t": 10.035,
          "v": -0.696948
         },
         {
          "i": 2.55249e-05,
          "t": 10.04,
          "v": -0.696566
         },
         {
          "i": 2.54513e-05,
          "t": 10.045,
          "v": -0.69603
         },
         {
          "i": 2.51636e-05,
          "t": 10.05,
          "v": -0.695478
         },
         {
          "i": 2.50232e-05,
          "t": 10.055,
          "v": -0.695032
         },
         {
          "i": 2.49763e-05,
          "t": 10.06,
          "v": -0.694501
         },
         {
          "i": 2.47221e-05,
          "t": 10.065,
          "v": -0.694016
         },
         {
          "i": 2.44479e-05,
          "t": 10.07,
          "v": -0.693525
         },
         {
          "i": 2.40265e-05,
          "t": 10.075,
          "v": -0.692965
         },
         {
          "i": 2.3886e-05,
          "t": 10.08,
          "v": -0.692558
         },
         {
          "i": 2.40867e-05,
          "t": 10.085,
          "v": -0.692035
         },
         {
          "i": 2.3973e-05,
          "t": 10.09,
          "v": -0.691499
         },
         {
          "i": 2.33843e-05,
          "t": 10.095,
          "v": -0.691065
         },
         {
          "i": 2.35917e-05,
          "t": 10.1,
          "v": -0.690497
         },
         {
          "i": 2.36786e-05,
          "t": 10.105,
          "v": -0.690025
         },
         {
          "i": 2.37054e-05,
          "t": 10.11,
          "v": -0.689546
         },
         {
          "i": 2.43208e-05,
          "t": 10.115,
          "v": -0.688969
         },
         {
          "i": 2.36318e-05,
          "t": 10.12,
          "v": -0.688541
         },
         {
          "i": 2.37188e-05,
          "t": 10.125,
          "v": -0.68804
         },
         {
          "i": 2.37589e-05,
          "t": 10.13,
          "v": -0.68751
         },
         {
          "i": 2.36385e-05,
          "t": 10.135,
          "v": -0.687011
         },
         {
          "i": 2.3692e-05,
          "t": 10.14,
          "v": -0.686477
         },
         {
          "i": 2.35181e-05,
          "t": 10.145,
          "v": -0.686018
         },
         {
          "i": 2.3284e-05,
          "t": 10.15,
          "v": -0.685494
         },
         {
          "i": 2.33843e-05,
          "t": 10.155,
          "v": -0.684977
         },
         {
          "i": 2.36853e-05,
          "t": 10.16,
          "v": -0.684549
         },
         {
          "i": 2.3284e-05,
          "t": 10.165,
          "v": -0.68399
         },
         {
          "i": 2.31034e-05,
          "t": 10.17,
          "v": -0.683489
         },
         {
          "i": 2.33241e-05,
          "t": 10.175,
          "v": -0.683022
         },
         {
          "i": 2.25548e-05,
          "t": 10.18,
          "v": -0.682468
         },
         {
          "i": 2.28358e-05,
          "t": 10.185,
          "v": -0.681999
         },
         {
          "i": 2.25281e-05,
          "t": 10.19,
          "v": -0.681492
         },
         {
          "i": 2.25214e-05,
          "t": 10.195,
          "v": -0.680985
         },
         {
          "i": 2.20532e-05,
          "t": 10.2,
          "v": -0.680506
         },
         {
          "i": 2.2508e-05,
          "t": 10.205,
          "v": -0.679989
         },
         {
          "i": 2.21602e-05,
          "t": 10.21,
          "v": -0.679495
         },
         {
          "i": 2.15448e-05,
          "t": 10.215,
          "v": -0.678999
         },
         {
          "i": 2.23408e-05,
          "t": 10.22,
          "v": -0.678476
         },
         {
          "i": 2.20264e-05,
          "t": 10.225,
          "v": -0.678048
         },
         {
          "i": 2.25348e-05,
          "t": 10.23,
          "v": -0.677568
         },
         {
          "i": 2.22271e-05,
          "t": 10.235,
          "v": -0.676962
         },
         {
          "i": 2.24211e-05,
          "t": 10.24,
          "v": -0.676601
         },
         {
          "i": 2.24612e-05,
          "t": 10.245,
          "v": -0.676065
         },
         {
          "i": 2.21468e-05,
          "t": 10.25,
          "v": -0.675516
         },
         {
          "i": 2.20465e-05,
          "t": 10.255,
          "v": -0.675079
         },
         {
          "i": 2.24746e-05,
          "t": 10.26,
          "v": -0.674494
         },
         {
          "i": 2.23475e-05,
          "t": 10.265,
          "v": -0.674067
         },
         {
          "i": 2.21669e-05,
          "t": 10.27,
          "v": -0.673533
         },
         {
          "i": 2.18592e-05,
          "t": 10.275,
          "v": -0.67295
         },
         {
          "i": 2.18257e-05,
          "t": 10.28,
          "v": -0.672533
         },
         {
          "i": 2.16585e-05,
          "t": 10.285,
          "v": -0.671986
         },
         {
          "i": 2.17053e-05,
          "t": 10.29,
          "v": -0.671507
         },
         {
          "i": 2.18659e-05,
          "t": 10.295,
          "v": -0.671019
         },
         {
          "i": 2.14043e-05,
          "t": 10.3,
          "v": -0.670486
         },
         {
          "i": 2.14779e-05,
          "t": 10.305,
          "v": -0.670051
         },
         {
          "i": 2.14979e-05,
          "t": 10.31,
          "v": -0.66951
         },
         {
          "i": 2.13508e-05,
          "t": 10.315,
          "v": -0.668981
         },
         {
          "i": 2.14444e-05,
          "t": 10.32,
          "v": -0.668581
         },
         {
          "i": 2.13976e-05,
          "t": 10.325,
          "v": -0.668024
         },
         {
          "i": 2.11702e-05,
          "t": 10.33,
          "v": -0.667508
         },
         {
          "i": 2.11969e-05,
          "t": 10.335,
          "v": -0.667053
         },
         {
          "i": 2.13173e-05,
          "t": 10.34,
          "v": -0.666502
         },
         {
          "i": 2.12705e-05,
          "t": 10.345,
          "v": -0.666039
         },
         {
          "i": 2.08023e-05,
          "t": 10.35,
          "v": -0.66554
         },
         {
          "i": 2.13575e-05,
          "t": 10.355,
          "v": -0.664943
         },
         {
          "i": 2.13173e-05,
          "t": 10.36,
          "v": -0.664513
         },
         {
          "i": 2.09227e-05,
          "t": 10.365,
          "v": -0.664004
         },
         {
          "i": 2.11836e-05,
          "t": 10.37,
          "v": -0.663462
         },
         {
          "i": 2.12371e-05,
          "t": 10.375,
          "v": -0.663003
         },
         {
          "i": 2.1217e-05,
          "t": 10.38,
          "v": -0.662465
         },
         {
          "i": 2.13441e-05,
          "t": 10.385,
          "v": -0.662013
         },
         {
          "i": 2.11969e-05,
          "t": 10.39,
          "v": -0.661474
         },
         {
          "i": 2.10163e-05,
          "t": 10.395,
          "v": -0.660948
         },
         {
          "i": 2.06618e-05,
          "t": 10.4,
          "v": -0.66052
         },
         {
          "i": 2.08223e-05,
          "t": 10.405,
          "v": -0.659978
         },
         {
          "i": 2.06484e-05,
          "t": 10.41,
          "v": -0.659457
         },
         {
          "i": 2.05681e-05,
          "t": 10.415,
          "v": -0.659016
         },
         {
          "i": 2.06952e-05,
          "t": 10.42,
          "v": -0.658452
         },
         {
          "i": 2.05347e-05,
          "t": 10.425,
          "v": -0.657977
         },
         {
          "i": 2.04411e-05,
          "t": 10.43,
          "v": -0.657464
         },
         {
          "i": 2.04143e-05,
          "t": 10.435,
          "v": -0.656955
         },
         {
          "i": 2.04076e-05,
          "t": 10.44,
          "v": -0.656481
         },
         {
          "i": 2.03073e-05,
          "t": 10.445,
          "v": -0.655974
         },
         {
          "i": 2.03608e-05,
          "t": 10.45,
          "v": -0.655464
         },
         {
          "i": 2.00865e-05,
          "t": 10.455,
          "v": -0.654974
         },
         {
          "i": 2.00798e-05,
          "t": 10.46,
          "v": -0.654449
         },
         {
          "i": 2.00598e-05,
          "t": 10.465,
          "v": -0.653983
         },
         {
          "i": 1.97855e-05,
          "t": 10.47,
          "v": -0.653455
         },
         {
          "i": 2.00999e-05,
          "t": 10.475,
          "v": -0.652971
         },
         {
          "i": 2.0334e-05,
          "t": 10.48,
          "v": -0.652531
         },
         {
          "i": 2.02002e-05,
          "t": 10.485,
          "v": -0.652055
         },
         {
          "i": 2.00196e-05,
          "t": 10.49,
          "v": -0.651492
         },
         {
          "i": 1.98256e-05,
          "t": 10.495,
          "v": -0.651065
         },
         {
          "i": 1.98925e-05,
          "t": 10.5,
          "v": -0.650501
         },
         {
          "i": 1.98256e-05,
          "t": 10.505,
          "v": -0.650053
         },
         {
          "i": 1.99728e-05,
          "t": 10.51,
          "v": -0.649545
         },
         {
          "i": 1.97588e-05,
          "t": 10.515,
          "v": -0.648935
         },
         {
          "i": 1.93775e-05,
          "t": 10.52,
          "v": -0.648549
         },
         {
          "i": 1.96383e-05,
          "t": 10.525,
          "v": -0.64802
         },
         {
          "i": 1.97253e-05,
          "t": 10.53,
          "v": -0.647444
         },
         {
          "i": 1.95715e-05,
          "t": 10.535,
          "v": -0.647013
         },
         {
          "i": 1.93641e-05,
          "t": 10.54,
          "v": -0.646454
         },
         {
          "i": 1.9431e-05,
          "t": 10.545,
          "v": -0.646024
         },
         {
          "i": 1.94109e-05,
          "t": 10.55,
          "v": -0.64546
         },
         {
          "i": 1.94711e-05,
          "t": 10.555,
          "v": -0.64494
         },
         {
          "i": 1.94444e-05,
          "t": 10.56,
          "v": -0.644552
         },
         {
          "i": 1.9324e-05,
          "t": 10.565,
          "v": -0.643997
         },
         {
          "i": 1.96183e-05,
          "t": 10.57,
          "v": -0.643454
         },
         {
          "i": 1.9324e-05,
          "t": 10.575,
          "v": -0.643044
         },
         {
          "i": 1.92972e-05,
          "t": 10.58,
          "v": -0.642484
         },
         {
          "i": 1.90765e-05,
          "t": 10.585,
          "v": -0.642
         },
         {
          "i": 1.9324e-05,
          "t": 10.59,
          "v": -0.641516
         },
         {
          "i": 1.91969e-05,
          "t": 10.595,
          "v": -0.640964
         },
         {
          "i": 1.91701e-05,
          "t": 10.6,
          "v": -0.640535
         },
         {
          "i": 1.91166e-05,
          "t": 10.605,
          "v": -0.640015
         },
         {
          "i": 1.91701e-05,
          "t": 10.61,
          "v": -0.639494
         },
         {
          "i": 1.94377e-05,
          "t": 10.615,
          "v": -0.639017
         },
         {
          "i": 1.93574e-05,
          "t": 10.62,
          "v": -0.638473
         },
         {
          "i": 1.91032e-05,
          "t": 10.625,
          "v": -0.638015
         },
         {
          "i": 1.91233e-05,
          "t": 10.63,
          "v": -0.637487
         },
         {
          "i": 1.91433e-05,
          "t": 10.635,
          "v": -0.636956
         },
         {
          "i": 1.90497e-05,
          "t": 10.64,
          "v": -0.636524
         },
         {
          "i": 1.8548e-05,
          "t": 10.645,
          "v": -0.635994
         },
         {
          "i": 1.87353e-05,
          "t": 10.65,
          "v": -0.635482
         },
         {
          "i": 1.9043e-05,
          "t": 10.655,
          "v": -0.635025
         },
         {
          "i": 1.88089e-05,
          "t": 10.66,
          "v": -0.634464
         },
         {
          "i": 1.87888e-05,
          "t": 10.665,
          "v": -0.633999
         },
         {
          "i": 1.87487e-05,
          "t": 10.67,
          "v": -0.6335
         },
         {
          "i": 1.86952e-05,
          "t": 10.675,
          "v": -0.632966
         },
         {
          "i": 1.86818e-05,
          "t": 10.68,
          "v": -0.632507
         },
         {
          "i": 1.87821e-05,
          "t": 10.685,
          "v": -0.631988
         },
         {
          "i": 1.86015e-05,
          "t": 10.69,
          "v": -0.631473
         },
         {
          "i": 1.83607e-05,
          "t": 10.695,
          "v": -0.630984
         },
         {
          "i": 1.82537e-05,
          "t": 10.7,
          "v": -0.630462
         },
         {
          "i": 1.86751e-05,
          "t": 10.705,
          "v": -0.63
         },
         {
          "i": 1.86483e-05,
          "t": 10.71,
          "v": -0.629466
         },
         {
          "i": 1.87219e-05,
          "t": 10.715,
          "v": -0.628973
         },
         {
          "i": 1.87955e-05,
          "t": 10.72,
          "v": -0.628535
         },
         {
          "i": 1.86751e-05,
          "t": 10.725,
          "v": -0.627977
         },
         {
          "i": 1.84744e-05,
          "t": 10.73,
          "v": -0.627464
         },
         {
          "i": 1.86283e-05,
          "t": 10.735,
          "v": -0.627004
         },
         {
          "i": 1.82069e-05,
          "t": 10.74,
          "v": -0.626502
         },
         {
          "i": 1.84878e-05,
          "t": 10.745,
          "v": -0.626114
         },
         {
          "i": 1.87955e-05,
          "t": 10.75,
          "v": -0.62557
         },
         {
          "i": 1.86483e-05,
          "t": 10.755,
          "v": -0.624942
         },
         {
          "i": 1.89025e-05,
          "t": 10.76,
          "v": -0.62458
         },
         {
          "i": 1.85212e-05,
          "t": 10.765,
          "v": -0.624051
         },
         {
          "i": 1.8548e-05,
          "t": 10.77,
          "v": -0.623466
         },
         {
          "i": 1.84276e-05,
          "t": 10.775,
          "v": -0.623034
         },
         {
          "i": 1.84477e-05,
          "t": 10.78,
          "v": -0.622477
         },
         {
          "i": 1.87219e-05,
          "t": 10.785,
          "v": -0.62203
         },
         {
          "i": 1.86015e-05,
          "t": 10.79,
          "v": -0.621488
         },
         {
          "i": 1.88423e-05,
          "t": 10.795,
          "v": -0.620954
         },
         {
          "i": 1.84477e-05,
          "t": 10.8,
          "v": -0.620582
         },
         {
          "i": 1.8461e-05,
          "t": 10.805,
          "v": -0.619971
         },
         {
          "i": 1.82537e-05,
          "t": 10.81,
          "v": -0.619455
         },
         {
          "i": 1.82336e-05,
          "t": 10.815,
          "v": -0.619036
         },
         {
          "i": 1.83406e-05,
          "t": 10.82,
          "v": -0.618488
         },
         {
          "i": 1.83808e-05,
          "t": 10.825,
          "v": -0.618018
         },
         {
          "i": 1.82069e-05,
          "t": 10.83,
          "v": -0.617532
         },
         {
          "i": 1.80798e-05,
          "t": 10.835,
          "v": -0.61698
         },
         {
          "i": 1.83473e-05,
          "t": 10.84,
          "v": -0.616546
         },
         {
          "i": 1.81935e-05,
          "t": 10.845,
          "v": -0.616019
         },
         {
          "i": 1.82336e-05,
          "t": 10.85,
          "v": -0.615513
         },
         {
          "i": 1.82537e-05,
          "t": 10.855,
          "v": -0.615028
         },
         {
          "i": 1.80798e-05,
          "t": 10.86,
          "v": -0.614504
         },
         {
          "i": 1.83607e-05,
          "t": 10.865,
          "v": -0.614019
         },
         {
          "i": 1.80931e-05,
          "t": 10.87,
          "v": -0.613505
         },
         {
          "i": 1.78992e-05,
          "t": 10.875,
          "v": -0.612952
         },
         {
          "i": 1.80664e-05,
          "t": 10.88,
          "v": -0.612534
         },
         {
          "i": 1.80262e-05,
          "t": 10.885,
          "v": -0.612005
         },
         {
          "i": 1.8053e-05,
          "t": 10.89,
          "v": -0.611476
         },
         {
          "i": 1.81199e-05,
          "t": 10.895,
          "v": -0.611023
         },
         {
          "i": 1.81667e-05,
          "t": 10.9,
          "v": -0.610474
         },
         {
          "i": 1.78992e-05,
          "t": 10.905,
          "v": -0.610005
         },
         {
          "i": 1.77787e-05,
          "t": 10.91,
          "v": -0.609493
         },
         {
          "i": 1.80129e-05,
          "t": 10.915,
          "v": -0.60897
         },
         {
          "i": 1.77587e-05,
          "t": 10.92,
          "v": -0.608502
         },
         {
          "i": 1.77854e-05,
          "t": 10.925,
          "v": -0.607987
         },
         {
          "i": 1.8053e-05,
          "t": 10.93,
          "v": -0.607471
         },
         {
          "i": 1.78189e-05,
          "t": 10.935,
          "v": -0.606993
         },
         {
          "i": 1.80262e-05,
          "t": 10.94,
          "v": -0.606454
         },
         {
          "i": 1.77988e-05,
          "t": 10.945,
          "v": -0.606002
         },
         {
          "i": 1.76985e-05,
          "t": 10.95,
          "v": -0.605468
         },
         {
          "i": 1.75513e-05,
          "t": 10.955,
          "v": -0.604974
         },
         {
          "i": 1.76316e-05,
          "t": 10.96,
          "v": -0.604521
         },
         {
          "i": 1.78791e-05,
          "t": 10.965,
          "v": -0.603982
         },
         {
          "i": 1.76249e-05,
          "t": 10.97,
          "v": -0.60346
         },
         {
          "i": 1.77386e-05,
          "t": 10.975,
          "v": -0.603006
         },
         {
          "i": 1.78456e-05,
          "t": 10.98,
          "v": -0.602459
         },
         {
          "i": 1.7471e-05,
          "t": 10.985,
          "v": -0.60198
         },
         {
          "i": 1.76316e-05,
          "t": 10.99,
          "v": -0.60147
         },
         {
          "i": 1.74175e-05,
          "t": 10.995,
          "v": -0.600935
         },
         {
          "i": 1.71433e-05,
          "t": 11,
          "v": -0.600601
         },
         {
          "i": 1.71901e-05,
          "t": 11.005,
          "v": -0.600078
         },
         {
          "i": 1.73573e-05,
          "t": 11.01,
          "v": -0.599447
         },
         {
          "i": 1.7364e-05,
          "t": 11.015,
          "v": -0.599054
         },
         {
          "i": 1.72369e-05,
          "t": 11.02,
          "v": -0.598504
         },
         {
          "i": 1.71031e-05,
          "t": 11.025,
          "v": -0.598038
         },
         {
          "i": 1.71834e-05,
          "t": 11.03,
          "v": -0.597522
         },
         {
          "i": 1.72704e-05,
          "t": 11.035,
          "v": -0.596941
         },
         {
          "i": 1.69894e-05,
          "t": 11.04,
          "v": -0.59656
         },
         {
          "i": 1.717e-05,
          "t": 11.045,
          "v": -0.596021
         },
         {
          "i": 1.72704e-05,
          "t": 11.05,
          "v": -0.595463
         },
         {
          "i": 1.70095e-05,
          "t": 11.055,
          "v": -0.595024
         },
         {
          "i": 1.69359e-05,
          "t": 11.06,
          "v": -0.594467
         },
         {
          "i": 1.71633e-05,
          "t": 11.065,
          "v": -0.594016
         },
         {
          "i": 1.72704e-05,
          "t": 11.07,
          "v": -0.593528
         },
         {
          "i": 1.71901e-05,
          "t": 11.075,
          "v": -0.592955
         },
         {
          "i": 1.73975e-05,
          "t": 11.08,
          "v": -0.592545
         },
         {
          "i": 1.71299e-05,
          "t": 11.085,
          "v": -0.592041
         },
         {
          "i": 1.69426e-05,
          "t": 11.09,
          "v": -0.591488
         },
         {
          "i": 1.73239e-05,
          "t": 11.095,
          "v": -0.591026
         },
         {
          "i": 1.715e-05,
          "t": 11.1,
          "v": -0.590501
         },
         {
          "i": 1.72436e-05,
          "t": 11.105,
          "v": -0.590022
         },
         {
          "i": 1.71767e-05,
          "t": 11.11,
          "v": -0.589524
         },
         {
          "i": 1.69426e-05,
          "t": 11.115,
          "v": -0.58897
         },
         {
          "i": 1.70496e-05,
          "t": 11.12,
          "v": -0.58854
         },
         {
          "i": 1.71433e-05,
          "t": 11.125,
          "v": -0.588029
         },
         {
          "i": 1.66951e-05,
          "t": 11.13,
          "v": -0.587486
         },
         {
          "i": 1.69627e-05,
          "t": 11.135,
          "v": -0.587044
         },
         {
          "i": 1.69894e-05,
          "t": 11.14,
          "v": -0.586489
         },
         {
          "i": 1.68556e-05,
          "t": 11.145,
          "v": -0.586028
         },
         {
          "i": 1.6461e-05,
          "t": 11.15,
          "v": -0.585538
         },
         {
          "i": 1.64409e-05,
          "t": 11.155,
          "v": -0.584975
         },
         {
          "i": 1.65412e-05,
          "t": 11.16,
          "v": -0.584533
         },
         {
          "i": 1.6655e-05,
          "t": 11.165,
          "v": -0.584018
         },
         {
          "i": 1.65078e-05,
          "t": 11.17,
          "v": -0.583492
         },
         {
          "i": 1.66817e-05,
          "t": 11.175,
          "v": -0.583007
         },
         {
          "i": 1.65412e-05,
          "t": 11.18,
          "v": -0.582478
         },
         {
          "i": 1.67754e-05,
          "t": 11.185,
          "v": -0.582031
         },
         {
          "i": 1.64342e-05,
          "t": 11.19,
          "v": -0.581484
         },
         {
          "i": 1.6655e-05,
          "t": 11.195,
          "v": -0.580983
         },
         {
          "i": 1.63606e-05,
          "t": 11.2,
          "v": -0.580528
         },
         {
          "i": 1.66884e-05,
          "t": 11.205,
          "v": -0.579993
         },
         {
          "i": 1.6481e-05,
          "t": 11.21,
          "v": -0.579483
         },
         {
          "i": 1.65881e-05,
          "t": 11.215,
          "v": -0.579018
         },
         {
          "i": 1.65479e-05,
          "t": 11.22,
          "v": -0.578473
         },
         {
          "i": 1.63138e-05,
          "t": 11.225,
          "v": -0.577994
         },
         {
          "i": 1.63539e-05,
          "t": 11.23,
          "v": -0.577473
         },
         {
          "i": 1.66081e-05,
          "t": 11.235,
          "v": -0.576986
         },
         {
          "i": 1.60663e-05,
          "t": 11.24,
          "v": -0.576492
         },
         {
          "i": 1.62871e-05,
          "t": 11.245,
          "v": -0.57599
         },
         {
          "i": 1.63941e-05,
          "t": 11.25,
          "v": -0.575439
         },
         {
          "i": 1.60195e-05,
          "t": 11.255,
          "v": -0.575058
         },
         {
          "i": 1.5879e-05,
          "t": 11.26,
          "v": -0.574513
         },
         {
          "i": 1.58054e-05,
          "t": 11.265,
          "v": -0.574033
         },
         {
          "i": 1.59125e-05,
          "t": 11.27,
          "v": -0.573544
         },
         {
          "i": 1.56984e-05,
          "t": 11.275,
          "v": -0.572951
         },
         {
          "i": 1.57452e-05,
          "t": 11.28,
          "v": -0.572594
         },
         {
          "i": 1.58389e-05,
          "t": 11.285,
          "v": -0.572028
         },
         {
          "i": 1.5772e-05,
          "t": 11.29,
          "v": -0.571479
         },
         {
          "i": 1.57118e-05,
          "t": 11.295,
          "v": -0.571053
         },
         {
          "i": 1.55111e-05,
          "t": 11.3,
          "v": -0.570472
         },
         {
          "i": 1.55713e-05,
          "t": 11.305,
          "v": -0.570002
         },
         {
          "i": 1.54977e-05,
          "t": 11.31,
          "v": -0.569497
         },
         {
          "i": 1.55914e-05,
          "t": 11.315,
          "v": -0.568962
         },
         {
          "i": 1.53305e-05,
          "t": 11.32,
          "v": -0.568562
         },
         {
          "i": 1.52235e-05,
          "t": 11.325,
          "v": -0.568024
         },
         {
          "i": 1.53439e-05,
          "t": 11.33,
          "v": -0.56749
         },
         {
          "i": 1.5772e-05,
          "t": 11.335,
          "v": -0.567029
         },
         {
          "i": 1.55579e-05,
          "t": 11.34,
          "v": -0.566495
         },
         {
          "i": 1.55646e-05,
          "t": 11.345,
          "v": -0.56605
         },
         {
          "i": 1.5471e-05,
          "t": 11.35,
          "v": -0.565514
         },
         {
          "i": 1.56315e-05,
          "t": 11.355,
          "v": -0.564979
         },
         {
          "i": 1.55111e-05,
          "t": 11.36,
          "v": -0.564567
         },
         {
          "i": 1.56114e-05,
          "t": 11.365,
          "v": -0.564026
         },
         {
          "i": 1.55646e-05,
          "t": 11.37,
          "v": -0.563502
         },
         {
          "i": 1.57051e-05,
          "t": 11.375,
          "v": -0.563052
         },
         {
          "i": 1.56382e-05,
          "t": 11.38,
          "v": -0.56246
         },
         {
          "i": 1.54843e-05,
          "t": 11.385,
          "v": -0.561986
         },
         {
          "i": 1.51432e-05,
          "t": 11.39,
          "v": -0.561509
         },
         {
          "i": 1.50495e-05,
          "t": 11.395,
          "v": -0.560938
         },
         {
          "i": 1.4976e-05,
          "t": 11.4,
          "v": -0.560512
         },
         {
          "i": 1.51365e-05,
          "t": 11.405,
          "v": -0.560003
         },
         {
          "i": 1.51231e-05,
          "t": 11.41,
          "v": -0.559459
         },
         {
          "i": 1.53171e-05,
          "t": 11.415,
          "v": -0.55899
         },
         {
          "i": 1.49827e-05,
          "t": 11.42,
          "v": -0.55845
         },
         {
          "i": 1.52168e-05,
          "t": 11.425,
          "v": -0.557994
         },
         {
          "i": 1.52569e-05,
          "t": 11.43,
          "v": -0.55746
         },
         {
          "i": 1.5297e-05,
          "t": 11.435,
          "v": -0.556941
         },
         {
          "i": 1.56449e-05,
          "t": 11.44,
          "v": -0.556515
         },
         {
          "i": 1.5277e-05,
          "t": 11.445,
          "v": -0.555963
         },
         {
          "i": 1.517e-05,
          "t": 11.45,
          "v": -0.555453
         },
         {
          "i": 1.53037e-05,
          "t": 11.455,
          "v": -0.554999
         },
         {
          "i": 1.53238e-05,
          "t": 11.46,
          "v": -0.554451
         },
         {
          "i": 1.52435e-05,
          "t": 11.465,
          "v": -0.55397
         },
         {
          "i": 1.54175e-05,
          "t": 11.47,
          "v": -0.553471
         },
         {
          "i": 1.50629e-05,
          "t": 11.475,
          "v": -0.552961
         },
         {
          "i": 1.49827e-05,
          "t": 11.48,
          "v": -0.55246
         },
         {
          "i": 1.46883e-05,
          "t": 11.485,
          "v": -0.55196
         },
         {
          "i": 1.49626e-05,
          "t": 11.49,
          "v": -0.551448
         },
         {
          "i": 1.48756e-05,
          "t": 11.495,
          "v": -0.550974
         },
         {
          "i": 1.46281e-05,
          "t": 11.5,
          "v": -0.550452
         },
         {
          "i": 1.46081e-05,
          "t": 11.505,
          "v": -0.549982
         },
         {
          "i": 1.45345e-05,
          "t": 11.51,
          "v": -0.549518
         },
         {
          "i": 1.44676e-05,
          "t": 11.515,
          "v": -0.548934
         },
         {
          "i": 1.45479e-05,
          "t": 11.52,
          "v": -0.548551
         },
         {
          "i": 1.45679e-05,
          "t": 11.525,
          "v": -0.54804
         },
         {
          "i": 1.47017e-05,
          "t": 11.53,
          "v": -0.547454
         },
         {
          "i": 1.45947e-05,
          "t": 11.535,
          "v": -0.547053
         },
         {
          "i": 1.46883e-05,
          "t": 11.54,
          "v": -0.54648
         },
         {
          "i": 1.48756e-05,
          "t": 11.545,
          "v": -0.546015
         },
         {
          "i": 1.46415e-05,
          "t": 11.55,
          "v": -0.54551
         },
         {
          "i": 1.46348e-05,
          "t": 11.555,
          "v": -0.544924
         },
         {
          "i": 1.46683e-05,
          "t": 11.56,
          "v": -0.544517
         },
         {
          "i": 1.45545e-05,
          "t": 11.565,
          "v": -0.543964
         },
         {
          "i": 1.45211e-05,
          "t": 11.57,
          "v": -0.543445
         },
         {
          "i": 1.41264e-05,
          "t": 11.575,
          "v": -0.543002
         },
         {
          "i": 1.44007e-05,
          "t": 11.58,
          "v": -0.542464
         },
         {
          "i": 1.45077e-05,
          "t": 11.585,
          "v": -0.541988
         },
         {
          "i": 1.45746e-05,
          "t": 11.59,
          "v": -0.541486
         },
         {
          "i": 1.43271e-05,
          "t": 11.595,
          "v": -0.540938
         },
         {
          "i": 1.43472e-05,
          "t": 11.6,
          "v": -0.540544
         },
         {
          "i": 1.43672e-05,
          "t": 11.605,
          "v": -0.540008
         },
         {
          "i": 1.44274e-05,
          "t": 11.61,
          "v": -0.539452
         },
         {
          "i": 1.43539e-05,
          "t": 11.615,
          "v": -0.539028
         },
         {
          "i": 1.44877e-05,
          "t": 11.62,
          "v": -0.538486
         },
         {
          "i": 1.43405e-05,
          "t": 11.625,
          "v": -0.537987
         },
         {
          "i": 1.44943e-05,
          "t": 11.63,
          "v": -0.537519
         },
         {
          "i": 1.43204e-05,
          "t": 11.635,
          "v": -0.53696
         },
         {
          "i": 1.42335e-05,
          "t": 11.64,
          "v": -0.536538
         },
         {
          "i": 1.42402e-05,
          "t": 11.645,
          "v": -0.536016
         },
         {
          "i": 1.41064e-05,
          "t": 11.65,
          "v": -0.535477
         },
         {
          "i": 1.43405e-05,
          "t": 11.655,
          "v": -0.535013
         },
         {
          "i": 1.42803e-05,
          "t": 11.66,
          "v": -0.53447
         },
         {
          "i": 1.39458e-05,
          "t": 11.665,
          "v": -0.534009
         },
         {
          "i": 1.39927e-05,
          "t": 11.67,
          "v": -0.533478
         },
         {
          "i": 1.40462e-05,
          "t": 11.675,
          "v": -0.532954
         },
         {
          "i": 1.37853e-05,
          "t": 11.68,
          "v": -0.532528
         },
         {
          "i": 1.38321e-05,
          "t": 11.685,
          "v": -0.531988
         },
         {
          "i": 1.41866e-05,
          "t": 11.69,
          "v": -0.531468
         },
         {
          "i": 1.42067e-05,
          "t": 11.695,
          "v": -0.531015
         },
         {
          "i": 1.41532e-05,
          "t": 11.7,
          "v": -0.530451
         },
         {
          "i": 1.39993e-05,
          "t": 11.705,
          "v": -0.529987
         },
         {
          "i": 1.39993e-05,
          "t": 11.71,
          "v": -0.529478
         },
         {
          "i": 1.36783e-05,
          "t": 11.715,
          "v": -0.528959
         },
         {
          "i": 1.4006e-05,
          "t": 11.72,
          "v": -0.528493
         },
         {
          "i": 1.39726e-05,
          "t": 11.725,
          "v": -0.527989
         },
         {
          "i": 1.40595e-05,
          "t": 11.73,
          "v": -0.527476
         },
         {
          "i": 1.39793e-05,
          "t": 11.735,
          "v": -0.526996
         },
         {
          "i": 1.37117e-05,
          "t": 11.74,
          "v": -0.526465
         },
         {
          "i": 1.37853e-05,
          "t": 11.745,
          "v": -0.526003
         },
         {
          "i": 1.39525e-05,
          "t": 11.75,
          "v": -0.525469
         },
         {
          "i": 1.38321e-05,
          "t": 11.755,
          "v": -0.524967
         },
         {
          "i": 1.39258e-05,
          "t": 11.76,
          "v": -0.524542
         },
         {
          "i": 1.38388e-05,
          "t": 11.765,
          "v": -0.524057
         },
         {
          "i": 1.36649e-05,
          "t": 11.77,
          "v": -0.5235
         },
         {
          "i": 1.36314e-05,
          "t": 11.775,
          "v": -0.523076
         },
         {
          "i": 1.3812e-05,
          "t": 11.78,
          "v": -0.5225
         },
         {
          "i": 1.38254e-05,
          "t": 11.785,
          "v": -0.522071
         },
         {
          "i": 1.36983e-05,
          "t": 11.79,
          "v": -0.521548
         },
         {
          "i": 1.37251e-05,
          "t": 11.795,
          "v": -0.52094
         },
         {
          "i": 1.38923e-05,
          "t": 11.8,
          "v": -0.520573
         },
         {
          "i": 1.40261e-05,
          "t": 11.805,
          "v": -0.52001
         },
         {
          "i": 1.36916e-05,
          "t": 11.81,
          "v": -0.519468
         },
         {
          "i": 1.36983e-05,
          "t": 11.815,
          "v": -0.519009
         },
         {
          "i": 1.38388e-05,
          "t": 11.82,
          "v": -0.518454
         },
         {
          "i": 1.37251e-05,
          "t": 11.825,
          "v": -0.518023
         },
         {
          "i": 1.39993e-05,
          "t": 11.83,
          "v": -0.517468
         },
         {
          "i": 1.37385e-05,
          "t": 11.835,
          "v": -0.516945
         },
         {
          "i": 1.34441e-05,
          "t": 11.84,
          "v": -0.516564
         },
         {
          "i": 1.40328e-05,
          "t": 11.845,
          "v": -0.516002
         },
         {
          "i": 1.38321e-05,
          "t": 11.85,
          "v": -0.515462
         },
         {
          "i": 1.3598e-05,
          "t": 11.855,
          "v": -0.515041
         },
         {
          "i": 1.36114e-05,
          "t": 11.86,
          "v": -0.514484
         },
         {
          "i": 1.3812e-05,
          "t": 11.865,
          "v": -0.514013
         },
         {
          "i": 1.38789e-05,
          "t": 11.87,
          "v": -0.513514
         },
         {
          "i": 1.38388e-05,
          "t": 11.875,
          "v": -0.512962
         },
         {
          "i": 1.34374e-05,
          "t": 11.88,
          "v": -0.512535
         },
         {
          "i": 1.34642e-05,
          "t": 11.885,
          "v": -0.512031
         },
         {
          "i": 1.34776e-05,
          "t": 11.89,
          "v": -0.511457
         },
         {
          "i": 1.3491e-05,
          "t": 11.895,
          "v": -0.511013
         },
         {
          "i": 1.35512e-05,
          "t": 11.9,
          "v": -0.510457
         },
         {
          "i": 1.33973e-05,
          "t": 11.905,
          "v": -0.510008
         },
         {
          "i": 1.3598e-05,
          "t": 11.91,
          "v": -0.509479
         },
         {
          "i": 1.36114e-05,
          "t": 11.915,
          "v": -0.508936
         },
         {
          "i": 1.33371e-05,
          "t": 11.92,
          "v": -0.508532
         },
         {
          "i": 1.33237e-05,
          "t": 11.925,
          "v": -0.50799
         },
         {
          "i": 1.33973e-05,
          "t": 11.93,
          "v": -0.507449
         },
         {
          "i": 1.35311e-05,
          "t": 11.935,
          "v": -0.507015
         },
         {
          "i": 1.34843e-05,
          "t": 11.94,
          "v": -0.506456
         },
         {
          "i": 1.33706e-05,
          "t": 11.945,
          "v": -0.505984
         },
         {
          "i": 1.31565e-05,
          "t": 11.95,
          "v": -0.50549
         },
         {
          "i": 1.33037e-05,
          "t": 11.955,
          "v": -0.504949
         },
         {
          "i": 1.32167e-05,
          "t": 11.96,
          "v": -0.504488
         },
         {
          "i": 1.31164e-05,
          "t": 11.965,
          "v": -0.503972
         },
         {
          "i": 1.30695e-05,
          "t": 11.97,
          "v": -0.503448
         },
         {
          "i": 1.3511e-05,
          "t": 11.975,
          "v": -0.502991
         },
         {
          "i": 1.31565e-05,
          "t": 11.98,
          "v": -0.502451
         },
         {
          "i": 1.33037e-05,
          "t": 11.985,
          "v": -0.501975
         },
         {
          "i": 1.31766e-05,
          "t": 11.99,
          "v": -0.501457
         },
         {
          "i": 1.31632e-05,
          "t": 11.995,
          "v": -0.500956
         },
         {
          "i": 1.32301e-05,
          "t": 12,
          "v": -0.500529
         },
         {
          "i": 1.28421e-05,
          "t": 12.005,
          "v": -0.499962
         }
        ],
        "data-e386dca162029ea212fc5ac49b5ade45": [
         {
          "i": 2.18592e-05,
          "v": -0.67295
         }
        ]
       },
       "layer": [
        {
         "data": {
          "name": "data-d34167458af0ee932352bf8e0eb55b6f"
         },
         "encoding": {
          "x": {
           "field": "v",
           "type": "quantitative"
          },
          "y": {
           "field": "i",
           "type": "quantitative"
          }
         },
         "mark": "point"
        },
        {
         "data": {
          "name": "data-e386dca162029ea212fc5ac49b5ade45"
         },
         "encoding": {
          "color": {
           "value": "black"
          },
          "x": {
           "field": "v",
           "type": "quantitative"
          },
          "y": {
           "field": "i",
           "type": "quantitative"
          }
         },
         "mark": {
          "filled": true,
          "size": 50,
          "type": "point"
         }
        }
       ]
      },
      "image/png": "[encoded data removed]",
      "text/plain": [
       "<VegaLite 3 object>\n",
       "\n",
       "If you see this message, it means the renderer has not been properly enabled\n",
       "for the frontend that you are using. For more information, see\n",
       "https://altair-viz.github.io/user_guide/troubleshooting.html\n"
      ]
     },
     "metadata": {},
     "output_type": "display_data"
    },
    {
     "name": "stdout",
     "output_type": "stream",
     "text": [
      "3.04816e-05 -0.649795\n"
     ]
    },
    {
     "data": {
      "application/vnd.vegalite.v3+json": {
       "$schema": "https://vega.github.io/schema/vega-lite/v3.2.1.json",
       "config": {
        "mark": {
         "tooltip": null
        },
        "view": {
         "height": 300,
         "width": 400
        }
       },
       "datasets": {
        "data-9a5330f33beb5edc95e91fca5201593f": [
         {
          "i": -7.24387e-05,
          "t": 1194.01,
          "v": -1.09927
         },
         {
          "i": -7.01911e-05,
          "t": 1194.02,
          "v": -1.09878
         },
         {
          "i": -6.90405e-05,
          "t": 1194.02,
          "v": -1.09828
         },
         {
          "i": -6.85991e-05,
          "t": 1194.03,
          "v": -1.09777
         },
         {
          "i": -6.79168e-05,
          "t": 1194.03,
          "v": -1.09731
         },
         {
          "i": -6.74953e-05,
          "t": 1194.04,
          "v": -1.09677
         },
         {
          "i": -6.71542e-05,
          "t": 1194.04,
          "v": -1.09626
         },
         {
          "i": -6.65789e-05,
          "t": 1194.04,
          "v": -1.09581
         },
         {
          "i": -6.60906e-05,
          "t": 1194.05,
          "v": -1.09526
         },
         {
          "i": -6.54284e-05,
          "t": 1194.05,
          "v": -1.09476
         },
         {
          "i": -6.5007e-05,
          "t": 1194.06,
          "v": -1.09427
         },
         {
          "i": -6.46993e-05,
          "t": 1194.06,
          "v": -1.09376
         },
         {
          "i": -6.43246e-05,
          "t": 1194.07,
          "v": -1.09328
         },
         {
          "i": -6.41106e-05,
          "t": 1194.07,
          "v": -1.09275
         },
         {
          "i": -6.35621e-05,
          "t": 1194.08,
          "v": -1.09224
         },
         {
          "i": -6.3348e-05,
          "t": 1194.08,
          "v": -1.09177
         },
         {
          "i": -6.30604e-05,
          "t": 1194.09,
          "v": -1.09125
         },
         {
          "i": -6.25988e-05,
          "t": 1194.09,
          "v": -1.09076
         },
         {
          "i": -6.23246e-05,
          "t": 1194.1,
          "v": -1.09025
         },
         {
          "i": -6.20905e-05,
          "t": 1194.1,
          "v": -1.08975
         },
         {
          "i": -6.15955e-05,
          "t": 1194.11,
          "v": -1.0893
         },
         {
          "i": -6.16021e-05,
          "t": 1194.11,
          "v": -1.08875
         },
         {
          "i": -6.13011e-05,
          "t": 1194.12,
          "v": -1.08825
         },
         {
          "i": -6.12543e-05,
          "t": 1194.13,
          "v": -1.0878
         },
         {
          "i": -6.12409e-05,
          "t": 1194.13,
          "v": -1.08729
         },
         {
          "i": -6.05185e-05,
          "t": 1194.14,
          "v": -1.08689
         },
         {
          "i": -6.06657e-05,
          "t": 1194.14,
          "v": -1.08633
         },
         {
          "i": -6.05787e-05,
          "t": 1194.15,
          "v": -1.08574
         },
         {
          "i": -6.03713e-05,
          "t": 1194.15,
          "v": -1.08538
         },
         {
          "i": -6.02643e-05,
          "t": 1194.16,
          "v": -1.08482
         },
         {
          "i": -5.98161e-05,
          "t": 1194.16,
          "v": -1.08425
         },
         {
          "i": -5.97626e-05,
          "t": 1194.16,
          "v": -1.08383
         },
         {
          "i": -5.95352e-05,
          "t": 1194.17,
          "v": -1.08327
         },
         {
          "i": -5.96088e-05,
          "t": 1194.17,
          "v": -1.08281
         },
         {
          "i": -5.94616e-05,
          "t": 1194.18,
          "v": -1.08228
         },
         {
          "i": -5.91204e-05,
          "t": 1194.18,
          "v": -1.08175
         },
         {
          "i": -5.90469e-05,
          "t": 1194.19,
          "v": -1.08135
         },
         {
          "i": -5.90602e-05,
          "t": 1194.19,
          "v": -1.08076
         },
         {
          "i": -5.83913e-05,
          "t": 1194.2,
          "v": -1.08027
         },
         {
          "i": -5.83779e-05,
          "t": 1194.2,
          "v": -1.07985
         },
         {
          "i": -5.81371e-05,
          "t": 1194.21,
          "v": -1.07927
         },
         {
          "i": -5.81706e-05,
          "t": 1194.21,
          "v": -1.07878
         },
         {
          "i": -5.82776e-05,
          "t": 1194.22,
          "v": -1.07831
         },
         {
          "i": -5.77558e-05,
          "t": 1194.22,
          "v": -1.07776
         },
         {
          "i": -5.74147e-05,
          "t": 1194.23,
          "v": -1.07732
         },
         {
          "i": -5.69933e-05,
          "t": 1194.23,
          "v": -1.0768
         },
         {
          "i": -5.7495e-05,
          "t": 1194.24,
          "v": -1.07629
         },
         {
          "i": -5.66989e-05,
          "t": 1194.24,
          "v": -1.07583
         },
         {
          "i": -5.65919e-05,
          "t": 1194.25,
          "v": -1.0753
         },
         {
          "i": -5.62106e-05,
          "t": 1194.26,
          "v": -1.07478
         },
         {
          "i": -5.603e-05,
          "t": 1194.26,
          "v": -1.07426
         },
         {
          "i": -5.60902e-05,
          "t": 1194.27,
          "v": -1.07373
         },
         {
          "i": -5.5729e-05,
          "t": 1194.27,
          "v": -1.07332
         },
         {
          "i": -5.55216e-05,
          "t": 1194.28,
          "v": -1.07277
         },
         {
          "i": -5.51604e-05,
          "t": 1194.28,
          "v": -1.07224
         },
         {
          "i": -5.52073e-05,
          "t": 1194.29,
          "v": -1.07182
         },
         {
          "i": -5.4826e-05,
          "t": 1194.29,
          "v": -1.07125
         },
         {
          "i": -5.46855e-05,
          "t": 1194.29,
          "v": -1.07074
         },
         {
          "i": -5.43443e-05,
          "t": 1194.3,
          "v": -1.07025
         },
         {
          "i": -5.44179e-05,
          "t": 1194.3,
          "v": -1.06974
         },
         {
          "i": -5.44179e-05,
          "t": 1194.31,
          "v": -1.06926
         },
         {
          "i": -5.4331e-05,
          "t": 1194.31,
          "v": -1.06875
         },
         {
          "i": -5.40099e-05,
          "t": 1194.32,
          "v": -1.06824
         },
         {
          "i": -5.39363e-05,
          "t": 1194.32,
          "v": -1.06775
         },
         {
          "i": -5.37624e-05,
          "t": 1194.33,
          "v": -1.06724
         },
         {
          "i": -5.35885e-05,
          "t": 1194.33,
          "v": -1.06674
         },
         {
          "i": -5.36554e-05,
          "t": 1194.34,
          "v": -1.06624
         },
         {
          "i": -5.35015e-05,
          "t": 1194.34,
          "v": -1.06574
         },
         {
          "i": -5.35416e-05,
          "t": 1194.35,
          "v": -1.06529
         },
         {
          "i": -5.33343e-05,
          "t": 1194.35,
          "v": -1.06473
         },
         {
          "i": -5.32406e-05,
          "t": 1194.36,
          "v": -1.06422
         },
         {
          "i": -5.31403e-05,
          "t": 1194.36,
          "v": -1.06379
         },
         {
          "i": -5.29463e-05,
          "t": 1194.37,
          "v": -1.06323
         },
         {
          "i": -5.31068e-05,
          "t": 1194.38,
          "v": -1.06273
         },
         {
          "i": -5.2866e-05,
          "t": 1194.38,
          "v": -1.06223
         },
         {
          "i": -5.29262e-05,
          "t": 1194.39,
          "v": -1.06172
         },
         {
          "i": -5.28995e-05,
          "t": 1194.39,
          "v": -1.0614
         },
         {
          "i": -5.27858e-05,
          "t": 1194.4,
          "v": -1.0608
         },
         {
          "i": -5.25316e-05,
          "t": 1194.4,
          "v": -1.06021
         },
         {
          "i": -5.25717e-05,
          "t": 1194.41,
          "v": -1.05983
         },
         {
          "i": -5.25316e-05,
          "t": 1194.41,
          "v": -1.05928
         },
         {
          "i": -5.26319e-05,
          "t": 1194.41,
          "v": -1.05879
         },
         {
          "i": -5.24112e-05,
          "t": 1194.42,
          "v": -1.05827
         },
         {
          "i": -5.23041e-05,
          "t": 1194.42,
          "v": -1.05773
         },
         {
          "i": -5.22306e-05,
          "t": 1194.43,
          "v": -1.05736
         },
         {
          "i": -5.21704e-05,
          "t": 1194.43,
          "v": -1.05675
         },
         {
          "i": -5.20968e-05,
          "t": 1194.44,
          "v": -1.05622
         },
         {
          "i": -5.17958e-05,
          "t": 1194.44,
          "v": -1.05581
         },
         {
          "i": -5.21168e-05,
          "t": 1194.45,
          "v": -1.05525
         },
         {
          "i": -5.19964e-05,
          "t": 1194.45,
          "v": -1.05476
         },
         {
          "i": -5.18894e-05,
          "t": 1194.46,
          "v": -1.05429
         },
         {
          "i": -5.19229e-05,
          "t": 1194.46,
          "v": -1.05373
         },
         {
          "i": -5.15683e-05,
          "t": 1194.47,
          "v": -1.0533
         },
         {
          "i": -5.17222e-05,
          "t": 1194.47,
          "v": -1.05278
         },
         {
          "i": -5.1381e-05,
          "t": 1194.48,
          "v": -1.05225
         },
         {
          "i": -5.13208e-05,
          "t": 1194.48,
          "v": -1.05181
         },
         {
          "i": -5.14412e-05,
          "t": 1194.49,
          "v": -1.05127
         },
         {
          "i": -5.14212e-05,
          "t": 1194.49,
          "v": -1.05078
         },
         {
          "i": -5.13342e-05,
          "t": 1194.5,
          "v": -1.05028
         },
         {
          "i": -5.1187e-05,
          "t": 1194.51,
          "v": -1.04974
         },
         {
          "i": -5.11536e-05,
          "t": 1194.51,
          "v": -1.04931
         },
         {
          "i": -5.10934e-05,
          "t": 1194.52,
          "v": -1.04878
         },
         {
          "i": -5.10265e-05,
          "t": 1194.52,
          "v": -1.04824
         },
         {
          "i": -5.10666e-05,
          "t": 1194.53,
          "v": -1.04782
         },
         {
          "i": -5.09262e-05,
          "t": 1194.53,
          "v": -1.04725
         },
         {
          "i": -5.07924e-05,
          "t": 1194.54,
          "v": -1.04676
         },
         {
          "i": -5.05516e-05,
          "t": 1194.54,
          "v": -1.04628
         },
         {
          "i": -5.02706e-05,
          "t": 1194.54,
          "v": -1.04573
         },
         {
          "i": -4.98492e-05,
          "t": 1194.55,
          "v": -1.04528
         },
         {
          "i": -4.98893e-05,
          "t": 1194.55,
          "v": -1.04475
         },
         {
          "i": -5.00499e-05,
          "t": 1194.56,
          "v": -1.04426
         },
         {
          "i": -4.98893e-05,
          "t": 1194.56,
          "v": -1.04378
         },
         {
          "i": -4.93876e-05,
          "t": 1194.57,
          "v": -1.04325
         },
         {
          "i": -4.93475e-05,
          "t": 1194.57,
          "v": -1.04277
         },
         {
          "i": -4.93475e-05,
          "t": 1194.58,
          "v": -1.04224
         },
         {
          "i": -4.92271e-05,
          "t": 1194.58,
          "v": -1.04174
         },
         {
          "i": -4.94612e-05,
          "t": 1194.59,
          "v": -1.04129
         },
         {
          "i": -4.91401e-05,
          "t": 1194.59,
          "v": -1.04075
         },
         {
          "i": -4.91535e-05,
          "t": 1194.6,
          "v": -1.04023
         },
         {
          "i": -4.89796e-05,
          "t": 1194.6,
          "v": -1.03979
         },
         {
          "i": -4.85983e-05,
          "t": 1194.61,
          "v": -1.03924
         },
         {
          "i": -4.82906e-05,
          "t": 1194.61,
          "v": -1.03876
         },
         {
          "i": -4.86117e-05,
          "t": 1194.62,
          "v": -1.03824
         },
         {
          "i": -4.85582e-05,
          "t": 1194.63,
          "v": -1.03775
         },
         {
          "i": -4.8197e-05,
          "t": 1194.63,
          "v": -1.03725
         },
         {
          "i": -4.82237e-05,
          "t": 1194.64,
          "v": -1.03675
         },
         {
          "i": -4.811e-05,
          "t": 1194.64,
          "v": -1.03621
         },
         {
          "i": -4.80163e-05,
          "t": 1194.65,
          "v": -1.03583
         },
         {
          "i": -4.78826e-05,
          "t": 1194.65,
          "v": -1.03529
         },
         {
          "i": -4.79829e-05,
          "t": 1194.66,
          "v": -1.03477
         },
         {
          "i": -4.76953e-05,
          "t": 1194.66,
          "v": -1.0343
         },
         {
          "i": -4.75949e-05,
          "t": 1194.66,
          "v": -1.03374
         },
         {
          "i": -4.73876e-05,
          "t": 1194.67,
          "v": -1.03335
         },
         {
          "i": -4.73207e-05,
          "t": 1194.67,
          "v": -1.03279
         },
         {
          "i": -4.7227e-05,
          "t": 1194.68,
          "v": -1.03224
         },
         {
          "i": -4.69193e-05,
          "t": 1194.68,
          "v": -1.03184
         },
         {
          "i": -4.67922e-05,
          "t": 1194.69,
          "v": -1.03125
         },
         {
          "i": -4.64778e-05,
          "t": 1194.69,
          "v": -1.03078
         },
         {
          "i": -4.62638e-05,
          "t": 1194.7,
          "v": -1.03027
         },
         {
          "i": -4.66451e-05,
          "t": 1194.7,
          "v": -1.02975
         },
         {
          "i": -4.6237e-05,
          "t": 1194.71,
          "v": -1.02933
         },
         {
          "i": -4.61434e-05,
          "t": 1194.71,
          "v": -1.02879
         },
         {
          "i": -4.62303e-05,
          "t": 1194.72,
          "v": -1.02827
         },
         {
          "i": -4.62571e-05,
          "t": 1194.72,
          "v": -1.02782
         },
         {
          "i": -4.61835e-05,
          "t": 1194.73,
          "v": -1.02728
         },
         {
          "i": -4.57822e-05,
          "t": 1194.73,
          "v": -1.0268
         },
         {
          "i": -4.5722e-05,
          "t": 1194.74,
          "v": -1.02629
         },
         {
          "i": -4.55681e-05,
          "t": 1194.74,
          "v": -1.02576
         },
         {
          "i": -4.56751e-05,
          "t": 1194.75,
          "v": -1.02534
         },
         {
          "i": -4.55413e-05,
          "t": 1194.76,
          "v": -1.0248
         },
         {
          "i": -4.53808e-05,
          "t": 1194.76,
          "v": -1.02428
         },
         {
          "i": -4.52871e-05,
          "t": 1194.77,
          "v": -1.02385
         },
         {
          "i": -4.50062e-05,
          "t": 1194.77,
          "v": -1.02327
         },
         {
          "i": -4.49728e-05,
          "t": 1194.78,
          "v": -1.02275
         },
         {
          "i": -4.48256e-05,
          "t": 1194.78,
          "v": -1.02228
         },
         {
          "i": -4.47052e-05,
          "t": 1194.79,
          "v": -1.02176
         },
         {
          "i": -4.43373e-05,
          "t": 1194.79,
          "v": -1.02131
         },
         {
          "i": -4.45647e-05,
          "t": 1194.79,
          "v": -1.02078
         },
         {
          "i": -4.43105e-05,
          "t": 1194.8,
          "v": -1.02027
         },
         {
          "i": -4.39894e-05,
          "t": 1194.8,
          "v": -1.01979
         },
         {
          "i": -4.41099e-05,
          "t": 1194.81,
          "v": -1.01926
         },
         {
          "i": -4.37085e-05,
          "t": 1194.81,
          "v": -1.01878
         },
         {
          "i": -4.37353e-05,
          "t": 1194.82,
          "v": -1.01825
         },
         {
          "i": -4.36751e-05,
          "t": 1194.82,
          "v": -1.01776
         },
         {
          "i": -4.35948e-05,
          "t": 1194.83,
          "v": -1.0173
         },
         {
          "i": -4.3354e-05,
          "t": 1194.83,
          "v": -1.01676
         },
         {
          "i": -4.34543e-05,
          "t": 1194.84,
          "v": -1.01624
         },
         {
          "i": -4.32202e-05,
          "t": 1194.84,
          "v": -1.0158
         },
         {
          "i": -4.31399e-05,
          "t": 1194.85,
          "v": -1.01525
         },
         {
          "i": -4.32202e-05,
          "t": 1194.85,
          "v": -1.01476
         },
         {
          "i": -4.31265e-05,
          "t": 1194.86,
          "v": -1.01426
         },
         {
          "i": -4.28991e-05,
          "t": 1194.86,
          "v": -1.01375
         },
         {
          "i": -4.2558e-05,
          "t": 1194.87,
          "v": -1.01327
         },
         {
          "i": -4.26917e-05,
          "t": 1194.88,
          "v": -1.01275
         },
         {
          "i": -4.21767e-05,
          "t": 1194.88,
          "v": -1.01225
         },
         {
          "i": -4.22235e-05,
          "t": 1194.89,
          "v": -1.01176
         },
         {
          "i": -4.1869e-05,
          "t": 1194.89,
          "v": -1.01125
         },
         {
          "i": -4.20563e-05,
          "t": 1194.9,
          "v": -1.01078
         },
         {
          "i": -4.21834e-05,
          "t": 1194.9,
          "v": -1.01031
         },
         {
          "i": -4.18556e-05,
          "t": 1194.91,
          "v": -1.00975
         },
         {
          "i": -4.15412e-05,
          "t": 1194.91,
          "v": -1.00934
         },
         {
          "i": -4.12803e-05,
          "t": 1194.91,
          "v": -1.00881
         },
         {
          "i": -4.11733e-05,
          "t": 1194.92,
          "v": -1.00829
         },
         {
          "i": -4.07786e-05,
          "t": 1194.92,
          "v": -1.00786
         },
         {
          "i": -4.07452e-05,
          "t": 1194.93,
          "v": -1.00728
         },
         {
          "i": -4.0404e-05,
          "t": 1194.93,
          "v": -1.00682
         },
         {
          "i": -3.98689e-05,
          "t": 1194.94,
          "v": -1.00631
         },
         {
          "i": -3.9909e-05,
          "t": 1194.94,
          "v": -1.00575
         },
         {
          "i": -3.98689e-05,
          "t": 1194.95,
          "v": -1.00533
         },
         {
          "i": -3.99692e-05,
          "t": 1194.95,
          "v": -1.00478
         },
         {
          "i": -3.93404e-05,
          "t": 1194.96,
          "v": -1.00424
         },
         {
          "i": -3.89324e-05,
          "t": 1194.96,
          "v": -1.00382
         },
         {
          "i": -3.90194e-05,
          "t": 1194.97,
          "v": -1.00328
         },
         {
          "i": -3.87183e-05,
          "t": 1194.97,
          "v": -1.00278
         },
         {
          "i": -3.85311e-05,
          "t": 1194.98,
          "v": -1.0023
         },
         {
          "i": -3.83036e-05,
          "t": 1194.98,
          "v": -1.00176
         },
         {
          "i": -3.7909e-05,
          "t": 1194.99,
          "v": -1.00135
         },
         {
          "i": -3.80829e-05,
          "t": 1194.99,
          "v": -1.00079
         },
         {
          "i": -3.77618e-05,
          "t": 1195,
          "v": -1.00027
         },
         {
          "i": -3.7735e-05,
          "t": 1195.01,
          "v": -0.999851
         },
         {
          "i": -3.77752e-05,
          "t": 1195.01,
          "v": -0.99929
         },
         {
          "i": -3.77885e-05,
          "t": 1195.02,
          "v": -0.998802
         },
         {
          "i": -3.74808e-05,
          "t": 1195.02,
          "v": -0.998319
         },
         {
          "i": -3.73604e-05,
          "t": 1195.03,
          "v": -0.997781
         },
         {
          "i": -3.71464e-05,
          "t": 1195.03,
          "v": -0.997356
         },
         {
          "i": -3.72668e-05,
          "t": 1195.04,
          "v": -0.99681
         },
         {
          "i": -3.71731e-05,
          "t": 1195.04,
          "v": -0.996292
         },
         {
          "i": -3.6939e-05,
          "t": 1195.04,
          "v": -0.995819
         },
         {
          "i": -3.6832e-05,
          "t": 1195.05,
          "v": -0.995285
         },
         {
          "i": -3.65711e-05,
          "t": 1195.05,
          "v": -0.994809
         },
         {
          "i": -3.67049e-05,
          "t": 1195.06,
          "v": -0.994289
         },
         {
          "i": -3.66046e-05,
          "t": 1195.06,
          "v": -0.993778
         },
         {
          "i": -3.63905e-05,
          "t": 1195.07,
          "v": -0.993329
         },
         {
          "i": -3.63102e-05,
          "t": 1195.07,
          "v": -0.992782
         },
         {
          "i": -3.6036e-05,
          "t": 1195.08,
          "v": -0.992271
         },
         {
          "i": -3.61831e-05,
          "t": 1195.08,
          "v": -0.991814
         },
         {
          "i": -3.58219e-05,
          "t": 1195.09,
          "v": -0.991268
         },
         {
          "i": -3.57015e-05,
          "t": 1195.09,
          "v": -0.990776
         },
         {
          "i": -3.56079e-05,
          "t": 1195.1,
          "v": -0.990283
         },
         {
          "i": -3.54741e-05,
          "t": 1195.1,
          "v": -0.989775
         },
         {
          "i": -3.51262e-05,
          "t": 1195.11,
          "v": -0.989286
         },
         {
          "i": -3.49925e-05,
          "t": 1195.11,
          "v": -0.988765
         },
         {
          "i": -3.50928e-05,
          "t": 1195.12,
          "v": -0.988252
         },
         {
          "i": -3.48721e-05,
          "t": 1195.13,
          "v": -0.98778
         },
         {
          "i": -3.45978e-05,
          "t": 1195.13,
          "v": -0.987259
         },
         {
          "i": -3.47583e-05,
          "t": 1195.14,
          "v": -0.986791
         },
         {
          "i": -3.40961e-05,
          "t": 1195.14,
          "v": -0.986248
         },
         {
          "i": -3.38285e-05,
          "t": 1195.15,
          "v": -0.985788
         },
         {
          "i": -3.37148e-05,
          "t": 1195.15,
          "v": -0.985337
         },
         {
          "i": -3.30258e-05,
          "t": 1195.16,
          "v": -0.984827
         },
         {
          "i": -3.29054e-05,
          "t": 1195.16,
          "v": -0.984329
         },
         {
          "i": -3.2892e-05,
          "t": 1195.16,
          "v": -0.983879
         },
         {
          "i": -3.23034e-05,
          "t": 1195.17,
          "v": -0.983291
         },
         {
          "i": -3.19823e-05,
          "t": 1195.17,
          "v": -0.982874
         },
         {
          "i": -3.14539e-05,
          "t": 1195.18,
          "v": -0.982336
         },
         {
          "i": -3.14873e-05,
          "t": 1195.18,
          "v": -0.981753
         },
         {
          "i": -3.11662e-05,
          "t": 1195.19,
          "v": -0.981374
         },
         {
          "i": -3.09187e-05,
          "t": 1195.19,
          "v": -0.98081
         },
         {
          "i": -3.0504e-05,
          "t": 1195.2,
          "v": -0.980271
         },
         {
          "i": -3.0096e-05,
          "t": 1195.2,
          "v": -0.979814
         },
         {
          "i": -2.95876e-05,
          "t": 1195.21,
          "v": -0.979264
         },
         {
          "i": -2.93468e-05,
          "t": 1195.21,
          "v": -0.978823
         },
         {
          "i": -2.92732e-05,
          "t": 1195.22,
          "v": -0.978284
         },
         {
          "i": -2.91728e-05,
          "t": 1195.22,
          "v": -0.977768
         },
         {
          "i": -2.90591e-05,
          "t": 1195.23,
          "v": -0.977387
         },
         {
          "i": -2.85441e-05,
          "t": 1195.23,
          "v": -0.976806
         },
         {
          "i": -2.81828e-05,
          "t": 1195.24,
          "v": -0.976283
         },
         {
          "i": -2.82096e-05,
          "t": 1195.24,
          "v": -0.975874
         },
         {
          "i": -2.77748e-05,
          "t": 1195.25,
          "v": -0.975292
         },
         {
          "i": -2.77079e-05,
          "t": 1195.26,
          "v": -0.974817
         },
         {
          "i": -2.73601e-05,
          "t": 1195.26,
          "v": -0.974321
         },
         {
          "i": -2.68651e-05,
          "t": 1195.27,
          "v": -0.973777
         },
         {
          "i": -2.65306e-05,
          "t": 1195.27,
          "v": -0.973358
         },
         {
          "i": -2.6049e-05,
          "t": 1195.28,
          "v": -0.972817
         },
         {
          "i": -2.57747e-05,
          "t": 1195.28,
          "v": -0.972262
         },
         {
          "i": -2.55941e-05,
          "t": 1195.29,
          "v": -0.97182
         },
         {
          "i": -2.49653e-05,
          "t": 1195.29,
          "v": -0.971259
         },
         {
          "i": -2.46576e-05,
          "t": 1195.29,
          "v": -0.970792
         },
         {
          "i": -2.40221e-05,
          "t": 1195.3,
          "v": -0.970265
         },
         {
          "i": -2.34469e-05,
          "t": 1195.3,
          "v": -0.969751
         },
         {
          "i": -2.3273e-05,
          "t": 1195.31,
          "v": -0.969323
         },
         {
          "i": -2.29452e-05,
          "t": 1195.31,
          "v": -0.96877
         },
         {
          "i": -2.25639e-05,
          "t": 1195.32,
          "v": -0.968247
         },
         {
          "i": -2.22495e-05,
          "t": 1195.32,
          "v": -0.967813
         },
         {
          "i": -2.20555e-05,
          "t": 1195.33,
          "v": -0.967255
         },
         {
          "i": -2.16542e-05,
          "t": 1195.33,
          "v": -0.966763
         },
         {
          "i": -2.14736e-05,
          "t": 1195.34,
          "v": -0.966259
         },
         {
          "i": -2.10053e-05,
          "t": 1195.34,
          "v": -0.965749
         },
         {
          "i": -2.05438e-05,
          "t": 1195.35,
          "v": -0.965256
         },
         {
          "i": -1.99952e-05,
          "t": 1195.35,
          "v": -0.964755
         },
         {
          "i": -1.99618e-05,
          "t": 1195.36,
          "v": -0.96424
         },
         {
          "i": -1.97812e-05,
          "t": 1195.36,
          "v": -0.963769
         },
         {
          "i": -1.91524e-05,
          "t": 1195.37,
          "v": -0.963242
         },
         {
          "i": -1.91457e-05,
          "t": 1195.38,
          "v": -0.962754
         },
         {
          "i": -1.88982e-05,
          "t": 1195.38,
          "v": -0.962237
         },
         {
          "i": -1.84032e-05,
          "t": 1195.39,
          "v": -0.961749
         },
         {
          "i": -1.81356e-05,
          "t": 1195.39,
          "v": -0.961292
         },
         {
          "i": -1.76607e-05,
          "t": 1195.4,
          "v": -0.960748
         },
         {
          "i": -1.73062e-05,
          "t": 1195.4,
          "v": -0.96024
         },
         {
          "i": -1.67175e-05,
          "t": 1195.41,
          "v": -0.959789
         },
         {
          "i": -1.60954e-05,
          "t": 1195.41,
          "v": -0.959278
         },
         {
          "i": -1.5781e-05,
          "t": 1195.41,
          "v": -0.958893
         },
         {
          "i": -1.52593e-05,
          "t": 1195.42,
          "v": -0.958321
         },
         {
          "i": -1.49248e-05,
          "t": 1195.42,
          "v": -0.957724
         },
         {
          "i": -1.42158e-05,
          "t": 1195.43,
          "v": -0.957378
         },
         {
          "i": -1.41422e-05,
          "t": 1195.43,
          "v": -0.956824
         },
         {
          "i": -1.3306e-05,
          "t": 1195.44,
          "v": -0.95624
         },
         {
          "i": -1.2811e-05,
          "t": 1195.44,
          "v": -0.955813
         },
         {
          "i": -1.20685e-05,
          "t": 1195.45,
          "v": -0.955273
         },
         {
          "i": -1.1607e-05,
          "t": 1195.45,
          "v": -0.954804
         },
         {
          "i": -1.12524e-05,
          "t": 1195.46,
          "v": -0.954272
         },
         {
          "i": -1.0724e-05,
          "t": 1195.46,
          "v": -0.953737
         },
         {
          "i": -1.06036e-05,
          "t": 1195.47,
          "v": -0.953355
         },
         {
          "i": -1.00016e-05,
          "t": 1195.47,
          "v": -0.952754
         },
         {
          "i": -9.29919e-06,
          "t": 1195.48,
          "v": -0.952239
         },
         {
          "i": -8.4831e-06,
          "t": 1195.48,
          "v": -0.951847
         },
         {
          "i": -7.81418e-06,
          "t": 1195.49,
          "v": -0.951269
         },
         {
          "i": -7.55999e-06,
          "t": 1195.49,
          "v": -0.95079
         },
         {
          "i": -6.56999e-06,
          "t": 1195.5,
          "v": -0.950304
         },
         {
          "i": -6.09506e-06,
          "t": 1195.51,
          "v": -0.949754
         },
         {
          "i": -5.8208e-06,
          "t": 1195.51,
          "v": -0.949307
         },
         {
          "i": -5.36593e-06,
          "t": 1195.52,
          "v": -0.948783
         },
         {
          "i": -5.14519e-06,
          "t": 1195.52,
          "v": -0.948272
         },
         {
          "i": -4.81073e-06,
          "t": 1195.53,
          "v": -0.947822
         },
         {
          "i": -4.43613e-06,
          "t": 1195.53,
          "v": -0.947289
         },
         {
          "i": -4.09498e-06,
          "t": 1195.54,
          "v": -0.9468
         },
         {
          "i": -4.03478e-06,
          "t": 1195.54,
          "v": -0.946292
         },
         {
          "i": -3.60667e-06,
          "t": 1195.54,
          "v": -0.94576
         },
         {
          "i": -3.21869e-06,
          "t": 1195.55,
          "v": -0.945345
         },
         {
          "i": -2.67687e-06,
          "t": 1195.55,
          "v": -0.944785
         },
         {
          "i": -1.96781e-06,
          "t": 1195.56,
          "v": -0.94427
         },
         {
          "i": -1.60659e-06,
          "t": 1195.56,
          "v": -0.943835
         },
         {
          "i": -8.77469e-07,
          "t": 1195.57,
          "v": -0.943278
         },
         {
          "i": -1.28277e-07,
          "t": 1195.57,
          "v": -0.942773
         },
         {
          "i": 4.0017e-07,
          "t": 1195.58,
          "v": -0.94229
         },
         {
          "i": 8.48348e-07,
          "t": 1195.58,
          "v": -0.941782
         },
         {
          "i": 1.41024e-06,
          "t": 1195.59,
          "v": -0.941313
         },
         {
          "i": 1.96545e-06,
          "t": 1195.59,
          "v": -0.940794
         },
         {
          "i": 2.75477e-06,
          "t": 1195.6,
          "v": -0.940283
         },
         {
          "i": 3.0491e-06,
          "t": 1195.6,
          "v": -0.939802
         },
         {
          "i": 3.31667e-06,
          "t": 1195.61,
          "v": -0.93929
         },
         {
          "i": 4.01903e-06,
          "t": 1195.61,
          "v": -0.938823
         },
         {
          "i": 4.66789e-06,
          "t": 1195.62,
          "v": -0.93828
         },
         {
          "i": 4.96221e-06,
          "t": 1195.63,
          "v": -0.937789
         },
         {
          "i": 6.2131e-06,
          "t": 1195.63,
          "v": -0.937351
         },
         {
          "i": 6.74154e-06,
          "t": 1195.64,
          "v": -0.936778
         },
         {
          "i": 7.59776e-06,
          "t": 1195.64,
          "v": -0.936275
         },
         {
          "i": 8.43391e-06,
          "t": 1195.65,
          "v": -0.935808
         },
         {
          "i": 8.4406e-06,
          "t": 1195.65,
          "v": -0.935289
         },
         {
          "i": 9.63797e-06,
          "t": 1195.66,
          "v": -0.934796
         },
         {
          "i": 1.01196e-05,
          "t": 1195.66,
          "v": -0.934277
         },
         {
          "i": 1.03671e-05,
          "t": 1195.66,
          "v": -0.933747
         },
         {
          "i": 1.10226e-05,
          "t": 1195.67,
          "v": -0.933414
         },
         {
          "i": 1.1337e-05,
          "t": 1195.67,
          "v": -0.932833
         },
         {
          "i": 1.17986e-05,
          "t": 1195.68,
          "v": -0.932276
         },
         {
          "i": 1.23605e-05,
          "t": 1195.68,
          "v": -0.931865
         },
         {
          "i": 1.26548e-05,
          "t": 1195.69,
          "v": -0.9313
         },
         {
          "i": 1.2996e-05,
          "t": 1195.69,
          "v": -0.930865
         },
         {
          "i": 1.36114e-05,
          "t": 1195.7,
          "v": -0.930315
         },
         {
          "i": 1.44274e-05,
          "t": 1195.7,
          "v": -0.92976
         },
         {
          "i": 1.51365e-05,
          "t": 1195.71,
          "v": -0.929397
         },
         {
          "i": 1.58456e-05,
          "t": 1195.71,
          "v": -0.928797
         },
         {
          "i": 1.65145e-05,
          "t": 1195.72,
          "v": -0.928284
         },
         {
          "i": 1.6956e-05,
          "t": 1195.72,
          "v": -0.927828
         },
         {
          "i": 1.74443e-05,
          "t": 1195.73,
          "v": -0.927287
         },
         {
          "i": 1.80196e-05,
          "t": 1195.73,
          "v": -0.926851
         },
         {
          "i": 1.8655e-05,
          "t": 1195.74,
          "v": -0.926329
         },
         {
          "i": 1.91032e-05,
          "t": 1195.74,
          "v": -0.925785
         },
         {
          "i": 1.98256e-05,
          "t": 1195.75,
          "v": -0.925362
         },
         {
          "i": 2.05882e-05,
          "t": 1195.76,
          "v": -0.924817
         },
         {
          "i": 2.10698e-05,
          "t": 1195.76,
          "v": -0.924304
         },
         {
          "i": 2.18659e-05,
          "t": 1195.77,
          "v": -0.923838
         },
         {
          "i": 2.23876e-05,
          "t": 1195.77,
          "v": -0.923302
         },
         {
          "i": 2.31234e-05,
          "t": 1195.78,
          "v": -0.922854
         },
         {
          "i": 2.42606e-05,
          "t": 1195.78,
          "v": -0.922336
         },
         {
          "i": 2.50566e-05,
          "t": 1195.79,
          "v": -0.921803
         },
         {
          "i": 2.55382e-05,
          "t": 1195.79,
          "v": -0.921389
         },
         {
          "i": 2.6274e-05,
          "t": 1195.79,
          "v": -0.920823
         },
         {
          "i": 2.63677e-05,
          "t": 1195.8,
          "v": -0.920283
         },
         {
          "i": 2.68627e-05,
          "t": 1195.8,
          "v": -0.919843
         },
         {
          "i": 2.70634e-05,
          "t": 1195.81,
          "v": -0.919295
         },
         {
          "i": 2.74112e-05,
          "t": 1195.81,
          "v": -0.918836
         },
         {
          "i": 2.78795e-05,
          "t": 1195.82,
          "v": -0.918319
         },
         {
          "i": 2.82942e-05,
          "t": 1195.82,
          "v": -0.917808
         },
         {
          "i": 2.86889e-05,
          "t": 1195.83,
          "v": -0.917329
         },
         {
          "i": 2.92909e-05,
          "t": 1195.83,
          "v": -0.916806
         },
         {
          "i": 2.98929e-05,
          "t": 1195.84,
          "v": -0.916284
         },
         {
          "i": 3.08361e-05,
          "t": 1195.84,
          "v": -0.91581
         },
         {
          "i": 3.16923e-05,
          "t": 1195.85,
          "v": -0.915289
         },
         {
          "i": 3.20736e-05,
          "t": 1195.85,
          "v": -0.914838
         },
         {
          "i": 3.30235e-05,
          "t": 1195.86,
          "v": -0.914287
         },
         {
          "i": 3.3465e-05,
          "t": 1195.86,
          "v": -0.913793
         },
         {
          "i": 3.4281e-05,
          "t": 1195.87,
          "v": -0.913354
         },
         {
          "i": 3.48028e-05,
          "t": 1195.88,
          "v": -0.91279
         },
         {
          "i": 3.50369e-05,
          "t": 1195.88,
          "v": -0.912272
         },
         {
          "i": 3.56791e-05,
          "t": 1195.89,
          "v": -0.911821
         },
         {
          "i": 3.6067e-05,
          "t": 1195.89,
          "v": -0.911289
         },
         {
          "i": 3.67025e-05,
          "t": 1195.9,
          "v": -0.910782
         },
         {
          "i": 3.72109e-05,
          "t": 1195.9,
          "v": -0.91028
         },
         {
          "i": 3.81006e-05,
          "t": 1195.91,
          "v": -0.90978
         },
         {
          "i": 3.86424e-05,
          "t": 1195.91,
          "v": -0.909296
         },
         {
          "i": 3.95789e-05,
          "t": 1195.91,
          "v": -0.908797
         },
         {
          "i": 3.98665e-05,
          "t": 1195.92,
          "v": -0.90826
         },
         {
          "i": 4.01876e-05,
          "t": 1195.92,
          "v": -0.907862
         },
         {
          "i": 4.13448e-05,
          "t": 1195.93,
          "v": -0.907304
         },
         {
          "i": 4.15388e-05,
          "t": 1195.93,
          "v": -0.906874
         },
         {
          "i": 4.22479e-05,
          "t": 1195.94,
          "v": -0.906316
         },
         {
          "i": 4.27228e-05,
          "t": 1195.94,
          "v": -0.905771
         },
         {
          "i": 4.31576e-05,
          "t": 1195.95,
          "v": -0.905432
         },
         {
          "i": 4.35055e-05,
          "t": 1195.95,
          "v": -0.904835
         },
         {
          "i": 4.38934e-05,
          "t": 1195.96,
          "v": -0.904308
         },
         {
          "i": 4.40674e-05,
          "t": 1195.96,
          "v": -0.903859
         },
         {
          "i": 4.42413e-05,
          "t": 1195.97,
          "v": -0.903288
         },
         {
          "i": 4.485e-05,
          "t": 1195.97,
          "v": -0.902842
         },
         {
          "i": 4.53651e-05,
          "t": 1195.98,
          "v": -0.902302
         },
         {
          "i": 4.58667e-05,
          "t": 1195.98,
          "v": -0.901779
         },
         {
          "i": 4.61745e-05,
          "t": 1195.99,
          "v": -0.901351
         },
         {
          "i": 4.64822e-05,
          "t": 1195.99,
          "v": -0.900819
         },
         {
          "i": 4.6549e-05,
          "t": 1196,
          "v": -0.900297
         },
         {
          "i": 4.7024e-05,
          "t": 1196.01,
          "v": -0.899829
         },
         {
          "i": 4.75658e-05,
          "t": 1196.01,
          "v": -0.899304
         },
         {
          "i": 4.82013e-05,
          "t": 1196.02,
          "v": -0.898829
         },
         {
          "i": 4.86026e-05,
          "t": 1196.02,
          "v": -0.898311
         },
         {
          "i": 4.89103e-05,
          "t": 1196.03,
          "v": -0.89778
         },
         {
          "i": 4.92582e-05,
          "t": 1196.03,
          "v": -0.897374
         },
         {
          "i": 4.99672e-05,
          "t": 1196.04,
          "v": -0.896828
         },
         {
          "i": 4.99539e-05,
          "t": 1196.04,
          "v": -0.896297
         },
         {
          "i": 5.05559e-05,
          "t": 1196.04,
          "v": -0.895867
         },
         {
          "i": 5.07967e-05,
          "t": 1196.05,
          "v": -0.895309
         },
         {
          "i": 5.13118e-05,
          "t": 1196.05,
          "v": -0.894823
         },
         {
          "i": 5.12716e-05,
          "t": 1196.06,
          "v": -0.894328
         },
         {
          "i": 5.20743e-05,
          "t": 1196.06,
          "v": -0.893799
         },
         {
          "i": 5.21546e-05,
          "t": 1196.07,
          "v": -0.89335
         },
         {
          "i": 5.27499e-05,
          "t": 1196.07,
          "v": -0.892823
         },
         {
          "i": 5.28704e-05,
          "t": 1196.08,
          "v": -0.892309
         },
         {
          "i": 5.34122e-05,
          "t": 1196.08,
          "v": -0.891815
         },
         {
          "i": 5.3867e-05,
          "t": 1196.09,
          "v": -0.891286
         },
         {
          "i": 5.41079e-05,
          "t": 1196.09,
          "v": -0.890825
         },
         {
          "i": 5.43085e-05,
          "t": 1196.1,
          "v": -0.890292
         },
         {
          "i": 5.47099e-05,
          "t": 1196.1,
          "v": -0.88978
         },
         {
          "i": 5.52383e-05,
          "t": 1196.11,
          "v": -0.889355
         },
         {
          "i": 5.58872e-05,
          "t": 1196.11,
          "v": -0.88879
         },
         {
          "i": 5.6215e-05,
          "t": 1196.12,
          "v": -0.888278
         },
         {
          "i": 5.64223e-05,
          "t": 1196.13,
          "v": -0.887819
         },
         {
          "i": 5.67835e-05,
          "t": 1196.13,
          "v": -0.887277
         },
         {
          "i": 5.6924e-05,
          "t": 1196.14,
          "v": -0.886778
         },
         {
          "i": 5.74458e-05,
          "t": 1196.14,
          "v": -0.886294
         },
         {
          "i": 5.71581e-05,
          "t": 1196.15,
          "v": -0.885786
         },
         {
          "i": 5.78672e-05,
          "t": 1196.15,
          "v": -0.885302
         },
         {
          "i": 5.81013e-05,
          "t": 1196.16,
          "v": -0.884784
         },
         {
          "i": 5.82819e-05,
          "t": 1196.16,
          "v": -0.884286
         },
         {
          "i": 5.85027e-05,
          "t": 1196.16,
          "v": -0.883804
         },
         {
          "i": 5.85027e-05,
          "t": 1196.17,
          "v": -0.883296
         },
         {
          "i": 5.871e-05,
          "t": 1196.17,
          "v": -0.882813
         },
         {
          "i": 5.85896e-05,
          "t": 1196.18,
          "v": -0.88232
         },
         {
          "i": 5.88973e-05,
          "t": 1196.18,
          "v": -0.881787
         },
         {
          "i": 5.89174e-05,
          "t": 1196.19,
          "v": -0.881434
         },
         {
          "i": 5.91114e-05,
          "t": 1196.19,
          "v": -0.880825
         },
         {
          "i": 5.9205e-05,
          "t": 1196.2,
          "v": -0.880332
         },
         {
          "i": 5.91114e-05,
          "t": 1196.2,
          "v": -0.879893
         },
         {
          "i": 5.92251e-05,
          "t": 1196.21,
          "v": -0.879304
         },
         {
          "i": 5.93589e-05,
          "t": 1196.21,
          "v": -0.878857
         },
         {
          "i": 5.94927e-05,
          "t": 1196.22,
          "v": -0.878318
         },
         {
          "i": 5.96934e-05,
          "t": 1196.22,
          "v": -0.87778
         },
         {
          "i": 5.9787e-05,
          "t": 1196.23,
          "v": -0.877355
         },
         {
          "i": 5.98138e-05,
          "t": 1196.23,
          "v": -0.876791
         },
         {
          "i": 6.00077e-05,
          "t": 1196.24,
          "v": -0.876306
         },
         {
          "i": 5.99944e-05,
          "t": 1196.24,
          "v": -0.875838
         },
         {
          "i": 6.00011e-05,
          "t": 1196.25,
          "v": -0.875303
         },
         {
          "i": 6.00144e-05,
          "t": 1196.26,
          "v": -0.874846
         },
         {
          "i": 6.01215e-05,
          "t": 1196.26,
          "v": -0.874321
         },
         {
          "i": 6.01215e-05,
          "t": 1196.27,
          "v": -0.873802
         },
         {
          "i": 6.04425e-05,
          "t": 1196.27,
          "v": -0.873408
         },
         {
          "i": 6.0476e-05,
          "t": 1196.28,
          "v": -0.872827
         },
         {
          "i": 6.03957e-05,
          "t": 1196.28,
          "v": -0.87232
         },
         {
          "i": 6.04158e-05,
          "t": 1196.29,
          "v": -0.871877
         },
         {
          "i": 6.04492e-05,
          "t": 1196.29,
          "v": -0.87132
         },
         {
          "i": 6.05228e-05,
          "t": 1196.29,
          "v": -0.870847
         },
         {
          "i": 6.05897e-05,
          "t": 1196.3,
          "v": -0.870339
         },
         {
          "i": 6.0777e-05,
          "t": 1196.3,
          "v": -0.869786
         },
         {
          "i": 6.07703e-05,
          "t": 1196.31,
          "v": -0.86934
         },
         {
          "i": 6.11516e-05,
          "t": 1196.31,
          "v": -0.868785
         },
         {
          "i": 6.12519e-05,
          "t": 1196.32,
          "v": -0.868288
         },
         {
          "i": 6.15128e-05,
          "t": 1196.32,
          "v": -0.867808
         },
         {
          "i": 6.15128e-05,
          "t": 1196.33,
          "v": -0.867285
         },
         {
          "i": 6.15463e-05,
          "t": 1196.33,
          "v": -0.866799
         },
         {
          "i": 6.17871e-05,
          "t": 1196.34,
          "v": -0.866274
         },
         {
          "i": 6.15998e-05,
          "t": 1196.34,
          "v": -0.865773
         },
         {
          "i": 6.15797e-05,
          "t": 1196.35,
          "v": -0.865338
         },
         {
          "i": 6.13723e-05,
          "t": 1196.35,
          "v": -0.864784
         },
         {
          "i": 6.11449e-05,
          "t": 1196.36,
          "v": -0.864273
         },
         {
          "i": 6.15596e-05,
          "t": 1196.36,
          "v": -0.863814
         },
         {
          "i": 6.15396e-05,
          "t": 1196.37,
          "v": -0.863273
         },
         {
          "i": 6.14125e-05,
          "t": 1196.38,
          "v": -0.862782
         },
         {
          "i": 6.15864e-05,
          "t": 1196.38,
          "v": -0.862264
         },
         {
          "i": 6.16198e-05,
          "t": 1196.39,
          "v": -0.861775
         },
         {
          "i": 6.18071e-05,
          "t": 1196.39,
          "v": -0.861283
         },
         {
          "i": 6.21215e-05,
          "t": 1196.4,
          "v": -0.860755
         },
         {
          "i": 6.15529e-05,
          "t": 1196.4,
          "v": -0.860267
         },
         {
          "i": 6.14392e-05,
          "t": 1196.41,
          "v": -0.859789
         },
         {
          "i": 6.1379e-05,
          "t": 1196.41,
          "v": -0.859273
         },
         {
          "i": 6.14459e-05,
          "t": 1196.41,
          "v": -0.858801
         },
         {
          "i": 6.15061e-05,
          "t": 1196.42,
          "v": -0.858259
         },
         {
          "i": 6.15864e-05,
          "t": 1196.42,
          "v": -0.857774
         },
         {
          "i": 6.17336e-05,
          "t": 1196.43,
          "v": -0.857333
         },
         {
          "i": 6.16198e-05,
          "t": 1196.43,
          "v": -0.856794
         },
         {
          "i": 6.16198e-05,
          "t": 1196.44,
          "v": -0.856309
         },
         {
          "i": 6.16734e-05,
          "t": 1196.44,
          "v": -0.855878
         },
         {
          "i": 6.18272e-05,
          "t": 1196.45,
          "v": -0.855299
         },
         {
          "i": 6.19075e-05,
          "t": 1196.45,
          "v": -0.854888
         },
         {
          "i": 6.17804e-05,
          "t": 1196.46,
          "v": -0.854328
         },
         {
          "i": 6.15061e-05,
          "t": 1196.46,
          "v": -0.853749
         },
         {
          "i": 6.1185e-05,
          "t": 1196.47,
          "v": -0.85336
         },
         {
          "i": 6.14794e-05,
          "t": 1196.47,
          "v": -0.852799
         },
         {
          "i": 6.11048e-05,
          "t": 1196.48,
          "v": -0.852269
         },
         {
          "i": 6.1379e-05,
          "t": 1196.48,
          "v": -0.851824
         },
         {
          "i": 6.14459e-05,
          "t": 1196.49,
          "v": -0.85128
         },
         {
          "i": 6.16132e-05,
          "t": 1196.49,
          "v": -0.850819
         },
         {
          "i": 6.166e-05,
          "t": 1196.5,
          "v": -0.850287
         },
         {
          "i": 6.1466e-05,
          "t": 1196.51,
          "v": -0.84977
         },
         {
          "i": 6.12452e-05,
          "t": 1196.51,
          "v": -0.849373
         },
         {
          "i": 6.12319e-05,
          "t": 1196.52,
          "v": -0.848798
         },
         {
          "i": 6.11784e-05,
          "t": 1196.52,
          "v": -0.848288
         },
         {
          "i": 6.12185e-05,
          "t": 1196.53,
          "v": -0.847866
         },
         {
          "i": 6.0971e-05,
          "t": 1196.53,
          "v": -0.847302
         },
         {
          "i": 6.08439e-05,
          "t": 1196.54,
          "v": -0.84681
         },
         {
          "i": 6.09777e-05,
          "t": 1196.54,
          "v": -0.84632
         },
         {
          "i": 6.05094e-05,
          "t": 1196.54,
          "v": -0.845781
         },
         {
          "i": 6.05763e-05,
          "t": 1196.55,
          "v": -0.845353
         },
         {
          "i": 6.07837e-05,
          "t": 1196.55,
          "v": -0.844815
         },
         {
          "i": 6.06967e-05,
          "t": 1196.56,
          "v": -0.844291
         },
         {
          "i": 6.07101e-05,
          "t": 1196.56,
          "v": -0.84383
         },
         {
          "i": 6.07436e-05,
          "t": 1196.57,
          "v": -0.843281
         },
         {
          "i": 6.06098e-05,
          "t": 1196.57,
          "v": -0.842844
         },
         {
          "i": 6.05763e-05,
          "t": 1196.58,
          "v": -0.842301
         },
         {
          "i": 6.03422e-05,
          "t": 1196.58,
          "v": -0.841788
         },
         {
          "i": 6.06031e-05,
          "t": 1196.59,
          "v": -0.841362
         },
         {
          "i": 6.05094e-05,
          "t": 1196.59,
          "v": -0.840808
         },
         {
          "i": 6.02285e-05,
          "t": 1196.6,
          "v": -0.840279
         },
         {
          "i": 6.0282e-05,
          "t": 1196.6,
          "v": -0.839832
         },
         {
          "i": 6.01616e-05,
          "t": 1196.61,
          "v": -0.839288
         },
         {
          "i": 5.99542e-05,
          "t": 1196.61,
          "v": -0.838805
         },
         {
          "i": 5.97669e-05,
          "t": 1196.62,
          "v": -0.838287
         },
         {
          "i": 5.97335e-05,
          "t": 1196.63,
          "v": -0.837794
         },
         {
          "i": 5.95328e-05,
          "t": 1196.63,
          "v": -0.837319
         },
         {
          "i": 5.94124e-05,
          "t": 1196.64,
          "v": -0.836796
         },
         {
          "i": 5.96198e-05,
          "t": 1196.64,
          "v": -0.836287
         },
         {
          "i": 5.96198e-05,
          "t": 1196.65,
          "v": -0.835797
         },
         {
          "i": 5.94258e-05,
          "t": 1196.65,
          "v": -0.835283
         },
         {
          "i": 5.93455e-05,
          "t": 1196.66,
          "v": -0.834816
         },
         {
          "i": 5.93455e-05,
          "t": 1196.66,
          "v": -0.834276
         },
         {
          "i": 5.9185e-05,
          "t": 1196.66,
          "v": -0.833796
         },
         {
          "i": 5.92385e-05,
          "t": 1196.67,
          "v": -0.833347
         },
         {
          "i": 5.92853e-05,
          "t": 1196.67,
          "v": -0.832796
         },
         {
          "i": 5.9292e-05,
          "t": 1196.68,
          "v": -0.832281
         },
         {
          "i": 5.9205e-05,
          "t": 1196.68,
          "v": -0.831808
         },
         {
          "i": 5.89174e-05,
          "t": 1196.69,
          "v": -0.831297
         },
         {
          "i": 5.90913e-05,
          "t": 1196.69,
          "v": -0.830922
         },
         {
          "i": 5.8991e-05,
          "t": 1196.7,
          "v": -0.830346
         },
         {
          "i": 5.90646e-05,
          "t": 1196.7,
          "v": -0.829756
         },
         {
          "i": 5.90779e-05,
          "t": 1196.71,
          "v": -0.829395
         },
         {
          "i": 5.89843e-05,
          "t": 1196.71,
          "v": -0.828833
         },
         {
          "i": 5.88505e-05,
          "t": 1196.72,
          "v": -0.828293
         },
         {
          "i": 5.88973e-05,
          "t": 1196.72,
          "v": -0.827845
         },
         {
          "i": 5.85963e-05,
          "t": 1196.73,
          "v": -0.827298
         },
         {
          "i": 5.84559e-05,
          "t": 1196.73,
          "v": -0.826882
         },
         {
          "i": 5.85227e-05,
          "t": 1196.74,
          "v": -0.826304
         },
         {
          "i": 5.86231e-05,
          "t": 1196.74,
          "v": -0.825774
         },
         {
          "i": 5.85361e-05,
          "t": 1196.75,
          "v": -0.825392
         },
         {
          "i": 5.84425e-05,
          "t": 1196.76,
          "v": -0.824802
         },
         {
          "i": 5.82752e-05,
          "t": 1196.76,
          "v": -0.824295
         },
         {
          "i": 5.81682e-05,
          "t": 1196.77,
          "v": -0.823859
         },
         {
          "i": 5.82418e-05,
          "t": 1196.77,
          "v": -0.823299
         },
         {
          "i": 5.81816e-05,
          "t": 1196.78,
          "v": -0.822839
         },
         {
          "i": 5.81816e-05,
          "t": 1196.78,
          "v": -0.822326
         },
         {
          "i": 5.80277e-05,
          "t": 1196.79,
          "v": -0.821803
         },
         {
          "i": 5.80545e-05,
          "t": 1196.79,
          "v": -0.821368
         },
         {
          "i": 5.80478e-05,
          "t": 1196.79,
          "v": -0.820829
         },
         {
          "i": 5.79006e-05,
          "t": 1196.8,
          "v": -0.820313
         },
         {
          "i": 5.76866e-05,
          "t": 1196.8,
          "v": -0.819852
         },
         {
          "i": 5.77334e-05,
          "t": 1196.81,
          "v": -0.819326
         },
         {
          "i": 5.76063e-05,
          "t": 1196.81,
          "v": -0.818849
         },
         {
          "i": 5.72785e-05,
          "t": 1196.82,
          "v": -0.818301
         },
         {
          "i": 5.70912e-05,
          "t": 1196.82,
          "v": -0.817782
         },
         {
          "i": 5.69842e-05,
          "t": 1196.83,
          "v": -0.817365
         },
         {
          "i": 5.70511e-05,
          "t": 1196.83,
          "v": -0.816817
         },
         {
          "i": 5.69374e-05,
          "t": 1196.84,
          "v": -0.816301
         },
         {
          "i": 5.64892e-05,
          "t": 1196.84,
          "v": -0.815849
         },
         {
          "i": 5.68036e-05,
          "t": 1196.85,
          "v": -0.815289
         },
         {
          "i": 5.62551e-05,
          "t": 1196.85,
          "v": -0.814811
         },
         {
          "i": 5.64089e-05,
          "t": 1196.86,
          "v": -0.814317
         },
         {
          "i": 5.64089e-05,
          "t": 1196.86,
          "v": -0.8138
         },
         {
          "i": 5.59742e-05,
          "t": 1196.87,
          "v": -0.813332
         },
         {
          "i": 5.55594e-05,
          "t": 1196.88,
          "v": -0.812815
         },
         {
          "i": 5.51046e-05,
          "t": 1196.88,
          "v": -0.812295
         },
         {
          "i": 5.48102e-05,
          "t": 1196.89,
          "v": -0.811814
         },
         {
          "i": 5.50109e-05,
          "t": 1196.89,
          "v": -0.811293
         },
         {
          "i": 5.55929e-05,
          "t": 1196.9,
          "v": -0.81082
         },
         {
          "i": 5.47701e-05,
          "t": 1196.9,
          "v": -0.810289
         },
         {
          "i": 5.43687e-05,
          "t": 1196.91,
          "v": -0.809798
         },
         {
          "i": 5.45962e-05,
          "t": 1196.91,
          "v": -0.809356
         },
         {
          "i": 5.43821e-05,
          "t": 1196.91,
          "v": -0.808803
         },
         {
          "i": 5.3847e-05,
          "t": 1196.92,
          "v": -0.808286
         },
         {
          "i": 5.38804e-05,
          "t": 1196.92,
          "v": -0.807819
         },
         {
          "i": 5.38403e-05,
          "t": 1196.93,
          "v": -0.807292
         },
         {
          "i": 5.34791e-05,
          "t": 1196.93,
          "v": -0.806803
         },
         {
          "i": 5.36998e-05,
          "t": 1196.94,
          "v": -0.8063
         },
         {
          "i": 5.38336e-05,
          "t": 1196.94,
          "v": -0.805749
         },
         {
          "i": 5.36931e-05,
          "t": 1196.95,
          "v": -0.805422
         },
         {
          "i": 5.31446e-05,
          "t": 1196.95,
          "v": -0.804861
         },
         {
          "i": 5.3071e-05,
          "t": 1196.96,
          "v": -0.804293
         },
         {
          "i": 5.3051e-05,
          "t": 1196.96,
          "v": -0.80387
         },
         {
          "i": 5.29774e-05,
          "t": 1196.97,
          "v": -0.803317
         },
         {
          "i": 5.2663e-05,
          "t": 1196.97,
          "v": -0.802879
         },
         {
          "i": 5.2556e-05,
          "t": 1196.98,
          "v": -0.802333
         },
         {
          "i": 5.24556e-05,
          "t": 1196.98,
          "v": -0.801781
         },
         {
          "i": 5.2576e-05,
          "t": 1196.99,
          "v": -0.801426
         },
         {
          "i": 5.23152e-05,
          "t": 1196.99,
          "v": -0.80083
         },
         {
          "i": 5.22884e-05,
          "t": 1197,
          "v": -0.800321
         },
         {
          "i": 5.22282e-05,
          "t": 1197.01,
          "v": -0.799849
         },
         {
          "i": 5.18135e-05,
          "t": 1197.01,
          "v": -0.799309
         },
         {
          "i": 5.16395e-05,
          "t": 1197.02,
          "v": -0.798873
         },
         {
          "i": 5.13051e-05,
          "t": 1197.02,
          "v": -0.798351
         },
         {
          "i": 5.15392e-05,
          "t": 1197.03,
          "v": -0.797801
         },
         {
          "i": 5.14723e-05,
          "t": 1197.03,
          "v": -0.797387
         },
         {
          "i": 5.15191e-05,
          "t": 1197.04,
          "v": -0.796859
         },
         {
          "i": 5.13653e-05,
          "t": 1197.04,
          "v": -0.796331
         },
         {
          "i": 5.13586e-05,
          "t": 1197.04,
          "v": -0.795869
         },
         {
          "i": 5.11713e-05,
          "t": 1197.05,
          "v": -0.795327
         },
         {
          "i": 5.11312e-05,
          "t": 1197.05,
          "v": -0.794866
         },
         {
          "i": 5.0683e-05,
          "t": 1197.06,
          "v": -0.794352
         },
         {
          "i": 5.08368e-05,
          "t": 1197.06,
          "v": -0.793822
         },
         {
          "i": 5.06362e-05,
          "t": 1197.07,
          "v": -0.793405
         },
         {
          "i": 5.06295e-05,
          "t": 1197.07,
          "v": -0.792875
         },
         {
          "i": 5.05224e-05,
          "t": 1197.08,
          "v": -0.79234
         },
         {
          "i": 5.02616e-05,
          "t": 1197.08,
          "v": -0.791874
         },
         {
          "i": 5.03686e-05,
          "t": 1197.09,
          "v": -0.79133
         },
         {
          "i": 4.9907e-05,
          "t": 1197.09,
          "v": -0.790891
         },
         {
          "i": 5.00676e-05,
          "t": 1197.1,
          "v": -0.790379
         },
         {
          "i": 4.98602e-05,
          "t": 1197.1,
          "v": -0.789833
         },
         {
          "i": 4.99873e-05,
          "t": 1197.11,
          "v": -0.789365
         },
         {
          "i": 4.94254e-05,
          "t": 1197.11,
          "v": -0.788846
         },
         {
          "i": 4.94655e-05,
          "t": 1197.12,
          "v": -0.788345
         },
         {
          "i": 4.92916e-05,
          "t": 1197.13,
          "v": -0.787834
         },
         {
          "i": 4.94254e-05,
          "t": 1197.13,
          "v": -0.787322
         },
         {
          "i": 4.92716e-05,
          "t": 1197.14,
          "v": -0.786848
         },
         {
          "i": 4.89103e-05,
          "t": 1197.14,
          "v": -0.786311
         },
         {
          "i": 4.8703e-05,
          "t": 1197.15,
          "v": -0.785816
         },
         {
          "i": 4.88702e-05,
          "t": 1197.15,
          "v": -0.785365
         },
         {
          "i": 4.84488e-05,
          "t": 1197.16,
          "v": -0.784823
         },
         {
          "i": 4.88301e-05,
          "t": 1197.16,
          "v": -0.784304
         },
         {
          "i": 4.84287e-05,
          "t": 1197.16,
          "v": -0.783823
         },
         {
          "i": 4.82749e-05,
          "t": 1197.17,
          "v": -0.783312
         },
         {
          "i": 4.82414e-05,
          "t": 1197.17,
          "v": -0.782818
         },
         {
          "i": 4.8228e-05,
          "t": 1197.18,
          "v": -0.782316
         },
         {
          "i": 4.80474e-05,
          "t": 1197.18,
          "v": -0.78181
         },
         {
          "i": 4.83016e-05,
          "t": 1197.19,
          "v": -0.781323
         },
         {
          "i": 4.80474e-05,
          "t": 1197.19,
          "v": -0.780811
         },
         {
          "i": 4.78468e-05,
          "t": 1197.2,
          "v": -0.780313
         },
         {
          "i": 4.73785e-05,
          "t": 1197.2,
          "v": -0.779883
         },
         {
          "i": 4.7713e-05,
          "t": 1197.21,
          "v": -0.779317
         },
         {
          "i": 4.75591e-05,
          "t": 1197.21,
          "v": -0.778908
         },
         {
          "i": 4.70507e-05,
          "t": 1197.22,
          "v": -0.778374
         },
         {
          "i": 4.71979e-05,
          "t": 1197.22,
          "v": -0.777813
         },
         {
          "i": 4.6917e-05,
          "t": 1197.23,
          "v": -0.777441
         },
         {
          "i": 4.66828e-05,
          "t": 1197.23,
          "v": -0.776862
         },
         {
          "i": 4.67029e-05,
          "t": 1197.24,
          "v": -0.776352
         },
         {
          "i": 4.66561e-05,
          "t": 1197.24,
          "v": -0.775878
         },
         {
          "i": 4.65223e-05,
          "t": 1197.25,
          "v": -0.775316
         },
         {
          "i": 4.65624e-05,
          "t": 1197.26,
          "v": -0.77486
         },
         {
          "i": 4.63818e-05,
          "t": 1197.26,
          "v": -0.774327
         },
         {
          "i": 4.64621e-05,
          "t": 1197.27,
          "v": -0.773817
         },
         {
          "i": 4.64621e-05,
          "t": 1197.27,
          "v": -0.773396
         },
         {
          "i": 4.62413e-05,
          "t": 1197.28,
          "v": -0.77285
         },
         {
          "i": 4.57129e-05,
          "t": 1197.28,
          "v": -0.772336
         },
         {
          "i": 4.56059e-05,
          "t": 1197.29,
          "v": -0.771856
         },
         {
          "i": 4.54922e-05,
          "t": 1197.29,
          "v": -0.771329
         },
         {
          "i": 4.55524e-05,
          "t": 1197.29,
          "v": -0.770883
         },
         {
          "i": 4.55457e-05,
          "t": 1197.3,
          "v": -0.770354
         },
         {
          "i": 4.53717e-05,
          "t": 1197.3,
          "v": -0.769825
         },
         {
          "i": 4.54253e-05,
          "t": 1197.31,
          "v": -0.769417
         },
         {
          "i": 4.53182e-05,
          "t": 1197.31,
          "v": -0.768862
         },
         {
          "i": 4.54386e-05,
          "t": 1197.32,
          "v": -0.768358
         },
         {
          "i": 4.55055e-05,
          "t": 1197.32,
          "v": -0.767899
         },
         {
          "i": 4.54654e-05,
          "t": 1197.33,
          "v": -0.767312
         },
         {
          "i": 4.53851e-05,
          "t": 1197.33,
          "v": -0.766852
         },
         {
          "i": 4.50908e-05,
          "t": 1197.34,
          "v": -0.766332
         },
         {
          "i": 4.50707e-05,
          "t": 1197.34,
          "v": -0.765786
         },
         {
          "i": 4.49905e-05,
          "t": 1197.35,
          "v": -0.765365
         },
         {
          "i": 4.48032e-05,
          "t": 1197.35,
          "v": -0.76484
         },
         {
          "i": 4.46359e-05,
          "t": 1197.36,
          "v": -0.764313
         },
         {
          "i": 4.46961e-05,
          "t": 1197.36,
          "v": -0.763825
         },
         {
          "i": 4.45824e-05,
          "t": 1197.37,
          "v": -0.7633
         },
         {
          "i": 4.43349e-05,
          "t": 1197.38,
          "v": -0.762839
         },
         {
          "i": 4.44687e-05,
          "t": 1197.38,
          "v": -0.762299
         },
         {
          "i": 4.4161e-05,
          "t": 1197.39,
          "v": -0.761792
         },
         {
          "i": 4.41944e-05,
          "t": 1197.39,
          "v": -0.761366
         },
         {
          "i": 4.4054e-05,
          "t": 1197.4,
          "v": -0.760804
         },
         {
          "i": 4.39068e-05,
          "t": 1197.4,
          "v": -0.760296
         },
         {
          "i": 4.38934e-05,
          "t": 1197.41,
          "v": -0.759824
         },
         {
          "i": 4.37463e-05,
          "t": 1197.41,
          "v": -0.759299
         },
         {
          "i": 4.3773e-05,
          "t": 1197.41,
          "v": -0.758802
         },
         {
          "i": 4.39403e-05,
          "t": 1197.42,
          "v": -0.758299
         },
         {
          "i": 4.38533e-05,
          "t": 1197.42,
          "v": -0.757801
         },
         {
          "i": 4.36125e-05,
          "t": 1197.43,
          "v": -0.757315
         },
         {
          "i": 4.37195e-05,
          "t": 1197.43,
          "v": -0.756786
         },
         {
          "i": 4.37061e-05,
          "t": 1197.44,
          "v": -0.756297
         },
         {
          "i": 4.36125e-05,
          "t": 1197.44,
          "v": -0.755809
         },
         {
          "i": 4.35389e-05,
          "t": 1197.45,
          "v": -0.755307
         },
         {
          "i": 4.34854e-05,
          "t": 1197.45,
          "v": -0.754865
         },
         {
          "i": 4.34787e-05,
          "t": 1197.46,
          "v": -0.754374
         },
         {
          "i": 4.33784e-05,
          "t": 1197.46,
          "v": -0.753789
         },
         {
          "i": 4.31242e-05,
          "t": 1197.47,
          "v": -0.753435
         },
         {
          "i": 4.33182e-05,
          "t": 1197.47,
          "v": -0.752865
         },
         {
          "i": 4.32178e-05,
          "t": 1197.48,
          "v": -0.752361
         },
         {
          "i": 4.3171e-05,
          "t": 1197.48,
          "v": -0.751885
         },
         {
          "i": 4.30974e-05,
          "t": 1197.49,
          "v": -0.751312
         },
         {
          "i": 4.31643e-05,
          "t": 1197.49,
          "v": -0.75089
         },
         {
          "i": 4.28834e-05,
          "t": 1197.5,
          "v": -0.75035
         },
         {
          "i": 4.28566e-05,
          "t": 1197.51,
          "v": -0.749791
         },
         {
          "i": 4.29369e-05,
          "t": 1197.51,
          "v": -0.749349
         },
         {
          "i": 4.28365e-05,
          "t": 1197.52,
          "v": -0.748805
         },
         {
          "i": 4.27964e-05,
          "t": 1197.52,
          "v": -0.748313
         },
         {
          "i": 4.28432e-05,
          "t": 1197.53,
          "v": -0.747833
         },
         {
          "i": 4.24218e-05,
          "t": 1197.53,
          "v": -0.747311
         },
         {
          "i": 4.2395e-05,
          "t": 1197.54,
          "v": -0.746873
         },
         {
          "i": 4.26626e-05,
          "t": 1197.54,
          "v": -0.746334
         },
         {
          "i": 4.2288e-05,
          "t": 1197.54,
          "v": -0.745804
         },
         {
          "i": 4.24753e-05,
          "t": 1197.55,
          "v": -0.745416
         },
         {
          "i": 4.26091e-05,
          "t": 1197.55,
          "v": -0.744839
         },
         {
          "i": 4.23482e-05,
          "t": 1197.56,
          "v": -0.744328
         },
         {
          "i": 4.21141e-05,
          "t": 1197.56,
          "v": -0.743886
         },
         {
          "i": 4.20673e-05,
          "t": 1197.57,
          "v": -0.743317
         },
         {
          "i": 4.19469e-05,
          "t": 1197.57,
          "v": -0.742866
         },
         {
          "i": 4.22813e-05,
          "t": 1197.58,
          "v": -0.742352
         },
         {
          "i": 4.21743e-05,
          "t": 1197.58,
          "v": -0.741825
         },
         {
          "i": 4.1793e-05,
          "t": 1197.59,
          "v": -0.741385
         },
         {
          "i": 4.19669e-05,
          "t": 1197.59,
          "v": -0.74084
         },
         {
          "i": 4.17663e-05,
          "t": 1197.6,
          "v": -0.740328
         },
         {
          "i": 4.20807e-05,
          "t": 1197.6,
          "v": -0.739837
         },
         {
          "i": 4.17729e-05,
          "t": 1197.61,
          "v": -0.739318
         },
         {
          "i": 4.13984e-05,
          "t": 1197.61,
          "v": -0.738878
         },
         {
          "i": 4.14318e-05,
          "t": 1197.62,
          "v": -0.738324
         },
         {
          "i": 4.14786e-05,
          "t": 1197.63,
          "v": -0.737804
         },
         {
          "i": 4.12713e-05,
          "t": 1197.63,
          "v": -0.737386
         },
         {
          "i": 4.12177e-05,
          "t": 1197.64,
          "v": -0.736827
         },
         {
          "i": 4.09234e-05,
          "t": 1197.64,
          "v": -0.736324
         },
         {
          "i": 4.08632e-05,
          "t": 1197.65,
          "v": -0.735847
         },
         {
          "i": 4.10037e-05,
          "t": 1197.65,
          "v": -0.735309
         },
         {
          "i": 4.09502e-05,
          "t": 1197.66,
          "v": -0.734835
         },
         {
          "i": 4.05956e-05,
          "t": 1197.66,
          "v": -0.734328
         },
         {
          "i": 4.07495e-05,
          "t": 1197.66,
          "v": -0.733825
         },
         {
          "i": 4.04552e-05,
          "t": 1197.67,
          "v": -0.733314
         },
         {
          "i": 4.02746e-05,
          "t": 1197.67,
          "v": -0.732822
         },
         {
          "i": 4.02344e-05,
          "t": 1197.68,
          "v": -0.732311
         },
         {
          "i": 4.05087e-05,
          "t": 1197.68,
          "v": -0.731818
         },
         {
          "i": 4.06492e-05,
          "t": 1197.69,
          "v": -0.731311
         },
         {
          "i": 4.02879e-05,
          "t": 1197.69,
          "v": -0.73085
         },
         {
          "i": 3.98531e-05,
          "t": 1197.7,
          "v": -0.730303
         },
         {
          "i": 3.97929e-05,
          "t": 1197.7,
          "v": -0.729812
         },
         {
          "i": 3.96859e-05,
          "t": 1197.71,
          "v": -0.729387
         },
         {
          "i": 3.96993e-05,
          "t": 1197.71,
          "v": -0.728875
         },
         {
          "i": 3.93581e-05,
          "t": 1197.72,
          "v": -0.728416
         },
         {
          "i": 3.92244e-05,
          "t": 1197.72,
          "v": -0.72792
         },
         {
          "i": 3.92043e-05,
          "t": 1197.73,
          "v": -0.727318
         },
         {
          "i": 3.92444e-05,
          "t": 1197.73,
          "v": -0.726963
         },
         {
          "i": 3.91909e-05,
          "t": 1197.74,
          "v": -0.726373
         },
         {
          "i": 3.88631e-05,
          "t": 1197.74,
          "v": -0.725796
         },
         {
          "i": 3.89835e-05,
          "t": 1197.75,
          "v": -0.725399
         },
         {
          "i": 3.92377e-05,
          "t": 1197.76,
          "v": -0.724846
         },
         {
          "i": 3.86424e-05,
          "t": 1197.76,
          "v": -0.724352
         },
         {
          "i": 3.86892e-05,
          "t": 1197.77,
          "v": -0.723844
         },
         {
          "i": 3.83815e-05,
          "t": 1197.77,
          "v": -0.723312
         },
         {
          "i": 3.83347e-05,
          "t": 1197.78,
          "v": -0.722913
         },
         {
          "i": 3.83481e-05,
          "t": 1197.78,
          "v": -0.722324
         },
         {
          "i": 3.86424e-05,
          "t": 1197.79,
          "v": -0.721814
         },
         {
          "i": 3.8027e-05,
          "t": 1197.79,
          "v": -0.721422
         },
         {
          "i": 3.82946e-05,
          "t": 1197.79,
          "v": -0.720833
         },
         {
          "i": 3.8221e-05,
          "t": 1197.8,
          "v": -0.720338
         },
         {
          "i": 3.83748e-05,
          "t": 1197.8,
          "v": -0.719885
         },
         {
          "i": 3.76992e-05,
          "t": 1197.81,
          "v": -0.719329
         },
         {
          "i": 3.78598e-05,
          "t": 1197.81,
          "v": -0.718875
         },
         {
          "i": 3.80002e-05,
          "t": 1197.82,
          "v": -0.718356
         },
         {
          "i": 3.75186e-05,
          "t": 1197.82,
          "v": -0.717822
         },
         {
          "i": 3.77126e-05,
          "t": 1197.83,
          "v": -0.717386
         },
         {
          "i": 3.75521e-05,
          "t": 1197.83,
          "v": -0.716862
         },
         {
          "i": 3.76725e-05,
          "t": 1197.84,
          "v": -0.71633
         },
         {
          "i": 3.73581e-05,
          "t": 1197.84,
          "v": -0.715843
         },
         {
          "i": 3.72912e-05,
          "t": 1197.85,
          "v": -0.715301
         },
         {
          "i": 3.74116e-05,
          "t": 1197.85,
          "v": -0.714881
         },
         {
          "i": 3.73246e-05,
          "t": 1197.86,
          "v": -0.714319
         },
         {
          "i": 3.71507e-05,
          "t": 1197.86,
          "v": -0.713806
         },
         {
          "i": 3.71975e-05,
          "t": 1197.87,
          "v": -0.713386
         },
         {
          "i": 3.72377e-05,
          "t": 1197.88,
          "v": -0.712822
         },
         {
          "i": 3.70303e-05,
          "t": 1197.88,
          "v": -0.712302
         },
         {
          "i": 3.70771e-05,
          "t": 1197.89,
          "v": -0.71184
         },
         {
          "i": 3.67293e-05,
          "t": 1197.89,
          "v": -0.711299
         },
         {
          "i": 3.7445e-05,
          "t": 1197.9,
          "v": -0.710831
         },
         {
          "i": 3.71708e-05,
          "t": 1197.9,
          "v": -0.710316
         },
         {
          "i": 3.68831e-05,
          "t": 1197.91,
          "v": -0.709815
         },
         {
          "i": 3.66758e-05,
          "t": 1197.91,
          "v": -0.70934
         },
         {
          "i": 3.64483e-05,
          "t": 1197.91,
          "v": -0.708809
         },
         {
          "i": 3.66289e-05,
          "t": 1197.92,
          "v": -0.708296
         },
         {
          "i": 3.63547e-05,
          "t": 1197.92,
          "v": -0.707822
         },
         {
          "i": 3.64684e-05,
          "t": 1197.93,
          "v": -0.707304
         },
         {
          "i": 3.63614e-05,
          "t": 1197.93,
          "v": -0.706844
         },
         {
          "i": 3.6435e-05,
          "t": 1197.94,
          "v": -0.706302
         },
         {
          "i": 3.61674e-05,
          "t": 1197.94,
          "v": -0.705804
         },
         {
          "i": 3.62945e-05,
          "t": 1197.95,
          "v": -0.705368
         },
         {
          "i": 3.62008e-05,
          "t": 1197.95,
          "v": -0.70481
         },
         {
          "i": 3.6435e-05,
          "t": 1197.96,
          "v": -0.704293
         },
         {
          "i": 3.62544e-05,
          "t": 1197.96,
          "v": -0.703822
         },
         {
          "i": 3.62209e-05,
          "t": 1197.97,
          "v": -0.703308
         },
         {
          "i": 3.62142e-05,
          "t": 1197.97,
          "v": -0.702959
         },
         {
          "i": 3.60202e-05,
          "t": 1197.98,
          "v": -0.702372
         },
         {
          "i": 3.59199e-05,
          "t": 1197.98,
          "v": -0.701773
         },
         {
          "i": 3.57192e-05,
          "t": 1197.99,
          "v": -0.70142
         },
         {
          "i": 3.55252e-05,
          "t": 1197.99,
          "v": -0.700856
         },
         {
          "i": 3.56791e-05,
          "t": 1198,
          "v": -0.700324
         },
         {
          "i": 3.56055e-05,
          "t": 1198.01,
          "v": -0.699856
         },
         {
          "i": 3.53981e-05,
          "t": 1198.01,
          "v": -0.699311
         },
         {
          "i": 3.53914e-05,
          "t": 1198.02,
          "v": -0.698925
         },
         {
          "i": 3.53714e-05,
          "t": 1198.02,
          "v": -0.69832
         },
         {
          "i": 3.54583e-05,
          "t": 1198.03,
          "v": -0.697804
         },
         {
          "i": 3.52777e-05,
          "t": 1198.03,
          "v": -0.697393
         },
         {
          "i": 3.52844e-05,
          "t": 1198.04,
          "v": -0.696817
         },
         {
          "i": 3.5164e-05,
          "t": 1198.04,
          "v": -0.696323
         },
         {
          "i": 3.51306e-05,
          "t": 1198.04,
          "v": -0.695889
         },
         {
          "i": 3.52376e-05,
          "t": 1198.05,
          "v": -0.695322
         },
         {
          "i": 3.51506e-05,
          "t": 1198.05,
          "v": -0.694867
         },
         {
          "i": 3.50369e-05,
          "t": 1198.06,
          "v": -0.694363
         },
         {
          "i": 3.49834e-05,
          "t": 1198.06,
          "v": -0.693801
         },
         {
          "i": 3.4562e-05,
          "t": 1198.07,
          "v": -0.693383
         },
         {
          "i": 3.48697e-05,
          "t": 1198.07,
          "v": -0.69285
         },
         {
          "i": 3.46088e-05,
          "t": 1198.08,
          "v": -0.692352
         },
         {
          "i": 3.48229e-05,
          "t": 1198.08,
          "v": -0.691869
         },
         {
          "i": 3.45486e-05,
          "t": 1198.09,
          "v": -0.69133
         },
         {
          "i": 3.44148e-05,
          "t": 1198.09,
          "v": -0.690893
         },
         {
          "i": 3.43078e-05,
          "t": 1198.1,
          "v": -0.690369
         },
         {
          "i": 3.43412e-05,
          "t": 1198.1,
          "v": -0.689814
         },
         {
          "i": 3.40068e-05,
          "t": 1198.11,
          "v": -0.68942
         },
         {
          "i": 3.40937e-05,
          "t": 1198.11,
          "v": -0.688848
         },
         {
          "i": 3.40536e-05,
          "t": 1198.12,
          "v": -0.688331
         },
         {
          "i": 3.41272e-05,
          "t": 1198.13,
          "v": -0.687883
         },
         {
          "i": 3.41941e-05,
          "t": 1198.13,
          "v": -0.68732
         },
         {
          "i": 3.44014e-05,
          "t": 1198.14,
          "v": -0.686861
         },
         {
          "i": 3.43345e-05,
          "t": 1198.14,
          "v": -0.686343
         },
         {
          "i": 3.43078e-05,
          "t": 1198.15,
          "v": -0.685827
         },
         {
          "i": 3.43412e-05,
          "t": 1198.15,
          "v": -0.68535
         },
         {
          "i": 3.42208e-05,
          "t": 1198.16,
          "v": -0.684831
         },
         {
          "i": 3.41472e-05,
          "t": 1198.16,
          "v": -0.684341
         },
         {
          "i": 3.40268e-05,
          "t": 1198.16,
          "v": -0.683829
         },
         {
          "i": 3.39399e-05,
          "t": 1198.17,
          "v": -0.683317
         },
         {
          "i": 3.37927e-05,
          "t": 1198.17,
          "v": -0.68287
         },
         {
          "i": 3.36322e-05,
          "t": 1198.18,
          "v": -0.682303
         },
         {
          "i": 3.37593e-05,
          "t": 1198.18,
          "v": -0.681817
         },
         {
          "i": 3.35452e-05,
          "t": 1198.19,
          "v": -0.681379
         },
         {
          "i": 3.35653e-05,
          "t": 1198.19,
          "v": -0.680822
         },
         {
          "i": 3.37459e-05,
          "t": 1198.2,
          "v": -0.680309
         },
         {
          "i": 3.3786e-05,
          "t": 1198.2,
          "v": -0.679828
         },
         {
          "i": 3.33914e-05,
          "t": 1198.21,
          "v": -0.679324
         },
         {
          "i": 3.3572e-05,
          "t": 1198.21,
          "v": -0.67883
         },
         {
          "i": 3.34382e-05,
          "t": 1198.22,
          "v": -0.678315
         },
         {
          "i": 3.33646e-05,
          "t": 1198.22,
          "v": -0.677777
         },
         {
          "i": 3.32375e-05,
          "t": 1198.23,
          "v": -0.677434
         },
         {
          "i": 3.34114e-05,
          "t": 1198.23,
          "v": -0.676876
         },
         {
          "i": 3.3592e-05,
          "t": 1198.24,
          "v": -0.676368
         },
         {
          "i": 3.3291e-05,
          "t": 1198.24,
          "v": -0.675889
         },
         {
          "i": 3.3271e-05,
          "t": 1198.25,
          "v": -0.675321
         },
         {
          "i": 3.31238e-05,
          "t": 1198.26,
          "v": -0.674942
         },
         {
          "i": 3.32174e-05,
          "t": 1198.26,
          "v": -0.674354
         },
         {
          "i": 3.31773e-05,
          "t": 1198.27,
          "v": -0.673813
         },
         {
          "i": 3.29097e-05,
          "t": 1198.27,
          "v": -0.673448
         },
         {
          "i": 3.28094e-05,
          "t": 1198.28,
          "v": -0.672841
         },
         {
          "i": 3.2796e-05,
          "t": 1198.28,
          "v": -0.672343
         },
         {
          "i": 3.25285e-05,
          "t": 1198.29,
          "v": -0.671853
         },
         {
          "i": 3.25418e-05,
          "t": 1198.29,
          "v": -0.671313
         },
         {
          "i": 3.23412e-05,
          "t": 1198.29,
          "v": -0.670892
         },
         {
          "i": 3.23278e-05,
          "t": 1198.3,
          "v": -0.670353
         },
         {
          "i": 3.23478e-05,
          "t": 1198.3,
          "v": -0.669825
         },
         {
          "i": 3.23144e-05,
          "t": 1198.31,
          "v": -0.66939
         },
         {
          "i": 3.22876e-05,
          "t": 1198.31,
          "v": -0.668856
         },
         {
          "i": 3.21672e-05,
          "t": 1198.32,
          "v": -0.668355
         },
         {
          "i": 3.21271e-05,
          "t": 1198.32,
          "v": -0.667871
         },
         {
          "i": 3.2107e-05,
          "t": 1198.33,
          "v": -0.667338
         },
         {
          "i": 3.21338e-05,
          "t": 1198.33,
          "v": -0.666923
         },
         {
          "i": 3.19398e-05,
          "t": 1198.34,
          "v": -0.666357
         },
         {
          "i": 3.21539e-05,
          "t": 1198.34,
          "v": -0.665833
         },
         {
          "i": 3.18395e-05,
          "t": 1198.35,
          "v": -0.665428
         },
         {
          "i": 3.19465e-05,
          "t": 1198.35,
          "v": -0.664831
         },
         {
          "i": 3.17258e-05,
          "t": 1198.36,
          "v": -0.66429
         },
         {
          "i": 3.17993e-05,
          "t": 1198.36,
          "v": -0.663857
         },
         {
          "i": 3.16321e-05,
          "t": 1198.37,
          "v": -0.663293
         },
         {
          "i": 3.16589e-05,
          "t": 1198.38,
          "v": -0.662829
         },
         {
          "i": 3.13645e-05,
          "t": 1198.38,
          "v": -0.66233
         },
         {
          "i": 3.09899e-05,
          "t": 1198.39,
          "v": -0.661798
         },
         {
          "i": 3.13043e-05,
          "t": 1198.39,
          "v": -0.661344
         },
         {
          "i": 3.10903e-05,
          "t": 1198.4,
          "v": -0.660807
         },
         {
          "i": 3.11438e-05,
          "t": 1198.4,
          "v": -0.660307
         },
         {
          "i": 3.13512e-05,
          "t": 1198.41,
          "v": -0.659819
         },
         {
          "i": 3.101e-05,
          "t": 1198.41,
          "v": -0.659301
         },
         {
          "i": 3.08963e-05,
          "t": 1198.41,
          "v": -0.658843
         },
         {
          "i": 3.08829e-05,
          "t": 1198.42,
          "v": -0.658289
         },
         {
          "i": 3.09899e-05,
          "t": 1198.42,
          "v": -0.657803
         },
         {
          "i": 3.10234e-05,
          "t": 1198.43,
          "v": -0.657356
         },
         {
          "i": 3.1117e-05,
          "t": 1198.43,
          "v": -0.656799
         },
         {
          "i": 3.08495e-05,
          "t": 1198.44,
          "v": -0.656296
         },
         {
          "i": 3.08562e-05,
          "t": 1198.44,
          "v": -0.65582
         },
         {
          "i": 3.0923e-05,
          "t": 1198.45,
          "v": -0.655295
         },
         {
          "i": 3.08695e-05,
          "t": 1198.45,
          "v": -0.654805
         },
         {
          "i": 3.06755e-05,
          "t": 1198.46,
          "v": -0.654284
         },
         {
          "i": 3.09097e-05,
          "t": 1198.46,
          "v": -0.6538
         },
         {
          "i": 3.06421e-05,
          "t": 1198.47,
          "v": -0.653309
         },
         {
          "i": 3.02407e-05,
          "t": 1198.47,
          "v": -0.652792
         },
         {
          "i": 3.04615e-05,
          "t": 1198.48,
          "v": -0.652278
         },
         {
          "i": 3.07157e-05,
          "t": 1198.48,
          "v": -0.651866
         },
         {
          "i": 3.03478e-05,
          "t": 1198.49,
          "v": -0.651322
         },
         {
          "i": 3.00267e-05,
          "t": 1198.49,
          "v": -0.650868
         },
         {
          "i": 3.07759e-05,
          "t": 1198.5,
          "v": -0.650342
         },
         {
          "i": 3.04816e-05,
          "t": 1198.51,
          "v": -0.649795
         },
         {
          "i": 3.04147e-05,
          "t": 1198.51,
          "v": -0.649438
         },
         {
          "i": 3.00267e-05,
          "t": 1198.52,
          "v": -0.648826
         },
         {
          "i": 3.01605e-05,
          "t": 1198.52,
          "v": -0.648328
         },
         {
          "i": 3.0321e-05,
          "t": 1198.53,
          "v": -0.647879
         },
         {
          "i": 3.0301e-05,
          "t": 1198.53,
          "v": -0.647295
         },
         {
          "i": 2.9933e-05,
          "t": 1198.54,
          "v": -0.646845
         },
         {
          "i": 2.96855e-05,
          "t": 1198.54,
          "v": -0.646312
         },
         {
          "i": 2.97391e-05,
          "t": 1198.54,
          "v": -0.645788
         },
         {
          "i": 2.9826e-05,
          "t": 1198.55,
          "v": -0.645384
         },
         {
          "i": 2.97324e-05,
          "t": 1198.55,
          "v": -0.644822
         },
         {
          "i": 2.98728e-05,
          "t": 1198.56,
          "v": -0.644312
         },
         {
          "i": 2.98126e-05,
          "t": 1198.56,
          "v": -0.643856
         },
         {
          "i": 2.97391e-05,
          "t": 1198.57,
          "v": -0.643319
         },
         {
          "i": 2.94916e-05,
          "t": 1198.57,
          "v": -0.642865
         },
         {
          "i": 2.93979e-05,
          "t": 1198.58,
          "v": -0.642329
         },
         {
          "i": 2.95317e-05,
          "t": 1198.58,
          "v": -0.641816
         },
         {
          "i": 2.98394e-05,
          "t": 1198.59,
          "v": -0.641394
         },
         {
          "i": 3.01203e-05,
          "t": 1198.59,
          "v": -0.640831
         },
         {
          "i": 2.98461e-05,
          "t": 1198.6,
          "v": -0.640326
         },
         {
          "i": 2.96454e-05,
          "t": 1198.6,
          "v": -0.639883
         },
         {
          "i": 2.96387e-05,
          "t": 1198.61,
          "v": -0.639321
         },
         {
          "i": 2.97591e-05,
          "t": 1198.61,
          "v": -0.638876
         },
         {
          "i": 2.93645e-05,
          "t": 1198.62,
          "v": -0.638343
         },
         {
          "i": 2.91571e-05,
          "t": 1198.63,
          "v": -0.637817
         },
         {
          "i": 2.89497e-05,
          "t": 1198.63,
          "v": -0.637374
         },
         {
          "i": 2.90166e-05,
          "t": 1198.64,
          "v": -0.636847
         },
         {
          "i": 2.8836e-05,
          "t": 1198.64,
          "v": -0.636328
         },
         {
          "i": 2.88026e-05,
          "t": 1198.65,
          "v": -0.635827
         },
         {
          "i": 2.90099e-05,
          "t": 1198.65,
          "v": -0.635314
         },
         {
          "i": 2.90166e-05,
          "t": 1198.66,
          "v": -0.634866
         },
         {
          "i": 2.89364e-05,
          "t": 1198.66,
          "v": -0.63431
         },
         {
          "i": 2.91504e-05,
          "t": 1198.66,
          "v": -0.633818
         },
         {
          "i": 2.90501e-05,
          "t": 1198.67,
          "v": -0.633377
         },
         {
          "i": 2.90434e-05,
          "t": 1198.67,
          "v": -0.632819
         },
         {
          "i": 2.86554e-05,
          "t": 1198.68,
          "v": -0.632316
         },
         {
          "i": 2.84079e-05,
          "t": 1198.68,
          "v": -0.631831
         },
         {
          "i": 2.82273e-05,
          "t": 1198.69,
          "v": -0.631314
         },
         {
          "i": 2.81805e-05,
          "t": 1198.69,
          "v": -0.630823
         },
         {
          "i": 2.82541e-05,
          "t": 1198.7,
          "v": -0.63031
         },
         {
          "i": 2.82206e-05,
          "t": 1198.7,
          "v": -0.629813
         },
         {
          "i": 2.84748e-05,
          "t": 1198.71,
          "v": -0.629331
         },
         {
          "i": 2.85216e-05,
          "t": 1198.71,
          "v": -0.628824
         },
         {
          "i": 2.85484e-05,
          "t": 1198.72,
          "v": -0.628311
         },
         {
          "i": 2.83678e-05,
          "t": 1198.72,
          "v": -0.627818
         },
         {
          "i": 2.82139e-05,
          "t": 1198.73,
          "v": -0.627328
         },
         {
          "i": 2.8448e-05,
          "t": 1198.73,
          "v": -0.626855
         },
         {
          "i": 2.83276e-05,
          "t": 1198.74,
          "v": -0.626332
         },
         {
          "i": 2.81336e-05,
          "t": 1198.74,
          "v": -0.625821
         },
         {
          "i": 2.82607e-05,
          "t": 1198.75,
          "v": -0.625446
         },
         {
          "i": 2.83009e-05,
          "t": 1198.76,
          "v": -0.624855
         },
         {
          "i": 2.81604e-05,
          "t": 1198.76,
          "v": -0.624394
         },
         {
          "i": 2.83143e-05,
          "t": 1198.77,
          "v": -0.623901
         },
         {
          "i": 2.82072e-05,
          "t": 1198.77,
          "v": -0.623322
         },
         {
          "i": 2.83678e-05,
          "t": 1198.78,
          "v": -0.622903
         },
         {
          "i": 2.81336e-05,
          "t": 1198.78,
          "v": -0.622341
         },
         {
          "i": 2.80601e-05,
          "t": 1198.79,
          "v": -0.621814
         },
         {
          "i": 2.80132e-05,
          "t": 1198.79,
          "v": -0.621393
         },
         {
          "i": 2.80601e-05,
          "t": 1198.79,
          "v": -0.620816
         },
         {
          "i": 2.80935e-05,
          "t": 1198.8,
          "v": -0.620342
         },
         {
          "i": 2.80467e-05,
          "t": 1198.8,
          "v": -0.619846
         },
         {
          "i": 2.7846e-05,
          "t": 1198.81,
          "v": -0.619321
         },
         {
          "i": 2.7739e-05,
          "t": 1198.81,
          "v": -0.618887
         },
         {
          "i": 2.79196e-05,
          "t": 1198.82,
          "v": -0.618339
         },
         {
          "i": 2.80467e-05,
          "t": 1198.82,
          "v": -0.61781
         },
         {
          "i": 2.78193e-05,
          "t": 1198.83,
          "v": -0.617424
         },
         {
          "i": 2.76186e-05,
          "t": 1198.83,
          "v": -0.616849
         },
         {
          "i": 2.76988e-05,
          "t": 1198.84,
          "v": -0.616347
         },
         {
          "i": 2.77256e-05,
          "t": 1198.84,
          "v": -0.615891
         },
         {
          "i": 2.75316e-05,
          "t": 1198.85,
          "v": -0.615324
         },
         {
          "i": 2.77189e-05,
          "t": 1198.85,
          "v": -0.614881
         },
         {
          "i": 2.76453e-05,
          "t": 1198.86,
          "v": -0.614362
         },
         {
          "i": 2.75049e-05,
          "t": 1198.86,
          "v": -0.613814
         },
         {
          "i": 2.74915e-05,
          "t": 1198.87,
          "v": -0.6134
         },
         {
          "i": 2.74447e-05,
          "t": 1198.88,
          "v": -0.61284
         },
         {
          "i": 2.77122e-05,
          "t": 1198.88,
          "v": -0.612326
         },
         {
          "i": 2.75918e-05,
          "t": 1198.89,
          "v": -0.611849
         },
         {
          "i": 2.77457e-05,
          "t": 1198.89,
          "v": -0.611313
         },
         {
          "i": 2.75918e-05,
          "t": 1198.9,
          "v": -0.610875
         },
         {
          "i": 2.74848e-05,
          "t": 1198.9,
          "v": -0.610331
         },
         {
          "i": 2.76788e-05,
          "t": 1198.91,
          "v": -0.609833
         },
         {
          "i": 2.75851e-05,
          "t": 1198.91,
          "v": -0.609388
         },
         {
          "i": 2.74781e-05,
          "t": 1198.91,
          "v": -0.608827
         },
         {
          "i": 2.74714e-05,
          "t": 1198.92,
          "v": -0.608313
         },
         {
          "i": 2.75784e-05,
          "t": 1198.92,
          "v": -0.607844
         },
         {
          "i": 2.74915e-05,
          "t": 1198.93,
          "v": -0.607311
         },
         {
          "i": 2.75383e-05,
          "t": 1198.93,
          "v": -0.606823
         },
         {
          "i": 2.73911e-05,
          "t": 1198.94,
          "v": -0.606326
         },
         {
          "i": 2.73242e-05,
          "t": 1198.94,
          "v": -0.605813
         },
         {
          "i": 2.75718e-05,
          "t": 1198.95,
          "v": -0.60534
         },
         {
          "i": 2.73042e-05,
          "t": 1198.95,
          "v": -0.604819
         },
         {
          "i": 2.72975e-05,
          "t": 1198.96,
          "v": -0.604316
         },
         {
          "i": 2.71236e-05,
          "t": 1198.96,
          "v": -0.603818
         },
         {
          "i": 2.73644e-05,
          "t": 1198.97,
          "v": -0.603326
         },
         {
          "i": 2.72841e-05,
          "t": 1198.97,
          "v": -0.602865
         },
         {
          "i": 2.70099e-05,
          "t": 1198.98,
          "v": -0.602313
         },
         {
          "i": 2.72239e-05,
          "t": 1198.98,
          "v": -0.601814
         },
         {
          "i": 2.72707e-05,
          "t": 1198.99,
          "v": -0.601382
         },
         {
          "i": 2.71972e-05,
          "t": 1198.99,
          "v": -0.600859
         },
         {
          "i": 2.70032e-05,
          "t": 1199,
          "v": -0.600452
         },
         {
          "i": 2.69831e-05,
          "t": 1199.01,
          "v": -0.599905
         },
         {
          "i": 2.70032e-05,
          "t": 1199.01,
          "v": -0.599319
         },
         {
          "i": 2.71102e-05,
          "t": 1199.02,
          "v": -0.598959
         },
         {
          "i": 2.70433e-05,
          "t": 1199.02,
          "v": -0.59838
         },
         {
          "i": 2.70567e-05,
          "t": 1199.03,
          "v": -0.597808
         },
         {
          "i": 2.71972e-05,
          "t": 1199.03,
          "v": -0.597417
         },
         {
          "i": 2.70634e-05,
          "t": 1199.04,
          "v": -0.596849
         },
         {
          "i": 2.72507e-05,
          "t": 1199.04,
          "v": -0.596332
         },
         {
          "i": 2.70299e-05,
          "t": 1199.04,
          "v": -0.595869
         },
         {
          "i": 2.73242e-05,
          "t": 1199.05,
          "v": -0.595313
         },
         {
          "i": 2.71503e-05,
          "t": 1199.05,
          "v": -0.594902
         },
         {
          "i": 2.72105e-05,
          "t": 1199.06,
          "v": -0.594324
         },
         {
          "i": 2.72774e-05,
          "t": 1199.06,
          "v": -0.59381
         },
         {
          "i": 2.70567e-05,
          "t": 1199.07,
          "v": -0.593429
         },
         {
          "i": 2.71838e-05,
          "t": 1199.07,
          "v": -0.592834
         },
         {
          "i": 2.70901e-05,
          "t": 1199.08,
          "v": -0.592341
         },
         {
          "i": 2.70701e-05,
          "t": 1199.08,
          "v": -0.591899
         },
         {
          "i": 2.69296e-05,
          "t": 1199.09,
          "v": -0.591335
         },
         {
          "i": 2.70032e-05,
          "t": 1199.09,
          "v": -0.590901
         },
         {
          "i": 2.67824e-05,
          "t": 1199.1,
          "v": -0.590355
         },
         {
          "i": 2.68895e-05,
          "t": 1199.1,
          "v": -0.589822
         },
         {
          "i": 2.69296e-05,
          "t": 1199.11,
          "v": -0.589399
         },
         {
          "i": 2.68895e-05,
          "t": 1199.11,
          "v": -0.588866
         },
         {
          "i": 2.69363e-05,
          "t": 1199.12,
          "v": -0.588377
         },
         {
          "i": 2.68694e-05,
          "t": 1199.13,
          "v": -0.58789
         },
         {
          "i": 2.70032e-05,
          "t": 1199.13,
          "v": -0.587336
         },
         {
          "i": 2.68159e-05,
          "t": 1199.14,
          "v": -0.586888
         },
         {
          "i": 2.66821e-05,
          "t": 1199.14,
          "v": -0.58636
         },
         {
          "i": 2.6856e-05,
          "t": 1199.15,
          "v": -0.585826
         },
         {
          "i": 2.68092e-05,
          "t": 1199.15,
          "v": -0.585424
         },
         {
          "i": 2.67824e-05,
          "t": 1199.16,
          "v": -0.584852
         },
         {
          "i": 2.68828e-05,
          "t": 1199.16,
          "v": -0.584335
         },
         {
          "i": 2.67624e-05,
          "t": 1199.16,
          "v": -0.583872
         },
         {
          "i": 2.6749e-05,
          "t": 1199.17,
          "v": -0.58333
         },
         {
          "i": 2.70299e-05,
          "t": 1199.17,
          "v": -0.582858
         },
         {
          "i": 2.6749e-05,
          "t": 1199.18,
          "v": -0.582351
         },
         {
          "i": 2.6769e-05,
          "t": 1199.18,
          "v": -0.581835
         },
         {
          "i": 2.67022e-05,
          "t": 1199.19,
          "v": -0.581367
         },
         {
          "i": 2.67222e-05,
          "t": 1199.19,
          "v": -0.580831
         },
         {
          "i": 2.65884e-05,
          "t": 1199.2,
          "v": -0.580338
         },
         {
          "i": 2.65349e-05,
          "t": 1199.2,
          "v": -0.579836
         },
         {
          "i": 2.6662e-05,
          "t": 1199.21,
          "v": -0.579313
         },
         {
          "i": 2.66754e-05,
          "t": 1199.21,
          "v": -0.578868
         },
         {
          "i": 2.66018e-05,
          "t": 1199.22,
          "v": -0.57832
         },
         {
          "i": 2.64948e-05,
          "t": 1199.22,
          "v": -0.577821
         },
         {
          "i": 2.6662e-05,
          "t": 1199.23,
          "v": -0.57738
         },
         {
          "i": 2.65884e-05,
          "t": 1199.23,
          "v": -0.57683
         },
         {
          "i": 2.65416e-05,
          "t": 1199.24,
          "v": -0.576329
         },
         {
          "i": 2.6468e-05,
          "t": 1199.24,
          "v": -0.575833
         },
         {
          "i": 2.65951e-05,
          "t": 1199.25,
          "v": -0.575322
         },
         {
          "i": 2.66018e-05,
          "t": 1199.26,
          "v": -0.574995
         },
         {
          "i": 2.65082e-05,
          "t": 1199.26,
          "v": -0.574392
         },
         {
          "i": 2.65149e-05,
          "t": 1199.27,
          "v": -0.573811
         },
         {
          "i": 2.65082e-05,
          "t": 1199.27,
          "v": -0.573441
         },
         {
          "i": 2.65416e-05,
          "t": 1199.28,
          "v": -0.572874
         },
         {
          "i": 2.65282e-05,
          "t": 1199.28,
          "v": -0.572351
         },
         {
          "i": 2.64948e-05,
          "t": 1199.29,
          "v": -0.57187
         },
         {
          "i": 2.65015e-05,
          "t": 1199.29,
          "v": -0.571334
         },
         {
          "i": 2.63744e-05,
          "t": 1199.29,
          "v": -0.570936
         },
         {
          "i": 2.64814e-05,
          "t": 1199.3,
          "v": -0.570338
         },
         {
          "i": 2.6555e-05,
          "t": 1199.3,
          "v": -0.569822
         },
         {
          "i": 2.62406e-05,
          "t": 1199.31,
          "v": -0.56942
         },
         {
          "i": 2.62674e-05,
          "t": 1199.31,
          "v": -0.568827
         },
         {
          "i": 2.62674e-05,
          "t": 1199.32,
          "v": -0.568338
         },
         {
          "i": 2.64413e-05,
          "t": 1199.32,
          "v": -0.567893
         },
         {
          "i": 2.63945e-05,
          "t": 1199.33,
          "v": -0.567338
         },
         {
          "i": 2.61871e-05,
          "t": 1199.33,
          "v": -0.566904
         },
         {
          "i": 2.59329e-05,
          "t": 1199.34,
          "v": -0.566364
         },
         {
          "i": 2.59195e-05,
          "t": 1199.34,
          "v": -0.565849
         },
         {
          "i": 2.60132e-05,
          "t": 1199.35,
          "v": -0.565403
         },
         {
          "i": 2.63878e-05,
          "t": 1199.35,
          "v": -0.56487
         },
         {
          "i": 2.6167e-05,
          "t": 1199.36,
          "v": -0.564382
         },
         {
          "i": 2.63342e-05,
          "t": 1199.36,
          "v": -0.563882
         },
         {
          "i": 2.61603e-05,
          "t": 1199.37,
          "v": -0.563352
         },
         {
          "i": 2.60199e-05,
          "t": 1199.38,
          "v": -0.562913
         },
         {
          "i": 2.60332e-05,
          "t": 1199.38,
          "v": -0.562343
         },
         {
          "i": 2.60734e-05,
          "t": 1199.39,
          "v": -0.561801
         },
         {
          "i": 2.59998e-05,
          "t": 1199.39,
          "v": -0.561391
         },
         {
          "i": 2.6254e-05,
          "t": 1199.4,
          "v": -0.560829
         },
         {
          "i": 2.5953e-05,
          "t": 1199.4,
          "v": -0.560317
         },
         {
          "i": 2.58994e-05,
          "t": 1199.41,
          "v": -0.559873
         },
         {
          "i": 2.58192e-05,
          "t": 1199.41,
          "v": -0.559323
         },
         {
          "i": 2.58326e-05,
          "t": 1199.41,
          "v": -0.558847
         },
         {
          "i": 2.58928e-05,
          "t": 1199.42,
          "v": -0.558339
         },
         {
          "i": 2.61336e-05,
          "t": 1199.42,
          "v": -0.557814
         },
         {
          "i": 2.57389e-05,
          "t": 1199.43,
          "v": -0.55735
         },
         {
          "i": 2.59931e-05,
          "t": 1199.43,
          "v": -0.556829
         },
         {
          "i": 2.59797e-05,
          "t": 1199.44,
          "v": -0.556322
         },
         {
          "i": 2.60734e-05,
          "t": 1199.44,
          "v": -0.555823
         },
         {
          "i": 2.58058e-05,
          "t": 1199.45,
          "v": -0.555299
         },
         {
          "i": 2.59128e-05,
          "t": 1199.45,
          "v": -0.554857
         },
         {
          "i": 2.56519e-05,
          "t": 1199.46,
          "v": -0.554304
         },
         {
          "i": 2.5953e-05,
          "t": 1199.46,
          "v": -0.553804
         },
         {
          "i": 2.58125e-05,
          "t": 1199.47,
          "v": -0.553363
         },
         {
          "i": 2.57255e-05,
          "t": 1199.47,
          "v": -0.552805
         },
         {
          "i": 2.56988e-05,
          "t": 1199.48,
          "v": -0.552302
         },
         {
          "i": 2.57055e-05,
          "t": 1199.48,
          "v": -0.551823
         },
         {
          "i": 2.56787e-05,
          "t": 1199.49,
          "v": -0.551317
         },
         {
          "i": 2.54446e-05,
          "t": 1199.49,
          "v": -0.550821
         },
         {
          "i": 2.57255e-05,
          "t": 1199.5,
          "v": -0.550306
         },
         {
          "i": 2.57456e-05,
          "t": 1199.51,
          "v": -0.54977
         },
         {
          "i": 2.57456e-05,
          "t": 1199.51,
          "v": -0.549432
         },
         {
          "i": 2.5672e-05,
          "t": 1199.52,
          "v": -0.548861
         },
         {
          "i": 2.59597e-05,
          "t": 1199.52,
          "v": -0.548292
         },
         {
          "i": 2.56586e-05,
          "t": 1199.53,
          "v": -0.547884
         },
         {
          "i": 2.57657e-05,
          "t": 1199.53,
          "v": -0.547317
         },
         {
          "i": 2.57255e-05,
          "t": 1199.54,
          "v": -0.546906
         },
         {
          "i": 2.55917e-05,
          "t": 1199.54,
          "v": -0.546335
         },
         {
          "i": 2.53108e-05,
          "t": 1199.54,
          "v": -0.545788
         },
         {
          "i": 2.54713e-05,
          "t": 1199.55,
          "v": -0.545422
         },
         {
          "i": 2.54647e-05,
          "t": 1199.55,
          "v": -0.544831
         },
         {
          "i": 2.56921e-05,
          "t": 1199.56,
          "v": -0.544324
         },
         {
          "i": 2.55717e-05,
          "t": 1199.56,
          "v": -0.543845
         },
         {
          "i": 2.56118e-05,
          "t": 1199.57,
          "v": -0.543308
         },
         {
          "i": 2.55115e-05,
          "t": 1199.57,
          "v": -0.542877
         },
         {
          "i": 2.55315e-05,
          "t": 1199.58,
          "v": -0.542353
         },
         {
          "i": 2.51904e-05,
          "t": 1199.58,
          "v": -0.541817
         },
         {
          "i": 2.54379e-05,
          "t": 1199.59,
          "v": -0.541398
         },
         {
          "i": 2.52506e-05,
          "t": 1199.59,
          "v": -0.54085
         },
         {
          "i": 2.48559e-05,
          "t": 1199.6,
          "v": -0.540344
         },
         {
          "i": 2.5565e-05,
          "t": 1199.6,
          "v": -0.539865
         },
         {
          "i": 2.49295e-05,
          "t": 1199.61,
          "v": -0.539319
         },
         {
          "i": 2.50633e-05,
          "t": 1199.61,
          "v": -0.538885
         },
         {
          "i": 2.51503e-05,
          "t": 1199.62,
          "v": -0.538354
         },
         {
          "i": 2.52506e-05,
          "t": 1199.63,
          "v": -0.537826
         },
         {
          "i": 2.51436e-05,
          "t": 1199.63,
          "v": -0.537415
         },
         {
          "i": 2.52238e-05,
          "t": 1199.64,
          "v": -0.536852
         },
         {
          "i": 2.4983e-05,
          "t": 1199.64,
          "v": -0.536337
         },
         {
          "i": 2.4983e-05,
          "t": 1199.65,
          "v": -0.53587
         },
         {
          "i": 2.4963e-05,
          "t": 1199.65,
          "v": -0.535338
         },
         {
          "i": 2.47757e-05,
          "t": 1199.66,
          "v": -0.534882
         },
         {
          "i": 2.43609e-05,
          "t": 1199.66,
          "v": -0.534354
         },
         {
          "i": 2.4468e-05,
          "t": 1199.66,
          "v": -0.533846
         },
         {
          "i": 2.45148e-05,
          "t": 1199.67,
          "v": -0.533384
         },
         {
          "i": 2.44345e-05,
          "t": 1199.67,
          "v": -0.532844
         },
         {
          "i": 2.49161e-05,
          "t": 1199.68,
          "v": -0.53234
         },
         {
          "i": 2.53242e-05,
          "t": 1199.68,
          "v": -0.531839
         },
         {
          "i": 2.48894e-05,
          "t": 1199.69,
          "v": -0.531331
         },
         {
          "i": 2.50232e-05,
          "t": 1199.69,
          "v": -0.530885
         },
         {
          "i": 2.52439e-05,
          "t": 1199.7,
          "v": -0.530316
         },
         {
          "i": 2.50499e-05,
          "t": 1199.7,
          "v": -0.529818
         },
         {
          "i": 2.46017e-05,
          "t": 1199.71,
          "v": -0.529383
         },
         {
          "i": 2.47288e-05,
          "t": 1199.71,
          "v": -0.528818
         },
         {
          "i": 2.47088e-05,
          "t": 1199.72,
          "v": -0.528315
         },
         {
          "i": 2.46887e-05,
          "t": 1199.72,
          "v": -0.527837
         },
         {
          "i": 2.48292e-05,
          "t": 1199.73,
          "v": -0.527331
         },
         {
          "i": 2.45951e-05,
          "t": 1199.73,
          "v": -0.52683
         },
         {
          "i": 2.46218e-05,
          "t": 1199.74,
          "v": -0.526319
         },
         {
          "i": 2.44144e-05,
          "t": 1199.74,
          "v": -0.525825
         },
         {
          "i": 2.44813e-05,
          "t": 1199.75,
          "v": -0.525343
         },
         {
          "i": 2.41201e-05,
          "t": 1199.76,
          "v": -0.524833
         },
         {
          "i": 2.40532e-05,
          "t": 1199.76,
          "v": -0.524311
         },
         {
          "i": 2.42673e-05,
          "t": 1199.77,
          "v": -0.523878
         },
         {
          "i": 2.43208e-05,
          "t": 1199.77,
          "v": -0.523326
         },
         {
          "i": 2.44746e-05,
          "t": 1199.78,
          "v": -0.522925
         },
         {
          "i": 2.42472e-05,
          "t": 1199.78,
          "v": -0.522375
         },
         {
          "i": 2.41067e-05,
          "t": 1199.79,
          "v": -0.521819
         },
         {
          "i": 2.41536e-05,
          "t": 1199.79,
          "v": -0.521444
         },
         {
          "i": 2.41001e-05,
          "t": 1199.79,
          "v": -0.520847
         },
         {
          "i": 2.43208e-05,
          "t": 1199.8,
          "v": -0.52037
         },
         {
          "i": 2.40064e-05,
          "t": 1199.8,
          "v": -0.519879
         },
         {
          "i": 2.40398e-05,
          "t": 1199.81,
          "v": -0.519327
         },
         {
          "i": 2.39328e-05,
          "t": 1199.81,
          "v": -0.51888
         },
         {
          "i": 2.38793e-05,
          "t": 1199.82,
          "v": -0.518332
         },
         {
          "i": 2.38191e-05,
          "t": 1199.82,
          "v": -0.51782
         },
         {
          "i": 2.42205e-05,
          "t": 1199.83,
          "v": -0.517395
         },
         {
          "i": 2.43208e-05,
          "t": 1199.83,
          "v": -0.516852
         },
         {
          "i": 2.42472e-05,
          "t": 1199.84,
          "v": -0.516366
         },
         {
          "i": 2.43877e-05,
          "t": 1199.84,
          "v": -0.515869
         },
         {
          "i": 2.35917e-05,
          "t": 1199.85,
          "v": -0.515332
         },
         {
          "i": 2.38191e-05,
          "t": 1199.85,
          "v": -0.514925
         },
         {
          "i": 2.37589e-05,
          "t": 1199.86,
          "v": -0.514365
         },
         {
          "i": 2.37923e-05,
          "t": 1199.86,
          "v": -0.513848
         },
         {
          "i": 2.37188e-05,
          "t": 1199.87,
          "v": -0.513422
         },
         {
          "i": 2.37857e-05,
          "t": 1199.88,
          "v": -0.512874
         },
         {
          "i": 2.36653e-05,
          "t": 1199.88,
          "v": -0.512363
         },
         {
          "i": 2.39596e-05,
          "t": 1199.89,
          "v": -0.5119
         },
         {
          "i": 2.34913e-05,
          "t": 1199.89,
          "v": -0.51132
         },
         {
          "i": 2.3692e-05,
          "t": 1199.9,
          "v": -0.510881
         },
         {
          "i": 2.37455e-05,
          "t": 1199.9,
          "v": -0.510338
         },
         {
          "i": 2.35315e-05,
          "t": 1199.91,
          "v": -0.509822
         },
         {
          "i": 2.36318e-05,
          "t": 1199.91,
          "v": -0.509378
         },
         {
          "i": 2.34646e-05,
          "t": 1199.91,
          "v": -0.508849
         },
         {
          "i": 2.35114e-05,
          "t": 1199.92,
          "v": -0.50835
         },
         {
          "i": 2.32773e-05,
          "t": 1199.92,
          "v": -0.507838
         },
         {
          "i": 2.35783e-05,
          "t": 1199.93,
          "v": -0.507326
         },
         {
          "i": 2.29294e-05,
          "t": 1199.93,
          "v": -0.506863
         },
         {
          "i": 2.31836e-05,
          "t": 1199.94,
          "v": -0.506328
         },
         {
          "i": 2.33709e-05,
          "t": 1199.94,
          "v": -0.505822
         },
         {
          "i": 2.29963e-05,
          "t": 1199.95,
          "v": -0.505392
         },
         {
          "i": 2.32639e-05,
          "t": 1199.95,
          "v": -0.50482
         },
         {
          "i": 2.35315e-05,
          "t": 1199.96,
          "v": -0.504319
         },
         {
          "i": 2.32505e-05,
          "t": 1199.96,
          "v": -0.503837
         },
         {
          "i": 2.30097e-05,
          "t": 1199.97,
          "v": -0.503321
         },
         {
          "i": 2.3284e-05,
          "t": 1199.97,
          "v": -0.50283
         },
         {
          "i": 2.29227e-05,
          "t": 1199.98,
          "v": -0.502332
         },
         {
          "i": 2.27823e-05,
          "t": 1199.98,
          "v": -0.501811
         },
         {
          "i": 2.26686e-05,
          "t": 1199.99,
          "v": -0.50135
         },
         {
          "i": 2.30097e-05,
          "t": 1199.99,
          "v": -0.500821
         },
         {
          "i": 2.32505e-05,
          "t": 1200,
          "v": -0.500318
         },
         {
          "i": 2.27221e-05,
          "t": 1200.01,
          "v": -0.49983
         }
        ],
        "data-f1ff2bf63c0a1d2561021ccbc21c6626": [
         {
          "i": 3.04816e-05,
          "v": -0.649795
         }
        ]
       },
       "layer": [
        {
         "data": {
          "name": "data-9a5330f33beb5edc95e91fca5201593f"
         },
         "encoding": {
          "x": {
           "field": "v",
           "type": "quantitative"
          },
          "y": {
           "field": "i",
           "type": "quantitative"
          }
         },
         "mark": "point"
        },
        {
         "data": {
          "name": "data-f1ff2bf63c0a1d2561021ccbc21c6626"
         },
         "encoding": {
          "color": {
           "value": "black"
          },
          "x": {
           "field": "v",
           "type": "quantitative"
          },
          "y": {
           "field": "i",
           "type": "quantitative"
          }
         },
         "mark": {
          "filled": true,
          "size": 50,
          "type": "point"
         }
        }
       ]
      },
      "image/png": "[encoded data removed]",
      "text/plain": [
       "<VegaLite 3 object>\n",
       "\n",
       "If you see this message, it means the renderer has not been properly enabled\n",
       "for the frontend that you are using. For more information, see\n",
       "https://altair-viz.github.io/user_guide/troubleshooting.html\n"
      ]
     },
     "metadata": {},
     "output_type": "display_data"
    }
   ],
   "source": [
    "data_dir = 'data/*.DTA*'\n",
    "n=0\n",
    "for filename in glob.iglob(data_dir):\n",
    "    if n<= 5:\n",
    "        t,i,v = preprocessing.readFile(filename,type='gamry',scan='last')\n",
    "        length = len(t)\n",
    "        v1, v2 = v[0:int(length/2)], v[int(length/2):]\n",
    "        i1, i2 = i[0:int(length/2)], i[int(length/2):]\n",
    "        t1, t2 = t[0:int(length/2)], t[int(length/2):]\n",
    "\n",
    "        peak_list = []\n",
    "        \n",
    "        sm_i1 = savgol_filter(abs(i1), 23, 3, mode='nearest')    \n",
    "        index = find_peaks(sm_i1,width=15)[0]\n",
    "        if len(index) > 0:\n",
    "            peak_index = index[-1]\n",
    "#             peak_list.append([i1[peak_index],v1[peak_index]])\n",
    "        \n",
    "        \n",
    "        sm_i2 = savgol_filter(i2, 23, 3, mode='nearest')  \n",
    "        index = find_peaks(sm_i2,width=1)[0]\n",
    "        if len(index) > 0:\n",
    "            peak_indices = index[-1]\n",
    "            peak_list.append([i2[peak_index],v2[peak_index]])\n",
    "            print(i2[peak_index],v2[peak_index])\n",
    "\n",
    "        \n",
    "        plotting.plot_voltammogram(t2,i2,v2, peaks = peak_list).display()\n",
    "        \n",
    "    n+=1\n"
   ]
  },
  {
   "cell_type": "code",
   "execution_count": 245,
   "metadata": {},
   "outputs": [
    {
     "data": {
      "text/plain": [
       "array([ 471,  475,  483,  490,  912,  915,  946,  976,  979, 1009, 1027,\n",
       "       1045, 1049, 1131, 1139, 1158])"
      ]
     },
     "execution_count": 245,
     "metadata": {},
     "output_type": "execute_result"
    }
   ],
   "source": [
    "find_peaks(sm_i2,width=1)[0]"
   ]
  },
  {
   "cell_type": "code",
   "execution_count": 242,
   "metadata": {},
   "outputs": [
    {
     "data": {
      "text/plain": [
       "1200"
      ]
     },
     "execution_count": 242,
     "metadata": {},
     "output_type": "execute_result"
    }
   ],
   "source": [
    "len(i2)"
   ]
  },
  {
   "cell_type": "code",
   "execution_count": 180,
   "metadata": {},
   "outputs": [
    {
     "data": {
      "text/html": [
       "<div>\n",
       "<style scoped>\n",
       "    .dataframe tbody tr th:only-of-type {\n",
       "        vertical-align: middle;\n",
       "    }\n",
       "\n",
       "    .dataframe tbody tr th {\n",
       "        vertical-align: top;\n",
       "    }\n",
       "\n",
       "    .dataframe thead th {\n",
       "        text-align: right;\n",
       "    }\n",
       "</style>\n",
       "<table border=\"1\" class=\"dataframe\">\n",
       "  <thead>\n",
       "    <tr style=\"text-align: right;\">\n",
       "      <th></th>\n",
       "      <th>0</th>\n",
       "      <th>1</th>\n",
       "    </tr>\n",
       "  </thead>\n",
       "  <tbody>\n",
       "    <tr>\n",
       "      <th>0</th>\n",
       "      <td>-0.000155</td>\n",
       "      <td>-0.949712</td>\n",
       "    </tr>\n",
       "    <tr>\n",
       "      <th>1</th>\n",
       "      <td>0.000030</td>\n",
       "      <td>-0.649795</td>\n",
       "    </tr>\n",
       "  </tbody>\n",
       "</table>\n",
       "</div>"
      ],
      "text/plain": [
       "          0         1\n",
       "0 -0.000155 -0.949712\n",
       "1  0.000030 -0.649795"
      ]
     },
     "execution_count": 180,
     "metadata": {},
     "output_type": "execute_result"
    }
   ],
   "source": [
    "import pandas as pd\n",
    "pd.DataFrame(peak_list)"
   ]
  },
  {
   "cell_type": "code",
   "execution_count": 175,
   "metadata": {},
   "outputs": [
    {
     "data": {
      "text/plain": [
       "[-0.950738, -0.857774]"
      ]
     },
     "execution_count": 175,
     "metadata": {},
     "output_type": "execute_result"
    }
   ],
   "source": [
    "peaks_v"
   ]
  },
  {
   "cell_type": "code",
   "execution_count": null,
   "metadata": {},
   "outputs": [],
   "source": []
  }
 ],
 "metadata": {
  "kernelspec": {
   "display_name": "Python 3",
   "language": "python",
   "name": "python3"
  },
  "language_info": {
   "codemirror_mode": {
    "name": "ipython",
    "version": 3
   },
   "file_extension": ".py",
   "mimetype": "text/x-python",
   "name": "python",
   "nbconvert_exporter": "python",
   "pygments_lexer": "ipython3",
   "version": "3.7.3"
  }
 },
 "nbformat": 4,
 "nbformat_minor": 4
}
