{
 "cells": [
  {
   "cell_type": "code",
   "execution_count": 11,
   "metadata": {},
   "outputs": [],
   "source": [
    "import glob\n",
    "from scipy.signal import savgol_filter, find_peaks\n",
    "import numpy as np\n",
    "\n",
    "from voltammetry import preprocessing, plotting"
   ]
  },
  {
   "cell_type": "code",
   "execution_count": 114,
   "metadata": {},
   "outputs": [
    {
     "data": {
      "application/vnd.vegalite.v3+json": {
       "$schema": "https://vega.github.io/schema/vega-lite/v3.2.1.json",
       "config": {
        "mark": {
         "tooltip": null
        },
        "view": {
         "height": 300,
         "width": 400
        }
       },
       "datasets": {
        "data-2b28fecf3b4a7443ecdaf7707c26e921": [
         {
          "i": [],
          "v": []
         }
        ],
        "data-96e3fefa0f4a27f723f4cb5bf94c8c54": [
         {
          "i": 0.0002801302683229776,
          "t": 8.08,
          "v": 0.79994
         },
         {
          "i": 0.00027652486832297765,
          "t": 8.16,
          "v": 0.791982
         },
         {
          "i": 0.00027250038012422,
          "t": 8.24,
          "v": 0.783987
         },
         {
          "i": 0.0002681075279503069,
          "t": 8.32,
          "v": 0.775991
         },
         {
          "i": 0.00026340651180123864,
          "t": 8.4,
          "v": 0.767965
         },
         {
          "i": 0.0002584740919254624,
          "t": 8.48,
          "v": 0.759995
         },
         {
          "i": 0.0002533970447204935,
          "t": 8.56,
          "v": 0.751976
         },
         {
          "i": 0.00024833204472049356,
          "t": 8.64,
          "v": 0.74399
         },
         {
          "i": 0.00024340234285713958,
          "t": 8.72,
          "v": 0.735999
         },
         {
          "i": 0.00023865606583850616,
          "t": 8.8,
          "v": 0.727987
         },
         {
          "i": 0.00023420787577639436,
          "t": 8.88,
          "v": 0.719991
         },
         {
          "i": 0.00023020061118012115,
          "t": 8.96,
          "v": 0.711993
         },
         {
          "i": 0.0002266754968944069,
          "t": 9.04,
          "v": 0.703973
         },
         {
          "i": 0.0002231109540372641,
          "t": 9.12,
          "v": 0.695989
         },
         {
          "i": 0.00021950916024844424,
          "t": 9.2,
          "v": 0.687979
         },
         {
          "i": 0.0002158298559006182,
          "t": 9.28,
          "v": 0.679981
         },
         {
          "i": 0.00021210675776397228,
          "t": 9.36,
          "v": 0.67199
         },
         {
          "i": 0.00020826092422359966,
          "t": 9.44,
          "v": 0.663969
         },
         {
          "i": 0.00020441497888198484,
          "t": 9.52,
          "v": 0.655961
         },
         {
          "i": 0.00020052947701863086,
          "t": 9.6,
          "v": 0.647973
         },
         {
          "i": 0.00019659837888198495,
          "t": 9.68,
          "v": 0.639954
         },
         {
          "i": 0.00019270944223602224,
          "t": 9.76,
          "v": 0.631987
         },
         {
          "i": 0.00018882223850931422,
          "t": 9.84,
          "v": 0.62399
         },
         {
          "i": 0.00018496627950310312,
          "t": 9.92,
          "v": 0.615994
         },
         {
          "i": 0.00018114108571428328,
          "t": 10,
          "v": 0.607999
         },
         {
          "i": 0.00017737751677018393,
          "t": 10.08,
          "v": 0.599979
         },
         {
          "i": 0.00017363400993788584,
          "t": 10.16,
          "v": 0.591986
         },
         {
          "i": 0.00016993482732919027,
          "t": 10.24,
          "v": 0.583995
         },
         {
          "i": 0.00016617279503105368,
          "t": 10.32,
          "v": 0.575989
         },
         {
          "i": 0.00016239564944099162,
          "t": 10.4,
          "v": 0.567998
         },
         {
          "i": 0.00015842286770186123,
          "t": 10.48,
          "v": 0.559977
         },
         {
          "i": 0.00015417698298136437,
          "t": 10.56,
          "v": 0.55198
         },
         {
          "i": 0.00014958788335403525,
          "t": 10.64,
          "v": 0.54398
         },
         {
          "i": 0.00014458446385092974,
          "t": 10.72,
          "v": 0.535971
         },
         {
          "i": 0.00013901750583850743,
          "t": 10.8,
          "v": 0.527968
         },
         {
          "i": 0.00013300839614906654,
          "t": 10.88,
          "v": 0.519988
         },
         {
          "i": 0.00012636201329192375,
          "t": 10.96,
          "v": 0.511959
         },
         {
          "i": 0.00011923439093167542,
          "t": 11.04,
          "v": 0.503993
         },
         {
          "i": 0.00011165965701863203,
          "t": 11.12,
          "v": 0.495982
         },
         {
          "i": 0.0001037043652173899,
          "t": 11.2,
          "v": 0.487986
         },
         {
          "i": 9.547683614906705e-05,
          "t": 11.28,
          "v": 0.480003
         },
         {
          "i": 8.716801739130318e-05,
          "t": 11.36,
          "v": 0.471992
         },
         {
          "i": 7.88116582608685e-05,
          "t": 11.44,
          "v": 0.463984
         },
         {
          "i": 7.066403751552701e-05,
          "t": 11.52,
          "v": 0.455975
         },
         {
          "i": 6.27948565217383e-05,
          "t": 11.6,
          "v": 0.447965
         },
         {
          "i": 5.534317291925392e-05,
          "t": 11.68,
          "v": 0.439975
         },
         {
          "i": 4.8430348322980724e-05,
          "t": 11.76,
          "v": 0.43195
         },
         {
          "i": 4.213554012422304e-05,
          "t": 11.84,
          "v": 0.423976
         },
         {
          "i": 3.6484978260869085e-05,
          "t": 11.92,
          "v": 0.41599
         },
         {
          "i": 3.1528036670807043e-05,
          "t": 12,
          "v": 0.407993
         },
         {
          "i": 2.7221499788819518e-05,
          "t": 12.08,
          "v": 0.39999
         },
         {
          "i": 2.3609211180123915e-05,
          "t": 12.16,
          "v": 0.392004
         },
         {
          "i": 2.0575891093167433e-05,
          "t": 12.24,
          "v": 0.383984
         },
         {
          "i": 1.8107737925465604e-05,
          "t": 12.32,
          "v": 0.376007
         },
         {
          "i": 1.6092585341614698e-05,
          "t": 12.4,
          "v": 0.368012
         },
         {
          "i": 1.4450319875776209e-05,
          "t": 12.48,
          "v": 0.360007
         },
         {
          "i": 1.3070967999999829e-05,
          "t": 12.56,
          "v": 0.35201
         },
         {
          "i": 1.1977400074534003e-05,
          "t": 12.64,
          "v": 0.343996
         },
         {
          "i": 1.106417785093153e-05,
          "t": 12.72,
          "v": 0.335986
         },
         {
          "i": 1.0336950236024709e-05,
          "t": 12.8,
          "v": 0.327992
         },
         {
          "i": 9.694859900620992e-06,
          "t": 12.88,
          "v": 0.320004
         },
         {
          "i": 9.118527627329072e-06,
          "t": 12.96,
          "v": 0.312005
         },
         {
          "i": 8.632196621117899e-06,
          "t": 13.04,
          "v": 0.303987
         },
         {
          "i": 8.222837217391195e-06,
          "t": 13.12,
          "v": 0.295978
         },
         {
          "i": 7.775168062111698e-06,
          "t": 13.2,
          "v": 0.287997
         },
         {
          "i": 7.367309788819777e-06,
          "t": 13.28,
          "v": 0.279985
         },
         {
          "i": 6.977626248447112e-06,
          "t": 13.36,
          "v": 0.271979
         },
         {
          "i": 6.6195498136645084e-06,
          "t": 13.44,
          "v": 0.264011
         },
         {
          "i": 6.269553602484388e-06,
          "t": 13.52,
          "v": 0.255966
         },
         {
          "i": 5.921630695652095e-06,
          "t": 13.6,
          "v": 0.247998
         },
         {
          "i": 5.59643673291918e-06,
          "t": 13.68,
          "v": 0.239996
         },
         {
          "i": 5.286772708074463e-06,
          "t": 13.76,
          "v": 0.23198
         },
         {
          "i": 4.9923885093167035e-06,
          "t": 13.84,
          "v": 0.224003
         },
         {
          "i": 4.708611826086893e-06,
          "t": 13.92,
          "v": 0.216006
         },
         {
          "i": 4.443448708074474e-06,
          "t": 14,
          "v": 0.207994
         },
         {
          "i": 4.197892956521683e-06,
          "t": 14.08,
          "v": 0.2
         },
         {
          "i": 3.992185875776344e-06,
          "t": 14.16,
          "v": 0.192001
         },
         {
          "i": 3.805315527950259e-06,
          "t": 14.24,
          "v": 0.184001
         },
         {
          "i": 3.62893293167697e-06,
          "t": 14.32,
          "v": 0.175991
         },
         {
          "i": 3.4874632173912576e-06,
          "t": 14.4,
          "v": 0.167986
         },
         {
          "i": 3.360166981366414e-06,
          "t": 14.48,
          "v": 0.160012
         },
         {
          "i": 3.236743267080702e-06,
          "t": 14.56,
          "v": 0.15198
         },
         {
          "i": 3.1100801366459215e-06,
          "t": 14.64,
          "v": 0.143977
         },
         {
          "i": 3.0069715403726304e-06,
          "t": 14.72,
          "v": 0.136
         },
         {
          "i": 2.909219204968905e-06,
          "t": 14.8,
          "v": 0.127962
         },
         {
          "i": 2.789365776397478e-06,
          "t": 14.88,
          "v": 0.120003
         },
         {
          "i": 2.652198919254623e-06,
          "t": 14.96,
          "v": 0.112009
         },
         {
          "i": 2.518993068322947e-06,
          "t": 15.04,
          "v": 0.104001
         },
         {
          "i": 2.4062307453415825e-06,
          "t": 15.12,
          "v": 0.0960195
         },
         {
          "i": 2.301217791304317e-06,
          "t": 15.2,
          "v": 0.0880066
         },
         {
          "i": 2.181467121739101e-06,
          "t": 15.28,
          "v": 0.0799856
         },
         {
          "i": 2.049646527950283e-06,
          "t": 15.36,
          "v": 0.0719945
         },
         {
          "i": 1.9114690683229557e-06,
          "t": 15.44,
          "v": 0.0640187
         },
         {
          "i": 1.7665269937887962e-06,
          "t": 15.52,
          "v": 0.056008
         },
         {
          "i": 1.6154959465838295e-06,
          "t": 15.6,
          "v": 0.0479726
         },
         {
          "i": 1.4677658422360051e-06,
          "t": 15.68,
          "v": 0.0399611
         },
         {
          "i": 1.322031677018616e-06,
          "t": 15.76,
          "v": 0.0319876
         },
         {
          "i": 1.1894293043478104e-06,
          "t": 15.84,
          "v": 0.0239652
         },
         {
          "i": 1.0758116832297995e-06,
          "t": 15.92,
          "v": 0.0159998
         },
         {
          "i": 9.72474381366447e-07,
          "t": 16,
          "v": 0.00801783
         },
         {
          "i": 8.790779478260754e-07,
          "t": 16.08,
          "v": -2.32039e-05
         }
        ]
       },
       "layer": [
        {
         "data": {
          "name": "data-96e3fefa0f4a27f723f4cb5bf94c8c54"
         },
         "encoding": {
          "x": {
           "field": "v",
           "type": "quantitative"
          },
          "y": {
           "field": "i",
           "type": "quantitative"
          }
         },
         "mark": "point"
        },
        {
         "data": {
          "name": "data-2b28fecf3b4a7443ecdaf7707c26e921"
         },
         "encoding": {
          "color": {
           "value": "black"
          },
          "x": {
           "field": "v",
           "type": "quantitative"
          },
          "y": {
           "field": "i",
           "type": "quantitative"
          }
         },
         "mark": {
          "filled": true,
          "size": 50,
          "type": "point"
         }
        }
       ]
      },
      "image/png": "[encoded data removed]",
      "text/plain": [
       "<VegaLite 3 object>\n",
       "\n",
       "If you see this message, it means the renderer has not been properly enabled\n",
       "for the frontend that you are using. For more information, see\n",
       "https://altair-viz.github.io/user_guide/troubleshooting.html\n"
      ]
     },
     "metadata": {},
     "output_type": "display_data"
    },
    {
     "data": {
      "application/vnd.vegalite.v3+json": {
       "$schema": "https://vega.github.io/schema/vega-lite/v3.2.1.json",
       "config": {
        "mark": {
         "tooltip": null
        },
        "view": {
         "height": 300,
         "width": 400
        }
       },
       "datasets": {
        "data-d85bb09afa6329facfa254aacd20e4e9": [
         {
          "i": 6.121375950310476e-05,
          "t": 12.01,
          "v": -1.09983
         },
         {
          "i": 6.051570795030974e-05,
          "t": 12.02,
          "v": -1.0993
         },
         {
          "i": 5.9757158509315974e-05,
          "t": 12.03,
          "v": -1.09887
         },
         {
          "i": 5.8964631428570644e-05,
          "t": 12.04,
          "v": -1.09834
         },
         {
          "i": 5.8170055279502323e-05,
          "t": 12.05,
          "v": -1.09779
         },
         {
          "i": 5.739264944099302e-05,
          "t": 12.06,
          "v": -1.09739
         },
         {
          "i": 5.6652470186334636e-05,
          "t": 12.07,
          "v": -1.09684
         },
         {
          "i": 5.598156248447129e-05,
          "t": 12.08,
          "v": -1.09632
         },
         {
          "i": 5.537247776397442e-05,
          "t": 12.09,
          "v": -1.09586
         },
         {
          "i": 5.486621378881914e-05,
          "t": 12.1,
          "v": -1.0953
         },
         {
          "i": 5.44775514285707e-05,
          "t": 12.11,
          "v": -1.09482
         },
         {
          "i": 5.422405490683157e-05,
          "t": 12.12,
          "v": -1.09433
         },
         {
          "i": 5.413009987577567e-05,
          "t": 12.13,
          "v": -1.0938
         },
         {
          "i": 5.394729068322909e-05,
          "t": 12.14,
          "v": -1.09333
         },
         {
          "i": 5.378704534161419e-05,
          "t": 12.15,
          "v": -1.09281
         },
         {
          "i": 5.361002335403655e-05,
          "t": 12.16,
          "v": -1.0923
         },
         {
          "i": 5.3449366211179406e-05,
          "t": 12.17,
          "v": -1.0918
         },
         {
          "i": 5.334764397515456e-05,
          "t": 12.18,
          "v": -1.09129
         },
         {
          "i": 5.322740981366388e-05,
          "t": 12.19,
          "v": -1.09082
         },
         {
          "i": 5.309288968944028e-05,
          "t": 12.2,
          "v": -1.09029
         },
         {
          "i": 5.2962751552794315e-05,
          "t": 12.21,
          "v": -1.08979
         },
         {
          "i": 5.284448521739059e-05,
          "t": 12.22,
          "v": -1.08936
         },
         {
          "i": 5.271814298136575e-05,
          "t": 12.23,
          "v": -1.08879
         },
         {
          "i": 5.260164968944028e-05,
          "t": 12.24,
          "v": -1.08829
         },
         {
          "i": 5.247999204968874e-05,
          "t": 12.25,
          "v": -1.08781
         },
         {
          "i": 5.237478695652103e-05,
          "t": 12.26,
          "v": -1.0873
         },
         {
          "i": 5.2284032422359546e-05,
          "t": 12.27,
          "v": -1.08694
         },
         {
          "i": 5.221116161490613e-05,
          "t": 12.28,
          "v": -1.08639
         },
         {
          "i": 5.214696322981296e-05,
          "t": 12.29,
          "v": -1.08573
         },
         {
          "i": 5.2083579503104895e-05,
          "t": 12.3,
          "v": -1.08541
         },
         {
          "i": 5.201135465838439e-05,
          "t": 12.31,
          "v": -1.08487
         },
         {
          "i": 5.194456795030986e-05,
          "t": 12.32,
          "v": -1.08429
         },
         {
          "i": 5.187226447204899e-05,
          "t": 12.33,
          "v": -1.08386
         },
         {
          "i": 5.180441590062042e-05,
          "t": 12.34,
          "v": -1.0833
         },
         {
          "i": 5.172152708074465e-05,
          "t": 12.35,
          "v": -1.08289
         },
         {
          "i": 5.1638220869564516e-05,
          "t": 12.36,
          "v": -1.08233
         },
         {
          "i": 5.1544622360247756e-05,
          "t": 12.37,
          "v": -1.08178
         },
         {
          "i": 5.145289590062042e-05,
          "t": 12.38,
          "v": -1.08139
         },
         {
          "i": 5.136840906832229e-05,
          "t": 12.39,
          "v": -1.08081
         },
         {
          "i": 5.128074322981298e-05,
          "t": 12.4,
          "v": -1.0803
         },
         {
          "i": 5.117696745341546e-05,
          "t": 12.41,
          "v": -1.07987
         },
         {
          "i": 5.109602173912975e-05,
          "t": 12.42,
          "v": -1.0793
         },
         {
          "i": 5.102897142857074e-05,
          "t": 12.43,
          "v": -1.07884
         },
         {
          "i": 5.0954025714285024e-05,
          "t": 12.44,
          "v": -1.07836
         },
         {
          "i": 5.090118633540304e-05,
          "t": 12.45,
          "v": -1.07778
         },
         {
          "i": 5.0851206459626635e-05,
          "t": 12.46,
          "v": -1.07735
         },
         {
          "i": 5.079363714285646e-05,
          "t": 12.47,
          "v": -1.07685
         },
         {
          "i": 5.074496968944031e-05,
          "t": 12.48,
          "v": -1.07631
         },
         {
          "i": 5.0705179751552106e-05,
          "t": 12.49,
          "v": -1.07586
         },
         {
          "i": 5.0660939130434104e-05,
          "t": 12.5,
          "v": -1.07531
         },
         {
          "i": 5.0597333416148386e-05,
          "t": 12.51,
          "v": -1.07483
         },
         {
          "i": 5.053545155279435e-05,
          "t": 12.52,
          "v": -1.07431
         },
         {
          "i": 5.047347031055832e-05,
          "t": 12.53,
          "v": -1.07375
         },
         {
          "i": 5.04029591304341e-05,
          "t": 12.54,
          "v": -1.07335
         },
         {
          "i": 5.0333543105589385e-05,
          "t": 12.55,
          "v": -1.07282
         },
         {
          "i": 5.023239614906765e-05,
          "t": 12.56,
          "v": -1.07227
         },
         {
          "i": 5.0104305590061434e-05,
          "t": 12.57,
          "v": -1.07184
         },
         {
          "i": 4.997528459627263e-05,
          "t": 12.58,
          "v": -1.07128
         },
         {
          "i": 4.9854127204968266e-05,
          "t": 12.59,
          "v": -1.07079
         },
         {
          "i": 4.972683875776331e-05,
          "t": 12.6,
          "v": -1.0703
         },
         {
          "i": 4.9598001242235354e-05,
          "t": 12.61,
          "v": -1.06976
         },
         {
          "i": 4.946470521739064e-05,
          "t": 12.62,
          "v": -1.06929
         },
         {
          "i": 4.934602869565151e-05,
          "t": 12.63,
          "v": -1.0688
         },
         {
          "i": 4.925104024844655e-05,
          "t": 12.64,
          "v": -1.06827
         },
         {
          "i": 4.915278757763909e-05,
          "t": 12.65,
          "v": -1.06778
         },
         {
          "i": 4.9050992173912385e-05,
          "t": 12.66,
          "v": -1.06726
         },
         {
          "i": 4.896171937888133e-05,
          "t": 12.67,
          "v": -1.06679
         },
         {
          "i": 4.885964509316704e-05,
          "t": 12.68,
          "v": -1.06626
         },
         {
          "i": 4.8759607950309905e-05,
          "t": 12.69,
          "v": -1.06576
         },
         {
          "i": 4.868216819875711e-05,
          "t": 12.7,
          "v": -1.06532
         },
         {
          "i": 4.861623291925401e-05,
          "t": 12.71,
          "v": -1.06477
         },
         {
          "i": 4.8542934037266426e-05,
          "t": 12.72,
          "v": -1.06425
         },
         {
          "i": 4.846189552794966e-05,
          "t": 12.73,
          "v": -1.0638
         },
         {
          "i": 4.8392751677017986e-05,
          "t": 12.74,
          "v": -1.06326
         },
         {
          "i": 4.8310055279502455e-05,
          "t": 12.75,
          "v": -1.06277
         },
         {
          "i": 4.822492161490618e-05,
          "t": 12.76,
          "v": -1.06227
         },
         {
          "i": 4.813084670807389e-05,
          "t": 12.77,
          "v": -1.0617
         },
         {
          "i": 4.802546633540309e-05,
          "t": 12.78,
          "v": -1.0614
         },
         {
          "i": 4.791410521739066e-05,
          "t": 12.79,
          "v": -1.06086
         },
         {
          "i": 4.781494931676954e-05,
          "t": 12.8,
          "v": -1.06022
         },
         {
          "i": 4.7715407577639105e-05,
          "t": 12.81,
          "v": -1.05986
         },
         {
          "i": 4.761124770186271e-05,
          "t": 12.82,
          "v": -1.0593
         },
         {
          "i": 4.7512385590061476e-05,
          "t": 12.83,
          "v": -1.05882
         },
         {
          "i": 4.7410032670806824e-05,
          "t": 12.84,
          "v": -1.05832
         },
         {
          "i": 4.7313364347825455e-05,
          "t": 12.85,
          "v": -1.05773
         },
         {
          "i": 4.723523515527886e-05,
          "t": 12.86,
          "v": -1.05735
         },
         {
          "i": 4.71518719254652e-05,
          "t": 12.87,
          "v": -1.05682
         },
         {
          "i": 4.706267776397452e-05,
          "t": 12.88,
          "v": -1.05627
         },
         {
          "i": 4.698431540372607e-05,
          "t": 12.89,
          "v": -1.05582
         },
         {
          "i": 4.689112422360185e-05,
          "t": 12.9,
          "v": -1.05527
         },
         {
          "i": 4.682976732919192e-05,
          "t": 12.91,
          "v": -1.05482
         },
         {
          "i": 4.677186037267018e-05,
          "t": 12.92,
          "v": -1.05433
         },
         {
          "i": 4.6719427453415516e-05,
          "t": 12.93,
          "v": -1.05375
         },
         {
          "i": 4.663003503105527e-05,
          "t": 12.94,
          "v": -1.05334
         },
         {
          "i": 4.653336732919192e-05,
          "t": 12.95,
          "v": -1.05284
         },
         {
          "i": 4.6439077142856516e-05,
          "t": 12.96,
          "v": -1.05228
         },
         {
          "i": 4.634971950310496e-05,
          "t": 12.97,
          "v": -1.05183
         },
         {
          "i": 4.6254068322980745e-05,
          "t": 12.98,
          "v": -1.0513
         },
         {
          "i": 4.617021304347764e-05,
          "t": 12.99,
          "v": -1.05083
         },
         {
          "i": 4.606046012422298e-05,
          "t": 13,
          "v": -1.05033
         },
         {
          "i": 4.594582894409876e-05,
          "t": 13.01,
          "v": -1.04977
         },
         {
          "i": 4.585818099378821e-05,
          "t": 13.02,
          "v": -1.04936
         },
         {
          "i": 4.5772845093167085e-05,
          "t": 13.03,
          "v": -1.04884
         },
         {
          "i": 4.567884807453355e-05,
          "t": 13.04,
          "v": -1.04828
         },
         {
          "i": 4.5560490931676405e-05,
          "t": 13.05,
          "v": -1.04785
         },
         {
          "i": 4.544054335403666e-05,
          "t": 13.06,
          "v": -1.04729
         },
         {
          "i": 4.534226521739069e-05,
          "t": 13.07,
          "v": -1.04682
         },
         {
          "i": 4.5265501242235416e-05,
          "t": 13.08,
          "v": -1.04634
         },
         {
          "i": 4.5184665962732314e-05,
          "t": 13.09,
          "v": -1.04578
         },
         {
          "i": 4.508925689440933e-05,
          "t": 13.1,
          "v": -1.04532
         },
         {
          "i": 4.5003399254657786e-05,
          "t": 13.11,
          "v": -1.04482
         },
         {
          "i": 4.491938211180064e-05,
          "t": 13.12,
          "v": -1.0443
         },
         {
          "i": 4.4841955527949706e-05,
          "t": 13.13,
          "v": -1.04381
         },
         {
          "i": 4.4737377639750954e-05,
          "t": 13.14,
          "v": -1.04329
         },
         {
          "i": 4.46505300621112e-05,
          "t": 13.15,
          "v": -1.04282
         },
         {
          "i": 4.4565751677018024e-05,
          "t": 13.16,
          "v": -1.04229
         },
         {
          "i": 4.4514411925465236e-05,
          "t": 13.17,
          "v": -1.04178
         },
         {
          "i": 4.444246546583792e-05,
          "t": 13.18,
          "v": -1.04133
         },
         {
          "i": 4.4374155900620524e-05,
          "t": 13.19,
          "v": -1.04079
         },
         {
          "i": 4.428597763975096e-05,
          "t": 13.2,
          "v": -1.04028
         },
         {
          "i": 4.421968770186276e-05,
          "t": 13.21,
          "v": -1.03981
         },
         {
          "i": 4.414104459627269e-05,
          "t": 13.22,
          "v": -1.03928
         },
         {
          "i": 4.409249391304288e-05,
          "t": 13.23,
          "v": -1.03879
         },
         {
          "i": 4.404378645962674e-05,
          "t": 13.24,
          "v": -1.03827
         },
         {
          "i": 4.397230819875717e-05,
          "t": 13.25,
          "v": -1.03778
         },
         {
          "i": 4.389257987577581e-05,
          "t": 13.26,
          "v": -1.03728
         },
         {
          "i": 4.381991677018575e-05,
          "t": 13.27,
          "v": -1.03679
         },
         {
          "i": 4.376528683229755e-05,
          "t": 13.28,
          "v": -1.0362
         },
         {
          "i": 4.3723369813664e-05,
          "t": 13.29,
          "v": -1.03588
         },
         {
          "i": 4.367062024844662e-05,
          "t": 13.3,
          "v": -1.03529
         },
         {
          "i": 4.3614257267080163e-05,
          "t": 13.31,
          "v": -1.03483
         },
         {
          "i": 4.354956844720438e-05,
          "t": 13.32,
          "v": -1.03436
         },
         {
          "i": 4.3475780869564634e-05,
          "t": 13.33,
          "v": -1.03375
         },
         {
          "i": 4.339776484471991e-05,
          "t": 13.34,
          "v": -1.0334
         },
         {
          "i": 4.329450881987519e-05,
          "t": 13.35,
          "v": -1.03284
         },
         {
          "i": 4.319111242235967e-05,
          "t": 13.36,
          "v": -1.03228
         },
         {
          "i": 4.313098956521681e-05,
          "t": 13.37,
          "v": -1.03187
         },
         {
          "i": 4.307346832298079e-05,
          "t": 13.38,
          "v": -1.03129
         },
         {
          "i": 4.2986751552794456e-05,
          "t": 13.39,
          "v": -1.03081
         },
         {
          "i": 4.2864857142856565e-05,
          "t": 13.4,
          "v": -1.0303
         },
         {
          "i": 4.2748361490682655e-05,
          "t": 13.41,
          "v": -1.02976
         },
         {
          "i": 4.262545118012365e-05,
          "t": 13.42,
          "v": -1.02935
         },
         {
          "i": 4.252319776397458e-05,
          "t": 13.43,
          "v": -1.02884
         },
         {
          "i": 4.2405559999999434e-05,
          "t": 13.44,
          "v": -1.02829
         },
         {
          "i": 4.2268132670806886e-05,
          "t": 13.45,
          "v": -1.02785
         },
         {
          "i": 4.217064857142801e-05,
          "t": 13.46,
          "v": -1.0273
         },
         {
          "i": 4.2057927701862786e-05,
          "t": 13.47,
          "v": -1.02686
         },
         {
          "i": 4.197413739130379e-05,
          "t": 13.48,
          "v": -1.02634
         },
         {
          "i": 4.188776248447149e-05,
          "t": 13.49,
          "v": -1.02579
         },
         {
          "i": 4.179326757763919e-05,
          "t": 13.5,
          "v": -1.02538
         },
         {
          "i": 4.171121515527894e-05,
          "t": 13.51,
          "v": -1.02484
         },
         {
          "i": 4.163047540372615e-05,
          "t": 13.52,
          "v": -1.02431
         },
         {
          "i": 4.1567728944098825e-05,
          "t": 13.53,
          "v": -1.02388
         },
         {
          "i": 4.148916944099323e-05,
          "t": 13.54,
          "v": -1.0233
         },
         {
          "i": 4.1402861614906275e-05,
          "t": 13.55,
          "v": -1.02281
         },
         {
          "i": 4.1304593167701314e-05,
          "t": 13.56,
          "v": -1.02234
         },
         {
          "i": 4.1179581739129884e-05,
          "t": 13.57,
          "v": -1.02178
         },
         {
          "i": 4.108186472049634e-05,
          "t": 13.58,
          "v": -1.02134
         },
         {
          "i": 4.100167093167647e-05,
          "t": 13.59,
          "v": -1.02084
         },
         {
          "i": 4.087969813664542e-05,
          "t": 13.6,
          "v": -1.0203
         },
         {
          "i": 4.0723514409937345e-05,
          "t": 13.61,
          "v": -1.01981
         },
         {
          "i": 4.055679304347772e-05,
          "t": 13.62,
          "v": -1.01929
         },
         {
          "i": 4.039157813664542e-05,
          "t": 13.63,
          "v": -1.01883
         },
         {
          "i": 4.023977801242182e-05,
          "t": 13.64,
          "v": -1.0183
         },
         {
          "i": 4.007552509316716e-05,
          "t": 13.65,
          "v": -1.01778
         },
         {
          "i": 3.9902583478260335e-05,
          "t": 13.66,
          "v": -1.01735
         },
         {
          "i": 3.974615254658331e-05,
          "t": 13.67,
          "v": -1.0168
         },
         {
          "i": 3.962019614906779e-05,
          "t": 13.68,
          "v": -1.01629
         },
         {
          "i": 3.946361900621065e-05,
          "t": 13.69,
          "v": -1.01582
         },
         {
          "i": 3.934943850931624e-05,
          "t": 13.7,
          "v": -1.01528
         },
         {
          "i": 3.9219967701862834e-05,
          "t": 13.71,
          "v": -1.01479
         },
         {
          "i": 3.909436683229761e-05,
          "t": 13.72,
          "v": -1.01428
         },
         {
          "i": 3.898341304347774e-05,
          "t": 13.73,
          "v": -1.01378
         },
         {
          "i": 3.8872249192546064e-05,
          "t": 13.74,
          "v": -1.01329
         },
         {
          "i": 3.877599888198706e-05,
          "t": 13.75,
          "v": -1.01278
         },
         {
          "i": 3.867260447204917e-05,
          "t": 13.76,
          "v": -1.01228
         },
         {
          "i": 3.858865490683178e-05,
          "t": 13.77,
          "v": -1.01179
         },
         {
          "i": 3.848995950310508e-05,
          "t": 13.78,
          "v": -1.01129
         },
         {
          "i": 3.838045726708023e-05,
          "t": 13.79,
          "v": -1.01081
         },
         {
          "i": 3.8307952422359733e-05,
          "t": 13.8,
          "v": -1.01039
         },
         {
          "i": 3.822063739130384e-05,
          "t": 13.81,
          "v": -1.00975
         },
         {
          "i": 3.811504956521688e-05,
          "t": 13.82,
          "v": -1.00938
         },
         {
          "i": 3.801498298136595e-05,
          "t": 13.83,
          "v": -1.00886
         },
         {
          "i": 3.791685962732868e-05,
          "t": 13.84,
          "v": -1.00833
         },
         {
          "i": 3.7830672298136136e-05,
          "t": 13.85,
          "v": -1.00789
         },
         {
          "i": 3.7745585838508806e-05,
          "t": 13.86,
          "v": -1.0073
         },
         {
          "i": 3.76457402484467e-05,
          "t": 13.87,
          "v": -1.00688
         },
         {
          "i": 3.755068819875726e-05,
          "t": 13.88,
          "v": -1.00635
         },
         {
          "i": 3.746041192546533e-05,
          "t": 13.89,
          "v": -1.00575
         },
         {
          "i": 3.735847440993739e-05,
          "t": 13.9,
          "v": -1.00537
         },
         {
          "i": 3.727544869565167e-05,
          "t": 13.91,
          "v": -1.00482
         },
         {
          "i": 3.719690881987528e-05,
          "t": 13.92,
          "v": -1.00429
         },
         {
          "i": 3.7095145341614405e-05,
          "t": 13.93,
          "v": -1.00383
         },
         {
          "i": 3.6998588074533664e-05,
          "t": 13.94,
          "v": -1.0033
         },
         {
          "i": 3.6912599627328695e-05,
          "t": 13.95,
          "v": -1.00285
         },
         {
          "i": 3.683768198757714e-05,
          "t": 13.96,
          "v": -1.00233
         },
         {
          "i": 3.678070484472e-05,
          "t": 13.97,
          "v": -1.00177
         },
         {
          "i": 3.671944732919206e-05,
          "t": 13.98,
          "v": -1.00138
         },
         {
          "i": 3.6671602236024343e-05,
          "t": 13.99,
          "v": -1.00085
         },
         {
          "i": 3.66141694409933e-05,
          "t": 14,
          "v": -1.0003
         },
         {
          "i": 3.656274198757715e-05,
          "t": 14.01,
          "v": -0.999875
         },
         {
          "i": 3.652092111801193e-05,
          "t": 14.02,
          "v": -0.999304
         },
         {
          "i": 3.647666608695603e-05,
          "t": 14.03,
          "v": -0.998857
         },
         {
          "i": 3.640542981366411e-05,
          "t": 14.04,
          "v": -0.99835
         },
         {
          "i": 3.6324560745341124e-05,
          "t": 14.05,
          "v": -0.997785
         },
         {
          "i": 3.6233585838508825e-05,
          "t": 14.06,
          "v": -0.99738
         },
         {
          "i": 3.615155217391256e-05,
          "t": 14.07,
          "v": -0.996857
         },
         {
          "i": 3.606577701863306e-05,
          "t": 14.08,
          "v": -0.996337
         },
         {
          "i": 3.599347217391256e-05,
          "t": 14.09,
          "v": -0.995853
         },
         {
          "i": 3.588476968944051e-05,
          "t": 14.1,
          "v": -0.995313
         },
         {
          "i": 3.5782554037266596e-05,
          "t": 14.11,
          "v": -0.994858
         },
         {
          "i": 3.5671166335403246e-05,
          "t": 14.12,
          "v": -0.994329
         },
         {
          "i": 3.5564011428570953e-05,
          "t": 14.13,
          "v": -0.993803
         },
         {
          "i": 3.545795118012374e-05,
          "t": 14.14,
          "v": -0.993368
         },
         {
          "i": 3.5354957639751075e-05,
          "t": 14.15,
          "v": -0.992814
         },
         {
          "i": 3.5270396645962256e-05,
          "t": 14.16,
          "v": -0.992312
         },
         {
          "i": 3.518597440993742e-05,
          "t": 14.17,
          "v": -0.991843
         },
         {
          "i": 3.509350968944052e-05,
          "t": 14.18,
          "v": -0.991296
         },
         {
          "i": 3.498319577639705e-05,
          "t": 14.19,
          "v": -0.990814
         },
         {
          "i": 3.485624459627282e-05,
          "t": 14.2,
          "v": -0.990311
         },
         {
          "i": 3.47396383850927e-05,
          "t": 14.21,
          "v": -0.989793
         },
         {
          "i": 3.4620357267080277e-05,
          "t": 14.22,
          "v": -0.989307
         },
         {
          "i": 3.4504036645962266e-05,
          "t": 14.23,
          "v": -0.988795
         },
         {
          "i": 3.435881888198711e-05,
          "t": 14.24,
          "v": -0.988301
         },
         {
          "i": 3.418088559006165e-05,
          "t": 14.25,
          "v": -0.987791
         },
         {
          "i": 3.3953870062111345e-05,
          "t": 14.26,
          "v": -0.987293
         },
         {
          "i": 3.3725503726707623e-05,
          "t": 14.27,
          "v": -0.986823
         },
         {
          "i": 3.3486406211179674e-05,
          "t": 14.28,
          "v": -0.986295
         },
         {
          "i": 3.324229875776353e-05,
          "t": 14.29,
          "v": -0.985791
         },
         {
          "i": 3.2992228447204525e-05,
          "t": 14.3,
          "v": -0.985363
         },
         {
          "i": 3.272231863353993e-05,
          "t": 14.31,
          "v": -0.984868
         },
         {
          "i": 3.24253616149064e-05,
          "t": 14.32,
          "v": -0.984336
         },
         {
          "i": 3.2142792173912606e-05,
          "t": 14.33,
          "v": -0.983894
         },
         {
          "i": 3.184918931676975e-05,
          "t": 14.34,
          "v": -0.9833
         },
         {
          "i": 3.1550095031055475e-05,
          "t": 14.35,
          "v": -0.982922
         },
         {
          "i": 3.127349490683188e-05,
          "t": 14.36,
          "v": -0.982379
         },
         {
          "i": 3.100632708074492e-05,
          "t": 14.37,
          "v": -0.981744
         },
         {
          "i": 3.07604506832294e-05,
          "t": 14.38,
          "v": -0.98139
         },
         {
          "i": 3.0511457515527545e-05,
          "t": 14.39,
          "v": -0.980858
         },
         {
          "i": 3.0257555403726298e-05,
          "t": 14.4,
          "v": -0.980316
         },
         {
          "i": 2.9992352298136244e-05,
          "t": 14.41,
          "v": -0.979853
         },
         {
          "i": 2.9766002732918854e-05,
          "t": 14.42,
          "v": -0.979297
         },
         {
          "i": 2.95542750310555e-05,
          "t": 14.43,
          "v": -0.978875
         },
         {
          "i": 2.9354445590061712e-05,
          "t": 14.44,
          "v": -0.978318
         },
         {
          "i": 2.916202534161451e-05,
          "t": 14.45,
          "v": -0.977784
         },
         {
          "i": 2.894614086956483e-05,
          "t": 14.46,
          "v": -0.977416
         },
         {
          "i": 2.8718304223602102e-05,
          "t": 14.47,
          "v": -0.97685
         },
         {
          "i": 2.8511579378881607e-05,
          "t": 14.48,
          "v": -0.976319
         },
         {
          "i": 2.8286764844720117e-05,
          "t": 14.49,
          "v": -0.975895
         },
         {
          "i": 2.8044748695651792e-05,
          "t": 14.5,
          "v": -0.975302
         },
         {
          "i": 2.781520732919217e-05,
          "t": 14.51,
          "v": -0.974864
         },
         {
          "i": 2.757525739130398e-05,
          "t": 14.52,
          "v": -0.974366
         },
         {
          "i": 2.732651763975118e-05,
          "t": 14.53,
          "v": -0.973803
         },
         {
          "i": 2.7057995776397152e-05,
          "t": 14.54,
          "v": -0.973381
         },
         {
          "i": 2.676554844720461e-05,
          "t": 14.55,
          "v": -0.97287
         },
         {
          "i": 2.6463089068322627e-05,
          "t": 14.56,
          "v": -0.972303
         },
         {
          "i": 2.6172374782608342e-05,
          "t": 14.57,
          "v": -0.971831
         },
         {
          "i": 2.5873753167701513e-05,
          "t": 14.58,
          "v": -0.971294
         },
         {
          "i": 2.5554075403726363e-05,
          "t": 14.59,
          "v": -0.970829
         },
         {
          "i": 2.5239826956521398e-05,
          "t": 14.6,
          "v": -0.97031
         },
         {
          "i": 2.4900728571428237e-05,
          "t": 14.61,
          "v": -0.969768
         },
         {
          "i": 2.454557055900588e-05,
          "t": 14.62,
          "v": -0.969368
         },
         {
          "i": 2.419410869565185e-05,
          "t": 14.63,
          "v": -0.968811
         },
         {
          "i": 2.3847150186335082e-05,
          "t": 14.64,
          "v": -0.96828
         },
         {
          "i": 2.347631875776366e-05,
          "t": 14.65,
          "v": -0.967836
         },
         {
          "i": 2.312279403726677e-05,
          "t": 14.66,
          "v": -0.967284
         },
         {
          "i": 2.2788862732918948e-05,
          "t": 14.67,
          "v": -0.966793
         },
         {
          "i": 2.2451166459627026e-05,
          "t": 14.68,
          "v": -0.966303
         },
         {
          "i": 2.2144508447204668e-05,
          "t": 14.69,
          "v": -0.965778
         },
         {
          "i": 2.1860748322981073e-05,
          "t": 14.7,
          "v": -0.965306
         },
         {
          "i": 2.1561000248446916e-05,
          "t": 14.71,
          "v": -0.964778
         },
         {
          "i": 2.131420335403698e-05,
          "t": 14.72,
          "v": -0.964268
         },
         {
          "i": 2.1092434037266798e-05,
          "t": 14.73,
          "v": -0.963785
         },
         {
          "i": 2.0883147204968663e-05,
          "t": 14.74,
          "v": -0.963273
         },
         {
          "i": 2.067716086956494e-05,
          "t": 14.75,
          "v": -0.962793
         },
         {
          "i": 2.0465240869564943e-05,
          "t": 14.76,
          "v": -0.962262
         },
         {
          "i": 2.0276474285714015e-05,
          "t": 14.77,
          "v": -0.961779
         },
         {
          "i": 2.009472546583824e-05,
          "t": 14.78,
          "v": -0.961343
         },
         {
          "i": 1.9889360496894142e-05,
          "t": 14.79,
          "v": -0.960778
         },
         {
          "i": 1.9638431925465572e-05,
          "t": 14.8,
          "v": -0.960265
         },
         {
          "i": 1.9378638260869304e-05,
          "t": 14.81,
          "v": -0.959801
         },
         {
          "i": 1.9097940993788563e-05,
          "t": 14.82,
          "v": -0.959294
         },
         {
          "i": 1.8756636521738876e-05,
          "t": 14.83,
          "v": -0.958882
         },
         {
          "i": 1.840167875776373e-05,
          "t": 14.84,
          "v": -0.958376
         },
         {
          "i": 1.803815614906808e-05,
          "t": 14.85,
          "v": -0.957721
         },
         {
          "i": 1.7633546211179885e-05,
          "t": 14.86,
          "v": -0.957413
         },
         {
          "i": 1.7210597515527717e-05,
          "t": 14.87,
          "v": -0.956869
         },
         {
          "i": 1.679609577639729e-05,
          "t": 14.88,
          "v": -0.956243
         },
         {
          "i": 1.6373754658384873e-05,
          "t": 14.89,
          "v": -0.955833
         },
         {
          "i": 1.5946517639751338e-05,
          "t": 14.9,
          "v": -0.955292
         },
         {
          "i": 1.551198285714265e-05,
          "t": 14.91,
          "v": -0.95484
         },
         {
          "i": 1.5076779254658182e-05,
          "t": 14.92,
          "v": -0.954304
         },
         {
          "i": 1.4668133167701664e-05,
          "t": 14.93,
          "v": -0.953761
         },
         {
          "i": 1.4295728720496704e-05,
          "t": 14.94,
          "v": -0.953379
         },
         {
          "i": 1.3909446944099195e-05,
          "t": 14.95,
          "v": -0.952797
         },
         {
          "i": 1.354818069565199e-05,
          "t": 14.96,
          "v": -0.95228
         },
         {
          "i": 1.31639688198756e-05,
          "t": 14.97,
          "v": -0.951859
         },
         {
          "i": 1.278576110558989e-05,
          "t": 14.98,
          "v": -0.951289
         },
         {
          "i": 1.2392301155279335e-05,
          "t": 14.99,
          "v": -0.950826
         },
         {
          "i": 1.1966179999999838e-05,
          "t": 15,
          "v": -0.950346
         },
         {
          "i": 1.1502149068322828e-05,
          "t": 15.01,
          "v": -0.949761
         },
         {
          "i": 1.1017536496894263e-05,
          "t": 15.02,
          "v": -0.949351
         },
         {
          "i": 1.0507852372670667e-05,
          "t": 15.03,
          "v": -0.948837
         },
         {
          "i": 9.97622421117999e-06,
          "t": 15.04,
          "v": -0.948308
         },
         {
          "i": 9.438433428571302e-06,
          "t": 15.05,
          "v": -0.947846
         },
         {
          "i": 8.91641749068311e-06,
          "t": 15.06,
          "v": -0.947298
         },
         {
          "i": 8.399774869565104e-06,
          "t": 15.07,
          "v": -0.946844
         },
         {
          "i": 7.874848447204864e-06,
          "t": 15.08,
          "v": -0.94633
         },
         {
          "i": 7.36886093167692e-06,
          "t": 15.09,
          "v": -0.945768
         },
         {
          "i": 6.8838148944098455e-06,
          "t": 15.1,
          "v": -0.945376
         },
         {
          "i": 6.421791416148982e-06,
          "t": 15.11,
          "v": -0.944835
         },
         {
          "i": 5.996184086956441e-06,
          "t": 15.12,
          "v": -0.944302
         },
         {
          "i": 5.594504745341541e-06,
          "t": 15.13,
          "v": -0.943859
         },
         {
          "i": 5.253818844720427e-06,
          "t": 15.14,
          "v": -0.943294
         },
         {
          "i": 4.95448381366453e-06,
          "t": 15.15,
          "v": -0.942817
         },
         {
          "i": 4.6605431652173295e-06,
          "t": 15.16,
          "v": -0.942324
         },
         {
          "i": 4.389986729192487e-06,
          "t": 15.17,
          "v": -0.941797
         },
         {
          "i": 4.08618182360243e-06,
          "t": 15.18,
          "v": -0.941314
         },
         {
          "i": 3.728315443478211e-06,
          "t": 15.19,
          "v": -0.940812
         },
         {
          "i": 3.362012439751508e-06,
          "t": 15.2,
          "v": -0.940295
         },
         {
          "i": 2.9776350981366062e-06,
          "t": 15.21,
          "v": -0.939798
         },
         {
          "i": 2.597001045962699e-06,
          "t": 15.22,
          "v": -0.939287
         },
         {
          "i": 2.250012842235995e-06,
          "t": 15.23,
          "v": -0.93882
         },
         {
          "i": 1.9263656919254407e-06,
          "t": 15.24,
          "v": -0.938286
         },
         {
          "i": 1.6557609366459412e-06,
          "t": 15.25,
          "v": -0.93779
         },
         {
          "i": 1.4407435329192361e-06,
          "t": 15.26,
          "v": -0.937341
         },
         {
          "i": 1.3028478409937722e-06,
          "t": 15.27,
          "v": -0.936788
         },
         {
          "i": 1.2245550409937732e-06,
          "t": 15.28,
          "v": -0.936285
         },
         {
          "i": 1.209754213664581e-06,
          "t": 15.29,
          "v": -0.935811
         },
         {
          "i": 1.2635285142856984e-06,
          "t": 15.3,
          "v": -0.935293
         },
         {
          "i": 1.3799749863353863e-06,
          "t": 15.31,
          "v": -0.934796
         },
         {
          "i": 1.5685568099378684e-06,
          "t": 15.32,
          "v": -0.934301
         },
         {
          "i": 1.8609445068322742e-06,
          "t": 15.33,
          "v": -0.933715
         },
         {
          "i": 2.2384505242235734e-06,
          "t": 15.34,
          "v": -0.933413
         },
         {
          "i": 2.6681478310558655e-06,
          "t": 15.35,
          "v": -0.932875
         },
         {
          "i": 3.155369048447163e-06,
          "t": 15.36,
          "v": -0.932297
         },
         {
          "i": 3.696191269565168e-06,
          "t": 15.37,
          "v": -0.931888
         },
         {
          "i": 4.266874519254601e-06,
          "t": 15.38,
          "v": -0.931303
         },
         {
          "i": 4.868695785093102e-06,
          "t": 15.39,
          "v": -0.930927
         },
         {
          "i": 5.4334232099378156e-06,
          "t": 15.4,
          "v": -0.930348
         },
         {
          "i": 6.017373001242156e-06,
          "t": 15.41,
          "v": -0.92977
         },
         {
          "i": 6.612776509316681e-06,
          "t": 15.42,
          "v": -0.929445
         },
         {
          "i": 7.189970521739034e-06,
          "t": 15.43,
          "v": -0.928845
         },
         {
          "i": 7.781794161490578e-06,
          "t": 15.44,
          "v": -0.928314
         },
         {
          "i": 8.36097763975144e-06,
          "t": 15.45,
          "v": -0.927856
         },
         {
          "i": 8.909180745341493e-06,
          "t": 15.46,
          "v": -0.927304
         },
         {
          "i": 9.444985515527822e-06,
          "t": 15.47,
          "v": -0.926891
         },
         {
          "i": 9.951193888198623e-06,
          "t": 15.48,
          "v": -0.926367
         },
         {
          "i": 1.0423123950310419e-05,
          "t": 15.49,
          "v": -0.925805
         },
         {
          "i": 1.0838482024844573e-05,
          "t": 15.5,
          "v": -0.925391
         },
         {
          "i": 1.1216622720496744e-05,
          "t": 15.51,
          "v": -0.924869
         },
         {
          "i": 1.1581082236024688e-05,
          "t": 15.52,
          "v": -0.924359
         },
         {
          "i": 1.1937588745341454e-05,
          "t": 15.53,
          "v": -0.923881
         },
         {
          "i": 1.2304618260869398e-05,
          "t": 15.54,
          "v": -0.923319
         },
         {
          "i": 1.2688528447204799e-05,
          "t": 15.55,
          "v": -0.922914
         },
         {
          "i": 1.3070724049689266e-05,
          "t": 15.56,
          "v": -0.922376
         },
         {
          "i": 1.3452337329192366e-05,
          "t": 15.57,
          "v": -0.921839
         },
         {
          "i": 1.3859851527950125e-05,
          "t": 15.58,
          "v": -0.921422
         },
         {
          "i": 1.4312163602484278e-05,
          "t": 15.59,
          "v": -0.920844
         },
         {
          "i": 1.4802601739130236e-05,
          "t": 15.6,
          "v": -0.920315
         },
         {
          "i": 1.5323999503105385e-05,
          "t": 15.61,
          "v": -0.919871
         },
         {
          "i": 1.586629267080724e-05,
          "t": 15.62,
          "v": -0.919309
         },
         {
          "i": 1.6403003850931457e-05,
          "t": 15.63,
          "v": -0.918849
         },
         {
          "i": 1.6914368695651945e-05,
          "t": 15.64,
          "v": -0.918366
         },
         {
          "i": 1.7438038633540138e-05,
          "t": 15.65,
          "v": -0.91782
         },
         {
          "i": 1.800322596273268e-05,
          "t": 15.66,
          "v": -0.917348
         },
         {
          "i": 1.8531685217391056e-05,
          "t": 15.67,
          "v": -0.916836
         },
         {
          "i": 1.911407478260844e-05,
          "t": 15.68,
          "v": -0.916329
         },
         {
          "i": 1.9698972919254394e-05,
          "t": 15.69,
          "v": -0.915821
         },
         {
          "i": 2.028749018633513e-05,
          "t": 15.7,
          "v": -0.915312
         },
         {
          "i": 2.087993763975127e-05,
          "t": 15.71,
          "v": -0.914849
         },
         {
          "i": 2.1475131180123937e-05,
          "t": 15.72,
          "v": -0.914314
         },
         {
          "i": 2.207984869565188e-05,
          "t": 15.73,
          "v": -0.913816
         },
         {
          "i": 2.269028857142827e-05,
          "t": 15.74,
          "v": -0.913367
         },
         {
          "i": 2.3287553913043162e-05,
          "t": 15.75,
          "v": -0.912812
         },
         {
          "i": 2.3850695279502785e-05,
          "t": 15.76,
          "v": -0.912316
         },
         {
          "i": 2.43718863354034e-05,
          "t": 15.77,
          "v": -0.911821
         },
         {
          "i": 2.48678315527947e-05,
          "t": 15.78,
          "v": -0.911308
         },
         {
          "i": 2.5326942360248108e-05,
          "t": 15.79,
          "v": -0.910817
         },
         {
          "i": 2.5749374037266736e-05,
          "t": 15.8,
          "v": -0.910309
         },
         {
          "i": 2.616505068322946e-05,
          "t": 15.81,
          "v": -0.909812
         },
         {
          "i": 2.655304583850896e-05,
          "t": 15.82,
          "v": -0.909325
         },
         {
          "i": 2.6886010807453056e-05,
          "t": 15.83,
          "v": -0.908813
         },
         {
          "i": 2.7202775279502737e-05,
          "t": 15.84,
          "v": -0.908252
         },
         {
          "i": 2.7488154658384723e-05,
          "t": 15.85,
          "v": -0.907896
         },
         {
          "i": 2.7759836645962362e-05,
          "t": 15.86,
          "v": -0.907301
         },
         {
          "i": 2.8058629813664222e-05,
          "t": 15.87,
          "v": -0.906883
         },
         {
          "i": 2.837894807453378e-05,
          "t": 15.88,
          "v": -0.90637
         },
         {
          "i": 2.8688749565217008e-05,
          "t": 15.89,
          "v": -0.905765
         },
         {
          "i": 2.9058406832297744e-05,
          "t": 15.9,
          "v": -0.905448
         },
         {
          "i": 2.9423711552794638e-05,
          "t": 15.91,
          "v": -0.904864
         },
         {
          "i": 2.9843608447204572e-05,
          "t": 15.92,
          "v": -0.904347
         },
         {
          "i": 3.028806111801201e-05,
          "t": 15.93,
          "v": -0.903893
         },
         {
          "i": 3.073196322981325e-05,
          "t": 15.94,
          "v": -0.903307
         },
         {
          "i": 3.119802981366418e-05,
          "t": 15.95,
          "v": -0.90286
         },
         {
          "i": 3.167085329192504e-05,
          "t": 15.96,
          "v": -0.902339
         },
         {
          "i": 3.212980931676975e-05,
          "t": 15.97,
          "v": -0.901792
         },
         {
          "i": 3.256197652173869e-05,
          "t": 15.98,
          "v": -0.901382
         },
         {
          "i": 3.299904397515484e-05,
          "t": 15.99,
          "v": -0.900861
         },
         {
          "i": 3.341229801242191e-05,
          "t": 16,
          "v": -0.900327
         },
         {
          "i": 3.3810975900620667e-05,
          "t": 16.01,
          "v": -0.899872
         },
         {
          "i": 3.419220645962687e-05,
          "t": 16.02,
          "v": -0.89931
         },
         {
          "i": 3.455079080745295e-05,
          "t": 16.03,
          "v": -0.898907
         },
         {
          "i": 3.488023242235978e-05,
          "t": 16.04,
          "v": -0.898354
         },
         {
          "i": 3.5212820869564746e-05,
          "t": 16.05,
          "v": -0.897811
         },
         {
          "i": 3.554507813664548e-05,
          "t": 16.06,
          "v": -0.89743
         },
         {
          "i": 3.584998273291877e-05,
          "t": 16.07,
          "v": -0.896867
         },
         {
          "i": 3.615108161490635e-05,
          "t": 16.08,
          "v": -0.896339
         },
         {
          "i": 3.6480046708074044e-05,
          "t": 16.09,
          "v": -0.895899
         },
         {
          "i": 3.682037813664547e-05,
          "t": 16.1,
          "v": -0.895318
         },
         {
          "i": 3.713915776397465e-05,
          "t": 16.11,
          "v": -0.89488
         },
         {
          "i": 3.7489557515527444e-05,
          "t": 16.12,
          "v": -0.894388
         },
         {
          "i": 3.7839581118011914e-05,
          "t": 16.13,
          "v": -0.89383
         },
         {
          "i": 3.821391826086905e-05,
          "t": 16.14,
          "v": -0.893379
         },
         {
          "i": 3.8581903602483957e-05,
          "t": 16.15,
          "v": -0.892868
         },
         {
          "i": 3.8965619378881466e-05,
          "t": 16.16,
          "v": -0.89236
         },
         {
          "i": 3.933767329192493e-05,
          "t": 16.17,
          "v": -0.891842
         },
         {
          "i": 3.970568683229759e-05,
          "t": 16.18,
          "v": -0.891318
         },
         {
          "i": 4.0059435279502564e-05,
          "t": 16.19,
          "v": -0.890887
         },
         {
          "i": 4.039180770186281e-05,
          "t": 16.2,
          "v": -0.890342
         },
         {
          "i": 4.072382546583796e-05,
          "t": 16.21,
          "v": -0.889825
         },
         {
          "i": 4.102809714285659e-05,
          "t": 16.22,
          "v": -0.889391
         },
         {
          "i": 4.1308917639750995e-05,
          "t": 16.23,
          "v": -0.888824
         },
         {
          "i": 4.1564659999999433e-05,
          "t": 16.24,
          "v": -0.888333
         },
         {
          "i": 4.1797357267080184e-05,
          "t": 16.25,
          "v": -0.887848
         },
         {
          "i": 4.201616968944043e-05,
          "t": 16.26,
          "v": -0.887322
         },
         {
          "i": 4.222506149068266e-05,
          "t": 16.27,
          "v": -0.88683
         },
         {
          "i": 4.240178260869508e-05,
          "t": 16.28,
          "v": -0.886333
         },
         {
          "i": 4.2568842732918676e-05,
          "t": 16.29,
          "v": -0.885822
         },
         {
          "i": 4.274011130434725e-05,
          "t": 16.3,
          "v": -0.885333
         },
         {
          "i": 4.2907779875775816e-05,
          "t": 16.31,
          "v": -0.884819
         },
         {
          "i": 4.304303838509259e-05,
          "t": 16.32,
          "v": -0.884341
         },
         {
          "i": 4.31597638509311e-05,
          "t": 16.33,
          "v": -0.883822
         },
         {
          "i": 4.32804139130429e-05,
          "t": 16.34,
          "v": -0.883331
         },
         {
          "i": 4.337337888198699e-05,
          "t": 16.35,
          "v": -0.8829
         },
         {
          "i": 4.347873490683171e-05,
          "t": 16.36,
          "v": -0.882419
         },
         {
          "i": 4.358871130434724e-05,
          "t": 16.37,
          "v": -0.881792
         },
         {
          "i": 4.369036732919196e-05,
          "t": 16.38,
          "v": -0.881455
         },
         {
          "i": 4.3769499378881394e-05,
          "t": 16.39,
          "v": -0.880885
         },
         {
          "i": 4.38714147826081e-05,
          "t": 16.4,
          "v": -0.880401
         },
         {
          "i": 4.396169043478202e-05,
          "t": 16.41,
          "v": -0.879921
         },
         {
          "i": 4.40423997515522e-05,
          "t": 16.42,
          "v": -0.879306
         },
         {
          "i": 4.4133823105589464e-05,
          "t": 16.43,
          "v": -0.878909
         },
         {
          "i": 4.423147304347766e-05,
          "t": 16.44,
          "v": -0.87839
         },
         {
          "i": 4.4323220745341015e-05,
          "t": 16.45,
          "v": -0.877804
         },
         {
          "i": 4.4394280496893814e-05,
          "t": 16.46,
          "v": -0.877374
         },
         {
          "i": 4.445747950310499e-05,
          "t": 16.47,
          "v": -0.876837
         },
         {
          "i": 4.4514548447204373e-05,
          "t": 16.48,
          "v": -0.876348
         },
         {
          "i": 4.456385366459568e-05,
          "t": 16.49,
          "v": -0.875848
         },
         {
          "i": 4.461986944099319e-05,
          "t": 16.5,
          "v": -0.875316
         },
         {
          "i": 4.468023217391244e-05,
          "t": 16.51,
          "v": -0.874911
         },
         {
          "i": 4.472836149068264e-05,
          "t": 16.52,
          "v": -0.874372
         },
         {
          "i": 4.476614559006151e-05,
          "t": 16.53,
          "v": -0.873827
         },
         {
          "i": 4.4811088074533555e-05,
          "t": 16.54,
          "v": -0.873428
         },
         {
          "i": 4.48531552795025e-05,
          "t": 16.55,
          "v": -0.872867
         },
         {
          "i": 4.490890347826027e-05,
          "t": 16.56,
          "v": -0.872353
         },
         {
          "i": 4.494649279503045e-05,
          "t": 16.57,
          "v": -0.871903
         },
         {
          "i": 4.5003864844719896e-05,
          "t": 16.58,
          "v": -0.871329
         },
         {
          "i": 4.503809142857082e-05,
          "t": 16.59,
          "v": -0.870897
         },
         {
          "i": 4.50701706832292e-05,
          "t": 16.6,
          "v": -0.870396
         },
         {
          "i": 4.509319142857083e-05,
          "t": 16.61,
          "v": -0.869795
         },
         {
          "i": 4.515499677018573e-05,
          "t": 16.62,
          "v": -0.869357
         },
         {
          "i": 4.519895391304287e-05,
          "t": 16.63,
          "v": -0.868836
         },
         {
          "i": 4.5246542236024236e-05,
          "t": 16.64,
          "v": -0.86832
         },
         {
          "i": 4.529075291925405e-05,
          "t": 16.65,
          "v": -0.867828
         },
         {
          "i": 4.5322152546583246e-05,
          "t": 16.66,
          "v": -0.867304
         },
         {
          "i": 4.5350990434782004e-05,
          "t": 16.67,
          "v": -0.866866
         },
         {
          "i": 4.534419863353976e-05,
          "t": 16.68,
          "v": -0.866318
         },
         {
          "i": 4.535937155279442e-05,
          "t": 16.69,
          "v": -0.865791
         },
         {
          "i": 4.537696186335343e-05,
          "t": 16.7,
          "v": -0.865365
         },
         {
          "i": 4.5389714782608084e-05,
          "t": 16.71,
          "v": -0.864801
         },
         {
          "i": 4.54207554037261e-05,
          "t": 16.72,
          "v": -0.864298
         },
         {
          "i": 4.543282173912983e-05,
          "t": 16.73,
          "v": -0.863828
         },
         {
          "i": 4.54251950310553e-05,
          "t": 16.74,
          "v": -0.863291
         },
         {
          "i": 4.541340770186274e-05,
          "t": 16.75,
          "v": -0.862817
         },
         {
          "i": 4.542052521739069e-05,
          "t": 16.76,
          "v": -0.862311
         },
         {
          "i": 4.542974795030995e-05,
          "t": 16.77,
          "v": -0.861795
         },
         {
          "i": 4.542571962732858e-05,
          "t": 16.78,
          "v": -0.861306
         },
         {
          "i": 4.537370708074473e-05,
          "t": 16.79,
          "v": -0.860799
         },
         {
          "i": 4.5355592298136036e-05,
          "t": 16.8,
          "v": -0.860302
         },
         {
          "i": 4.530826447204908e-05,
          "t": 16.81,
          "v": -0.859799
         },
         {
          "i": 4.526528248447144e-05,
          "t": 16.82,
          "v": -0.859301
         },
         {
          "i": 4.5236737267080135e-05,
          "t": 16.83,
          "v": -0.858835
         },
         {
          "i": 4.523903217391244e-05,
          "t": 16.84,
          "v": -0.858295
         },
         {
          "i": 4.519795440993728e-05,
          "t": 16.85,
          "v": -0.857804
         },
         {
          "i": 4.5165850559005605e-05,
          "t": 16.86,
          "v": -0.857372
         },
         {
          "i": 4.51093755279497e-05,
          "t": 16.87,
          "v": -0.856879
         },
         {
          "i": 4.506019627329132e-05,
          "t": 16.88,
          "v": -0.856328
         },
         {
          "i": 4.502649490683169e-05,
          "t": 16.89,
          "v": -0.855893
         },
         {
          "i": 4.499860645962673e-05,
          "t": 16.9,
          "v": -0.855301
         },
         {
          "i": 4.497810596273231e-05,
          "t": 16.91,
          "v": -0.854942
         },
         {
          "i": 4.495200360248387e-05,
          "t": 16.92,
          "v": -0.854387
         },
         {
          "i": 4.4934260124223e-05,
          "t": 16.93,
          "v": -0.853747
         },
         {
          "i": 4.4905255403726107e-05,
          "t": 16.94,
          "v": -0.853387
         },
         {
          "i": 4.486263739130375e-05,
          "t": 16.95,
          "v": -0.852858
         },
         {
          "i": 4.4815981118011816e-05,
          "t": 16.96,
          "v": -0.852315
         },
         {
          "i": 4.477762434782548e-05,
          "t": 16.97,
          "v": -0.851838
         },
         {
          "i": 4.474483006211119e-05,
          "t": 16.98,
          "v": -0.851296
         },
         {
          "i": 4.469820099378822e-05,
          "t": 16.99,
          "v": -0.850865
         },
         {
          "i": 4.4616396397514925e-05,
          "t": 17,
          "v": -0.850301
         },
         {
          "i": 4.4538116645962135e-05,
          "t": 17.01,
          "v": -0.849781
         },
         {
          "i": 4.448690459627269e-05,
          "t": 17.02,
          "v": -0.849396
         },
         {
          "i": 4.4415077888198164e-05,
          "t": 17.03,
          "v": -0.848839
         },
         {
          "i": 4.435053888198699e-05,
          "t": 17.04,
          "v": -0.848324
         },
         {
          "i": 4.4295062484471456e-05,
          "t": 17.05,
          "v": -0.847886
         },
         {
          "i": 4.4228198012421764e-05,
          "t": 17.06,
          "v": -0.847308
         },
         {
          "i": 4.414860248447145e-05,
          "t": 17.07,
          "v": -0.846854
         },
         {
          "i": 4.4093386335403135e-05,
          "t": 17.08,
          "v": -0.846363
         },
         {
          "i": 4.4011957888198166e-05,
          "t": 17.09,
          "v": -0.845796
         },
         {
          "i": 4.395406795030997e-05,
          "t": 17.1,
          "v": -0.845382
         },
         {
          "i": 4.390430385093109e-05,
          "t": 17.11,
          "v": -0.844868
         },
         {
          "i": 4.387476596273233e-05,
          "t": 17.12,
          "v": -0.844347
         },
         {
          "i": 4.38447793788814e-05,
          "t": 17.13,
          "v": -0.843854
         },
         {
          "i": 4.3801908695651585e-05,
          "t": 17.14,
          "v": -0.84331
         },
         {
          "i": 4.376760670807395e-05,
          "t": 17.15,
          "v": -0.842874
         },
         {
          "i": 4.373668472049631e-05,
          "t": 17.16,
          "v": -0.842345
         },
         {
          "i": 4.370826186335346e-05,
          "t": 17.17,
          "v": -0.841804
         },
         {
          "i": 4.367556273291867e-05,
          "t": 17.18,
          "v": -0.8414
         },
         {
          "i": 4.364034981366401e-05,
          "t": 17.19,
          "v": -0.840841
         },
         {
          "i": 4.359953291925407e-05,
          "t": 17.2,
          "v": -0.840329
         },
         {
          "i": 4.35342845962727e-05,
          "t": 17.21,
          "v": -0.839856
         },
         {
          "i": 4.3460361118011844e-05,
          "t": 17.22,
          "v": -0.839313
         },
         {
          "i": 4.340691465838451e-05,
          "t": 17.23,
          "v": -0.838832
         },
         {
          "i": 4.3355840124223025e-05,
          "t": 17.24,
          "v": -0.838337
         },
         {
          "i": 4.3297903850931094e-05,
          "t": 17.25,
          "v": -0.837815
         },
         {
          "i": 4.3235753913042904e-05,
          "t": 17.26,
          "v": -0.837342
         },
         {
          "i": 4.315785515527892e-05,
          "t": 17.27,
          "v": -0.836818
         },
         {
          "i": 4.3080512546583274e-05,
          "t": 17.28,
          "v": -0.836328
         },
         {
          "i": 4.301779453416091e-05,
          "t": 17.29,
          "v": -0.835814
         },
         {
          "i": 4.2950103229813085e-05,
          "t": 17.3,
          "v": -0.835319
         },
         {
          "i": 4.287131043478204e-05,
          "t": 17.31,
          "v": -0.834875
         },
         {
          "i": 4.2800967080744766e-05,
          "t": 17.32,
          "v": -0.834319
         },
         {
          "i": 4.2741171801241666e-05,
          "t": 17.33,
          "v": -0.833817
         },
         {
          "i": 4.267439093167644e-05,
          "t": 17.34,
          "v": -0.833378
         },
         {
          "i": 4.260902186335346e-05,
          "t": 17.35,
          "v": -0.832817
         },
         {
          "i": 4.2530931304347254e-05,
          "t": 17.36,
          "v": -0.832321
         },
         {
          "i": 4.244621316770129e-05,
          "t": 17.37,
          "v": -0.831826
         },
         {
          "i": 4.2340588198757196e-05,
          "t": 17.38,
          "v": -0.831302
         },
         {
          "i": 4.2231488571428e-05,
          "t": 17.39,
          "v": -0.830946
         },
         {
          "i": 4.210223515527894e-05,
          "t": 17.4,
          "v": -0.830416
         },
         {
          "i": 4.197478919254602e-05,
          "t": 17.41,
          "v": -0.829756
         },
         {
          "i": 4.183160621117957e-05,
          "t": 17.42,
          "v": -0.829415
         },
         {
          "i": 4.166842099378826e-05,
          "t": 17.43,
          "v": -0.828885
         },
         {
          "i": 4.153535677018578e-05,
          "t": 17.44,
          "v": -0.82835
         },
         {
          "i": 4.13939778881982e-05,
          "t": 17.45,
          "v": -0.827867
         },
         {
          "i": 4.124436596273237e-05,
          "t": 17.46,
          "v": -0.827308
         },
         {
          "i": 4.108380521739075e-05,
          "t": 17.47,
          "v": -0.826937
         },
         {
          "i": 4.091874981366405e-05,
          "t": 17.48,
          "v": -0.826357
         },
         {
          "i": 4.075208596273237e-05,
          "t": 17.49,
          "v": -0.82581
         },
         {
          "i": 4.054815031055846e-05,
          "t": 17.5,
          "v": -0.825399
         },
         {
          "i": 4.036145329192492e-05,
          "t": 17.51,
          "v": -0.824822
         },
         {
          "i": 4.0167975155278965e-05,
          "t": 17.52,
          "v": -0.824334
         },
         {
          "i": 3.999441590062058e-05,
          "t": 17.53,
          "v": -0.82389
         },
         {
          "i": 3.9778501490682705e-05,
          "t": 17.54,
          "v": -0.823317
         },
         {
          "i": 3.957045180124171e-05,
          "t": 17.55,
          "v": -0.822873
         },
         {
          "i": 3.933948521739078e-05,
          "t": 17.56,
          "v": -0.822369
         },
         {
          "i": 3.912860931676966e-05,
          "t": 17.57,
          "v": -0.821814
         },
         {
          "i": 3.890657850931625e-05,
          "t": 17.58,
          "v": -0.821386
         },
         {
          "i": 3.866554273291874e-05,
          "t": 17.59,
          "v": -0.820871
         },
         {
          "i": 3.84321209937883e-05,
          "t": 17.6,
          "v": -0.820362
         },
         {
          "i": 3.822372695652123e-05,
          "t": 17.61,
          "v": -0.819881
         },
         {
          "i": 3.800491167701812e-05,
          "t": 17.62,
          "v": -0.819324
         },
         {
          "i": 3.7817978385092656e-05,
          "t": 17.63,
          "v": -0.818917
         },
         {
          "i": 3.762645590062061e-05,
          "t": 17.64,
          "v": -0.81837
         },
         {
          "i": 3.745044732919204e-05,
          "t": 17.65,
          "v": -0.817806
         },
         {
          "i": 3.731119602484422e-05,
          "t": 17.66,
          "v": -0.817424
         },
         {
          "i": 3.716235155279454e-05,
          "t": 17.67,
          "v": -0.816852
         },
         {
          "i": 3.703012186335354e-05,
          "t": 17.68,
          "v": -0.816354
         },
         {
          "i": 3.6923387701862854e-05,
          "t": 17.69,
          "v": -0.815885
         },
         {
          "i": 3.682224546583802e-05,
          "t": 17.7,
          "v": -0.815325
         },
         {
          "i": 3.671494509316721e-05,
          "t": 17.71,
          "v": -0.81486
         },
         {
          "i": 3.660265329192497e-05,
          "t": 17.72,
          "v": -0.814365
         },
         {
          "i": 3.652269291925416e-05,
          "t": 17.73,
          "v": -0.813828
         },
         {
          "i": 3.644795614906783e-05,
          "t": 17.74,
          "v": -0.813359
         },
         {
          "i": 3.637271639751504e-05,
          "t": 17.75,
          "v": -0.812841
         },
         {
          "i": 3.62659494409933e-05,
          "t": 17.76,
          "v": -0.812349
         },
         {
          "i": 3.6183474534161005e-05,
          "t": 17.77,
          "v": -0.81183
         },
         {
          "i": 3.609344944099331e-05,
          "t": 17.78,
          "v": -0.811331
         },
         {
          "i": 3.600891465838461e-05,
          "t": 17.79,
          "v": -0.81088
         },
         {
          "i": 3.590492633540324e-05,
          "t": 17.8,
          "v": -0.810331
         },
         {
          "i": 3.581491552794983e-05,
          "t": 17.81,
          "v": -0.809825
         },
         {
          "i": 3.5733648074533686e-05,
          "t": 17.82,
          "v": -0.809374
         },
         {
          "i": 3.565607080745294e-05,
          "t": 17.83,
          "v": -0.808817
         },
         {
          "i": 3.558765565217343e-05,
          "t": 17.84,
          "v": -0.808328
         },
         {
          "i": 3.553215167701816e-05,
          "t": 17.85,
          "v": -0.807829
         },
         {
          "i": 3.5457747080744865e-05,
          "t": 17.86,
          "v": -0.807323
         },
         {
          "i": 3.539072720496847e-05,
          "t": 17.87,
          "v": -0.806831
         },
         {
          "i": 3.534487515527903e-05,
          "t": 17.88,
          "v": -0.806335
         },
         {
          "i": 3.527312521739083e-05,
          "t": 17.89,
          "v": -0.805743
         },
         {
          "i": 3.5192189068322506e-05,
          "t": 17.9,
          "v": -0.805452
         },
         {
          "i": 3.511484434782561e-05,
          "t": 17.91,
          "v": -0.804893
         },
         {
          "i": 3.501656782608649e-05,
          "t": 17.92,
          "v": -0.804334
         },
         {
          "i": 3.4929014534161015e-05,
          "t": 17.93,
          "v": -0.803902
         },
         {
          "i": 3.484417304347779e-05,
          "t": 17.94,
          "v": -0.803306
         },
         {
          "i": 3.474914385093121e-05,
          "t": 17.95,
          "v": -0.802951
         },
         {
          "i": 3.46797778881983e-05,
          "t": 17.96,
          "v": -0.802386
         },
         {
          "i": 3.45729582608691e-05,
          "t": 17.97,
          "v": -0.801809
         },
         {
          "i": 3.444628248447158e-05,
          "t": 17.98,
          "v": -0.801465
         },
         {
          "i": 3.432543118012376e-05,
          "t": 17.99,
          "v": -0.800873
         },
         {
          "i": 3.420045142857097e-05,
          "t": 18,
          "v": -0.800349
         },
         {
          "i": 3.4062276645962276e-05,
          "t": 18.01,
          "v": -0.799878
         },
         {
          "i": 3.393215925465793e-05,
          "t": 18.02,
          "v": -0.799319
         },
         {
          "i": 3.382639142857097e-05,
          "t": 18.03,
          "v": -0.798929
         },
         {
          "i": 3.3718744596272834e-05,
          "t": 18.04,
          "v": -0.798401
         },
         {
          "i": 3.3610640869564765e-05,
          "t": 18.05,
          "v": -0.797815
         },
         {
          "i": 3.3509571180123775e-05,
          "t": 18.06,
          "v": -0.797416
         },
         {
          "i": 3.3394568074533715e-05,
          "t": 18.07,
          "v": -0.79689
         },
         {
          "i": 3.327846360248403e-05,
          "t": 18.08,
          "v": -0.796382
         },
         {
          "i": 3.318463826086912e-05,
          "t": 18.09,
          "v": -0.795897
         },
         {
          "i": 3.310891291925421e-05,
          "t": 18.1,
          "v": -0.795324
         },
         {
          "i": 3.300116298136602e-05,
          "t": 18.11,
          "v": -0.794907
         },
         {
          "i": 3.290681602484428e-05,
          "t": 18.12,
          "v": -0.794398
         },
         {
          "i": 3.281651105590018e-05,
          "t": 18.13,
          "v": -0.793828
         },
         {
          "i": 3.2728503354036826e-05,
          "t": 18.14,
          "v": -0.793433
         },
         {
          "i": 3.26532216149064e-05,
          "t": 18.15,
          "v": -0.792896
         },
         {
          "i": 3.257545838509273e-05,
          "t": 18.16,
          "v": -0.792378
         },
         {
          "i": 3.2486993788819446e-05,
          "t": 18.17,
          "v": -0.791925
         },
         {
          "i": 3.239432198757721e-05,
          "t": 18.18,
          "v": -0.791342
         },
         {
          "i": 3.225370099378839e-05,
          "t": 18.19,
          "v": -0.790918
         },
         {
          "i": 3.2130017142856706e-05,
          "t": 18.2,
          "v": -0.790426
         },
         {
          "i": 3.2016984347825655e-05,
          "t": 18.21,
          "v": -0.789872
         },
         {
          "i": 3.1881880993788394e-05,
          "t": 18.22,
          "v": -0.789398
         },
         {
          "i": 3.173438819875734e-05,
          "t": 18.23,
          "v": -0.788878
         },
         {
          "i": 3.157116211180082e-05,
          "t": 18.24,
          "v": -0.788385
         },
         {
          "i": 3.142828422360206e-05,
          "t": 18.25,
          "v": -0.787868
         },
         {
          "i": 3.127880198757722e-05,
          "t": 18.26,
          "v": -0.787348
         },
         {
          "i": 3.112579888198716e-05,
          "t": 18.27,
          "v": -0.786913
         },
         {
          "i": 3.0985480869564805e-05,
          "t": 18.28,
          "v": -0.786366
         },
         {
          "i": 3.084897130434741e-05,
          "t": 18.29,
          "v": -0.785845
         },
         {
          "i": 3.07359557763971e-05,
          "t": 18.3,
          "v": -0.785389
         },
         {
          "i": 3.062406161490642e-05,
          "t": 18.31,
          "v": -0.784839
         },
         {
          "i": 3.051806931676978e-05,
          "t": 18.32,
          "v": -0.784344
         },
         {
          "i": 3.0394319130434373e-05,
          "t": 18.33,
          "v": -0.783853
         },
         {
          "i": 3.02741803726704e-05,
          "t": 18.34,
          "v": -0.783341
         },
         {
          "i": 3.0154495652173506e-05,
          "t": 18.35,
          "v": -0.78284
         },
         {
          "i": 3.001660223602444e-05,
          "t": 18.36,
          "v": -0.782338
         },
         {
          "i": 2.9898290062111402e-05,
          "t": 18.37,
          "v": -0.781836
         },
         {
          "i": 2.978797167701823e-05,
          "t": 18.38,
          "v": -0.781345
         },
         {
          "i": 2.9661342236024445e-05,
          "t": 18.39,
          "v": -0.780831
         },
         {
          "i": 2.952852931676979e-05,
          "t": 18.4,
          "v": -0.780305
         },
         {
          "i": 2.9380535279502712e-05,
          "t": 18.41,
          "v": -0.779932
         },
         {
          "i": 2.924822670807414e-05,
          "t": 18.42,
          "v": -0.779319
         },
         {
          "i": 2.9120079875776006e-05,
          "t": 18.43,
          "v": -0.778911
         },
         {
          "i": 2.8987045590061727e-05,
          "t": 18.44,
          "v": -0.778429
         },
         {
          "i": 2.8847325714285326e-05,
          "t": 18.45,
          "v": -0.77782
         },
         {
          "i": 2.8723805465838124e-05,
          "t": 18.46,
          "v": -0.777463
         },
         {
          "i": 2.864260074534123e-05,
          "t": 18.47,
          "v": -0.776884
         },
         {
          "i": 2.854886285714247e-05,
          "t": 18.48,
          "v": -0.776388
         },
         {
          "i": 2.847875354037229e-05,
          "t": 18.49,
          "v": -0.775911
         },
         {
          "i": 2.8421837639751172e-05,
          "t": 18.5,
          "v": -0.775319
         },
         {
          "i": 2.8377439875776018e-05,
          "t": 18.51,
          "v": -0.774887
         },
         {
          "i": 2.833484459627291e-05,
          "t": 18.52,
          "v": -0.774366
         },
         {
          "i": 2.8288073043477876e-05,
          "t": 18.53,
          "v": -0.773842
         },
         {
          "i": 2.8241149316769808e-05,
          "t": 18.54,
          "v": -0.773423
         },
         {
          "i": 2.8194583602484096e-05,
          "t": 18.55,
          "v": -0.772883
         },
         {
          "i": 2.8145024347825706e-05,
          "t": 18.56,
          "v": -0.772381
         },
         {
          "i": 2.8097511180123847e-05,
          "t": 18.57,
          "v": -0.771902
         },
         {
          "i": 2.8043554534161116e-05,
          "t": 18.58,
          "v": -0.771338
         },
         {
          "i": 2.8004633167701488e-05,
          "t": 18.59,
          "v": -0.770938
         },
         {
          "i": 2.7961244720496518e-05,
          "t": 18.6,
          "v": -0.770405
         },
         {
          "i": 2.7904347577639372e-05,
          "t": 18.61,
          "v": -0.769857
         },
         {
          "i": 2.785587118012385e-05,
          "t": 18.62,
          "v": -0.769453
         },
         {
          "i": 2.7806524347825712e-05,
          "t": 18.63,
          "v": -0.768889
         },
         {
          "i": 2.7768353043477884e-05,
          "t": 18.64,
          "v": -0.768397
         },
         {
          "i": 2.7726969440993415e-05,
          "t": 18.65,
          "v": -0.767922
         },
         {
          "i": 2.768517515527913e-05,
          "t": 18.66,
          "v": -0.767328
         },
         {
          "i": 2.7634467204968574e-05,
          "t": 18.67,
          "v": -0.766885
         },
         {
          "i": 2.7610674409937518e-05,
          "t": 18.68,
          "v": -0.766379
         },
         {
          "i": 2.7578594906831926e-05,
          "t": 18.69,
          "v": -0.765827
         },
         {
          "i": 2.7535906335403358e-05,
          "t": 18.7,
          "v": -0.765384
         },
         {
          "i": 2.751120695652137e-05,
          "t": 18.71,
          "v": -0.764871
         },
         {
          "i": 2.748008248447168e-05,
          "t": 18.72,
          "v": -0.76437
         },
         {
          "i": 2.7462948447204603e-05,
          "t": 18.73,
          "v": -0.763851
         },
         {
          "i": 2.7432067329192176e-05,
          "t": 18.74,
          "v": -0.763334
         },
         {
          "i": 2.7397178385092798e-05,
          "t": 18.75,
          "v": -0.762885
         },
         {
          "i": 2.7362135279502735e-05,
          "t": 18.76,
          "v": -0.762345
         },
         {
          "i": 2.7328116149067957e-05,
          "t": 18.77,
          "v": -0.761831
         },
         {
          "i": 2.729072086956485e-05,
          "t": 18.78,
          "v": -0.761392
         },
         {
          "i": 2.7244626583850565e-05,
          "t": 18.79,
          "v": -0.76083
         },
         {
          "i": 2.7197863602484105e-05,
          "t": 18.8,
          "v": -0.760326
         },
         {
          "i": 2.7147729068322616e-05,
          "t": 18.81,
          "v": -0.759843
         },
         {
          "i": 2.7097510683229444e-05,
          "t": 18.82,
          "v": -0.75932
         },
         {
          "i": 2.7049364099378517e-05,
          "t": 18.83,
          "v": -0.758834
         },
         {
          "i": 2.700398857142821e-05,
          "t": 18.84,
          "v": -0.758334
         },
         {
          "i": 2.695254372670771e-05,
          "t": 18.85,
          "v": -0.75782
         },
         {
          "i": 2.689921155279467e-05,
          "t": 18.86,
          "v": -0.757339
         },
         {
          "i": 2.6850918136645605e-05,
          "t": 18.87,
          "v": -0.75682
         },
         {
          "i": 2.6804373167701502e-05,
          "t": 18.88,
          "v": -0.756328
         },
         {
          "i": 2.6761100496894054e-05,
          "t": 18.89,
          "v": -0.755809
         },
         {
          "i": 2.6714288695651815e-05,
          "t": 18.9,
          "v": -0.755324
         },
         {
          "i": 2.6650221366459266e-05,
          "t": 18.91,
          "v": -0.754873
         },
         {
          "i": 2.6600065714285355e-05,
          "t": 18.92,
          "v": -0.754406
         },
         {
          "i": 2.6563045714285357e-05,
          "t": 18.93,
          "v": -0.753801
         },
         {
          "i": 2.6528575279502746e-05,
          "t": 18.94,
          "v": -0.753422
         },
         {
          "i": 2.6495948198757412e-05,
          "t": 18.95,
          "v": -0.752881
         },
         {
          "i": 2.6449710434782255e-05,
          "t": 18.96,
          "v": -0.752368
         },
         {
          "i": 2.641977739130399e-05,
          "t": 18.97,
          "v": -0.751912
         },
         {
          "i": 2.6388949937887844e-05,
          "t": 18.98,
          "v": -0.751311
         },
         {
          "i": 2.6351561242235675e-05,
          "t": 18.99,
          "v": -0.750923
         },
         {
          "i": 2.6319526086956167e-05,
          "t": 19,
          "v": -0.750388
         },
         {
          "i": 2.6262773540372317e-05,
          "t": 19.01,
          "v": -0.749787
         },
         {
          "i": 2.6210664968943748e-05,
          "t": 19.02,
          "v": -0.749393
         },
         {
          "i": 2.61440875776394e-05,
          "t": 19.03,
          "v": -0.748829
         },
         {
          "i": 2.606884857142822e-05,
          "t": 19.04,
          "v": -0.748344
         },
         {
          "i": 2.5995613788819525e-05,
          "t": 19.05,
          "v": -0.747866
         },
         {
          "i": 2.5952262484471697e-05,
          "t": 19.06,
          "v": -0.747317
         },
         {
          "i": 2.5868966459626982e-05,
          "t": 19.07,
          "v": -0.746904
         },
         {
          "i": 2.5779026211179777e-05,
          "t": 19.08,
          "v": -0.746375
         },
         {
          "i": 2.5679163229813322e-05,
          "t": 19.09,
          "v": -0.745821
         },
         {
          "i": 2.5583481739130092e-05,
          "t": 19.1,
          "v": -0.745437
         },
         {
          "i": 2.5481610683229468e-05,
          "t": 19.11,
          "v": -0.744877
         },
         {
          "i": 2.536961527950277e-05,
          "t": 19.12,
          "v": -0.744355
         },
         {
          "i": 2.525224509316736e-05,
          "t": 19.13,
          "v": -0.7439
         },
         {
          "i": 2.5155425341614566e-05,
          "t": 19.14,
          "v": -0.743322
         },
         {
          "i": 2.5057316645962398e-05,
          "t": 19.15,
          "v": -0.742891
         },
         {
          "i": 2.4974043229813333e-05,
          "t": 19.16,
          "v": -0.742399
         },
         {
          "i": 2.4886286086956186e-05,
          "t": 19.17,
          "v": -0.741841
         },
         {
          "i": 2.4783711180123892e-05,
          "t": 19.18,
          "v": -0.741401
         },
         {
          "i": 2.471587142857109e-05,
          "t": 19.19,
          "v": -0.740879
         },
         {
          "i": 2.465850111801209e-05,
          "t": 19.2,
          "v": -0.740379
         },
         {
          "i": 2.4553760993788493e-05,
          "t": 19.21,
          "v": -0.739876
         },
         {
          "i": 2.4474101366459297e-05,
          "t": 19.22,
          "v": -0.739334
         },
         {
          "i": 2.440749378881955e-05,
          "t": 19.23,
          "v": -0.738902
         },
         {
          "i": 2.4361694285713955e-05,
          "t": 19.24,
          "v": -0.738368
         },
         {
          "i": 2.4305736149067995e-05,
          "t": 19.25,
          "v": -0.737834
         },
         {
          "i": 2.4217684968943773e-05,
          "t": 19.26,
          "v": -0.737403
         },
         {
          "i": 2.4138660993788494e-05,
          "t": 19.27,
          "v": -0.736859
         },
         {
          "i": 2.408015329192514e-05,
          "t": 19.28,
          "v": -0.736351
         },
         {
          "i": 2.3951984347825765e-05,
          "t": 19.29,
          "v": -0.735868
         },
         {
          "i": 2.3882078757763656e-05,
          "t": 19.3,
          "v": -0.73533
         },
         {
          "i": 2.378217987577608e-05,
          "t": 19.31,
          "v": -0.734857
         },
         {
          "i": 2.368693639751521e-05,
          "t": 19.32,
          "v": -0.734358
         },
         {
          "i": 2.3592002111800928e-05,
          "t": 19.33,
          "v": -0.733833
         },
         {
          "i": 2.3480394658384778e-05,
          "t": 19.34,
          "v": -0.733356
         },
         {
          "i": 2.337862322981335e-05,
          "t": 19.35,
          "v": -0.732835
         },
         {
          "i": 2.3302723975154967e-05,
          "t": 19.36,
          "v": -0.732356
         },
         {
          "i": 2.325715950310528e-05,
          "t": 19.37,
          "v": -0.731831
         },
         {
          "i": 2.3194023975154966e-05,
          "t": 19.38,
          "v": -0.731338
         },
         {
          "i": 2.311684459627298e-05,
          "t": 19.39,
          "v": -0.730889
         },
         {
          "i": 2.3012515155279193e-05,
          "t": 19.4,
          "v": -0.730335
         },
         {
          "i": 2.2931178260869256e-05,
          "t": 19.41,
          "v": -0.729835
         },
         {
          "i": 2.2815328322981064e-05,
          "t": 19.42,
          "v": -0.729391
         },
         {
          "i": 2.2692644099378575e-05,
          "t": 19.43,
          "v": -0.728893
         },
         {
          "i": 2.2618938385092862e-05,
          "t": 19.44,
          "v": -0.728428
         },
         {
          "i": 2.2533673788819575e-05,
          "t": 19.45,
          "v": -0.727935
         },
         {
          "i": 2.244308645962703e-05,
          "t": 19.46,
          "v": -0.727308
         },
         {
          "i": 2.234792111801212e-05,
          "t": 19.47,
          "v": -0.726939
         },
         {
          "i": 2.221098708074504e-05,
          "t": 19.48,
          "v": -0.726423
         },
         {
          "i": 2.211684434782579e-05,
          "t": 19.49,
          "v": -0.725786
         },
         {
          "i": 2.2032129565217098e-05,
          "t": 19.5,
          "v": -0.725412
         },
         {
          "i": 2.1908805714285418e-05,
          "t": 19.51,
          "v": -0.724877
         },
         {
          "i": 2.182138559006182e-05,
          "t": 19.52,
          "v": -0.724363
         },
         {
          "i": 2.1704543229813374e-05,
          "t": 19.53,
          "v": -0.723867
         },
         {
          "i": 2.1587768198757473e-05,
          "t": 19.54,
          "v": -0.723318
         },
         {
          "i": 2.1492975776397227e-05,
          "t": 19.55,
          "v": -0.722935
         },
         {
          "i": 2.1398416521738843e-05,
          "t": 19.56,
          "v": -0.722355
         },
         {
          "i": 2.1329422111800956e-05,
          "t": 19.57,
          "v": -0.721823
         },
         {
          "i": 2.1277718881987294e-05,
          "t": 19.58,
          "v": -0.721441
         },
         {
          "i": 2.122608509316742e-05,
          "t": 19.59,
          "v": -0.720877
         },
         {
          "i": 2.1164349440993505e-05,
          "t": 19.6,
          "v": -0.720369
         },
         {
          "i": 2.1098327826086674e-05,
          "t": 19.61,
          "v": -0.719913
         },
         {
          "i": 2.1054936273291642e-05,
          "t": 19.62,
          "v": -0.719331
         },
         {
          "i": 2.1029477888198474e-05,
          "t": 19.63,
          "v": -0.718901
         },
         {
          "i": 2.1010288944099096e-05,
          "t": 19.64,
          "v": -0.718414
         },
         {
          "i": 2.103067465838481e-05,
          "t": 19.65,
          "v": -0.717846
         },
         {
          "i": 2.1017449937887914e-05,
          "t": 19.66,
          "v": -0.717419
         },
         {
          "i": 2.1025652919254378e-05,
          "t": 19.67,
          "v": -0.716888
         },
         {
          "i": 2.1042762981366176e-05,
          "t": 19.68,
          "v": -0.716372
         },
         {
          "i": 2.1036994409937606e-05,
          "t": 19.69,
          "v": -0.71587
         },
         {
          "i": 2.1010032919254376e-05,
          "t": 19.7,
          "v": -0.715319
         },
         {
          "i": 2.098658807453388e-05,
          "t": 19.71,
          "v": -0.714901
         },
         {
          "i": 2.09571090683227e-05,
          "t": 19.72,
          "v": -0.714371
         },
         {
          "i": 2.0886826708074254e-05,
          "t": 19.73,
          "v": -0.713825
         },
         {
          "i": 2.0820000248446924e-05,
          "t": 19.74,
          "v": -0.713413
         },
         {
          "i": 2.0729970683229536e-05,
          "t": 19.75,
          "v": -0.712856
         },
         {
          "i": 2.0637451677018357e-05,
          "t": 19.76,
          "v": -0.712349
         },
         {
          "i": 2.0562735652173636e-05,
          "t": 19.77,
          "v": -0.711874
         },
         {
          "i": 2.047519751552768e-05,
          "t": 19.78,
          "v": -0.711326
         },
         {
          "i": 2.0370869565217114e-05,
          "t": 19.79,
          "v": -0.710853
         },
         {
          "i": 2.0271180496894137e-05,
          "t": 19.8,
          "v": -0.710358
         },
         {
          "i": 2.0168561242235755e-05,
          "t": 19.81,
          "v": -0.709846
         },
         {
          "i": 2.010030658385066e-05,
          "t": 19.82,
          "v": -0.709352
         },
         {
          "i": 2.0015080869564948e-05,
          "t": 19.83,
          "v": -0.70883
         },
         {
          "i": 1.99726783850929e-05,
          "t": 19.84,
          "v": -0.708342
         },
         {
          "i": 1.9924104596273026e-05,
          "t": 19.85,
          "v": -0.707827
         },
         {
          "i": 1.987851279503079e-05,
          "t": 19.86,
          "v": -0.707327
         },
         {
          "i": 1.9837321987577375e-05,
          "t": 19.87,
          "v": -0.706867
         },
         {
          "i": 1.9773236645962468e-05,
          "t": 19.88,
          "v": -0.70633
         },
         {
          "i": 1.971872621117986e-05,
          "t": 19.89,
          "v": -0.70582
         },
         {
          "i": 1.9654817267080483e-05,
          "t": 19.9,
          "v": -0.705378
         },
         {
          "i": 1.9592058260869302e-05,
          "t": 19.91,
          "v": -0.704825
         },
         {
          "i": 1.9555914782608436e-05,
          "t": 19.92,
          "v": -0.704334
         },
         {
          "i": 1.950667267080719e-05,
          "t": 19.93,
          "v": -0.703831
         },
         {
          "i": 1.9470700621117747e-05,
          "t": 19.94,
          "v": -0.703305
         },
         {
          "i": 1.9424953291925205e-05,
          "t": 19.95,
          "v": -0.702973
         },
         {
          "i": 1.938811503105564e-05,
          "t": 19.96,
          "v": -0.702437
         },
         {
          "i": 1.934786956521713e-05,
          "t": 19.97,
          "v": -0.701758
         },
         {
          "i": 1.933412857142831e-05,
          "t": 19.98,
          "v": -0.701442
         },
         {
          "i": 1.9294068074533903e-05,
          "t": 19.99,
          "v": -0.700892
         },
         {
          "i": 1.9237178012422103e-05,
          "t": 20,
          "v": -0.700372
         },
         {
          "i": 1.9178717142856884e-05,
          "t": 20.01,
          "v": -0.699886
         },
         {
          "i": 1.913354881987552e-05,
          "t": 20.02,
          "v": -0.699312
         },
         {
          "i": 1.907114347826061e-05,
          "t": 20.03,
          "v": -0.69893
         },
         {
          "i": 1.9028997888198503e-05,
          "t": 20.04,
          "v": -0.698365
         },
         {
          "i": 1.8971189565217136e-05,
          "t": 20.05,
          "v": -0.697822
         },
         {
          "i": 1.891852372670782e-05,
          "t": 20.06,
          "v": -0.69743
         },
         {
          "i": 1.8864826832297885e-05,
          "t": 20.07,
          "v": -0.696861
         },
         {
          "i": 1.881889204968919e-05,
          "t": 20.08,
          "v": -0.696369
         },
         {
          "i": 1.875916708074509e-05,
          "t": 20.09,
          "v": -0.695901
         },
         {
          "i": 1.8698188322981117e-05,
          "t": 20.1,
          "v": -0.695322
         },
         {
          "i": 1.864557664596248e-05,
          "t": 20.11,
          "v": -0.694911
         },
         {
          "i": 1.8620041614906584e-05,
          "t": 20.12,
          "v": -0.694407
         },
         {
          "i": 1.8604171180123973e-05,
          "t": 20.13,
          "v": -0.693829
         },
         {
          "i": 1.8586568074533914e-05,
          "t": 20.14,
          "v": -0.693411
         },
         {
          "i": 1.8556519130434535e-05,
          "t": 20.15,
          "v": -0.692887
         },
         {
          "i": 1.8542872049689194e-05,
          "t": 20.16,
          "v": -0.692384
         },
         {
          "i": 1.852085043478236e-05,
          "t": 20.17,
          "v": -0.691902
         },
         {
          "i": 1.848273950310534e-05,
          "t": 20.18,
          "v": -0.691335
         },
         {
          "i": 1.8449466832297888e-05,
          "t": 20.19,
          "v": -0.690927
         },
         {
          "i": 1.845372695652149e-05,
          "t": 20.2,
          "v": -0.69042
         },
         {
          "i": 1.8423820496894165e-05,
          "t": 20.21,
          "v": -0.689846
         },
         {
          "i": 1.8395973167701615e-05,
          "t": 20.22,
          "v": -0.689431
         },
         {
          "i": 1.8377136397515282e-05,
          "t": 20.23,
          "v": -0.688889
         },
         {
          "i": 1.8356753664596025e-05,
          "t": 20.24,
          "v": -0.688383
         },
         {
          "i": 1.8327091925465594e-05,
          "t": 20.25,
          "v": -0.68792
         },
         {
          "i": 1.8315329565217144e-05,
          "t": 20.26,
          "v": -0.68735
         },
         {
          "i": 1.8296134658384845e-05,
          "t": 20.27,
          "v": -0.686891
         },
         {
          "i": 1.8262428447204726e-05,
          "t": 20.28,
          "v": -0.68639
         },
         {
          "i": 1.823797913043454e-05,
          "t": 20.29,
          "v": -0.685856
         },
         {
          "i": 1.8235638509316523e-05,
          "t": 20.3,
          "v": -0.685384
         },
         {
          "i": 1.8200583478260626e-05,
          "t": 20.31,
          "v": -0.684861
         },
         {
          "i": 1.8187480496894166e-05,
          "t": 20.32,
          "v": -0.684384
         },
         {
          "i": 1.816834124223578e-05,
          "t": 20.33,
          "v": -0.683849
         },
         {
          "i": 1.812840024844696e-05,
          "t": 20.34,
          "v": -0.683339
         },
         {
          "i": 1.8070895403726467e-05,
          "t": 20.35,
          "v": -0.682891
         },
         {
          "i": 1.7981273664596033e-05,
          "t": 20.36,
          "v": -0.682351
         },
         {
          "i": 1.7884667453415908e-05,
          "t": 20.37,
          "v": -0.681839
         },
         {
          "i": 1.7791403105589825e-05,
          "t": 20.38,
          "v": -0.681395
         },
         {
          "i": 1.768006248447181e-05,
          "t": 20.39,
          "v": -0.680847
         },
         {
          "i": 1.7591132049689205e-05,
          "t": 20.4,
          "v": -0.680345
         },
         {
          "i": 1.7495991801242e-05,
          "t": 20.41,
          "v": -0.679844
         },
         {
          "i": 1.7417701987577408e-05,
          "t": 20.42,
          "v": -0.679343
         },
         {
          "i": 1.7312246211179892e-05,
          "t": 20.43,
          "v": -0.678851
         },
         {
          "i": 1.7215768944099146e-05,
          "t": 20.44,
          "v": -0.678345
         },
         {
          "i": 1.7140864844720268e-05,
          "t": 20.45,
          "v": -0.677752
         },
         {
          "i": 1.70465762732917e-05,
          "t": 20.46,
          "v": -0.677464
         },
         {
          "i": 1.6971264720496667e-05,
          "t": 20.47,
          "v": -0.676894
         },
         {
          "i": 1.6894313167701638e-05,
          "t": 20.48,
          "v": -0.676368
         },
         {
          "i": 1.683902559006189e-05,
          "t": 20.49,
          "v": -0.675939
         },
         {
          "i": 1.6756987453415924e-05,
          "t": 20.5,
          "v": -0.675319
         },
         {
          "i": 1.673878422360226e-05,
          "t": 20.51,
          "v": -0.674956
         },
         {
          "i": 1.6720391801242013e-05,
          "t": 20.52,
          "v": -0.674412
         },
         {
          "i": 1.6687851677018408e-05,
          "t": 20.53,
          "v": -0.67382
         },
         {
          "i": 1.6678670062111576e-05,
          "t": 20.54,
          "v": -0.673454
         },
         {
          "i": 1.6651093043478037e-05,
          "t": 20.55,
          "v": -0.672872
         },
         {
          "i": 1.6635857515527725e-05,
          "t": 20.56,
          "v": -0.672363
         },
         {
          "i": 1.6630210434782384e-05,
          "t": 20.57,
          "v": -0.67188
         },
         {
          "i": 1.66121110559004e-05,
          "t": 20.58,
          "v": -0.671338
         },
         {
          "i": 1.6613968944099155e-05,
          "t": 20.59,
          "v": -0.670933
         },
         {
          "i": 1.660513068322959e-05,
          "t": 20.6,
          "v": -0.670412
         },
         {
          "i": 1.658356062111779e-05,
          "t": 20.61,
          "v": -0.669855
         },
         {
          "i": 1.6572672546583627e-05,
          "t": 20.62,
          "v": -0.669429
         },
         {
          "i": 1.652212857142835e-05,
          "t": 20.63,
          "v": -0.668891
         },
         {
          "i": 1.651327254658363e-05,
          "t": 20.64,
          "v": -0.668403
         },
         {
          "i": 1.6486565217391084e-05,
          "t": 20.65,
          "v": -0.667906
         },
         {
          "i": 1.644909018633518e-05,
          "t": 20.66,
          "v": -0.667348
         },
         {
          "i": 1.639010546583829e-05,
          "t": 20.67,
          "v": -0.666931
         },
         {
          "i": 1.6325615155279282e-05,
          "t": 20.68,
          "v": -0.666409
         },
         {
          "i": 1.6289400496894193e-05,
          "t": 20.69,
          "v": -0.665872
         },
         {
          "i": 1.6235251677018415e-05,
          "t": 20.7,
          "v": -0.665452
         },
         {
          "i": 1.6180560621117794e-05,
          "t": 20.71,
          "v": -0.664865
         },
         {
          "i": 1.611106186335382e-05,
          "t": 20.72,
          "v": -0.664344
         },
         {
          "i": 1.607019329192525e-05,
          "t": 20.73,
          "v": -0.663891
         },
         {
          "i": 1.598720335403705e-05,
          "t": 20.74,
          "v": -0.663328
         },
         {
          "i": 1.5924987577639538e-05,
          "t": 20.75,
          "v": -0.662879
         },
         {
          "i": 1.5876523975155065e-05,
          "t": 20.76,
          "v": -0.662386
         },
         {
          "i": 1.582547403726687e-05,
          "t": 20.77,
          "v": -0.661839
         },
         {
          "i": 1.579709416149047e-05,
          "t": 20.78,
          "v": -0.661377
         },
         {
          "i": 1.5766267701863143e-05,
          "t": 20.79,
          "v": -0.660853
         },
         {
          "i": 1.5725444720496685e-05,
          "t": 20.8,
          "v": -0.660356
         },
         {
          "i": 1.5687816149068115e-05,
          "t": 20.81,
          "v": -0.65985
         },
         {
          "i": 1.565289254658364e-05,
          "t": 20.82,
          "v": -0.659325
         },
         {
          "i": 1.563842149068302e-05,
          "t": 20.83,
          "v": -0.658889
         },
         {
          "i": 1.561797204968923e-05,
          "t": 20.84,
          "v": -0.658336
         },
         {
          "i": 1.5583141863353828e-05,
          "t": 20.85,
          "v": -0.657825
         },
         {
          "i": 1.556123950310538e-05,
          "t": 20.86,
          "v": -0.657387
         },
         {
          "i": 1.5550789316769977e-05,
          "t": 20.87,
          "v": -0.656827
         },
         {
          "i": 1.5557725714285507e-05,
          "t": 20.88,
          "v": -0.656329
         },
         {
          "i": 1.5570191180124017e-05,
          "t": 20.89,
          "v": -0.65584
         },
         {
          "i": 1.5590298136645754e-05,
          "t": 20.9,
          "v": -0.655327
         },
         {
          "i": 1.5600088695651965e-05,
          "t": 20.91,
          "v": -0.654829
         },
         {
          "i": 1.5602224844720287e-05,
          "t": 20.92,
          "v": -0.654336
         },
         {
          "i": 1.5608527701863144e-05,
          "t": 20.93,
          "v": -0.65382
         },
         {
          "i": 1.56141503105588e-05,
          "t": 20.94,
          "v": -0.653334
         },
         {
          "i": 1.5592986086956314e-05,
          "t": 20.95,
          "v": -0.652824
         },
         {
          "i": 1.5586259006210972e-05,
          "t": 20.96,
          "v": -0.652287
         },
         {
          "i": 1.558277888198737e-05,
          "t": 20.97,
          "v": -0.651921
         },
         {
          "i": 1.557041888198737e-05,
          "t": 20.98,
          "v": -0.65131
         },
         {
          "i": 1.5562885714285505e-05,
          "t": 20.99,
          "v": -0.65091
         },
         {
          "i": 1.5546749689440786e-05,
          "t": 21,
          "v": -0.650422
         },
         {
          "i": 1.5539191677018426e-05,
          "t": 21.01,
          "v": -0.649809
         },
         {
          "i": 1.5521562111801034e-05,
          "t": 21.02,
          "v": -0.649446
         },
         {
          "i": 1.5507891801242027e-05,
          "t": 21.03,
          "v": -0.648882
         },
         {
          "i": 1.5475839627328984e-05,
          "t": 21.04,
          "v": -0.648374
         },
         {
          "i": 1.5422266832297928e-05,
          "t": 21.05,
          "v": -0.647905
         },
         {
          "i": 1.5359604844720292e-05,
          "t": 21.06,
          "v": -0.647314
         },
         {
          "i": 1.5302056645962528e-05,
          "t": 21.07,
          "v": -0.646865
         },
         {
          "i": 1.5251831428571222e-05,
          "t": 21.08,
          "v": -0.646347
         },
         {
          "i": 1.5224619006210976e-05,
          "t": 21.09,
          "v": -0.645815
         },
         {
          "i": 1.5206872173912839e-05,
          "t": 21.1,
          "v": -0.645396
         },
         {
          "i": 1.5176525465838307e-05,
          "t": 21.11,
          "v": -0.644868
         },
         {
          "i": 1.5149981490683029e-05,
          "t": 21.12,
          "v": -0.644353
         },
         {
          "i": 1.5152693416148865e-05,
          "t": 21.13,
          "v": -0.643879
         },
         {
          "i": 1.5139386583850726e-05,
          "t": 21.14,
          "v": -0.643324
         },
         {
          "i": 1.5108366086956319e-05,
          "t": 21.15,
          "v": -0.6429
         },
         {
          "i": 1.5081243975155074e-05,
          "t": 21.16,
          "v": -0.642378
         },
         {
          "i": 1.5046569192546382e-05,
          "t": 21.17,
          "v": -0.641835
         },
         {
          "i": 1.5059201863353835e-05,
          "t": 21.18,
          "v": -0.64142
         },
         {
          "i": 1.5041343602484271e-05,
          "t": 21.19,
          "v": -0.640868
         },
         {
          "i": 1.5037641614906631e-05,
          "t": 21.2,
          "v": -0.64036
         },
         {
          "i": 1.5036286708074333e-05,
          "t": 21.21,
          "v": -0.639911
         },
         {
          "i": 1.5010610807453216e-05,
          "t": 21.22,
          "v": -0.639334
         },
         {
          "i": 1.500189403726688e-05,
          "t": 21.23,
          "v": -0.638902
         },
         {
          "i": 1.4982415900620917e-05,
          "t": 21.24,
          "v": -0.638397
         },
         {
          "i": 1.4936453291925265e-05,
          "t": 21.25,
          "v": -0.637852
         },
         {
          "i": 1.4904886832297937e-05,
          "t": 21.26,
          "v": -0.6374
         },
         {
          "i": 1.4887131677018432e-05,
          "t": 21.27,
          "v": -0.63688
         },
         {
          "i": 1.488820956521719e-05,
          "t": 21.28,
          "v": -0.636385
         },
         {
          "i": 1.4879772173912843e-05,
          "t": 21.29,
          "v": -0.63587
         },
         {
          "i": 1.4862877888198557e-05,
          "t": 21.3,
          "v": -0.635341
         },
         {
          "i": 1.4834592422360048e-05,
          "t": 21.31,
          "v": -0.634896
         },
         {
          "i": 1.4832371055900422e-05,
          "t": 21.32,
          "v": -0.634371
         },
         {
          "i": 1.4826421366459428e-05,
          "t": 21.33,
          "v": -0.633846
         },
         {
          "i": 1.4827096273291724e-05,
          "t": 21.34,
          "v": -0.633406
         },
         {
          "i": 1.4816801614906636e-05,
          "t": 21.35,
          "v": -0.632847
         },
         {
          "i": 1.4801116397515329e-05,
          "t": 21.36,
          "v": -0.632361
         },
         {
          "i": 1.4801951801242035e-05,
          "t": 21.37,
          "v": -0.631862
         },
         {
          "i": 1.4823763602484272e-05,
          "t": 21.38,
          "v": -0.631347
         },
         {
          "i": 1.4827894658384894e-05,
          "t": 21.39,
          "v": -0.630847
         },
         {
          "i": 1.4830787080745142e-05,
          "t": 21.4,
          "v": -0.630357
         },
         {
          "i": 1.4792795652173714e-05,
          "t": 21.41,
          "v": -0.629841
         },
         {
          "i": 1.4743931552794834e-05,
          "t": 21.42,
          "v": -0.629354
         },
         {
          "i": 1.4696081739130236e-05,
          "t": 21.43,
          "v": -0.628834
         },
         {
          "i": 1.465941639751533e-05,
          "t": 21.44,
          "v": -0.628363
         },
         {
          "i": 1.4625490931676821e-05,
          "t": 21.45,
          "v": -0.627836
         },
         {
          "i": 1.4605678136645765e-05,
          "t": 21.46,
          "v": -0.627339
         },
         {
          "i": 1.4577311801242038e-05,
          "t": 21.47,
          "v": -0.626916
         },
         {
          "i": 1.4569224844720302e-05,
          "t": 21.48,
          "v": -0.62644
         },
         {
          "i": 1.4539058385092973e-05,
          "t": 21.49,
          "v": -0.62584
         },
         {
          "i": 1.4520891925465644e-05,
          "t": 21.5,
          "v": -0.625451
         },
         {
          "i": 1.4474982484471855e-05,
          "t": 21.51,
          "v": -0.624895
         },
         {
          "i": 1.4428562857142664e-05,
          "t": 21.52,
          "v": -0.624428
         },
         {
          "i": 1.436618310558987e-05,
          "t": 21.53,
          "v": -0.623935
         },
         {
          "i": 1.4335824844720305e-05,
          "t": 21.54,
          "v": -0.623315
         },
         {
          "i": 1.4298037267080553e-05,
          "t": 21.55,
          "v": -0.622939
         },
         {
          "i": 1.427316161490664e-05,
          "t": 21.56,
          "v": -0.622416
         },
         {
          "i": 1.4256539999999811e-05,
          "t": 21.57,
          "v": -0.621826
         },
         {
          "i": 1.4251346211179931e-05,
          "t": 21.58,
          "v": -0.621415
         },
         {
          "i": 1.4226191925465647e-05,
          "t": 21.59,
          "v": -0.620852
         },
         {
          "i": 1.4194734409937696e-05,
          "t": 21.6,
          "v": -0.62038
         },
         {
          "i": 1.4140721118012231e-05,
          "t": 21.61,
          "v": -0.619854
         },
         {
          "i": 1.4096003478260679e-05,
          "t": 21.62,
          "v": -0.619333
         },
         {
          "i": 1.4038296521738943e-05,
          "t": 21.63,
          "v": -0.618931
         },
         {
          "i": 1.397712832298118e-05,
          "t": 21.64,
          "v": -0.618394
         },
         {
          "i": 1.3935537515527764e-05,
          "t": 21.65,
          "v": -0.617846
         },
         {
          "i": 1.3908771180124035e-05,
          "t": 21.66,
          "v": -0.617446
         },
         {
          "i": 1.3878136273291738e-05,
          "t": 21.67,
          "v": -0.616883
         },
         {
          "i": 1.385936770186317e-05,
          "t": 21.68,
          "v": -0.61639
         },
         {
          "i": 1.3817968819875592e-05,
          "t": 21.69,
          "v": -0.615915
         },
         {
          "i": 1.3781800248447019e-05,
          "t": 21.7,
          "v": -0.615344
         },
         {
          "i": 1.3755992919254473e-05,
          "t": 21.71,
          "v": -0.614928
         },
         {
          "i": 1.3741418509316586e-05,
          "t": 21.72,
          "v": -0.614431
         },
         {
          "i": 1.3702776149068139e-05,
          "t": 21.73,
          "v": -0.61385
         },
         {
          "i": 1.3687561614906647e-05,
          "t": 21.74,
          "v": -0.613405
         },
         {
          "i": 1.366680062111783e-05,
          "t": 21.75,
          "v": -0.612878
         },
         {
          "i": 1.3652753788819694e-05,
          "t": 21.76,
          "v": -0.612392
         },
         {
          "i": 1.3625201739130253e-05,
          "t": 21.77,
          "v": -0.611875
         },
         {
          "i": 1.3604051055900439e-05,
          "t": 21.78,
          "v": -0.611336
         },
         {
          "i": 1.3589697763974973e-05,
          "t": 21.79,
          "v": -0.610913
         },
         {
          "i": 1.3560772422360068e-05,
          "t": 21.8,
          "v": -0.610383
         },
         {
          "i": 1.3538425590061929e-05,
          "t": 21.81,
          "v": -0.60985
         },
         {
          "i": 1.3510576397515346e-05,
          "t": 21.82,
          "v": -0.609408
         },
         {
          "i": 1.3494490310558827e-05,
          "t": 21.83,
          "v": -0.60885
         },
         {
          "i": 1.34579439751551e-05,
          "t": 21.84,
          "v": -0.60836
         },
         {
          "i": 1.3419172173912864e-05,
          "t": 21.85,
          "v": -0.607876
         },
         {
          "i": 1.3385697267080565e-05,
          "t": 21.86,
          "v": -0.607338
         },
         {
          "i": 1.3349666211179944e-05,
          "t": 21.87,
          "v": -0.60687
         },
         {
          "i": 1.3317545838509138e-05,
          "t": 21.88,
          "v": -0.60636
         },
         {
          "i": 1.3291547577639573e-05,
          "t": 21.89,
          "v": -0.605847
         },
         {
          "i": 1.3271176770186158e-05,
          "t": 21.9,
          "v": -0.605362
         },
         {
          "i": 1.323654335403709e-05,
          "t": 21.91,
          "v": -0.604842
         },
         {
          "i": 1.3203811304347651e-05,
          "t": 21.92,
          "v": -0.604374
         },
         {
          "i": 1.3182669192546408e-05,
          "t": 21.93,
          "v": -0.603836
         },
         {
          "i": 1.3149794037266903e-05,
          "t": 21.94,
          "v": -0.603353
         },
         {
          "i": 1.3107801366459451e-05,
          "t": 21.95,
          "v": -0.602901
         },
         {
          "i": 1.30818837267079e-05,
          "t": 21.96,
          "v": -0.602347
         },
         {
          "i": 1.3042210186335228e-05,
          "t": 21.97,
          "v": -0.601838
         },
         {
          "i": 1.299834770186318e-05,
          "t": 21.98,
          "v": -0.601399
         },
         {
          "i": 1.2966749068322807e-05,
          "t": 21.99,
          "v": -0.600897
         },
         {
          "i": 1.2942547329192372e-05,
          "t": 22,
          "v": -0.600437
         },
         {
          "i": 1.2918247950310385e-05,
          "t": 22.01,
          "v": -0.599954
         },
         {
          "i": 1.2866887577639578e-05,
          "t": 22.02,
          "v": -0.599311
         },
         {
          "i": 1.2850887329192376e-05,
          "t": 22.03,
          "v": -0.598978
         },
         {
          "i": 1.282097055900604e-05,
          "t": 22.04,
          "v": -0.598449
         },
         {
          "i": 1.2811501118012252e-05,
          "t": 22.05,
          "v": -0.597796
         },
         {
          "i": 1.2779377391304175e-05,
          "t": 22.06,
          "v": -0.597434
         },
         {
          "i": 1.2754783105589893e-05,
          "t": 22.07,
          "v": -0.59689
         },
         {
          "i": 1.2719747329192377e-05,
          "t": 22.08,
          "v": -0.596408
         },
         {
          "i": 1.268694757763958e-05,
          "t": 22.09,
          "v": -0.595902
         },
         {
          "i": 1.265685751552778e-05,
          "t": 22.1,
          "v": -0.595337
         },
         {
          "i": 1.2640074161490514e-05,
          "t": 22.11,
          "v": -0.594945
         },
         {
          "i": 1.2622098757763806e-05,
          "t": 22.12,
          "v": -0.594362
         },
         {
          "i": 1.2588966335403557e-05,
          "t": 22.13,
          "v": -0.593831
         },
         {
          "i": 1.2574276770186168e-05,
          "t": 22.14,
          "v": -0.593451
         },
         {
          "i": 1.2574462360248278e-05,
          "t": 22.15,
          "v": -0.592883
         },
         {
          "i": 1.2558481739130267e-05,
          "t": 22.16,
          "v": -0.59239
         },
         {
          "i": 1.2552833664596104e-05,
          "t": 22.17,
          "v": -0.59193
         },
         {
          "i": 1.2552852546583681e-05,
          "t": 22.18,
          "v": -0.591331
         },
         {
          "i": 1.2537810807453247e-05,
          "t": 22.19,
          "v": -0.590927
         },
         {
          "i": 1.252966745341598e-05,
          "t": 22.2,
          "v": -0.59043
         },
         {
          "i": 1.2518701739130266e-05,
          "t": 22.21,
          "v": -0.589848
         },
         {
          "i": 1.2494358260869399e-05,
          "t": 22.22,
          "v": -0.589431
         },
         {
          "i": 1.2470565838509148e-05,
          "t": 22.23,
          "v": -0.588901
         },
         {
          "i": 1.24564033540371e-05,
          "t": 22.24,
          "v": -0.588429
         },
         {
          "i": 1.2460699378881821e-05,
          "t": 22.25,
          "v": -0.587925
         },
         {
          "i": 1.2458702608695483e-05,
          "t": 22.26,
          "v": -0.587342
         },
         {
          "i": 1.246315590062095e-05,
          "t": 22.27,
          "v": -0.586949
         },
         {
          "i": 1.2444919999999832e-05,
          "t": 22.28,
          "v": -0.58643
         },
         {
          "i": 1.2434719503105422e-05,
          "t": 22.29,
          "v": -0.585877
         },
         {
          "i": 1.2430050683229646e-05,
          "t": 22.3,
          "v": -0.585452
         },
         {
          "i": 1.2429544099378715e-05,
          "t": 22.31,
          "v": -0.584889
         },
         {
          "i": 1.2433068322981198e-05,
          "t": 22.32,
          "v": -0.584389
         },
         {
          "i": 1.2428123105589896e-05,
          "t": 22.33,
          "v": -0.583918
         },
         {
          "i": 1.2433557142856977e-05,
          "t": 22.34,
          "v": -0.583365
         },
         {
          "i": 1.2441950683229645e-05,
          "t": 22.35,
          "v": -0.582894
         },
         {
          "i": 1.2452984472049522e-05,
          "t": 22.36,
          "v": -0.582395
         },
         {
          "i": 1.2453618385093e-05,
          "t": 22.37,
          "v": -0.581875
         },
         {
          "i": 1.2436899999999833e-05,
          "t": 22.38,
          "v": -0.581383
         },
         {
          "i": 1.2423348944099213e-05,
          "t": 22.39,
          "v": -0.580862
         },
         {
          "i": 1.240503229813648e-05,
          "t": 22.4,
          "v": -0.580393
         },
         {
          "i": 1.238032683229797e-05,
          "t": 22.41,
          "v": -0.579863
         },
         {
          "i": 1.2357791677018469e-05,
          "t": 22.42,
          "v": -0.579359
         },
         {
          "i": 1.2327596149068157e-05,
          "t": 22.43,
          "v": -0.57894
         },
         {
          "i": 1.230183527950294e-05,
          "t": 22.44,
          "v": -0.57837
         },
         {
          "i": 1.2283727701863189e-05,
          "t": 22.45,
          "v": -0.577854
         },
         {
          "i": 1.2265717639751388e-05,
          "t": 22.46,
          "v": -0.577402
         },
         {
          "i": 1.225648223602468e-05,
          "t": 22.47,
          "v": -0.576849
         },
         {
          "i": 1.2246438881987413e-05,
          "t": 22.48,
          "v": -0.576365
         },
         {
          "i": 1.2239623850931513e-05,
          "t": 22.49,
          "v": -0.575858
         },
         {
          "i": 1.2224786335403563e-05,
          "t": 22.5,
          "v": -0.575313
         },
         {
          "i": 1.2218294906832133e-05,
          "t": 22.51,
          "v": -0.575002
         },
         {
          "i": 1.2206133540372507e-05,
          "t": 22.52,
          "v": -0.574469
         },
         {
          "i": 1.220582968944083e-05,
          "t": 22.53,
          "v": -0.573784
         },
         {
          "i": 1.2200563354037104e-05,
          "t": 22.54,
          "v": -0.573466
         },
         {
          "i": 1.2190294658384928e-05,
          "t": 22.55,
          "v": -0.572903
         },
         {
          "i": 1.2190597639751388e-05,
          "t": 22.56,
          "v": -0.572424
         },
         {
          "i": 1.2175001490683066e-05,
          "t": 22.57,
          "v": -0.571917
         },
         {
          "i": 1.216023366459611e-05,
          "t": 22.58,
          "v": -0.571335
         },
         {
          "i": 1.2149185962732757e-05,
          "t": 22.59,
          "v": -0.570991
         },
         {
          "i": 1.2132231055900458e-05,
          "t": 22.6,
          "v": -0.570392
         },
         {
          "i": 1.2127703354037104e-05,
          "t": 22.61,
          "v": -0.569858
         },
         {
          "i": 1.2132948074533998e-05,
          "t": 22.62,
          "v": -0.569436
         },
         {
          "i": 1.2132969316770023e-05,
          "t": 22.63,
          "v": -0.568874
         },
         {
          "i": 1.212569565217375e-05,
          "t": 22.64,
          "v": -0.568402
         },
         {
          "i": 1.2126300496894248e-05,
          "t": 22.65,
          "v": -0.567922
         },
         {
          "i": 1.2126046583850769e-05,
          "t": 22.66,
          "v": -0.567337
         },
         {
          "i": 1.2115529565217227e-05,
          "t": 22.67,
          "v": -0.566932
         },
         {
          "i": 1.2099800496894249e-05,
          "t": 22.68,
          "v": -0.56643
         },
         {
          "i": 1.2089220993788657e-05,
          "t": 22.69,
          "v": -0.56586
         },
         {
          "i": 1.207180857142841e-05,
          "t": 22.7,
          "v": -0.565429
         },
         {
          "i": 1.206704658385077e-05,
          "t": 22.71,
          "v": -0.564895
         },
         {
          "i": 1.205275614906816e-05,
          "t": 22.72,
          "v": -0.564423
         },
         {
          "i": 1.2033249813664436e-05,
          "t": 22.73,
          "v": -0.563917
         },
         {
          "i": 1.202378459627313e-05,
          "t": 22.74,
          "v": -0.56335
         },
         {
          "i": 1.19971879503104e-05,
          "t": 22.75,
          "v": -0.562953
         },
         {
          "i": 1.1968412670807294e-05,
          "t": 22.76,
          "v": -0.562384
         },
         {
          "i": 1.1947816645962572e-05,
          "t": 22.77,
          "v": -0.56182
         },
         {
          "i": 1.1921095155279342e-05,
          "t": 22.78,
          "v": -0.561427
         },
         {
          "i": 1.1876221863353877e-05,
          "t": 22.79,
          "v": -0.560869
         },
         {
          "i": 1.185660198757748e-05,
          "t": 22.8,
          "v": -0.560362
         },
         {
          "i": 1.1834045838509158e-05,
          "t": 22.81,
          "v": -0.559903
         },
         {
          "i": 1.1798171552794873e-05,
          "t": 22.82,
          "v": -0.559333
         },
         {
          "i": 1.1783945465838352e-05,
          "t": 22.83,
          "v": -0.558887
         },
         {
          "i": 1.1772353167701704e-05,
          "t": 22.84,
          "v": -0.558373
         },
         {
          "i": 1.1755386583850774e-05,
          "t": 22.85,
          "v": -0.557846
         },
         {
          "i": 1.1732325217391146e-05,
          "t": 22.86,
          "v": -0.557376
         },
         {
          "i": 1.171692236024829e-05,
          "t": 22.87,
          "v": -0.556853
         },
         {
          "i": 1.1686079751552638e-05,
          "t": 22.88,
          "v": -0.556363
         },
         {
          "i": 1.1655469192546426e-05,
          "t": 22.89,
          "v": -0.555832
         },
         {
          "i": 1.1638452049689285e-05,
          "t": 22.9,
          "v": -0.555335
         },
         {
          "i": 1.1630254161490528e-05,
          "t": 22.91,
          "v": -0.554886
         },
         {
          "i": 1.1615091552794876e-05,
          "t": 22.92,
          "v": -0.554338
         },
         {
          "i": 1.1607075652173757e-05,
          "t": 22.93,
          "v": -0.553829
         },
         {
          "i": 1.1603533167701707e-05,
          "t": 22.94,
          "v": -0.553389
         },
         {
          "i": 1.1588656645962578e-05,
          "t": 22.95,
          "v": -0.552824
         },
         {
          "i": 1.1570884099378726e-05,
          "t": 22.96,
          "v": -0.55233
         },
         {
          "i": 1.1540599006211025e-05,
          "t": 22.97,
          "v": -0.551843
         },
         {
          "i": 1.1540396397515372e-05,
          "t": 22.98,
          "v": -0.551341
         },
         {
          "i": 1.1522765465838355e-05,
          "t": 22.99,
          "v": -0.550843
         },
         {
          "i": 1.1513904596273137e-05,
          "t": 23,
          "v": -0.550338
         },
         {
          "i": 1.1493989565217236e-05,
          "t": 23.01,
          "v": -0.549748
         },
         {
          "i": 1.1493476521738975e-05,
          "t": 23.02,
          "v": -0.549464
         },
         {
          "i": 1.1484735776397361e-05,
          "t": 23.03,
          "v": -0.548896
         },
         {
          "i": 1.1477401490683077e-05,
          "t": 23.04,
          "v": -0.548366
         },
         {
          "i": 1.1485676521738975e-05,
          "t": 23.05,
          "v": -0.547918
         },
         {
          "i": 1.1493682732919099e-05,
          "t": 23.06,
          "v": -0.547319
         },
         {
          "i": 1.1493463602484317e-05,
          "t": 23.07,
          "v": -0.546985
         },
         {
          "i": 1.1487584844720342e-05,
          "t": 23.08,
          "v": -0.546397
         },
         {
          "i": 1.1488807950310407e-05,
          "t": 23.09,
          "v": -0.545833
         },
         {
          "i": 1.1481316273291772e-05,
          "t": 23.1,
          "v": -0.54547
         },
         {
          "i": 1.148800720496879e-05,
          "t": 23.11,
          "v": -0.544879
         },
         {
          "i": 1.149831726708059e-05,
          "t": 23.12,
          "v": -0.544351
         },
         {
          "i": 1.1494966459627173e-05,
          "t": 23.13,
          "v": -0.543877
         },
         {
          "i": 1.1484668322981213e-05,
          "t": 23.14,
          "v": -0.543329
         },
         {
          "i": 1.1484582857142703e-05,
          "t": 23.15,
          "v": -0.542906
         },
         {
          "i": 1.147530409937873e-05,
          "t": 23.16,
          "v": -0.542392
         },
         {
          "i": 1.1450574037266926e-05,
          "t": 23.17,
          "v": -0.541835
         },
         {
          "i": 1.1438443850931525e-05,
          "t": 23.18,
          "v": -0.54142
         },
         {
          "i": 1.1423958757763823e-05,
          "t": 23.19,
          "v": -0.540886
         },
         {
          "i": 1.1419878260869412e-05,
          "t": 23.2,
          "v": -0.540389
         },
         {
          "i": 1.1399358385093016e-05,
          "t": 23.21,
          "v": -0.539899
         },
         {
          "i": 1.1385686583850778e-05,
          "t": 23.22,
          "v": -0.539338
         },
         {
          "i": 1.1367595776397361e-05,
          "t": 23.23,
          "v": -0.53895
         },
         {
          "i": 1.1362808074534008e-05,
          "t": 23.24,
          "v": -0.538397
         },
         {
          "i": 1.1355097267080592e-05,
          "t": 23.25,
          "v": -0.537862
         },
         {
          "i": 1.1352044472049536e-05,
          "t": 23.26,
          "v": -0.537468
         },
         {
          "i": 1.1358360248447052e-05,
          "t": 23.27,
          "v": -0.536887
         },
         {
          "i": 1.1352704472049535e-05,
          "t": 23.28,
          "v": -0.536383
         },
         {
          "i": 1.1346169565217239e-05,
          "t": 23.29,
          "v": -0.535921
         },
         {
          "i": 1.1344307329192394e-05,
          "t": 23.3,
          "v": -0.535342
         },
         {
          "i": 1.1345531552794877e-05,
          "t": 23.31,
          "v": -0.534917
         },
         {
          "i": 1.1344474161490531e-05,
          "t": 23.32,
          "v": -0.53441
         },
         {
          "i": 1.1343196397515377e-05,
          "t": 23.33,
          "v": -0.533873
         },
         {
          "i": 1.133993515527935e-05,
          "t": 23.34,
          "v": -0.533404
         },
         {
          "i": 1.1335072422360097e-05,
          "t": 23.35,
          "v": -0.532872
         },
         {
          "i": 1.1325685838509165e-05,
          "t": 23.36,
          "v": -0.5324
         },
         {
          "i": 1.1315365714285562e-05,
          "t": 23.37,
          "v": -0.531866
         },
         {
          "i": 1.1309956770186183e-05,
          "t": 23.38,
          "v": -0.531352
         },
         {
          "i": 1.131043155279488e-05,
          "t": 23.39,
          "v": -0.53093
         },
         {
          "i": 1.1324436397515376e-05,
          "t": 23.4,
          "v": -0.530359
         },
         {
          "i": 1.1326490931676867e-05,
          "t": 23.41,
          "v": -0.529849
         },
         {
          "i": 1.1334162981366308e-05,
          "t": 23.42,
          "v": -0.529409
         },
         {
          "i": 1.1338939751552643e-05,
          "t": 23.43,
          "v": -0.528849
         },
         {
          "i": 1.134370708074519e-05,
          "t": 23.44,
          "v": -0.528355
         },
         {
          "i": 1.1354553043478109e-05,
          "t": 23.45,
          "v": -0.52787
         },
         {
          "i": 1.1372390434782456e-05,
          "t": 23.46,
          "v": -0.527355
         },
         {
          "i": 1.1377076770186182e-05,
          "t": 23.47,
          "v": -0.52687
         },
         {
          "i": 1.1383015403726555e-05,
          "t": 23.48,
          "v": -0.526364
         },
         {
          "i": 1.139435416149053e-05,
          "t": 23.49,
          "v": -0.525854
         },
         {
          "i": 1.1377114782608543e-05,
          "t": 23.5,
          "v": -0.525369
         },
         {
          "i": 1.1373759751552641e-05,
          "t": 23.51,
          "v": -0.524855
         },
         {
          "i": 1.1370281987577487e-05,
          "t": 23.52,
          "v": -0.524344
         },
         {
          "i": 1.1373694037266928e-05,
          "t": 23.53,
          "v": -0.52394
         },
         {
          "i": 1.1363030310558853e-05,
          "t": 23.54,
          "v": -0.523324
         },
         {
          "i": 1.1351526832297985e-05,
          "t": 23.55,
          "v": -0.522999
         },
         {
          "i": 1.1330544596273139e-05,
          "t": 23.56,
          "v": -0.522433
         },
         {
          "i": 1.1312759627329039e-05,
          "t": 23.57,
          "v": -0.52184
         },
         {
          "i": 1.1276008819875625e-05,
          "t": 23.58,
          "v": -0.52149
         },
         {
          "i": 1.1241264099378732e-05,
          "t": 23.59,
          "v": -0.520895
         },
         {
          "i": 1.1214668198757613e-05,
          "t": 23.6,
          "v": -0.520405
         },
         {
          "i": 1.118633900621103e-05,
          "t": 23.61,
          "v": -0.519927
         },
         {
          "i": 1.116705142857128e-05,
          "t": 23.62,
          "v": -0.519332
         },
         {
          "i": 1.1146395155279356e-05,
          "t": 23.63,
          "v": -0.518919
         },
         {
          "i": 1.1120606211179976e-05,
          "t": 23.64,
          "v": -0.518372
         },
         {
          "i": 1.1089696273291778e-05,
          "t": 23.65,
          "v": -0.517855
         },
         {
          "i": 1.1059905714285564e-05,
          "t": 23.66,
          "v": -0.51741
         },
         {
          "i": 1.1042062857142709e-05,
          "t": 23.67,
          "v": -0.51689
         },
         {
          "i": 1.1031617018633393e-05,
          "t": 23.68,
          "v": -0.516416
         },
         {
          "i": 1.100630149068308e-05,
          "t": 23.69,
          "v": -0.51591
         },
         {
          "i": 1.1004596273291777e-05,
          "t": 23.7,
          "v": -0.515346
         },
         {
          "i": 1.0997375403726561e-05,
          "t": 23.71,
          "v": -0.514987
         },
         {
          "i": 1.0990412670807307e-05,
          "t": 23.72,
          "v": -0.514402
         },
         {
          "i": 1.100371527950296e-05,
          "t": 23.73,
          "v": -0.51388
         },
         {
          "i": 1.1025301987577492e-05,
          "t": 23.74,
          "v": -0.513472
         },
         {
          "i": 1.1044324844720348e-05,
          "t": 23.75,
          "v": -0.512892
         },
         {
          "i": 1.104261590062097e-05,
          "t": 23.76,
          "v": -0.512396
         },
         {
          "i": 1.1037199254658237e-05,
          "t": 23.77,
          "v": -0.511928
         },
         {
          "i": 1.1038681614906683e-05,
          "t": 23.78,
          "v": -0.511341
         },
         {
          "i": 1.1059975900620969e-05,
          "t": 23.79,
          "v": -0.510906
         },
         {
          "i": 1.1057086708074386e-05,
          "t": 23.8,
          "v": -0.510413
         },
         {
          "i": 1.1061313291925317e-05,
          "t": 23.81,
          "v": -0.509866
         },
         {
          "i": 1.1064244720496745e-05,
          "t": 23.82,
          "v": -0.509409
         },
         {
          "i": 1.1068076521738981e-05,
          "t": 23.83,
          "v": -0.508881
         },
         {
          "i": 1.106642347826072e-05,
          "t": 23.84,
          "v": -0.508408
         },
         {
          "i": 1.1055744347825938e-05,
          "t": 23.85,
          "v": -0.507873
         },
         {
          "i": 1.1037996521738982e-05,
          "t": 23.86,
          "v": -0.507346
         },
         {
          "i": 1.1027813291925316e-05,
          "t": 23.87,
          "v": -0.506931
         },
         {
          "i": 1.1012948198757615e-05,
          "t": 23.88,
          "v": -0.506374
         },
         {
          "i": 1.1006759999999853e-05,
          "t": 23.89,
          "v": -0.505847
         },
         {
          "i": 1.0998543726707927e-05,
          "t": 23.9,
          "v": -0.505416
         },
         {
          "i": 1.0991341118012276e-05,
          "t": 23.91,
          "v": -0.504843
         },
         {
          "i": 1.0994939875776248e-05,
          "t": 23.92,
          "v": -0.504359
         },
         {
          "i": 1.0986816770186186e-05,
          "t": 23.93,
          "v": -0.503857
         },
         {
          "i": 1.098978844720482e-05,
          "t": 23.94,
          "v": -0.503342
         },
         {
          "i": 1.099025440993774e-05,
          "t": 23.95,
          "v": -0.502857
         },
         {
          "i": 1.0992468447204822e-05,
          "t": 23.96,
          "v": -0.502363
         },
         {
          "i": 1.0988333664596126e-05,
          "t": 23.97,
          "v": -0.501842
         },
         {
          "i": 1.0982187453416e-05,
          "t": 23.98,
          "v": -0.501361
         },
         {
          "i": 1.098360832298122e-05,
          "t": 23.99,
          "v": -0.500845
         },
         {
          "i": 1.1000333167701716e-05,
          "t": 24,
          "v": -0.500364
         },
         {
          "i": 1.1011028074534014e-05,
          "t": 24.01,
          "v": -0.49984
         }
        ],
        "data-f4a0a12a4e34f39477701ad3b2738a68": [
         {
          "i": [
           1.10542e-05
          ],
          "v": [
           -0.502363
          ]
         }
        ]
       },
       "layer": [
        {
         "data": {
          "name": "data-d85bb09afa6329facfa254aacd20e4e9"
         },
         "encoding": {
          "x": {
           "field": "v",
           "type": "quantitative"
          },
          "y": {
           "field": "i",
           "type": "quantitative"
          }
         },
         "mark": "point"
        },
        {
         "data": {
          "name": "data-f4a0a12a4e34f39477701ad3b2738a68"
         },
         "encoding": {
          "color": {
           "value": "black"
          },
          "x": {
           "field": "v",
           "type": "quantitative"
          },
          "y": {
           "field": "i",
           "type": "quantitative"
          }
         },
         "mark": {
          "filled": true,
          "size": 50,
          "type": "point"
         }
        }
       ]
      },
      "image/png": "[encoded data removed]",
      "text/plain": [
       "<VegaLite 3 object>\n",
       "\n",
       "If you see this message, it means the renderer has not been properly enabled\n",
       "for the frontend that you are using. For more information, see\n",
       "https://altair-viz.github.io/user_guide/troubleshooting.html\n"
      ]
     },
     "metadata": {},
     "output_type": "display_data"
    },
    {
     "data": {
      "application/vnd.vegalite.v3+json": {
       "$schema": "https://vega.github.io/schema/vega-lite/v3.2.1.json",
       "config": {
        "mark": {
         "tooltip": null
        },
        "view": {
         "height": 300,
         "width": 400
        }
       },
       "datasets": {
        "data-1695cb5d98045dbc7e006dbc67a1bb02": [
         {
          "i": 9.007542447204847e-05,
          "t": 6.005,
          "v": -1.10008
         },
         {
          "i": 8.903036062111681e-05,
          "t": 6.01,
          "v": -1.0997
         },
         {
          "i": 8.791045776397397e-05,
          "t": 6.015,
          "v": -1.09919
         },
         {
          "i": 8.673974198757647e-05,
          "t": 6.02,
          "v": -1.09865
         },
         {
          "i": 8.555895478260755e-05,
          "t": 6.025,
          "v": -1.09818
         },
         {
          "i": 8.437380906832186e-05,
          "t": 6.03,
          "v": -1.09765
         },
         {
          "i": 8.323357440993678e-05,
          "t": 6.035,
          "v": -1.09718
         },
         {
          "i": 8.212977068322871e-05,
          "t": 6.04,
          "v": -1.09666
         },
         {
          "i": 8.113478981366351e-05,
          "t": 6.045,
          "v": -1.09614
         },
         {
          "i": 8.027517341614799e-05,
          "t": 6.05,
          "v": -1.09568
         },
         {
          "i": 7.957170944099273e-05,
          "t": 6.055,
          "v": -1.09516
         },
         {
          "i": 7.906513577639644e-05,
          "t": 6.06,
          "v": -1.09465
         },
         {
          "i": 7.878523006211075e-05,
          "t": 6.065,
          "v": -1.09419
         },
         {
          "i": 7.835829614906726e-05,
          "t": 6.07,
          "v": -1.09364
         },
         {
          "i": 7.79615572670797e-05,
          "t": 6.075,
          "v": -1.09316
         },
         {
          "i": 7.754413006211075e-05,
          "t": 6.08,
          "v": -1.09265
         },
         {
          "i": 7.712822621117909e-05,
          "t": 6.085,
          "v": -1.09215
         },
         {
          "i": 7.673516782608593e-05,
          "t": 6.09,
          "v": -1.09166
         },
         {
          "i": 7.63774069565207e-05,
          "t": 6.095,
          "v": -1.09115
         },
         {
          "i": 7.605648993788717e-05,
          "t": 6.1,
          "v": -1.09066
         },
         {
          "i": 7.574088298136544e-05,
          "t": 6.105,
          "v": -1.09017
         },
         {
          "i": 7.545228894409837e-05,
          "t": 6.11,
          "v": -1.08966
         },
         {
          "i": 7.517883850931576e-05,
          "t": 6.115,
          "v": -1.08917
         },
         {
          "i": 7.490838708074434e-05,
          "t": 6.12,
          "v": -1.08866
         },
         {
          "i": 7.461800347825987e-05,
          "t": 6.125,
          "v": -1.08817
         },
         {
          "i": 7.433528149068223e-05,
          "t": 6.13,
          "v": -1.08769
         },
         {
          "i": 7.405555540372572e-05,
          "t": 6.135,
          "v": -1.08719
         },
         {
          "i": 7.374538260869467e-05,
          "t": 6.14,
          "v": -1.08659
         },
         {
          "i": 7.342539701863257e-05,
          "t": 6.145,
          "v": -1.08621
         },
         {
          "i": 7.309545838509219e-05,
          "t": 6.15,
          "v": -1.08564
         },
         {
          "i": 7.277781229813565e-05,
          "t": 6.155,
          "v": -1.0852
         },
         {
          "i": 7.244870086956424e-05,
          "t": 6.16,
          "v": -1.08471
         },
         {
          "i": 7.211680062111705e-05,
          "t": 6.165,
          "v": -1.08409
         },
         {
          "i": 7.178968496894314e-05,
          "t": 6.17,
          "v": -1.0837
         },
         {
          "i": 7.147379540372575e-05,
          "t": 6.175,
          "v": -1.08316
         },
         {
          "i": 7.120310596273196e-05,
          "t": 6.18,
          "v": -1.08262
         },
         {
          "i": 7.094327043478165e-05,
          "t": 6.185,
          "v": -1.08217
         },
         {
          "i": 7.070066024844626e-05,
          "t": 6.19,
          "v": -1.08162
         },
         {
          "i": 7.046175627329098e-05,
          "t": 6.195,
          "v": -1.08117
         },
         {
          "i": 7.026227826086862e-05,
          "t": 6.2,
          "v": -1.08064
         },
         {
          "i": 7.008675043478166e-05,
          "t": 6.205,
          "v": -1.08013
         },
         {
          "i": 6.99104970186326e-05,
          "t": 6.21,
          "v": -1.07969
         },
         {
          "i": 6.974103142857049e-05,
          "t": 6.215,
          "v": -1.07916
         },
         {
          "i": 6.958127925465744e-05,
          "t": 6.22,
          "v": -1.07865
         },
         {
          "i": 6.943882273291831e-05,
          "t": 6.225,
          "v": -1.0782
         },
         {
          "i": 6.92940269565208e-05,
          "t": 6.23,
          "v": -1.07766
         },
         {
          "i": 6.916022260869472e-05,
          "t": 6.235,
          "v": -1.07717
         },
         {
          "i": 6.900802546583758e-05,
          "t": 6.24,
          "v": -1.07668
         },
         {
          "i": 6.887806385093074e-05,
          "t": 6.245,
          "v": -1.07615
         },
         {
          "i": 6.872742496894317e-05,
          "t": 6.25,
          "v": -1.0757
         },
         {
          "i": 6.856848832298044e-05,
          "t": 6.255,
          "v": -1.0752
         },
         {
          "i": 6.84049213664587e-05,
          "t": 6.26,
          "v": -1.07462
         },
         {
          "i": 6.82370105590053e-05,
          "t": 6.265,
          "v": -1.07417
         },
         {
          "i": 6.806494198757672e-05,
          "t": 6.27,
          "v": -1.07361
         },
         {
          "i": 6.79069862111792e-05,
          "t": 6.275,
          "v": -1.07313
         },
         {
          "i": 6.776301900621027e-05,
          "t": 6.28,
          "v": -1.07262
         },
         {
          "i": 6.761993999999908e-05,
          "t": 6.285,
          "v": -1.07211
         },
         {
          "i": 6.748662608695562e-05,
          "t": 6.29,
          "v": -1.07164
         },
         {
          "i": 6.732950372670717e-05,
          "t": 6.295,
          "v": -1.07113
         },
         {
          "i": 6.718161751552704e-05,
          "t": 6.3,
          "v": -1.07061
         },
         {
          "i": 6.69991901863345e-05,
          "t": 6.305,
          "v": -1.07017
         },
         {
          "i": 6.683706285714196e-05,
          "t": 6.31,
          "v": -1.06962
         },
         {
          "i": 6.66498498136637e-05,
          "t": 6.315,
          "v": -1.06913
         },
         {
          "i": 6.645670745341526e-05,
          "t": 6.32,
          "v": -1.06863
         },
         {
          "i": 6.627639192546494e-05,
          "t": 6.325,
          "v": -1.06813
         },
         {
          "i": 6.611566621117924e-05,
          "t": 6.33,
          "v": -1.06764
         },
         {
          "i": 6.596521341614818e-05,
          "t": 6.335,
          "v": -1.06713
         },
         {
          "i": 6.582388248447117e-05,
          "t": 6.34,
          "v": -1.06663
         },
         {
          "i": 6.569576534161402e-05,
          "t": 6.345,
          "v": -1.06614
         },
         {
          "i": 6.554873763975068e-05,
          "t": 6.35,
          "v": -1.06562
         },
         {
          "i": 6.543326496894321e-05,
          "t": 6.355,
          "v": -1.06514
         },
         {
          "i": 6.52784690683221e-05,
          "t": 6.36,
          "v": -1.06463
         },
         {
          "i": 6.512246732919167e-05,
          "t": 6.365,
          "v": -1.06413
         },
         {
          "i": 6.49695985093159e-05,
          "t": 6.37,
          "v": -1.06366
         },
         {
          "i": 6.48126582608687e-05,
          "t": 6.375,
          "v": -1.06314
         },
         {
          "i": 6.466681018633455e-05,
          "t": 6.38,
          "v": -1.06263
         },
         {
          "i": 6.452215900621031e-05,
          "t": 6.385,
          "v": -1.06217
         },
         {
          "i": 6.434167751552709e-05,
          "t": 6.39,
          "v": -1.06164
         },
         {
          "i": 6.413815229813579e-05,
          "t": 6.395,
          "v": -1.06112
         },
         {
          "i": 6.392219577639666e-05,
          "t": 6.4,
          "v": -1.06066
         },
         {
          "i": 6.372351863353952e-05,
          "t": 6.405,
          "v": -1.06008
         },
         {
          "i": 6.352217689440908e-05,
          "t": 6.41,
          "v": -1.0597
         },
         {
          "i": 6.33199018633532e-05,
          "t": 6.415,
          "v": -1.05917
         },
         {
          "i": 6.312512484471965e-05,
          "t": 6.42,
          "v": -1.05858
         },
         {
          "i": 6.292017925465753e-05,
          "t": 6.425,
          "v": -1.05817
         },
         {
          "i": 6.273960881987494e-05,
          "t": 6.43,
          "v": -1.05762
         },
         {
          "i": 6.258397863353953e-05,
          "t": 6.435,
          "v": -1.05714
         },
         {
          "i": 6.244040857142774e-05,
          "t": 6.44,
          "v": -1.05663
         },
         {
          "i": 6.23052213664588e-05,
          "t": 6.445,
          "v": -1.05611
         },
         {
          "i": 6.219653590062029e-05,
          "t": 6.45,
          "v": -1.05567
         },
         {
          "i": 6.207815652173829e-05,
          "t": 6.455,
          "v": -1.05512
         },
         {
          "i": 6.196803850931593e-05,
          "t": 6.46,
          "v": -1.05462
         },
         {
          "i": 6.187307875776315e-05,
          "t": 6.465,
          "v": -1.05419
         },
         {
          "i": 6.178501677018549e-05,
          "t": 6.47,
          "v": -1.05363
         },
         {
          "i": 6.167801093167618e-05,
          "t": 6.475,
          "v": -1.05314
         },
         {
          "i": 6.156263354037183e-05,
          "t": 6.48,
          "v": -1.05266
         },
         {
          "i": 6.144676173912961e-05,
          "t": 6.485,
          "v": -1.05212
         },
         {
          "i": 6.13367207453408e-05,
          "t": 6.49,
          "v": -1.05168
         },
         {
          "i": 6.119553217391222e-05,
          "t": 6.495,
          "v": -1.05116
         },
         {
          "i": 6.104655975155198e-05,
          "t": 6.5,
          "v": -1.05063
         },
         {
          "i": 6.090563031055819e-05,
          "t": 6.505,
          "v": -1.05018
         },
         {
          "i": 6.0776786211179306e-05,
          "t": 6.51,
          "v": -1.04965
         },
         {
          "i": 6.066858732919173e-05,
          "t": 6.515,
          "v": -1.04917
         },
         {
          "i": 6.054563850931596e-05,
          "t": 6.52,
          "v": -1.04865
         },
         {
          "i": 6.043025850931596e-05,
          "t": 6.525,
          "v": -1.04811
         },
         {
          "i": 6.028170732919174e-05,
          "t": 6.53,
          "v": -1.04771
         },
         {
          "i": 6.0149186086955716e-05,
          "t": 6.535,
          "v": -1.04716
         },
         {
          "i": 6.00242649689433e-05,
          "t": 6.54,
          "v": -1.04663
         },
         {
          "i": 5.99051254658377e-05,
          "t": 6.545,
          "v": -1.0462
         },
         {
          "i": 5.975806857142777e-05,
          "t": 6.55,
          "v": -1.04563
         },
         {
          "i": 5.9615393664595474e-05,
          "t": 6.555,
          "v": -1.04516
         },
         {
          "i": 5.9495664844719695e-05,
          "t": 6.56,
          "v": -1.04465
         },
         {
          "i": 5.934646919254578e-05,
          "t": 6.565,
          "v": -1.04415
         },
         {
          "i": 5.921213689440914e-05,
          "t": 6.57,
          "v": -1.04366
         },
         {
          "i": 5.9075342484471256e-05,
          "t": 6.575,
          "v": -1.04316
         },
         {
          "i": 5.891968298136567e-05,
          "t": 6.58,
          "v": -1.04264
         },
         {
          "i": 5.875886931676939e-05,
          "t": 6.585,
          "v": -1.04216
         },
         {
          "i": 5.863658881987499e-05,
          "t": 6.59,
          "v": -1.04163
         },
         {
          "i": 5.851599925465759e-05,
          "t": 6.595,
          "v": -1.04116
         },
         {
          "i": 5.838234385093089e-05,
          "t": 6.6,
          "v": -1.04064
         },
         {
          "i": 5.827577540372592e-05,
          "t": 6.605,
          "v": -1.04015
         },
         {
          "i": 5.814809167701785e-05,
          "t": 6.61,
          "v": -1.0397
         },
         {
          "i": 5.801392248447126e-05,
          "t": 6.615,
          "v": -1.03915
         },
         {
          "i": 5.791062807453339e-05,
          "t": 6.62,
          "v": -1.03864
         },
         {
          "i": 5.777430919254581e-05,
          "t": 6.625,
          "v": -1.03819
         },
         {
          "i": 5.7628390434781834e-05,
          "t": 6.63,
          "v": -1.03765
         },
         {
          "i": 5.7457647453415373e-05,
          "t": 6.635,
          "v": -1.03715
         },
         {
          "i": 5.729299068322905e-05,
          "t": 6.64,
          "v": -1.03666
         },
         {
          "i": 5.711786720496818e-05,
          "t": 6.645,
          "v": -1.03609
         },
         {
          "i": 5.69608937888191e-05,
          "t": 6.65,
          "v": -1.0357
         },
         {
          "i": 5.67944836024837e-05,
          "t": 6.655,
          "v": -1.03519
         },
         {
          "i": 5.6597319875775634e-05,
          "t": 6.66,
          "v": -1.03458
         },
         {
          "i": 5.643038472049613e-05,
          "t": 6.665,
          "v": -1.03418
         },
         {
          "i": 5.624183813664521e-05,
          "t": 6.67,
          "v": -1.03365
         },
         {
          "i": 5.6032024720496146e-05,
          "t": 6.675,
          "v": -1.03317
         },
         {
          "i": 5.5820303850930925e-05,
          "t": 6.68,
          "v": -1.03264
         },
         {
          "i": 5.561118807453341e-05,
          "t": 6.685,
          "v": -1.03209
         },
         {
          "i": 5.542734695652099e-05,
          "t": 6.69,
          "v": -1.03173
         },
         {
          "i": 5.526024869565143e-05,
          "t": 6.695,
          "v": -1.03114
         },
         {
          "i": 5.5084045093166956e-05,
          "t": 6.7,
          "v": -1.03062
         },
         {
          "i": 5.4920727080744606e-05,
          "t": 6.705,
          "v": -1.03019
         },
         {
          "i": 5.476195018633467e-05,
          "t": 6.71,
          "v": -1.02962
         },
         {
          "i": 5.4634383354036536e-05,
          "t": 6.715,
          "v": -1.02914
         },
         {
          "i": 5.448504434782535e-05,
          "t": 6.72,
          "v": -1.02866
         },
         {
          "i": 5.434205888198685e-05,
          "t": 6.725,
          "v": -1.02813
         },
         {
          "i": 5.41979411180117e-05,
          "t": 6.73,
          "v": -1.02767
         },
         {
          "i": 5.404127043478188e-05,
          "t": 6.735,
          "v": -1.02717
         },
         {
          "i": 5.389939788819803e-05,
          "t": 6.74,
          "v": -1.02664
         },
         {
          "i": 5.3768489813663876e-05,
          "t": 6.745,
          "v": -1.02618
         },
         {
          "i": 5.365457677018561e-05,
          "t": 6.75,
          "v": -1.02565
         },
         {
          "i": 5.353775788819804e-05,
          "t": 6.755,
          "v": -1.02518
         },
         {
          "i": 5.3453721242235306e-05,
          "t": 6.76,
          "v": -1.02466
         },
         {
          "i": 5.335532049689369e-05,
          "t": 6.765,
          "v": -1.02413
         },
         {
          "i": 5.325476745341543e-05,
          "t": 6.77,
          "v": -1.02369
         },
         {
          "i": 5.314869838509245e-05,
          "t": 6.775,
          "v": -1.02316
         },
         {
          "i": 5.3013019378881274e-05,
          "t": 6.78,
          "v": -1.02262
         },
         {
          "i": 5.287829018633469e-05,
          "t": 6.785,
          "v": -1.02219
         },
         {
          "i": 5.272973937888128e-05,
          "t": 6.79,
          "v": -1.02161
         },
         {
          "i": 5.2603137142856436e-05,
          "t": 6.795,
          "v": -1.02114
         },
         {
          "i": 5.2485134037266376e-05,
          "t": 6.8,
          "v": -1.02066
         },
         {
          "i": 5.233015204968874e-05,
          "t": 6.805,
          "v": -1.02012
         },
         {
          "i": 5.219468683229744e-05,
          "t": 6.81,
          "v": -1.01965
         },
         {
          "i": 5.206461701863285e-05,
          "t": 6.815,
          "v": -1.01916
         },
         {
          "i": 5.195375925465769e-05,
          "t": 6.82,
          "v": -1.01863
         },
         {
          "i": 5.183491677018564e-05,
          "t": 6.825,
          "v": -1.01816
         },
         {
          "i": 5.16979751552788e-05,
          "t": 6.83,
          "v": -1.01763
         },
         {
          "i": 5.153811726708005e-05,
          "t": 6.835,
          "v": -1.01716
         },
         {
          "i": 5.139736335403658e-05,
          "t": 6.84,
          "v": -1.01664
         },
         {
          "i": 5.1266517391303656e-05,
          "t": 6.845,
          "v": -1.01614
         },
         {
          "i": 5.1127820124222915e-05,
          "t": 6.85,
          "v": -1.01569
         },
         {
          "i": 5.097738248447136e-05,
          "t": 6.855,
          "v": -1.01515
         },
         {
          "i": 5.081947242235956e-05,
          "t": 6.86,
          "v": -1.01465
         },
         {
          "i": 5.067103217391237e-05,
          "t": 6.865,
          "v": -1.01418
         },
         {
          "i": 5.05345139130428e-05,
          "t": 6.87,
          "v": -1.01364
         },
         {
          "i": 5.0404986086955844e-05,
          "t": 6.875,
          "v": -1.01315
         },
         {
          "i": 5.0281632546583175e-05,
          "t": 6.88,
          "v": -1.01264
         },
         {
          "i": 5.0138839006210495e-05,
          "t": 6.885,
          "v": -1.01216
         },
         {
          "i": 5.001745614906766e-05,
          "t": 6.89,
          "v": -1.01165
         },
         {
          "i": 4.9869315031055224e-05,
          "t": 6.895,
          "v": -1.01115
         },
         {
          "i": 4.971759577639685e-05,
          "t": 6.9,
          "v": -1.01057
         },
         {
          "i": 4.956322844720431e-05,
          "t": 6.905,
          "v": -1.01021
         },
         {
          "i": 4.939844559006145e-05,
          "t": 6.91,
          "v": -1.00965
         },
         {
          "i": 4.919802024844655e-05,
          "t": 6.915,
          "v": -1.00915
         },
         {
          "i": 4.903033031055835e-05,
          "t": 6.92,
          "v": -1.00865
         },
         {
          "i": 4.8857723478260214e-05,
          "t": 6.925,
          "v": -1.00809
         },
         {
          "i": 4.8693736770185676e-05,
          "t": 6.93,
          "v": -1.00769
         },
         {
          "i": 4.8496333043477614e-05,
          "t": 6.935,
          "v": -1.00716
         },
         {
          "i": 4.829893490683165e-05,
          "t": 6.94,
          "v": -1.00661
         },
         {
          "i": 4.8069615279502454e-05,
          "t": 6.945,
          "v": -1.00619
         },
         {
          "i": 4.784647068322917e-05,
          "t": 6.95,
          "v": -1.00562
         },
         {
          "i": 4.762400273291862e-05,
          "t": 6.955,
          "v": -1.00515
         },
         {
          "i": 4.7398594285713646e-05,
          "t": 6.96,
          "v": -1.00465
         },
         {
          "i": 4.7182526832297503e-05,
          "t": 6.965,
          "v": -1.0041
         },
         {
          "i": 4.698457093167639e-05,
          "t": 6.97,
          "v": -1.00368
         },
         {
          "i": 4.678097763975092e-05,
          "t": 6.975,
          "v": -1.00317
         },
         {
          "i": 4.660522012422298e-05,
          "t": 6.98,
          "v": -1.00264
         },
         {
          "i": 4.643565304347764e-05,
          "t": 6.985,
          "v": -1.00218
         },
         {
          "i": 4.6278451552794417e-05,
          "t": 6.99,
          "v": -1.00165
         },
         {
          "i": 4.6104379254657767e-05,
          "t": 6.995,
          "v": -1.00118
         },
         {
          "i": 4.595030472049628e-05,
          "t": 7,
          "v": -1.00068
         },
         {
          "i": 4.576864409937827e-05,
          "t": 7.005,
          "v": -1.00014
         },
         {
          "i": 4.557127291925405e-05,
          "t": 7.01,
          "v": -0.999696
         },
         {
          "i": 4.538714881987517e-05,
          "t": 7.015,
          "v": -0.999191
         },
         {
          "i": 4.52101154037261e-05,
          "t": 7.02,
          "v": -0.998652
         },
         {
          "i": 4.503073652173853e-05,
          "t": 7.025,
          "v": -0.998196
         },
         {
          "i": 4.487790534161431e-05,
          "t": 7.03,
          "v": -0.997638
         },
         {
          "i": 4.4694971304347224e-05,
          "t": 7.035,
          "v": -0.997177
         },
         {
          "i": 4.449269366459568e-05,
          "t": 7.04,
          "v": -0.996681
         },
         {
          "i": 4.427117751552736e-05,
          "t": 7.045,
          "v": -0.996118
         },
         {
          "i": 4.404013913043419e-05,
          "t": 7.05,
          "v": -0.99569
         },
         {
          "i": 4.3819717888198176e-05,
          "t": 7.055,
          "v": -0.995186
         },
         {
          "i": 4.3615157018632954e-05,
          "t": 7.06,
          "v": -0.994658
         },
         {
          "i": 4.345000869565159e-05,
          "t": 7.065,
          "v": -0.994167
         },
         {
          "i": 4.326078173912986e-05,
          "t": 7.07,
          "v": -0.993641
         },
         {
          "i": 4.3062457142856564e-05,
          "t": 7.075,
          "v": -0.993174
         },
         {
          "i": 4.285466496894353e-05,
          "t": 7.08,
          "v": -0.992648
         },
         {
          "i": 4.261661850931619e-05,
          "t": 7.085,
          "v": -0.992132
         },
         {
          "i": 4.240851267080688e-05,
          "t": 7.09,
          "v": -0.991684
         },
         {
          "i": 4.21832437267075e-05,
          "t": 7.095,
          "v": -0.991158
         },
         {
          "i": 4.1936472049688875e-05,
          "t": 7.1,
          "v": -0.990642
         },
         {
          "i": 4.1686013664595714e-05,
          "t": 7.105,
          "v": -0.990188
         },
         {
          "i": 4.1417237639751e-05,
          "t": 7.11,
          "v": -0.989642
         },
         {
          "i": 4.1127354285713737e-05,
          "t": 7.115,
          "v": -0.989173
         },
         {
          "i": 4.082748099378827e-05,
          "t": 7.12,
          "v": -0.98866
         },
         {
          "i": 4.054223167701809e-05,
          "t": 7.125,
          "v": -0.988168
         },
         {
          "i": 4.0246051304347286e-05,
          "t": 7.13,
          "v": -0.987663
         },
         {
          "i": 3.99572868322976e-05,
          "t": 7.135,
          "v": -0.987162
         },
         {
          "i": 3.96478865838504e-05,
          "t": 7.14,
          "v": -0.986645
         },
         {
          "i": 3.9327283354036745e-05,
          "t": 7.145,
          "v": -0.986166
         },
         {
          "i": 3.902649055900569e-05,
          "t": 7.15,
          "v": -0.98566
         },
         {
          "i": 3.8729051180123705e-05,
          "t": 7.155,
          "v": -0.985152
         },
         {
          "i": 3.845299677018582e-05,
          "t": 7.16,
          "v": -0.984697
         },
         {
          "i": 3.8211522732918736e-05,
          "t": 7.165,
          "v": -0.984083
         },
         {
          "i": 3.79757555279498e-05,
          "t": 7.17,
          "v": -0.983692
         },
         {
          "i": 3.7753695155279e-05,
          "t": 7.175,
          "v": -0.98318
         },
         {
          "i": 3.751468124223552e-05,
          "t": 7.18,
          "v": -0.982603
         },
         {
          "i": 3.7267775155278996e-05,
          "t": 7.185,
          "v": -0.982211
         },
         {
          "i": 3.703024397515478e-05,
          "t": 7.19,
          "v": -0.981638
         },
         {
          "i": 3.6807886956521245e-05,
          "t": 7.195,
          "v": -0.981162
         },
         {
          "i": 3.658449652173864e-05,
          "t": 7.2,
          "v": -0.980663
         },
         {
          "i": 3.6364023229813173e-05,
          "t": 7.205,
          "v": -0.980115
         },
         {
          "i": 3.613112633540324e-05,
          "t": 7.21,
          "v": -0.979653
         },
         {
          "i": 3.59026289440989e-05,
          "t": 7.215,
          "v": -0.979141
         },
         {
          "i": 3.56473591304343e-05,
          "t": 7.22,
          "v": -0.978637
         },
         {
          "i": 3.535737018633493e-05,
          "t": 7.225,
          "v": -0.97818
         },
         {
          "i": 3.5076238136645495e-05,
          "t": 7.23,
          "v": -0.977649
         },
         {
          "i": 3.4796280993788354e-05,
          "t": 7.235,
          "v": -0.977167
         },
         {
          "i": 3.446952968944053e-05,
          "t": 7.24,
          "v": -0.976664
         },
         {
          "i": 3.415803416149022e-05,
          "t": 7.245,
          "v": -0.976137
         },
         {
          "i": 3.380806422360203e-05,
          "t": 7.25,
          "v": -0.975713
         },
         {
          "i": 3.348675590062067e-05,
          "t": 7.255,
          "v": -0.975168
         },
         {
          "i": 3.315897180124179e-05,
          "t": 7.26,
          "v": -0.974648
         },
         {
          "i": 3.281109229813621e-05,
          "t": 7.265,
          "v": -0.974205
         },
         {
          "i": 3.2439271304347395e-05,
          "t": 7.27,
          "v": -0.973661
         },
         {
          "i": 3.208744944099336e-05,
          "t": 7.275,
          "v": -0.973176
         },
         {
          "i": 3.172391776397473e-05,
          "t": 7.28,
          "v": -0.97269
         },
         {
          "i": 3.135968409937846e-05,
          "t": 7.285,
          "v": -0.972083
         },
         {
          "i": 3.0972702484471636e-05,
          "t": 7.29,
          "v": -0.971644
         },
         {
          "i": 3.0559639875775985e-05,
          "t": 7.295,
          "v": -0.971137
         },
         {
          "i": 3.017593726708034e-05,
          "t": 7.3,
          "v": -0.970607
         },
         {
          "i": 2.9801024844720097e-05,
          "t": 7.305,
          "v": -0.970165
         },
         {
          "i": 2.9406610931676622e-05,
          "t": 7.31,
          "v": -0.96963
         },
         {
          "i": 2.9029170683229424e-05,
          "t": 7.315,
          "v": -0.969155
         },
         {
          "i": 2.8635259006210792e-05,
          "t": 7.32,
          "v": -0.968628
         },
         {
          "i": 2.82354339130431e-05,
          "t": 7.325,
          "v": -0.96812
         },
         {
          "i": 2.781209515527913e-05,
          "t": 7.33,
          "v": -0.967693
         },
         {
          "i": 2.7357273167701494e-05,
          "t": 7.335,
          "v": -0.96714
         },
         {
          "i": 2.694767453416113e-05,
          "t": 7.34,
          "v": -0.966628
         },
         {
          "i": 2.6511718509316417e-05,
          "t": 7.345,
          "v": -0.96618
         },
         {
          "i": 2.6037104596272942e-05,
          "t": 7.35,
          "v": -0.96563
         },
         {
          "i": 2.5577605341614562e-05,
          "t": 7.355,
          "v": -0.965132
         },
         {
          "i": 2.5093000993788485e-05,
          "t": 7.36,
          "v": -0.964632
         },
         {
          "i": 2.4659366459626996e-05,
          "t": 7.365,
          "v": -0.964142
         },
         {
          "i": 2.419536422360216e-05,
          "t": 7.37,
          "v": -0.963634
         },
         {
          "i": 2.3700148322981047e-05,
          "t": 7.375,
          "v": -0.963135
         },
         {
          "i": 2.3210680496894097e-05,
          "t": 7.38,
          "v": -0.96263
         },
         {
          "i": 2.275109838509286e-05,
          "t": 7.385,
          "v": -0.962131
         },
         {
          "i": 2.2292302732918956e-05,
          "t": 7.39,
          "v": -0.961625
         },
         {
          "i": 2.18354096894407e-05,
          "t": 7.395,
          "v": -0.961156
         },
         {
          "i": 2.136553739130406e-05,
          "t": 7.4,
          "v": -0.96063
         },
         {
          "i": 2.089857999999972e-05,
          "t": 7.405,
          "v": -0.96013
         },
         {
          "i": 2.042818161490656e-05,
          "t": 7.41,
          "v": -0.959675
         },
         {
          "i": 1.994878037267054e-05,
          "t": 7.415,
          "v": -0.959186
         },
         {
          "i": 1.9481869689440732e-05,
          "t": 7.42,
          "v": -0.958549
         },
         {
          "i": 1.900671080745316e-05,
          "t": 7.425,
          "v": -0.958199
         },
         {
          "i": 1.855393701863329e-05,
          "t": 7.43,
          "v": -0.957628
         },
         {
          "i": 1.8067822732919012e-05,
          "t": 7.435,
          "v": -0.957158
         },
         {
          "i": 1.759833937888175e-05,
          "t": 7.44,
          "v": -0.956674
         },
         {
          "i": 1.7106925341614678e-05,
          "t": 7.445,
          "v": -0.956067
         },
         {
          "i": 1.6636109565217167e-05,
          "t": 7.45,
          "v": -0.95568
         },
         {
          "i": 1.6128196521738914e-05,
          "t": 7.455,
          "v": -0.95516
         },
         {
          "i": 1.5621346335403517e-05,
          "t": 7.46,
          "v": -0.954587
         },
         {
          "i": 1.5101439552794829e-05,
          "t": 7.465,
          "v": -0.954145
         },
         {
          "i": 1.4600145490683034e-05,
          "t": 7.47,
          "v": -0.9536
         },
         {
          "i": 1.4131680596273103e-05,
          "t": 7.475,
          "v": -0.953114
         },
         {
          "i": 1.3644505031055718e-05,
          "t": 7.48,
          "v": -0.952626
         },
         {
          "i": 1.3141661055900444e-05,
          "t": 7.485,
          "v": -0.952096
         },
         {
          "i": 1.264743048447188e-05,
          "t": 7.49,
          "v": -0.951668
         },
         {
          "i": 1.216693920496878e-05,
          "t": 7.495,
          "v": -0.951144
         },
         {
          "i": 1.164692245962717e-05,
          "t": 7.5,
          "v": -0.950597
         },
         {
          "i": 1.1113665142856993e-05,
          "t": 7.505,
          "v": -0.950177
         },
         {
          "i": 1.0565000509316628e-05,
          "t": 7.51,
          "v": -0.949635
         },
         {
          "i": 9.977566944099245e-06,
          "t": 7.515,
          "v": -0.949146
         },
         {
          "i": 9.374933925465712e-06,
          "t": 7.52,
          "v": -0.948661
         },
         {
          "i": 8.763043465838392e-06,
          "t": 7.525,
          "v": -0.948118
         },
         {
          "i": 8.185226149068214e-06,
          "t": 7.53,
          "v": -0.947663
         },
         {
          "i": 7.603857316770085e-06,
          "t": 7.535,
          "v": -0.947157
         },
         {
          "i": 7.064084862111705e-06,
          "t": 7.54,
          "v": -0.946627
         },
         {
          "i": 6.479732900621031e-06,
          "t": 7.545,
          "v": -0.946166
         },
         {
          "i": 5.898634757763895e-06,
          "t": 7.55,
          "v": -0.945619
         },
         {
          "i": 5.2462605329191845e-06,
          "t": 7.555,
          "v": -0.945156
         },
         {
          "i": 4.5999634434782e-06,
          "t": 7.56,
          "v": -0.944637
         },
         {
          "i": 3.978670036024792e-06,
          "t": 7.565,
          "v": -0.944106
         },
         {
          "i": 3.3949345465838065e-06,
          "t": 7.57,
          "v": -0.94368
         },
         {
          "i": 2.846067211180087e-06,
          "t": 7.575,
          "v": -0.943142
         },
         {
          "i": 2.3791094956521434e-06,
          "t": 7.58,
          "v": -0.942637
         },
         {
          "i": 1.9990352136645706e-06,
          "t": 7.585,
          "v": -0.942182
         },
         {
          "i": 1.7030001913043262e-06,
          "t": 7.59,
          "v": -0.941624
         },
         {
          "i": 1.4932620559006023e-06,
          "t": 7.595,
          "v": -0.941146
         },
         {
          "i": 1.367341453416132e-06,
          "t": 7.6,
          "v": -0.940646
         },
         {
          "i": 1.3353497999999834e-06,
          "t": 7.605,
          "v": -0.940131
         },
         {
          "i": 1.4014470583850759e-06,
          "t": 7.61,
          "v": -0.939649
         },
         {
          "i": 1.5685651664596079e-06,
          "t": 7.615,
          "v": -0.939147
         },
         {
          "i": 1.83299465838507e-06,
          "t": 7.62,
          "v": -0.938644
         },
         {
          "i": 2.2097904782608412e-06,
          "t": 7.625,
          "v": -0.93816
         },
         {
          "i": 2.684597607453381e-06,
          "t": 7.63,
          "v": -0.937643
         },
         {
          "i": 3.2480340956521313e-06,
          "t": 7.635,
          "v": -0.937181
         },
         {
          "i": 3.921081557763923e-06,
          "t": 7.64,
          "v": -0.936657
         },
         {
          "i": 4.642599459627268e-06,
          "t": 7.645,
          "v": -0.93616
         },
         {
          "i": 5.385792372670735e-06,
          "t": 7.65,
          "v": -0.935711
         },
         {
          "i": 6.09262989316762e-06,
          "t": 7.655,
          "v": -0.935165
         },
         {
          "i": 6.780246896894319e-06,
          "t": 7.66,
          "v": -0.934655
         },
         {
          "i": 7.437836894409838e-06,
          "t": 7.665,
          "v": -0.934199
         },
         {
          "i": 8.101071975155171e-06,
          "t": 7.67,
          "v": -0.933656
         },
         {
          "i": 8.74673233540361e-06,
          "t": 7.675,
          "v": -0.933158
         },
         {
          "i": 9.370725925465711e-06,
          "t": 7.68,
          "v": -0.932695
         },
         {
          "i": 1.0004191006211046e-05,
          "t": 7.685,
          "v": -0.932093
         },
         {
          "i": 1.065403115527936e-05,
          "t": 7.69,
          "v": -0.93173
         },
         {
          "i": 1.1291700459627178e-05,
          "t": 7.695,
          "v": -0.931199
         },
         {
          "i": 1.1943096819875614e-05,
          "t": 7.7,
          "v": -0.930621
         },
         {
          "i": 1.2573777465838341e-05,
          "t": 7.705,
          "v": -0.930189
         },
         {
          "i": 1.3192868211179947e-05,
          "t": 7.71,
          "v": -0.92963
         },
         {
          "i": 1.3827996223602298e-05,
          "t": 7.715,
          "v": -0.929184
         },
         {
          "i": 1.4459886173912847e-05,
          "t": 7.72,
          "v": -0.92865
         },
         {
          "i": 1.505843308074514e-05,
          "t": 7.725,
          "v": -0.928138
         },
         {
          "i": 1.566863511801221e-05,
          "t": 7.73,
          "v": -0.927707
         },
         {
          "i": 1.628033788819854e-05,
          "t": 7.735,
          "v": -0.927147
         },
         {
          "i": 1.68787262111799e-05,
          "t": 7.74,
          "v": -0.926643
         },
         {
          "i": 1.7470580993788585e-05,
          "t": 7.745,
          "v": -0.9262
         },
         {
          "i": 1.8064043975155035e-05,
          "t": 7.75,
          "v": -0.925647
         },
         {
          "i": 1.867661204968919e-05,
          "t": 7.755,
          "v": -0.925177
         },
         {
          "i": 1.9281424347825827e-05,
          "t": 7.76,
          "v": -0.924693
         },
         {
          "i": 1.989504447204942e-05,
          "t": 7.765,
          "v": -0.924145
         },
         {
          "i": 2.0528939006210906e-05,
          "t": 7.77,
          "v": -0.923704
         },
         {
          "i": 2.1152125714285434e-05,
          "t": 7.775,
          "v": -0.923189
         },
         {
          "i": 2.1789674534161197e-05,
          "t": 7.78,
          "v": -0.922673
         },
         {
          "i": 2.2416412173912744e-05,
          "t": 7.785,
          "v": -0.922203
         },
         {
          "i": 2.307271204968913e-05,
          "t": 7.79,
          "v": -0.921669
         },
         {
          "i": 2.3710470310558685e-05,
          "t": 7.795,
          "v": -0.921183
         },
         {
          "i": 2.4326286211179798e-05,
          "t": 7.8,
          "v": -0.920664
         },
         {
          "i": 2.491838732919221e-05,
          "t": 7.805,
          "v": -0.920116
         },
         {
          "i": 2.5545221366459285e-05,
          "t": 7.81,
          "v": -0.919696
         },
         {
          "i": 2.614460658385058e-05,
          "t": 7.815,
          "v": -0.919153
         },
         {
          "i": 2.675319366459592e-05,
          "t": 7.82,
          "v": -0.918634
         },
         {
          "i": 2.7363638881987213e-05,
          "t": 7.825,
          "v": -0.9182
         },
         {
          "i": 2.796759316770149e-05,
          "t": 7.83,
          "v": -0.917634
         },
         {
          "i": 2.856010819875738e-05,
          "t": 7.835,
          "v": -0.917162
         },
         {
          "i": 2.9165122236024453e-05,
          "t": 7.84,
          "v": -0.916651
         },
         {
          "i": 2.9770047329192148e-05,
          "t": 7.845,
          "v": -0.916154
         },
         {
          "i": 3.037552385093127e-05,
          "t": 7.85,
          "v": -0.915676
         },
         {
          "i": 3.097147751552753e-05,
          "t": 7.855,
          "v": -0.915163
         },
         {
          "i": 3.157887167701821e-05,
          "t": 7.86,
          "v": -0.914652
         },
         {
          "i": 3.219817813664553e-05,
          "t": 7.865,
          "v": -0.914177
         },
         {
          "i": 3.2801699751552356e-05,
          "t": 7.87,
          "v": -0.913651
         },
         {
          "i": 3.337718447204924e-05,
          "t": 7.875,
          "v": -0.913178
         },
         {
          "i": 3.39693527950306e-05,
          "t": 7.88,
          "v": -0.912658
         },
         {
          "i": 3.454309093167656e-05,
          "t": 7.885,
          "v": -0.912158
         },
         {
          "i": 3.5123157763974684e-05,
          "t": 7.89,
          "v": -0.911717
         },
         {
          "i": 3.567381080745294e-05,
          "t": 7.895,
          "v": -0.911163
         },
         {
          "i": 3.620781813664548e-05,
          "t": 7.9,
          "v": -0.910658
         },
         {
          "i": 3.669944919254609e-05,
          "t": 7.905,
          "v": -0.910198
         },
         {
          "i": 3.724344571428521e-05,
          "t": 7.91,
          "v": -0.909657
         },
         {
          "i": 3.7767719999999494e-05,
          "t": 7.915,
          "v": -0.909167
         },
         {
          "i": 3.830858024844669e-05,
          "t": 7.92,
          "v": -0.908652
         },
         {
          "i": 3.883701378881935e-05,
          "t": 7.925,
          "v": -0.908099
         },
         {
          "i": 3.9380485217390775e-05,
          "t": 7.93,
          "v": -0.907714
         },
         {
          "i": 3.993334559006158e-05,
          "t": 7.935,
          "v": -0.907194
         },
         {
          "i": 4.049118484471995e-05,
          "t": 7.94,
          "v": -0.906596
         },
         {
          "i": 4.103011043478206e-05,
          "t": 7.945,
          "v": -0.906198
         },
         {
          "i": 4.157130459627274e-05,
          "t": 7.95,
          "v": -0.905654
         },
         {
          "i": 4.207648273291869e-05,
          "t": 7.955,
          "v": -0.905198
         },
         {
          "i": 4.254427739130378e-05,
          "t": 7.96,
          "v": -0.904658
         },
         {
          "i": 4.296856322981308e-05,
          "t": 7.965,
          "v": -0.904096
         },
         {
          "i": 4.3402980869564637e-05,
          "t": 7.97,
          "v": -0.90372
         },
         {
          "i": 4.379308857142798e-05,
          "t": 7.975,
          "v": -0.903154
         },
         {
          "i": 4.4183870559005614e-05,
          "t": 7.98,
          "v": -0.902627
         },
         {
          "i": 4.457675341614847e-05,
          "t": 7.985,
          "v": -0.902199
         },
         {
          "i": 4.500038869565157e-05,
          "t": 7.99,
          "v": -0.901624
         },
         {
          "i": 4.543365937888138e-05,
          "t": 7.995,
          "v": -0.901158
         },
         {
          "i": 4.5871076894409326e-05,
          "t": 8,
          "v": -0.900657
         },
         {
          "i": 4.632749788819814e-05,
          "t": 8.005,
          "v": -0.900111
         },
         {
          "i": 4.681258211180062e-05,
          "t": 8.01,
          "v": -0.899679
         },
         {
          "i": 4.7314254782608065e-05,
          "t": 8.015,
          "v": -0.899176
         },
         {
          "i": 4.7834228447204326e-05,
          "t": 8.02,
          "v": -0.898631
         },
         {
          "i": 4.8320894906831654e-05,
          "t": 8.025,
          "v": -0.898175
         },
         {
          "i": 4.882197614906767e-05,
          "t": 8.03,
          "v": -0.897646
         },
         {
          "i": 4.9293458509316103e-05,
          "t": 8.035,
          "v": -0.897186
         },
         {
          "i": 4.974980534161424e-05,
          "t": 8.04,
          "v": -0.896665
         },
         {
          "i": 5.0188920372670134e-05,
          "t": 8.045,
          "v": -0.89614
         },
         {
          "i": 5.060905204968877e-05,
          "t": 8.05,
          "v": -0.895684
         },
         {
          "i": 5.0970412422359564e-05,
          "t": 8.055,
          "v": -0.895169
         },
         {
          "i": 5.1304092298135953e-05,
          "t": 8.06,
          "v": -0.894633
         },
         {
          "i": 5.1636893167701174e-05,
          "t": 8.065,
          "v": -0.8942
         },
         {
          "i": 5.193645267080676e-05,
          "t": 8.07,
          "v": -0.893635
         },
         {
          "i": 5.222159316770116e-05,
          "t": 8.075,
          "v": -0.893186
         },
         {
          "i": 5.2530540745340907e-05,
          "t": 8.08,
          "v": -0.892669
         },
         {
          "i": 5.2806603229812966e-05,
          "t": 8.085,
          "v": -0.892148
         },
         {
          "i": 5.3130238385092456e-05,
          "t": 8.09,
          "v": -0.891676
         },
         {
          "i": 5.34383459627322e-05,
          "t": 8.095,
          "v": -0.891167
         },
         {
          "i": 5.37457162732912e-05,
          "t": 8.1,
          "v": -0.890646
         },
         {
          "i": 5.4067327453415426e-05,
          "t": 8.105,
          "v": -0.890175
         },
         {
          "i": 5.4385486956521e-05,
          "t": 8.11,
          "v": -0.889643
         },
         {
          "i": 5.4736798509316034e-05,
          "t": 8.115,
          "v": -0.889186
         },
         {
          "i": 5.510484037267006e-05,
          "t": 8.12,
          "v": -0.888662
         },
         {
          "i": 5.5477779627328446e-05,
          "t": 8.125,
          "v": -0.888158
         },
         {
          "i": 5.5840903105589315e-05,
          "t": 8.13,
          "v": -0.887708
         },
         {
          "i": 5.619628074534087e-05,
          "t": 8.135,
          "v": -0.887174
         },
         {
          "i": 5.652853130434707e-05,
          "t": 8.14,
          "v": -0.886648
         },
         {
          "i": 5.683367726707998e-05,
          "t": 8.145,
          "v": -0.886197
         },
         {
          "i": 5.712950621117935e-05,
          "t": 8.15,
          "v": -0.885662
         },
         {
          "i": 5.740772037267004e-05,
          "t": 8.155,
          "v": -0.885176
         },
         {
          "i": 5.765589093167624e-05,
          "t": 8.16,
          "v": -0.884661
         },
         {
          "i": 5.787158024844642e-05,
          "t": 8.165,
          "v": -0.884173
         },
         {
          "i": 5.808717614906755e-05,
          "t": 8.17,
          "v": -0.883671
         },
         {
          "i": 5.831033664596195e-05,
          "t": 8.175,
          "v": -0.883162
         },
         {
          "i": 5.847966062111723e-05,
          "t": 8.18,
          "v": -0.882574
         },
         {
          "i": 5.862984894409859e-05,
          "t": 8.185,
          "v": -0.882201
         },
         {
          "i": 5.8770796273291134e-05,
          "t": 8.19,
          "v": -0.881637
         },
         {
          "i": 5.890862571428492e-05,
          "t": 8.195,
          "v": -0.881159
         },
         {
          "i": 5.904160248447126e-05,
          "t": 8.2,
          "v": -0.880653
         },
         {
          "i": 5.914631788819796e-05,
          "t": 8.205,
          "v": -0.8801
         },
         {
          "i": 5.924381403726628e-05,
          "t": 8.21,
          "v": -0.879727
         },
         {
          "i": 5.935641664596193e-05,
          "t": 8.215,
          "v": -0.879149
         },
         {
          "i": 5.947894670807374e-05,
          "t": 8.22,
          "v": -0.878611
         },
         {
          "i": 5.960674447204889e-05,
          "t": 8.225,
          "v": -0.878205
         },
         {
          "i": 5.97458901863346e-05,
          "t": 8.23,
          "v": -0.877616
         },
         {
          "i": 5.9876302236024044e-05,
          "t": 8.235,
          "v": -0.877154
         },
         {
          "i": 5.998827142857062e-05,
          "t": 8.24,
          "v": -0.87665
         },
         {
          "i": 6.008945254658304e-05,
          "t": 8.245,
          "v": -0.876132
         },
         {
          "i": 6.0198347826086146e-05,
          "t": 8.25,
          "v": -0.875682
         },
         {
          "i": 6.029378434782528e-05,
          "t": 8.255,
          "v": -0.875168
         },
         {
          "i": 6.037213602484391e-05,
          "t": 8.26,
          "v": -0.874651
         },
         {
          "i": 6.0464031180123414e-05,
          "t": 8.265,
          "v": -0.874187
         },
         {
          "i": 6.0549249565216575e-05,
          "t": 8.27,
          "v": -0.873646
         },
         {
          "i": 6.062335440993708e-05,
          "t": 8.275,
          "v": -0.873172
         },
         {
          "i": 6.0715103478260056e-05,
          "t": 8.28,
          "v": -0.872668
         },
         {
          "i": 6.0800750559005396e-05,
          "t": 8.285,
          "v": -0.872149
         },
         {
          "i": 6.0864053416148246e-05,
          "t": 8.29,
          "v": -0.871713
         },
         {
          "i": 6.092153018633459e-05,
          "t": 8.295,
          "v": -0.871177
         },
         {
          "i": 6.0982076024843904e-05,
          "t": 8.3,
          "v": -0.870668
         },
         {
          "i": 6.10418561490675e-05,
          "t": 8.305,
          "v": -0.870203
         },
         {
          "i": 6.109220819875694e-05,
          "t": 8.31,
          "v": -0.869621
         },
         {
          "i": 6.11354114285706e-05,
          "t": 8.315,
          "v": -0.869133
         },
         {
          "i": 6.116427304347743e-05,
          "t": 8.32,
          "v": -0.868636
         },
         {
          "i": 6.122668124223519e-05,
          "t": 8.325,
          "v": -0.868103
         },
         {
          "i": 6.124254496894328e-05,
          "t": 8.33,
          "v": -0.867657
         },
         {
          "i": 6.126192757763893e-05,
          "t": 8.335,
          "v": -0.867144
         },
         {
          "i": 6.131389229813582e-05,
          "t": 8.34,
          "v": -0.866621
         },
         {
          "i": 6.135819254658303e-05,
          "t": 8.345,
          "v": -0.866149
         },
         {
          "i": 6.140408770186252e-05,
          "t": 8.35,
          "v": -0.865625
         },
         {
          "i": 6.143209677018552e-05,
          "t": 8.355,
          "v": -0.865141
         },
         {
          "i": 6.14483110558998e-05,
          "t": 8.36,
          "v": -0.864632
         },
         {
          "i": 6.147022447204886e-05,
          "t": 8.365,
          "v": -0.864133
         },
         {
          "i": 6.149075540372588e-05,
          "t": 8.37,
          "v": -0.863676
         },
         {
          "i": 6.151166645962651e-05,
          "t": 8.375,
          "v": -0.863136
         },
         {
          "i": 6.153422894409855e-05,
          "t": 8.38,
          "v": -0.862626
         },
         {
          "i": 6.153086136645881e-05,
          "t": 8.385,
          "v": -0.862173
         },
         {
          "i": 6.156755453416066e-05,
          "t": 8.39,
          "v": -0.861631
         },
         {
          "i": 6.156454360248365e-05,
          "t": 8.395,
          "v": -0.861132
         },
         {
          "i": 6.154477627329111e-05,
          "t": 8.4,
          "v": -0.860633
         },
         {
          "i": 6.153052397515445e-05,
          "t": 8.405,
          "v": -0.860134
         },
         {
          "i": 6.150936211180041e-05,
          "t": 8.41,
          "v": -0.859633
         },
         {
          "i": 6.146944894409855e-05,
          "t": 8.415,
          "v": -0.859134
         },
         {
          "i": 6.146525242235942e-05,
          "t": 8.42,
          "v": -0.858625
         },
         {
          "i": 6.143868509316688e-05,
          "t": 8.425,
          "v": -0.858151
         },
         {
          "i": 6.14238260869557e-05,
          "t": 8.43,
          "v": -0.857635
         },
         {
          "i": 6.142115664596192e-05,
          "t": 8.435,
          "v": -0.857102
         },
         {
          "i": 6.137119925465757e-05,
          "t": 8.44,
          "v": -0.856645
         },
         {
          "i": 6.137041751552713e-05,
          "t": 8.445,
          "v": -0.856066
         },
         {
          "i": 6.137270037267e-05,
          "t": 8.45,
          "v": -0.85569
         },
         {
          "i": 6.13743915527942e-05,
          "t": 8.455,
          "v": -0.855129
         },
         {
          "i": 6.137150310558923e-05,
          "t": 8.46,
          "v": -0.854581
         },
         {
          "i": 6.134894198757682e-05,
          "t": 8.465,
          "v": -0.854202
         },
         {
          "i": 6.13265814906824e-05,
          "t": 8.47,
          "v": -0.853622
         },
         {
          "i": 6.12869509316762e-05,
          "t": 8.475,
          "v": -0.853141
         },
         {
          "i": 6.123909677018552e-05,
          "t": 8.48,
          "v": -0.85265
         },
         {
          "i": 6.117523378881906e-05,
          "t": 8.485,
          "v": -0.852096
         },
         {
          "i": 6.111005999999918e-05,
          "t": 8.49,
          "v": -0.851644
         },
         {
          "i": 6.104885801242154e-05,
          "t": 8.495,
          "v": -0.851126
         },
         {
          "i": 6.100907863353955e-05,
          "t": 8.5,
          "v": -0.850613
         },
         {
          "i": 6.093037677018551e-05,
          "t": 8.505,
          "v": -0.850152
         },
         {
          "i": 6.084990385093086e-05,
          "t": 8.51,
          "v": -0.849628
         },
         {
          "i": 6.0778736645961915e-05,
          "t": 8.515,
          "v": -0.849132
         },
         {
          "i": 6.070321304347744e-05,
          "t": 8.52,
          "v": -0.848646
         },
         {
          "i": 6.062620024844639e-05,
          "t": 8.525,
          "v": -0.848105
         },
         {
          "i": 6.0600567453415334e-05,
          "t": 8.53,
          "v": -0.847685
         },
         {
          "i": 6.055114173912962e-05,
          "t": 8.535,
          "v": -0.847143
         },
         {
          "i": 6.051237254658304e-05,
          "t": 8.54,
          "v": -0.84663
         },
         {
          "i": 6.04592361490675e-05,
          "t": 8.545,
          "v": -0.846195
         },
         {
          "i": 6.0385387826086145e-05,
          "t": 8.55,
          "v": -0.845637
         },
         {
          "i": 6.0348604968943294e-05,
          "t": 8.555,
          "v": -0.845164
         },
         {
          "i": 6.031259093167621e-05,
          "t": 8.56,
          "v": -0.844675
         },
         {
          "i": 6.029001900621036e-05,
          "t": 8.565,
          "v": -0.844107
         },
         {
          "i": 6.024481726707994e-05,
          "t": 8.57,
          "v": -0.843671
         },
         {
          "i": 6.018104832298056e-05,
          "t": 8.575,
          "v": -0.843166
         },
         {
          "i": 6.0129486211179316e-05,
          "t": 8.58,
          "v": -0.842628
         },
         {
          "i": 6.004180968944019e-05,
          "t": 8.585,
          "v": -0.842172
         },
         {
          "i": 5.997519875776317e-05,
          "t": 8.59,
          "v": -0.841631
         },
         {
          "i": 5.989224906832217e-05,
          "t": 8.595,
          "v": -0.841162
         },
         {
          "i": 5.983034422360168e-05,
          "t": 8.6,
          "v": -0.840639
         },
         {
          "i": 5.976043540372591e-05,
          "t": 8.605,
          "v": -0.84013
         },
         {
          "i": 5.966624459627249e-05,
          "t": 8.61,
          "v": -0.83969
         },
         {
          "i": 5.956604124223522e-05,
          "t": 8.615,
          "v": -0.839153
         },
         {
          "i": 5.945853639751473e-05,
          "t": 8.62,
          "v": -0.838638
         },
         {
          "i": 5.9357260869564416e-05,
          "t": 8.625,
          "v": -0.838189
         },
         {
          "i": 5.92727549068315e-05,
          "t": 8.63,
          "v": -0.837638
         },
         {
          "i": 5.918358335403647e-05,
          "t": 8.635,
          "v": -0.837155
         },
         {
          "i": 5.910174285714207e-05,
          "t": 8.64,
          "v": -0.836641
         },
         {
          "i": 5.902033142857064e-05,
          "t": 8.645,
          "v": -0.836151
         },
         {
          "i": 5.892146310558927e-05,
          "t": 8.65,
          "v": -0.83566
         },
         {
          "i": 5.8827003602483686e-05,
          "t": 8.655,
          "v": -0.835154
         },
         {
          "i": 5.874623018633461e-05,
          "t": 8.66,
          "v": -0.834644
         },
         {
          "i": 5.868291403726629e-05,
          "t": 8.665,
          "v": -0.834162
         },
         {
          "i": 5.861400844720418e-05,
          "t": 8.67,
          "v": -0.833653
         },
         {
          "i": 5.855039913043399e-05,
          "t": 8.675,
          "v": -0.833171
         },
         {
          "i": 5.84812142857135e-05,
          "t": 8.68,
          "v": -0.832648
         },
         {
          "i": 5.842833863353959e-05,
          "t": 8.685,
          "v": -0.832168
         },
         {
          "i": 5.8377178509315985e-05,
          "t": 8.69,
          "v": -0.831701
         },
         {
          "i": 5.8299462981365673e-05,
          "t": 8.695,
          "v": -0.831178
         },
         {
          "i": 5.8257461490682455e-05,
          "t": 8.7,
          "v": -0.830581
         },
         {
          "i": 5.821647130434705e-05,
          "t": 8.705,
          "v": -0.830207
         },
         {
          "i": 5.815852695652096e-05,
          "t": 8.71,
          "v": -0.82964
         },
         {
          "i": 5.8062842484471266e-05,
          "t": 8.715,
          "v": -0.829172
         },
         {
          "i": 5.796736049689364e-05,
          "t": 8.72,
          "v": -0.828681
         },
         {
          "i": 5.7876381987576864e-05,
          "t": 8.725,
          "v": -0.8281
         },
         {
          "i": 5.7767607080744566e-05,
          "t": 8.73,
          "v": -0.827682
         },
         {
          "i": 5.767507652173836e-05,
          "t": 8.735,
          "v": -0.827159
         },
         {
          "i": 5.757669925465761e-05,
          "t": 8.74,
          "v": -0.826609
         },
         {
          "i": 5.748613180124147e-05,
          "t": 8.745,
          "v": -0.82617
         },
         {
          "i": 5.736199267080668e-05,
          "t": 8.75,
          "v": -0.825623
         },
         {
          "i": 5.7232619999999234e-05,
          "t": 8.755,
          "v": -0.825175
         },
         {
          "i": 5.7065651055899855e-05,
          "t": 8.76,
          "v": -0.824639
         },
         {
          "i": 5.693362447204892e-05,
          "t": 8.765,
          "v": -0.824123
         },
         {
          "i": 5.6790593167701104e-05,
          "t": 8.77,
          "v": -0.823709
         },
         {
          "i": 5.665957527950234e-05,
          "t": 8.775,
          "v": -0.823158
         },
         {
          "i": 5.6516425962732154e-05,
          "t": 8.78,
          "v": -0.822636
         },
         {
          "i": 5.636199925465763e-05,
          "t": 8.785,
          "v": -0.822196
         },
         {
          "i": 5.62086428571421e-05,
          "t": 8.79,
          "v": -0.821647
         },
         {
          "i": 5.603892658385018e-05,
          "t": 8.795,
          "v": -0.821169
         },
         {
          "i": 5.5881131677017884e-05,
          "t": 8.8,
          "v": -0.820677
         },
         {
          "i": 5.571670819875701e-05,
          "t": 8.805,
          "v": -0.820146
         },
         {
          "i": 5.5563389689440245e-05,
          "t": 8.81,
          "v": -0.8197
         },
         {
          "i": 5.538483826086882e-05,
          "t": 8.815,
          "v": -0.819185
         },
         {
          "i": 5.520918397515454e-05,
          "t": 8.82,
          "v": -0.818648
         },
         {
          "i": 5.5045371428570686e-05,
          "t": 8.825,
          "v": -0.818191
         },
         {
          "i": 5.4885748571427833e-05,
          "t": 8.83,
          "v": -0.817623
         },
         {
          "i": 5.4725260124222864e-05,
          "t": 8.835,
          "v": -0.817168
         },
         {
          "i": 5.456770223602411e-05,
          "t": 8.84,
          "v": -0.816645
         },
         {
          "i": 5.442915863353964e-05,
          "t": 8.845,
          "v": -0.81613
         },
         {
          "i": 5.4301105962732194e-05,
          "t": 8.85,
          "v": -0.815696
         },
         {
          "i": 5.4177504223601755e-05,
          "t": 8.855,
          "v": -0.815154
         },
         {
          "i": 5.40031114285707e-05,
          "t": 8.86,
          "v": -0.814638
         },
         {
          "i": 5.3842477267080014e-05,
          "t": 8.865,
          "v": -0.814193
         },
         {
          "i": 5.3702668944098656e-05,
          "t": 8.87,
          "v": -0.813629
         },
         {
          "i": 5.360884782608624e-05,
          "t": 8.875,
          "v": -0.813154
         },
         {
          "i": 5.3509023850930954e-05,
          "t": 8.88,
          "v": -0.812654
         },
         {
          "i": 5.341463304347754e-05,
          "t": 8.885,
          "v": -0.81215
         },
         {
          "i": 5.329492472049618e-05,
          "t": 8.89,
          "v": -0.811659
         },
         {
          "i": 5.31798356521732e-05,
          "t": 8.895,
          "v": -0.811155
         },
         {
          "i": 5.306468931676947e-05,
          "t": 8.9,
          "v": -0.810644
         },
         {
          "i": 5.295906583850861e-05,
          "t": 8.905,
          "v": -0.810156
         },
         {
          "i": 5.287675962732849e-05,
          "t": 8.91,
          "v": -0.809639
         },
         {
          "i": 5.27780904347819e-05,
          "t": 8.915,
          "v": -0.80917
         },
         {
          "i": 5.267520372670737e-05,
          "t": 8.92,
          "v": -0.808647
         },
         {
          "i": 5.256780136645892e-05,
          "t": 8.925,
          "v": -0.808174
         },
         {
          "i": 5.249833913043409e-05,
          "t": 8.93,
          "v": -0.807708
         },
         {
          "i": 5.242932124223532e-05,
          "t": 8.935,
          "v": -0.80716
         },
         {
          "i": 5.232980546583781e-05,
          "t": 8.94,
          "v": -0.806649
         },
         {
          "i": 5.2251279254657686e-05,
          "t": 8.945,
          "v": -0.80619
         },
         {
          "i": 5.2166154782608e-05,
          "t": 8.95,
          "v": -0.80567
         },
         {
          "i": 5.207260273291856e-05,
          "t": 8.955,
          "v": -0.805167
         },
         {
          "i": 5.196762782608625e-05,
          "t": 8.96,
          "v": -0.804695
         },
         {
          "i": 5.1857150434781916e-05,
          "t": 8.965,
          "v": -0.804089
         },
         {
          "i": 5.172995291925397e-05,
          "t": 8.97,
          "v": -0.803745
         },
         {
          "i": 5.162973093167633e-05,
          "t": 8.975,
          "v": -0.803196
         },
         {
          "i": 5.152066819875706e-05,
          "t": 8.98,
          "v": -0.802598
         },
         {
          "i": 5.141965428571359e-05,
          "t": 8.985,
          "v": -0.80219
         },
         {
          "i": 5.129638372670739e-05,
          "t": 8.99,
          "v": -0.801638
         },
         {
          "i": 5.115742608695584e-05,
          "t": 8.995,
          "v": -0.801162
         },
         {
          "i": 5.10522439751546e-05,
          "t": 9,
          "v": -0.800645
         },
         {
          "i": 5.0944888944098696e-05,
          "t": 9.005,
          "v": -0.800128
         },
         {
          "i": 5.082510844720429e-05,
          "t": 9.01,
          "v": -0.799714
         },
         {
          "i": 5.0724247204968265e-05,
          "t": 9.015,
          "v": -0.799152
         },
         {
          "i": 5.061938223602416e-05,
          "t": 9.02,
          "v": -0.798628
         },
         {
          "i": 5.0480412298135965e-05,
          "t": 9.025,
          "v": -0.7982
         },
         {
          "i": 5.035494198757696e-05,
          "t": 9.03,
          "v": -0.797654
         },
         {
          "i": 5.022249291925398e-05,
          "t": 9.035,
          "v": -0.797184
         },
         {
          "i": 5.013079465838442e-05,
          "t": 9.04,
          "v": -0.796691
         },
         {
          "i": 5.001974695652107e-05,
          "t": 9.045,
          "v": -0.796136
         },
         {
          "i": 4.9900681490682564e-05,
          "t": 9.05,
          "v": -0.795707
         },
         {
          "i": 4.979223987577573e-05,
          "t": 9.055,
          "v": -0.795204
         },
         {
          "i": 4.965338795030989e-05,
          "t": 9.06,
          "v": -0.794664
         },
         {
          "i": 4.949335254658318e-05,
          "t": 9.065,
          "v": -0.794205
         },
         {
          "i": 4.9330584596272626e-05,
          "t": 9.07,
          "v": -0.793676
         },
         {
          "i": 4.919717838509251e-05,
          "t": 9.075,
          "v": -0.793197
         },
         {
          "i": 4.9062554906831645e-05,
          "t": 9.08,
          "v": -0.792699
         },
         {
          "i": 4.8933206086955864e-05,
          "t": 9.085,
          "v": -0.792129
         },
         {
          "i": 4.877220099378817e-05,
          "t": 9.09,
          "v": -0.791687
         },
         {
          "i": 4.862551875776332e-05,
          "t": 9.095,
          "v": -0.791179
         },
         {
          "i": 4.846771254658321e-05,
          "t": 9.1,
          "v": -0.790657
         },
         {
          "i": 4.8336194285713636e-05,
          "t": 9.105,
          "v": -0.790209
         },
         {
          "i": 4.822640049689376e-05,
          "t": 9.11,
          "v": -0.789651
         },
         {
          "i": 4.809730298136581e-05,
          "t": 9.115,
          "v": -0.789185
         },
         {
          "i": 4.7955104968943454e-05,
          "t": 9.12,
          "v": -0.788673
         },
         {
          "i": 4.782514285714221e-05,
          "t": 9.125,
          "v": -0.788149
         },
         {
          "i": 4.767905366459563e-05,
          "t": 9.13,
          "v": -0.78768
         },
         {
          "i": 4.752248944099315e-05,
          "t": 9.135,
          "v": -0.787179
         },
         {
          "i": 4.742443279503042e-05,
          "t": 9.14,
          "v": -0.786662
         },
         {
          "i": 4.7298455403726075e-05,
          "t": 9.145,
          "v": -0.786178
         },
         {
          "i": 4.7202963602483836e-05,
          "t": 9.15,
          "v": -0.785647
         },
         {
          "i": 4.709003540372608e-05,
          "t": 9.155,
          "v": -0.785186
         },
         {
          "i": 4.6983729565216766e-05,
          "t": 9.16,
          "v": -0.784663
         },
         {
          "i": 4.686386993788757e-05,
          "t": 9.165,
          "v": -0.784156
         },
         {
          "i": 4.672954956521676e-05,
          "t": 9.17,
          "v": -0.78371
         },
         {
          "i": 4.659193602484409e-05,
          "t": 9.175,
          "v": -0.783167
         },
         {
          "i": 4.6488627950309934e-05,
          "t": 9.18,
          "v": -0.782649
         },
         {
          "i": 4.6369539999999376e-05,
          "t": 9.185,
          "v": -0.782202
         },
         {
          "i": 4.62367308074528e-05,
          "t": 9.19,
          "v": -0.781658
         },
         {
          "i": 4.611683242235963e-05,
          "t": 9.195,
          "v": -0.781166
         },
         {
          "i": 4.5983175403726086e-05,
          "t": 9.2,
          "v": -0.780668
         },
         {
          "i": 4.585390161490622e-05,
          "t": 9.205,
          "v": -0.780112
         },
         {
          "i": 4.575498534161429e-05,
          "t": 9.21,
          "v": -0.779739
         },
         {
          "i": 4.5652558881986964e-05,
          "t": 9.215,
          "v": -0.779222
         },
         {
          "i": 4.5553979627328586e-05,
          "t": 9.22,
          "v": -0.778602
         },
         {
          "i": 4.5449029440993187e-05,
          "t": 9.225,
          "v": -0.77821
         },
         {
          "i": 4.5344542857142246e-05,
          "t": 9.23,
          "v": -0.777665
         },
         {
          "i": 4.52528452173907e-05,
          "t": 9.235,
          "v": -0.777182
         },
         {
          "i": 4.5172210931676416e-05,
          "t": 9.24,
          "v": -0.776666
         },
         {
          "i": 4.511226198757704e-05,
          "t": 9.245,
          "v": -0.776117
         },
         {
          "i": 4.506416347826027e-05,
          "t": 9.25,
          "v": -0.775713
         },
         {
          "i": 4.4999506459626726e-05,
          "t": 9.255,
          "v": -0.775167
         },
         {
          "i": 4.494400658385032e-05,
          "t": 9.26,
          "v": -0.774638
         },
         {
          "i": 4.4873944347825485e-05,
          "t": 9.265,
          "v": -0.774204
         },
         {
          "i": 4.481416645962673e-05,
          "t": 9.27,
          "v": -0.773632
         },
         {
          "i": 4.473902658385033e-05,
          "t": 9.275,
          "v": -0.773183
         },
         {
          "i": 4.4654828322980766e-05,
          "t": 9.28,
          "v": -0.77269
         },
         {
          "i": 4.45724852173907e-05,
          "t": 9.285,
          "v": -0.772139
         },
         {
          "i": 4.4491751552794436e-05,
          "t": 9.29,
          "v": -0.771709
         },
         {
          "i": 4.4392889192545994e-05,
          "t": 9.295,
          "v": -0.771205
         },
         {
          "i": 4.4294838136645366e-05,
          "t": 9.3,
          "v": -0.770674
         },
         {
          "i": 4.42099099378876e-05,
          "t": 9.305,
          "v": -0.7702
         },
         {
          "i": 4.412103006211121e-05,
          "t": 9.31,
          "v": -0.769668
         },
         {
          "i": 4.4035186708073936e-05,
          "t": 9.315,
          "v": -0.769187
         },
         {
          "i": 4.39755793788814e-05,
          "t": 9.32,
          "v": -0.768683
         },
         {
          "i": 4.389729850931618e-05,
          "t": 9.325,
          "v": -0.768146
         },
         {
          "i": 4.382658198757705e-05,
          "t": 9.33,
          "v": -0.767702
         },
         {
          "i": 4.376145763975097e-05,
          "t": 9.335,
          "v": -0.767178
         },
         {
          "i": 4.369918496894351e-05,
          "t": 9.34,
          "v": -0.766619
         },
         {
          "i": 4.3647278385092584e-05,
          "t": 9.345,
          "v": -0.766182
         },
         {
          "i": 4.357574881987519e-05,
          "t": 9.35,
          "v": -0.765623
         },
         {
          "i": 4.34925791304342e-05,
          "t": 9.355,
          "v": -0.765157
         },
         {
          "i": 4.342507378881929e-05,
          "t": 9.36,
          "v": -0.764663
         },
         {
          "i": 4.336041552794973e-05,
          "t": 9.365,
          "v": -0.764106
         },
         {
          "i": 4.3284044720496316e-05,
          "t": 9.37,
          "v": -0.763662
         },
         {
          "i": 4.318437329192489e-05,
          "t": 9.375,
          "v": -0.763162
         },
         {
          "i": 4.309336819875719e-05,
          "t": 9.38,
          "v": -0.76263
         },
         {
          "i": 4.300584658385035e-05,
          "t": 9.385,
          "v": -0.762156
         },
         {
          "i": 4.2914463229813086e-05,
          "t": 9.39,
          "v": -0.761626
         },
         {
          "i": 4.285519018633483e-05,
          "t": 9.395,
          "v": -0.761169
         },
         {
          "i": 4.2782493167701295e-05,
          "t": 9.4,
          "v": -0.76064
         },
         {
          "i": 4.269544086956465e-05,
          "t": 9.405,
          "v": -0.760122
         },
         {
          "i": 4.259825701863297e-05,
          "t": 9.41,
          "v": -0.759694
         },
         {
          "i": 4.250798186335346e-05,
          "t": 9.415,
          "v": -0.759151
         },
         {
          "i": 4.245344124223546e-05,
          "t": 9.42,
          "v": -0.758632
         },
         {
          "i": 4.239721155279446e-05,
          "t": 9.425,
          "v": -0.758188
         },
         {
          "i": 4.2323855403726145e-05,
          "t": 9.43,
          "v": -0.757639
         },
         {
          "i": 4.225995428571372e-05,
          "t": 9.435,
          "v": -0.757136
         },
         {
          "i": 4.220627130434726e-05,
          "t": 9.44,
          "v": -0.756648
         },
         {
          "i": 4.217064024844664e-05,
          "t": 9.445,
          "v": -0.75615
         },
         {
          "i": 4.2103562608695085e-05,
          "t": 9.45,
          "v": -0.755654
         },
         {
          "i": 4.20211031055895e-05,
          "t": 9.455,
          "v": -0.755146
         },
         {
          "i": 4.1922715155278946e-05,
          "t": 9.46,
          "v": -0.754551
         },
         {
          "i": 4.183108906832242e-05,
          "t": 9.465,
          "v": -0.754201
         },
         {
          "i": 4.172756186335348e-05,
          "t": 9.47,
          "v": -0.753652
         },
         {
          "i": 4.162101192546528e-05,
          "t": 9.475,
          "v": -0.753147
         },
         {
          "i": 4.147068447204913e-05,
          "t": 9.48,
          "v": -0.752644
         },
         {
          "i": 4.1335417888198204e-05,
          "t": 9.485,
          "v": -0.752088
         },
         {
          "i": 4.120251875776342e-05,
          "t": 9.49,
          "v": -0.75171
         },
         {
          "i": 4.111035863353982e-05,
          "t": 9.495,
          "v": -0.751157
         },
         {
          "i": 4.101916223602429e-05,
          "t": 9.5,
          "v": -0.750597
         },
         {
          "i": 4.093747453416094e-05,
          "t": 9.505,
          "v": -0.750206
         },
         {
          "i": 4.082481627329138e-05,
          "t": 9.51,
          "v": -0.749612
         },
         {
          "i": 4.0697771801241685e-05,
          "t": 9.515,
          "v": -0.749128
         },
         {
          "i": 4.059281813664542e-05,
          "t": 9.52,
          "v": -0.748643
         },
         {
          "i": 4.047856832298083e-05,
          "t": 9.525,
          "v": -0.748099
         },
         {
          "i": 4.040774608695598e-05,
          "t": 9.53,
          "v": -0.747671
         },
         {
          "i": 4.032497950310505e-05,
          "t": 9.535,
          "v": -0.747169
         },
         {
          "i": 4.0238143229813125e-05,
          "t": 9.54,
          "v": -0.746624
         },
         {
          "i": 4.018994037267027e-05,
          "t": 9.545,
          "v": -0.746176
         },
         {
          "i": 4.0148167329192e-05,
          "t": 9.55,
          "v": -0.745642
         },
         {
          "i": 4.007849987577586e-05,
          "t": 9.555,
          "v": -0.745181
         },
         {
          "i": 3.998567515527897e-05,
          "t": 9.56,
          "v": -0.744657
         },
         {
          "i": 3.9881577888198225e-05,
          "t": 9.565,
          "v": -0.744122
         },
         {
          "i": 3.978900086956468e-05,
          "t": 9.57,
          "v": -0.743693
         },
         {
          "i": 3.968444459627276e-05,
          "t": 9.575,
          "v": -0.743154
         },
         {
          "i": 3.957420310558953e-05,
          "t": 9.58,
          "v": -0.742641
         },
         {
          "i": 3.9468622484471516e-05,
          "t": 9.585,
          "v": -0.742199
         },
         {
          "i": 3.934591701863301e-05,
          "t": 9.59,
          "v": -0.741639
         },
         {
          "i": 3.9262776521738605e-05,
          "t": 9.595,
          "v": -0.741151
         },
         {
          "i": 3.917723527950258e-05,
          "t": 9.6,
          "v": -0.740669
         },
         {
          "i": 3.911058720496842e-05,
          "t": 9.605,
          "v": -0.740106
         },
         {
          "i": 3.9017275279502585e-05,
          "t": 9.61,
          "v": -0.739694
         },
         {
          "i": 3.892615192546531e-05,
          "t": 9.615,
          "v": -0.739178
         },
         {
          "i": 3.882102161490631e-05,
          "t": 9.62,
          "v": -0.738643
         },
         {
          "i": 3.871416944099327e-05,
          "t": 9.625,
          "v": -0.738164
         },
         {
          "i": 3.8604913664595755e-05,
          "t": 9.63,
          "v": -0.737629
         },
         {
          "i": 3.848589341614855e-05,
          "t": 9.635,
          "v": -0.737163
         },
         {
          "i": 3.836363540372619e-05,
          "t": 9.64,
          "v": -0.736649
         },
         {
          "i": 3.8252484472049174e-05,
          "t": 9.645,
          "v": -0.736137
         },
         {
          "i": 3.812224360248396e-05,
          "t": 9.65,
          "v": -0.735717
         },
         {
          "i": 3.800073142857092e-05,
          "t": 9.655,
          "v": -0.735151
         },
         {
          "i": 3.786811192546533e-05,
          "t": 9.66,
          "v": -0.734647
         },
         {
          "i": 3.7739857018633034e-05,
          "t": 9.665,
          "v": -0.734197
         },
         {
          "i": 3.760043180124173e-05,
          "t": 9.67,
          "v": -0.733637
         },
         {
          "i": 3.7474687950310055e-05,
          "t": 9.675,
          "v": -0.733149
         },
         {
          "i": 3.7371893664595774e-05,
          "t": 9.68,
          "v": -0.732652
         },
         {
          "i": 3.728367826086906e-05,
          "t": 9.685,
          "v": -0.732157
         },
         {
          "i": 3.720478459627279e-05,
          "t": 9.69,
          "v": -0.731651
         },
         {
          "i": 3.712515602484423e-05,
          "t": 9.695,
          "v": -0.731155
         },
         {
          "i": 3.7073015776397016e-05,
          "t": 9.7,
          "v": -0.730653
         },
         {
          "i": 3.701999677018583e-05,
          "t": 9.705,
          "v": -0.730153
         },
         {
          "i": 3.69875699378877e-05,
          "t": 9.71,
          "v": -0.729646
         },
         {
          "i": 3.6944195031055397e-05,
          "t": 9.715,
          "v": -0.72913
         },
         {
          "i": 3.688224621117963e-05,
          "t": 9.72,
          "v": -0.728684
         },
         {
          "i": 3.685821577639702e-05,
          "t": 9.725,
          "v": -0.72807
         },
         {
          "i": 3.681358633540324e-05,
          "t": 9.73,
          "v": -0.727745
         },
         {
          "i": 3.6774125714285225e-05,
          "t": 9.735,
          "v": -0.727174
         },
         {
          "i": 3.671735279503056e-05,
          "t": 9.74,
          "v": -0.726587
         },
         {
          "i": 3.666704335403677e-05,
          "t": 9.745,
          "v": -0.726231
         },
         {
          "i": 3.660475366459578e-05,
          "t": 9.75,
          "v": -0.725638
         },
         {
          "i": 3.654117900621069e-05,
          "t": 9.755,
          "v": -0.72515
         },
         {
          "i": 3.645563006211131e-05,
          "t": 9.76,
          "v": -0.724664
         },
         {
          "i": 3.638676037267032e-05,
          "t": 9.765,
          "v": -0.7241
         },
         {
          "i": 3.630515503105541e-05,
          "t": 9.77,
          "v": -0.723651
         },
         {
          "i": 3.6243812173912554e-05,
          "t": 9.775,
          "v": -0.72314
         },
         {
          "i": 3.617356993788771e-05,
          "t": 9.78,
          "v": -0.722619
         },
         {
          "i": 3.612730472049641e-05,
          "t": 9.785,
          "v": -0.722176
         },
         {
          "i": 3.6085820124223115e-05,
          "t": 9.79,
          "v": -0.721636
         },
         {
          "i": 3.606195739130386e-05,
          "t": 9.795,
          "v": -0.721182
         },
         {
          "i": 3.6021726086956035e-05,
          "t": 9.8,
          "v": -0.720647
         },
         {
          "i": 3.597779291925418e-05,
          "t": 9.805,
          "v": -0.720133
         },
         {
          "i": 3.593507465838461e-05,
          "t": 9.81,
          "v": -0.719729
         },
         {
          "i": 3.588789863353989e-05,
          "t": 9.815,
          "v": -0.719173
         },
         {
          "i": 3.583955863353989e-05,
          "t": 9.82,
          "v": -0.718635
         },
         {
          "i": 3.5765147701862873e-05,
          "t": 9.825,
          "v": -0.718212
         },
         {
          "i": 3.57080990062107e-05,
          "t": 9.83,
          "v": -0.717652
         },
         {
          "i": 3.567675652173865e-05,
          "t": 9.835,
          "v": -0.717186
         },
         {
          "i": 3.564940124223555e-05,
          "t": 9.84,
          "v": -0.716697
         },
         {
          "i": 3.561705652173865e-05,
          "t": 9.845,
          "v": -0.716087
         },
         {
          "i": 3.555750248447157e-05,
          "t": 9.85,
          "v": -0.715666
         },
         {
          "i": 3.5505918385092685e-05,
          "t": 9.855,
          "v": -0.715163
         },
         {
          "i": 3.5447356397515044e-05,
          "t": 9.86,
          "v": -0.714623
         },
         {
          "i": 3.536877316770139e-05,
          "t": 9.865,
          "v": -0.714167
         },
         {
          "i": 3.529411018633493e-05,
          "t": 9.87,
          "v": -0.713631
         },
         {
          "i": 3.5206779378881516e-05,
          "t": 9.875,
          "v": -0.713168
         },
         {
          "i": 3.5116974037266615e-05,
          "t": 9.88,
          "v": -0.71264
         },
         {
          "i": 3.503740434782562e-05,
          "t": 9.885,
          "v": -0.712117
         },
         {
          "i": 3.4964654534161015e-05,
          "t": 9.89,
          "v": -0.711699
         },
         {
          "i": 3.4884768074533696e-05,
          "t": 9.895,
          "v": -0.711139
         },
         {
          "i": 3.4813756521738667e-05,
          "t": 9.9,
          "v": -0.710625
         },
         {
          "i": 3.47503685714281e-05,
          "t": 9.905,
          "v": -0.710195
         },
         {
          "i": 3.468867142857096e-05,
          "t": 9.91,
          "v": -0.709628
         },
         {
          "i": 3.462602124223556e-05,
          "t": 9.915,
          "v": -0.709149
         },
         {
          "i": 3.456065639751506e-05,
          "t": 9.92,
          "v": -0.708648
         },
         {
          "i": 3.451728720496848e-05,
          "t": 9.925,
          "v": -0.708133
         },
         {
          "i": 3.445943627329147e-05,
          "t": 9.93,
          "v": -0.707644
         },
         {
          "i": 3.4407675900620654e-05,
          "t": 9.935,
          "v": -0.707144
         },
         {
          "i": 3.438841229813619e-05,
          "t": 9.94,
          "v": -0.706631
         },
         {
          "i": 3.433566645962687e-05,
          "t": 9.945,
          "v": -0.706145
         },
         {
          "i": 3.429110111801196e-05,
          "t": 9.95,
          "v": -0.705641
         },
         {
          "i": 3.422435602484426e-05,
          "t": 9.955,
          "v": -0.705165
         },
         {
          "i": 3.413406236024799e-05,
          "t": 9.96,
          "v": -0.704638
         },
         {
          "i": 3.404898695652128e-05,
          "t": 9.965,
          "v": -0.704145
         },
         {
          "i": 3.393167639751507e-05,
          "t": 9.97,
          "v": -0.703695
         },
         {
          "i": 3.382071329192501e-05,
          "t": 9.975,
          "v": -0.70321
         },
         {
          "i": 3.370299416149023e-05,
          "t": 9.98,
          "v": -0.702582
         },
         {
          "i": 3.35732027329188e-05,
          "t": 9.985,
          "v": -0.702221
         },
         {
          "i": 3.346889142857098e-05,
          "t": 9.99,
          "v": -0.701649
         },
         {
          "i": 3.337547329192502e-05,
          "t": 9.995,
          "v": -0.701185
         },
         {
          "i": 3.328826807453371e-05,
          "t": 10,
          "v": -0.700696
         },
         {
          "i": 3.316800509316725e-05,
          "t": 10.005,
          "v": -0.700094
         },
         {
          "i": 3.3071530434782166e-05,
          "t": 10.01,
          "v": -0.699692
         },
         {
          "i": 3.299346260869521e-05,
          "t": 10.015,
          "v": -0.699166
         },
         {
          "i": 3.29534919254654e-05,
          "t": 10.02,
          "v": -0.698603
         },
         {
          "i": 3.2895068944098934e-05,
          "t": 10.025,
          "v": -0.698164
         },
         {
          "i": 3.2850321863353595e-05,
          "t": 10.03,
          "v": -0.697626
         },
         {
          "i": 3.282484298136602e-05,
          "t": 10.035,
          "v": -0.697146
         },
         {
          "i": 3.2796632422359804e-05,
          "t": 10.04,
          "v": -0.69663
         },
         {
          "i": 3.274986124223558e-05,
          "t": 10.045,
          "v": -0.696111
         },
         {
          "i": 3.270812608695608e-05,
          "t": 10.05,
          "v": -0.695693
         },
         {
          "i": 3.266140062111758e-05,
          "t": 10.055,
          "v": -0.695152
         },
         {
          "i": 3.260732422360205e-05,
          "t": 10.06,
          "v": -0.69462
         },
         {
          "i": 3.2551776273291484e-05,
          "t": 10.065,
          "v": -0.694198
         },
         {
          "i": 3.248613776397472e-05,
          "t": 10.07,
          "v": -0.693642
         },
         {
          "i": 3.239005490683187e-05,
          "t": 10.075,
          "v": -0.693151
         },
         {
          "i": 3.23121966459623e-05,
          "t": 10.08,
          "v": -0.692671
         },
         {
          "i": 3.226188335403683e-05,
          "t": 10.085,
          "v": -0.692119
         },
         {
          "i": 3.22022966459623e-05,
          "t": 10.09,
          "v": -0.691678
         },
         {
          "i": 3.214532608695609e-05,
          "t": 10.095,
          "v": -0.691185
         },
         {
          "i": 3.2096212298136216e-05,
          "t": 10.1,
          "v": -0.69065
         },
         {
          "i": 3.2040605714285286e-05,
          "t": 10.105,
          "v": -0.690179
         },
         {
          "i": 3.1977613664595846e-05,
          "t": 10.11,
          "v": -0.689635
         },
         {
          "i": 3.188426919254615e-05,
          "t": 10.115,
          "v": -0.689178
         },
         {
          "i": 3.184832819875733e-05,
          "t": 10.12,
          "v": -0.688652
         },
         {
          "i": 3.179303838509274e-05,
          "t": 10.125,
          "v": -0.688128
         },
         {
          "i": 3.173474745341572e-05,
          "t": 10.13,
          "v": -0.687702
         },
         {
          "i": 3.165138534161448e-05,
          "t": 10.135,
          "v": -0.687156
         },
         {
          "i": 3.159869316770143e-05,
          "t": 10.14,
          "v": -0.686642
         },
         {
          "i": 3.152789204968902e-05,
          "t": 10.145,
          "v": -0.686191
         },
         {
          "i": 3.1441503975154855e-05,
          "t": 10.15,
          "v": -0.685631
         },
         {
          "i": 3.133493888198715e-05,
          "t": 10.155,
          "v": -0.685169
         },
         {
          "i": 3.1240146832297717e-05,
          "t": 10.16,
          "v": -0.684668
         },
         {
          "i": 3.1135698136645546e-05,
          "t": 10.165,
          "v": -0.684144
         },
         {
          "i": 3.101942260869523e-05,
          "t": 10.17,
          "v": -0.683666
         },
         {
          "i": 3.0905636521738715e-05,
          "t": 10.175,
          "v": -0.683156
         },
         {
          "i": 3.0812387950310144e-05,
          "t": 10.18,
          "v": -0.682646
         },
         {
          "i": 3.0709939006210766e-05,
          "t": 10.185,
          "v": -0.682164
         },
         {
          "i": 3.0648980124223185e-05,
          "t": 10.19,
          "v": -0.681639
         },
         {
          "i": 3.058753801242195e-05,
          "t": 10.195,
          "v": -0.681154
         },
         {
          "i": 3.049970658385052e-05,
          "t": 10.2,
          "v": -0.680638
         },
         {
          "i": 3.0443348571428164e-05,
          "t": 10.205,
          "v": -0.680168
         },
         {
          "i": 3.0382382484471638e-05,
          "t": 10.21,
          "v": -0.679696
         },
         {
          "i": 3.033325739130394e-05,
          "t": 10.215,
          "v": -0.679153
         },
         {
          "i": 3.0282948198757357e-05,
          "t": 10.22,
          "v": -0.67864
         },
         {
          "i": 3.022340894409897e-05,
          "t": 10.225,
          "v": -0.678194
         },
         {
          "i": 3.0188957515527546e-05,
          "t": 10.23,
          "v": -0.677665
         },
         {
          "i": 3.0123290186335e-05,
          "t": 10.235,
          "v": -0.677167
         },
         {
          "i": 3.0078961614906425e-05,
          "t": 10.24,
          "v": -0.676675
         },
         {
          "i": 3.0042883975154877e-05,
          "t": 10.245,
          "v": -0.676089
         },
         {
          "i": 2.999961043478221e-05,
          "t": 10.25,
          "v": -0.675725
         },
         {
          "i": 2.991120807453376e-05,
          "t": 10.255,
          "v": -0.675192
         },
         {
          "i": 2.985431055900581e-05,
          "t": 10.26,
          "v": -0.674606
         },
         {
          "i": 2.9785483229813264e-05,
          "t": 10.265,
          "v": -0.674185
         },
         {
          "i": 2.9728513788819477e-05,
          "t": 10.27,
          "v": -0.673629
         },
         {
          "i": 2.9665527080744947e-05,
          "t": 10.275,
          "v": -0.673159
         },
         {
          "i": 2.9626219875776e-05,
          "t": 10.28,
          "v": -0.672642
         },
         {
          "i": 2.9570727080744946e-05,
          "t": 10.285,
          "v": -0.672141
         },
         {
          "i": 2.9533464099378485e-05,
          "t": 10.29,
          "v": -0.671695
         },
         {
          "i": 2.947541788819836e-05,
          "t": 10.295,
          "v": -0.671144
         },
         {
          "i": 2.944300770186296e-05,
          "t": 10.3,
          "v": -0.670631
         },
         {
          "i": 2.9397616770185942e-05,
          "t": 10.305,
          "v": -0.670203
         },
         {
          "i": 2.9359658509316376e-05,
          "t": 10.31,
          "v": -0.669643
         },
         {
          "i": 2.9346816273291534e-05,
          "t": 10.315,
          "v": -0.669158
         },
         {
          "i": 2.9312809192546187e-05,
          "t": 10.32,
          "v": -0.668667
         },
         {
          "i": 2.9278521490682837e-05,
          "t": 10.325,
          "v": -0.668131
         },
         {
          "i": 2.9255066832297743e-05,
          "t": 10.33,
          "v": -0.667691
         },
         {
          "i": 2.922579763975116e-05,
          "t": 10.335,
          "v": -0.667172
         },
         {
          "i": 2.919756496894371e-05,
          "t": 10.34,
          "v": -0.666648
         },
         {
          "i": 2.9170096397515133e-05,
          "t": 10.345,
          "v": -0.666191
         },
         {
          "i": 2.9146010434782214e-05,
          "t": 10.35,
          "v": -0.665663
         },
         {
          "i": 2.9106739503105197e-05,
          "t": 10.355,
          "v": -0.665143
         },
         {
          "i": 2.90556795031052e-05,
          "t": 10.36,
          "v": -0.664636
         },
         {
          "i": 2.901156844720458e-05,
          "t": 10.365,
          "v": -0.664088
         },
         {
          "i": 2.896241242235986e-05,
          "t": 10.37,
          "v": -0.66367
         },
         {
          "i": 2.8902225341614518e-05,
          "t": 10.375,
          "v": -0.663121
         },
         {
          "i": 2.8877296149067934e-05,
          "t": 10.38,
          "v": -0.662604
         },
         {
          "i": 2.8811587329192163e-05,
          "t": 10.385,
          "v": -0.662178
         },
         {
          "i": 2.8769579006210797e-05,
          "t": 10.39,
          "v": -0.661621
         },
         {
          "i": 2.8706700621117626e-05,
          "t": 10.395,
          "v": -0.661137
         },
         {
          "i": 2.8649404472049305e-05,
          "t": 10.4,
          "v": -0.660629
         },
         {
          "i": 2.8595172546583466e-05,
          "t": 10.405,
          "v": -0.660113
         },
         {
          "i": 2.8558299751552413e-05,
          "t": 10.41,
          "v": -0.65964
         },
         {
          "i": 2.8522883726707697e-05,
          "t": 10.415,
          "v": -0.659133
         },
         {
          "i": 2.8485378260869183e-05,
          "t": 10.42,
          "v": -0.658615
         },
         {
          "i": 2.8444483850931293e-05,
          "t": 10.425,
          "v": -0.658141
         },
         {
          "i": 2.8410321863353658e-05,
          "t": 10.43,
          "v": -0.657621
         },
         {
          "i": 2.8376443478260487e-05,
          "t": 10.435,
          "v": -0.657135
         },
         {
          "i": 2.8350896894409556e-05,
          "t": 10.44,
          "v": -0.656625
         },
         {
          "i": 2.8317243354036887e-05,
          "t": 10.445,
          "v": -0.656124
         },
         {
          "i": 2.828741602484434e-05,
          "t": 10.45,
          "v": -0.655676
         },
         {
          "i": 2.826946695652136e-05,
          "t": 10.455,
          "v": -0.65513
         },
         {
          "i": 2.8247674782608312e-05,
          "t": 10.46,
          "v": -0.654621
         },
         {
          "i": 2.822664298136608e-05,
          "t": 10.465,
          "v": -0.654178
         },
         {
          "i": 2.81955588819872e-05,
          "t": 10.47,
          "v": -0.653639
         },
         {
          "i": 2.8154752670807077e-05,
          "t": 10.475,
          "v": -0.653138
         },
         {
          "i": 2.8115459130434404e-05,
          "t": 10.48,
          "v": -0.652635
         },
         {
          "i": 2.809989677018596e-05,
          "t": 10.485,
          "v": -0.652092
         },
         {
          "i": 2.8077921614906457e-05,
          "t": 10.49,
          "v": -0.651669
         },
         {
          "i": 2.8037178385092792e-05,
          "t": 10.495,
          "v": -0.65116
         },
         {
          "i": 2.8012418385092788e-05,
          "t": 10.5,
          "v": -0.650553
         },
         {
          "i": 2.798108782608658e-05,
          "t": 10.505,
          "v": -0.650178
         },
         {
          "i": 2.794846173913006e-05,
          "t": 10.51,
          "v": -0.649645
         },
         {
          "i": 2.791281714285677e-05,
          "t": 10.515,
          "v": -0.649115
         },
         {
          "i": 2.7874072546583478e-05,
          "t": 10.52,
          "v": -0.648625
         },
         {
          "i": 2.783632583850894e-05,
          "t": 10.525,
          "v": -0.648086
         },
         {
          "i": 2.778985701863317e-05,
          "t": 10.53,
          "v": -0.647662
         },
         {
          "i": 2.774926024844683e-05,
          "t": 10.535,
          "v": -0.64712
         },
         {
          "i": 2.770386198757727e-05,
          "t": 10.54,
          "v": -0.646602
         },
         {
          "i": 2.7671434409937516e-05,
          "t": 10.545,
          "v": -0.646192
         },
         {
          "i": 2.7639395652173544e-05,
          "t": 10.55,
          "v": -0.645616
         },
         {
          "i": 2.762099204968907e-05,
          "t": 10.555,
          "v": -0.645118
         },
         {
          "i": 2.7602995155279133e-05,
          "t": 10.56,
          "v": -0.644646
         },
         {
          "i": 2.7599888819875404e-05,
          "t": 10.565,
          "v": -0.644099
         },
         {
          "i": 2.7595084223602115e-05,
          "t": 10.57,
          "v": -0.643653
         },
         {
          "i": 2.7580055652173544e-05,
          "t": 10.575,
          "v": -0.643155
         },
         {
          "i": 2.7552048074533795e-05,
          "t": 10.58,
          "v": -0.642619
         },
         {
          "i": 2.75358485714282e-05,
          "t": 10.585,
          "v": -0.64217
         },
         {
          "i": 2.7529631677018266e-05,
          "t": 10.59,
          "v": -0.641639
         },
         {
          "i": 2.751745540372634e-05,
          "t": 10.595,
          "v": -0.641148
         },
         {
          "i": 2.7500466335403355e-05,
          "t": 10.6,
          "v": -0.640648
         },
         {
          "i": 2.7481821614906467e-05,
          "t": 10.605,
          "v": -0.640124
         },
         {
          "i": 2.7456242236024475e-05,
          "t": 10.61,
          "v": -0.639672
         },
         {
          "i": 2.744058385093131e-05,
          "t": 10.615,
          "v": -0.639155
         },
         {
          "i": 2.7427070310558638e-05,
          "t": 10.62,
          "v": -0.638614
         },
         {
          "i": 2.7386675155279135e-05,
          "t": 10.625,
          "v": -0.638192
         },
         {
          "i": 2.733948931676982e-05,
          "t": 10.63,
          "v": -0.637632
         },
         {
          "i": 2.7296957391303982e-05,
          "t": 10.635,
          "v": -0.637161
         },
         {
          "i": 2.725174385093131e-05,
          "t": 10.64,
          "v": -0.636658
         },
         {
          "i": 2.7208505217390937e-05,
          "t": 10.645,
          "v": -0.636119
         },
         {
          "i": 2.7168785714285353e-05,
          "t": 10.65,
          "v": -0.63566
         },
         {
          "i": 2.7154494037266715e-05,
          "t": 10.655,
          "v": -0.635149
         },
         {
          "i": 2.7140208322981e-05,
          "t": 10.66,
          "v": -0.634637
         },
         {
          "i": 2.7148433913043115e-05,
          "t": 10.665,
          "v": -0.634162
         },
         {
          "i": 2.7142702111800877e-05,
          "t": 10.67,
          "v": -0.63363
         },
         {
          "i": 2.7133955900620753e-05,
          "t": 10.675,
          "v": -0.633154
         },
         {
          "i": 2.7133694534161126e-05,
          "t": 10.68,
          "v": -0.632633
         },
         {
          "i": 2.711653540372634e-05,
          "t": 10.685,
          "v": -0.632135
         },
         {
          "i": 2.7105979503105224e-05,
          "t": 10.69,
          "v": -0.631669
         },
         {
          "i": 2.7106499254658022e-05,
          "t": 10.695,
          "v": -0.631144
         },
         {
          "i": 2.7102291055900256e-05,
          "t": 10.7,
          "v": -0.630643
         },
         {
          "i": 2.7091851428571065e-05,
          "t": 10.705,
          "v": -0.630179
         },
         {
          "i": 2.705419291925429e-05,
          "t": 10.71,
          "v": -0.629639
         },
         {
          "i": 2.70098280745338e-05,
          "t": 10.715,
          "v": -0.629152
         },
         {
          "i": 2.6967833167701502e-05,
          "t": 10.72,
          "v": -0.628634
         },
         {
          "i": 2.69256631055897e-05,
          "t": 10.725,
          "v": -0.628151
         },
         {
          "i": 2.6877896645962374e-05,
          "t": 10.73,
          "v": -0.627652
         },
         {
          "i": 2.6807570434782248e-05,
          "t": 10.735,
          "v": -0.627151
         },
         {
          "i": 2.675448881987542e-05,
          "t": 10.74,
          "v": -0.626566
         },
         {
          "i": 2.66956080745338e-05,
          "t": 10.745,
          "v": -0.626198
         },
         {
          "i": 2.6624668198757408e-05,
          "t": 10.75,
          "v": -0.625636
         },
         {
          "i": 2.6575387950310198e-05,
          "t": 10.755,
          "v": -0.625118
         },
         {
          "i": 2.6528118012422006e-05,
          "t": 10.76,
          "v": -0.62465
         },
         {
          "i": 2.6485572422359894e-05,
          "t": 10.765,
          "v": -0.624087
         },
         {
          "i": 2.6442195776397157e-05,
          "t": 10.77,
          "v": -0.6237
         },
         {
          "i": 2.640968583850896e-05,
          "t": 10.775,
          "v": -0.623138
         },
         {
          "i": 2.6380953043477905e-05,
          "t": 10.78,
          "v": -0.622602
         },
         {
          "i": 2.6375642981366105e-05,
          "t": 10.785,
          "v": -0.622202
         },
         {
          "i": 2.6391527329192193e-05,
          "t": 10.79,
          "v": -0.621624
         },
         {
          "i": 2.6382962111800886e-05,
          "t": 10.795,
          "v": -0.621125
         },
         {
          "i": 2.6393358881987224e-05,
          "t": 10.8,
          "v": -0.62064
         },
         {
          "i": 2.640298534161455e-05,
          "t": 10.805,
          "v": -0.620116
         },
         {
          "i": 2.6401473540372313e-05,
          "t": 10.81,
          "v": -0.619664
         },
         {
          "i": 2.6400683478260514e-05,
          "t": 10.815,
          "v": -0.61916
         },
         {
          "i": 2.638843925465803e-05,
          "t": 10.82,
          "v": -0.618624
         },
         {
          "i": 2.6383450931676664e-05,
          "t": 10.825,
          "v": -0.618176
         },
         {
          "i": 2.6368598881987224e-05,
          "t": 10.83,
          "v": -0.617642
         },
         {
          "i": 2.6351954409937535e-05,
          "t": 10.835,
          "v": -0.617162
         },
         {
          "i": 2.6328595900620768e-05,
          "t": 10.84,
          "v": -0.616661
         },
         {
          "i": 2.6288243105589712e-05,
          "t": 10.845,
          "v": -0.616122
         },
         {
          "i": 2.6241059006210828e-05,
          "t": 10.85,
          "v": -0.615691
         },
         {
          "i": 2.6178936645962382e-05,
          "t": 10.855,
          "v": -0.615167
         },
         {
          "i": 2.610814670807418e-05,
          "t": 10.86,
          "v": -0.614632
         },
         {
          "i": 2.6039540372670454e-05,
          "t": 10.865,
          "v": -0.614209
         },
         {
          "i": 2.5981858633540022e-05,
          "t": 10.87,
          "v": -0.613625
         },
         {
          "i": 2.591289155279468e-05,
          "t": 10.875,
          "v": -0.613141
         },
         {
          "i": 2.586007428571394e-05,
          "t": 10.88,
          "v": -0.612652
         },
         {
          "i": 2.5823777639751207e-05,
          "t": 10.885,
          "v": -0.612108
         },
         {
          "i": 2.5814452795030705e-05,
          "t": 10.89,
          "v": -0.611676
         },
         {
          "i": 2.580882012422326e-05,
          "t": 10.895,
          "v": -0.611162
         },
         {
          "i": 2.57761720496891e-05,
          "t": 10.9,
          "v": -0.610625
         },
         {
          "i": 2.574521167701829e-05,
          "t": 10.905,
          "v": -0.610168
         },
         {
          "i": 2.5720493913043133e-05,
          "t": 10.91,
          "v": -0.609627
         },
         {
          "i": 2.5704759999999653e-05,
          "t": 10.915,
          "v": -0.609158
         },
         {
          "i": 2.567523403726674e-05,
          "t": 10.92,
          "v": -0.608636
         },
         {
          "i": 2.568953465838475e-05,
          "t": 10.925,
          "v": -0.608133
         },
         {
          "i": 2.5679307453415807e-05,
          "t": 10.93,
          "v": -0.607674
         },
         {
          "i": 2.5647517888198414e-05,
          "t": 10.935,
          "v": -0.607148
         },
         {
          "i": 2.562339763975121e-05,
          "t": 10.94,
          "v": -0.606628
         },
         {
          "i": 2.560205577639717e-05,
          "t": 10.945,
          "v": -0.606196
         },
         {
          "i": 2.553885863354003e-05,
          "t": 10.95,
          "v": -0.605642
         },
         {
          "i": 2.5476316273291588e-05,
          "t": 10.955,
          "v": -0.605143
         },
         {
          "i": 2.5419849937887857e-05,
          "t": 10.96,
          "v": -0.604645
         },
         {
          "i": 2.5350034037266745e-05,
          "t": 10.965,
          "v": -0.604141
         },
         {
          "i": 2.5281634409937548e-05,
          "t": 10.97,
          "v": -0.603652
         },
         {
          "i": 2.5254219503105253e-05,
          "t": 10.975,
          "v": -0.603136
         },
         {
          "i": 2.5203846708074194e-05,
          "t": 10.98,
          "v": -0.602637
         },
         {
          "i": 2.5142181118012085e-05,
          "t": 10.985,
          "v": -0.602153
         },
         {
          "i": 2.5078120124223268e-05,
          "t": 10.99,
          "v": -0.601644
         },
         {
          "i": 2.5052684844720162e-05,
          "t": 10.995,
          "v": -0.601117
         },
         {
          "i": 2.501109329192513e-05,
          "t": 11,
          "v": -0.600679
         },
         {
          "i": 2.4970476024844386e-05,
          "t": 11.005,
          "v": -0.600085
         },
         {
          "i": 2.4932798385092834e-05,
          "t": 11.01,
          "v": -0.599677
         },
         {
          "i": 2.4900696770186e-05,
          "t": 11.015,
          "v": -0.599157
         },
         {
          "i": 2.48697667080742e-05,
          "t": 11.02,
          "v": -0.598601
         },
         {
          "i": 2.4870492173912706e-05,
          "t": 11.025,
          "v": -0.5982
         },
         {
          "i": 2.4863874534161162e-05,
          "t": 11.03,
          "v": -0.597641
         },
         {
          "i": 2.488619577639718e-05,
          "t": 11.035,
          "v": -0.597148
         },
         {
          "i": 2.4865700248446874e-05,
          "t": 11.04,
          "v": -0.596678
         },
         {
          "i": 2.4838898509316437e-05,
          "t": 11.045,
          "v": -0.596091
         },
         {
          "i": 2.481610310558973e-05,
          "t": 11.05,
          "v": -0.595651
         },
         {
          "i": 2.476778720496861e-05,
          "t": 11.055,
          "v": -0.595131
         },
         {
          "i": 2.4727710807453088e-05,
          "t": 11.06,
          "v": -0.594608
         },
         {
          "i": 2.4730707577639417e-05,
          "t": 11.065,
          "v": -0.59418
         },
         {
          "i": 2.4715755652173582e-05,
          "t": 11.07,
          "v": -0.593627
         },
         {
          "i": 2.4680703726707747e-05,
          "t": 11.075,
          "v": -0.593153
         },
         {
          "i": 2.4648015652173586e-05,
          "t": 11.08,
          "v": -0.592644
         },
         {
          "i": 2.4623511180123893e-05,
          "t": 11.085,
          "v": -0.592117
         },
         {
          "i": 2.4546440745341284e-05,
          "t": 11.09,
          "v": -0.591685
         },
         {
          "i": 2.4468795652173585e-05,
          "t": 11.095,
          "v": -0.591159
         },
         {
          "i": 2.4369483726707748e-05,
          "t": 11.1,
          "v": -0.590618
         },
         {
          "i": 2.430655925465806e-05,
          "t": 11.105,
          "v": -0.590188
         },
         {
          "i": 2.424293552794998e-05,
          "t": 11.11,
          "v": -0.589647
         },
         {
          "i": 2.4204099378881657e-05,
          "t": 11.115,
          "v": -0.589155
         },
         {
          "i": 2.4154756024844395e-05,
          "t": 11.12,
          "v": -0.588683
         },
         {
          "i": 2.410677229813632e-05,
          "t": 11.125,
          "v": -0.588104
         },
         {
          "i": 2.4096022857142534e-05,
          "t": 11.13,
          "v": -0.587683
         },
         {
          "i": 2.4104468198757438e-05,
          "t": 11.135,
          "v": -0.587175
         },
         {
          "i": 2.4078441987577318e-05,
          "t": 11.14,
          "v": -0.586639
         },
         {
          "i": 2.4010259875776076e-05,
          "t": 11.145,
          "v": -0.586183
         },
         {
          "i": 2.3916566708074212e-05,
          "t": 11.15,
          "v": -0.585643
         },
         {
          "i": 2.384149999999968e-05,
          "t": 11.155,
          "v": -0.585173
         },
         {
          "i": 2.3766044844720177e-05,
          "t": 11.16,
          "v": -0.584642
         },
         {
          "i": 2.372637503105558e-05,
          "t": 11.165,
          "v": -0.584121
         },
         {
          "i": 2.3698599999999682e-05,
          "t": 11.17,
          "v": -0.583671
         },
         {
          "i": 2.3697082236024526e-05,
          "t": 11.175,
          "v": -0.583149
         },
         {
          "i": 2.364361192546552e-05,
          "t": 11.18,
          "v": -0.582639
         },
         {
          "i": 2.3593960248446888e-05,
          "t": 11.185,
          "v": -0.582186
         },
         {
          "i": 2.355497552794999e-05,
          "t": 11.19,
          "v": -0.581635
         },
         {
          "i": 2.351524919254627e-05,
          "t": 11.195,
          "v": -0.581148
         },
         {
          "i": 2.3458966956521423e-05,
          "t": 11.2,
          "v": -0.58065
         },
         {
          "i": 2.3387769316769873e-05,
          "t": 11.205,
          "v": -0.580138
         },
         {
          "i": 2.337460857142826e-05,
          "t": 11.21,
          "v": -0.579646
         },
         {
          "i": 2.337416621117981e-05,
          "t": 11.215,
          "v": -0.579148
         },
         {
          "i": 2.3370805838509004e-05,
          "t": 11.22,
          "v": -0.578642
         },
         {
          "i": 2.3361061118012105e-05,
          "t": 11.225,
          "v": -0.578162
         },
         {
          "i": 2.3352069689440677e-05,
          "t": 11.23,
          "v": -0.577636
         },
         {
          "i": 2.334625478260838e-05,
          "t": 11.235,
          "v": -0.577151
         },
         {
          "i": 2.3319897018633226e-05,
          "t": 11.24,
          "v": -0.576644
         },
         {
          "i": 2.3281337391304036e-05,
          "t": 11.245,
          "v": -0.576149
         },
         {
          "i": 2.3207108322981054e-05,
          "t": 11.25,
          "v": -0.575694
         },
         {
          "i": 2.3125324223602172e-05,
          "t": 11.255,
          "v": -0.575201
         },
         {
          "i": 2.3060564968943793e-05,
          "t": 11.26,
          "v": -0.574577
         },
         {
          "i": 2.3008808447204656e-05,
          "t": 11.265,
          "v": -0.574208
         },
         {
          "i": 2.2947251552794724e-05,
          "t": 11.27,
          "v": -0.57365
         },
         {
          "i": 2.290138683229783e-05,
          "t": 11.275,
          "v": -0.57317
         },
         {
          "i": 2.2845363105589754e-05,
          "t": 11.28,
          "v": -0.572686
         },
         {
          "i": 2.2817805714285406e-05,
          "t": 11.285,
          "v": -0.572098
         },
         {
          "i": 2.2764700621117706e-05,
          "t": 11.29,
          "v": -0.5717
         },
         {
          "i": 2.2753540993788515e-05,
          "t": 11.295,
          "v": -0.571163
         },
         {
          "i": 2.2739409316769877e-05,
          "t": 11.3,
          "v": -0.570601
         },
         {
          "i": 2.2752574658384783e-05,
          "t": 11.305,
          "v": -0.570168
         },
         {
          "i": 2.277100782608665e-05,
          "t": 11.31,
          "v": -0.569619
         },
         {
          "i": 2.2779684223602174e-05,
          "t": 11.315,
          "v": -0.569136
         },
         {
          "i": 2.2820749068322674e-05,
          "t": 11.32,
          "v": -0.568637
         },
         {
          "i": 2.2813760124223296e-05,
          "t": 11.325,
          "v": -0.568101
         },
         {
          "i": 2.281741192546553e-05,
          "t": 11.33,
          "v": -0.567677
         },
         {
          "i": 2.2823719751552488e-05,
          "t": 11.335,
          "v": -0.567149
         },
         {
          "i": 2.279312869565187e-05,
          "t": 11.34,
          "v": -0.566624
         },
         {
          "i": 2.2741074534161186e-05,
          "t": 11.345,
          "v": -0.566195
         },
         {
          "i": 2.2699817391304047e-05,
          "t": 11.35,
          "v": -0.565651
         },
         {
          "i": 2.266921875776367e-05,
          "t": 11.355,
          "v": -0.565175
         },
         {
          "i": 2.2609490434782303e-05,
          "t": 11.36,
          "v": -0.564686
         },
         {
          "i": 2.253068273291895e-05,
          "t": 11.365,
          "v": -0.564126
         },
         {
          "i": 2.246562658385063e-05,
          "t": 11.37,
          "v": -0.56369
         },
         {
          "i": 2.243012074534131e-05,
          "t": 11.375,
          "v": -0.563187
         },
         {
          "i": 2.238055900621088e-05,
          "t": 11.38,
          "v": -0.562613
         },
         {
          "i": 2.234340198757734e-05,
          "t": 11.385,
          "v": -0.562162
         },
         {
          "i": 2.2285484223602185e-05,
          "t": 11.39,
          "v": -0.561614
         },
         {
          "i": 2.2255410559005913e-05,
          "t": 11.395,
          "v": -0.561107
         },
         {
          "i": 2.2233676024844423e-05,
          "t": 11.4,
          "v": -0.560622
         },
         {
          "i": 2.2219762857142556e-05,
          "t": 11.405,
          "v": -0.560086
         },
         {
          "i": 2.2243664968943804e-05,
          "t": 11.41,
          "v": -0.559652
         },
         {
          "i": 2.2271902608695357e-05,
          "t": 11.415,
          "v": -0.559119
         },
         {
          "i": 2.227233763975125e-05,
          "t": 11.42,
          "v": -0.558608
         },
         {
          "i": 2.2296016273291625e-05,
          "t": 11.425,
          "v": -0.558164
         },
         {
          "i": 2.230657540372641e-05,
          "t": 11.43,
          "v": -0.557612
         },
         {
          "i": 2.2309203726707775e-05,
          "t": 11.435,
          "v": -0.557119
         },
         {
          "i": 2.230135602484442e-05,
          "t": 11.44,
          "v": -0.556635
         },
         {
          "i": 2.2296622111800942e-05,
          "t": 11.445,
          "v": -0.556114
         },
         {
          "i": 2.226889937888169e-05,
          "t": 11.45,
          "v": -0.555617
         },
         {
          "i": 2.226122298136616e-05,
          "t": 11.455,
          "v": -0.555125
         },
         {
          "i": 2.2264232546583554e-05,
          "t": 11.46,
          "v": -0.554608
         },
         {
          "i": 2.221429590062082e-05,
          "t": 11.465,
          "v": -0.554126
         },
         {
          "i": 2.2151185465838212e-05,
          "t": 11.47,
          "v": -0.553619
         },
         {
          "i": 2.209413180124194e-05,
          "t": 11.475,
          "v": -0.553128
         },
         {
          "i": 2.207680322981337e-05,
          "t": 11.48,
          "v": -0.55262
         },
         {
          "i": 2.2031154409937595e-05,
          "t": 11.485,
          "v": -0.552118
         },
         {
          "i": 2.1977845093167405e-05,
          "t": 11.49,
          "v": -0.55166
         },
         {
          "i": 2.191467577639722e-05,
          "t": 11.495,
          "v": -0.551122
         },
         {
          "i": 2.1828563975154983e-05,
          "t": 11.5,
          "v": -0.550623
         },
         {
          "i": 2.178732236024815e-05,
          "t": 11.505,
          "v": -0.550174
         },
         {
          "i": 2.172838260869536e-05,
          "t": 11.51,
          "v": -0.549652
         },
         {
          "i": 2.1667494285713997e-05,
          "t": 11.515,
          "v": -0.549119
         },
         {
          "i": 2.1619798881987287e-05,
          "t": 11.52,
          "v": -0.548666
         },
         {
          "i": 2.158287031055872e-05,
          "t": 11.525,
          "v": -0.548084
         },
         {
          "i": 2.153611378881959e-05,
          "t": 11.53,
          "v": -0.547705
         },
         {
          "i": 2.1532561987577348e-05,
          "t": 11.535,
          "v": -0.547162
         },
         {
          "i": 2.1482512919254367e-05,
          "t": 11.54,
          "v": -0.546561
         },
         {
          "i": 2.1470332795030766e-05,
          "t": 11.545,
          "v": -0.546159
         },
         {
          "i": 2.1452976273291637e-05,
          "t": 11.55,
          "v": -0.545624
         },
         {
          "i": 2.1461370062111512e-05,
          "t": 11.555,
          "v": -0.545104
         },
         {
          "i": 2.144478546583822e-05,
          "t": 11.56,
          "v": -0.544612
         },
         {
          "i": 2.1445867329192257e-05,
          "t": 11.565,
          "v": -0.544094
         },
         {
          "i": 2.1417470931676734e-05,
          "t": 11.57,
          "v": -0.543683
         },
         {
          "i": 2.136694186335375e-05,
          "t": 11.575,
          "v": -0.543104
         },
         {
          "i": 2.1339854285713998e-05,
          "t": 11.58,
          "v": -0.542585
         },
         {
          "i": 2.1322288695651884e-05,
          "t": 11.585,
          "v": -0.542163
         },
         {
          "i": 2.1294589316769903e-05,
          "t": 11.59,
          "v": -0.541613
         },
         {
          "i": 2.1256757267080458e-05,
          "t": 11.595,
          "v": -0.541122
         },
         {
          "i": 2.125666881987549e-05,
          "t": 11.6,
          "v": -0.540647
         },
         {
          "i": 2.1220699006210895e-05,
          "t": 11.605,
          "v": -0.540098
         },
         {
          "i": 2.120041714285686e-05,
          "t": 11.61,
          "v": -0.539653
         },
         {
          "i": 2.11856293167699e-05,
          "t": 11.615,
          "v": -0.53915
         },
         {
          "i": 2.1135901490682945e-05,
          "t": 11.62,
          "v": -0.538603
         },
         {
          "i": 2.1080788819875496e-05,
          "t": 11.625,
          "v": -0.538168
         },
         {
          "i": 2.1047466956521454e-05,
          "t": 11.63,
          "v": -0.53764
         },
         {
          "i": 2.103225863354009e-05,
          "t": 11.635,
          "v": -0.537146
         },
         {
          "i": 2.0983127080745062e-05,
          "t": 11.64,
          "v": -0.536648
         },
         {
          "i": 2.0961962111800963e-05,
          "t": 11.645,
          "v": -0.536081
         },
         {
          "i": 2.0919072919254376e-05,
          "t": 11.65,
          "v": -0.535659
         },
         {
          "i": 2.0897358633540095e-05,
          "t": 11.655,
          "v": -0.535138
         },
         {
          "i": 2.087657788819848e-05,
          "t": 11.66,
          "v": -0.534603
         },
         {
          "i": 2.0862243602484194e-05,
          "t": 11.665,
          "v": -0.53417
         },
         {
          "i": 2.0833193167701587e-05,
          "t": 11.67,
          "v": -0.533621
         },
         {
          "i": 2.0832054409937608e-05,
          "t": 11.675,
          "v": -0.533136
         },
         {
          "i": 2.0832013664595995e-05,
          "t": 11.68,
          "v": -0.532645
         },
         {
          "i": 2.084564198757736e-05,
          "t": 11.685,
          "v": -0.532111
         },
         {
          "i": 2.0864436770186054e-05,
          "t": 11.69,
          "v": -0.53164
         },
         {
          "i": 2.0885749813664314e-05,
          "t": 11.695,
          "v": -0.531137
         },
         {
          "i": 2.089896186335376e-05,
          "t": 11.7,
          "v": -0.53062
         },
         {
          "i": 2.092346211180096e-05,
          "t": 11.705,
          "v": -0.530144
         },
         {
          "i": 2.093359552795003e-05,
          "t": 11.71,
          "v": -0.529627
         },
         {
          "i": 2.0933175900620835e-05,
          "t": 11.715,
          "v": -0.529131
         },
         {
          "i": 2.0917748695651892e-05,
          "t": 11.72,
          "v": -0.528625
         },
         {
          "i": 2.0884649813664315e-05,
          "t": 11.725,
          "v": -0.528123
         },
         {
          "i": 2.0835125093167422e-05,
          "t": 11.73,
          "v": -0.527673
         },
         {
          "i": 2.077216844720469e-05,
          "t": 11.735,
          "v": -0.527135
         },
         {
          "i": 2.0738757763974876e-05,
          "t": 11.74,
          "v": -0.526625
         },
         {
          "i": 2.070129975155252e-05,
          "t": 11.745,
          "v": -0.526185
         },
         {
          "i": 2.0686039999999723e-05,
          "t": 11.75,
          "v": -0.525629
         },
         {
          "i": 2.0673411552794753e-05,
          "t": 11.755,
          "v": -0.525138
         },
         {
          "i": 2.0663577515527674e-05,
          "t": 11.76,
          "v": -0.524638
         },
         {
          "i": 2.0654766211179847e-05,
          "t": 11.765,
          "v": -0.52409
         },
         {
          "i": 2.0670291055900346e-05,
          "t": 11.77,
          "v": -0.523665
         },
         {
          "i": 2.0671654285714006e-05,
          "t": 11.775,
          "v": -0.523168
         },
         {
          "i": 2.0697016397515248e-05,
          "t": 11.78,
          "v": -0.522554
         },
         {
          "i": 2.0742416770186056e-05,
          "t": 11.785,
          "v": -0.522177
         },
         {
          "i": 2.077538099378854e-05,
          "t": 11.79,
          "v": -0.521639
         },
         {
          "i": 2.0793825341614624e-05,
          "t": 11.795,
          "v": -0.521144
         },
         {
          "i": 2.079302695652146e-05,
          "t": 11.8,
          "v": -0.520625
         },
         {
          "i": 2.076743950310531e-05,
          "t": 11.805,
          "v": -0.520077
         },
         {
          "i": 2.0746111180123946e-05,
          "t": 11.81,
          "v": -0.519694
         },
         {
          "i": 2.069191801242208e-05,
          "t": 11.815,
          "v": -0.519118
         },
         {
          "i": 2.0615166211179848e-05,
          "t": 11.82,
          "v": -0.518608
         },
         {
          "i": 2.0549644099378606e-05,
          "t": 11.825,
          "v": -0.518192
         },
         {
          "i": 2.04693786335401e-05,
          "t": 11.83,
          "v": -0.517615
         },
         {
          "i": 2.041994683229786e-05,
          "t": 11.835,
          "v": -0.517123
         },
         {
          "i": 2.0377056645962462e-05,
          "t": 11.84,
          "v": -0.516645
         },
         {
          "i": 2.031337118012395e-05,
          "t": 11.845,
          "v": -0.516105
         },
         {
          "i": 2.029564608695625e-05,
          "t": 11.85,
          "v": -0.51565
         },
         {
          "i": 2.0278559627328922e-05,
          "t": 11.855,
          "v": -0.515157
         },
         {
          "i": 2.0288870434782337e-05,
          "t": 11.86,
          "v": -0.514616
         },
         {
          "i": 2.029197801242209e-05,
          "t": 11.865,
          "v": -0.514176
         },
         {
          "i": 2.0287045465838238e-05,
          "t": 11.87,
          "v": -0.513635
         },
         {
          "i": 2.0290653291925193e-05,
          "t": 11.875,
          "v": -0.513145
         },
         {
          "i": 2.031433925465811e-05,
          "t": 11.88,
          "v": -0.512652
         },
         {
          "i": 2.0319133291925193e-05,
          "t": 11.885,
          "v": -0.512129
         },
         {
          "i": 2.035397776397488e-05,
          "t": 11.89,
          "v": -0.511666
         },
         {
          "i": 2.0383216397515254e-05,
          "t": 11.895,
          "v": -0.511129
         },
         {
          "i": 2.037552211180097e-05,
          "t": 11.9,
          "v": -0.510584
         },
         {
          "i": 2.0373824347825813e-05,
          "t": 11.905,
          "v": -0.510169
         },
         {
          "i": 2.0364676024844445e-05,
          "t": 11.91,
          "v": -0.50961
         },
         {
          "i": 2.034828310558979e-05,
          "t": 11.915,
          "v": -0.509113
         },
         {
          "i": 2.0346173167701588e-05,
          "t": 11.92,
          "v": -0.508647
         },
         {
          "i": 2.0325734285714012e-05,
          "t": 11.925,
          "v": -0.508085
         },
         {
          "i": 2.0327215403726435e-05,
          "t": 11.93,
          "v": -0.507641
         },
         {
          "i": 2.0325752298136373e-05,
          "t": 11.935,
          "v": -0.507132
         },
         {
          "i": 2.0325978881987305e-05,
          "t": 11.94,
          "v": -0.506609
         },
         {
          "i": 2.033098459627302e-05,
          "t": 11.945,
          "v": -0.506136
         },
         {
          "i": 2.031269254658358e-05,
          "t": 11.95,
          "v": -0.505617
         },
         {
          "i": 2.028115714285687e-05,
          "t": 11.955,
          "v": -0.50512
         },
         {
          "i": 2.0279977142856873e-05,
          "t": 11.96,
          "v": -0.504625
         },
         {
          "i": 2.0274355155279232e-05,
          "t": 11.965,
          "v": -0.504108
         },
         {
          "i": 2.0272031801241963e-05,
          "t": 11.97,
          "v": -0.503649
         },
         {
          "i": 2.025683403726681e-05,
          "t": 11.975,
          "v": -0.503105
         },
         {
          "i": 2.023171701863327e-05,
          "t": 11.98,
          "v": -0.502618
         },
         {
          "i": 2.021829465838482e-05,
          "t": 11.985,
          "v": -0.502171
         },
         {
          "i": 2.020751055900594e-05,
          "t": 11.99,
          "v": -0.501617
         },
         {
          "i": 2.01931186335401e-05,
          "t": 11.995,
          "v": -0.501126
         },
         {
          "i": 2.0198626832297865e-05,
          "t": 12,
          "v": -0.500638
         },
         {
          "i": 2.0200974409937618e-05,
          "t": 12.005,
          "v": -0.500139
         }
        ],
        "data-763604f074221f36b815a12d9246611a": [
         {
          "i": [
           2.03742e-05
          ],
          "v": [
           -0.506136
          ]
         }
        ]
       },
       "layer": [
        {
         "data": {
          "name": "data-1695cb5d98045dbc7e006dbc67a1bb02"
         },
         "encoding": {
          "x": {
           "field": "v",
           "type": "quantitative"
          },
          "y": {
           "field": "i",
           "type": "quantitative"
          }
         },
         "mark": "point"
        },
        {
         "data": {
          "name": "data-763604f074221f36b815a12d9246611a"
         },
         "encoding": {
          "color": {
           "value": "black"
          },
          "x": {
           "field": "v",
           "type": "quantitative"
          },
          "y": {
           "field": "i",
           "type": "quantitative"
          }
         },
         "mark": {
          "filled": true,
          "size": 50,
          "type": "point"
         }
        }
       ]
      },
      "image/png": "[encoded data removed]",
      "text/plain": [
       "<VegaLite 3 object>\n",
       "\n",
       "If you see this message, it means the renderer has not been properly enabled\n",
       "for the frontend that you are using. For more information, see\n",
       "https://altair-viz.github.io/user_guide/troubleshooting.html\n"
      ]
     },
     "metadata": {},
     "output_type": "display_data"
    },
    {
     "data": {
      "application/vnd.vegalite.v3+json": {
       "$schema": "https://vega.github.io/schema/vega-lite/v3.2.1.json",
       "config": {
        "mark": {
         "tooltip": null
        },
        "view": {
         "height": 300,
         "width": 400
        }
       },
       "datasets": {
        "data-02c2e5e651511901cd32734801781430": [
         {
          "i": 0.0002870857043478222,
          "t": 1.001,
          "v": -1.10001
         },
         {
          "i": 0.00028564295652173526,
          "t": 1.002,
          "v": -1.09956
         },
         {
          "i": 0.00028402322360248066,
          "t": 1.003,
          "v": -1.09909
         },
         {
          "i": 0.0002823867043478223,
          "t": 1.004,
          "v": -1.09851
         },
         {
          "i": 0.0002806988273291888,
          "t": 1.005,
          "v": -1.09803
         },
         {
          "i": 0.00027890947577639374,
          "t": 1.006,
          "v": -1.09755
         },
         {
          "i": 0.00027711700621117644,
          "t": 1.007,
          "v": -1.09699
         },
         {
          "i": 0.00027527403602484104,
          "t": 1.008,
          "v": -1.09654
         },
         {
          "i": 0.000273424684472046,
          "t": 1.009,
          "v": -1.09601
         },
         {
          "i": 0.0002716490347826051,
          "t": 1.01,
          "v": -1.0955
         },
         {
          "i": 0.00027004944596272927,
          "t": 1.011,
          "v": -1.09503
         },
         {
          "i": 0.0002686419739130399,
          "t": 1.012,
          "v": -1.09448
         },
         {
          "i": 0.00026763658757763615,
          "t": 1.013,
          "v": -1.09406
         },
         {
          "i": 0.00026649642857142495,
          "t": 1.014,
          "v": -1.09349
         },
         {
          "i": 0.0002655539254658349,
          "t": 1.015,
          "v": -1.093
         },
         {
          "i": 0.0002645253080745306,
          "t": 1.016,
          "v": -1.09257
         },
         {
          "i": 0.0002634345875776362,
          "t": 1.017,
          "v": -1.09199
         },
         {
          "i": 0.00026227802236024496,
          "t": 1.018,
          "v": -1.0915
         },
         {
          "i": 0.00026120221366459273,
          "t": 1.019,
          "v": -1.09102
         },
         {
          "i": 0.0002601085863354002,
          "t": 1.02,
          "v": -1.09051
         },
         {
          "i": 0.00025898308322981015,
          "t": 1.021,
          "v": -1.08997
         },
         {
          "i": 0.0002578685639751518,
          "t": 1.022,
          "v": -1.08954
         },
         {
          "i": 0.0002567535900621083,
          "t": 1.023,
          "v": -1.08904
         },
         {
          "i": 0.00025574510062111456,
          "t": 1.024,
          "v": -1.08851
         },
         {
          "i": 0.0002547382310558972,
          "t": 1.025,
          "v": -1.088
         },
         {
          "i": 0.0002539381763975121,
          "t": 1.026,
          "v": -1.08753
         },
         {
          "i": 0.0002530877850931643,
          "t": 1.027,
          "v": -1.08705
         },
         {
          "i": 0.00025218691180123884,
          "t": 1.028,
          "v": -1.08644
         },
         {
          "i": 0.00025124835031055566,
          "t": 1.029,
          "v": -1.08615
         },
         {
          "i": 0.00025028249068322647,
          "t": 1.03,
          "v": -1.08555
         },
         {
          "i": 0.0002493632310558973,
          "t": 1.031,
          "v": -1.08496
         },
         {
          "i": 0.0002485143913043445,
          "t": 1.032,
          "v": -1.08459
         },
         {
          "i": 0.0002477353093167669,
          "t": 1.033,
          "v": -1.08401
         },
         {
          "i": 0.00024699449068322653,
          "t": 1.034,
          "v": -1.08353
         },
         {
          "i": 0.0002463308944099346,
          "t": 1.035,
          "v": -1.08304
         },
         {
          "i": 0.0002455776745341582,
          "t": 1.036,
          "v": -1.0825
         },
         {
          "i": 0.0002448974944099346,
          "t": 1.037,
          "v": -1.08201
         },
         {
          "i": 0.00024399127080745013,
          "t": 1.038,
          "v": -1.08154
         },
         {
          "i": 0.00024323036273291596,
          "t": 1.039,
          "v": -1.08103
         },
         {
          "i": 0.0002425216571428539,
          "t": 1.04,
          "v": -1.08056
         },
         {
          "i": 0.00024179203602484148,
          "t": 1.041,
          "v": -1.08002
         },
         {
          "i": 0.00024108706459627008,
          "t": 1.042,
          "v": -1.07959
         },
         {
          "i": 0.0002403601242235993,
          "t": 1.043,
          "v": -1.07909
         },
         {
          "i": 0.00023960857888198435,
          "t": 1.044,
          "v": -1.07849
         },
         {
          "i": 0.00023892135279502785,
          "t": 1.045,
          "v": -1.07806
         },
         {
          "i": 0.00023829464596272974,
          "t": 1.046,
          "v": -1.07754
         },
         {
          "i": 0.00023765997888198438,
          "t": 1.047,
          "v": -1.07704
         },
         {
          "i": 0.00023713345341614588,
          "t": 1.048,
          "v": -1.07656
         },
         {
          "i": 0.00023654769565217073,
          "t": 1.049,
          "v": -1.076
         },
         {
          "i": 0.00023586239627328875,
          "t": 1.05,
          "v": -1.07557
         },
         {
          "i": 0.0002351722670807422,
          "t": 1.051,
          "v": -1.07506
         },
         {
          "i": 0.00023459230434782292,
          "t": 1.052,
          "v": -1.07453
         },
         {
          "i": 0.00023400529068322664,
          "t": 1.053,
          "v": -1.074
         },
         {
          "i": 0.00023343323478260553,
          "t": 1.054,
          "v": -1.07351
         },
         {
          "i": 0.00023284454409937575,
          "t": 1.055,
          "v": -1.07294
         },
         {
          "i": 0.00023234742608695342,
          "t": 1.056,
          "v": -1.07258
         },
         {
          "i": 0.0002317751105590031,
          "t": 1.057,
          "v": -1.07201
         },
         {
          "i": 0.0002312090360248416,
          "t": 1.058,
          "v": -1.0715
         },
         {
          "i": 0.0002305893428571398,
          "t": 1.059,
          "v": -1.071
         },
         {
          "i": 0.00022994543229813352,
          "t": 1.06,
          "v": -1.07045
         },
         {
          "i": 0.00022942966956521432,
          "t": 1.061,
          "v": -1.07
         },
         {
          "i": 0.00022888972670807146,
          "t": 1.062,
          "v": -1.06946
         },
         {
          "i": 0.0002283518385093137,
          "t": 1.063,
          "v": -1.06899
         },
         {
          "i": 0.0002277754981366429,
          "t": 1.064,
          "v": -1.06854
         },
         {
          "i": 0.00022721167826086653,
          "t": 1.065,
          "v": -1.068
         },
         {
          "i": 0.00022661479006210876,
          "t": 1.066,
          "v": -1.0675
         },
         {
          "i": 0.00022611103105589758,
          "t": 1.067,
          "v": -1.06698
         },
         {
          "i": 0.00022554208819875474,
          "t": 1.068,
          "v": -1.06654
         },
         {
          "i": 0.0002249150869565187,
          "t": 1.069,
          "v": -1.066
         },
         {
          "i": 0.00022436743602484172,
          "t": 1.07,
          "v": -1.06549
         },
         {
          "i": 0.00022378047577639452,
          "t": 1.071,
          "v": -1.065
         },
         {
          "i": 0.00022323117267080444,
          "t": 1.072,
          "v": -1.0645
         },
         {
          "i": 0.0002226690099378852,
          "t": 1.073,
          "v": -1.06401
         },
         {
          "i": 0.0002222124583850902,
          "t": 1.074,
          "v": -1.06352
         },
         {
          "i": 0.0002217619155279473,
          "t": 1.075,
          "v": -1.06301
         },
         {
          "i": 0.00022123374782608398,
          "t": 1.076,
          "v": -1.06248
         },
         {
          "i": 0.00022076209068322688,
          "t": 1.077,
          "v": -1.06204
         },
         {
          "i": 0.00022030786583850635,
          "t": 1.078,
          "v": -1.06159
         },
         {
          "i": 0.00021972067577639458,
          "t": 1.079,
          "v": -1.06095
         },
         {
          "i": 0.00021919895279502813,
          "t": 1.08,
          "v": -1.06062
         },
         {
          "i": 0.00021874368944099087,
          "t": 1.081,
          "v": -1.06002
         },
         {
          "i": 0.00021834098881987285,
          "t": 1.082,
          "v": -1.05954
         },
         {
          "i": 0.00021791344596273001,
          "t": 1.083,
          "v": -1.05907
         },
         {
          "i": 0.00021742587453415856,
          "t": 1.084,
          "v": -1.05844
         },
         {
          "i": 0.00021693869440993495,
          "t": 1.085,
          "v": -1.05802
         },
         {
          "i": 0.00021648904472049398,
          "t": 1.086,
          "v": -1.05754
         },
         {
          "i": 0.0002160699801242207,
          "t": 1.087,
          "v": -1.05693
         },
         {
          "i": 0.00021557596521738838,
          "t": 1.088,
          "v": -1.05654
         },
         {
          "i": 0.00021512042360248156,
          "t": 1.089,
          "v": -1.05603
         },
         {
          "i": 0.00021455269937887913,
          "t": 1.09,
          "v": -1.05551
         },
         {
          "i": 0.00021401142111800953,
          "t": 1.091,
          "v": -1.05499
         },
         {
          "i": 0.00021350849689440705,
          "t": 1.092,
          "v": -1.05449
         },
         {
          "i": 0.00021312320621117724,
          "t": 1.093,
          "v": -1.05404
         },
         {
          "i": 0.0002127414086956493,
          "t": 1.094,
          "v": -1.05353
         },
         {
          "i": 0.00021228028944099094,
          "t": 1.095,
          "v": -1.05295
         },
         {
          "i": 0.00021188605465838223,
          "t": 1.096,
          "v": -1.05255
         },
         {
          "i": 0.00021139412546583567,
          "t": 1.097,
          "v": -1.05201
         },
         {
          "i": 0.0002109461254658357,
          "t": 1.098,
          "v": -1.05154
         },
         {
          "i": 0.0002105465503105562,
          "t": 1.099,
          "v": -1.05105
         },
         {
          "i": 0.00021011035279502822,
          "t": 1.1,
          "v": -1.0505
         },
         {
          "i": 0.00020975983229813385,
          "t": 1.101,
          "v": -1.05005
         },
         {
          "i": 0.00020942298509316488,
          "t": 1.102,
          "v": -1.04949
         },
         {
          "i": 0.00020904714658384813,
          "t": 1.103,
          "v": -1.04902
         },
         {
          "i": 0.0002086065254658357,
          "t": 1.104,
          "v": -1.0486
         },
         {
          "i": 0.00020819051925465557,
          "t": 1.105,
          "v": -1.04804
         },
         {
          "i": 0.0002078055999999972,
          "t": 1.106,
          "v": -1.04754
         },
         {
          "i": 0.00020738632670807178,
          "t": 1.107,
          "v": -1.04703
         },
         {
          "i": 0.0002070171627329165,
          "t": 1.108,
          "v": -1.04646
         },
         {
          "i": 0.00020666972546583572,
          "t": 1.109,
          "v": -1.04604
         },
         {
          "i": 0.00020619738757763698,
          "t": 1.11,
          "v": -1.04556
         },
         {
          "i": 0.00020573691925465561,
          "t": 1.111,
          "v": -1.04499
         },
         {
          "i": 0.00020524331552794755,
          "t": 1.112,
          "v": -1.04453
         },
         {
          "i": 0.00020475195403726434,
          "t": 1.113,
          "v": -1.044
         },
         {
          "i": 0.00020431304347825815,
          "t": 1.114,
          "v": -1.04352
         },
         {
          "i": 0.00020398965341614632,
          "t": 1.115,
          "v": -1.04303
         },
         {
          "i": 0.00020354120496894135,
          "t": 1.116,
          "v": -1.04253
         },
         {
          "i": 0.00020311572173912771,
          "t": 1.117,
          "v": -1.04204
         },
         {
          "i": 0.00020267704223602212,
          "t": 1.118,
          "v": -1.04148
         },
         {
          "i": 0.0002022858298136619,
          "t": 1.119,
          "v": -1.04102
         },
         {
          "i": 0.00020195256521738858,
          "t": 1.12,
          "v": -1.04054
         },
         {
          "i": 0.00020153313167701589,
          "t": 1.121,
          "v": -1.03999
         },
         {
          "i": 0.00020111163229813396,
          "t": 1.122,
          "v": -1.03954
         },
         {
          "i": 0.0002006642149068296,
          "t": 1.123,
          "v": -1.03901
         },
         {
          "i": 0.00020018902484471779,
          "t": 1.124,
          "v": -1.03853
         },
         {
          "i": 0.00019973985838509049,
          "t": 1.125,
          "v": -1.03807
         },
         {
          "i": 0.00019934789565217122,
          "t": 1.126,
          "v": -1.03755
         },
         {
          "i": 0.00019898013043477997,
          "t": 1.127,
          "v": -1.03702
         },
         {
          "i": 0.00019859894409937623,
          "t": 1.128,
          "v": -1.03659
         },
         {
          "i": 0.0001981566583850905,
          "t": 1.129,
          "v": -1.03602
         },
         {
          "i": 0.00019774336397515265,
          "t": 1.13,
          "v": -1.03554
         },
         {
          "i": 0.0001973656782608669,
          "t": 1.131,
          "v": -1.03508
         },
         {
          "i": 0.0001968477726708048,
          "t": 1.132,
          "v": -1.03444
         },
         {
          "i": 0.00019634814782608432,
          "t": 1.133,
          "v": -1.0341
         },
         {
          "i": 0.00019587210062111535,
          "t": 1.134,
          "v": -1.03354
         },
         {
          "i": 0.00019538860372670544,
          "t": 1.135,
          "v": -1.03292
         },
         {
          "i": 0.00019496474906832034,
          "t": 1.136,
          "v": -1.03254
         },
         {
          "i": 0.00019448976273291665,
          "t": 1.137,
          "v": -1.032
         },
         {
          "i": 0.00019403467826086695,
          "t": 1.138,
          "v": -1.03152
         },
         {
          "i": 0.00019356097142856884,
          "t": 1.139,
          "v": -1.031
         },
         {
          "i": 0.00019316179503105332,
          "t": 1.14,
          "v": -1.0305
         },
         {
          "i": 0.00019278441739130174,
          "t": 1.141,
          "v": -1.03011
         },
         {
          "i": 0.0001923032335403701,
          "t": 1.142,
          "v": -1.02952
         },
         {
          "i": 0.00019184588571428314,
          "t": 1.143,
          "v": -1.02899
         },
         {
          "i": 0.0001913796086956496,
          "t": 1.144,
          "v": -1.02859
         },
         {
          "i": 0.00019093467453415891,
          "t": 1.145,
          "v": -1.02804
         },
         {
          "i": 0.0001906042074534136,
          "t": 1.146,
          "v": -1.02755
         },
         {
          "i": 0.00019026151677018377,
          "t": 1.147,
          "v": -1.02707
         },
         {
          "i": 0.00018986338509316514,
          "t": 1.148,
          "v": -1.0265
         },
         {
          "i": 0.00018953128447204715,
          "t": 1.149,
          "v": -1.02609
         },
         {
          "i": 0.00018915382857142605,
          "t": 1.15,
          "v": -1.02553
         },
         {
          "i": 0.00018873043105589808,
          "t": 1.151,
          "v": -1.02497
         },
         {
          "i": 0.00018834615900620863,
          "t": 1.152,
          "v": -1.02451
         },
         {
          "i": 0.0001880248322981341,
          "t": 1.153,
          "v": -1.02399
         },
         {
          "i": 0.00018758069316769936,
          "t": 1.154,
          "v": -1.02349
         },
         {
          "i": 0.00018720494409937637,
          "t": 1.155,
          "v": -1.023
         },
         {
          "i": 0.00018682999378881736,
          "t": 1.156,
          "v": -1.02247
         },
         {
          "i": 0.00018651526335403476,
          "t": 1.157,
          "v": -1.02208
         },
         {
          "i": 0.0001861442608695627,
          "t": 1.158,
          "v": -1.02154
         },
         {
          "i": 0.00018576328571428324,
          "t": 1.159,
          "v": -1.02099
         },
         {
          "i": 0.00018536780993788572,
          "t": 1.16,
          "v": -1.02055
         },
         {
          "i": 0.00018500900621117765,
          "t": 1.161,
          "v": -1.01998
         },
         {
          "i": 0.00018465976024844476,
          "t": 1.162,
          "v": -1.01955
         },
         {
          "i": 0.00018421547453415903,
          "t": 1.163,
          "v": -1.019
         },
         {
          "i": 0.00018375600621117766,
          "t": 1.164,
          "v": -1.0185
         },
         {
          "i": 0.00018340653913043233,
          "t": 1.165,
          "v": -1.01808
         },
         {
          "i": 0.0001830359478260845,
          "t": 1.166,
          "v": -1.01749
         },
         {
          "i": 0.0001825235031055876,
          "t": 1.167,
          "v": -1.01704
         },
         {
          "i": 0.00018214581987577395,
          "t": 1.168,
          "v": -1.01649
         },
         {
          "i": 0.00018174250434782363,
          "t": 1.169,
          "v": -1.01604
         },
         {
          "i": 0.00018131719627328946,
          "t": 1.17,
          "v": -1.01554
         },
         {
          "i": 0.00018093351055900375,
          "t": 1.171,
          "v": -1.015
         },
         {
          "i": 0.0001804399118012398,
          "t": 1.172,
          "v": -1.01443
         },
         {
          "i": 0.00017992130434782368,
          "t": 1.173,
          "v": -1.01409
         },
         {
          "i": 0.00017943287204968703,
          "t": 1.174,
          "v": -1.01351
         },
         {
          "i": 0.00017898354534161246,
          "t": 1.175,
          "v": -1.01299
         },
         {
          "i": 0.0001784580745341591,
          "t": 1.176,
          "v": -1.01258
         },
         {
          "i": 0.00017805867701863113,
          "t": 1.177,
          "v": -1.01204
         },
         {
          "i": 0.0001776329900621094,
          "t": 1.178,
          "v": -1.01148
         },
         {
          "i": 0.00017723147826086719,
          "t": 1.179,
          "v": -1.01102
         },
         {
          "i": 0.0001767762024844697,
          "t": 1.18,
          "v": -1.01045
         },
         {
          "i": 0.00017641508198757528,
          "t": 1.181,
          "v": -1.01012
         },
         {
          "i": 0.00017593020248446968,
          "t": 1.182,
          "v": -1.00954
         },
         {
          "i": 0.00017555279378881752,
          "t": 1.183,
          "v": -1.00889
         },
         {
          "i": 0.00017508576397515295,
          "t": 1.184,
          "v": -1.00859
         },
         {
          "i": 0.00017466087453415916,
          "t": 1.185,
          "v": -1.00802
         },
         {
          "i": 0.0001742809316770163,
          "t": 1.186,
          "v": -1.00761
         },
         {
          "i": 0.00017387434409937654,
          "t": 1.187,
          "v": -1.00704
         },
         {
          "i": 0.00017345029813664364,
          "t": 1.188,
          "v": -1.00645
         },
         {
          "i": 0.0001729564745341592,
          "t": 1.189,
          "v": -1.006
         },
         {
          "i": 0.00017258234906832067,
          "t": 1.19,
          "v": -1.00555
         },
         {
          "i": 0.00017212623229813433,
          "t": 1.191,
          "v": -1.00497
         },
         {
          "i": 0.0001716500037267058,
          "t": 1.192,
          "v": -1.00459
         },
         {
          "i": 0.00017114088944099147,
          "t": 1.193,
          "v": -1.00401
         },
         {
          "i": 0.00017063857391304117,
          "t": 1.194,
          "v": -1.00354
         },
         {
          "i": 0.00017007935155279275,
          "t": 1.195,
          "v": -1.003
         },
         {
          "i": 0.0001695639888198735,
          "t": 1.196,
          "v": -1.00244
         },
         {
          "i": 0.0001691059440993766,
          "t": 1.197,
          "v": -1.00208
         },
         {
          "i": 0.0001685997080745319,
          "t": 1.198,
          "v": -1.00153
         },
         {
          "i": 0.00016812467950310333,
          "t": 1.199,
          "v": -1.00101
         },
         {
          "i": 0.00016765015900620893,
          "t": 1.2,
          "v": -1.00057
         },
         {
          "i": 0.0001671408273291903,
          "t": 1.201,
          "v": -1.00004
         },
         {
          "i": 0.00016661662360248225,
          "t": 1.202,
          "v": -0.99957
         },
         {
          "i": 0.00016614906335403506,
          "t": 1.203,
          "v": -0.999045
         },
         {
          "i": 0.000165570560248445,
          "t": 1.204,
          "v": -0.998503
         },
         {
          "i": 0.00016506229192546362,
          "t": 1.205,
          "v": -0.998053
         },
         {
          "i": 0.00016449542857142636,
          "t": 1.206,
          "v": -0.997528
         },
         {
          "i": 0.00016397592298136426,
          "t": 1.207,
          "v": -0.997011
         },
         {
          "i": 0.0001634429950310537,
          "t": 1.208,
          "v": -0.996561
         },
         {
          "i": 0.0001629412981366438,
          "t": 1.209,
          "v": -0.996003
         },
         {
          "i": 0.000162433359006209,
          "t": 1.21,
          "v": -0.99557
         },
         {
          "i": 0.00016185139130434564,
          "t": 1.211,
          "v": -0.995036
         },
         {
          "i": 0.00016123687950310342,
          "t": 1.212,
          "v": -0.994495
         },
         {
          "i": 0.00016069707080745128,
          "t": 1.213,
          "v": -0.994078
         },
         {
          "i": 0.00016019026583850716,
          "t": 1.214,
          "v": -0.993545
         },
         {
          "i": 0.00015967615900620903,
          "t": 1.215,
          "v": -0.993012
         },
         {
          "i": 0.00015913324596273076,
          "t": 1.216,
          "v": -0.992553
         },
         {
          "i": 0.00015852620372670595,
          "t": 1.217,
          "v": -0.99202
         },
         {
          "i": 0.00015793820993788608,
          "t": 1.218,
          "v": -0.99157
         },
         {
          "i": 0.00015739593788819664,
          "t": 1.219,
          "v": -0.991053
         },
         {
          "i": 0.00015683795155279292,
          "t": 1.22,
          "v": -0.990503
         },
         {
          "i": 0.00015621349316769976,
          "t": 1.221,
          "v": -0.990095
         },
         {
          "i": 0.00015563008819875567,
          "t": 1.222,
          "v": -0.989553
         },
         {
          "i": 0.00015498265465838302,
          "t": 1.223,
          "v": -0.988987
         },
         {
          "i": 0.00015435571677018428,
          "t": 1.224,
          "v": -0.988587
         },
         {
          "i": 0.00015372711180124018,
          "t": 1.225,
          "v": -0.988003
         },
         {
          "i": 0.00015300082732919049,
          "t": 1.226,
          "v": -0.98752
         },
         {
          "i": 0.0001523025378881967,
          "t": 1.227,
          "v": -0.98702
         },
         {
          "i": 0.00015163087950310358,
          "t": 1.228,
          "v": -0.986537
         },
         {
          "i": 0.00015090101118012223,
          "t": 1.229,
          "v": -0.986003
         },
         {
          "i": 0.00015017672795030853,
          "t": 1.23,
          "v": -0.985595
         },
         {
          "i": 0.00014947976894409738,
          "t": 1.231,
          "v": -0.98502
         },
         {
          "i": 0.00014878805217391104,
          "t": 1.232,
          "v": -0.984587
         },
         {
          "i": 0.00014804580745341419,
          "t": 1.233,
          "v": -0.984012
         },
         {
          "i": 0.000147231098136644,
          "t": 1.234,
          "v": -0.983528
         },
         {
          "i": 0.00014654496894409743,
          "t": 1.235,
          "v": -0.983037
         },
         {
          "i": 0.00014587911552794834,
          "t": 1.236,
          "v": -0.982453
         },
         {
          "i": 0.0001451656037267061,
          "t": 1.237,
          "v": -0.981995
         },
         {
          "i": 0.00014441257763974963,
          "t": 1.238,
          "v": -0.981562
         },
         {
          "i": 0.00014373763726707882,
          "t": 1.239,
          "v": -0.980978
         },
         {
          "i": 0.00014293701490683037,
          "t": 1.24,
          "v": -0.980562
         },
         {
          "i": 0.00014224623602484282,
          "t": 1.241,
          "v": -0.979987
         },
         {
          "i": 0.00014151700372670617,
          "t": 1.242,
          "v": -0.979503
         },
         {
          "i": 0.00014069498757763788,
          "t": 1.243,
          "v": -0.979028
         },
         {
          "i": 0.00013993405590061924,
          "t": 1.244,
          "v": -0.978553
         },
         {
          "i": 0.00013915117018633354,
          "t": 1.245,
          "v": -0.977995
         },
         {
          "i": 0.00013832111677018448,
          "t": 1.246,
          "v": -0.97752
         },
         {
          "i": 0.00013740641366459443,
          "t": 1.247,
          "v": -0.977037
         },
         {
          "i": 0.0001364533863354019,
          "t": 1.248,
          "v": -0.976553
         },
         {
          "i": 0.0001355322670807435,
          "t": 1.249,
          "v": -0.976045
         },
         {
          "i": 0.00013454670434782427,
          "t": 1.25,
          "v": -0.975554
         },
         {
          "i": 0.00013343050807453237,
          "t": 1.251,
          "v": -0.975045
         },
         {
          "i": 0.00013245199503105414,
          "t": 1.252,
          "v": -0.974504
         },
         {
          "i": 0.00013144661490683055,
          "t": 1.253,
          "v": -0.974037
         },
         {
          "i": 0.0001304604521739113,
          "t": 1.254,
          "v": -0.973537
         },
         {
          "i": 0.00012935937391304176,
          "t": 1.255,
          "v": -0.973029
         },
         {
          "i": 0.00012828652422360078,
          "t": 1.256,
          "v": -0.97252
         },
         {
          "i": 0.00012733991801242063,
          "t": 1.257,
          "v": -0.97202
         },
         {
          "i": 0.0001263564447204952,
          "t": 1.258,
          "v": -0.971495
         },
         {
          "i": 0.0001253465291925449,
          "t": 1.259,
          "v": -0.971045
         },
         {
          "i": 0.0001243299279503089,
          "t": 1.26,
          "v": -0.97042
         },
         {
          "i": 0.00012333339503105425,
          "t": 1.261,
          "v": -0.970029
         },
         {
          "i": 0.000122142032298135,
          "t": 1.262,
          "v": -0.96952
         },
         {
          "i": 0.00012115586583850769,
          "t": 1.263,
          "v": -0.968995
         },
         {
          "i": 0.00012009475652173753,
          "t": 1.264,
          "v": -0.968495
         },
         {
          "i": 0.00011901577142856983,
          "t": 1.265,
          "v": -0.96797
         },
         {
          "i": 0.00011794822732919097,
          "t": 1.266,
          "v": -0.967487
         },
         {
          "i": 0.00011679639627329036,
          "t": 1.267,
          "v": -0.966995
         },
         {
          "i": 0.00011559903354037111,
          "t": 1.268,
          "v": -0.966479
         },
         {
          "i": 0.00011437666459627175,
          "t": 1.269,
          "v": -0.96602
         },
         {
          "i": 0.00011312091913043328,
          "t": 1.27,
          "v": -0.965495
         },
         {
          "i": 0.0001118774104347811,
          "t": 1.271,
          "v": -0.965004
         },
         {
          "i": 0.00011066555714285565,
          "t": 1.272,
          "v": -0.964562
         },
         {
          "i": 0.00010930256149068175,
          "t": 1.273,
          "v": -0.963987
         },
         {
          "i": 0.00010801264608695506,
          "t": 1.274,
          "v": -0.963504
         },
         {
          "i": 0.00010670205080745198,
          "t": 1.275,
          "v": -0.963029
         },
         {
          "i": 0.000105396381739129,
          "t": 1.276,
          "v": -0.962554
         },
         {
          "i": 0.00010400525155279363,
          "t": 1.277,
          "v": -0.962004
         },
         {
          "i": 0.00010268494571428433,
          "t": 1.278,
          "v": -0.961529
         },
         {
          "i": 0.00010123954298136511,
          "t": 1.279,
          "v": -0.961012
         },
         {
          "i": 9.977612795030922e-05,
          "t": 1.28,
          "v": -0.960512
         },
         {
          "i": 9.836095142857011e-05,
          "t": 1.281,
          "v": -0.960004
         },
         {
          "i": 9.681324223602355e-05,
          "t": 1.282,
          "v": -0.959462
         },
         {
          "i": 9.518690223602357e-05,
          "t": 1.283,
          "v": -0.95902
         },
         {
          "i": 9.361233366459502e-05,
          "t": 1.284,
          "v": -0.958437
         },
         {
          "i": 9.215328360248322e-05,
          "t": 1.285,
          "v": -0.958145
         },
         {
          "i": 9.058031254658263e-05,
          "t": 1.286,
          "v": -0.957512
         },
         {
          "i": 8.89326147826075e-05,
          "t": 1.287,
          "v": -0.956962
         },
         {
          "i": 8.717541080745224e-05,
          "t": 1.288,
          "v": -0.956612
         },
         {
          "i": 8.537862422360135e-05,
          "t": 1.289,
          "v": -0.955995
         },
         {
          "i": 8.361831826086844e-05,
          "t": 1.29,
          "v": -0.955462
         },
         {
          "i": 8.186258124223492e-05,
          "t": 1.291,
          "v": -0.955004
         },
         {
          "i": 8.007245142857035e-05,
          "t": 1.292,
          "v": -0.954462
         },
         {
          "i": 7.832103639751449e-05,
          "t": 1.293,
          "v": -0.954037
         },
         {
          "i": 7.649487701863251e-05,
          "t": 1.294,
          "v": -0.953554
         },
         {
          "i": 7.451529850931578e-05,
          "t": 1.295,
          "v": -0.952987
         },
         {
          "i": 7.269120720496797e-05,
          "t": 1.296,
          "v": -0.952537
         },
         {
          "i": 7.07580027329183e-05,
          "t": 1.297,
          "v": -0.95207
         },
         {
          "i": 6.879395515527856e-05,
          "t": 1.298,
          "v": -0.951545
         },
         {
          "i": 6.682348596273202e-05,
          "t": 1.299,
          "v": -0.95102
         },
         {
          "i": 6.478779838509229e-05,
          "t": 1.3,
          "v": -0.95047
         },
         {
          "i": 6.2586262236024e-05,
          "t": 1.301,
          "v": -0.95012
         },
         {
          "i": 6.047893714285633e-05,
          "t": 1.302,
          "v": -0.949537
         },
         {
          "i": 5.831198049689363e-05,
          "t": 1.303,
          "v": -0.949054
         },
         {
          "i": 5.602804670807378e-05,
          "t": 1.304,
          "v": -0.948579
         },
         {
          "i": 5.3725684720496175e-05,
          "t": 1.305,
          "v": -0.948037
         },
         {
          "i": 5.156846347826018e-05,
          "t": 1.306,
          "v": -0.947545
         },
         {
          "i": 4.928142347826021e-05,
          "t": 1.307,
          "v": -0.94707
         },
         {
          "i": 4.6853800621117377e-05,
          "t": 1.308,
          "v": -0.946496
         },
         {
          "i": 4.438994372670748e-05,
          "t": 1.309,
          "v": -0.946096
         },
         {
          "i": 4.1808892795030495e-05,
          "t": 1.31,
          "v": -0.945512
         },
         {
          "i": 3.9333857639751024e-05,
          "t": 1.311,
          "v": -0.945012
         },
         {
          "i": 3.687289570186286e-05,
          "t": 1.312,
          "v": -0.944537
         },
         {
          "i": 3.443823127950264e-05,
          "t": 1.313,
          "v": -0.944021
         },
         {
          "i": 3.183461521739088e-05,
          "t": 1.314,
          "v": -0.943562
         },
         {
          "i": 2.9253368089440604e-05,
          "t": 1.315,
          "v": -0.943054
         },
         {
          "i": 2.6355232113043125e-05,
          "t": 1.316,
          "v": -0.942504
         },
         {
          "i": 2.3281401617390992e-05,
          "t": 1.317,
          "v": -0.942037
         },
         {
          "i": 2.0262311372670533e-05,
          "t": 1.318,
          "v": -0.941571
         },
         {
          "i": 1.72319033043476e-05,
          "t": 1.319,
          "v": -0.941029
         },
         {
          "i": 1.4488939213664406e-05,
          "t": 1.32,
          "v": -0.940554
         },
         {
          "i": 1.2012489411179968e-05,
          "t": 1.321,
          "v": -0.940037
         },
         {
          "i": 9.900698368943973e-06,
          "t": 1.322,
          "v": -0.939571
         },
         {
          "i": 8.14713155279493e-06,
          "t": 1.323,
          "v": -0.939029
         },
         {
          "i": 7.07062784472041e-06,
          "t": 1.324,
          "v": -0.938554
         },
         {
          "i": 6.396637679503027e-06,
          "t": 1.325,
          "v": -0.938054
         },
         {
          "i": 6.294109255900545e-06,
          "t": 1.326,
          "v": -0.937562
         },
         {
          "i": 6.732380710558923e-06,
          "t": 1.327,
          "v": -0.937021
         },
         {
          "i": 7.78142583229804e-06,
          "t": 1.328,
          "v": -0.936546
         },
         {
          "i": 9.348272322981247e-06,
          "t": 1.329,
          "v": -0.936071
         },
         {
          "i": 1.1389018319254512e-05,
          "t": 1.33,
          "v": -0.935579
         },
         {
          "i": 1.3952098479502925e-05,
          "t": 1.331,
          "v": -0.935079
         },
         {
          "i": 1.6860271313043258e-05,
          "t": 1.332,
          "v": -0.934554
         },
         {
          "i": 2.0265508496894138e-05,
          "t": 1.333,
          "v": -0.934146
         },
         {
          "i": 2.383941736024813e-05,
          "t": 1.334,
          "v": -0.933546
         },
         {
          "i": 2.7526082623602117e-05,
          "t": 1.335,
          "v": -0.933054
         },
         {
          "i": 3.115137677142815e-05,
          "t": 1.336,
          "v": -0.932621
         },
         {
          "i": 3.474779167950263e-05,
          "t": 1.337,
          "v": -0.932054
         },
         {
          "i": 3.8058882906831786e-05,
          "t": 1.338,
          "v": -0.931587
         },
         {
          "i": 4.1411385577639194e-05,
          "t": 1.339,
          "v": -0.931162
         },
         {
          "i": 4.484878216149008e-05,
          "t": 1.34,
          "v": -0.930521
         },
         {
          "i": 4.828721118012357e-05,
          "t": 1.341,
          "v": -0.930112
         },
         {
          "i": 5.173413341614837e-05,
          "t": 1.342,
          "v": -0.929613
         },
         {
          "i": 5.526573776397441e-05,
          "t": 1.343,
          "v": -0.929062
         },
         {
          "i": 5.868698583850853e-05,
          "t": 1.344,
          "v": -0.928587
         },
         {
          "i": 6.217636596273208e-05,
          "t": 1.345,
          "v": -0.928088
         },
         {
          "i": 6.574852670807365e-05,
          "t": 1.346,
          "v": -0.927621
         },
         {
          "i": 6.919483950310466e-05,
          "t": 1.347,
          "v": -0.927096
         },
         {
          "i": 7.271651937888101e-05,
          "t": 1.348,
          "v": -0.926579
         },
         {
          "i": 7.62056864596263e-05,
          "t": 1.349,
          "v": -0.926146
         },
         {
          "i": 7.959566211180017e-05,
          "t": 1.35,
          "v": -0.925588
         },
         {
          "i": 8.307711975155168e-05,
          "t": 1.351,
          "v": -0.925113
         },
         {
          "i": 8.657680732919138e-05,
          "t": 1.352,
          "v": -0.924613
         },
         {
          "i": 9.008787900620996e-05,
          "t": 1.353,
          "v": -0.924121
         },
         {
          "i": 9.369049440993662e-05,
          "t": 1.354,
          "v": -0.923688
         },
         {
          "i": 9.71947404968931e-05,
          "t": 1.355,
          "v": -0.923138
         },
         {
          "i": 0.00010064370447204834,
          "t": 1.356,
          "v": -0.922621
         },
         {
          "i": 0.0001042838057142843,
          "t": 1.357,
          "v": -0.922163
         },
         {
          "i": 0.00010793677515527804,
          "t": 1.358,
          "v": -0.921629
         },
         {
          "i": 0.00011155533453415999,
          "t": 1.359,
          "v": -0.921029
         },
         {
          "i": 0.00011524138559006056,
          "t": 1.36,
          "v": -0.920613
         },
         {
          "i": 0.00011902766645962572,
          "t": 1.361,
          "v": -0.920013
         },
         {
          "i": 0.00012261725503105424,
          "t": 1.362,
          "v": -0.919621
         },
         {
          "i": 0.0001262209359006194,
          "t": 1.363,
          "v": -0.919046
         },
         {
          "i": 0.00012976541875776222,
          "t": 1.364,
          "v": -0.918563
         },
         {
          "i": 0.00013337120931676837,
          "t": 1.365,
          "v": -0.918171
         },
         {
          "i": 0.00013689807354037083,
          "t": 1.366,
          "v": -0.917571
         },
         {
          "i": 0.00014051336273291737,
          "t": 1.367,
          "v": -0.917146
         },
         {
          "i": 0.00014409055279502914,
          "t": 1.368,
          "v": -0.916638
         },
         {
          "i": 0.00014763754285714088,
          "t": 1.369,
          "v": -0.916121
         },
         {
          "i": 0.00015107888571428367,
          "t": 1.37,
          "v": -0.915571
         },
         {
          "i": 0.0001543826993788799,
          "t": 1.371,
          "v": -0.915046
         },
         {
          "i": 0.0001575950260869544,
          "t": 1.372,
          "v": -0.914563
         },
         {
          "i": 0.0001609750273291904,
          "t": 1.373,
          "v": -0.914079
         },
         {
          "i": 0.00016427244844720277,
          "t": 1.374,
          "v": -0.913571
         },
         {
          "i": 0.00016755639999999774,
          "t": 1.375,
          "v": -0.913063
         },
         {
          "i": 0.0001708268857142834,
          "t": 1.376,
          "v": -0.912571
         },
         {
          "i": 0.00017398220869564983,
          "t": 1.377,
          "v": -0.912063
         },
         {
          "i": 0.0001772740298136622,
          "t": 1.378,
          "v": -0.911588
         },
         {
          "i": 0.0001806544658385069,
          "t": 1.379,
          "v": -0.911088
         },
         {
          "i": 0.00018398498509316524,
          "t": 1.38,
          "v": -0.910604
         },
         {
          "i": 0.00018725787701863103,
          "t": 1.381,
          "v": -0.910155
         },
         {
          "i": 0.00019047574285714028,
          "t": 1.382,
          "v": -0.90958
         },
         {
          "i": 0.00019361022111800985,
          "t": 1.383,
          "v": -0.909088
         },
         {
          "i": 0.00019661174534161226,
          "t": 1.384,
          "v": -0.908588
         },
         {
          "i": 0.00019972057267080478,
          "t": 1.385,
          "v": -0.908021
         },
         {
          "i": 0.00020277844099378611,
          "t": 1.386,
          "v": -0.907655
         },
         {
          "i": 0.00020584005590061838,
          "t": 1.387,
          "v": -0.907113
         },
         {
          "i": 0.00020874392795030777,
          "t": 1.388,
          "v": -0.90648
         },
         {
          "i": 0.0002116424149068295,
          "t": 1.389,
          "v": -0.90613
         },
         {
          "i": 0.00021460487080745053,
          "t": 1.39,
          "v": -0.905605
         },
         {
          "i": 0.00021743977763974865,
          "t": 1.391,
          "v": -0.905055
         },
         {
          "i": 0.0002202154683229784,
          "t": 1.392,
          "v": -0.904571
         },
         {
          "i": 0.00022286096521738832,
          "t": 1.393,
          "v": -0.904046
         },
         {
          "i": 0.0002255110198757734,
          "t": 1.394,
          "v": -0.903588
         },
         {
          "i": 0.00022809254161490375,
          "t": 1.395,
          "v": -0.903055
         },
         {
          "i": 0.0002305462844720466,
          "t": 1.396,
          "v": -0.902513
         },
         {
          "i": 0.00023306297888198445,
          "t": 1.397,
          "v": -0.902105
         },
         {
          "i": 0.0002355498211180093,
          "t": 1.398,
          "v": -0.90158
         },
         {
          "i": 0.0002380404161490651,
          "t": 1.399,
          "v": -0.901013
         },
         {
          "i": 0.00024051857515527627,
          "t": 1.4,
          "v": -0.900596
         },
         {
          "i": 0.0002429911080745309,
          "t": 1.401,
          "v": -0.899988
         },
         {
          "i": 0.0002454903341614874,
          "t": 1.402,
          "v": -0.899571
         },
         {
          "i": 0.00024776161614906497,
          "t": 1.403,
          "v": -0.89908
         },
         {
          "i": 0.0002500457279503072,
          "t": 1.404,
          "v": -0.898513
         },
         {
          "i": 0.000252344771428568,
          "t": 1.405,
          "v": -0.898105
         },
         {
          "i": 0.0002545918322981332,
          "t": 1.406,
          "v": -0.897555
         },
         {
          "i": 0.00025679210931676673,
          "t": 1.407,
          "v": -0.897038
         },
         {
          "i": 0.00025887370434782265,
          "t": 1.408,
          "v": -0.896571
         },
         {
          "i": 0.00026089818385092816,
          "t": 1.409,
          "v": -0.896021
         },
         {
          "i": 0.0002628974198757728,
          "t": 1.41,
          "v": -0.895563
         },
         {
          "i": 0.0002649541701863318,
          "t": 1.411,
          "v": -0.895088
         },
         {
          "i": 0.00026695029813664234,
          "t": 1.412,
          "v": -0.89453
         },
         {
          "i": 0.00026872573291925105,
          "t": 1.413,
          "v": -0.894155
         },
         {
          "i": 0.0002704068086956486,
          "t": 1.414,
          "v": -0.893513
         },
         {
          "i": 0.00027190813416148705,
          "t": 1.415,
          "v": -0.893013
         },
         {
          "i": 0.00027345854534161125,
          "t": 1.416,
          "v": -0.892588
         },
         {
          "i": 0.0002748824521739094,
          "t": 1.417,
          "v": -0.892021
         },
         {
          "i": 0.00027629434409937514,
          "t": 1.418,
          "v": -0.89158
         },
         {
          "i": 0.00027766895900620747,
          "t": 1.419,
          "v": -0.891038
         },
         {
          "i": 0.0002790348919254621,
          "t": 1.42,
          "v": -0.890555
         },
         {
          "i": 0.0002803593838509279,
          "t": 1.421,
          "v": -0.890071
         },
         {
          "i": 0.00028174868695651794,
          "t": 1.422,
          "v": -0.889546
         },
         {
          "i": 0.00028311541863353654,
          "t": 1.423,
          "v": -0.88908
         },
         {
          "i": 0.00028432888322980985,
          "t": 1.424,
          "v": -0.888563
         },
         {
          "i": 0.00028549186708074154,
          "t": 1.425,
          "v": -0.888063
         },
         {
          "i": 0.00028667156770185954,
          "t": 1.426,
          "v": -0.887571
         },
         {
          "i": 0.0002878030869565179,
          "t": 1.427,
          "v": -0.887013
         },
         {
          "i": 0.0002888608347826048,
          "t": 1.428,
          "v": -0.88653
         },
         {
          "i": 0.00028984174658384704,
          "t": 1.429,
          "v": -0.886105
         },
         {
          "i": 0.00029076225341614513,
          "t": 1.43,
          "v": -0.885513
         },
         {
          "i": 0.00029168937267080354,
          "t": 1.431,
          "v": -0.885063
         },
         {
          "i": 0.0002925709652173874,
          "t": 1.432,
          "v": -0.88458
         },
         {
          "i": 0.0002932991627329153,
          "t": 1.433,
          "v": -0.884046
         },
         {
          "i": 0.0002939337378881948,
          "t": 1.434,
          "v": -0.883546
         },
         {
          "i": 0.0002944642186335364,
          "t": 1.435,
          "v": -0.883021
         },
         {
          "i": 0.0002949162161490644,
          "t": 1.436,
          "v": -0.882472
         },
         {
          "i": 0.00029534523354036866,
          "t": 1.437,
          "v": -0.882071
         },
         {
          "i": 0.00029584157391303946,
          "t": 1.438,
          "v": -0.881588
         },
         {
          "i": 0.00029626931428571035,
          "t": 1.439,
          "v": -0.881005
         },
         {
          "i": 0.00029666250559005816,
          "t": 1.44,
          "v": -0.880605
         },
         {
          "i": 0.0002969892186335364,
          "t": 1.441,
          "v": -0.880022
         },
         {
          "i": 0.0002974130919254618,
          "t": 1.442,
          "v": -0.879563
         },
         {
          "i": 0.0002977928099378842,
          "t": 1.443,
          "v": -0.879038
         },
         {
          "i": 0.0002981562037267041,
          "t": 1.444,
          "v": -0.878455
         },
         {
          "i": 0.0002985071192546544,
          "t": 1.445,
          "v": -0.878122
         },
         {
          "i": 0.0002986874124223562,
          "t": 1.446,
          "v": -0.877563
         },
         {
          "i": 0.0002990416322981326,
          "t": 1.447,
          "v": -0.877013
         },
         {
          "i": 0.0002993362211180084,
          "t": 1.448,
          "v": -0.876572
         },
         {
          "i": 0.00029956681366459227,
          "t": 1.449,
          "v": -0.876013
         },
         {
          "i": 0.0002997172695652134,
          "t": 1.45,
          "v": -0.875555
         },
         {
          "i": 0.00029986591925465435,
          "t": 1.451,
          "v": -0.87503
         },
         {
          "i": 0.000300006551552791,
          "t": 1.452,
          "v": -0.874472
         },
         {
          "i": 0.00030001835652173513,
          "t": 1.453,
          "v": -0.874097
         },
         {
          "i": 0.00030004276894409534,
          "t": 1.454,
          "v": -0.87358
         },
         {
          "i": 0.00030000135652173514,
          "t": 1.455,
          "v": -0.873088
         },
         {
          "i": 0.00029992059254657985,
          "t": 1.456,
          "v": -0.872538
         },
         {
          "i": 0.00029985523975154877,
          "t": 1.457,
          "v": -0.872047
         },
         {
          "i": 0.0002996589875776358,
          "t": 1.458,
          "v": -0.871597
         },
         {
          "i": 0.0002995023180124183,
          "t": 1.459,
          "v": -0.871072
         },
         {
          "i": 0.00029933856024844325,
          "t": 1.46,
          "v": -0.870488
         },
         {
          "i": 0.00029909814906831897,
          "t": 1.461,
          "v": -0.870113
         },
         {
          "i": 0.0002987685689440954,
          "t": 1.462,
          "v": -0.869547
         },
         {
          "i": 0.00029844665341614504,
          "t": 1.463,
          "v": -0.869005
         },
         {
          "i": 0.0002981874583850891,
          "t": 1.464,
          "v": -0.868563
         },
         {
          "i": 0.0002978377826086916,
          "t": 1.465,
          "v": -0.867997
         },
         {
          "i": 0.00029750902111800844,
          "t": 1.466,
          "v": -0.867538
         },
         {
          "i": 0.0002972141565217351,
          "t": 1.467,
          "v": -0.866997
         },
         {
          "i": 0.00029686545714285314,
          "t": 1.468,
          "v": -0.866463
         },
         {
          "i": 0.0002965848857142817,
          "t": 1.469,
          "v": -0.86603
         },
         {
          "i": 0.0002962009962732879,
          "t": 1.47,
          "v": -0.865563
         },
         {
          "i": 0.00029578026583850533,
          "t": 1.471,
          "v": -0.865005
         },
         {
          "i": 0.0002953237130434743,
          "t": 1.472,
          "v": -0.864505
         },
         {
          "i": 0.00029488356645962336,
          "t": 1.473,
          "v": -0.863988
         },
         {
          "i": 0.0002943564447204929,
          "t": 1.474,
          "v": -0.863497
         },
         {
          "i": 0.0002937663391304308,
          "t": 1.475,
          "v": -0.863022
         },
         {
          "i": 0.00029333190062111406,
          "t": 1.476,
          "v": -0.862438
         },
         {
          "i": 0.0002927472223602445,
          "t": 1.477,
          "v": -0.86203
         },
         {
          "i": 0.00029219649192546195,
          "t": 1.478,
          "v": -0.861489
         },
         {
          "i": 0.0002917576360248408,
          "t": 1.479,
          "v": -0.860947
         },
         {
          "i": 0.00029113010931676626,
          "t": 1.48,
          "v": -0.860555
         },
         {
          "i": 0.00029052407577639364,
          "t": 1.481,
          "v": -0.859989
         },
         {
          "i": 0.00028990065714285326,
          "t": 1.482,
          "v": -0.859447
         },
         {
          "i": 0.00028925340993788437,
          "t": 1.483,
          "v": -0.859022
         },
         {
          "i": 0.0002885858745341576,
          "t": 1.484,
          "v": -0.858547
         },
         {
          "i": 0.00028794794906831915,
          "t": 1.485,
          "v": -0.858014
         },
         {
          "i": 0.0002872456124223564,
          "t": 1.486,
          "v": -0.857522
         },
         {
          "i": 0.0002865019006211142,
          "t": 1.487,
          "v": -0.85693
         },
         {
          "i": 0.0002857571167701825,
          "t": 1.488,
          "v": -0.856555
         },
         {
          "i": 0.0002850647118012384,
          "t": 1.489,
          "v": -0.856022
         },
         {
          "i": 0.0002843295267080707,
          "t": 1.49,
          "v": -0.85553
         },
         {
          "i": 0.0002835709378881949,
          "t": 1.491,
          "v": -0.855022
         },
         {
          "i": 0.0002828218062111763,
          "t": 1.492,
          "v": -0.854455
         },
         {
          "i": 0.00028209819006210803,
          "t": 1.493,
          "v": -0.854089
         },
         {
          "i": 0.0002812012534161453,
          "t": 1.494,
          "v": -0.853539
         },
         {
          "i": 0.0002804198447204931,
          "t": 1.495,
          "v": -0.853022
         },
         {
          "i": 0.0002796560012422323,
          "t": 1.496,
          "v": -0.852589
         },
         {
          "i": 0.00027889346335403353,
          "t": 1.497,
          "v": -0.852022
         },
         {
          "i": 0.0002781977763975118,
          "t": 1.498,
          "v": -0.851497
         },
         {
          "i": 0.00027737129068322613,
          "t": 1.499,
          "v": -0.851039
         },
         {
          "i": 0.0002767737900621081,
          "t": 1.5,
          "v": -0.850505
         },
         {
          "i": 0.000276018735403723,
          "t": 1.501,
          "v": -0.85003
         },
         {
          "i": 0.0002750950683229777,
          "t": 1.502,
          "v": -0.849522
         },
         {
          "i": 0.0002742262807453379,
          "t": 1.503,
          "v": -0.848972
         },
         {
          "i": 0.0002732897888198721,
          "t": 1.504,
          "v": -0.848564
         },
         {
          "i": 0.00027238913043477897,
          "t": 1.505,
          "v": -0.848047
         },
         {
          "i": 0.00027144352546583486,
          "t": 1.506,
          "v": -0.847572
         },
         {
          "i": 0.00027053480993788456,
          "t": 1.507,
          "v": -0.847047
         },
         {
          "i": 0.00026962644223602126,
          "t": 1.508,
          "v": -0.846497
         },
         {
          "i": 0.00026870713416148707,
          "t": 1.509,
          "v": -0.846089
         },
         {
          "i": 0.00026777150434782255,
          "t": 1.51,
          "v": -0.845547
         },
         {
          "i": 0.00026684894534161134,
          "t": 1.511,
          "v": -0.845022
         },
         {
          "i": 0.0002659915726708039,
          "t": 1.512,
          "v": -0.844597
         },
         {
          "i": 0.000265215976397512,
          "t": 1.513,
          "v": -0.843989
         },
         {
          "i": 0.00026438984099378526,
          "t": 1.514,
          "v": -0.843522
         },
         {
          "i": 0.00026364467453415797,
          "t": 1.515,
          "v": -0.843014
         },
         {
          "i": 0.00026275685962732565,
          "t": 1.516,
          "v": -0.842472
         },
         {
          "i": 0.0002619106099378847,
          "t": 1.517,
          "v": -0.842039
         },
         {
          "i": 0.00026108223229813314,
          "t": 1.518,
          "v": -0.841531
         },
         {
          "i": 0.00026020893540372323,
          "t": 1.519,
          "v": -0.841022
         },
         {
          "i": 0.00025926477142856793,
          "t": 1.52,
          "v": -0.840547
         },
         {
          "i": 0.0002583100956521704,
          "t": 1.521,
          "v": -0.840006
         },
         {
          "i": 0.0002573738074534127,
          "t": 1.522,
          "v": -0.839522
         },
         {
          "i": 0.0002562495416149034,
          "t": 1.523,
          "v": -0.839022
         },
         {
          "i": 0.0002553463826086922,
          "t": 1.524,
          "v": -0.838464
         },
         {
          "i": 0.00025441260869564877,
          "t": 1.525,
          "v": -0.838122
         },
         {
          "i": 0.00025345958260869223,
          "t": 1.526,
          "v": -0.837531
         },
         {
          "i": 0.00025255561242235687,
          "t": 1.527,
          "v": -0.836972
         },
         {
          "i": 0.0002515891229813631,
          "t": 1.528,
          "v": -0.836572
         },
         {
          "i": 0.0002505718633540339,
          "t": 1.529,
          "v": -0.835989
         },
         {
          "i": 0.0002496476074534128,
          "t": 1.53,
          "v": -0.835514
         },
         {
          "i": 0.0002486937453416116,
          "t": 1.531,
          "v": -0.834989
         },
         {
          "i": 0.0002477361950310526,
          "t": 1.532,
          "v": -0.834514
         },
         {
          "i": 0.000246858566459624,
          "t": 1.533,
          "v": -0.833997
         },
         {
          "i": 0.00024611405217390975,
          "t": 1.534,
          "v": -0.833489
         },
         {
          "i": 0.0002453130335403694,
          "t": 1.535,
          "v": -0.833006
         },
         {
          "i": 0.00024455064596272966,
          "t": 1.536,
          "v": -0.832539
         },
         {
          "i": 0.00024378308571428245,
          "t": 1.537,
          "v": -0.832014
         },
         {
          "i": 0.00024293563850931351,
          "t": 1.538,
          "v": -0.831506
         },
         {
          "i": 0.00024204304347825762,
          "t": 1.539,
          "v": -0.831039
         },
         {
          "i": 0.0002412616770186303,
          "t": 1.54,
          "v": -0.830464
         },
         {
          "i": 0.00024039146956521417,
          "t": 1.541,
          "v": -0.830081
         },
         {
          "i": 0.00023951673913043156,
          "t": 1.542,
          "v": -0.829506
         },
         {
          "i": 0.00023861903478260548,
          "t": 1.543,
          "v": -0.828964
         },
         {
          "i": 0.00023777157267080426,
          "t": 1.544,
          "v": -0.828589
         },
         {
          "i": 0.00023695002111800924,
          "t": 1.545,
          "v": -0.828047
         },
         {
          "i": 0.00023618101863353723,
          "t": 1.546,
          "v": -0.827572
         },
         {
          "i": 0.00023526693913043163,
          "t": 1.547,
          "v": -0.827072
         },
         {
          "i": 0.00023438823478260558,
          "t": 1.548,
          "v": -0.826439
         },
         {
          "i": 0.0002334997552795,
          "t": 1.549,
          "v": -0.826089
         },
         {
          "i": 0.00023263515652173603,
          "t": 1.55,
          "v": -0.825539
         },
         {
          "i": 0.00023171173416148758,
          "t": 1.551,
          "v": -0.825006
         },
         {
          "i": 0.00023084133540372362,
          "t": 1.552,
          "v": -0.824572
         },
         {
          "i": 0.000229926006211177,
          "t": 1.553,
          "v": -0.824006
         },
         {
          "i": 0.00022899574285713977,
          "t": 1.554,
          "v": -0.823547
         },
         {
          "i": 0.00022818395155279199,
          "t": 1.555,
          "v": -0.823064
         },
         {
          "i": 0.00022731036894409635,
          "t": 1.556,
          "v": -0.822514
         },
         {
          "i": 0.00022645793416148762,
          "t": 1.557,
          "v": -0.822097
         },
         {
          "i": 0.0002256899316770156,
          "t": 1.558,
          "v": -0.821572
         },
         {
          "i": 0.00022479255403726406,
          "t": 1.559,
          "v": -0.821014
         },
         {
          "i": 0.00022395835900620816,
          "t": 1.56,
          "v": -0.820622
         },
         {
          "i": 0.00022306266708074234,
          "t": 1.561,
          "v": -0.820014
         },
         {
          "i": 0.00022230550683229516,
          "t": 1.562,
          "v": -0.819606
         },
         {
          "i": 0.0002214487751552765,
          "t": 1.563,
          "v": -0.819031
         },
         {
          "i": 0.00022058856521738832,
          "t": 1.564,
          "v": -0.818489
         },
         {
          "i": 0.0002197135925465809,
          "t": 1.565,
          "v": -0.818089
         },
         {
          "i": 0.0002188799664596244,
          "t": 1.566,
          "v": -0.817564
         },
         {
          "i": 0.0002180509416149039,
          "t": 1.567,
          "v": -0.816956
         },
         {
          "i": 0.0002173136484472021,
          "t": 1.568,
          "v": -0.816581
         },
         {
          "i": 0.00021656957267080453,
          "t": 1.569,
          "v": -0.816031
         },
         {
          "i": 0.00021587821987577348,
          "t": 1.57,
          "v": -0.815514
         },
         {
          "i": 0.00021516081490682937,
          "t": 1.571,
          "v": -0.815031
         },
         {
          "i": 0.00021442106956521452,
          "t": 1.572,
          "v": -0.814523
         },
         {
          "i": 0.0002138055093167673,
          "t": 1.573,
          "v": -0.814064
         },
         {
          "i": 0.0002130590633540344,
          "t": 1.574,
          "v": -0.813473
         },
         {
          "i": 0.00021246277267080458,
          "t": 1.575,
          "v": -0.813006
         },
         {
          "i": 0.00021190311801241952,
          "t": 1.576,
          "v": -0.812623
         },
         {
          "i": 0.00021134307577639467,
          "t": 1.577,
          "v": -0.811998
         },
         {
          "i": 0.00021064111801241952,
          "t": 1.578,
          "v": -0.811556
         },
         {
          "i": 0.00020992887453415867,
          "t": 1.579,
          "v": -0.811073
         },
         {
          "i": 0.00020924039378881706,
          "t": 1.58,
          "v": -0.810456
         },
         {
          "i": 0.00020850577639751274,
          "t": 1.581,
          "v": -0.810023
         },
         {
          "i": 0.0002078448832298109,
          "t": 1.582,
          "v": -0.809539
         },
         {
          "i": 0.00020714152422359968,
          "t": 1.583,
          "v": -0.809023
         },
         {
          "i": 0.0002065247142857115,
          "t": 1.584,
          "v": -0.808548
         },
         {
          "i": 0.0002057370981366432,
          "t": 1.585,
          "v": -0.808006
         },
         {
          "i": 0.00020497329440993513,
          "t": 1.586,
          "v": -0.807548
         },
         {
          "i": 0.00020418318136645688,
          "t": 1.587,
          "v": -0.807014
         },
         {
          "i": 0.00020339059378881712,
          "t": 1.588,
          "v": -0.806556
         },
         {
          "i": 0.00020262927204968672,
          "t": 1.589,
          "v": -0.806123
         },
         {
          "i": 0.0002018638496894383,
          "t": 1.59,
          "v": -0.805598
         },
         {
          "i": 0.00020107299378881714,
          "t": 1.591,
          "v": -0.805023
         },
         {
          "i": 0.00020033735403726435,
          "t": 1.592,
          "v": -0.804564
         },
         {
          "i": 0.00019957340993788554,
          "t": 1.593,
          "v": -0.804023
         },
         {
          "i": 0.00019882516521738865,
          "t": 1.594,
          "v": -0.803664
         },
         {
          "i": 0.0001982605478260843,
          "t": 1.595,
          "v": -0.803081
         },
         {
          "i": 0.00019752058012422098,
          "t": 1.596,
          "v": -0.802473
         },
         {
          "i": 0.0001969149875776371,
          "t": 1.597,
          "v": -0.802089
         },
         {
          "i": 0.0001962039863354011,
          "t": 1.598,
          "v": -0.801498
         },
         {
          "i": 0.00019549626335403462,
          "t": 1.599,
          "v": -0.800998
         },
         {
          "i": 0.00019475729440993528,
          "t": 1.6,
          "v": -0.800548
         },
         {
          "i": 0.00019404281739130176,
          "t": 1.601,
          "v": -0.800006
         },
         {
          "i": 0.00019338916770186075,
          "t": 1.602,
          "v": -0.799531
         },
         {
          "i": 0.00019270154906832036,
          "t": 1.603,
          "v": -0.799023
         },
         {
          "i": 0.00019209738757763715,
          "t": 1.604,
          "v": -0.798506
         },
         {
          "i": 0.00019146070559005956,
          "t": 1.605,
          "v": -0.798106
         },
         {
          "i": 0.0001908993888198732,
          "t": 1.606,
          "v": -0.797523
         },
         {
          "i": 0.00019022542981366204,
          "t": 1.607,
          "v": -0.796973
         },
         {
          "i": 0.00018966286583850674,
          "t": 1.608,
          "v": -0.796581
         },
         {
          "i": 0.00018909373043478003,
          "t": 1.609,
          "v": -0.796023
         },
         {
          "i": 0.00018859411925465584,
          "t": 1.61,
          "v": -0.795556
         },
         {
          "i": 0.00018805243975155025,
          "t": 1.611,
          "v": -0.795048
         },
         {
          "i": 0.0001874427204968919,
          "t": 1.612,
          "v": -0.79449
         },
         {
          "i": 0.0001869522459627304,
          "t": 1.613,
          "v": -0.794081
         },
         {
          "i": 0.00018629817515527703,
          "t": 1.614,
          "v": -0.793573
         },
         {
          "i": 0.00018565407826086707,
          "t": 1.615,
          "v": -0.793015
         },
         {
          "i": 0.0001850679701863329,
          "t": 1.616,
          "v": -0.792598
         },
         {
          "i": 0.0001844815937888174,
          "t": 1.617,
          "v": -0.792023
         },
         {
          "i": 0.00018382378136645716,
          "t": 1.618,
          "v": -0.791606
         },
         {
          "i": 0.00018305171055900375,
          "t": 1.619,
          "v": -0.79104
         },
         {
          "i": 0.00018230983478260623,
          "t": 1.62,
          "v": -0.790481
         },
         {
          "i": 0.00018171667950310315,
          "t": 1.621,
          "v": -0.790106
         },
         {
          "i": 0.00018107980248446961,
          "t": 1.622,
          "v": -0.789581
         },
         {
          "i": 0.0001804042012422336,
          "t": 1.623,
          "v": -0.78904
         },
         {
          "i": 0.0001797470447204945,
          "t": 1.624,
          "v": -0.788606
         },
         {
          "i": 0.0001791167788819852,
          "t": 1.625,
          "v": -0.78799
         },
         {
          "i": 0.00017852444099378644,
          "t": 1.626,
          "v": -0.787556
         },
         {
          "i": 0.0001778879739130411,
          "t": 1.627,
          "v": -0.78704
         },
         {
          "i": 0.00017737763354037028,
          "t": 1.628,
          "v": -0.78654
         },
         {
          "i": 0.00017683450683229576,
          "t": 1.629,
          "v": -0.786073
         },
         {
          "i": 0.00017639495776397278,
          "t": 1.63,
          "v": -0.785556
         },
         {
          "i": 0.00017594441614906595,
          "t": 1.631,
          "v": -0.78504
         },
         {
          "i": 0.00017545536397515292,
          "t": 1.632,
          "v": -0.784523
         },
         {
          "i": 0.00017497686086956284,
          "t": 1.633,
          "v": -0.78404
         },
         {
          "i": 0.00017443378881987342,
          "t": 1.634,
          "v": -0.783548
         },
         {
          "i": 0.00017399111552794796,
          "t": 1.635,
          "v": -0.783023
         },
         {
          "i": 0.00017348158881987346,
          "t": 1.636,
          "v": -0.782565
         },
         {
          "i": 0.0001730420459627306,
          "t": 1.637,
          "v": -0.782106
         },
         {
          "i": 0.00017255452049689206,
          "t": 1.638,
          "v": -0.781531
         },
         {
          "i": 0.00017199795279502873,
          "t": 1.639,
          "v": -0.781023
         },
         {
          "i": 0.00017134763105589832,
          "t": 1.64,
          "v": -0.780573
         },
         {
          "i": 0.00017074905341614676,
          "t": 1.641,
          "v": -0.780073
         },
         {
          "i": 0.0001702556099378859,
          "t": 1.642,
          "v": -0.779573
         },
         {
          "i": 0.00016972249565217162,
          "t": 1.643,
          "v": -0.779031
         },
         {
          "i": 0.00016912120621117785,
          "t": 1.644,
          "v": -0.778465
         },
         {
          "i": 0.00016852139627328964,
          "t": 1.645,
          "v": -0.778181
         },
         {
          "i": 0.00016797085962732693,
          "t": 1.646,
          "v": -0.777623
         },
         {
          "i": 0.00016740782981366237,
          "t": 1.647,
          "v": -0.77694
         },
         {
          "i": 0.00016688337142856918,
          "t": 1.648,
          "v": -0.776556
         },
         {
          "i": 0.00016641875031055679,
          "t": 1.649,
          "v": -0.776031
         },
         {
          "i": 0.00016589467950310337,
          "t": 1.65,
          "v": -0.775523
         },
         {
          "i": 0.00016542587701863132,
          "t": 1.651,
          "v": -0.774998
         },
         {
          "i": 0.00016503210807453192,
          "t": 1.652,
          "v": -0.774523
         },
         {
          "i": 0.0001645436509316748,
          "t": 1.653,
          "v": -0.774123
         },
         {
          "i": 0.00016409273043478038,
          "t": 1.654,
          "v": -0.773531
         },
         {
          "i": 0.00016375789192546363,
          "t": 1.655,
          "v": -0.772998
         },
         {
          "i": 0.00016323924223602264,
          "t": 1.656,
          "v": -0.772565
         },
         {
          "i": 0.0001628021291925444,
          "t": 1.657,
          "v": -0.772048
         },
         {
          "i": 0.0001623944335403705,
          "t": 1.658,
          "v": -0.771632
         },
         {
          "i": 0.00016187579130434563,
          "t": 1.659,
          "v": -0.771115
         },
         {
          "i": 0.0001612726782608674,
          "t": 1.66,
          "v": -0.770557
         },
         {
          "i": 0.00016067240496894195,
          "t": 1.661,
          "v": -0.770048
         },
         {
          "i": 0.0001600413465838488,
          "t": 1.662,
          "v": -0.769573
         },
         {
          "i": 0.00015951854658384878,
          "t": 1.663,
          "v": -0.769082
         },
         {
          "i": 0.00015896242732919038,
          "t": 1.664,
          "v": -0.768573
         },
         {
          "i": 0.00015838624968943888,
          "t": 1.665,
          "v": -0.768023
         },
         {
          "i": 0.00015791749689440782,
          "t": 1.666,
          "v": -0.767548
         },
         {
          "i": 0.00015742845962732707,
          "t": 1.667,
          "v": -0.76699
         },
         {
          "i": 0.00015694605217391093,
          "t": 1.668,
          "v": -0.766457
         },
         {
          "i": 0.00015648166086956313,
          "t": 1.669,
          "v": -0.766057
         },
         {
          "i": 0.00015618934906832084,
          "t": 1.67,
          "v": -0.765548
         },
         {
          "i": 0.0001558637242236004,
          "t": 1.671,
          "v": -0.765015
         },
         {
          "i": 0.00015537697267080537,
          "t": 1.672,
          "v": -0.764532
         },
         {
          "i": 0.00015507211055900414,
          "t": 1.673,
          "v": -0.763998
         },
         {
          "i": 0.00015472784596273084,
          "t": 1.674,
          "v": -0.763465
         },
         {
          "i": 0.00015430487701863146,
          "t": 1.675,
          "v": -0.763007
         },
         {
          "i": 0.00015396286583850726,
          "t": 1.676,
          "v": -0.762473
         },
         {
          "i": 0.0001536023726708054,
          "t": 1.677,
          "v": -0.76204
         },
         {
          "i": 0.00015310340248447,
          "t": 1.678,
          "v": -0.761515
         },
         {
          "i": 0.0001526772720496874,
          "t": 1.679,
          "v": -0.761032
         },
         {
          "i": 0.00015222859006210976,
          "t": 1.68,
          "v": -0.760557
         },
         {
          "i": 0.00015165945465838308,
          "t": 1.681,
          "v": -0.760023
         },
         {
          "i": 0.00015113827329192342,
          "t": 1.682,
          "v": -0.759482
         },
         {
          "i": 0.00015067714285714082,
          "t": 1.683,
          "v": -0.758973
         },
         {
          "i": 0.00015020797515527748,
          "t": 1.684,
          "v": -0.758457
         },
         {
          "i": 0.00014971511180124022,
          "t": 1.685,
          "v": -0.758057
         },
         {
          "i": 0.00014925667329192344,
          "t": 1.686,
          "v": -0.75754
         },
         {
          "i": 0.00014883674037266884,
          "t": 1.687,
          "v": -0.756998
         },
         {
          "i": 0.0001484459900621098,
          "t": 1.688,
          "v": -0.756557
         },
         {
          "i": 0.0001480113652173893,
          "t": 1.689,
          "v": -0.756007
         },
         {
          "i": 0.00014757924347825888,
          "t": 1.69,
          "v": -0.755498
         },
         {
          "i": 0.00014728421863353838,
          "t": 1.691,
          "v": -0.755032
         },
         {
          "i": 0.00014708880869565018,
          "t": 1.692,
          "v": -0.754457
         },
         {
          "i": 0.0001467695590062092,
          "t": 1.693,
          "v": -0.75409
         },
         {
          "i": 0.0001464374782608676,
          "t": 1.694,
          "v": -0.753574
         },
         {
          "i": 0.0001462550931676999,
          "t": 1.695,
          "v": -0.75294
         },
         {
          "i": 0.00014594967204968747,
          "t": 1.696,
          "v": -0.752565
         },
         {
          "i": 0.00014563688198757568,
          "t": 1.697,
          "v": -0.752015
         },
         {
          "i": 0.00014539012546583655,
          "t": 1.698,
          "v": -0.751582
         },
         {
          "i": 0.0001451563925465819,
          "t": 1.699,
          "v": -0.751024
         },
         {
          "i": 0.00014482699875776204,
          "t": 1.7,
          "v": -0.750474
         },
         {
          "i": 0.0001445170422360229,
          "t": 1.701,
          "v": -0.750099
         },
         {
          "i": 0.00014414993664596082,
          "t": 1.702,
          "v": -0.749474
         },
         {
          "i": 0.0001437451714285695,
          "t": 1.703,
          "v": -0.748982
         },
         {
          "i": 0.0001433617006211161,
          "t": 1.704,
          "v": -0.748599
         },
         {
          "i": 0.00014292169565217197,
          "t": 1.705,
          "v": -0.748015
         },
         {
          "i": 0.00014254088447204777,
          "t": 1.706,
          "v": -0.747574
         },
         {
          "i": 0.00014207023354037077,
          "t": 1.707,
          "v": -0.747032
         },
         {
          "i": 0.00014164433664596082,
          "t": 1.708,
          "v": -0.746457
         },
         {
          "i": 0.00014122563354037075,
          "t": 1.709,
          "v": -0.746024
         },
         {
          "i": 0.00014080319627329002,
          "t": 1.71,
          "v": -0.745557
         },
         {
          "i": 0.0001403273552795012,
          "t": 1.711,
          "v": -0.744957
         },
         {
          "i": 0.00013990019130434594,
          "t": 1.712,
          "v": -0.744565
         },
         {
          "i": 0.00013958550807453227,
          "t": 1.713,
          "v": -0.744007
         },
         {
          "i": 0.00013929437267080558,
          "t": 1.714,
          "v": -0.743549
         },
         {
          "i": 0.0001389024335403708,
          "t": 1.715,
          "v": -0.743057
         },
         {
          "i": 0.00013866600621117826,
          "t": 1.716,
          "v": -0.742482
         },
         {
          "i": 0.00013837117639751368,
          "t": 1.717,
          "v": -0.742107
         },
         {
          "i": 0.00013800268571428385,
          "t": 1.718,
          "v": -0.741582
         },
         {
          "i": 0.00013770023602484286,
          "t": 1.719,
          "v": -0.74094
         },
         {
          "i": 0.00013741702857142675,
          "t": 1.72,
          "v": -0.740565
         },
         {
          "i": 0.00013700414906832114,
          "t": 1.721,
          "v": -0.73999
         },
         {
          "i": 0.0001365728819875758,
          "t": 1.722,
          "v": -0.739565
         },
         {
          "i": 0.00013614141987577455,
          "t": 1.723,
          "v": -0.739032
         },
         {
          "i": 0.0001356753950310541,
          "t": 1.724,
          "v": -0.73849
         },
         {
          "i": 0.0001352242472049671,
          "t": 1.725,
          "v": -0.737999
         },
         {
          "i": 0.00013475529192546402,
          "t": 1.726,
          "v": -0.737482
         },
         {
          "i": 0.00013440143975155099,
          "t": 1.727,
          "v": -0.737024
         },
         {
          "i": 0.00013406434782608514,
          "t": 1.728,
          "v": -0.736515
         },
         {
          "i": 0.00013359189689440815,
          "t": 1.729,
          "v": -0.736015
         },
         {
          "i": 0.00013314298012422182,
          "t": 1.73,
          "v": -0.735557
         },
         {
          "i": 0.0001328006993788802,
          "t": 1.731,
          "v": -0.735032
         },
         {
          "i": 0.0001324277440993771,
          "t": 1.732,
          "v": -0.734515
         },
         {
          "i": 0.00013209889192546408,
          "t": 1.733,
          "v": -0.734074
         },
         {
          "i": 0.00013182061490683053,
          "t": 1.734,
          "v": -0.733532
         },
         {
          "i": 0.00013160322236024666,
          "t": 1.735,
          "v": -0.733032
         },
         {
          "i": 0.00013132057515527774,
          "t": 1.736,
          "v": -0.732582
         },
         {
          "i": 0.00013106487701863178,
          "t": 1.737,
          "v": -0.731991
         },
         {
          "i": 0.0001309199527950293,
          "t": 1.738,
          "v": -0.731516
         },
         {
          "i": 0.0001305715080745324,
          "t": 1.739,
          "v": -0.731007
         },
         {
          "i": 0.00013031435031055725,
          "t": 1.74,
          "v": -0.730532
         },
         {
          "i": 0.0001300304670807436,
          "t": 1.741,
          "v": -0.730041
         },
         {
          "i": 0.00012974394534161318,
          "t": 1.742,
          "v": -0.729557
         },
         {
          "i": 0.00012935616397515354,
          "t": 1.743,
          "v": -0.728941
         },
         {
          "i": 0.00012910280496894239,
          "t": 1.744,
          "v": -0.728599
         },
         {
          "i": 0.00012876388819875603,
          "t": 1.745,
          "v": -0.728049
         },
         {
          "i": 0.00012840596894409765,
          "t": 1.746,
          "v": -0.727574
         },
         {
          "i": 0.00012800639999999827,
          "t": 1.747,
          "v": -0.727007
         },
         {
          "i": 0.00012769044968943927,
          "t": 1.748,
          "v": -0.726457
         },
         {
          "i": 0.00012734862981366287,
          "t": 1.749,
          "v": -0.726116
         },
         {
          "i": 0.00012694530186335235,
          "t": 1.75,
          "v": -0.725582
         },
         {
          "i": 0.0001265558708074517,
          "t": 1.751,
          "v": -0.725024
         },
         {
          "i": 0.00012617387329192376,
          "t": 1.752,
          "v": -0.724582
         },
         {
          "i": 0.00012594371055900454,
          "t": 1.753,
          "v": -0.723991
         },
         {
          "i": 0.00012564327826086787,
          "t": 1.754,
          "v": -0.723532
         },
         {
          "i": 0.0001253753652173896,
          "t": 1.755,
          "v": -0.723041
         },
         {
          "i": 0.00012512365962732752,
          "t": 1.756,
          "v": -0.722499
         },
         {
          "i": 0.00012493340745341446,
          "t": 1.757,
          "v": -0.722107
         },
         {
          "i": 0.00012459179130434617,
          "t": 1.758,
          "v": -0.721549
         },
         {
          "i": 0.00012436794658384926,
          "t": 1.759,
          "v": -0.720982
         },
         {
          "i": 0.00012411658633540207,
          "t": 1.76,
          "v": -0.720524
         },
         {
          "i": 0.00012385316894409772,
          "t": 1.761,
          "v": -0.720041
         },
         {
          "i": 0.0001237365726708058,
          "t": 1.762,
          "v": -0.719566
         },
         {
          "i": 0.00012353920124223437,
          "t": 1.763,
          "v": -0.719091
         },
         {
          "i": 0.00012333874906832133,
          "t": 1.764,
          "v": -0.718499
         },
         {
          "i": 0.0001232411776397499,
          "t": 1.765,
          "v": -0.718066
         },
         {
          "i": 0.00012304072546583686,
          "t": 1.766,
          "v": -0.717524
         },
         {
          "i": 0.0001228297068322965,
          "t": 1.767,
          "v": -0.717074
         },
         {
          "i": 0.00012259200124223438,
          "t": 1.768,
          "v": -0.716591
         },
         {
          "i": 0.0001223459664596257,
          "t": 1.769,
          "v": -0.716007
         },
         {
          "i": 0.0001220970211180108,
          "t": 1.77,
          "v": -0.715532
         },
         {
          "i": 0.0001218433565217375,
          "t": 1.771,
          "v": -0.715032
         },
         {
          "i": 0.0001215799714285698,
          "t": 1.772,
          "v": -0.714499
         },
         {
          "i": 0.000121262130434781,
          "t": 1.773,
          "v": -0.714107
         },
         {
          "i": 0.00012097869937888035,
          "t": 1.774,
          "v": -0.713557
         },
         {
          "i": 0.00012072672049689279,
          "t": 1.775,
          "v": -0.712982
         },
         {
          "i": 0.00012043848322981206,
          "t": 1.776,
          "v": -0.712524
         },
         {
          "i": 0.00012008112919254496,
          "t": 1.777,
          "v": -0.711966
         },
         {
          "i": 0.00011978425714285554,
          "t": 1.778,
          "v": -0.711474
         },
         {
          "i": 0.00011943459751552635,
          "t": 1.779,
          "v": -0.711024
         },
         {
          "i": 0.00011905055776397355,
          "t": 1.78,
          "v": -0.710541
         },
         {
          "i": 0.00011870603354037107,
          "t": 1.781,
          "v": -0.710091
         },
         {
          "i": 0.00011836237888198598,
          "t": 1.782,
          "v": -0.709566
         },
         {
          "i": 0.00011798349068322823,
          "t": 1.783,
          "v": -0.708982
         },
         {
          "i": 0.00011769904596273135,
          "t": 1.784,
          "v": -0.708549
         },
         {
          "i": 0.00011736221739130277,
          "t": 1.785,
          "v": -0.708016
         },
         {
          "i": 0.00011709912670807296,
          "t": 1.786,
          "v": -0.707541
         },
         {
          "i": 0.00011689151180124067,
          "t": 1.787,
          "v": -0.707016
         },
         {
          "i": 0.0001164905130434767,
          "t": 1.788,
          "v": -0.706508
         },
         {
          "i": 0.00011622695403726552,
          "t": 1.789,
          "v": -0.706041
         },
         {
          "i": 0.00011590930683229657,
          "t": 1.79,
          "v": -0.705499
         },
         {
          "i": 0.00011559830434782452,
          "t": 1.791,
          "v": -0.705024
         },
         {
          "i": 0.0001154115180124208,
          "t": 1.792,
          "v": -0.704524
         },
         {
          "i": 0.00011524397888198603,
          "t": 1.793,
          "v": -0.703983
         },
         {
          "i": 0.00011499071801242082,
          "t": 1.794,
          "v": -0.703566
         },
         {
          "i": 0.00011470761863353883,
          "t": 1.795,
          "v": -0.703091
         },
         {
          "i": 0.00011459142111801087,
          "t": 1.796,
          "v": -0.702491
         },
         {
          "i": 0.00011439946583850777,
          "t": 1.797,
          "v": -0.702083
         },
         {
          "i": 0.00011418805093167549,
          "t": 1.798,
          "v": -0.701566
         },
         {
          "i": 0.00011398534409937734,
          "t": 1.799,
          "v": -0.700983
         },
         {
          "i": 0.000113829027329191,
          "t": 1.8,
          "v": -0.700616
         },
         {
          "i": 0.0001136212161490668,
          "t": 1.801,
          "v": -0.700049
         },
         {
          "i": 0.00011350609440993635,
          "t": 1.802,
          "v": -0.699508
         },
         {
          "i": 0.000113222026086955,
          "t": 1.803,
          "v": -0.699024
         },
         {
          "i": 0.00011298623975155127,
          "t": 1.804,
          "v": -0.698533
         },
         {
          "i": 0.00011283217142856991,
          "t": 1.805,
          "v": -0.697999
         },
         {
          "i": 0.0001128078062111786,
          "t": 1.806,
          "v": -0.697483
         },
         {
          "i": 0.00011263475279502954,
          "t": 1.807,
          "v": -0.696991
         },
         {
          "i": 0.00011253578633540222,
          "t": 1.808,
          "v": -0.696549
         },
         {
          "i": 0.00011220868074534011,
          "t": 1.809,
          "v": -0.696041
         },
         {
          "i": 0.00011196621863353888,
          "t": 1.81,
          "v": -0.695491
         },
         {
          "i": 0.0001117202447204954,
          "t": 1.811,
          "v": -0.695016
         },
         {
          "i": 0.00011152620124223454,
          "t": 1.812,
          "v": -0.694466
         },
         {
          "i": 0.00011134276024844572,
          "t": 1.813,
          "v": -0.694058
         },
         {
          "i": 0.00011114437763975006,
          "t": 1.814,
          "v": -0.693616
         },
         {
          "i": 0.00011087709440993639,
          "t": 1.815,
          "v": -0.692991
         },
         {
          "i": 0.00011057646832297988,
          "t": 1.816,
          "v": -0.692591
         },
         {
          "i": 0.00011029198260869418,
          "t": 1.817,
          "v": -0.692016
         },
         {
          "i": 0.00011009526583850785,
          "t": 1.818,
          "v": -0.691524
         },
         {
          "i": 0.00010988035031055755,
          "t": 1.819,
          "v": -0.691083
         },
         {
          "i": 0.00010966809316770038,
          "t": 1.82,
          "v": -0.690475
         },
         {
          "i": 0.00010952195279502958,
          "t": 1.821,
          "v": -0.690075
         },
         {
          "i": 0.00010934699999999852,
          "t": 1.822,
          "v": -0.689574
         },
         {
          "i": 0.00010913317763975009,
          "t": 1.823,
          "v": -0.689025
         },
         {
          "i": 0.00010902367701863208,
          "t": 1.824,
          "v": -0.688591
         },
         {
          "i": 0.00010881601366459483,
          "t": 1.825,
          "v": -0.688033
         },
         {
          "i": 0.00010869821490683084,
          "t": 1.826,
          "v": -0.687583
         },
         {
          "i": 0.00010860731304347681,
          "t": 1.827,
          "v": -0.687025
         },
         {
          "i": 0.00010855026211179978,
          "t": 1.828,
          "v": -0.686516
         },
         {
          "i": 0.00010830743354037121,
          "t": 1.829,
          "v": -0.686125
         },
         {
          "i": 0.00010808651552794886,
          "t": 1.83,
          "v": -0.685533
         },
         {
          "i": 0.00010774285093167559,
          "t": 1.831,
          "v": -0.685008
         },
         {
          "i": 0.00010757783602484327,
          "t": 1.832,
          "v": -0.684558
         },
         {
          "i": 0.00010732316521738986,
          "t": 1.833,
          "v": -0.684008
         },
         {
          "i": 0.00010703347950310414,
          "t": 1.834,
          "v": -0.6835
         },
         {
          "i": 0.00010681009937888055,
          "t": 1.835,
          "v": -0.683025
         },
         {
          "i": 0.00010647652298136504,
          "t": 1.836,
          "v": -0.682508
         },
         {
          "i": 0.00010625833167701719,
          "t": 1.837,
          "v": -0.682016
         },
         {
          "i": 0.00010597362236024703,
          "t": 1.838,
          "v": -0.681558
         },
         {
          "i": 0.00010574953540372528,
          "t": 1.839,
          "v": -0.681016
         },
         {
          "i": 0.0001055380472049675,
          "t": 1.84,
          "v": -0.680558
         },
         {
          "i": 0.00010534382732919113,
          "t": 1.841,
          "v": -0.680033
         },
         {
          "i": 0.00010519016770186195,
          "t": 1.842,
          "v": -0.679525
         },
         {
          "i": 0.00010502614782608554,
          "t": 1.843,
          "v": -0.679008
         },
         {
          "i": 0.00010485031925465697,
          "t": 1.844,
          "v": -0.678525
         },
         {
          "i": 0.0001046687304347812,
          "t": 1.845,
          "v": -0.678091
         },
         {
          "i": 0.0001045732807453402,
          "t": 1.846,
          "v": -0.677583
         },
         {
          "i": 0.0001044063602484458,
          "t": 1.847,
          "v": -0.676941
         },
         {
          "i": 0.00010403224844720357,
          "t": 1.848,
          "v": -0.676608
         },
         {
          "i": 0.00010377806832297996,
          "t": 1.849,
          "v": -0.676025
         },
         {
          "i": 0.00010368205341614766,
          "t": 1.85,
          "v": -0.675533
         },
         {
          "i": 0.00010345036273291787,
          "t": 1.851,
          "v": -0.675075
         },
         {
          "i": 0.0001032136894409924,
          "t": 1.852,
          "v": -0.674483
         },
         {
          "i": 0.00010289361863353899,
          "t": 1.853,
          "v": -0.674075
         },
         {
          "i": 0.00010264208322981228,
          "t": 1.854,
          "v": -0.673541
         },
         {
          "i": 0.00010236897763975017,
          "t": 1.855,
          "v": -0.673008
         },
         {
          "i": 0.00010211642385093033,
          "t": 1.856,
          "v": -0.672575
         },
         {
          "i": 0.00010190670819875639,
          "t": 1.857,
          "v": -0.672025
         },
         {
          "i": 0.00010162451006211043,
          "t": 1.858,
          "v": -0.671558
         },
         {
          "i": 0.00010144193739130299,
          "t": 1.859,
          "v": -0.671058
         },
         {
          "i": 0.00010118933900620983,
          "t": 1.86,
          "v": -0.670483
         },
         {
          "i": 0.00010093879428571293,
          "t": 1.861,
          "v": -0.670091
         },
         {
          "i": 0.00010070979552794896,
          "t": 1.862,
          "v": -0.66955
         },
         {
          "i": 0.00010056404919254523,
          "t": 1.863,
          "v": -0.669025
         },
         {
          "i": 0.0001004987926708061,
          "t": 1.864,
          "v": -0.6686
         },
         {
          "i": 0.00010034016795030921,
          "t": 1.865,
          "v": -0.668041
         },
         {
          "i": 0.00010021634919254523,
          "t": 1.866,
          "v": -0.667566
         },
         {
          "i": 0.00010004035913043342,
          "t": 1.867,
          "v": -0.667066
         },
         {
          "i": 9.989398372670673e-05,
          "t": 1.868,
          "v": -0.666558
         },
         {
          "i": 9.972087801242102e-05,
          "t": 1.869,
          "v": -0.666125
         },
         {
          "i": 9.954386521738998e-05,
          "t": 1.87,
          "v": -0.665567
         },
         {
          "i": 9.952752608695519e-05,
          "t": 1.871,
          "v": -0.664991
         },
         {
          "i": 9.950120223602351e-05,
          "t": 1.872,
          "v": -0.664542
         },
         {
          "i": 9.935770857142723e-05,
          "t": 1.873,
          "v": -0.663975
         },
         {
          "i": 9.917673652173779e-05,
          "t": 1.874,
          "v": -0.663483
         },
         {
          "i": 9.90479406211167e-05,
          "t": 1.875,
          "v": -0.663
         },
         {
          "i": 9.893694919254526e-05,
          "t": 1.876,
          "v": -0.662475
         },
         {
          "i": 9.86797814906819e-05,
          "t": 1.877,
          "v": -0.662083
         },
         {
          "i": 9.852512795030924e-05,
          "t": 1.878,
          "v": -0.661517
         },
         {
          "i": 9.832965925465706e-05,
          "t": 1.879,
          "v": -0.660983
         },
         {
          "i": 9.811165540372539e-05,
          "t": 1.88,
          "v": -0.660558
         },
         {
          "i": 9.794145714285581e-05,
          "t": 1.881,
          "v": -0.660017
         },
         {
          "i": 9.772053763975024e-05,
          "t": 1.882,
          "v": -0.659492
         },
         {
          "i": 9.756504447204838e-05,
          "t": 1.883,
          "v": -0.659017
         },
         {
          "i": 9.737021180124093e-05,
          "t": 1.884,
          "v": -0.658467
         },
         {
          "i": 9.722982981366329e-05,
          "t": 1.885,
          "v": -0.657967
         },
         {
          "i": 9.713706906832169e-05,
          "t": 1.886,
          "v": -0.657533
         },
         {
          "i": 9.698467900620988e-05,
          "t": 1.887,
          "v": -0.656983
         },
         {
          "i": 9.683042844720368e-05,
          "t": 1.888,
          "v": -0.656492
         },
         {
          "i": 9.657554881987449e-05,
          "t": 1.889,
          "v": -0.656
         },
         {
          "i": 9.651426099378751e-05,
          "t": 1.89,
          "v": -0.655508
         },
         {
          "i": 9.640928596273163e-05,
          "t": 1.891,
          "v": -0.655025
         },
         {
          "i": 9.626228149068194e-05,
          "t": 1.892,
          "v": -0.6545
         },
         {
          "i": 9.612542807453287e-05,
          "t": 1.893,
          "v": -0.654042
         },
         {
          "i": 9.596786397515398e-05,
          "t": 1.894,
          "v": -0.65355
         },
         {
          "i": 9.584819130434654e-05,
          "t": 1.895,
          "v": -0.653
         },
         {
          "i": 9.56798592546571e-05,
          "t": 1.896,
          "v": -0.652508
         },
         {
          "i": 9.549186521739001e-05,
          "t": 1.897,
          "v": -0.65205
         },
         {
          "i": 9.515810857142729e-05,
          "t": 1.898,
          "v": -0.65155
         },
         {
          "i": 9.490509763975026e-05,
          "t": 1.899,
          "v": -0.651058
         },
         {
          "i": 9.464794322981239e-05,
          "t": 1.9,
          "v": -0.650442
         },
         {
          "i": 9.440176049689314e-05,
          "t": 1.901,
          "v": -0.650108
         },
         {
          "i": 9.411624086956395e-05,
          "t": 1.902,
          "v": -0.6495
         },
         {
          "i": 9.385080409937762e-05,
          "t": 1.903,
          "v": -0.648967
         },
         {
          "i": 9.36754419875764e-05,
          "t": 1.904,
          "v": -0.648533
         },
         {
          "i": 9.354500186335277e-05,
          "t": 1.905,
          "v": -0.648008
         },
         {
          "i": 9.336735503105463e-05,
          "t": 1.906,
          "v": -0.647467
         },
         {
          "i": 9.324975428571303e-05,
          "t": 1.907,
          "v": -0.647
         },
         {
          "i": 9.314333701863228e-05,
          "t": 1.908,
          "v": -0.6465
         },
         {
          "i": 9.296424472049564e-05,
          "t": 1.909,
          "v": -0.64605
         },
         {
          "i": 9.277645366459502e-05,
          "t": 1.91,
          "v": -0.645517
         },
         {
          "i": 9.259611490683106e-05,
          "t": 1.911,
          "v": -0.645017
         },
         {
          "i": 9.25865925465826e-05,
          "t": 1.912,
          "v": -0.644533
         },
         {
          "i": 9.244973105589937e-05,
          "t": 1.913,
          "v": -0.644017
         },
         {
          "i": 9.233254086956399e-05,
          "t": 1.914,
          "v": -0.643483
         },
         {
          "i": 9.229941242235902e-05,
          "t": 1.915,
          "v": -0.643034
         },
         {
          "i": 9.213439341614783e-05,
          "t": 1.916,
          "v": -0.6425
         },
         {
          "i": 9.20370821118e-05,
          "t": 1.917,
          "v": -0.642084
         },
         {
          "i": 9.187600236024721e-05,
          "t": 1.918,
          "v": -0.641533
         },
         {
          "i": 9.176006223602362e-05,
          "t": 1.919,
          "v": -0.640892
         },
         {
          "i": 9.160684546583728e-05,
          "t": 1.92,
          "v": -0.640492
         },
         {
          "i": 9.149503863353915e-05,
          "t": 1.921,
          "v": -0.640025
         },
         {
          "i": 9.128177590061989e-05,
          "t": 1.922,
          "v": -0.639584
         },
         {
          "i": 9.12279462111789e-05,
          "t": 1.923,
          "v": -0.639009
         },
         {
          "i": 9.103891180124103e-05,
          "t": 1.924,
          "v": -0.638484
         },
         {
          "i": 9.087514074534039e-05,
          "t": 1.925,
          "v": -0.638042
         },
         {
          "i": 9.088011763975033e-05,
          "t": 1.926,
          "v": -0.6375
         },
         {
          "i": 9.081489900620996e-05,
          "t": 1.927,
          "v": -0.636942
         },
         {
          "i": 9.070351565217271e-05,
          "t": 1.928,
          "v": -0.636517
         },
         {
          "i": 9.047390248447083e-05,
          "t": 1.929,
          "v": -0.635984
         },
         {
          "i": 9.036748335403606e-05,
          "t": 1.93,
          "v": -0.635492
         },
         {
          "i": 9.020930037266958e-05,
          "t": 1.931,
          "v": -0.635009
         },
         {
          "i": 9.009294496894289e-05,
          "t": 1.932,
          "v": -0.634525
         },
         {
          "i": 9.002772434782487e-05,
          "t": 1.933,
          "v": -0.633992
         },
         {
          "i": 8.994594298136525e-05,
          "t": 1.934,
          "v": -0.633467
         },
         {
          "i": 8.978899577639632e-05,
          "t": 1.935,
          "v": -0.633025
         },
         {
          "i": 8.971611639751433e-05,
          "t": 1.936,
          "v": -0.632509
         },
         {
          "i": 8.96500653416137e-05,
          "t": 1.937,
          "v": -0.631984
         },
         {
          "i": 8.943142360248327e-05,
          "t": 1.938,
          "v": -0.631492
         },
         {
          "i": 8.930056869565098e-05,
          "t": 1.939,
          "v": -0.631025
         },
         {
          "i": 8.916246807453296e-05,
          "t": 1.94,
          "v": -0.630517
         },
         {
          "i": 8.915687677018513e-05,
          "t": 1.941,
          "v": -0.630075
         },
         {
          "i": 8.913368161490563e-05,
          "t": 1.942,
          "v": -0.629517
         },
         {
          "i": 8.900862322981247e-05,
          "t": 1.943,
          "v": -0.628984
         },
         {
          "i": 8.884899068322862e-05,
          "t": 1.944,
          "v": -0.628584
         },
         {
          "i": 8.873698074534043e-05,
          "t": 1.945,
          "v": -0.628
         },
         {
          "i": 8.852102521739012e-05,
          "t": 1.946,
          "v": -0.6275
         },
         {
          "i": 8.839286136645846e-05,
          "t": 1.947,
          "v": -0.627
         },
         {
          "i": 8.824337465838391e-05,
          "t": 1.948,
          "v": -0.626467
         },
         {
          "i": 8.809264024844601e-05,
          "t": 1.949,
          "v": -0.626134
         },
         {
          "i": 8.788000099378765e-05,
          "t": 1.95,
          "v": -0.625567
         },
         {
          "i": 8.76915879503094e-05,
          "t": 1.951,
          "v": -0.624909
         },
         {
          "i": 8.757295453416031e-05,
          "t": 1.952,
          "v": -0.624542
         },
         {
          "i": 8.735017254658268e-05,
          "t": 1.953,
          "v": -0.624026
         },
         {
          "i": 8.72075188819864e-05,
          "t": 1.954,
          "v": -0.623567
         },
         {
          "i": 8.701413527950193e-05,
          "t": 1.955,
          "v": -0.623026
         },
         {
          "i": 8.682966236024728e-05,
          "t": 1.956,
          "v": -0.622459
         },
         {
          "i": 8.66476637267069e-05,
          "t": 1.957,
          "v": -0.622092
         },
         {
          "i": 8.652198670807337e-05,
          "t": 1.958,
          "v": -0.621484
         },
         {
          "i": 8.629133478260754e-05,
          "t": 1.959,
          "v": -0.621051
         },
         {
          "i": 8.599008186335287e-05,
          "t": 1.96,
          "v": -0.620592
         },
         {
          "i": 8.588510894409822e-05,
          "t": 1.961,
          "v": -0.619992
         },
         {
          "i": 8.579028807453301e-05,
          "t": 1.962,
          "v": -0.619501
         },
         {
          "i": 8.568884086956407e-05,
          "t": 1.963,
          "v": -0.619051
         },
         {
          "i": 8.557247999999884e-05,
          "t": 1.964,
          "v": -0.618484
         },
         {
          "i": 8.53231976397504e-05,
          "t": 1.965,
          "v": -0.618042
         },
         {
          "i": 8.51635623602473e-05,
          "t": 1.966,
          "v": -0.617559
         },
         {
          "i": 8.495175080745228e-05,
          "t": 1.967,
          "v": -0.616984
         },
         {
          "i": 8.471592136645849e-05,
          "t": 1.968,
          "v": -0.616551
         },
         {
          "i": 8.453040409937774e-05,
          "t": 1.969,
          "v": -0.616001
         },
         {
          "i": 8.435565577639638e-05,
          "t": 1.97,
          "v": -0.615534
         },
         {
          "i": 8.42063721739119e-05,
          "t": 1.971,
          "v": -0.615059
         },
         {
          "i": 8.400077577639638e-05,
          "t": 1.972,
          "v": -0.614484
         },
         {
          "i": 8.373058708074422e-05,
          "t": 1.973,
          "v": -0.614067
         },
         {
          "i": 8.349496757763863e-05,
          "t": 1.974,
          "v": -0.613484
         },
         {
          "i": 8.328543403726595e-05,
          "t": 1.975,
          "v": -0.612959
         },
         {
          "i": 8.3126006832297e-05,
          "t": 1.976,
          "v": -0.612542
         },
         {
          "i": 8.302207192546472e-05,
          "t": 1.977,
          "v": -0.611984
         },
         {
          "i": 8.302331204968833e-05,
          "t": 1.978,
          "v": -0.611492
         },
         {
          "i": 8.295726186335291e-05,
          "t": 1.979,
          "v": -0.611017
         },
         {
          "i": 8.284876981366347e-05,
          "t": 1.98,
          "v": -0.610501
         },
         {
          "i": 8.280363254658273e-05,
          "t": 1.981,
          "v": -0.610042
         },
         {
          "i": 8.274897254658274e-05,
          "t": 1.982,
          "v": -0.609476
         },
         {
          "i": 8.274731602484361e-05,
          "t": 1.983,
          "v": -0.608976
         },
         {
          "i": 8.265580521739019e-05,
          "t": 1.984,
          "v": -0.608542
         },
         {
          "i": 8.252329192546474e-05,
          "t": 1.985,
          "v": -0.607992
         },
         {
          "i": 8.252680807453306e-05,
          "t": 1.986,
          "v": -0.607434
         },
         {
          "i": 8.23992659627318e-05,
          "t": 1.987,
          "v": -0.607009
         },
         {
          "i": 8.23547495652163e-05,
          "t": 1.988,
          "v": -0.606434
         },
         {
          "i": 8.222451937888088e-05,
          "t": 1.989,
          "v": -0.605992
         },
         {
          "i": 8.212824099378772e-05,
          "t": 1.99,
          "v": -0.605509
         },
         {
          "i": 8.201995192546474e-05,
          "t": 1.991,
          "v": -0.605026
         },
         {
          "i": 8.18872344099368e-05,
          "t": 1.992,
          "v": -0.604567
         },
         {
          "i": 8.169861428571319e-05,
          "t": 1.993,
          "v": -0.604001
         },
         {
          "i": 8.150564894409829e-05,
          "t": 1.994,
          "v": -0.603476
         },
         {
          "i": 8.130336795030947e-05,
          "t": 1.995,
          "v": -0.603026
         },
         {
          "i": 8.120315602484363e-05,
          "t": 1.996,
          "v": -0.602467
         },
         {
          "i": 8.110211652173804e-05,
          "t": 1.997,
          "v": -0.602051
         },
         {
          "i": 8.103213366459519e-05,
          "t": 1.998,
          "v": -0.601517
         },
         {
          "i": 8.1012464968943e-05,
          "t": 1.999,
          "v": -0.600884
         },
         {
          "i": 8.097333130434673e-05,
          "t": 2,
          "v": -0.600551
         },
         {
          "i": 8.089507018633431e-05,
          "t": 2.001,
          "v": -0.600059
         }
        ],
        "data-184a0cabbdcfc34abfa1628d91b02543": [
         {
          "i": [
           8.30883e-05
          ],
          "v": [
           -0.607434
          ]
         }
        ]
       },
       "layer": [
        {
         "data": {
          "name": "data-02c2e5e651511901cd32734801781430"
         },
         "encoding": {
          "x": {
           "field": "v",
           "type": "quantitative"
          },
          "y": {
           "field": "i",
           "type": "quantitative"
          }
         },
         "mark": "point"
        },
        {
         "data": {
          "name": "data-184a0cabbdcfc34abfa1628d91b02543"
         },
         "encoding": {
          "color": {
           "value": "black"
          },
          "x": {
           "field": "v",
           "type": "quantitative"
          },
          "y": {
           "field": "i",
           "type": "quantitative"
          }
         },
         "mark": {
          "filled": true,
          "size": 50,
          "type": "point"
         }
        }
       ]
      },
      "image/png": "[encoded data removed]",
      "text/plain": [
       "<VegaLite 3 object>\n",
       "\n",
       "If you see this message, it means the renderer has not been properly enabled\n",
       "for the frontend that you are using. For more information, see\n",
       "https://altair-viz.github.io/user_guide/troubleshooting.html\n"
      ]
     },
     "metadata": {},
     "output_type": "display_data"
    },
    {
     "data": {
      "application/vnd.vegalite.v3+json": {
       "$schema": "https://vega.github.io/schema/vega-lite/v3.2.1.json",
       "config": {
        "mark": {
         "tooltip": null
        },
        "view": {
         "height": 300,
         "width": 400
        }
       },
       "datasets": {
        "data-169d066839de6f8db9d1e3787dcaf55e": [
         {
          "i": [
           1.35311e-05
          ],
          "v": [
           -0.507015
          ]
         }
        ],
        "data-398d308f445f19f4f99af4ba8ac47072": [
         {
          "i": 6.304196857142773e-05,
          "t": 6.005,
          "v": -1.09998
         },
         {
          "i": 6.203889763975072e-05,
          "t": 6.01,
          "v": -1.09948
         },
         {
          "i": 6.098103826086875e-05,
          "t": 6.015,
          "v": -1.09905
         },
         {
          "i": 5.990128708074454e-05,
          "t": 6.02,
          "v": -1.09848
         },
         {
          "i": 5.8818854782607914e-05,
          "t": 6.025,
          "v": -1.09801
         },
         {
          "i": 5.775920285714208e-05,
          "t": 6.03,
          "v": -1.09753
         },
         {
          "i": 5.677384211180047e-05,
          "t": 6.035,
          "v": -1.09697
         },
         {
          "i": 5.586194347826012e-05,
          "t": 6.04,
          "v": -1.09653
         },
         {
          "i": 5.506519602484398e-05,
          "t": 6.045,
          "v": -1.09601
         },
         {
          "i": 5.4420628198757035e-05,
          "t": 6.05,
          "v": -1.09548
         },
         {
          "i": 5.3937773664595545e-05,
          "t": 6.055,
          "v": -1.095
         },
         {
          "i": 5.365148322981294e-05,
          "t": 6.06,
          "v": -1.09448
         },
         {
          "i": 5.361825540372599e-05,
          "t": 6.065,
          "v": -1.094
         },
         {
          "i": 5.3397231428570715e-05,
          "t": 6.07,
          "v": -1.09349
         },
         {
          "i": 5.318929527950239e-05,
          "t": 6.075,
          "v": -1.09297
         },
         {
          "i": 5.300546670807381e-05,
          "t": 6.08,
          "v": -1.09254
         },
         {
          "i": 5.2820575652173206e-05,
          "t": 6.085,
          "v": -1.09197
         },
         {
          "i": 5.265920074534091e-05,
          "t": 6.09,
          "v": -1.09147
         },
         {
          "i": 5.2507736645962034e-05,
          "t": 6.095,
          "v": -1.09101
         },
         {
          "i": 5.2385555031055195e-05,
          "t": 6.1,
          "v": -1.09045
         },
         {
          "i": 5.2262264347825377e-05,
          "t": 6.105,
          "v": -1.08998
         },
         {
          "i": 5.2146566956521036e-05,
          "t": 6.11,
          "v": -1.08948
         },
         {
          "i": 5.204588546583781e-05,
          "t": 6.115,
          "v": -1.08897
         },
         {
          "i": 5.196736894409868e-05,
          "t": 6.12,
          "v": -1.08848
         },
         {
          "i": 5.1861056645962034e-05,
          "t": 6.125,
          "v": -1.08799
         },
         {
          "i": 5.176825093167632e-05,
          "t": 6.13,
          "v": -1.08742
         },
         {
          "i": 5.166824198757695e-05,
          "t": 6.135,
          "v": -1.08704
         },
         {
          "i": 5.157319354037197e-05,
          "t": 6.14,
          "v": -1.0865
         },
         {
          "i": 5.146880186335335e-05,
          "t": 6.145,
          "v": -1.08605
         },
         {
          "i": 5.133978310558937e-05,
          "t": 6.15,
          "v": -1.08555
         },
         {
          "i": 5.123002981366392e-05,
          "t": 6.155,
          "v": -1.08495
         },
         {
          "i": 5.109339403726639e-05,
          "t": 6.16,
          "v": -1.0846
         },
         {
          "i": 5.095878024844651e-05,
          "t": 6.165,
          "v": -1.08403
         },
         {
          "i": 5.0826956894409254e-05,
          "t": 6.17,
          "v": -1.08348
         },
         {
          "i": 5.071968248447137e-05,
          "t": 6.175,
          "v": -1.08304
         },
         {
          "i": 5.061623130434714e-05,
          "t": 6.18,
          "v": -1.08247
         },
         {
          "i": 5.0504333540371994e-05,
          "t": 6.185,
          "v": -1.08199
         },
         {
          "i": 5.037705080745274e-05,
          "t": 6.19,
          "v": -1.08148
         },
         {
          "i": 5.024031093167635e-05,
          "t": 6.195,
          "v": -1.08094
         },
         {
          "i": 5.011256434782541e-05,
          "t": 6.2,
          "v": -1.08055
         },
         {
          "i": 4.9962802981365794e-05,
          "t": 6.205,
          "v": -1.08002
         },
         {
          "i": 4.982846397515461e-05,
          "t": 6.21,
          "v": -1.07949
         },
         {
          "i": 4.9707644223601816e-05,
          "t": 6.215,
          "v": -1.07902
         },
         {
          "i": 4.9582899875775736e-05,
          "t": 6.22,
          "v": -1.07849
         },
         {
          "i": 4.943763378881921e-05,
          "t": 6.225,
          "v": -1.07803
         },
         {
          "i": 4.9274466459626665e-05,
          "t": 6.23,
          "v": -1.07752
         },
         {
          "i": 4.910643763975089e-05,
          "t": 6.235,
          "v": -1.07697
         },
         {
          "i": 4.8961192795030396e-05,
          "t": 6.24,
          "v": -1.07655
         },
         {
          "i": 4.881979850931612e-05,
          "t": 6.245,
          "v": -1.07602
         },
         {
          "i": 4.8673517763974496e-05,
          "t": 6.25,
          "v": -1.07549
         },
         {
          "i": 4.853385366459562e-05,
          "t": 6.255,
          "v": -1.07505
         },
         {
          "i": 4.83993877018627e-05,
          "t": 6.26,
          "v": -1.07445
         },
         {
          "i": 4.826794198757699e-05,
          "t": 6.265,
          "v": -1.07397
         },
         {
          "i": 4.811824621117948e-05,
          "t": 6.27,
          "v": -1.07348
         },
         {
          "i": 4.8009916894409295e-05,
          "t": 6.275,
          "v": -1.07294
         },
         {
          "i": 4.7906959875775745e-05,
          "t": 6.28,
          "v": -1.07249
         },
         {
          "i": 4.7837062981365806e-05,
          "t": 6.285,
          "v": -1.07199
         },
         {
          "i": 4.772697515527886e-05,
          "t": 6.29,
          "v": -1.07146
         },
         {
          "i": 4.7592775031055265e-05,
          "t": 6.295,
          "v": -1.07099
         },
         {
          "i": 4.747923291925402e-05,
          "t": 6.3,
          "v": -1.07044
         },
         {
          "i": 4.737705068322918e-05,
          "t": 6.305,
          "v": -1.06997
         },
         {
          "i": 4.7281155652173276e-05,
          "t": 6.31,
          "v": -1.06946
         },
         {
          "i": 4.717305366459564e-05,
          "t": 6.315,
          "v": -1.06894
         },
         {
          "i": 4.70831762732913e-05,
          "t": 6.32,
          "v": -1.0685
         },
         {
          "i": 4.699365950310496e-05,
          "t": 6.325,
          "v": -1.06796
         },
         {
          "i": 4.6887719503104964e-05,
          "t": 6.33,
          "v": -1.06744
         },
         {
          "i": 4.6760099875775774e-05,
          "t": 6.335,
          "v": -1.06699
         },
         {
          "i": 4.665984496894347e-05,
          "t": 6.34,
          "v": -1.06644
         },
         {
          "i": 4.654903875776335e-05,
          "t": 6.345,
          "v": -1.06596
         },
         {
          "i": 4.6473051304347205e-05,
          "t": 6.35,
          "v": -1.06545
         },
         {
          "i": 4.6403343354036646e-05,
          "t": 6.355,
          "v": -1.06495
         },
         {
          "i": 4.6312220372670185e-05,
          "t": 6.36,
          "v": -1.06447
         },
         {
          "i": 4.625599031055838e-05,
          "t": 6.365,
          "v": -1.06396
         },
         {
          "i": 4.617966968944037e-05,
          "t": 6.37,
          "v": -1.06345
         },
         {
          "i": 4.609234857142795e-05,
          "t": 6.375,
          "v": -1.06296
         },
         {
          "i": 4.604241664596211e-05,
          "t": 6.38,
          "v": -1.06245
         },
         {
          "i": 4.5975286211179505e-05,
          "t": 6.385,
          "v": -1.06197
         },
         {
          "i": 4.592175677018572e-05,
          "t": 6.39,
          "v": -1.06152
         },
         {
          "i": 4.585297018633479e-05,
          "t": 6.395,
          "v": -1.06093
         },
         {
          "i": 4.574586807453355e-05,
          "t": 6.4,
          "v": -1.06053
         },
         {
          "i": 4.565042906832236e-05,
          "t": 6.405,
          "v": -1.06003
         },
         {
          "i": 4.555070447204908e-05,
          "t": 6.41,
          "v": -1.05944
         },
         {
          "i": 4.544958298136585e-05,
          "t": 6.415,
          "v": -1.05904
         },
         {
          "i": 4.5368564347825473e-05,
          "t": 6.42,
          "v": -1.05848
         },
         {
          "i": 4.52572705590056e-05,
          "t": 6.425,
          "v": -1.05798
         },
         {
          "i": 4.5159480124223005e-05,
          "t": 6.43,
          "v": -1.05749
         },
         {
          "i": 4.507529975155219e-05,
          "t": 6.435,
          "v": -1.05692
         },
         {
          "i": 4.498606273291865e-05,
          "t": 6.44,
          "v": -1.05651
         },
         {
          "i": 4.4900168819875174e-05,
          "t": 6.445,
          "v": -1.05595
         },
         {
          "i": 4.4824162608695047e-05,
          "t": 6.45,
          "v": -1.05543
         },
         {
          "i": 4.4705413043477655e-05,
          "t": 6.455,
          "v": -1.055
         },
         {
          "i": 4.463302782608636e-05,
          "t": 6.46,
          "v": -1.05447
         },
         {
          "i": 4.453811913043418e-05,
          "t": 6.465,
          "v": -1.05398
         },
         {
          "i": 4.445419602484412e-05,
          "t": 6.47,
          "v": -1.05349
         },
         {
          "i": 4.439104223602425e-05,
          "t": 6.475,
          "v": -1.05294
         },
         {
          "i": 4.4318953540372074e-05,
          "t": 6.48,
          "v": -1.05253
         },
         {
          "i": 4.423989788819816e-05,
          "t": 6.485,
          "v": -1.05199
         },
         {
          "i": 4.417054521739071e-05,
          "t": 6.49,
          "v": -1.05145
         },
         {
          "i": 4.404484521739071e-05,
          "t": 6.495,
          "v": -1.05102
         },
         {
          "i": 4.3960892422359656e-05,
          "t": 6.5,
          "v": -1.05047
         },
         {
          "i": 4.38820546583845e-05,
          "t": 6.505,
          "v": -1.04998
         },
         {
          "i": 4.3791930559005626e-05,
          "t": 6.51,
          "v": -1.04951
         },
         {
          "i": 4.3701262484471455e-05,
          "t": 6.515,
          "v": -1.04895
         },
         {
          "i": 4.359591763975096e-05,
          "t": 6.52,
          "v": -1.04853
         },
         {
          "i": 4.353838770186276e-05,
          "t": 6.525,
          "v": -1.048
         },
         {
          "i": 4.3483941366459044e-05,
          "t": 6.53,
          "v": -1.04747
         },
         {
          "i": 4.340612086956463e-05,
          "t": 6.535,
          "v": -1.047
         },
         {
          "i": 4.3352425093167116e-05,
          "t": 6.54,
          "v": -1.04647
         },
         {
          "i": 4.329718459627272e-05,
          "t": 6.545,
          "v": -1.046
         },
         {
          "i": 4.321141689440936e-05,
          "t": 6.55,
          "v": -1.04547
         },
         {
          "i": 4.31394089440988e-05,
          "t": 6.555,
          "v": -1.04496
         },
         {
          "i": 4.307147515527892e-05,
          "t": 6.56,
          "v": -1.04452
         },
         {
          "i": 4.298800012422302e-05,
          "t": 6.565,
          "v": -1.04399
         },
         {
          "i": 4.290614273291868e-05,
          "t": 6.57,
          "v": -1.04346
         },
         {
          "i": 4.2825904596272716e-05,
          "t": 6.575,
          "v": -1.043
         },
         {
          "i": 4.27482587577634e-05,
          "t": 6.58,
          "v": -1.04245
         },
         {
          "i": 4.268967403726651e-05,
          "t": 6.585,
          "v": -1.04198
         },
         {
          "i": 4.262795577639695e-05,
          "t": 6.59,
          "v": -1.04146
         },
         {
          "i": 4.257182124223545e-05,
          "t": 6.595,
          "v": -1.04096
         },
         {
          "i": 4.247878186335346e-05,
          "t": 6.6,
          "v": -1.04048
         },
         {
          "i": 4.236933614906775e-05,
          "t": 6.605,
          "v": -1.03997
         },
         {
          "i": 4.230994372670751e-05,
          "t": 6.61,
          "v": -1.03947
         },
         {
          "i": 4.2247123726707506e-05,
          "t": 6.615,
          "v": -1.03897
         },
         {
          "i": 4.218281229813607e-05,
          "t": 6.62,
          "v": -1.03846
         },
         {
          "i": 4.211506186335347e-05,
          "t": 6.625,
          "v": -1.03798
         },
         {
          "i": 4.2045299627328626e-05,
          "t": 6.63,
          "v": -1.03745
         },
         {
          "i": 4.195807627329136e-05,
          "t": 6.635,
          "v": -1.03697
         },
         {
          "i": 4.1883097763974595e-05,
          "t": 6.64,
          "v": -1.03653
         },
         {
          "i": 4.1782712422359686e-05,
          "t": 6.645,
          "v": -1.03603
         },
         {
          "i": 4.171524621117957e-05,
          "t": 6.65,
          "v": -1.03545
         },
         {
          "i": 4.162583639751497e-05,
          "t": 6.655,
          "v": -1.03506
         },
         {
          "i": 4.152714198757709e-05,
          "t": 6.66,
          "v": -1.03449
         },
         {
          "i": 4.14540726708069e-05,
          "t": 6.665,
          "v": -1.03404
         },
         {
          "i": 4.137311937888143e-05,
          "t": 6.67,
          "v": -1.03354
         },
         {
          "i": 4.1289599254657836e-05,
          "t": 6.675,
          "v": -1.03293
         },
         {
          "i": 4.118265428571373e-05,
          "t": 6.68,
          "v": -1.03254
         },
         {
          "i": 4.1098827329192e-05,
          "t": 6.685,
          "v": -1.03201
         },
         {
          "i": 4.0992771180123676e-05,
          "t": 6.69,
          "v": -1.03145
         },
         {
          "i": 4.092423403726653e-05,
          "t": 6.695,
          "v": -1.031
         },
         {
          "i": 4.0832903726707534e-05,
          "t": 6.7,
          "v": -1.03044
         },
         {
          "i": 4.0773757763974606e-05,
          "t": 6.705,
          "v": -1.03003
         },
         {
          "i": 4.066247329192492e-05,
          "t": 6.71,
          "v": -1.02946
         },
         {
          "i": 4.0572488695651624e-05,
          "t": 6.715,
          "v": -1.02895
         },
         {
          "i": 4.049813913043424e-05,
          "t": 6.72,
          "v": -1.02854
         },
         {
          "i": 4.042549006211126e-05,
          "t": 6.725,
          "v": -1.02801
         },
         {
          "i": 4.0347224223601944e-05,
          "t": 6.73,
          "v": -1.02746
         },
         {
          "i": 4.0251541863353495e-05,
          "t": 6.735,
          "v": -1.02704
         },
         {
          "i": 4.013965826086903e-05,
          "t": 6.74,
          "v": -1.02648
         },
         {
          "i": 4.0022534285713745e-05,
          "t": 6.745,
          "v": -1.02601
         },
         {
          "i": 3.9947540621117476e-05,
          "t": 6.75,
          "v": -1.02551
         },
         {
          "i": 3.985001875776344e-05,
          "t": 6.755,
          "v": -1.02495
         },
         {
          "i": 3.977170919254605e-05,
          "t": 6.76,
          "v": -1.02453
         },
         {
          "i": 3.9676931055900086e-05,
          "t": 6.765,
          "v": -1.02401
         },
         {
          "i": 3.959074869565164e-05,
          "t": 6.77,
          "v": -1.02346
         },
         {
          "i": 3.9494297515527424e-05,
          "t": 6.775,
          "v": -1.02301
         },
         {
          "i": 3.940579527950258e-05,
          "t": 6.78,
          "v": -1.02247
         },
         {
          "i": 3.9302033043477735e-05,
          "t": 6.785,
          "v": -1.02199
         },
         {
          "i": 3.919274956521687e-05,
          "t": 6.79,
          "v": -1.02148
         },
         {
          "i": 3.908699975155227e-05,
          "t": 6.795,
          "v": -1.02095
         },
         {
          "i": 3.899880298136594e-05,
          "t": 6.8,
          "v": -1.02052
         },
         {
          "i": 3.891315937888146e-05,
          "t": 6.805,
          "v": -1.01998
         },
         {
          "i": 3.8838814409937366e-05,
          "t": 6.81,
          "v": -1.01946
         },
         {
          "i": 3.878606782608643e-05,
          "t": 6.815,
          "v": -1.01901
         },
         {
          "i": 3.869809788819824e-05,
          "t": 6.82,
          "v": -1.01845
         },
         {
          "i": 3.862903291925414e-05,
          "t": 6.825,
          "v": -1.01799
         },
         {
          "i": 3.853952397515477e-05,
          "t": 6.83,
          "v": -1.01748
         },
         {
          "i": 3.845575801242184e-05,
          "t": 6.835,
          "v": -1.01694
         },
         {
          "i": 3.8360010062111286e-05,
          "t": 6.84,
          "v": -1.01647
         },
         {
          "i": 3.8273195776397e-05,
          "t": 6.845,
          "v": -1.01597
         },
         {
          "i": 3.81789406211175e-05,
          "t": 6.85,
          "v": -1.01546
         },
         {
          "i": 3.81156209937883e-05,
          "t": 6.855,
          "v": -1.01498
         },
         {
          "i": 3.803518732919204e-05,
          "t": 6.86,
          "v": -1.01445
         },
         {
          "i": 3.79661306832293e-05,
          "t": 6.865,
          "v": -1.01398
         },
         {
          "i": 3.7890628322980855e-05,
          "t": 6.87,
          "v": -1.01345
         },
         {
          "i": 3.781123962732868e-05,
          "t": 6.875,
          "v": -1.01296
         },
         {
          "i": 3.7734585590061605e-05,
          "t": 6.88,
          "v": -1.01251
         },
         {
          "i": 3.764834931676968e-05,
          "t": 6.885,
          "v": -1.01197
         },
         {
          "i": 3.75756152795026e-05,
          "t": 6.89,
          "v": -1.01146
         },
         {
          "i": 3.748147937888148e-05,
          "t": 6.895,
          "v": -1.011
         },
         {
          "i": 3.741750024844671e-05,
          "t": 6.9,
          "v": -1.0105
         },
         {
          "i": 3.735837453416099e-05,
          "t": 6.905,
          "v": -1.0101
         },
         {
          "i": 3.729031950310509e-05,
          "t": 6.91,
          "v": -1.00956
         },
         {
          "i": 3.722726260869515e-05,
          "t": 6.915,
          "v": -1.00894
         },
         {
          "i": 3.717942236024795e-05,
          "t": 6.92,
          "v": -1.00858
         },
         {
          "i": 3.712944447204919e-05,
          "t": 6.925,
          "v": -1.00805
         },
         {
          "i": 3.707472670807404e-05,
          "t": 6.93,
          "v": -1.00745
         },
         {
          "i": 3.702880037267031e-05,
          "t": 6.935,
          "v": -1.00703
         },
         {
          "i": 3.6953941987577144e-05,
          "t": 6.94,
          "v": -1.00649
         },
         {
          "i": 3.6881611801241736e-05,
          "t": 6.945,
          "v": -1.00601
         },
         {
          "i": 3.682294670807404e-05,
          "t": 6.95,
          "v": -1.0055
         },
         {
          "i": 3.6750386335403236e-05,
          "t": 6.955,
          "v": -1.00494
         },
         {
          "i": 3.667814136645914e-05,
          "t": 6.96,
          "v": -1.00457
         },
         {
          "i": 3.661612757763926e-05,
          "t": 6.965,
          "v": -1.00398
         },
         {
          "i": 3.653737055900572e-05,
          "t": 6.97,
          "v": -1.00346
         },
         {
          "i": 3.6468397888198264e-05,
          "t": 6.975,
          "v": -1.00305
         },
         {
          "i": 3.6373547577639263e-05,
          "t": 6.98,
          "v": -1.00249
         },
         {
          "i": 3.629044894409889e-05,
          "t": 6.985,
          "v": -1.00201
         },
         {
          "i": 3.622048981366411e-05,
          "t": 6.99,
          "v": -1.00153
         },
         {
          "i": 3.616054621117963e-05,
          "t": 6.995,
          "v": -1.00096
         },
         {
          "i": 3.610365465838461e-05,
          "t": 7,
          "v": -1.00055
         },
         {
          "i": 3.604086645962684e-05,
          "t": 7.005,
          "v": -1.00002
         },
         {
          "i": 3.599882285714237e-05,
          "t": 7.01,
          "v": -0.999474
         },
         {
          "i": 3.5952253540372186e-05,
          "t": 7.015,
          "v": -0.999031
         },
         {
          "i": 3.5889885590061626e-05,
          "t": 7.02,
          "v": -0.998504
         },
         {
          "i": 3.58506393788815e-05,
          "t": 7.025,
          "v": -0.998044
         },
         {
          "i": 3.58090588819871e-05,
          "t": 7.03,
          "v": -0.997523
         },
         {
          "i": 3.576967590062064e-05,
          "t": 7.035,
          "v": -0.996967
         },
         {
          "i": 3.5729672795030574e-05,
          "t": 7.04,
          "v": -0.996542
         },
         {
          "i": 3.570295142857095e-05,
          "t": 7.045,
          "v": -0.99603
         },
         {
          "i": 3.566259577639704e-05,
          "t": 7.05,
          "v": -0.995487
         },
         {
          "i": 3.562980695652126e-05,
          "t": 7.055,
          "v": -0.995033
         },
         {
          "i": 3.56047438509312e-05,
          "t": 7.06,
          "v": -0.994494
         },
         {
          "i": 3.5543890186334925e-05,
          "t": 7.065,
          "v": -0.993999
         },
         {
          "i": 3.548999962732871e-05,
          "t": 7.07,
          "v": -0.993498
         },
         {
          "i": 3.544019267080698e-05,
          "t": 7.075,
          "v": -0.992978
         },
         {
          "i": 3.5375850062111325e-05,
          "t": 7.08,
          "v": -0.992514
         },
         {
          "i": 3.529667478260822e-05,
          "t": 7.085,
          "v": -0.991991
         },
         {
          "i": 3.5225432670806974e-05,
          "t": 7.09,
          "v": -0.991472
         },
         {
          "i": 3.516224211180077e-05,
          "t": 7.095,
          "v": -0.990993
         },
         {
          "i": 3.509900409937841e-05,
          "t": 7.1,
          "v": -0.990463
         },
         {
          "i": 3.5029926956521266e-05,
          "t": 7.105,
          "v": -0.989994
         },
         {
          "i": 3.496631900621071e-05,
          "t": 7.11,
          "v": -0.989467
         },
         {
          "i": 3.4881121614906365e-05,
          "t": 7.115,
          "v": -0.988969
         },
         {
          "i": 3.478189503105543e-05,
          "t": 7.12,
          "v": -0.988508
         },
         {
          "i": 3.467475279503059e-05,
          "t": 7.125,
          "v": -0.987982
         },
         {
          "i": 3.456582745341569e-05,
          "t": 7.13,
          "v": -0.987466
         },
         {
          "i": 3.449331229813618e-05,
          "t": 7.135,
          "v": -0.987005
         },
         {
          "i": 3.4389579627328724e-05,
          "t": 7.14,
          "v": -0.986473
         },
         {
          "i": 3.431914645962687e-05,
          "t": 7.145,
          "v": -0.985981
         },
         {
          "i": 3.421882571428525e-05,
          "t": 7.15,
          "v": -0.985454
         },
         {
          "i": 3.4115508074533706e-05,
          "t": 7.155,
          "v": -0.98493
         },
         {
          "i": 3.402201552794985e-05,
          "t": 7.16,
          "v": -0.984604
         },
         {
          "i": 3.3879128198757307e-05,
          "t": 7.165,
          "v": -0.984055
         },
         {
          "i": 3.3755412795030604e-05,
          "t": 7.17,
          "v": -0.983464
         },
         {
          "i": 3.363156596273247e-05,
          "t": 7.175,
          "v": -0.983044
         },
         {
          "i": 3.349577614906787e-05,
          "t": 7.18,
          "v": -0.982489
         },
         {
          "i": 3.336968049689396e-05,
          "t": 7.185,
          "v": -0.982023
         },
         {
          "i": 3.3233776521738686e-05,
          "t": 7.19,
          "v": -0.981495
         },
         {
          "i": 3.308645329192502e-05,
          "t": 7.195,
          "v": -0.980941
         },
         {
          "i": 3.293536521739086e-05,
          "t": 7.2,
          "v": -0.980574
         },
         {
          "i": 3.2763331552794596e-05,
          "t": 7.205,
          "v": -0.979994
         },
         {
          "i": 3.261269850931633e-05,
          "t": 7.21,
          "v": -0.979464
         },
         {
          "i": 3.243280757763932e-05,
          "t": 7.215,
          "v": -0.979024
         },
         {
          "i": 3.22709616149064e-05,
          "t": 7.22,
          "v": -0.978476
         },
         {
          "i": 3.2074816149067896e-05,
          "t": 7.225,
          "v": -0.978018
         },
         {
          "i": 3.185994881987535e-05,
          "t": 7.23,
          "v": -0.977512
         },
         {
          "i": 3.167469739130392e-05,
          "t": 7.235,
          "v": -0.976961
         },
         {
          "i": 3.1494254782608274e-05,
          "t": 7.24,
          "v": -0.976538
         },
         {
          "i": 3.133869279503063e-05,
          "t": 7.245,
          "v": -0.976023
         },
         {
          "i": 3.113258621117971e-05,
          "t": 7.25,
          "v": -0.975494
         },
         {
          "i": 3.097243515527908e-05,
          "t": 7.255,
          "v": -0.975024
         },
         {
          "i": 3.0767890807453e-05,
          "t": 7.26,
          "v": -0.974494
         },
         {
          "i": 3.058310944099338e-05,
          "t": 7.265,
          "v": -0.974032
         },
         {
          "i": 3.0418221118012015e-05,
          "t": 7.27,
          "v": -0.973517
         },
         {
          "i": 3.020871354037226e-05,
          "t": 7.275,
          "v": -0.972976
         },
         {
          "i": 3.006697925465798e-05,
          "t": 7.28,
          "v": -0.972558
         },
         {
          "i": 2.9921062981366057e-05,
          "t": 7.285,
          "v": -0.971985
         },
         {
          "i": 2.974329677018594e-05,
          "t": 7.29,
          "v": -0.971447
         },
         {
          "i": 2.9616588819875378e-05,
          "t": 7.295,
          "v": -0.971022
         },
         {
          "i": 2.9465739130434385e-05,
          "t": 7.3,
          "v": -0.970461
         },
         {
          "i": 2.9308248695651778e-05,
          "t": 7.305,
          "v": -0.969967
         },
         {
          "i": 2.9147557639751165e-05,
          "t": 7.31,
          "v": -0.969483
         },
         {
          "i": 2.8986483478260482e-05,
          "t": 7.315,
          "v": -0.968947
         },
         {
          "i": 2.8829702111800853e-05,
          "t": 7.32,
          "v": -0.96849
         },
         {
          "i": 2.8667354409937502e-05,
          "t": 7.325,
          "v": -0.967972
         },
         {
          "i": 2.8528644968943716e-05,
          "t": 7.33,
          "v": -0.967451
         },
         {
          "i": 2.8337034906831918e-05,
          "t": 7.335,
          "v": -0.966969
         },
         {
          "i": 2.8160504472049307e-05,
          "t": 7.34,
          "v": -0.966442
         },
         {
          "i": 2.7999431552794653e-05,
          "t": 7.345,
          "v": -0.965975
         },
         {
          "i": 2.7823322484471677e-05,
          "t": 7.35,
          "v": -0.965449
         },
         {
          "i": 2.7629315776397146e-05,
          "t": 7.355,
          "v": -0.964944
         },
         {
          "i": 2.74287535403723e-05,
          "t": 7.36,
          "v": -0.964513
         },
         {
          "i": 2.7214890931676653e-05,
          "t": 7.365,
          "v": -0.963951
         },
         {
          "i": 2.7003562981366097e-05,
          "t": 7.37,
          "v": -0.963433
         },
         {
          "i": 2.6769927329192182e-05,
          "t": 7.375,
          "v": -0.962992
         },
         {
          "i": 2.654822397515492e-05,
          "t": 7.38,
          "v": -0.962443
         },
         {
          "i": 2.6300346956521384e-05,
          "t": 7.385,
          "v": -0.961955
         },
         {
          "i": 2.6049906708074183e-05,
          "t": 7.39,
          "v": -0.961452
         },
         {
          "i": 2.5805351552794685e-05,
          "t": 7.395,
          "v": -0.960959
         },
         {
          "i": 2.552386434782574e-05,
          "t": 7.4,
          "v": -0.96046
         },
         {
          "i": 2.527007913043444e-05,
          "t": 7.405,
          "v": -0.959954
         },
         {
          "i": 2.4978282360248115e-05,
          "t": 7.41,
          "v": -0.959399
         },
         {
          "i": 2.4677377391304016e-05,
          "t": 7.415,
          "v": -0.959037
         },
         {
          "i": 2.438650944099346e-05,
          "t": 7.42,
          "v": -0.958484
         },
         {
          "i": 2.407673763975123e-05,
          "t": 7.425,
          "v": -0.957991
         },
         {
          "i": 2.376690633540341e-05,
          "t": 7.43,
          "v": -0.9575
         },
         {
          "i": 2.3470013540372356e-05,
          "t": 7.435,
          "v": -0.956918
         },
         {
          "i": 2.3172369689440682e-05,
          "t": 7.44,
          "v": -0.956576
         },
         {
          "i": 2.285911192546553e-05,
          "t": 7.445,
          "v": -0.955998
         },
         {
          "i": 2.259353167701833e-05,
          "t": 7.45,
          "v": -0.955425
         },
         {
          "i": 2.2318882484471748e-05,
          "t": 7.455,
          "v": -0.955033
         },
         {
          "i": 2.2038163602484175e-05,
          "t": 7.46,
          "v": -0.954456
         },
         {
          "i": 2.174395217391275e-05,
          "t": 7.465,
          "v": -0.953964
         },
         {
          "i": 2.1454442111800953e-05,
          "t": 7.47,
          "v": -0.953457
         },
         {
          "i": 2.1159813788819594e-05,
          "t": 7.475,
          "v": -0.952924
         },
         {
          "i": 2.0899573788819597e-05,
          "t": 7.48,
          "v": -0.952515
         },
         {
          "i": 2.0638981739130157e-05,
          "t": 7.485,
          "v": -0.951993
         },
         {
          "i": 2.0373944472049414e-05,
          "t": 7.49,
          "v": -0.951433
         },
         {
          "i": 2.0104392670807182e-05,
          "t": 7.495,
          "v": -0.951004
         },
         {
          "i": 1.9852751304347557e-05,
          "t": 7.5,
          "v": -0.950476
         },
         {
          "i": 1.9595063229813405e-05,
          "t": 7.505,
          "v": -0.949995
         },
         {
          "i": 1.9321885217391048e-05,
          "t": 7.51,
          "v": -0.949481
         },
         {
          "i": 1.906572534161465e-05,
          "t": 7.515,
          "v": -0.948941
         },
         {
          "i": 1.877863018633515e-05,
          "t": 7.52,
          "v": -0.948523
         },
         {
          "i": 1.8468300869564966e-05,
          "t": 7.525,
          "v": -0.94799
         },
         {
          "i": 1.8146892919254414e-05,
          "t": 7.53,
          "v": -0.947468
         },
         {
          "i": 1.7794881863353798e-05,
          "t": 7.535,
          "v": -0.94703
         },
         {
          "i": 1.7437288944099142e-05,
          "t": 7.54,
          "v": -0.946464
         },
         {
          "i": 1.707734236024822e-05,
          "t": 7.545,
          "v": -0.945991
         },
         {
          "i": 1.6717075527950087e-05,
          "t": 7.55,
          "v": -0.945497
         },
         {
          "i": 1.6349651180124005e-05,
          "t": 7.555,
          "v": -0.94494
         },
         {
          "i": 1.595482260869544e-05,
          "t": 7.56,
          "v": -0.944508
         },
         {
          "i": 1.5527779354037058e-05,
          "t": 7.565,
          "v": -0.944002
         },
         {
          "i": 1.5066820608695451e-05,
          "t": 7.57,
          "v": -0.943468
         },
         {
          "i": 1.4561345291925269e-05,
          "t": 7.575,
          "v": -0.942989
         },
         {
          "i": 1.4053712621117824e-05,
          "t": 7.58,
          "v": -0.942453
         },
         {
          "i": 1.3558312298136463e-05,
          "t": 7.585,
          "v": -0.941997
         },
         {
          "i": 1.3056514310558829e-05,
          "t": 7.59,
          "v": -0.941477
         },
         {
          "i": 1.2563927031055732e-05,
          "t": 7.595,
          "v": -0.940955
         },
         {
          "i": 1.2020346136645801e-05,
          "t": 7.6,
          "v": -0.940521
         },
         {
          "i": 1.1449354298136492e-05,
          "t": 7.605,
          "v": -0.939977
         },
         {
          "i": 1.0884817913043334e-05,
          "t": 7.61,
          "v": -0.939453
         },
         {
          "i": 1.0278336956521601e-05,
          "t": 7.615,
          "v": -0.939004
         },
         {
          "i": 9.644333913043348e-06,
          "t": 7.62,
          "v": -0.938457
         },
         {
          "i": 9.003580981366338e-06,
          "t": 7.625,
          "v": -0.937963
         },
         {
          "i": 8.354155316770074e-06,
          "t": 7.63,
          "v": -0.937468
         },
         {
          "i": 7.694672770186232e-06,
          "t": 7.635,
          "v": -0.936971
         },
         {
          "i": 7.060626198757669e-06,
          "t": 7.64,
          "v": -0.936477
         },
         {
          "i": 6.398958875776312e-06,
          "t": 7.645,
          "v": -0.935965
         },
         {
          "i": 5.697727645962656e-06,
          "t": 7.65,
          "v": -0.935447
         },
         {
          "i": 4.971990751552729e-06,
          "t": 7.655,
          "v": -0.934981
         },
         {
          "i": 4.269572155279446e-06,
          "t": 7.66,
          "v": -0.934465
         },
         {
          "i": 3.600096167701816e-06,
          "t": 7.665,
          "v": -0.933976
         },
         {
          "i": 2.991752428571389e-06,
          "t": 7.67,
          "v": -0.933508
         },
         {
          "i": 2.47191059006208e-06,
          "t": 7.675,
          "v": -0.932926
         },
         {
          "i": 2.0378903416148807e-06,
          "t": 7.68,
          "v": -0.932582
         },
         {
          "i": 1.6921891863353825e-06,
          "t": 7.685,
          "v": -0.932023
         },
         {
          "i": 1.511243981366441e-06,
          "t": 7.69,
          "v": -0.931467
         },
         {
          "i": 1.463135223602467e-06,
          "t": 7.695,
          "v": -0.93107
         },
         {
          "i": 1.551657919254639e-06,
          "t": 7.7,
          "v": -0.930488
         },
         {
          "i": 1.749850739130413e-06,
          "t": 7.705,
          "v": -0.930025
         },
         {
          "i": 2.071313670807427e-06,
          "t": 7.71,
          "v": -0.929516
         },
         {
          "i": 2.5090243664595955e-06,
          "t": 7.715,
          "v": -0.92895
         },
         {
          "i": 3.113868304347786e-06,
          "t": 7.72,
          "v": -0.928542
         },
         {
          "i": 3.7806863291924966e-06,
          "t": 7.725,
          "v": -0.927968
         },
         {
          "i": 4.544531111801183e-06,
          "t": 7.73,
          "v": -0.92747
         },
         {
          "i": 5.404983645962661e-06,
          "t": 7.735,
          "v": -0.92701
         },
         {
          "i": 6.321321534161406e-06,
          "t": 7.74,
          "v": -0.92648
         },
         {
          "i": 7.248644900621021e-06,
          "t": 7.745,
          "v": -0.92604
         },
         {
          "i": 8.217045894409829e-06,
          "t": 7.75,
          "v": -0.925504
         },
         {
          "i": 9.083516645962612e-06,
          "t": 7.755,
          "v": -0.924972
         },
         {
          "i": 9.926873478260736e-06,
          "t": 7.76,
          "v": -0.924586
         },
         {
          "i": 1.0769801080745197e-05,
          "t": 7.765,
          "v": -0.924019
         },
         {
          "i": 1.1647010931676863e-05,
          "t": 7.77,
          "v": -0.923501
         },
         {
          "i": 1.2540190472049522e-05,
          "t": 7.775,
          "v": -0.923049
         },
         {
          "i": 1.3442510559006032e-05,
          "t": 7.78,
          "v": -0.922496
         },
         {
          "i": 1.4365954434782417e-05,
          "t": 7.785,
          "v": -0.922024
         },
         {
          "i": 1.5340392509316565e-05,
          "t": 7.79,
          "v": -0.921533
         },
         {
          "i": 1.634336793788798e-05,
          "t": 7.795,
          "v": -0.92095
         },
         {
          "i": 1.7417122559005977e-05,
          "t": 7.8,
          "v": -0.920539
         },
         {
          "i": 1.8476051714285466e-05,
          "t": 7.805,
          "v": -0.920003
         },
         {
          "i": 1.9549232621117747e-05,
          "t": 7.81,
          "v": -0.919478
         },
         {
          "i": 2.060957987577612e-05,
          "t": 7.815,
          "v": -0.91901
         },
         {
          "i": 2.1717316273291636e-05,
          "t": 7.82,
          "v": -0.918471
         },
         {
          "i": 2.2854189689440687e-05,
          "t": 7.825,
          "v": -0.918024
         },
         {
          "i": 2.4023456521738808e-05,
          "t": 7.83,
          "v": -0.917494
         },
         {
          "i": 2.519601217391271e-05,
          "t": 7.835,
          "v": -0.916974
         },
         {
          "i": 2.640114968944064e-05,
          "t": 7.84,
          "v": -0.91655
         },
         {
          "i": 2.7568030807453046e-05,
          "t": 7.845,
          "v": -0.915992
         },
         {
          "i": 2.875638621117974e-05,
          "t": 7.85,
          "v": -0.915486
         },
         {
          "i": 2.9965118757763574e-05,
          "t": 7.855,
          "v": -0.915018
         },
         {
          "i": 3.11990009937884e-05,
          "t": 7.86,
          "v": -0.914479
         },
         {
          "i": 3.2401239254657946e-05,
          "t": 7.865,
          "v": -0.914004
         },
         {
          "i": 3.361240434782564e-05,
          "t": 7.87,
          "v": -0.913497
         },
         {
          "i": 3.481804024844674e-05,
          "t": 7.875,
          "v": -0.912983
         },
         {
          "i": 3.604131478260821e-05,
          "t": 7.88,
          "v": -0.912496
         },
         {
          "i": 3.7276587080744845e-05,
          "t": 7.885,
          "v": -0.911989
         },
         {
          "i": 3.851919403726657e-05,
          "t": 7.89,
          "v": -0.911483
         },
         {
          "i": 3.9818469192546046e-05,
          "t": 7.895,
          "v": -0.911003
         },
         {
          "i": 4.1135111677018075e-05,
          "t": 7.9,
          "v": -0.910477
         },
         {
          "i": 4.2428893291924895e-05,
          "t": 7.905,
          "v": -0.910017
         },
         {
          "i": 4.371028732919196e-05,
          "t": 7.91,
          "v": -0.909479
         },
         {
          "i": 4.4953986335403124e-05,
          "t": 7.915,
          "v": -0.908992
         },
         {
          "i": 4.623660223602423e-05,
          "t": 7.92,
          "v": -0.908565
         },
         {
          "i": 4.7534991552794396e-05,
          "t": 7.925,
          "v": -0.908059
         },
         {
          "i": 4.8844199254657724e-05,
          "t": 7.93,
          "v": -0.907532
         },
         {
          "i": 5.014763316770119e-05,
          "t": 7.935,
          "v": -0.907077
         },
         {
          "i": 5.1396467080744654e-05,
          "t": 7.94,
          "v": -0.906493
         },
         {
          "i": 5.2636522732918544e-05,
          "t": 7.945,
          "v": -0.906084
         },
         {
          "i": 5.386518931676946e-05,
          "t": 7.95,
          "v": -0.905556
         },
         {
          "i": 5.507150024844647e-05,
          "t": 7.955,
          "v": -0.904949
         },
         {
          "i": 5.6322368695651416e-05,
          "t": 7.96,
          "v": -0.904567
         },
         {
          "i": 5.755877031055824e-05,
          "t": 7.965,
          "v": -0.904021
         },
         {
          "i": 5.876876546583772e-05,
          "t": 7.97,
          "v": -0.903474
         },
         {
          "i": 5.9963493291924664e-05,
          "t": 7.975,
          "v": -0.90302
         },
         {
          "i": 6.113651788819794e-05,
          "t": 7.98,
          "v": -0.902471
         },
         {
          "i": 6.228065279503022e-05,
          "t": 7.985,
          "v": -0.902036
         },
         {
          "i": 6.345182745341529e-05,
          "t": 7.99,
          "v": -0.90148
         },
         {
          "i": 6.463276968944013e-05,
          "t": 7.995,
          "v": -0.900955
         },
         {
          "i": 6.577950099378794e-05,
          "t": 8,
          "v": -0.900576
         },
         {
          "i": 6.69223803726699e-05,
          "t": 8.005,
          "v": -0.900022
         },
         {
          "i": 6.802629291925374e-05,
          "t": 8.01,
          "v": -0.899487
         },
         {
          "i": 6.915079490683137e-05,
          "t": 8.015,
          "v": -0.899059
         },
         {
          "i": 7.023246993788726e-05,
          "t": 8.02,
          "v": -0.898492
         },
         {
          "i": 7.130737478260774e-05,
          "t": 8.025,
          "v": -0.898022
         },
         {
          "i": 7.234750124223505e-05,
          "t": 8.03,
          "v": -0.897531
         },
         {
          "i": 7.333403714285616e-05,
          "t": 8.035,
          "v": -0.896979
         },
         {
          "i": 7.427240658384993e-05,
          "t": 8.04,
          "v": -0.896542
         },
         {
          "i": 7.516167478260769e-05,
          "t": 8.045,
          "v": -0.896035
         },
         {
          "i": 7.604419888198656e-05,
          "t": 8.05,
          "v": -0.895503
         },
         {
          "i": 7.692867242235921e-05,
          "t": 8.055,
          "v": -0.895027
         },
         {
          "i": 7.779376385093063e-05,
          "t": 8.06,
          "v": -0.894473
         },
         {
          "i": 7.860884086956417e-05,
          "t": 8.065,
          "v": -0.894038
         },
         {
          "i": 7.941324198757659e-05,
          "t": 8.07,
          "v": -0.893511
         },
         {
          "i": 8.018120931676911e-05,
          "t": 8.075,
          "v": -0.892976
         },
         {
          "i": 8.095336869565109e-05,
          "t": 8.08,
          "v": -0.892554
         },
         {
          "i": 8.171890248447096e-05,
          "t": 8.085,
          "v": -0.892005
         },
         {
          "i": 8.2487595279502e-05,
          "t": 8.09,
          "v": -0.891482
         },
         {
          "i": 8.322837031055789e-05,
          "t": 8.095,
          "v": -0.891028
         },
         {
          "i": 8.396633242235912e-05,
          "t": 8.1,
          "v": -0.89047
         },
         {
          "i": 8.468484770186221e-05,
          "t": 8.105,
          "v": -0.890024
         },
         {
          "i": 8.535946385093053e-05,
          "t": 8.11,
          "v": -0.889504
         },
         {
          "i": 8.602719130434668e-05,
          "t": 8.115,
          "v": -0.888989
         },
         {
          "i": 8.666167180124108e-05,
          "t": 8.12,
          "v": -0.888518
         },
         {
          "i": 8.729210832298019e-05,
          "t": 8.125,
          "v": -0.887995
         },
         {
          "i": 8.784529838509198e-05,
          "t": 8.13,
          "v": -0.887499
         },
         {
          "i": 8.835797068322863e-05,
          "t": 8.135,
          "v": -0.886997
         },
         {
          "i": 8.882591689440874e-05,
          "t": 8.14,
          "v": -0.886484
         },
         {
          "i": 8.927405316770067e-05,
          "t": 8.145,
          "v": -0.886027
         },
         {
          "i": 8.968853900620997e-05,
          "t": 8.15,
          "v": -0.885483
         },
         {
          "i": 9.006252894409815e-05,
          "t": 8.155,
          "v": -0.884996
         },
         {
          "i": 9.042301739130313e-05,
          "t": 8.16,
          "v": -0.884552
         },
         {
          "i": 9.071514459627208e-05,
          "t": 8.165,
          "v": -0.883999
         },
         {
          "i": 9.096138273291804e-05,
          "t": 8.17,
          "v": -0.883484
         },
         {
          "i": 9.115151701863232e-05,
          "t": 8.175,
          "v": -0.883012
         },
         {
          "i": 9.133852819875654e-05,
          "t": 8.18,
          "v": -0.8825
         },
         {
          "i": 9.150060273291802e-05,
          "t": 8.185,
          "v": -0.882125
         },
         {
          "i": 9.161687055900498e-05,
          "t": 8.19,
          "v": -0.881562
         },
         {
          "i": 9.171323925465715e-05,
          "t": 8.195,
          "v": -0.88095
         },
         {
          "i": 9.179685913043354e-05,
          "t": 8.2,
          "v": -0.88059
         },
         {
          "i": 9.183891093167578e-05,
          "t": 8.205,
          "v": -0.880042
         },
         {
          "i": 9.187045826086833e-05,
          "t": 8.21,
          "v": -0.879495
         },
         {
          "i": 9.190871080745218e-05,
          "t": 8.215,
          "v": -0.87903
         },
         {
          "i": 9.194245316770063e-05,
          "t": 8.22,
          "v": -0.878476
         },
         {
          "i": 9.197002447204845e-05,
          "t": 8.225,
          "v": -0.878062
         },
         {
          "i": 9.198946583850807e-05,
          "t": 8.23,
          "v": -0.877502
         },
         {
          "i": 9.200484583850809e-05,
          "t": 8.235,
          "v": -0.876962
         },
         {
          "i": 9.199949962732795e-05,
          "t": 8.24,
          "v": -0.876587
         },
         {
          "i": 9.196208198757641e-05,
          "t": 8.245,
          "v": -0.875985
         },
         {
          "i": 9.193328546583726e-05,
          "t": 8.25,
          "v": -0.875493
         },
         {
          "i": 9.190658546583728e-05,
          "t": 8.255,
          "v": -0.875048
         },
         {
          "i": 9.1874031180123e-05,
          "t": 8.26,
          "v": -0.874495
         },
         {
          "i": 9.182052273291804e-05,
          "t": 8.265,
          "v": -0.874028
         },
         {
          "i": 9.174584385093044e-05,
          "t": 8.27,
          "v": -0.873531
         },
         {
          "i": 9.166619391304224e-05,
          "t": 8.275,
          "v": -0.872981
         },
         {
          "i": 9.158698273291802e-05,
          "t": 8.28,
          "v": -0.872548
         },
         {
          "i": 9.145191291925342e-05,
          "t": 8.285,
          "v": -0.872035
         },
         {
          "i": 9.131050745341492e-05,
          "t": 8.29,
          "v": -0.871515
         },
         {
          "i": 9.114250037266958e-05,
          "t": 8.295,
          "v": -0.871039
         },
         {
          "i": 9.092713478260747e-05,
          "t": 8.3,
          "v": -0.870511
         },
         {
          "i": 9.07236409937876e-05,
          "t": 8.305,
          "v": -0.870033
         },
         {
          "i": 9.046628248447083e-05,
          "t": 8.31,
          "v": -0.869488
         },
         {
          "i": 9.018667788819755e-05,
          "t": 8.315,
          "v": -0.868942
         },
         {
          "i": 8.989292832298016e-05,
          "t": 8.32,
          "v": -0.868529
         },
         {
          "i": 8.957919590061992e-05,
          "t": 8.325,
          "v": -0.867985
         },
         {
          "i": 8.925024857142736e-05,
          "t": 8.33,
          "v": -0.867455
         },
         {
          "i": 8.886128111801124e-05,
          "t": 8.335,
          "v": -0.867029
         },
         {
          "i": 8.844823863353919e-05,
          "t": 8.34,
          "v": -0.866447
         },
         {
          "i": 8.803463167701745e-05,
          "t": 8.345,
          "v": -0.865966
         },
         {
          "i": 8.762441639751436e-05,
          "t": 8.35,
          "v": -0.865482
         },
         {
          "i": 8.719806136645847e-05,
          "t": 8.355,
          "v": -0.864947
         },
         {
          "i": 8.678065565217275e-05,
          "t": 8.36,
          "v": -0.864489
         },
         {
          "i": 8.638676732919138e-05,
          "t": 8.365,
          "v": -0.863976
         },
         {
          "i": 8.596026136645848e-05,
          "t": 8.37,
          "v": -0.863448
         },
         {
          "i": 8.553306236024729e-05,
          "t": 8.375,
          "v": -0.862981
         },
         {
          "i": 8.512549850931564e-05,
          "t": 8.38,
          "v": -0.862449
         },
         {
          "i": 8.473137962732805e-05,
          "t": 8.385,
          "v": -0.861992
         },
         {
          "i": 8.430428968943986e-05,
          "t": 8.39,
          "v": -0.86146
         },
         {
          "i": 8.386419018633427e-05,
          "t": 8.395,
          "v": -0.860962
         },
         {
          "i": 8.344018695652062e-05,
          "t": 8.4,
          "v": -0.860524
         },
         {
          "i": 8.301629006211069e-05,
          "t": 8.405,
          "v": -0.859966
         },
         {
          "i": 8.257525254658274e-05,
          "t": 8.41,
          "v": -0.859463
         },
         {
          "i": 8.213974720496784e-05,
          "t": 8.415,
          "v": -0.859002
         },
         {
          "i": 8.16681299378871e-05,
          "t": 8.42,
          "v": -0.858459
         },
         {
          "i": 8.12141440993778e-05,
          "t": 8.425,
          "v": -0.857981
         },
         {
          "i": 8.074601217391197e-05,
          "t": 8.43,
          "v": -0.857465
         },
         {
          "i": 8.028166335403618e-05,
          "t": 8.435,
          "v": -0.85692
         },
         {
          "i": 7.979464049689334e-05,
          "t": 8.44,
          "v": -0.856571
         },
         {
          "i": 7.929309242235918e-05,
          "t": 8.445,
          "v": -0.856045
         },
         {
          "i": 7.882576807453311e-05,
          "t": 8.45,
          "v": -0.855418
         },
         {
          "i": 7.840420559006107e-05,
          "t": 8.455,
          "v": -0.855028
         },
         {
          "i": 7.798822372670703e-05,
          "t": 8.46,
          "v": -0.85448
         },
         {
          "i": 7.759369850931572e-05,
          "t": 8.465,
          "v": -0.854028
         },
         {
          "i": 7.72302263354027e-05,
          "t": 8.47,
          "v": -0.853491
         },
         {
          "i": 7.691931192546481e-05,
          "t": 8.475,
          "v": -0.852925
         },
         {
          "i": 7.657895217391202e-05,
          "t": 8.48,
          "v": -0.852586
         },
         {
          "i": 7.631048832298034e-05,
          "t": 8.485,
          "v": -0.851989
         },
         {
          "i": 7.601868534161388e-05,
          "t": 8.49,
          "v": -0.851449
         },
         {
          "i": 7.57197853416139e-05,
          "t": 8.495,
          "v": -0.851017
         },
         {
          "i": 7.539934024844619e-05,
          "t": 8.5,
          "v": -0.850451
         },
         {
          "i": 7.508996782608596e-05,
          "t": 8.505,
          "v": -0.849981
         },
         {
          "i": 7.474784422360148e-05,
          "t": 8.51,
          "v": -0.849503
         },
         {
          "i": 7.439332335403627e-05,
          "t": 8.515,
          "v": -0.84894
         },
         {
          "i": 7.398742559006111e-05,
          "t": 8.52,
          "v": -0.848513
         },
         {
          "i": 7.356117689440895e-05,
          "t": 8.525,
          "v": -0.848004
         },
         {
          "i": 7.311039689440895e-05,
          "t": 8.53,
          "v": -0.847475
         },
         {
          "i": 7.263176198757666e-05,
          "t": 8.535,
          "v": -0.847007
         },
         {
          "i": 7.214332397515431e-05,
          "t": 8.54,
          "v": -0.846478
         },
         {
          "i": 7.165182062111706e-05,
          "t": 8.545,
          "v": -0.846016
         },
         {
          "i": 7.114054608695558e-05,
          "t": 8.55,
          "v": -0.845491
         },
         {
          "i": 7.063588111801147e-05,
          "t": 8.555,
          "v": -0.844964
         },
         {
          "i": 7.014514124223508e-05,
          "t": 8.56,
          "v": -0.844563
         },
         {
          "i": 6.969093490683136e-05,
          "t": 8.565,
          "v": -0.844001
         },
         {
          "i": 6.924249366459534e-05,
          "t": 8.57,
          "v": -0.843464
         },
         {
          "i": 6.885504360248355e-05,
          "t": 8.575,
          "v": -0.843036
         },
         {
          "i": 6.848319341614816e-05,
          "t": 8.58,
          "v": -0.842463
         },
         {
          "i": 6.813420720496802e-05,
          "t": 8.585,
          "v": -0.842012
         },
         {
          "i": 6.777078360248356e-05,
          "t": 8.59,
          "v": -0.841505
         },
         {
          "i": 6.7425935031055e-05,
          "t": 8.595,
          "v": -0.840969
         },
         {
          "i": 6.707650770186246e-05,
          "t": 8.6,
          "v": -0.840506
         },
         {
          "i": 6.67381100621109e-05,
          "t": 8.605,
          "v": -0.839993
         },
         {
          "i": 6.63757541614898e-05,
          "t": 8.61,
          "v": -0.839482
         },
         {
          "i": 6.60075238509308e-05,
          "t": 8.615,
          "v": -0.838994
         },
         {
          "i": 6.560512173912955e-05,
          "t": 8.62,
          "v": -0.838477
         },
         {
          "i": 6.518064819875689e-05,
          "t": 8.625,
          "v": -0.838016
         },
         {
          "i": 6.474709515527863e-05,
          "t": 8.63,
          "v": -0.83748
         },
         {
          "i": 6.430964496894323e-05,
          "t": 8.635,
          "v": -0.836968
         },
         {
          "i": 6.386720086956437e-05,
          "t": 8.64,
          "v": -0.83653
         },
         {
          "i": 6.342396931676933e-05,
          "t": 8.645,
          "v": -0.83598
         },
         {
          "i": 6.30085874534153e-05,
          "t": 8.65,
          "v": -0.835471
         },
         {
          "i": 6.258375391304264e-05,
          "t": 8.655,
          "v": -0.835005
         },
         {
          "i": 6.21614814906824e-05,
          "t": 8.66,
          "v": -0.834465
         },
         {
          "i": 6.177543739130353e-05,
          "t": 8.665,
          "v": -0.833985
         },
         {
          "i": 6.141306583850849e-05,
          "t": 8.67,
          "v": -0.833475
         },
         {
          "i": 6.109940807453333e-05,
          "t": 8.675,
          "v": -0.83298
         },
         {
          "i": 6.08036960248439e-05,
          "t": 8.68,
          "v": -0.832485
         },
         {
          "i": 6.053761180124142e-05,
          "t": 8.685,
          "v": -0.831972
         },
         {
          "i": 6.028455788819795e-05,
          "t": 8.69,
          "v": -0.831409
         },
         {
          "i": 6.005052670807373e-05,
          "t": 8.695,
          "v": -0.831035
         },
         {
          "i": 5.982361192546504e-05,
          "t": 8.7,
          "v": -0.830491
         },
         {
          "i": 5.961831614906753e-05,
          "t": 8.705,
          "v": -0.830046
         },
         {
          "i": 5.944331701863273e-05,
          "t": 8.71,
          "v": -0.829521
         },
         {
          "i": 5.925183888198678e-05,
          "t": 8.715,
          "v": -0.828939
         },
         {
          "i": 5.904595987577561e-05,
          "t": 8.72,
          "v": -0.828607
         },
         {
          "i": 5.8822390931676225e-05,
          "t": 8.725,
          "v": -0.82801
         },
         {
          "i": 5.858218546583772e-05,
          "t": 8.73,
          "v": -0.827472
         },
         {
          "i": 5.834357751552717e-05,
          "t": 8.735,
          "v": -0.827047
         },
         {
          "i": 5.808686049689363e-05,
          "t": 8.74,
          "v": -0.826468
         },
         {
          "i": 5.780810844720419e-05,
          "t": 8.745,
          "v": -0.826009
         },
         {
          "i": 5.752078981366383e-05,
          "t": 8.75,
          "v": -0.82548
         },
         {
          "i": 5.7229646459626556e-05,
          "t": 8.755,
          "v": -0.824951
         },
         {
          "i": 5.690337465838433e-05,
          "t": 8.76,
          "v": -0.824534
         },
         {
          "i": 5.655344857142781e-05,
          "t": 8.765,
          "v": -0.824002
         },
         {
          "i": 5.62205426086949e-05,
          "t": 8.77,
          "v": -0.823487
         },
         {
          "i": 5.588796298136571e-05,
          "t": 8.775,
          "v": -0.823018
         },
         {
          "i": 5.553731863353963e-05,
          "t": 8.78,
          "v": -0.822481
         },
         {
          "i": 5.5186550186334666e-05,
          "t": 8.785,
          "v": -0.822038
         },
         {
          "i": 5.48333821118005e-05,
          "t": 8.79,
          "v": -0.821519
         },
         {
          "i": 5.448181068322908e-05,
          "t": 8.795,
          "v": -0.820962
         },
         {
          "i": 5.4172508819875044e-05,
          "t": 8.8,
          "v": -0.82056
         },
         {
          "i": 5.383823987577568e-05,
          "t": 8.805,
          "v": -0.820015
         },
         {
          "i": 5.3533510807452696e-05,
          "t": 8.81,
          "v": -0.8195
         },
         {
          "i": 5.322573204968873e-05,
          "t": 8.815,
          "v": -0.819052
         },
         {
          "i": 5.2920685714285004e-05,
          "t": 8.82,
          "v": -0.818464
         },
         {
          "i": 5.265940857142787e-05,
          "t": 8.825,
          "v": -0.818014
         },
         {
          "i": 5.237839490683159e-05,
          "t": 8.83,
          "v": -0.817521
         },
         {
          "i": 5.2107059006210475e-05,
          "t": 8.835,
          "v": -0.816974
         },
         {
          "i": 5.18451695652167e-05,
          "t": 8.84,
          "v": -0.816541
         },
         {
          "i": 5.158570248447136e-05,
          "t": 8.845,
          "v": -0.816013
         },
         {
          "i": 5.130667416149e-05,
          "t": 8.85,
          "v": -0.815499
         },
         {
          "i": 5.103476993788752e-05,
          "t": 8.855,
          "v": -0.815012
         },
         {
          "i": 5.0751436273291245e-05,
          "t": 8.86,
          "v": -0.81447
         },
         {
          "i": 5.046209254658317e-05,
          "t": 8.865,
          "v": -0.814023
         },
         {
          "i": 5.018978136645895e-05,
          "t": 8.87,
          "v": -0.813482
         },
         {
          "i": 4.9937255527949636e-05,
          "t": 8.875,
          "v": -0.81298
         },
         {
          "i": 4.9691961242235354e-05,
          "t": 8.88,
          "v": -0.812539
         },
         {
          "i": 4.944144894409872e-05,
          "t": 8.885,
          "v": -0.811985
         },
         {
          "i": 4.916661155279437e-05,
          "t": 8.89,
          "v": -0.81148
         },
         {
          "i": 4.889743850931611e-05,
          "t": 8.895,
          "v": -0.811017
         },
         {
          "i": 4.864944956521674e-05,
          "t": 8.9,
          "v": -0.810474
         },
         {
          "i": 4.8411626708073886e-05,
          "t": 8.905,
          "v": -0.809988
         },
         {
          "i": 4.816767888198693e-05,
          "t": 8.91,
          "v": -0.809475
         },
         {
          "i": 4.791223962732855e-05,
          "t": 8.915,
          "v": -0.80898
         },
         {
          "i": 4.767408062111738e-05,
          "t": 8.92,
          "v": -0.808488
         },
         {
          "i": 4.7404136273291285e-05,
          "t": 8.925,
          "v": -0.807987
         },
         {
          "i": 4.71660567701857e-05,
          "t": 8.93,
          "v": -0.807484
         },
         {
          "i": 4.69372663354031e-05,
          "t": 8.935,
          "v": -0.806995
         },
         {
          "i": 4.669770968944037e-05,
          "t": 8.94,
          "v": -0.806479
         },
         {
          "i": 4.64670311801236e-05,
          "t": 8.945,
          "v": -0.80603
         },
         {
          "i": 4.624814521739069e-05,
          "t": 8.95,
          "v": -0.805566
         },
         {
          "i": 4.6035077763974536e-05,
          "t": 8.955,
          "v": -0.804958
         },
         {
          "i": 4.582109043478199e-05,
          "t": 8.96,
          "v": -0.804576
         },
         {
          "i": 4.5612294906831685e-05,
          "t": 8.965,
          "v": -0.804048
         },
         {
          "i": 4.540457006211119e-05,
          "t": 8.97,
          "v": -0.803513
         },
         {
          "i": 4.522865130434722e-05,
          "t": 8.975,
          "v": -0.803077
         },
         {
          "i": 4.508511763975095e-05,
          "t": 8.98,
          "v": -0.802495
         },
         {
          "i": 4.493488161490623e-05,
          "t": 8.985,
          "v": -0.80208
         },
         {
          "i": 4.4793560124223e-05,
          "t": 8.99,
          "v": -0.801542
         },
         {
          "i": 4.465132211180064e-05,
          "t": 8.995,
          "v": -0.800951
         },
         {
          "i": 4.4509843726707475e-05,
          "t": 9,
          "v": -0.800539
         },
         {
          "i": 4.437716683229755e-05,
          "t": 9.005,
          "v": -0.799989
         },
         {
          "i": 4.426620645962674e-05,
          "t": 9.01,
          "v": -0.799474
         },
         {
          "i": 4.414148248447146e-05,
          "t": 9.015,
          "v": -0.799027
         },
         {
          "i": 4.4009591428570836e-05,
          "t": 9.02,
          "v": -0.798496
         },
         {
          "i": 4.387251105590003e-05,
          "t": 9.025,
          "v": -0.79805
         },
         {
          "i": 4.371671664596215e-05,
          "t": 9.03,
          "v": -0.797533
         },
         {
          "i": 4.357749043478202e-05,
          "t": 9.035,
          "v": -0.796977
         },
         {
          "i": 4.345703254658326e-05,
          "t": 9.04,
          "v": -0.796575
         },
         {
          "i": 4.3332139130434195e-05,
          "t": 9.045,
          "v": -0.79604
         },
         {
          "i": 4.3244734409937305e-05,
          "t": 9.05,
          "v": -0.795501
         },
         {
          "i": 4.3119413291924886e-05,
          "t": 9.055,
          "v": -0.795053
         },
         {
          "i": 4.302111329192489e-05,
          "t": 9.06,
          "v": -0.794506
         },
         {
          "i": 4.291180062111743e-05,
          "t": 9.065,
          "v": -0.79406
         },
         {
          "i": 4.279529813664539e-05,
          "t": 9.07,
          "v": -0.793575
         },
         {
          "i": 4.2684050186334824e-05,
          "t": 9.075,
          "v": -0.792995
         },
         {
          "i": 4.2553486459626755e-05,
          "t": 9.08,
          "v": -0.792568
         },
         {
          "i": 4.243397304347769e-05,
          "t": 9.085,
          "v": -0.792057
         },
         {
          "i": 4.2289399130434217e-05,
          "t": 9.09,
          "v": -0.791543
         },
         {
          "i": 4.2162510683229246e-05,
          "t": 9.095,
          "v": -0.791041
         },
         {
          "i": 4.200272124223546e-05,
          "t": 9.1,
          "v": -0.790505
         },
         {
          "i": 4.18542881987572e-05,
          "t": 9.105,
          "v": -0.790061
         },
         {
          "i": 4.168808658385037e-05,
          "t": 9.11,
          "v": -0.789521
         },
         {
          "i": 4.152179813664541e-05,
          "t": 9.115,
          "v": -0.788989
         },
         {
          "i": 4.1338326956521186e-05,
          "t": 9.12,
          "v": -0.788553
         },
         {
          "i": 4.115191714285659e-05,
          "t": 9.125,
          "v": -0.788013
         },
         {
          "i": 4.093689652173858e-05,
          "t": 9.13,
          "v": -0.787502
         },
         {
          "i": 4.071838136645908e-05,
          "t": 9.135,
          "v": -0.787035
         },
         {
          "i": 4.0511288198757216e-05,
          "t": 9.14,
          "v": -0.786478
         },
         {
          "i": 4.0292564347825544e-05,
          "t": 9.145,
          "v": -0.786018
         },
         {
          "i": 4.0075282360247906e-05,
          "t": 9.15,
          "v": -0.785511
         },
         {
          "i": 3.987521217391251e-05,
          "t": 9.155,
          "v": -0.785
         },
         {
          "i": 3.968307217391251e-05,
          "t": 9.16,
          "v": -0.784505
         },
         {
          "i": 3.9443171428570905e-05,
          "t": 9.165,
          "v": -0.784001
         },
         {
          "i": 3.926245229813612e-05,
          "t": 9.17,
          "v": -0.783509
         },
         {
          "i": 3.906911590062059e-05,
          "t": 9.175,
          "v": -0.783005
         },
         {
          "i": 3.885862186335351e-05,
          "t": 9.18,
          "v": -0.782483
         },
         {
          "i": 3.86543459627324e-05,
          "t": 9.185,
          "v": -0.782039
         },
         {
          "i": 3.8464987950310044e-05,
          "t": 9.19,
          "v": -0.781489
         },
         {
          "i": 3.830299391304296e-05,
          "t": 9.195,
          "v": -0.78099
         },
         {
          "i": 3.81318208695647e-05,
          "t": 9.2,
          "v": -0.780568
         },
         {
          "i": 3.7967425714285205e-05,
          "t": 9.205,
          "v": -0.780092
         },
         {
          "i": 3.7792174409937386e-05,
          "t": 9.21,
          "v": -0.779546
         },
         {
          "i": 3.764936173912993e-05,
          "t": 9.215,
          "v": -0.779106
         },
         {
          "i": 3.749154422360198e-05,
          "t": 9.22,
          "v": -0.77851
         },
         {
          "i": 3.7357707701862846e-05,
          "t": 9.225,
          "v": -0.778136
         },
         {
          "i": 3.721258273291876e-05,
          "t": 9.23,
          "v": -0.777597
         },
         {
          "i": 3.7078772670806955e-05,
          "t": 9.235,
          "v": -0.776954
         },
         {
          "i": 3.693841751552745e-05,
          "t": 9.24,
          "v": -0.776582
         },
         {
          "i": 3.6852483354036773e-05,
          "t": 9.245,
          "v": -0.776037
         },
         {
          "i": 3.674846720496845e-05,
          "t": 9.25,
          "v": -0.775505
         },
         {
          "i": 3.662865316770137e-05,
          "t": 9.255,
          "v": -0.775015
         },
         {
          "i": 3.6518014534161e-05,
          "t": 9.26,
          "v": -0.774477
         },
         {
          "i": 3.642401776397467e-05,
          "t": 9.265,
          "v": -0.774081
         },
         {
          "i": 3.63193044720492e-05,
          "t": 9.27,
          "v": -0.773502
         },
         {
          "i": 3.6210032795030574e-05,
          "t": 9.275,
          "v": -0.77298
         },
         {
          "i": 3.613419118012374e-05,
          "t": 9.28,
          "v": -0.772596
         },
         {
          "i": 3.601502322981319e-05,
          "t": 9.285,
          "v": -0.772023
         },
         {
          "i": 3.589858670807405e-05,
          "t": 9.29,
          "v": -0.771508
         },
         {
          "i": 3.5793703354036784e-05,
          "t": 9.295,
          "v": -0.771078
         },
         {
          "i": 3.573882795031007e-05,
          "t": 9.3,
          "v": -0.770507
         },
         {
          "i": 3.5657748944098905e-05,
          "t": 9.305,
          "v": -0.770049
         },
         {
          "i": 3.5567491055900146e-05,
          "t": 9.31,
          "v": -0.76955
         },
         {
          "i": 3.546580770186288e-05,
          "t": 9.315,
          "v": -0.76901
         },
         {
          "i": 3.5379370434782134e-05,
          "t": 9.32,
          "v": -0.768556
         },
         {
          "i": 3.5294400248446736e-05,
          "t": 9.325,
          "v": -0.768052
         },
         {
          "i": 3.522132335403679e-05,
          "t": 9.33,
          "v": -0.767479
         },
         {
          "i": 3.512971490683182e-05,
          "t": 9.335,
          "v": -0.767024
         },
         {
          "i": 3.505707552794984e-05,
          "t": 9.34,
          "v": -0.766475
         },
         {
          "i": 3.493283055900574e-05,
          "t": 9.345,
          "v": -0.766034
         },
         {
          "i": 3.4821746708074067e-05,
          "t": 9.35,
          "v": -0.765491
         },
         {
          "i": 3.469546285714239e-05,
          "t": 9.355,
          "v": -0.764969
         },
         {
          "i": 3.452051192546537e-05,
          "t": 9.36,
          "v": -0.764561
         },
         {
          "i": 3.435599068322935e-05,
          "t": 9.365,
          "v": -0.764004
         },
         {
          "i": 3.4178792049688976e-05,
          "t": 9.37,
          "v": -0.763471
         },
         {
          "i": 3.401114981366414e-05,
          "t": 9.375,
          "v": -0.763029
         },
         {
          "i": 3.382891838509271e-05,
          "t": 9.38,
          "v": -0.762465
         },
         {
          "i": 3.3660191180123774e-05,
          "t": 9.385,
          "v": -0.761988
         },
         {
          "i": 3.349476534161446e-05,
          "t": 9.39,
          "v": -0.761479
         },
         {
          "i": 3.32998072049685e-05,
          "t": 9.395,
          "v": -0.760964
         },
         {
          "i": 3.3104150434782165e-05,
          "t": 9.4,
          "v": -0.760501
         },
         {
          "i": 3.294018881987533e-05,
          "t": 9.405,
          "v": -0.759988
         },
         {
          "i": 3.2811044844720054e-05,
          "t": 9.41,
          "v": -0.759464
         },
         {
          "i": 3.266548881987534e-05,
          "t": 9.415,
          "v": -0.758989
         },
         {
          "i": 3.2532181987577195e-05,
          "t": 9.42,
          "v": -0.758456
         },
         {
          "i": 3.2403695155279065e-05,
          "t": 9.425,
          "v": -0.757998
         },
         {
          "i": 3.227517279503062e-05,
          "t": 9.43,
          "v": -0.757461
         },
         {
          "i": 3.2175501366459196e-05,
          "t": 9.435,
          "v": -0.756975
         },
         {
          "i": 3.206390708074491e-05,
          "t": 9.44,
          "v": -0.756527
         },
         {
          "i": 3.1949143602484045e-05,
          "t": 9.445,
          "v": -0.755972
         },
         {
          "i": 3.186060881987535e-05,
          "t": 9.45,
          "v": -0.755456
         },
         {
          "i": 3.1708957639751124e-05,
          "t": 9.455,
          "v": -0.75501
         },
         {
          "i": 3.158551490683187e-05,
          "t": 9.46,
          "v": -0.754502
         },
         {
          "i": 3.1440463850931254e-05,
          "t": 9.465,
          "v": -0.754098
         },
         {
          "i": 3.130096273291883e-05,
          "t": 9.47,
          "v": -0.753564
         },
         {
          "i": 3.1206675279502684e-05,
          "t": 9.475,
          "v": -0.752939
         },
         {
          "i": 3.109173776397473e-05,
          "t": 9.48,
          "v": -0.752578
         },
         {
          "i": 3.098345329192505e-05,
          "t": 9.485,
          "v": -0.752054
         },
         {
          "i": 3.088467652173871e-05,
          "t": 9.49,
          "v": -0.751456
         },
         {
          "i": 3.0808466086956106e-05,
          "t": 9.495,
          "v": -0.751016
         },
         {
          "i": 3.0718339254657976e-05,
          "t": 9.5,
          "v": -0.750476
         },
         {
          "i": 3.062948919254617e-05,
          "t": 9.505,
          "v": -0.750028
         },
         {
          "i": 3.0537356149067915e-05,
          "t": 9.51,
          "v": -0.749485
         },
         {
          "i": 3.0467884844720086e-05,
          "t": 9.515,
          "v": -0.748943
         },
         {
          "i": 3.03757255900617e-05,
          "t": 9.52,
          "v": -0.74857
         },
         {
          "i": 3.0269608571428166e-05,
          "t": 9.525,
          "v": -0.747972
         },
         {
          "i": 3.0150257515527542e-05,
          "t": 9.53,
          "v": -0.747472
         },
         {
          "i": 3.002576298136606e-05,
          "t": 9.535,
          "v": -0.747047
         },
         {
          "i": 2.992917962732879e-05,
          "t": 9.54,
          "v": -0.746486
         },
         {
          "i": 2.984505366459587e-05,
          "t": 9.545,
          "v": -0.746018
         },
         {
          "i": 2.9750436024844324e-05,
          "t": 9.55,
          "v": -0.745526
         },
         {
          "i": 2.9657878385092768e-05,
          "t": 9.555,
          "v": -0.744971
         },
         {
          "i": 2.9574072546583458e-05,
          "t": 9.56,
          "v": -0.744546
         },
         {
          "i": 2.94453847204965e-05,
          "t": 9.565,
          "v": -0.744018
         },
         {
          "i": 2.9325977888198363e-05,
          "t": 9.57,
          "v": -0.743485
         },
         {
          "i": 2.9211771801241842e-05,
          "t": 9.575,
          "v": -0.743029
         },
         {
          "i": 2.912725838509278e-05,
          "t": 9.58,
          "v": -0.742502
         },
         {
          "i": 2.9056772422359856e-05,
          "t": 9.585,
          "v": -0.742027
         },
         {
          "i": 2.8958485465838122e-05,
          "t": 9.59,
          "v": -0.741509
         },
         {
          "i": 2.890011776397477e-05,
          "t": 9.595,
          "v": -0.740972
         },
         {
          "i": 2.8849301366459238e-05,
          "t": 9.6,
          "v": -0.740543
         },
         {
          "i": 2.881412186335365e-05,
          "t": 9.605,
          "v": -0.740014
         },
         {
          "i": 2.8764694658384706e-05,
          "t": 9.61,
          "v": -0.739487
         },
         {
          "i": 2.873079093167663e-05,
          "t": 9.615,
          "v": -0.73904
         },
         {
          "i": 2.8685412795030668e-05,
          "t": 9.62,
          "v": -0.738481
         },
         {
          "i": 2.8629163850931293e-05,
          "t": 9.625,
          "v": -0.738013
         },
         {
          "i": 2.8575388571428187e-05,
          "t": 9.63,
          "v": -0.737507
         },
         {
          "i": 2.8523186956521358e-05,
          "t": 9.635,
          "v": -0.736986
         },
         {
          "i": 2.849746012422322e-05,
          "t": 9.64,
          "v": -0.736519
         },
         {
          "i": 2.847234757763937e-05,
          "t": 9.645,
          "v": -0.736004
         },
         {
          "i": 2.845690807453378e-05,
          "t": 9.65,
          "v": -0.735492
         },
         {
          "i": 2.8432044844720116e-05,
          "t": 9.655,
          "v": -0.734993
         },
         {
          "i": 2.839785552794993e-05,
          "t": 9.66,
          "v": -0.734469
         },
         {
          "i": 2.8344694782608316e-05,
          "t": 9.665,
          "v": -0.734005
         },
         {
          "i": 2.831185776397477e-05,
          "t": 9.67,
          "v": -0.733477
         },
         {
          "i": 2.82605539130431e-05,
          "t": 9.675,
          "v": -0.732981
         },
         {
          "i": 2.8220540248446827e-05,
          "t": 9.68,
          "v": -0.732531
         },
         {
          "i": 2.8185294409937505e-05,
          "t": 9.685,
          "v": -0.731983
         },
         {
          "i": 2.8143828198757382e-05,
          "t": 9.69,
          "v": -0.731473
         },
         {
          "i": 2.8091922608695275e-05,
          "t": 9.695,
          "v": -0.731007
         },
         {
          "i": 2.8030409068322606e-05,
          "t": 9.7,
          "v": -0.730479
         },
         {
          "i": 2.7995998757763598e-05,
          "t": 9.705,
          "v": -0.729988
         },
         {
          "i": 2.7938326086956142e-05,
          "t": 9.71,
          "v": -0.729476
         },
         {
          "i": 2.7887426459626956e-05,
          "t": 9.715,
          "v": -0.728937
         },
         {
          "i": 2.783551080745304e-05,
          "t": 9.72,
          "v": -0.728609
         },
         {
          "i": 2.7783756024844347e-05,
          "t": 9.725,
          "v": -0.728067
         },
         {
          "i": 2.7729663354036894e-05,
          "t": 9.73,
          "v": -0.727468
         },
         {
          "i": 2.765474173913006e-05,
          "t": 9.735,
          "v": -0.727055
         },
         {
          "i": 2.7607285838508944e-05,
          "t": 9.74,
          "v": -0.726504
         },
         {
          "i": 2.754382459627292e-05,
          "t": 9.745,
          "v": -0.726054
         },
         {
          "i": 2.7495825217390935e-05,
          "t": 9.75,
          "v": -0.725508
         },
         {
          "i": 2.744014149068286e-05,
          "t": 9.755,
          "v": -0.724946
         },
         {
          "i": 2.7382016770185968e-05,
          "t": 9.76,
          "v": -0.724588
         },
         {
          "i": 2.7351991801241865e-05,
          "t": 9.765,
          "v": -0.723997
         },
         {
          "i": 2.7313633540372305e-05,
          "t": 9.77,
          "v": -0.72347
         },
         {
          "i": 2.7259434658384725e-05,
          "t": 9.775,
          "v": -0.723024
         },
         {
          "i": 2.722779378881951e-05,
          "t": 9.78,
          "v": -0.722478
         },
         {
          "i": 2.72093932919251e-05,
          "t": 9.785,
          "v": -0.722029
         },
         {
          "i": 2.716627267080709e-05,
          "t": 9.79,
          "v": -0.721529
         },
         {
          "i": 2.7129844472049326e-05,
          "t": 9.795,
          "v": -0.720974
         },
         {
          "i": 2.708461279503069e-05,
          "t": 9.8,
          "v": -0.720545
         },
         {
          "i": 2.704732434782572e-05,
          "t": 9.805,
          "v": -0.72003
         },
         {
          "i": 2.7019440372670445e-05,
          "t": 9.81,
          "v": -0.719505
         },
         {
          "i": 2.700634024844684e-05,
          "t": 9.815,
          "v": -0.719041
         },
         {
          "i": 2.6991267950310197e-05,
          "t": 9.82,
          "v": -0.718499
         },
         {
          "i": 2.6967073167701503e-05,
          "t": 9.825,
          "v": -0.718044
         },
         {
          "i": 2.6944001863353677e-05,
          "t": 9.83,
          "v": -0.717534
         },
         {
          "i": 2.691417776397479e-05,
          "t": 9.835,
          "v": -0.71698
         },
         {
          "i": 2.6877764099378524e-05,
          "t": 9.84,
          "v": -0.716559
         },
         {
          "i": 2.6836592298136286e-05,
          "t": 9.845,
          "v": -0.716005
         },
         {
          "i": 2.681513639751517e-05,
          "t": 9.85,
          "v": -0.715448
         },
         {
          "i": 2.6764103354036907e-05,
          "t": 9.855,
          "v": -0.715036
         },
         {
          "i": 2.6728953291925114e-05,
          "t": 9.86,
          "v": -0.714472
         },
         {
          "i": 2.670160322981331e-05,
          "t": 9.865,
          "v": -0.714
         },
         {
          "i": 2.6683788322981006e-05,
          "t": 9.87,
          "v": -0.71351
         },
         {
          "i": 2.665840248447169e-05,
          "t": 9.875,
          "v": -0.712968
         },
         {
          "i": 2.661700385093132e-05,
          "t": 9.88,
          "v": -0.712502
         },
         {
          "i": 2.657849577639716e-05,
          "t": 9.885,
          "v": -0.711979
         },
         {
          "i": 2.652923403726673e-05,
          "t": 9.89,
          "v": -0.711466
         },
         {
          "i": 2.648637378881952e-05,
          "t": 9.895,
          "v": -0.711002
         },
         {
          "i": 2.642318161490648e-05,
          "t": 9.9,
          "v": -0.710464
         },
         {
          "i": 2.6350997763974805e-05,
          "t": 9.905,
          "v": -0.709996
         },
         {
          "i": 2.629367006211145e-05,
          "t": 9.91,
          "v": -0.709462
         },
         {
          "i": 2.6233552298136293e-05,
          "t": 9.915,
          "v": -0.708969
         },
         {
          "i": 2.6174203602484123e-05,
          "t": 9.92,
          "v": -0.708518
         },
         {
          "i": 2.6102155900620767e-05,
          "t": 9.925,
          "v": -0.707976
         },
         {
          "i": 2.6019238881987233e-05,
          "t": 9.93,
          "v": -0.70746
         },
         {
          "i": 2.5945031925465492e-05,
          "t": 9.935,
          "v": -0.707017
         },
         {
          "i": 2.586092509316735e-05,
          "t": 9.94,
          "v": -0.706465
         },
         {
          "i": 2.57946771428568e-05,
          "t": 9.945,
          "v": -0.705979
         },
         {
          "i": 2.5741959751552452e-05,
          "t": 9.95,
          "v": -0.705474
         },
         {
          "i": 2.5707106459626985e-05,
          "t": 9.955,
          "v": -0.704977
         },
         {
          "i": 2.5669408944099037e-05,
          "t": 9.96,
          "v": -0.704488
         },
         {
          "i": 2.5649149813664253e-05,
          "t": 9.965,
          "v": -0.703976
         },
         {
          "i": 2.5630423850931332e-05,
          "t": 9.97,
          "v": -0.703416
         },
         {
          "i": 2.5620359875776052e-05,
          "t": 9.975,
          "v": -0.703044
         },
         {
          "i": 2.5615857515527605e-05,
          "t": 9.98,
          "v": -0.702503
         },
         {
          "i": 2.559128484472015e-05,
          "t": 9.985,
          "v": -0.702026
         },
         {
          "i": 2.558634968944065e-05,
          "t": 9.99,
          "v": -0.701528
         },
         {
          "i": 2.5604284844720152e-05,
          "t": 9.995,
          "v": -0.700949
         },
         {
          "i": 2.559806857142823e-05,
          "t": 10,
          "v": -0.700585
         },
         {
          "i": 2.5607154906831957e-05,
          "t": 10.005,
          "v": -0.700027
         },
         {
          "i": 2.5605751428571086e-05,
          "t": 10.01,
          "v": -0.699467
         },
         {
          "i": 2.5589377888198416e-05,
          "t": 10.015,
          "v": -0.699049
         },
         {
          "i": 2.5595822484471705e-05,
          "t": 10.02,
          "v": -0.698471
         },
         {
          "i": 2.555204770186301e-05,
          "t": 10.025,
          "v": -0.697984
         },
         {
          "i": 2.5477086583850594e-05,
          "t": 10.03,
          "v": -0.697503
         },
         {
          "i": 2.5382149937887862e-05,
          "t": 10.035,
          "v": -0.696948
         },
         {
          "i": 2.5304932422359908e-05,
          "t": 10.04,
          "v": -0.696566
         },
         {
          "i": 2.5195370062111463e-05,
          "t": 10.045,
          "v": -0.69603
         },
         {
          "i": 2.504868099378848e-05,
          "t": 10.05,
          "v": -0.695478
         },
         {
          "i": 2.4917237267080412e-05,
          "t": 10.055,
          "v": -0.695032
         },
         {
          "i": 2.4743933788819546e-05,
          "t": 10.06,
          "v": -0.694501
         },
         {
          "i": 2.461089962732886e-05,
          "t": 10.065,
          "v": -0.694016
         },
         {
          "i": 2.446716869565185e-05,
          "t": 10.07,
          "v": -0.693525
         },
         {
          "i": 2.4333716770186006e-05,
          "t": 10.075,
          "v": -0.692965
         },
         {
          "i": 2.418486683229781e-05,
          "t": 10.08,
          "v": -0.692558
         },
         {
          "i": 2.4052100993788493e-05,
          "t": 10.085,
          "v": -0.692035
         },
         {
          "i": 2.3945338757763654e-05,
          "t": 10.09,
          "v": -0.691499
         },
         {
          "i": 2.3866190434782288e-05,
          "t": 10.095,
          "v": -0.691065
         },
         {
          "i": 2.3800100124223287e-05,
          "t": 10.1,
          "v": -0.690497
         },
         {
          "i": 2.3735696770186018e-05,
          "t": 10.105,
          "v": -0.690025
         },
         {
          "i": 2.3703219254658066e-05,
          "t": 10.11,
          "v": -0.689546
         },
         {
          "i": 2.3688030683229497e-05,
          "t": 10.115,
          "v": -0.688969
         },
         {
          "i": 2.3672341614906515e-05,
          "t": 10.12,
          "v": -0.688541
         },
         {
          "i": 2.3700136273291605e-05,
          "t": 10.125,
          "v": -0.68804
         },
         {
          "i": 2.3691143229813346e-05,
          "t": 10.13,
          "v": -0.68751
         },
         {
          "i": 2.3668391055900303e-05,
          "t": 10.135,
          "v": -0.687011
         },
         {
          "i": 2.362174807453384e-05,
          "t": 10.14,
          "v": -0.686477
         },
         {
          "i": 2.360202745341583e-05,
          "t": 10.145,
          "v": -0.686018
         },
         {
          "i": 2.3533095652173597e-05,
          "t": 10.15,
          "v": -0.685494
         },
         {
          "i": 2.3431858881987263e-05,
          "t": 10.155,
          "v": -0.684977
         },
         {
          "i": 2.335284434782577e-05,
          "t": 10.16,
          "v": -0.684549
         },
         {
          "i": 2.3206112298136333e-05,
          "t": 10.165,
          "v": -0.68399
         },
         {
          "i": 2.3073293291925157e-05,
          "t": 10.17,
          "v": -0.683489
         },
         {
          "i": 2.2954939627328883e-05,
          "t": 10.175,
          "v": -0.683022
         },
         {
          "i": 2.2824852049689132e-05,
          "t": 10.18,
          "v": -0.682468
         },
         {
          "i": 2.2694526086956218e-05,
          "t": 10.185,
          "v": -0.681999
         },
         {
          "i": 2.257945701863324e-05,
          "t": 10.19,
          "v": -0.681492
         },
         {
          "i": 2.2490696397515226e-05,
          "t": 10.195,
          "v": -0.680985
         },
         {
          "i": 2.2422398633540074e-05,
          "t": 10.2,
          "v": -0.680506
         },
         {
          "i": 2.2331384596272994e-05,
          "t": 10.205,
          "v": -0.679989
         },
         {
          "i": 2.225161577639722e-05,
          "t": 10.21,
          "v": -0.679495
         },
         {
          "i": 2.2204891428571133e-05,
          "t": 10.215,
          "v": -0.678999
         },
         {
          "i": 2.2214778757763677e-05,
          "t": 10.22,
          "v": -0.678476
         },
         {
          "i": 2.2214609689440696e-05,
          "t": 10.225,
          "v": -0.678048
         },
         {
          "i": 2.2220380621117714e-05,
          "t": 10.23,
          "v": -0.677568
         },
         {
          "i": 2.2246982111800942e-05,
          "t": 10.235,
          "v": -0.676962
         },
         {
          "i": 2.2220203602484177e-05,
          "t": 10.24,
          "v": -0.676601
         },
         {
          "i": 2.2241634658384792e-05,
          "t": 10.245,
          "v": -0.676065
         },
         {
          "i": 2.2234213540372374e-05,
          "t": 10.25,
          "v": -0.675516
         },
         {
          "i": 2.2220961739130138e-05,
          "t": 10.255,
          "v": -0.675079
         },
         {
          "i": 2.2176256397515228e-05,
          "t": 10.26,
          "v": -0.674494
         },
         {
          "i": 2.214623229813635e-05,
          "t": 10.265,
          "v": -0.674067
         },
         {
          "i": 2.2091719503105295e-05,
          "t": 10.27,
          "v": -0.673533
         },
         {
          "i": 2.1991153540372375e-05,
          "t": 10.275,
          "v": -0.67295
         },
         {
          "i": 2.1922091677018337e-05,
          "t": 10.28,
          "v": -0.672533
         },
         {
          "i": 2.1816333291925172e-05,
          "t": 10.285,
          "v": -0.671986
         },
         {
          "i": 2.1745258012422065e-05,
          "t": 10.29,
          "v": -0.671507
         },
         {
          "i": 2.1681285341614616e-05,
          "t": 10.295,
          "v": -0.671019
         },
         {
          "i": 2.1592901739130146e-05,
          "t": 10.3,
          "v": -0.670486
         },
         {
          "i": 2.1522793043477968e-05,
          "t": 10.305,
          "v": -0.670051
         },
         {
          "i": 2.1463664596273005e-05,
          "t": 10.31,
          "v": -0.66951
         },
         {
          "i": 2.1381388074533877e-05,
          "t": 10.315,
          "v": -0.668981
         },
         {
          "i": 2.1336182608695364e-05,
          "t": 10.32,
          "v": -0.668581
         },
         {
          "i": 2.130389291925437e-05,
          "t": 10.325,
          "v": -0.668024
         },
         {
          "i": 2.1271122111800957e-05,
          "t": 10.33,
          "v": -0.667508
         },
         {
          "i": 2.1242434409937602e-05,
          "t": 10.335,
          "v": -0.667053
         },
         {
          "i": 2.1230361118012136e-05,
          "t": 10.34,
          "v": -0.666502
         },
         {
          "i": 2.122907341614878e-05,
          "t": 10.345,
          "v": -0.666039
         },
         {
          "i": 2.1216551801241952e-05,
          "t": 10.35,
          "v": -0.66554
         },
         {
          "i": 2.1227548695651887e-05,
          "t": 10.355,
          "v": -0.664943
         },
         {
          "i": 2.120958571428543e-05,
          "t": 10.36,
          "v": -0.664513
         },
         {
          "i": 2.1181651552794745e-05,
          "t": 10.365,
          "v": -0.664004
         },
         {
          "i": 2.116210236024816e-05,
          "t": 10.37,
          "v": -0.663462
         },
         {
          "i": 2.113233391304319e-05,
          "t": 10.375,
          "v": -0.663003
         },
         {
          "i": 2.1103679378881705e-05,
          "t": 10.38,
          "v": -0.662465
         },
         {
          "i": 2.1068221242235743e-05,
          "t": 10.385,
          "v": -0.662013
         },
         {
          "i": 2.1017191428571147e-05,
          "t": 10.39,
          "v": -0.661474
         },
         {
          "i": 2.0955863975154998e-05,
          "t": 10.395,
          "v": -0.660948
         },
         {
          "i": 2.091327602484444e-05,
          "t": 10.4,
          "v": -0.66052
         },
         {
          "i": 2.0860625962732637e-05,
          "t": 10.405,
          "v": -0.659978
         },
         {
          "i": 2.0766011304347545e-05,
          "t": 10.41,
          "v": -0.659457
         },
         {
          "i": 2.0713230807453136e-05,
          "t": 10.415,
          "v": -0.659016
         },
         {
          "i": 2.0635425217391024e-05,
          "t": 10.42,
          "v": -0.658452
         },
         {
          "i": 2.0519026832297863e-05,
          "t": 10.425,
          "v": -0.657977
         },
         {
          "i": 2.0433035900620844e-05,
          "t": 10.43,
          "v": -0.657464
         },
         {
          "i": 2.0369222236024574e-05,
          "t": 10.435,
          "v": -0.656955
         },
         {
          "i": 2.032173552795004e-05,
          "t": 10.44,
          "v": -0.656481
         },
         {
          "i": 2.028618906832271e-05,
          "t": 10.445,
          "v": -0.655974
         },
         {
          "i": 2.025656459627302e-05,
          "t": 10.45,
          "v": -0.655464
         },
         {
          "i": 2.021628459627302e-05,
          "t": 10.455,
          "v": -0.654974
         },
         {
          "i": 2.0171790931676748e-05,
          "t": 10.46,
          "v": -0.654449
         },
         {
          "i": 2.0159396770186064e-05,
          "t": 10.465,
          "v": -0.653983
         },
         {
          "i": 2.0115880993788548e-05,
          "t": 10.47,
          "v": -0.653455
         },
         {
          "i": 2.006286161490656e-05,
          "t": 10.475,
          "v": -0.652971
         },
         {
          "i": 2.0031934037266814e-05,
          "t": 10.48,
          "v": -0.652531
         },
         {
          "i": 2.000470136645936e-05,
          "t": 10.485,
          "v": -0.652055
         },
         {
          "i": 1.9964651055900354e-05,
          "t": 10.49,
          "v": -0.651492
         },
         {
          "i": 1.9923462732918987e-05,
          "t": 10.495,
          "v": -0.651065
         },
         {
          "i": 1.9879722732918987e-05,
          "t": 10.5,
          "v": -0.650501
         },
         {
          "i": 1.9834262484471784e-05,
          "t": 10.505,
          "v": -0.650053
         },
         {
          "i": 1.9802904596273025e-05,
          "t": 10.51,
          "v": -0.649545
         },
         {
          "i": 1.9738208695651905e-05,
          "t": 10.515,
          "v": -0.648935
         },
         {
          "i": 1.9694226459627063e-05,
          "t": 10.52,
          "v": -0.648549
         },
         {
          "i": 1.964920521739104e-05,
          "t": 10.525,
          "v": -0.64802
         },
         {
          "i": 1.9593285465838248e-05,
          "t": 10.53,
          "v": -0.647444
         },
         {
          "i": 1.953719279503079e-05,
          "t": 10.535,
          "v": -0.647013
         },
         {
          "i": 1.9511969689440733e-05,
          "t": 10.54,
          "v": -0.646454
         },
         {
          "i": 1.948855913043452e-05,
          "t": 10.545,
          "v": -0.646024
         },
         {
          "i": 1.946254596273266e-05,
          "t": 10.55,
          "v": -0.64546
         },
         {
          "i": 1.9422820496894153e-05,
          "t": 10.555,
          "v": -0.64494
         },
         {
          "i": 1.9376893043478003e-05,
          "t": 10.56,
          "v": -0.644552
         },
         {
          "i": 1.9342798260869307e-05,
          "t": 10.565,
          "v": -0.643997
         },
         {
          "i": 1.9343854285714026e-05,
          "t": 10.57,
          "v": -0.643454
         },
         {
          "i": 1.93356879503103e-05,
          "t": 10.575,
          "v": -0.643044
         },
         {
          "i": 1.9300834658384835e-05,
          "t": 10.58,
          "v": -0.642484
         },
         {
          "i": 1.928732695652148e-05,
          "t": 10.585,
          "v": -0.642
         },
         {
          "i": 1.9308662981366203e-05,
          "t": 10.59,
          "v": -0.641516
         },
         {
          "i": 1.9300527826086696e-05,
          "t": 10.595,
          "v": -0.640964
         },
         {
          "i": 1.925534645962707e-05,
          "t": 10.6,
          "v": -0.640535
         },
         {
          "i": 1.9227198633540115e-05,
          "t": 10.605,
          "v": -0.640015
         },
         {
          "i": 1.9194662732919e-05,
          "t": 10.61,
          "v": -0.639494
         },
         {
          "i": 1.9165663105589806e-05,
          "t": 10.615,
          "v": -0.639017
         },
         {
          "i": 1.9136251180123966e-05,
          "t": 10.62,
          "v": -0.638473
         },
         {
          "i": 1.909633888198732e-05,
          "t": 10.625,
          "v": -0.638015
         },
         {
          "i": 1.907125180124198e-05,
          "t": 10.63,
          "v": -0.637487
         },
         {
          "i": 1.9041470683229557e-05,
          "t": 10.635,
          "v": -0.636956
         },
         {
          "i": 1.9019962236024586e-05,
          "t": 10.64,
          "v": -0.636524
         },
         {
          "i": 1.8978770062111547e-05,
          "t": 10.645,
          "v": -0.635994
         },
         {
          "i": 1.892081180124198e-05,
          "t": 10.65,
          "v": -0.635482
         },
         {
          "i": 1.885994819875751e-05,
          "t": 10.655,
          "v": -0.635025
         },
         {
          "i": 1.8796005590061858e-05,
          "t": 10.66,
          "v": -0.634464
         },
         {
          "i": 1.872927875776372e-05,
          "t": 10.665,
          "v": -0.633999
         },
         {
          "i": 1.8679901242235776e-05,
          "t": 10.67,
          "v": -0.6335
         },
         {
          "i": 1.866866857142832e-05,
          "t": 10.675,
          "v": -0.632966
         },
         {
          "i": 1.8653293291925217e-05,
          "t": 10.68,
          "v": -0.632507
         },
         {
          "i": 1.8653663726707824e-05,
          "t": 10.685,
          "v": -0.631988
         },
         {
          "i": 1.863821055900596e-05,
          "t": 10.69,
          "v": -0.631473
         },
         {
          "i": 1.8615706335403477e-05,
          "t": 10.695,
          "v": -0.630984
         },
         {
          "i": 1.8610939254658136e-05,
          "t": 10.7,
          "v": -0.630462
         },
         {
          "i": 1.8564131801241986e-05,
          "t": 10.705,
          "v": -0.63
         },
         {
          "i": 1.855612186335379e-05,
          "t": 10.71,
          "v": -0.629466
         },
         {
          "i": 1.8570328074533913e-05,
          "t": 10.715,
          "v": -0.628973
         },
         {
          "i": 1.858146956521714e-05,
          "t": 10.72,
          "v": -0.628535
         },
         {
          "i": 1.8590314161490432e-05,
          "t": 10.725,
          "v": -0.627977
         },
         {
          "i": 1.858283701863329e-05,
          "t": 10.73,
          "v": -0.627464
         },
         {
          "i": 1.8585299130434533e-05,
          "t": 10.735,
          "v": -0.627004
         },
         {
          "i": 1.8577357391304097e-05,
          "t": 10.74,
          "v": -0.626502
         },
         {
          "i": 1.8607442236024595e-05,
          "t": 10.745,
          "v": -0.626114
         },
         {
          "i": 1.8624012795030806e-05,
          "t": 10.75,
          "v": -0.62557
         },
         {
          "i": 1.8629286832297887e-05,
          "t": 10.755,
          "v": -0.624942
         },
         {
          "i": 1.8611764099378634e-05,
          "t": 10.76,
          "v": -0.62458
         },
         {
          "i": 1.86038976397513e-05,
          "t": 10.765,
          "v": -0.624051
         },
         {
          "i": 1.8588910807453166e-05,
          "t": 10.77,
          "v": -0.623466
         },
         {
          "i": 1.8587128322981117e-05,
          "t": 10.775,
          "v": -0.623034
         },
         {
          "i": 1.8594522236024596e-05,
          "t": 10.78,
          "v": -0.622477
         },
         {
          "i": 1.8575089689440747e-05,
          "t": 10.785,
          "v": -0.62203
         },
         {
          "i": 1.854934496894385e-05,
          "t": 10.79,
          "v": -0.621488
         },
         {
          "i": 1.8526373167701616e-05,
          "t": 10.795,
          "v": -0.620954
         },
         {
          "i": 1.8467288447204718e-05,
          "t": 10.8,
          "v": -0.620582
         },
         {
          "i": 1.8427338012422114e-05,
          "t": 10.805,
          "v": -0.619971
         },
         {
          "i": 1.8389027950310313e-05,
          "t": 10.81,
          "v": -0.619455
         },
         {
          "i": 1.8362141987577394e-05,
          "t": 10.815,
          "v": -0.619036
         },
         {
          "i": 1.8364774037266834e-05,
          "t": 10.82,
          "v": -0.618488
         },
         {
          "i": 1.8330985962732674e-05,
          "t": 10.825,
          "v": -0.618018
         },
         {
          "i": 1.8299563602484228e-05,
          "t": 10.83,
          "v": -0.617532
         },
         {
          "i": 1.825603913043454e-05,
          "t": 10.835,
          "v": -0.61698
         },
         {
          "i": 1.8207921490682988e-05,
          "t": 10.84,
          "v": -0.616546
         },
         {
          "i": 1.8180076894409692e-05,
          "t": 10.845,
          "v": -0.616019
         },
         {
          "i": 1.8167592298136404e-05,
          "t": 10.85,
          "v": -0.615513
         },
         {
          "i": 1.8182625341614665e-05,
          "t": 10.855,
          "v": -0.615028
         },
         {
          "i": 1.8161443975155035e-05,
          "t": 10.86,
          "v": -0.614504
         },
         {
          "i": 1.8158963354037023e-05,
          "t": 10.865,
          "v": -0.614019
         },
         {
          "i": 1.8137577391304106e-05,
          "t": 10.87,
          "v": -0.613505
         },
         {
          "i": 1.8095836397515285e-05,
          "t": 10.875,
          "v": -0.612952
         },
         {
          "i": 1.8077698881987333e-05,
          "t": 10.88,
          "v": -0.612534
         },
         {
          "i": 1.8052406211179883e-05,
          "t": 10.885,
          "v": -0.612005
         },
         {
          "i": 1.8033303229813422e-05,
          "t": 10.89,
          "v": -0.611476
         },
         {
          "i": 1.800708571428547e-05,
          "t": 10.895,
          "v": -0.611023
         },
         {
          "i": 1.8002512919254417e-05,
          "t": 10.9,
          "v": -0.610474
         },
         {
          "i": 1.7979112049689197e-05,
          "t": 10.905,
          "v": -0.610005
         },
         {
          "i": 1.7943112173912802e-05,
          "t": 10.91,
          "v": -0.609493
         },
         {
          "i": 1.7928171925465596e-05,
          "t": 10.915,
          "v": -0.60897
         },
         {
          "i": 1.7894305590061873e-05,
          "t": 10.92,
          "v": -0.608502
         },
         {
          "i": 1.7877713416148827e-05,
          "t": 10.925,
          "v": -0.607987
         },
         {
          "i": 1.7871596149068084e-05,
          "t": 10.93,
          "v": -0.607471
         },
         {
          "i": 1.7837178260869325e-05,
          "t": 10.935,
          "v": -0.606993
         },
         {
          "i": 1.7822879875776157e-05,
          "t": 10.94,
          "v": -0.606454
         },
         {
          "i": 1.7815362236024604e-05,
          "t": 10.945,
          "v": -0.606002
         },
         {
          "i": 1.7796498136645723e-05,
          "t": 10.95,
          "v": -0.605468
         },
         {
          "i": 1.776749043478237e-05,
          "t": 10.955,
          "v": -0.604974
         },
         {
          "i": 1.7743673291925227e-05,
          "t": 10.96,
          "v": -0.604521
         },
         {
          "i": 1.7710172173912807e-05,
          "t": 10.965,
          "v": -0.603982
         },
         {
          "i": 1.766957739130411e-05,
          "t": 10.97,
          "v": -0.60346
         },
         {
          "i": 1.7633771677018396e-05,
          "t": 10.975,
          "v": -0.603006
         },
         {
          "i": 1.7574016024844485e-05,
          "t": 10.98,
          "v": -0.602459
         },
         {
          "i": 1.7528627826086724e-05,
          "t": 10.985,
          "v": -0.60198
         },
         {
          "i": 1.7487687080745106e-05,
          "t": 10.99,
          "v": -0.60147
         },
         {
          "i": 1.7429867701863122e-05,
          "t": 10.995,
          "v": -0.600935
         },
         {
          "i": 1.7407203850931443e-05,
          "t": 11,
          "v": -0.600601
         },
         {
          "i": 1.7375817888198525e-05,
          "t": 11.005,
          "v": -0.600078
         },
         {
          "i": 1.7323812049689207e-05,
          "t": 11.01,
          "v": -0.599447
         },
         {
          "i": 1.7258637018633308e-05,
          "t": 11.015,
          "v": -0.599054
         },
         {
          "i": 1.7207991925465607e-05,
          "t": 11.02,
          "v": -0.598504
         },
         {
          "i": 1.7171463850931445e-05,
          "t": 11.025,
          "v": -0.598038
         },
         {
          "i": 1.7147519130434553e-05,
          "t": 11.03,
          "v": -0.597522
         },
         {
          "i": 1.7147995652173684e-05,
          "t": 11.035,
          "v": -0.596941
         },
         {
          "i": 1.7142561118012192e-05,
          "t": 11.04,
          "v": -0.59656
         },
         {
          "i": 1.713654310558983e-05,
          "t": 11.045,
          "v": -0.596021
         },
         {
          "i": 1.714432608695629e-05,
          "t": 11.05,
          "v": -0.595463
         },
         {
          "i": 1.715225552795008e-05,
          "t": 11.055,
          "v": -0.595024
         },
         {
          "i": 1.7156771801242006e-05,
          "t": 11.06,
          "v": -0.594467
         },
         {
          "i": 1.7151973416148836e-05,
          "t": 11.065,
          "v": -0.594016
         },
         {
          "i": 1.7153019378881756e-05,
          "t": 11.07,
          "v": -0.593528
         },
         {
          "i": 1.7183209068322748e-05,
          "t": 11.075,
          "v": -0.592955
         },
         {
          "i": 1.7183440248446972e-05,
          "t": 11.08,
          "v": -0.592545
         },
         {
          "i": 1.717043614906809e-05,
          "t": 11.085,
          "v": -0.592041
         },
         {
          "i": 1.7167080745341383e-05,
          "t": 11.09,
          "v": -0.591488
         },
         {
          "i": 1.7186807826086726e-05,
          "t": 11.095,
          "v": -0.591026
         },
         {
          "i": 1.7173586335403495e-05,
          "t": 11.1,
          "v": -0.590501
         },
         {
          "i": 1.7151166459627097e-05,
          "t": 11.105,
          "v": -0.590022
         },
         {
          "i": 1.712195602484449e-05,
          "t": 11.11,
          "v": -0.589524
         },
         {
          "i": 1.7078048074533932e-05,
          "t": 11.115,
          "v": -0.58897
         },
         {
          "i": 1.7007399627328965e-05,
          "t": 11.12,
          "v": -0.58854
         },
         {
          "i": 1.6954215776397286e-05,
          "t": 11.125,
          "v": -0.588029
         },
         {
          "i": 1.689326173913021e-05,
          "t": 11.13,
          "v": -0.587486
         },
         {
          "i": 1.685040795031033e-05,
          "t": 11.135,
          "v": -0.587044
         },
         {
          "i": 1.680939826086934e-05,
          "t": 11.14,
          "v": -0.586489
         },
         {
          "i": 1.6772837639751325e-05,
          "t": 11.145,
          "v": -0.586028
         },
         {
          "i": 1.6700601490683e-05,
          "t": 11.15,
          "v": -0.585538
         },
         {
          "i": 1.6671170931676796e-05,
          "t": 11.155,
          "v": -0.584975
         },
         {
          "i": 1.663037018633518e-05,
          "t": 11.16,
          "v": -0.584533
         },
         {
          "i": 1.66069713043476e-05,
          "t": 11.165,
          "v": -0.584018
         },
         {
          "i": 1.6601385341614685e-05,
          "t": 11.17,
          "v": -0.583492
         },
         {
          "i": 1.657934944099357e-05,
          "t": 11.175,
          "v": -0.583007
         },
         {
          "i": 1.655315515527928e-05,
          "t": 11.18,
          "v": -0.582478
         },
         {
          "i": 1.6574675900620894e-05,
          "t": 11.185,
          "v": -0.582031
         },
         {
          "i": 1.6550240869564995e-05,
          "t": 11.19,
          "v": -0.581484
         },
         {
          "i": 1.6538101490683008e-05,
          "t": 11.195,
          "v": -0.580983
         },
         {
          "i": 1.655604869565195e-05,
          "t": 11.2,
          "v": -0.580528
         },
         {
          "i": 1.6571378633540148e-05,
          "t": 11.205,
          "v": -0.579993
         },
         {
          "i": 1.655413167701841e-05,
          "t": 11.21,
          "v": -0.579483
         },
         {
          "i": 1.6513370807453193e-05,
          "t": 11.215,
          "v": -0.579018
         },
         {
          "i": 1.647937453416127e-05,
          "t": 11.22,
          "v": -0.578473
         },
         {
          "i": 1.6438463229813443e-05,
          "t": 11.225,
          "v": -0.577994
         },
         {
          "i": 1.6373964347825865e-05,
          "t": 11.23,
          "v": -0.577473
         },
         {
          "i": 1.6320317639751334e-05,
          "t": 11.235,
          "v": -0.576986
         },
         {
          "i": 1.625710447204947e-05,
          "t": 11.24,
          "v": -0.576492
         },
         {
          "i": 1.621823689440972e-05,
          "t": 11.245,
          "v": -0.57599
         },
         {
          "i": 1.6147740124223383e-05,
          "t": 11.25,
          "v": -0.575439
         },
         {
          "i": 1.609208919254637e-05,
          "t": 11.255,
          "v": -0.575058
         },
         {
          "i": 1.600803639751531e-05,
          "t": 11.26,
          "v": -0.574513
         },
         {
          "i": 1.596049913043457e-05,
          "t": 11.265,
          "v": -0.574033
         },
         {
          "i": 1.5903518012422145e-05,
          "t": 11.27,
          "v": -0.573544
         },
         {
          "i": 1.584476447204948e-05,
          "t": 11.275,
          "v": -0.572951
         },
         {
          "i": 1.576588198757743e-05,
          "t": 11.28,
          "v": -0.572594
         },
         {
          "i": 1.5697730683229605e-05,
          "t": 11.285,
          "v": -0.572028
         },
         {
          "i": 1.5640003229813453e-05,
          "t": 11.29,
          "v": -0.571479
         },
         {
          "i": 1.5618518385092957e-05,
          "t": 11.295,
          "v": -0.571053
         },
         {
          "i": 1.556315913043457e-05,
          "t": 11.3,
          "v": -0.570472
         },
         {
          "i": 1.554034347826066e-05,
          "t": 11.305,
          "v": -0.570002
         },
         {
          "i": 1.553416434782588e-05,
          "t": 11.31,
          "v": -0.569497
         },
         {
          "i": 1.5521277018633333e-05,
          "t": 11.315,
          "v": -0.568962
         },
         {
          "i": 1.549990198757743e-05,
          "t": 11.32,
          "v": -0.568562
         },
         {
          "i": 1.5486694037266874e-05,
          "t": 11.325,
          "v": -0.568024
         },
         {
          "i": 1.5497184099378673e-05,
          "t": 11.33,
          "v": -0.56749
         },
         {
          "i": 1.5514930434782396e-05,
          "t": 11.335,
          "v": -0.567029
         },
         {
          "i": 1.5533608198757557e-05,
          "t": 11.34,
          "v": -0.566495
         },
         {
          "i": 1.5556338881987367e-05,
          "t": 11.345,
          "v": -0.56605
         },
         {
          "i": 1.5560667080745135e-05,
          "t": 11.35,
          "v": -0.565514
         },
         {
          "i": 1.5560459999999792e-05,
          "t": 11.355,
          "v": -0.564979
         },
         {
          "i": 1.5532911801242026e-05,
          "t": 11.36,
          "v": -0.564567
         },
         {
          "i": 1.5526948198757555e-05,
          "t": 11.365,
          "v": -0.564026
         },
         {
          "i": 1.5495732670807247e-05,
          "t": 11.37,
          "v": -0.563502
         },
         {
          "i": 1.5468179254658177e-05,
          "t": 11.375,
          "v": -0.563052
         },
         {
          "i": 1.5420309565217185e-05,
          "t": 11.38,
          "v": -0.56246
         },
         {
          "i": 1.534226583850911e-05,
          "t": 11.385,
          "v": -0.561986
         },
         {
          "i": 1.5295591552794825e-05,
          "t": 11.39,
          "v": -0.561509
         },
         {
          "i": 1.5284614658384887e-05,
          "t": 11.395,
          "v": -0.560938
         },
         {
          "i": 1.5255592173912837e-05,
          "t": 11.4,
          "v": -0.560512
         },
         {
          "i": 1.5230614037266876e-05,
          "t": 11.405,
          "v": -0.560003
         },
         {
          "i": 1.520818372670787e-05,
          "t": 11.41,
          "v": -0.559459
         },
         {
          "i": 1.5191147453415943e-05,
          "t": 11.415,
          "v": -0.55899
         },
         {
          "i": 1.519449180124203e-05,
          "t": 11.42,
          "v": -0.55845
         },
         {
          "i": 1.5209262857142654e-05,
          "t": 11.425,
          "v": -0.557994
         },
         {
          "i": 1.5236894906832094e-05,
          "t": 11.43,
          "v": -0.55746
         },
         {
          "i": 1.5255268819875572e-05,
          "t": 11.435,
          "v": -0.556941
         },
         {
          "i": 1.5280184596273085e-05,
          "t": 11.44,
          "v": -0.556515
         },
         {
          "i": 1.5310488819875572e-05,
          "t": 11.445,
          "v": -0.555963
         },
         {
          "i": 1.5309855031055695e-05,
          "t": 11.45,
          "v": -0.555453
         },
         {
          "i": 1.529206844720476e-05,
          "t": 11.455,
          "v": -0.554999
         },
         {
          "i": 1.5254910062111595e-05,
          "t": 11.46,
          "v": -0.554451
         },
         {
          "i": 1.5206845962732716e-05,
          "t": 11.465,
          "v": -0.55397
         },
         {
          "i": 1.5145322981366256e-05,
          "t": 11.47,
          "v": -0.553471
         },
         {
          "i": 1.5082718260869363e-05,
          "t": 11.475,
          "v": -0.552961
         },
         {
          "i": 1.499982409937868e-05,
          "t": 11.48,
          "v": -0.55246
         },
         {
          "i": 1.4920430683229614e-05,
          "t": 11.485,
          "v": -0.55196
         },
         {
          "i": 1.4834660621117813e-05,
          "t": 11.49,
          "v": -0.551448
         },
         {
          "i": 1.477194447204949e-05,
          "t": 11.495,
          "v": -0.550974
         },
         {
          "i": 1.4741357018633342e-05,
          "t": 11.5,
          "v": -0.550452
         },
         {
          "i": 1.4695261490683032e-05,
          "t": 11.505,
          "v": -0.549982
         },
         {
          "i": 1.4654367577639552e-05,
          "t": 11.51,
          "v": -0.549518
         },
         {
          "i": 1.4629136521738933e-05,
          "t": 11.515,
          "v": -0.548934
         },
         {
          "i": 1.4634056149068126e-05,
          "t": 11.52,
          "v": -0.548551
         },
         {
          "i": 1.4618387329192352e-05,
          "t": 11.525,
          "v": -0.54804
         },
         {
          "i": 1.4619029068322785e-05,
          "t": 11.53,
          "v": -0.547454
         },
         {
          "i": 1.4605680496894215e-05,
          "t": 11.535,
          "v": -0.547053
         },
         {
          "i": 1.46098947826085e-05,
          "t": 11.54,
          "v": -0.54648
         },
         {
          "i": 1.4592680496894211e-05,
          "t": 11.545,
          "v": -0.546015
         },
         {
          "i": 1.4592973043478062e-05,
          "t": 11.55,
          "v": -0.54551
         },
         {
          "i": 1.4589389565217194e-05,
          "t": 11.555,
          "v": -0.544924
         },
         {
          "i": 1.4576293913043282e-05,
          "t": 11.56,
          "v": -0.544517
         },
         {
          "i": 1.45527498136644e-05,
          "t": 11.565,
          "v": -0.543964
         },
         {
          "i": 1.4532640745341419e-05,
          "t": 11.57,
          "v": -0.543445
         },
         {
          "i": 1.4494976770186141e-05,
          "t": 11.575,
          "v": -0.543002
         },
         {
          "i": 1.4471157515527756e-05,
          "t": 11.58,
          "v": -0.542464
         },
         {
          "i": 1.4449665838509122e-05,
          "t": 11.585,
          "v": -0.541988
         },
         {
          "i": 1.4433726459627136e-05,
          "t": 11.59,
          "v": -0.541486
         },
         {
          "i": 1.441638720496875e-05,
          "t": 11.595,
          "v": -0.540938
         },
         {
          "i": 1.4388983975155086e-05,
          "t": 11.6,
          "v": -0.540544
         },
         {
          "i": 1.4384664347825894e-05,
          "t": 11.605,
          "v": -0.540008
         },
         {
          "i": 1.4388823975155086e-05,
          "t": 11.61,
          "v": -0.539452
         },
         {
          "i": 1.4385407950310364e-05,
          "t": 11.615,
          "v": -0.539028
         },
         {
          "i": 1.4380061739130241e-05,
          "t": 11.62,
          "v": -0.538486
         },
         {
          "i": 1.4381326335403534e-05,
          "t": 11.625,
          "v": -0.537987
         },
         {
          "i": 1.4370845093167506e-05,
          "t": 11.63,
          "v": -0.537519
         },
         {
          "i": 1.4305485465838315e-05,
          "t": 11.635,
          "v": -0.53696
         },
         {
          "i": 1.4255414906832105e-05,
          "t": 11.64,
          "v": -0.536538
         },
         {
          "i": 1.4219858136645772e-05,
          "t": 11.645,
          "v": -0.536016
         },
         {
          "i": 1.4203224844720306e-05,
          "t": 11.65,
          "v": -0.535477
         },
         {
          "i": 1.4171042732919065e-05,
          "t": 11.655,
          "v": -0.535013
         },
         {
          "i": 1.415541006211161e-05,
          "t": 11.66,
          "v": -0.53447
         },
         {
          "i": 1.4115538260869374e-05,
          "t": 11.665,
          "v": -0.534009
         },
         {
          "i": 1.4084344968943911e-05,
          "t": 11.67,
          "v": -0.533478
         },
         {
          "i": 1.4046653664596084e-05,
          "t": 11.675,
          "v": -0.532954
         },
         {
          "i": 1.402903540372652e-05,
          "t": 11.68,
          "v": -0.532528
         },
         {
          "i": 1.4021372670807264e-05,
          "t": 11.685,
          "v": -0.531988
         },
         {
          "i": 1.4019878881987389e-05,
          "t": 11.69,
          "v": -0.531468
         },
         {
          "i": 1.400146894409919e-05,
          "t": 11.695,
          "v": -0.531015
         },
         {
          "i": 1.398889552795012e-05,
          "t": 11.7,
          "v": -0.530451
         },
         {
          "i": 1.397362037267062e-05,
          "t": 11.705,
          "v": -0.529987
         },
         {
          "i": 1.395737627329174e-05,
          "t": 11.71,
          "v": -0.529478
         },
         {
          "i": 1.3968759627329006e-05,
          "t": 11.715,
          "v": -0.528959
         },
         {
          "i": 1.398008037267062e-05,
          "t": 11.72,
          "v": -0.528493
         },
         {
          "i": 1.3956954658384906e-05,
          "t": 11.725,
          "v": -0.527989
         },
         {
          "i": 1.3934837515527762e-05,
          "t": 11.73,
          "v": -0.527476
         },
         {
          "i": 1.3923730807453231e-05,
          "t": 11.735,
          "v": -0.526996
         },
         {
          "i": 1.3888980124223417e-05,
          "t": 11.74,
          "v": -0.526465
         },
         {
          "i": 1.3841566583850744e-05,
          "t": 11.745,
          "v": -0.526003
         },
         {
          "i": 1.3814042857142672e-05,
          "t": 11.75,
          "v": -0.525469
         },
         {
          "i": 1.3818190931676833e-05,
          "t": 11.755,
          "v": -0.524967
         },
         {
          "i": 1.3822563105589876e-05,
          "t": 11.76,
          "v": -0.524542
         },
         {
          "i": 1.3811864720496708e-05,
          "t": 11.765,
          "v": -0.524057
         },
         {
          "i": 1.3811800993788634e-05,
          "t": 11.77,
          "v": -0.5235
         },
         {
          "i": 1.3773647080745155e-05,
          "t": 11.775,
          "v": -0.523076
         },
         {
          "i": 1.3775560869565033e-05,
          "t": 11.78,
          "v": -0.5225
         },
         {
          "i": 1.3792714285714099e-05,
          "t": 11.785,
          "v": -0.522071
         },
         {
          "i": 1.3780693540372486e-05,
          "t": 11.79,
          "v": -0.521548
         },
         {
          "i": 1.3786561366459443e-05,
          "t": 11.795,
          "v": -0.52094
         },
         {
          "i": 1.3789268695651989e-05,
          "t": 11.8,
          "v": -0.520573
         },
         {
          "i": 1.3789400993788634e-05,
          "t": 11.805,
          "v": -0.52001
         },
         {
          "i": 1.378766683229795e-05,
          "t": 11.81,
          "v": -0.519468
         },
         {
          "i": 1.377867714285696e-05,
          "t": 11.815,
          "v": -0.519009
         },
         {
          "i": 1.3783657267080561e-05,
          "t": 11.82,
          "v": -0.518454
         },
         {
          "i": 1.3808614534161308e-05,
          "t": 11.825,
          "v": -0.518023
         },
         {
          "i": 1.38112342857141e-05,
          "t": 11.83,
          "v": -0.517468
         },
         {
          "i": 1.3799848074533977e-05,
          "t": 11.835,
          "v": -0.516945
         },
         {
          "i": 1.3791551304347642e-05,
          "t": 11.84,
          "v": -0.516564
         },
         {
          "i": 1.3776741987577453e-05,
          "t": 11.845,
          "v": -0.516002
         },
         {
          "i": 1.3758029937888014e-05,
          "t": 11.85,
          "v": -0.515462
         },
         {
          "i": 1.3722060248447021e-05,
          "t": 11.855,
          "v": -0.515041
         },
         {
          "i": 1.3696757515527765e-05,
          "t": 11.86,
          "v": -0.514484
         },
         {
          "i": 1.370029316770168e-05,
          "t": 11.865,
          "v": -0.514013
         },
         {
          "i": 1.3678939503105406e-05,
          "t": 11.87,
          "v": -0.513514
         },
         {
          "i": 1.364668173913025e-05,
          "t": 11.875,
          "v": -0.512962
         },
         {
          "i": 1.3614224844720315e-05,
          "t": 11.88,
          "v": -0.512535
         },
         {
          "i": 1.3579067577639568e-05,
          "t": 11.885,
          "v": -0.512031
         },
         {
          "i": 1.35720340372669e-05,
          "t": 11.89,
          "v": -0.511457
         },
         {
          "i": 1.3561311428571245e-05,
          "t": 11.895,
          "v": -0.511013
         },
         {
          "i": 1.3513213664596091e-05,
          "t": 11.9,
          "v": -0.510457
         },
         {
          "i": 1.3507409192546403e-05,
          "t": 11.905,
          "v": -0.510008
         },
         {
          "i": 1.3497213416148887e-05,
          "t": 11.91,
          "v": -0.509479
         },
         {
          "i": 1.3470321490683048e-05,
          "t": 11.915,
          "v": -0.508936
         },
         {
          "i": 1.3414520621117832e-05,
          "t": 11.92,
          "v": -0.508532
         },
         {
          "i": 1.3399703354037086e-05,
          "t": 11.925,
          "v": -0.50799
         },
         {
          "i": 1.3386129813664416e-05,
          "t": 11.93,
          "v": -0.507449
         },
         {
          "i": 1.3387017763974976e-05,
          "t": 11.935,
          "v": -0.507015
         },
         {
          "i": 1.3364129813664419e-05,
          "t": 11.94,
          "v": -0.506456
         },
         {
          "i": 1.3336681366459449e-05,
          "t": 11.945,
          "v": -0.505984
         },
         {
          "i": 1.3330583105589881e-05,
          "t": 11.95,
          "v": -0.50549
         },
         {
          "i": 1.3316467577639573e-05,
          "t": 11.955,
          "v": -0.504949
         },
         {
          "i": 1.3300108695651995e-05,
          "t": 11.96,
          "v": -0.504488
         },
         {
          "i": 1.3267700621117834e-05,
          "t": 11.965,
          "v": -0.503972
         },
         {
          "i": 1.3244857888198579e-05,
          "t": 11.97,
          "v": -0.503448
         },
         {
          "i": 1.3224069192546408e-05,
          "t": 11.975,
          "v": -0.502991
         },
         {
          "i": 1.3184398260869387e-05,
          "t": 11.98,
          "v": -0.502451
         },
         {
          "i": 1.3140304223602308e-05,
          "t": 11.985,
          "v": -0.501975
         },
         {
          "i": 1.3099625590061936e-05,
          "t": 11.99,
          "v": -0.501457
         },
         {
          "i": 1.3070705465838333e-05,
          "t": 11.995,
          "v": -0.500956
         },
         {
          "i": 1.3044495900620944e-05,
          "t": 12,
          "v": -0.500529
         },
         {
          "i": 1.3015853416148893e-05,
          "t": 12.005,
          "v": -0.499962
         }
        ]
       },
       "layer": [
        {
         "data": {
          "name": "data-398d308f445f19f4f99af4ba8ac47072"
         },
         "encoding": {
          "x": {
           "field": "v",
           "type": "quantitative"
          },
          "y": {
           "field": "i",
           "type": "quantitative"
          }
         },
         "mark": "point"
        },
        {
         "data": {
          "name": "data-169d066839de6f8db9d1e3787dcaf55e"
         },
         "encoding": {
          "color": {
           "value": "black"
          },
          "x": {
           "field": "v",
           "type": "quantitative"
          },
          "y": {
           "field": "i",
           "type": "quantitative"
          }
         },
         "mark": {
          "filled": true,
          "size": 50,
          "type": "point"
         }
        }
       ]
      },
      "image/png": "[encoded data removed]",
      "text/plain": [
       "<VegaLite 3 object>\n",
       "\n",
       "If you see this message, it means the renderer has not been properly enabled\n",
       "for the frontend that you are using. For more information, see\n",
       "https://altair-viz.github.io/user_guide/troubleshooting.html\n"
      ]
     },
     "metadata": {},
     "output_type": "display_data"
    },
    {
     "data": {
      "application/vnd.vegalite.v3+json": {
       "$schema": "https://vega.github.io/schema/vega-lite/v3.2.1.json",
       "config": {
        "mark": {
         "tooltip": null
        },
        "view": {
         "height": 300,
         "width": 400
        }
       },
       "datasets": {
        "data-7b9a573651b1432c06f6762428ac1a59": [
         {
          "i": 7.088108385093072e-05,
          "t": 1194.01,
          "v": -1.09927
         },
         {
          "i": 7.036005888198662e-05,
          "t": 1194.02,
          "v": -1.09878
         },
         {
          "i": 6.978417788819782e-05,
          "t": 1194.02,
          "v": -1.09828
         },
         {
          "i": 6.918546968944007e-05,
          "t": 1194.03,
          "v": -1.09777
         },
         {
          "i": 6.855286956521647e-05,
          "t": 1194.03,
          "v": -1.09731
         },
         {
          "i": 6.790668074534071e-05,
          "t": 1194.04,
          "v": -1.09677
         },
         {
          "i": 6.727106447204878e-05,
          "t": 1194.04,
          "v": -1.09626
         },
         {
          "i": 6.664750173912953e-05,
          "t": 1194.04,
          "v": -1.09581
         },
         {
          "i": 6.605119428571341e-05,
          "t": 1194.05,
          "v": -1.09526
         },
         {
          "i": 6.551477552794943e-05,
          "t": 1194.05,
          "v": -1.09476
         },
         {
          "i": 6.502487180124137e-05,
          "t": 1194.06,
          "v": -1.09427
         },
         {
          "i": 6.46246436024836e-05,
          "t": 1194.06,
          "v": -1.09376
         },
         {
          "i": 6.431989937888112e-05,
          "t": 1194.07,
          "v": -1.09328
         },
         {
          "i": 6.395386347826002e-05,
          "t": 1194.07,
          "v": -1.09275
         },
         {
          "i": 6.360974136645878e-05,
          "t": 1194.08,
          "v": -1.09224
         },
         {
          "i": 6.326708559006126e-05,
          "t": 1194.08,
          "v": -1.09177
         },
         {
          "i": 6.292996832298052e-05,
          "t": 1194.09,
          "v": -1.09125
         },
         {
          "i": 6.262198099378799e-05,
          "t": 1194.09,
          "v": -1.09076
         },
         {
          "i": 6.234410807453333e-05,
          "t": 1194.1,
          "v": -1.09025
         },
         {
          "i": 6.209955565217308e-05,
          "t": 1194.1,
          "v": -1.08975
         },
         {
          "i": 6.186231465838427e-05,
          "t": 1194.11,
          "v": -1.0893
         },
         {
          "i": 6.162765826086874e-05,
          "t": 1194.11,
          "v": -1.08875
         },
         {
          "i": 6.138854993788737e-05,
          "t": 1194.12,
          "v": -1.08825
         },
         {
          "i": 6.116916496894327e-05,
          "t": 1194.13,
          "v": -1.0878
         },
         {
          "i": 6.09742309316762e-05,
          "t": 1194.13,
          "v": -1.08729
         },
         {
          "i": 6.0795232049688624e-05,
          "t": 1194.14,
          "v": -1.08689
         },
         {
          "i": 6.060499664596192e-05,
          "t": 1194.14,
          "v": -1.08633
         },
         {
          "i": 6.046201242235943e-05,
          "t": 1194.15,
          "v": -1.08574
         },
         {
          "i": 6.031323080745261e-05,
          "t": 1194.15,
          "v": -1.08538
         },
         {
          "i": 6.015949999999919e-05,
          "t": 1194.16,
          "v": -1.08482
         },
         {
          "i": 5.999265677018553e-05,
          "t": 1194.16,
          "v": -1.08425
         },
         {
          "i": 5.981554757763895e-05,
          "t": 1194.16,
          "v": -1.08383
         },
         {
          "i": 5.964575453416069e-05,
          "t": 1194.17,
          "v": -1.08327
         },
         {
          "i": 5.94948398757756e-05,
          "t": 1194.17,
          "v": -1.08281
         },
         {
          "i": 5.934300223602405e-05,
          "t": 1194.18,
          "v": -1.08228
         },
         {
          "i": 5.915266795030977e-05,
          "t": 1194.18,
          "v": -1.08175
         },
         {
          "i": 5.9016582236024054e-05,
          "t": 1194.19,
          "v": -1.08135
         },
         {
          "i": 5.8829699503104795e-05,
          "t": 1194.19,
          "v": -1.08076
         },
         {
          "i": 5.866260559006132e-05,
          "t": 1194.2,
          "v": -1.08027
         },
         {
          "i": 5.849029863353959e-05,
          "t": 1194.2,
          "v": -1.07985
         },
         {
          "i": 5.8294148819875e-05,
          "t": 1194.21,
          "v": -1.07927
         },
         {
          "i": 5.811067962732841e-05,
          "t": 1194.21,
          "v": -1.07878
         },
         {
          "i": 5.790220708074456e-05,
          "t": 1194.22,
          "v": -1.07831
         },
         {
          "i": 5.7700563850930905e-05,
          "t": 1194.22,
          "v": -1.07776
         },
         {
          "i": 5.747000161490606e-05,
          "t": 1194.23,
          "v": -1.07732
         },
         {
          "i": 5.726276099378805e-05,
          "t": 1194.23,
          "v": -1.0768
         },
         {
          "i": 5.705154124223526e-05,
          "t": 1194.24,
          "v": -1.07629
         },
         {
          "i": 5.683479515527874e-05,
          "t": 1194.24,
          "v": -1.07583
         },
         {
          "i": 5.660486546583775e-05,
          "t": 1194.25,
          "v": -1.0753
         },
         {
          "i": 5.638410434782533e-05,
          "t": 1194.26,
          "v": -1.07478
         },
         {
          "i": 5.613387490683154e-05,
          "t": 1194.26,
          "v": -1.07426
         },
         {
          "i": 5.590781826086882e-05,
          "t": 1194.27,
          "v": -1.07373
         },
         {
          "i": 5.567595490683155e-05,
          "t": 1194.27,
          "v": -1.07332
         },
         {
          "i": 5.546712024844646e-05,
          "t": 1194.28,
          "v": -1.07277
         },
         {
          "i": 5.529418968944024e-05,
          "t": 1194.28,
          "v": -1.07224
         },
         {
          "i": 5.510356559006138e-05,
          "t": 1194.29,
          "v": -1.07182
         },
         {
          "i": 5.4918548819875035e-05,
          "t": 1194.29,
          "v": -1.07125
         },
         {
          "i": 5.471811316770112e-05,
          "t": 1194.29,
          "v": -1.07074
         },
         {
          "i": 5.458738385093094e-05,
          "t": 1194.3,
          "v": -1.07025
         },
         {
          "i": 5.443439118012349e-05,
          "t": 1194.3,
          "v": -1.06974
         },
         {
          "i": 5.4298290310558275e-05,
          "t": 1194.31,
          "v": -1.06926
         },
         {
          "i": 5.4164474037266355e-05,
          "t": 1194.31,
          "v": -1.06875
         },
         {
          "i": 5.402232521739058e-05,
          "t": 1194.32,
          "v": -1.06824
         },
         {
          "i": 5.3918913043477536e-05,
          "t": 1194.32,
          "v": -1.06775
         },
         {
          "i": 5.380735751552723e-05,
          "t": 1194.33,
          "v": -1.06724
         },
         {
          "i": 5.370297465838437e-05,
          "t": 1194.33,
          "v": -1.06674
         },
         {
          "i": 5.359771093167629e-05,
          "t": 1194.34,
          "v": -1.06624
         },
         {
          "i": 5.3524179999999285e-05,
          "t": 1194.34,
          "v": -1.06574
         },
         {
          "i": 5.3433176770185615e-05,
          "t": 1194.35,
          "v": -1.06529
         },
         {
          "i": 5.3344181242235314e-05,
          "t": 1194.35,
          "v": -1.06473
         },
         {
          "i": 5.323385391304277e-05,
          "t": 1194.36,
          "v": -1.06422
         },
         {
          "i": 5.3149807329191836e-05,
          "t": 1194.36,
          "v": -1.06379
         },
         {
          "i": 5.3080954409937177e-05,
          "t": 1194.37,
          "v": -1.06323
         },
         {
          "i": 5.302071701863282e-05,
          "t": 1194.38,
          "v": -1.06273
         },
         {
          "i": 5.295012621117942e-05,
          "t": 1194.38,
          "v": -1.06223
         },
         {
          "i": 5.2883541490682515e-05,
          "t": 1194.39,
          "v": -1.06172
         },
         {
          "i": 5.282509291925394e-05,
          "t": 1194.39,
          "v": -1.0614
         },
         {
          "i": 5.2733645714285004e-05,
          "t": 1194.4,
          "v": -1.0608
         },
         {
          "i": 5.265953217391233e-05,
          "t": 1194.4,
          "v": -1.06021
         },
         {
          "i": 5.2586817763974444e-05,
          "t": 1194.41,
          "v": -1.05983
         },
         {
          "i": 5.252038757763904e-05,
          "t": 1194.41,
          "v": -1.05928
         },
         {
          "i": 5.246663838509246e-05,
          "t": 1194.41,
          "v": -1.05879
         },
         {
          "i": 5.2396545714285004e-05,
          "t": 1194.42,
          "v": -1.05827
         },
         {
          "i": 5.23409003726701e-05,
          "t": 1194.42,
          "v": -1.05773
         },
         {
          "i": 5.2269232298135945e-05,
          "t": 1194.43,
          "v": -1.05736
         },
         {
          "i": 5.219751875776327e-05,
          "t": 1194.43,
          "v": -1.05675
         },
         {
          "i": 5.211284571428502e-05,
          "t": 1194.44,
          "v": -1.05622
         },
         {
          "i": 5.2039151304347124e-05,
          "t": 1194.44,
          "v": -1.05581
         },
         {
          "i": 5.197574919254589e-05,
          "t": 1194.45,
          "v": -1.05525
         },
         {
          "i": 5.190896322981297e-05,
          "t": 1194.45,
          "v": -1.05476
         },
         {
          "i": 5.182869925465769e-05,
          "t": 1194.46,
          "v": -1.05429
         },
         {
          "i": 5.1753660496893714e-05,
          "t": 1194.46,
          "v": -1.05373
         },
         {
          "i": 5.167486186335334e-05,
          "t": 1194.47,
          "v": -1.0533
         },
         {
          "i": 5.161669714285645e-05,
          "t": 1194.47,
          "v": -1.05278
         },
         {
          "i": 5.1555994782608003e-05,
          "t": 1194.48,
          "v": -1.05225
         },
         {
          "i": 5.150140335403657e-05,
          "t": 1194.48,
          "v": -1.05181
         },
         {
          "i": 5.145214732919185e-05,
          "t": 1194.49,
          "v": -1.05127
         },
         {
          "i": 5.141136683229744e-05,
          "t": 1194.49,
          "v": -1.05078
         },
         {
          "i": 5.134590857142788e-05,
          "t": 1194.5,
          "v": -1.05028
         },
         {
          "i": 5.1235651428570733e-05,
          "t": 1194.51,
          "v": -1.04974
         },
         {
          "i": 5.114790347826018e-05,
          "t": 1194.51,
          "v": -1.04931
         },
         {
          "i": 5.107493726708006e-05,
          "t": 1194.52,
          "v": -1.04878
         },
         {
          "i": 5.098245850931609e-05,
          "t": 1194.52,
          "v": -1.04824
         },
         {
          "i": 5.0881832173912356e-05,
          "t": 1194.53,
          "v": -1.04782
         },
         {
          "i": 5.075535838509248e-05,
          "t": 1194.53,
          "v": -1.04725
         },
         {
          "i": 5.0617845714285034e-05,
          "t": 1194.54,
          "v": -1.04676
         },
         {
          "i": 5.047498720496826e-05,
          "t": 1194.54,
          "v": -1.04628
         },
         {
          "i": 5.031866472049622e-05,
          "t": 1194.54,
          "v": -1.04573
         },
         {
          "i": 5.017728049689374e-05,
          "t": 1194.55,
          "v": -1.04528
         },
         {
          "i": 5.005490596273225e-05,
          "t": 1194.55,
          "v": -1.04475
         },
         {
          "i": 4.993783888198691e-05,
          "t": 1194.56,
          "v": -1.04426
         },
         {
          "i": 4.9784696024844046e-05,
          "t": 1194.56,
          "v": -1.04378
         },
         {
          "i": 4.963557739130368e-05,
          "t": 1194.57,
          "v": -1.04325
         },
         {
          "i": 4.95083382608689e-05,
          "t": 1194.57,
          "v": -1.04277
         },
         {
          "i": 4.937735540372604e-05,
          "t": 1194.58,
          "v": -1.04224
         },
         {
          "i": 4.926440869565151e-05,
          "t": 1194.58,
          "v": -1.04174
         },
         {
          "i": 4.915912285714219e-05,
          "t": 1194.59,
          "v": -1.04129
         },
         {
          "i": 4.9064658757763315e-05,
          "t": 1194.59,
          "v": -1.04075
         },
         {
          "i": 4.8959754409937234e-05,
          "t": 1194.6,
          "v": -1.04023
         },
         {
          "i": 4.886376968944034e-05,
          "t": 1194.6,
          "v": -1.03979
         },
         {
          "i": 4.874575354037202e-05,
          "t": 1194.61,
          "v": -1.03924
         },
         {
          "i": 4.863923950310494e-05,
          "t": 1194.61,
          "v": -1.03876
         },
         {
          "i": 4.854807043478196e-05,
          "t": 1194.62,
          "v": -1.03824
         },
         {
          "i": 4.845716695652109e-05,
          "t": 1194.63,
          "v": -1.03775
         },
         {
          "i": 4.8349500745340965e-05,
          "t": 1194.63,
          "v": -1.03725
         },
         {
          "i": 4.82359279503099e-05,
          "t": 1194.64,
          "v": -1.03675
         },
         {
          "i": 4.8131030062111157e-05,
          "t": 1194.64,
          "v": -1.03621
         },
         {
          "i": 4.801799391304283e-05,
          "t": 1194.65,
          "v": -1.03583
         },
         {
          "i": 4.7892192546583205e-05,
          "t": 1194.65,
          "v": -1.03529
         },
         {
          "i": 4.7774561614906185e-05,
          "t": 1194.66,
          "v": -1.03477
         },
         {
          "i": 4.766208012422296e-05,
          "t": 1194.66,
          "v": -1.0343
         },
         {
          "i": 4.753539416149004e-05,
          "t": 1194.66,
          "v": -1.03374
         },
         {
          "i": 4.7385237639750916e-05,
          "t": 1194.67,
          "v": -1.03335
         },
         {
          "i": 4.7218479751552166e-05,
          "t": 1194.67,
          "v": -1.03279
         },
         {
          "i": 4.70973313043472e-05,
          "t": 1194.68,
          "v": -1.03224
         },
         {
          "i": 4.69784869565211e-05,
          "t": 1194.68,
          "v": -1.03184
         },
         {
          "i": 4.684578795030993e-05,
          "t": 1194.69,
          "v": -1.03125
         },
         {
          "i": 4.670875751552732e-05,
          "t": 1194.69,
          "v": -1.03078
         },
         {
          "i": 4.657877440993726e-05,
          "t": 1194.7,
          "v": -1.03027
         },
         {
          "i": 4.645815701863291e-05,
          "t": 1194.7,
          "v": -1.02975
         },
         {
          "i": 4.6339475279502486e-05,
          "t": 1194.71,
          "v": -1.02933
         },
         {
          "i": 4.625134186335341e-05,
          "t": 1194.71,
          "v": -1.02879
         },
         {
          "i": 4.615175813664534e-05,
          "t": 1194.72,
          "v": -1.02827
         },
         {
          "i": 4.605936956521677e-05,
          "t": 1194.72,
          "v": -1.02782
         },
         {
          "i": 4.596395217391242e-05,
          "t": 1194.73,
          "v": -1.02728
         },
         {
          "i": 4.5887057142856524e-05,
          "t": 1194.73,
          "v": -1.0268
         },
         {
          "i": 4.5790450683229194e-05,
          "t": 1194.74,
          "v": -1.02629
         },
         {
          "i": 4.5692414658384474e-05,
          "t": 1194.74,
          "v": -1.02576
         },
         {
          "i": 4.5601449316769574e-05,
          "t": 1194.75,
          "v": -1.02534
         },
         {
          "i": 4.5473548819875156e-05,
          "t": 1194.76,
          "v": -1.0248
         },
         {
          "i": 4.534439254658324e-05,
          "t": 1194.76,
          "v": -1.02428
         },
         {
          "i": 4.522847304347765e-05,
          "t": 1194.77,
          "v": -1.02385
         },
         {
          "i": 4.508547838509256e-05,
          "t": 1194.77,
          "v": -1.02327
         },
         {
          "i": 4.493483664596213e-05,
          "t": 1194.78,
          "v": -1.02275
         },
         {
          "i": 4.4800859627328594e-05,
          "t": 1194.78,
          "v": -1.02228
         },
         {
          "i": 4.466364695652114e-05,
          "t": 1194.79,
          "v": -1.02176
         },
         {
          "i": 4.454313366459568e-05,
          "t": 1194.79,
          "v": -1.02131
         },
         {
          "i": 4.440340596273232e-05,
          "t": 1194.79,
          "v": -1.02078
         },
         {
          "i": 4.425643167701804e-05,
          "t": 1194.8,
          "v": -1.02027
         },
         {
          "i": 4.411051316770127e-05,
          "t": 1194.8,
          "v": -1.01979
         },
         {
          "i": 4.39926843478255e-05,
          "t": 1194.81,
          "v": -1.01926
         },
         {
          "i": 4.3892890807452826e-05,
          "t": 1194.81,
          "v": -1.01878
         },
         {
          "i": 4.377804782608637e-05,
          "t": 1194.82,
          "v": -1.01825
         },
         {
          "i": 4.369330968944041e-05,
          "t": 1194.82,
          "v": -1.01776
         },
         {
          "i": 4.3584585838508735e-05,
          "t": 1194.83,
          "v": -1.0173
         },
         {
          "i": 4.349302310558948e-05,
          "t": 1194.83,
          "v": -1.01676
         },
         {
          "i": 4.337779329192488e-05,
          "t": 1194.84,
          "v": -1.01624
         },
         {
          "i": 4.3252227204968366e-05,
          "t": 1194.84,
          "v": -1.0158
         },
         {
          "i": 4.312653105590004e-05,
          "t": 1194.85,
          "v": -1.01525
         },
         {
          "i": 4.3034361987577054e-05,
          "t": 1194.85,
          "v": -1.01476
         },
         {
          "i": 4.2939067826086385e-05,
          "t": 1194.86,
          "v": -1.01426
         },
         {
          "i": 4.282002844720439e-05,
          "t": 1194.86,
          "v": -1.01375
         },
         {
          "i": 4.2722676521738554e-05,
          "t": 1194.87,
          "v": -1.01327
         },
         {
          "i": 4.2586462857142284e-05,
          "t": 1194.88,
          "v": -1.01275
         },
         {
          "i": 4.245696111801185e-05,
          "t": 1194.88,
          "v": -1.01225
         },
         {
          "i": 4.233655664596216e-05,
          "t": 1194.89,
          "v": -1.01176
         },
         {
          "i": 4.2186063850931106e-05,
          "t": 1194.89,
          "v": -1.01125
         },
         {
          "i": 4.2004716149067755e-05,
          "t": 1194.9,
          "v": -1.01078
         },
         {
          "i": 4.181336347826031e-05,
          "t": 1194.9,
          "v": -1.01031
         },
         {
          "i": 4.1637434658384536e-05,
          "t": 1194.91,
          "v": -1.00975
         },
         {
          "i": 4.146281329192491e-05,
          "t": 1194.91,
          "v": -1.00934
         },
         {
          "i": 4.1273142981365906e-05,
          "t": 1194.91,
          "v": -1.00881
         },
         {
          "i": 4.108983950310504e-05,
          "t": 1194.92,
          "v": -1.00829
         },
         {
          "i": 4.089583664596218e-05,
          "t": 1194.92,
          "v": -1.00786
         },
         {
          "i": 4.068306273291871e-05,
          "t": 1194.93,
          "v": -1.00728
         },
         {
          "i": 4.0492898136645416e-05,
          "t": 1194.93,
          "v": -1.00682
         },
         {
          "i": 4.0247730683229264e-05,
          "t": 1194.94,
          "v": -1.00631
         },
         {
          "i": 4.001917440993734e-05,
          "t": 1194.94,
          "v": -1.00575
         },
         {
          "i": 3.976271925465784e-05,
          "t": 1194.95,
          "v": -1.00533
         },
         {
          "i": 3.951799391304295e-05,
          "t": 1194.95,
          "v": -1.00478
         },
         {
          "i": 3.9298677267080216e-05,
          "t": 1194.96,
          "v": -1.00424
         },
         {
          "i": 3.909971652173861e-05,
          "t": 1194.96,
          "v": -1.00382
         },
         {
          "i": 3.890513341614855e-05,
          "t": 1194.97,
          "v": -1.00328
         },
         {
          "i": 3.872209552794979e-05,
          "t": 1194.97,
          "v": -1.00278
         },
         {
          "i": 3.8542284596272775e-05,
          "t": 1194.98,
          "v": -1.0023
         },
         {
          "i": 3.836372906832247e-05,
          "t": 1194.98,
          "v": -1.00176
         },
         {
          "i": 3.82179309316765e-05,
          "t": 1194.99,
          "v": -1.00135
         },
         {
          "i": 3.8075219006210665e-05,
          "t": 1194.99,
          "v": -1.00079
         },
         {
          "i": 3.7924035155278995e-05,
          "t": 1195,
          "v": -1.00027
         },
         {
          "i": 3.777568149068272e-05,
          "t": 1195.01,
          "v": -0.999851
         },
         {
          "i": 3.76488252173908e-05,
          "t": 1195.01,
          "v": -0.99929
         },
         {
          "i": 3.756483900621068e-05,
          "t": 1195.02,
          "v": -0.998802
         },
         {
          "i": 3.74635103105585e-05,
          "t": 1195.02,
          "v": -0.998319
         },
         {
          "i": 3.7360052670806953e-05,
          "t": 1195.03,
          "v": -0.997781
         },
         {
          "i": 3.726015875776347e-05,
          "t": 1195.03,
          "v": -0.997356
         },
         {
          "i": 3.7172746583850435e-05,
          "t": 1195.04,
          "v": -0.99681
         },
         {
          "i": 3.7082722732918754e-05,
          "t": 1195.04,
          "v": -0.996292
         },
         {
          "i": 3.6983676397515026e-05,
          "t": 1195.04,
          "v": -0.995819
         },
         {
          "i": 3.686173552794982e-05,
          "t": 1195.05,
          "v": -0.995285
         },
         {
          "i": 3.6764926583850434e-05,
          "t": 1195.05,
          "v": -0.994809
         },
         {
          "i": 3.664447937888149e-05,
          "t": 1195.06,
          "v": -0.994289
         },
         {
          "i": 3.6505834534161005e-05,
          "t": 1195.06,
          "v": -0.993778
         },
         {
          "i": 3.63798142857138e-05,
          "t": 1195.07,
          "v": -0.993329
         },
         {
          "i": 3.626909863353989e-05,
          "t": 1195.07,
          "v": -0.992782
         },
         {
          "i": 3.612555316770137e-05,
          "t": 1195.08,
          "v": -0.992271
         },
         {
          "i": 3.600978322981318e-05,
          "t": 1195.08,
          "v": -0.991814
         },
         {
          "i": 3.587939329192498e-05,
          "t": 1195.09,
          "v": -0.991268
         },
         {
          "i": 3.5747838260869086e-05,
          "t": 1195.09,
          "v": -0.990776
         },
         {
          "i": 3.5636862484471574e-05,
          "t": 1195.1,
          "v": -0.990283
         },
         {
          "i": 3.549340422360201e-05,
          "t": 1195.1,
          "v": -0.989775
         },
         {
          "i": 3.5322036397515046e-05,
          "t": 1195.11,
          "v": -0.989286
         },
         {
          "i": 3.514669155279456e-05,
          "t": 1195.11,
          "v": -0.988765
         },
         {
          "i": 3.497161490683183e-05,
          "t": 1195.12,
          "v": -0.988252
         },
         {
          "i": 3.479510136645916e-05,
          "t": 1195.13,
          "v": -0.98778
         },
         {
          "i": 3.457348472049642e-05,
          "t": 1195.13,
          "v": -0.987259
         },
         {
          "i": 3.43430833540368e-05,
          "t": 1195.14,
          "v": -0.986791
         },
         {
          "i": 3.4085712298136194e-05,
          "t": 1195.14,
          "v": -0.986248
         },
         {
          "i": 3.384192111801197e-05,
          "t": 1195.15,
          "v": -0.985788
         },
         {
          "i": 3.3576781242235575e-05,
          "t": 1195.15,
          "v": -0.985337
         },
         {
          "i": 3.330722310558961e-05,
          "t": 1195.16,
          "v": -0.984827
         },
         {
          "i": 3.301867304347782e-05,
          "t": 1195.16,
          "v": -0.984329
         },
         {
          "i": 3.2705162857142424e-05,
          "t": 1195.16,
          "v": -0.983879
         },
         {
          "i": 3.236028347826043e-05,
          "t": 1195.17,
          "v": -0.983291
         },
         {
          "i": 3.200400695652131e-05,
          "t": 1195.17,
          "v": -0.982874
         },
         {
          "i": 3.1683837888198326e-05,
          "t": 1195.18,
          "v": -0.982336
         },
         {
          "i": 3.1370259378881566e-05,
          "t": 1195.18,
          "v": -0.981753
         },
         {
          "i": 3.1038685590061695e-05,
          "t": 1195.19,
          "v": -0.981374
         },
         {
          "i": 3.0757107950310146e-05,
          "t": 1195.19,
          "v": -0.98081
         },
         {
          "i": 3.0449415652173507e-05,
          "t": 1195.2,
          "v": -0.980271
         },
         {
          "i": 3.0157166335403326e-05,
          "t": 1195.2,
          "v": -0.979814
         },
         {
          "i": 2.9898954409937486e-05,
          "t": 1195.21,
          "v": -0.979264
         },
         {
          "i": 2.9619579627328795e-05,
          "t": 1195.21,
          "v": -0.978823
         },
         {
          "i": 2.935952285714246e-05,
          "t": 1195.22,
          "v": -0.978284
         },
         {
          "i": 2.9116442732918862e-05,
          "t": 1195.22,
          "v": -0.977768
         },
         {
          "i": 2.884846857142818e-05,
          "t": 1195.23,
          "v": -0.977387
         },
         {
          "i": 2.859527602484433e-05,
          "t": 1195.23,
          "v": -0.976806
         },
         {
          "i": 2.831366708074496e-05,
          "t": 1195.24,
          "v": -0.976283
         },
         {
          "i": 2.8059103726707697e-05,
          "t": 1195.24,
          "v": -0.975874
         },
         {
          "i": 2.7801159875776026e-05,
          "t": 1195.25,
          "v": -0.975292
         },
         {
          "i": 2.7518410807453047e-05,
          "t": 1195.26,
          "v": -0.974817
         },
         {
          "i": 2.7212340993788452e-05,
          "t": 1195.26,
          "v": -0.974321
         },
         {
          "i": 2.68838480745338e-05,
          "t": 1195.27,
          "v": -0.973777
         },
         {
          "i": 2.651749664596238e-05,
          "t": 1195.27,
          "v": -0.973358
         },
         {
          "i": 2.612333515527915e-05,
          "t": 1195.28,
          "v": -0.972817
         },
         {
          "i": 2.5731372049689093e-05,
          "t": 1195.28,
          "v": -0.972262
         },
         {
          "i": 2.5333289192546246e-05,
          "t": 1195.29,
          "v": -0.97182
         },
         {
          "i": 2.4954122981366124e-05,
          "t": 1195.29,
          "v": -0.971259
         },
         {
          "i": 2.4564496397515195e-05,
          "t": 1195.29,
          "v": -0.970792
         },
         {
          "i": 2.417334086956489e-05,
          "t": 1195.3,
          "v": -0.970265
         },
         {
          "i": 2.3779458385092847e-05,
          "t": 1195.3,
          "v": -0.969751
         },
         {
          "i": 2.3373559751552484e-05,
          "t": 1195.31,
          "v": -0.969323
         },
         {
          "i": 2.3011012546583544e-05,
          "t": 1195.31,
          "v": -0.96877
         },
         {
          "i": 2.263805677018603e-05,
          "t": 1195.32,
          "v": -0.968247
         },
         {
          "i": 2.2265650062111502e-05,
          "t": 1195.32,
          "v": -0.967813
         },
         {
          "i": 2.191824434782579e-05,
          "t": 1195.33,
          "v": -0.967255
         },
         {
          "i": 2.156858993788791e-05,
          "t": 1195.33,
          "v": -0.966763
         },
         {
          "i": 2.1242495900620834e-05,
          "t": 1195.34,
          "v": -0.966259
         },
         {
          "i": 2.093999962732891e-05,
          "t": 1195.34,
          "v": -0.965749
         },
         {
          "i": 2.0642432670807175e-05,
          "t": 1195.35,
          "v": -0.965256
         },
         {
          "i": 2.0363170683229538e-05,
          "t": 1195.35,
          "v": -0.964755
         },
         {
          "i": 2.0054398260869295e-05,
          "t": 1195.36,
          "v": -0.96424
         },
         {
          "i": 1.9725134782608433e-05,
          "t": 1195.36,
          "v": -0.963769
         },
         {
          "i": 1.9387018260869304e-05,
          "t": 1195.37,
          "v": -0.963242
         },
         {
          "i": 1.9053376273291668e-05,
          "t": 1195.38,
          "v": -0.962754
         },
         {
          "i": 1.8678802732919002e-05,
          "t": 1195.38,
          "v": -0.962237
         },
         {
          "i": 1.8316413664596025e-05,
          "t": 1195.39,
          "v": -0.961749
         },
         {
          "i": 1.7947474658384852e-05,
          "t": 1195.39,
          "v": -0.961292
         },
         {
          "i": 1.7571442236024607e-05,
          "t": 1195.4,
          "v": -0.960748
         },
         {
          "i": 1.7182611428571197e-05,
          "t": 1195.4,
          "v": -0.96024
         },
         {
          "i": 1.6758341987577415e-05,
          "t": 1195.41,
          "v": -0.959789
         },
         {
          "i": 1.6308970186335184e-05,
          "t": 1195.41,
          "v": -0.959278
         },
         {
          "i": 1.5802290310558795e-05,
          "t": 1195.41,
          "v": -0.958893
         },
         {
          "i": 1.530924819875756e-05,
          "t": 1195.42,
          "v": -0.958321
         },
         {
          "i": 1.482978847204949e-05,
          "t": 1195.42,
          "v": -0.957724
         },
         {
          "i": 1.433446560248428e-05,
          "t": 1195.43,
          "v": -0.957378
         },
         {
          "i": 1.385105783850913e-05,
          "t": 1195.43,
          "v": -0.956824
         },
         {
          "i": 1.334733303105572e-05,
          "t": 1195.44,
          "v": -0.95624
         },
         {
          "i": 1.2855532260869393e-05,
          "t": 1195.44,
          "v": -0.955813
         },
         {
          "i": 1.2354114509316604e-05,
          "t": 1195.45,
          "v": -0.955273
         },
         {
          "i": 1.1824570770186176e-05,
          "t": 1195.45,
          "v": -0.954804
         },
         {
          "i": 1.1294057242235871e-05,
          "t": 1195.46,
          "v": -0.954272
         },
         {
          "i": 1.07379882981365e-05,
          "t": 1195.46,
          "v": -0.953737
         },
         {
          "i": 1.0165224484471912e-05,
          "t": 1195.47,
          "v": -0.953355
         },
         {
          "i": 9.603411565217261e-06,
          "t": 1195.47,
          "v": -0.952754
         },
         {
          "i": 9.042566111801121e-06,
          "t": 1195.48,
          "v": -0.952239
         },
         {
          "i": 8.486229975155166e-06,
          "t": 1195.48,
          "v": -0.951847
         },
         {
          "i": 7.939138136645856e-06,
          "t": 1195.49,
          "v": -0.951269
         },
         {
          "i": 7.444371677018534e-06,
          "t": 1195.49,
          "v": -0.95079
         },
         {
          "i": 6.962331788819782e-06,
          "t": 1195.5,
          "v": -0.950304
         },
         {
          "i": 6.516330124223516e-06,
          "t": 1195.51,
          "v": -0.949754
         },
         {
          "i": 6.060771925465757e-06,
          "t": 1195.51,
          "v": -0.949307
         },
         {
          "i": 5.631998934161415e-06,
          "t": 1195.52,
          "v": -0.948783
         },
         {
          "i": 5.232329486956451e-06,
          "t": 1195.52,
          "v": -0.948272
         },
         {
          "i": 4.79055670186329e-06,
          "t": 1195.53,
          "v": -0.947822
         },
         {
          "i": 4.348747695652116e-06,
          "t": 1195.53,
          "v": -0.947289
         },
         {
          "i": 3.895684344099327e-06,
          "t": 1195.54,
          "v": -0.9468
         },
         {
          "i": 3.443806684472004e-06,
          "t": 1195.54,
          "v": -0.946292
         },
         {
          "i": 2.985735909316731e-06,
          "t": 1195.54,
          "v": -0.94576
         },
         {
          "i": 2.5726478944099043e-06,
          "t": 1195.55,
          "v": -0.945345
         },
         {
          "i": 2.24056246583848e-06,
          "t": 1195.55,
          "v": -0.944785
         },
         {
          "i": 1.918306393788795e-06,
          "t": 1195.56,
          "v": -0.94427
         },
         {
          "i": 1.6483799888198546e-06,
          "t": 1195.56,
          "v": -0.943835
         },
         {
          "i": 1.4739993503105402e-06,
          "t": 1195.57,
          "v": -0.943278
         },
         {
          "i": 1.3333793478260703e-06,
          "t": 1195.57,
          "v": -0.942773
         },
         {
          "i": 1.3037565900620955e-06,
          "t": 1195.58,
          "v": -0.94229
         },
         {
          "i": 1.363672493167685e-06,
          "t": 1195.58,
          "v": -0.941782
         },
         {
          "i": 1.518916199999981e-06,
          "t": 1195.59,
          "v": -0.941313
         },
         {
          "i": 1.8187195863353807e-06,
          "t": 1195.59,
          "v": -0.940794
         },
         {
          "i": 2.2032930496894126e-06,
          "t": 1195.6,
          "v": -0.940283
         },
         {
          "i": 2.6988421304347473e-06,
          "t": 1195.6,
          "v": -0.939802
         },
         {
          "i": 3.30617056770182e-06,
          "t": 1195.61,
          "v": -0.93929
         },
         {
          "i": 3.969795802484419e-06,
          "t": 1195.61,
          "v": -0.938823
         },
         {
          "i": 4.676523772670745e-06,
          "t": 1195.62,
          "v": -0.93828
         },
         {
          "i": 5.412207447204896e-06,
          "t": 1195.63,
          "v": -0.937789
         },
         {
          "i": 6.119453726707993e-06,
          "t": 1195.63,
          "v": -0.937351
         },
         {
          "i": 6.777296698136554e-06,
          "t": 1195.64,
          "v": -0.936778
         },
         {
          "i": 7.421618551552696e-06,
          "t": 1195.64,
          "v": -0.936275
         },
         {
          "i": 8.038570347825978e-06,
          "t": 1195.65,
          "v": -0.935808
         },
         {
          "i": 8.625546372670692e-06,
          "t": 1195.65,
          "v": -0.935289
         },
         {
          "i": 9.194612049689317e-06,
          "t": 1195.66,
          "v": -0.934796
         },
         {
          "i": 9.768070708074404e-06,
          "t": 1195.66,
          "v": -0.934277
         },
         {
          "i": 1.0318339801242098e-05,
          "t": 1195.66,
          "v": -0.933747
         },
         {
          "i": 1.0849189378881843e-05,
          "t": 1195.67,
          "v": -0.933414
         },
         {
          "i": 1.1379657577639598e-05,
          "t": 1195.67,
          "v": -0.932833
         },
         {
          "i": 1.190154954037251e-05,
          "t": 1195.68,
          "v": -0.932276
         },
         {
          "i": 1.238490621117996e-05,
          "t": 1195.68,
          "v": -0.931865
         },
         {
          "i": 1.290927719254641e-05,
          "t": 1195.69,
          "v": -0.9313
         },
         {
          "i": 1.3418542260869385e-05,
          "t": 1195.69,
          "v": -0.930865
         },
         {
          "i": 1.3940302037266893e-05,
          "t": 1195.7,
          "v": -0.930315
         },
         {
          "i": 1.4501574447204774e-05,
          "t": 1195.7,
          "v": -0.92976
         },
         {
          "i": 1.5025232248447002e-05,
          "t": 1195.71,
          "v": -0.929397
         },
         {
          "i": 1.561131590062091e-05,
          "t": 1195.71,
          "v": -0.928797
         },
         {
          "i": 1.620830248447183e-05,
          "t": 1195.72,
          "v": -0.928284
         },
         {
          "i": 1.677882062111779e-05,
          "t": 1195.72,
          "v": -0.927828
         },
         {
          "i": 1.7378660993788586e-05,
          "t": 1195.73,
          "v": -0.927287
         },
         {
          "i": 1.800328919254634e-05,
          "t": 1195.73,
          "v": -0.926851
         },
         {
          "i": 1.8638788695651926e-05,
          "t": 1195.74,
          "v": -0.926329
         },
         {
          "i": 1.9325006832297876e-05,
          "t": 1195.74,
          "v": -0.925785
         },
         {
          "i": 2.0003329689440727e-05,
          "t": 1195.75,
          "v": -0.925362
         },
         {
          "i": 2.068015130434755e-05,
          "t": 1195.76,
          "v": -0.924817
         },
         {
          "i": 2.1350470062111513e-05,
          "t": 1195.76,
          "v": -0.924304
         },
         {
          "i": 2.2017431304347532e-05,
          "t": 1195.77,
          "v": -0.923838
         },
         {
          "i": 2.267847279503075e-05,
          "t": 1195.77,
          "v": -0.923302
         },
         {
          "i": 2.3334056645962417e-05,
          "t": 1195.78,
          "v": -0.922854
         },
         {
          "i": 2.3969749565217072e-05,
          "t": 1195.78,
          "v": -0.922336
         },
         {
          "i": 2.4571758881987245e-05,
          "t": 1195.79,
          "v": -0.921803
         },
         {
          "i": 2.512373465838476e-05,
          "t": 1195.79,
          "v": -0.921389
         },
         {
          "i": 2.5644869316769842e-05,
          "t": 1195.79,
          "v": -0.920823
         },
         {
          "i": 2.6171723602484115e-05,
          "t": 1195.8,
          "v": -0.920283
         },
         {
          "i": 2.6655226335403366e-05,
          "t": 1195.8,
          "v": -0.919843
         },
         {
          "i": 2.714940422360212e-05,
          "t": 1195.81,
          "v": -0.919295
         },
         {
          "i": 2.7637331677018265e-05,
          "t": 1195.81,
          "v": -0.918836
         },
         {
          "i": 2.8122752298136268e-05,
          "t": 1195.82,
          "v": -0.918319
         },
         {
          "i": 2.8640620248446818e-05,
          "t": 1195.82,
          "v": -0.917808
         },
         {
          "i": 2.9144198136645573e-05,
          "t": 1195.83,
          "v": -0.917329
         },
         {
          "i": 2.9664273291925066e-05,
          "t": 1195.83,
          "v": -0.916806
         },
         {
          "i": 3.0220286335403323e-05,
          "t": 1195.84,
          "v": -0.916284
         },
         {
          "i": 3.081105527950269e-05,
          "t": 1195.84,
          "v": -0.91581
         },
         {
          "i": 3.1398371428571005e-05,
          "t": 1195.85,
          "v": -0.915289
         },
         {
          "i": 3.2028880621117584e-05,
          "t": 1195.85,
          "v": -0.914838
         },
         {
          "i": 3.263591714285671e-05,
          "t": 1195.86,
          "v": -0.914287
         },
         {
          "i": 3.3282351180123776e-05,
          "t": 1195.86,
          "v": -0.913793
         },
         {
          "i": 3.393272397515482e-05,
          "t": 1195.87,
          "v": -0.913354
         },
         {
          "i": 3.453759242235978e-05,
          "t": 1195.88,
          "v": -0.91279
         },
         {
          "i": 3.5165322608695176e-05,
          "t": 1195.88,
          "v": -0.912272
         },
         {
          "i": 3.5769698509316295e-05,
          "t": 1195.89,
          "v": -0.911821
         },
         {
          "i": 3.635876534161442e-05,
          "t": 1195.89,
          "v": -0.911289
         },
         {
          "i": 3.6941332670806956e-05,
          "t": 1195.9,
          "v": -0.910782
         },
         {
          "i": 3.751710583850881e-05,
          "t": 1195.9,
          "v": -0.91028
         },
         {
          "i": 3.810486807453365e-05,
          "t": 1195.91,
          "v": -0.90978
         },
         {
          "i": 3.871434546583799e-05,
          "t": 1195.91,
          "v": -0.909296
         },
         {
          "i": 3.9305885962732394e-05,
          "t": 1195.91,
          "v": -0.908797
         },
         {
          "i": 3.9888348695651646e-05,
          "t": 1195.92,
          "v": -0.90826
         },
         {
          "i": 4.044071503105536e-05,
          "t": 1195.92,
          "v": -0.907862
         },
         {
          "i": 4.0991694409937336e-05,
          "t": 1195.93,
          "v": -0.907304
         },
         {
          "i": 4.153650422360193e-05,
          "t": 1195.93,
          "v": -0.906874
         },
         {
          "i": 4.2047369440993225e-05,
          "t": 1195.94,
          "v": -0.906316
         },
         {
          "i": 4.2556855403726134e-05,
          "t": 1195.94,
          "v": -0.905771
         },
         {
          "i": 4.3016382360247864e-05,
          "t": 1195.95,
          "v": -0.905432
         },
         {
          "i": 4.3439889565216806e-05,
          "t": 1195.95,
          "v": -0.904835
         },
         {
          "i": 4.3818873167701276e-05,
          "t": 1195.96,
          "v": -0.904308
         },
         {
          "i": 4.420171801242176e-05,
          "t": 1195.96,
          "v": -0.903859
         },
         {
          "i": 4.45760100621112e-05,
          "t": 1195.97,
          "v": -0.903288
         },
         {
          "i": 4.497028322981306e-05,
          "t": 1195.97,
          "v": -0.902842
         },
         {
          "i": 4.532595105590002e-05,
          "t": 1195.98,
          "v": -0.902302
         },
         {
          "i": 4.5686783105589445e-05,
          "t": 1195.98,
          "v": -0.901779
         },
         {
          "i": 4.607271813664534e-05,
          "t": 1195.99,
          "v": -0.901351
         },
         {
          "i": 4.645220559006149e-05,
          "t": 1195.99,
          "v": -0.900819
         },
         {
          "i": 4.6841947950309924e-05,
          "t": 1196,
          "v": -0.900297
         },
         {
          "i": 4.726446496894347e-05,
          "t": 1196.01,
          "v": -0.899829
         },
         {
          "i": 4.7663722111800606e-05,
          "t": 1196.01,
          "v": -0.899304
         },
         {
          "i": 4.808359689440929e-05,
          "t": 1196.02,
          "v": -0.898829
         },
         {
          "i": 4.849119540372606e-05,
          "t": 1196.02,
          "v": -0.898311
         },
         {
          "i": 4.8900106086955866e-05,
          "t": 1196.03,
          "v": -0.89778
         },
         {
          "i": 4.927488347826021e-05,
          "t": 1196.03,
          "v": -0.897374
         },
         {
          "i": 4.9652838509316104e-05,
          "t": 1196.04,
          "v": -0.896828
         },
         {
          "i": 5.004555664596207e-05,
          "t": 1196.04,
          "v": -0.896297
         },
         {
          "i": 5.0453929192545904e-05,
          "t": 1196.04,
          "v": -0.895867
         },
         {
          "i": 5.0850920621117327e-05,
          "t": 1196.05,
          "v": -0.895309
         },
         {
          "i": 5.122895366459559e-05,
          "t": 1196.05,
          "v": -0.894823
         },
         {
          "i": 5.1564424099378184e-05,
          "t": 1196.06,
          "v": -0.894328
         },
         {
          "i": 5.190429329192477e-05,
          "t": 1196.06,
          "v": -0.893799
         },
         {
          "i": 5.226034434782539e-05,
          "t": 1196.07,
          "v": -0.89335
         },
         {
          "i": 5.2631512670806745e-05,
          "t": 1196.07,
          "v": -0.892823
         },
         {
          "i": 5.3017557391303636e-05,
          "t": 1196.08,
          "v": -0.892309
         },
         {
          "i": 5.338583254658313e-05,
          "t": 1196.08,
          "v": -0.891815
         },
         {
          "i": 5.3784312670806725e-05,
          "t": 1196.09,
          "v": -0.891286
         },
         {
          "i": 5.417224086956448e-05,
          "t": 1196.09,
          "v": -0.890825
         },
         {
          "i": 5.453696720496821e-05,
          "t": 1196.1,
          "v": -0.890292
         },
         {
          "i": 5.49170321739123e-05,
          "t": 1196.1,
          "v": -0.88978
         },
         {
          "i": 5.5284338136645224e-05,
          "t": 1196.11,
          "v": -0.889355
         },
         {
          "i": 5.566659677018559e-05,
          "t": 1196.11,
          "v": -0.88879
         },
         {
          "i": 5.600500608695577e-05,
          "t": 1196.12,
          "v": -0.888278
         },
         {
          "i": 5.637101751552719e-05,
          "t": 1196.13,
          "v": -0.887819
         },
         {
          "i": 5.668727217391228e-05,
          "t": 1196.13,
          "v": -0.887277
         },
         {
          "i": 5.700469279503029e-05,
          "t": 1196.14,
          "v": -0.886778
         },
         {
          "i": 5.7278128322980595e-05,
          "t": 1196.14,
          "v": -0.886294
         },
         {
          "i": 5.754031515527873e-05,
          "t": 1196.15,
          "v": -0.885786
         },
         {
          "i": 5.779775763975077e-05,
          "t": 1196.15,
          "v": -0.885302
         },
         {
          "i": 5.8019659130434e-05,
          "t": 1196.16,
          "v": -0.884784
         },
         {
          "i": 5.8199134782607916e-05,
          "t": 1196.16,
          "v": -0.884286
         },
         {
          "i": 5.834940496894332e-05,
          "t": 1196.16,
          "v": -0.883804
         },
         {
          "i": 5.848064260869486e-05,
          "t": 1196.17,
          "v": -0.883296
         },
         {
          "i": 5.861792819875698e-05,
          "t": 1196.17,
          "v": -0.882813
         },
         {
          "i": 5.875034496894331e-05,
          "t": 1196.18,
          "v": -0.88232
         },
         {
          "i": 5.886063515527871e-05,
          "t": 1196.18,
          "v": -0.881787
         },
         {
          "i": 5.897459093167623e-05,
          "t": 1196.19,
          "v": -0.881434
         },
         {
          "i": 5.9075310931676225e-05,
          "t": 1196.19,
          "v": -0.880825
         },
         {
          "i": 5.9189799751551996e-05,
          "t": 1196.2,
          "v": -0.880332
         },
         {
          "i": 5.9256707080744544e-05,
          "t": 1196.2,
          "v": -0.879893
         },
         {
          "i": 5.93495852173905e-05,
          "t": 1196.21,
          "v": -0.879304
         },
         {
          "i": 5.942799155279423e-05,
          "t": 1196.21,
          "v": -0.878857
         },
         {
          "i": 5.951264956521659e-05,
          "t": 1196.22,
          "v": -0.878318
         },
         {
          "i": 5.961340857142776e-05,
          "t": 1196.22,
          "v": -0.87778
         },
         {
          "i": 5.970651291925385e-05,
          "t": 1196.23,
          "v": -0.877355
         },
         {
          "i": 5.9803828447204165e-05,
          "t": 1196.23,
          "v": -0.876791
         },
         {
          "i": 5.987935366459547e-05,
          "t": 1196.24,
          "v": -0.876306
         },
         {
          "i": 5.99618650931669e-05,
          "t": 1196.24,
          "v": -0.875838
         },
         {
          "i": 6.0028356770185526e-05,
          "t": 1196.25,
          "v": -0.875303
         },
         {
          "i": 6.010429763975075e-05,
          "t": 1196.26,
          "v": -0.874846
         },
         {
          "i": 6.0162567329191734e-05,
          "t": 1196.26,
          "v": -0.874321
         },
         {
          "i": 6.021144347826006e-05,
          "t": 1196.27,
          "v": -0.873802
         },
         {
          "i": 6.025415888198677e-05,
          "t": 1196.27,
          "v": -0.873408
         },
         {
          "i": 6.031096782608614e-05,
          "t": 1196.28,
          "v": -0.872827
         },
         {
          "i": 6.037859403726626e-05,
          "t": 1196.28,
          "v": -0.87232
         },
         {
          "i": 6.045130161490602e-05,
          "t": 1196.29,
          "v": -0.871877
         },
         {
          "i": 6.05501909316762e-05,
          "t": 1196.29,
          "v": -0.87132
         },
         {
          "i": 6.065396372670726e-05,
          "t": 1196.29,
          "v": -0.870847
         },
         {
          "i": 6.078168881987496e-05,
          "t": 1196.3,
          "v": -0.870339
         },
         {
          "i": 6.091390322981285e-05,
          "t": 1196.3,
          "v": -0.869786
         },
         {
          "i": 6.100898546583769e-05,
          "t": 1196.31,
          "v": -0.86934
         },
         {
          "i": 6.10983163975147e-05,
          "t": 1196.31,
          "v": -0.868785
         },
         {
          "i": 6.119107701863273e-05,
          "t": 1196.32,
          "v": -0.868288
         },
         {
          "i": 6.12591362732911e-05,
          "t": 1196.32,
          "v": -0.867808
         },
         {
          "i": 6.133707291925383e-05,
          "t": 1196.33,
          "v": -0.867285
         },
         {
          "i": 6.140084385093085e-05,
          "t": 1196.33,
          "v": -0.866799
         },
         {
          "i": 6.143763043478179e-05,
          "t": 1196.34,
          "v": -0.866274
         },
         {
          "i": 6.150400993788737e-05,
          "t": 1196.34,
          "v": -0.865773
         },
         {
          "i": 6.15588258385085e-05,
          "t": 1196.35,
          "v": -0.865338
         },
         {
          "i": 6.159777888198675e-05,
          "t": 1196.35,
          "v": -0.864784
         },
         {
          "i": 6.161195242235942e-05,
          "t": 1196.36,
          "v": -0.864273
         },
         {
          "i": 6.161311341614824e-05,
          "t": 1196.36,
          "v": -0.863814
         },
         {
          "i": 6.158980857142774e-05,
          "t": 1196.37,
          "v": -0.863273
         },
         {
          "i": 6.156995192546501e-05,
          "t": 1196.38,
          "v": -0.862782
         },
         {
          "i": 6.155812546583768e-05,
          "t": 1196.38,
          "v": -0.862264
         },
         {
          "i": 6.156005975155197e-05,
          "t": 1196.39,
          "v": -0.861775
         },
         {
          "i": 6.155908024844638e-05,
          "t": 1196.39,
          "v": -0.861283
         },
         {
          "i": 6.15537965217383e-05,
          "t": 1196.4,
          "v": -0.860755
         },
         {
          "i": 6.156943540372587e-05,
          "t": 1196.4,
          "v": -0.860267
         },
         {
          "i": 6.159112583850849e-05,
          "t": 1196.41,
          "v": -0.859789
         },
         {
          "i": 6.163061689440911e-05,
          "t": 1196.41,
          "v": -0.859273
         },
         {
          "i": 6.166699813664514e-05,
          "t": 1196.41,
          "v": -0.858801
         },
         {
          "i": 6.165190695652091e-05,
          "t": 1196.42,
          "v": -0.858259
         },
         {
          "i": 6.167317751552712e-05,
          "t": 1196.42,
          "v": -0.857774
         },
         {
          "i": 6.166413503105509e-05,
          "t": 1196.43,
          "v": -0.857333
         },
         {
          "i": 6.163460919254576e-05,
          "t": 1196.43,
          "v": -0.856794
         },
         {
          "i": 6.160186310558923e-05,
          "t": 1196.44,
          "v": -0.856309
         },
         {
          "i": 6.157052099378798e-05,
          "t": 1196.44,
          "v": -0.855878
         },
         {
          "i": 6.156776459627246e-05,
          "t": 1196.45,
          "v": -0.855299
         },
         {
          "i": 6.16059109316762e-05,
          "t": 1196.45,
          "v": -0.854888
         },
         {
          "i": 6.160768720496811e-05,
          "t": 1196.46,
          "v": -0.854328
         },
         {
          "i": 6.159609366459545e-05,
          "t": 1196.46,
          "v": -0.853749
         },
         {
          "i": 6.156643751552713e-05,
          "t": 1196.47,
          "v": -0.85336
         },
         {
          "i": 6.154381118012339e-05,
          "t": 1196.47,
          "v": -0.852799
         },
         {
          "i": 6.151741180124141e-05,
          "t": 1196.48,
          "v": -0.852269
         },
         {
          "i": 6.147498397515445e-05,
          "t": 1196.48,
          "v": -0.851824
         },
         {
          "i": 6.146097291925383e-05,
          "t": 1196.49,
          "v": -0.85128
         },
         {
          "i": 6.142024782608613e-05,
          "t": 1196.49,
          "v": -0.850819
         },
         {
          "i": 6.135591962732837e-05,
          "t": 1196.5,
          "v": -0.850287
         },
         {
          "i": 6.129567925465755e-05,
          "t": 1196.51,
          "v": -0.84977
         },
         {
          "i": 6.124385142857062e-05,
          "t": 1196.51,
          "v": -0.849373
         },
         {
          "i": 6.120100521739048e-05,
          "t": 1196.52,
          "v": -0.848798
         },
         {
          "i": 6.11652658385085e-05,
          "t": 1196.52,
          "v": -0.848288
         },
         {
          "i": 6.111496857142776e-05,
          "t": 1196.53,
          "v": -0.847866
         },
         {
          "i": 6.105031639751471e-05,
          "t": 1196.53,
          "v": -0.847302
         },
         {
          "i": 6.0981413043477436e-05,
          "t": 1196.54,
          "v": -0.84681
         },
         {
          "i": 6.0890783602483656e-05,
          "t": 1196.54,
          "v": -0.84632
         },
         {
          "i": 6.082868186335322e-05,
          "t": 1196.54,
          "v": -0.845781
         },
         {
          "i": 6.0763589316769375e-05,
          "t": 1196.55,
          "v": -0.845353
         },
         {
          "i": 6.0719017515527134e-05,
          "t": 1196.55,
          "v": -0.844815
         },
         {
          "i": 6.0694722236024023e-05,
          "t": 1196.56,
          "v": -0.844291
         },
         {
          "i": 6.06698607453408e-05,
          "t": 1196.56,
          "v": -0.84383
         },
         {
          "i": 6.0627566583850116e-05,
          "t": 1196.57,
          "v": -0.843281
         },
         {
          "i": 6.058981602484391e-05,
          "t": 1196.57,
          "v": -0.842844
         },
         {
          "i": 6.054728062111719e-05,
          "t": 1196.58,
          "v": -0.842301
         },
         {
          "i": 6.048983453416068e-05,
          "t": 1196.58,
          "v": -0.841788
         },
         {
          "i": 6.041611962732839e-05,
          "t": 1196.59,
          "v": -0.841362
         },
         {
          "i": 6.0342264968943284e-05,
          "t": 1196.59,
          "v": -0.840808
         },
         {
          "i": 6.0277753788819055e-05,
          "t": 1196.6,
          "v": -0.840279
         },
         {
          "i": 6.017536347826006e-05,
          "t": 1196.6,
          "v": -0.839832
         },
         {
          "i": 6.0076194534160684e-05,
          "t": 1196.61,
          "v": -0.839288
         },
         {
          "i": 5.998120881987497e-05,
          "t": 1196.61,
          "v": -0.838805
         },
         {
          "i": 5.9878277763974356e-05,
          "t": 1196.62,
          "v": -0.838287
         },
         {
          "i": 5.977995838509236e-05,
          "t": 1196.63,
          "v": -0.837794
         },
         {
          "i": 5.9696859875775596e-05,
          "t": 1196.63,
          "v": -0.837319
         },
         {
          "i": 5.962823366459548e-05,
          "t": 1196.64,
          "v": -0.836796
         },
         {
          "i": 5.9550264968943295e-05,
          "t": 1196.64,
          "v": -0.836287
         },
         {
          "i": 5.946876322981286e-05,
          "t": 1196.65,
          "v": -0.835797
         },
         {
          "i": 5.9408427080744546e-05,
          "t": 1196.65,
          "v": -0.835283
         },
         {
          "i": 5.93571498136638e-05,
          "t": 1196.66,
          "v": -0.834816
         },
         {
          "i": 5.930665267080666e-05,
          "t": 1196.66,
          "v": -0.834276
         },
         {
          "i": 5.9278425465837716e-05,
          "t": 1196.66,
          "v": -0.833796
         },
         {
          "i": 5.925026621117933e-05,
          "t": 1196.67,
          "v": -0.833347
         },
         {
          "i": 5.92343344099371e-05,
          "t": 1196.67,
          "v": -0.832796
         },
         {
          "i": 5.9212721863353247e-05,
          "t": 1196.68,
          "v": -0.832281
         },
         {
          "i": 5.918093913043399e-05,
          "t": 1196.68,
          "v": -0.831808
         },
         {
          "i": 5.912768695652094e-05,
          "t": 1196.69,
          "v": -0.831297
         },
         {
          "i": 5.906862099378802e-05,
          "t": 1196.69,
          "v": -0.830922
         },
         {
          "i": 5.9026805341614116e-05,
          "t": 1196.7,
          "v": -0.830346
         },
         {
          "i": 5.899551503105511e-05,
          "t": 1196.7,
          "v": -0.829756
         },
         {
          "i": 5.895449999999921e-05,
          "t": 1196.71,
          "v": -0.829395
         },
         {
          "i": 5.889804285714206e-05,
          "t": 1196.71,
          "v": -0.828833
         },
         {
          "i": 5.8842159006210396e-05,
          "t": 1196.72,
          "v": -0.828293
         },
         {
          "i": 5.87719196273284e-05,
          "t": 1196.72,
          "v": -0.827845
         },
         {
          "i": 5.871054099378803e-05,
          "t": 1196.73,
          "v": -0.827298
         },
         {
          "i": 5.8648193913042685e-05,
          "t": 1196.73,
          "v": -0.826882
         },
         {
          "i": 5.858854906832219e-05,
          "t": 1196.74,
          "v": -0.826304
         },
         {
          "i": 5.853446223602406e-05,
          "t": 1196.74,
          "v": -0.825774
         },
         {
          "i": 5.846977043478182e-05,
          "t": 1196.75,
          "v": -0.825392
         },
         {
          "i": 5.8406857142856356e-05,
          "t": 1196.76,
          "v": -0.824802
         },
         {
          "i": 5.8342334409937104e-05,
          "t": 1196.76,
          "v": -0.824295
         },
         {
          "i": 5.829765826086878e-05,
          "t": 1196.77,
          "v": -0.823859
         },
         {
          "i": 5.82578039751545e-05,
          "t": 1196.77,
          "v": -0.823299
         },
         {
          "i": 5.820991478260792e-05,
          "t": 1196.78,
          "v": -0.822839
         },
         {
          "i": 5.814090944099301e-05,
          "t": 1196.78,
          "v": -0.822326
         },
         {
          "i": 5.807735229813587e-05,
          "t": 1196.79,
          "v": -0.821803
         },
         {
          "i": 5.801157018633463e-05,
          "t": 1196.79,
          "v": -0.821368
         },
         {
          "i": 5.790057229813587e-05,
          "t": 1196.79,
          "v": -0.820829
         },
         {
          "i": 5.781518645962655e-05,
          "t": 1196.8,
          "v": -0.820313
         },
         {
          "i": 5.7713354906831525e-05,
          "t": 1196.8,
          "v": -0.819852
         },
         {
          "i": 5.760073428571351e-05,
          "t": 1196.81,
          "v": -0.819326
         },
         {
          "i": 5.750227093167625e-05,
          "t": 1196.81,
          "v": -0.818849
         },
         {
          "i": 5.74020137888191e-05,
          "t": 1196.82,
          "v": -0.818301
         },
         {
          "i": 5.729703465838432e-05,
          "t": 1196.82,
          "v": -0.817782
         },
         {
          "i": 5.7185107453415376e-05,
          "t": 1196.83,
          "v": -0.817365
         },
         {
          "i": 5.703181428571352e-05,
          "t": 1196.83,
          "v": -0.816817
         },
         {
          "i": 5.683401391304272e-05,
          "t": 1196.84,
          "v": -0.816301
         },
         {
          "i": 5.667563366459551e-05,
          "t": 1196.84,
          "v": -0.815849
         },
         {
          "i": 5.6529465838508556e-05,
          "t": 1196.85,
          "v": -0.815289
         },
         {
          "i": 5.63584477018626e-05,
          "t": 1196.85,
          "v": -0.814811
         },
         {
          "i": 5.618915850931602e-05,
          "t": 1196.86,
          "v": -0.814317
         },
         {
          "i": 5.603137105589987e-05,
          "t": 1196.86,
          "v": -0.8138
         },
         {
          "i": 5.5864619378881245e-05,
          "t": 1196.87,
          "v": -0.813332
         },
         {
          "i": 5.5690560745340864e-05,
          "t": 1196.88,
          "v": -0.812815
         },
         {
          "i": 5.551432198757689e-05,
          "t": 1196.88,
          "v": -0.812295
         },
         {
          "i": 5.5306641614906084e-05,
          "t": 1196.89,
          "v": -0.811814
         },
         {
          "i": 5.508791751552721e-05,
          "t": 1196.89,
          "v": -0.811293
         },
         {
          "i": 5.489509590062038e-05,
          "t": 1196.9,
          "v": -0.81082
         },
         {
          "i": 5.474112111801169e-05,
          "t": 1196.9,
          "v": -0.810289
         },
         {
          "i": 5.456470956521666e-05,
          "t": 1196.91,
          "v": -0.809798
         },
         {
          "i": 5.441822496894337e-05,
          "t": 1196.91,
          "v": -0.809356
         },
         {
          "i": 5.425252335403654e-05,
          "t": 1196.91,
          "v": -0.808803
         },
         {
          "i": 5.4127244720496165e-05,
          "t": 1196.92,
          "v": -0.808286
         },
         {
          "i": 5.402386757763903e-05,
          "t": 1196.92,
          "v": -0.807819
         },
         {
          "i": 5.3913462857142124e-05,
          "t": 1196.93,
          "v": -0.807292
         },
         {
          "i": 5.3779570683229095e-05,
          "t": 1196.93,
          "v": -0.806803
         },
         {
          "i": 5.36378506832291e-05,
          "t": 1196.94,
          "v": -0.8063
         },
         {
          "i": 5.347553018633468e-05,
          "t": 1196.94,
          "v": -0.805749
         },
         {
          "i": 5.333141701863283e-05,
          "t": 1196.95,
          "v": -0.805422
         },
         {
          "i": 5.3265722857142144e-05,
          "t": 1196.95,
          "v": -0.804861
         },
         {
          "i": 5.3166628198757043e-05,
          "t": 1196.96,
          "v": -0.804293
         },
         {
          "i": 5.305582571428499e-05,
          "t": 1196.96,
          "v": -0.80387
         },
         {
          "i": 5.294102385093097e-05,
          "t": 1196.97,
          "v": -0.803317
         },
         {
          "i": 5.2823053416148355e-05,
          "t": 1196.97,
          "v": -0.802879
         },
         {
          "i": 5.266926372670736e-05,
          "t": 1196.98,
          "v": -0.802333
         },
         {
          "i": 5.2527856770185634e-05,
          "t": 1196.98,
          "v": -0.801781
         },
         {
          "i": 5.238803167701793e-05,
          "t": 1196.99,
          "v": -0.801426
         },
         {
          "i": 5.223811229813594e-05,
          "t": 1196.99,
          "v": -0.80083
         },
         {
          "i": 5.2107466583850225e-05,
          "t": 1197,
          "v": -0.800321
         },
         {
          "i": 5.202191155279433e-05,
          "t": 1197.01,
          "v": -0.799849
         },
         {
          "i": 5.1926734782608e-05,
          "t": 1197.01,
          "v": -0.799309
         },
         {
          "i": 5.181495900621048e-05,
          "t": 1197.02,
          "v": -0.798873
         },
         {
          "i": 5.169964285714216e-05,
          "t": 1197.02,
          "v": -0.798351
         },
         {
          "i": 5.1594124099378195e-05,
          "t": 1197.03,
          "v": -0.797801
         },
         {
          "i": 5.1504744720496195e-05,
          "t": 1197.03,
          "v": -0.797387
         },
         {
          "i": 5.1390064720496196e-05,
          "t": 1197.04,
          "v": -0.796859
         },
         {
          "i": 5.129627142857074e-05,
          "t": 1197.04,
          "v": -0.796331
         },
         {
          "i": 5.1181770807452734e-05,
          "t": 1197.04,
          "v": -0.795869
         },
         {
          "i": 5.1091244347825396e-05,
          "t": 1197.05,
          "v": -0.795327
         },
         {
          "i": 5.098072136645895e-05,
          "t": 1197.05,
          "v": -0.794866
         },
         {
          "i": 5.0907007701862665e-05,
          "t": 1197.06,
          "v": -0.794352
         },
         {
          "i": 5.082629080745274e-05,
          "t": 1197.06,
          "v": -0.793822
         },
         {
          "i": 5.0727401242235344e-05,
          "t": 1197.07,
          "v": -0.793405
         },
         {
          "i": 5.0603168944098704e-05,
          "t": 1197.07,
          "v": -0.792875
         },
         {
          "i": 5.045999987577572e-05,
          "t": 1197.08,
          "v": -0.79234
         },
         {
          "i": 5.034572745341547e-05,
          "t": 1197.08,
          "v": -0.791874
         },
         {
          "i": 5.023090968944032e-05,
          "t": 1197.09,
          "v": -0.79133
         },
         {
          "i": 5.010423416149001e-05,
          "t": 1197.09,
          "v": -0.790891
         },
         {
          "i": 4.99929083229807e-05,
          "t": 1197.1,
          "v": -0.790379
         },
         {
          "i": 4.985774149068256e-05,
          "t": 1197.1,
          "v": -0.789833
         },
         {
          "i": 4.9741972422359585e-05,
          "t": 1197.11,
          "v": -0.789365
         },
         {
          "i": 4.9634562484471374e-05,
          "t": 1197.11,
          "v": -0.788846
         },
         {
          "i": 4.949783937888132e-05,
          "t": 1197.12,
          "v": -0.788345
         },
         {
          "i": 4.937166633540306e-05,
          "t": 1197.13,
          "v": -0.787834
         },
         {
          "i": 4.924664360248381e-05,
          "t": 1197.13,
          "v": -0.787322
         },
         {
          "i": 4.91112828571422e-05,
          "t": 1197.14,
          "v": -0.786848
         },
         {
          "i": 4.899685751552729e-05,
          "t": 1197.14,
          "v": -0.786311
         },
         {
          "i": 4.8883986708073875e-05,
          "t": 1197.15,
          "v": -0.785816
         },
         {
          "i": 4.880915217391239e-05,
          "t": 1197.15,
          "v": -0.785365
         },
         {
          "i": 4.8681662857142205e-05,
          "t": 1197.16,
          "v": -0.784823
         },
         {
          "i": 4.8579059751552146e-05,
          "t": 1197.16,
          "v": -0.784304
         },
         {
          "i": 4.849654795030991e-05,
          "t": 1197.16,
          "v": -0.783823
         },
         {
          "i": 4.8413460248446544e-05,
          "t": 1197.17,
          "v": -0.783312
         },
         {
          "i": 4.8311266086955874e-05,
          "t": 1197.17,
          "v": -0.782818
         },
         {
          "i": 4.821828968944035e-05,
          "t": 1197.18,
          "v": -0.782316
         },
         {
          "i": 4.8105351552794384e-05,
          "t": 1197.18,
          "v": -0.78181
         },
         {
          "i": 4.8002824720496247e-05,
          "t": 1197.19,
          "v": -0.781323
         },
         {
          "i": 4.790139192546519e-05,
          "t": 1197.19,
          "v": -0.780811
         },
         {
          "i": 4.777383888198693e-05,
          "t": 1197.2,
          "v": -0.780313
         },
         {
          "i": 4.764077130434718e-05,
          "t": 1197.2,
          "v": -0.779883
         },
         {
          "i": 4.7513500248446566e-05,
          "t": 1197.21,
          "v": -0.779317
         },
         {
          "i": 4.736174285714222e-05,
          "t": 1197.21,
          "v": -0.778908
         },
         {
          "i": 4.725472931676956e-05,
          "t": 1197.22,
          "v": -0.778374
         },
         {
          "i": 4.715632645962669e-05,
          "t": 1197.22,
          "v": -0.777813
         },
         {
          "i": 4.7044722360247816e-05,
          "t": 1197.23,
          "v": -0.777441
         },
         {
          "i": 4.692915987577576e-05,
          "t": 1197.23,
          "v": -0.776862
         },
         {
          "i": 4.680481354037204e-05,
          "t": 1197.24,
          "v": -0.776352
         },
         {
          "i": 4.666965776397453e-05,
          "t": 1197.24,
          "v": -0.775878
         },
         {
          "i": 4.6568393291924844e-05,
          "t": 1197.25,
          "v": -0.775316
         },
         {
          "i": 4.6457665093167083e-05,
          "t": 1197.26,
          "v": -0.77486
         },
         {
          "i": 4.6350968571427945e-05,
          "t": 1197.26,
          "v": -0.774327
         },
         {
          "i": 4.6212309440993165e-05,
          "t": 1197.27,
          "v": -0.773817
         },
         {
          "i": 4.6104180993788205e-05,
          "t": 1197.27,
          "v": -0.773396
         },
         {
          "i": 4.600968285714224e-05,
          "t": 1197.28,
          "v": -0.77285
         },
         {
          "i": 4.590194708074473e-05,
          "t": 1197.28,
          "v": -0.772336
         },
         {
          "i": 4.583239366459566e-05,
          "t": 1197.29,
          "v": -0.771856
         },
         {
          "i": 4.575318161490621e-05,
          "t": 1197.29,
          "v": -0.771329
         },
         {
          "i": 4.5667204472049076e-05,
          "t": 1197.29,
          "v": -0.770883
         },
         {
          "i": 4.559580521739069e-05,
          "t": 1197.3,
          "v": -0.770354
         },
         {
          "i": 4.553248111801181e-05,
          "t": 1197.3,
          "v": -0.769825
         },
         {
          "i": 4.5457239751552184e-05,
          "t": 1197.31,
          "v": -0.769417
         },
         {
          "i": 4.539563006211119e-05,
          "t": 1197.31,
          "v": -0.768862
         },
         {
          "i": 4.5339628819875165e-05,
          "t": 1197.32,
          "v": -0.768358
         },
         {
          "i": 4.5283262608695044e-05,
          "t": 1197.32,
          "v": -0.767899
         },
         {
          "i": 4.5254152049688836e-05,
          "t": 1197.33,
          "v": -0.767312
         },
         {
          "i": 4.521359763975094e-05,
          "t": 1197.33,
          "v": -0.766852
         },
         {
          "i": 4.514556111801182e-05,
          "t": 1197.34,
          "v": -0.766332
         },
         {
          "i": 4.5069436273291316e-05,
          "t": 1197.34,
          "v": -0.765786
         },
         {
          "i": 4.49746597515522e-05,
          "t": 1197.35,
          "v": -0.765365
         },
         {
          "i": 4.488258956521679e-05,
          "t": 1197.35,
          "v": -0.76484
         },
         {
          "i": 4.4780760372670204e-05,
          "t": 1197.36,
          "v": -0.764313
         },
         {
          "i": 4.465330347826027e-05,
          "t": 1197.36,
          "v": -0.763825
         },
         {
          "i": 4.4535229192545984e-05,
          "t": 1197.37,
          "v": -0.7633
         },
         {
          "i": 4.442453739130375e-05,
          "t": 1197.38,
          "v": -0.762839
         },
         {
          "i": 4.431574931676959e-05,
          "t": 1197.38,
          "v": -0.762299
         },
         {
          "i": 4.4221595031055314e-05,
          "t": 1197.39,
          "v": -0.761792
         },
         {
          "i": 4.4143618260868975e-05,
          "t": 1197.39,
          "v": -0.761366
         },
         {
          "i": 4.4078313043477676e-05,
          "t": 1197.4,
          "v": -0.760804
         },
         {
          "i": 4.400754086956463e-05,
          "t": 1197.4,
          "v": -0.760296
         },
         {
          "i": 4.3945051801241655e-05,
          "t": 1197.41,
          "v": -0.759824
         },
         {
          "i": 4.389406608695593e-05,
          "t": 1197.41,
          "v": -0.759299
         },
         {
          "i": 4.3852813540372086e-05,
          "t": 1197.41,
          "v": -0.758802
         },
         {
          "i": 4.3791081863353446e-05,
          "t": 1197.42,
          "v": -0.758299
         },
         {
          "i": 4.3746637267080154e-05,
          "t": 1197.42,
          "v": -0.757801
         },
         {
          "i": 4.3705165838508733e-05,
          "t": 1197.43,
          "v": -0.757315
         },
         {
          "i": 4.365618298136587e-05,
          "t": 1197.43,
          "v": -0.756786
         },
         {
          "i": 4.3617046708073945e-05,
          "t": 1197.44,
          "v": -0.756297
         },
         {
          "i": 4.357922906832239e-05,
          "t": 1197.44,
          "v": -0.755809
         },
         {
          "i": 4.354337192546525e-05,
          "t": 1197.45,
          "v": -0.755307
         },
         {
          "i": 4.3493366211179544e-05,
          "t": 1197.45,
          "v": -0.754865
         },
         {
          "i": 4.3439148944098796e-05,
          "t": 1197.46,
          "v": -0.754374
         },
         {
          "i": 4.3383962608695073e-05,
          "t": 1197.46,
          "v": -0.753789
         },
         {
          "i": 4.331367453416091e-05,
          "t": 1197.47,
          "v": -0.753435
         },
         {
          "i": 4.3266124099378305e-05,
          "t": 1197.47,
          "v": -0.752865
         },
         {
          "i": 4.322415614906774e-05,
          "t": 1197.48,
          "v": -0.752361
         },
         {
          "i": 4.315973068322923e-05,
          "t": 1197.48,
          "v": -0.751885
         },
         {
          "i": 4.310205341614849e-05,
          "t": 1197.49,
          "v": -0.751312
         },
         {
          "i": 4.3035598881987e-05,
          "t": 1197.49,
          "v": -0.75089
         },
         {
          "i": 4.296493639751495e-05,
          "t": 1197.5,
          "v": -0.75035
         },
         {
          "i": 4.29103486956516e-05,
          "t": 1197.51,
          "v": -0.749791
         },
         {
          "i": 4.2865064968943525e-05,
          "t": 1197.51,
          "v": -0.749349
         },
         {
          "i": 4.281568447204911e-05,
          "t": 1197.52,
          "v": -0.748805
         },
         {
          "i": 4.27704836024839e-05,
          "t": 1197.52,
          "v": -0.748313
         },
         {
          "i": 4.269835018633483e-05,
          "t": 1197.53,
          "v": -0.747833
         },
         {
          "i": 4.261930136645906e-05,
          "t": 1197.53,
          "v": -0.747311
         },
         {
          "i": 4.25758785093162e-05,
          "t": 1197.54,
          "v": -0.746873
         },
         {
          "i": 4.251378111801185e-05,
          "t": 1197.54,
          "v": -0.746334
         },
         {
          "i": 4.246208409937831e-05,
          "t": 1197.54,
          "v": -0.745804
         },
         {
          "i": 4.238817527950254e-05,
          "t": 1197.55,
          "v": -0.745416
         },
         {
          "i": 4.2345267950309986e-05,
          "t": 1197.55,
          "v": -0.744839
         },
         {
          "i": 4.23053329192541e-05,
          "t": 1197.56,
          "v": -0.744328
         },
         {
          "i": 4.225256956521683e-05,
          "t": 1197.56,
          "v": -0.743886
         },
         {
          "i": 4.2198655031055335e-05,
          "t": 1197.57,
          "v": -0.743317
         },
         {
          "i": 4.2149510559005635e-05,
          "t": 1197.57,
          "v": -0.742866
         },
         {
          "i": 4.20970832298131e-05,
          "t": 1197.58,
          "v": -0.742352
         },
         {
          "i": 4.2062193167701295e-05,
          "t": 1197.58,
          "v": -0.741825
         },
         {
          "i": 4.1992519751552236e-05,
          "t": 1197.59,
          "v": -0.741385
         },
         {
          "i": 4.1899566086955957e-05,
          "t": 1197.59,
          "v": -0.74084
         },
         {
          "i": 4.182393055900565e-05,
          "t": 1197.6,
          "v": -0.740328
         },
         {
          "i": 4.173983962732863e-05,
          "t": 1197.6,
          "v": -0.739837
         },
         {
          "i": 4.164950409937832e-05,
          "t": 1197.61,
          "v": -0.739318
         },
         {
          "i": 4.158602472049633e-05,
          "t": 1197.61,
          "v": -0.738878
         },
         {
          "i": 4.1512364720496336e-05,
          "t": 1197.62,
          "v": -0.738324
         },
         {
          "i": 4.141590037267025e-05,
          "t": 1197.63,
          "v": -0.737804
         },
         {
          "i": 4.129217950310503e-05,
          "t": 1197.63,
          "v": -0.737386
         },
         {
          "i": 4.1152612422359693e-05,
          "t": 1197.64,
          "v": -0.736827
         },
         {
          "i": 4.1063901366459075e-05,
          "t": 1197.64,
          "v": -0.736324
         },
         {
          "i": 4.0998424099378326e-05,
          "t": 1197.65,
          "v": -0.735847
         },
         {
          "i": 4.090477478260815e-05,
          "t": 1197.65,
          "v": -0.735309
         },
         {
          "i": 4.082257987577585e-05,
          "t": 1197.66,
          "v": -0.734835
         },
         {
          "i": 4.0722897018633e-05,
          "t": 1197.66,
          "v": -0.734328
         },
         {
          "i": 4.066559776397461e-05,
          "t": 1197.66,
          "v": -0.733825
         },
         {
          "i": 4.059561478260814e-05,
          "t": 1197.67,
          "v": -0.733314
         },
         {
          "i": 4.049535279503051e-05,
          "t": 1197.67,
          "v": -0.732822
         },
         {
          "i": 4.038878385093113e-05,
          "t": 1197.68,
          "v": -0.732311
         },
         {
          "i": 4.0289407950310014e-05,
          "t": 1197.68,
          "v": -0.731818
         },
         {
          "i": 4.0196511304347283e-05,
          "t": 1197.69,
          "v": -0.731311
         },
         {
          "i": 4.008981465838455e-05,
          "t": 1197.69,
          "v": -0.73085
         },
         {
          "i": 3.9950361118011886e-05,
          "t": 1197.7,
          "v": -0.730303
         },
         {
          "i": 3.98444172670802e-05,
          "t": 1197.7,
          "v": -0.729812
         },
         {
          "i": 3.97414767701858e-05,
          "t": 1197.71,
          "v": -0.729387
         },
         {
          "i": 3.9655472422359715e-05,
          "t": 1197.71,
          "v": -0.728875
         },
         {
          "i": 3.9544541490682696e-05,
          "t": 1197.72,
          "v": -0.728416
         },
         {
          "i": 3.9440750683229284e-05,
          "t": 1197.72,
          "v": -0.72792
         },
         {
          "i": 3.930400049689388e-05,
          "t": 1197.73,
          "v": -0.727318
         },
         {
          "i": 3.9195438136645433e-05,
          "t": 1197.73,
          "v": -0.726963
         },
         {
          "i": 3.9063171925465315e-05,
          "t": 1197.74,
          "v": -0.726373
         },
         {
          "i": 3.896171453416096e-05,
          "t": 1197.74,
          "v": -0.725796
         },
         {
          "i": 3.8879815900620596e-05,
          "t": 1197.75,
          "v": -0.725399
         },
         {
          "i": 3.8834290310558485e-05,
          "t": 1197.76,
          "v": -0.724846
         },
         {
          "i": 3.8752380993788294e-05,
          "t": 1197.76,
          "v": -0.724352
         },
         {
          "i": 3.866250708074482e-05,
          "t": 1197.77,
          "v": -0.723844
         },
         {
          "i": 3.860008720496843e-05,
          "t": 1197.77,
          "v": -0.723312
         },
         {
          "i": 3.852816186335352e-05,
          "t": 1197.78,
          "v": -0.722913
         },
         {
          "i": 3.84474560248442e-05,
          "t": 1197.78,
          "v": -0.722324
         },
         {
          "i": 3.8350221366459116e-05,
          "t": 1197.79,
          "v": -0.721814
         },
         {
          "i": 3.827179142857091e-05,
          "t": 1197.79,
          "v": -0.721422
         },
         {
          "i": 3.819914372670756e-05,
          "t": 1197.79,
          "v": -0.720833
         },
         {
          "i": 3.811903527950259e-05,
          "t": 1197.8,
          "v": -0.720338
         },
         {
          "i": 3.80264705590057e-05,
          "t": 1197.8,
          "v": -0.719885
         },
         {
          "i": 3.795414447204918e-05,
          "t": 1197.81,
          "v": -0.719329
         },
         {
          "i": 3.790437093167651e-05,
          "t": 1197.81,
          "v": -0.718875
         },
         {
          "i": 3.782256993788769e-05,
          "t": 1197.82,
          "v": -0.718356
         },
         {
          "i": 3.7761136273291425e-05,
          "t": 1197.82,
          "v": -0.717822
         },
         {
          "i": 3.767771602484421e-05,
          "t": 1197.83,
          "v": -0.717386
         },
         {
          "i": 3.7609749937887694e-05,
          "t": 1197.83,
          "v": -0.716862
         },
         {
          "i": 3.7499326211179625e-05,
          "t": 1197.84,
          "v": -0.71633
         },
         {
          "i": 3.7443848322980866e-05,
          "t": 1197.84,
          "v": -0.715843
         },
         {
          "i": 3.737479701863304e-05,
          "t": 1197.85,
          "v": -0.715301
         },
         {
          "i": 3.733631478260819e-05,
          "t": 1197.85,
          "v": -0.714881
         },
         {
          "i": 3.7307649937887696e-05,
          "t": 1197.86,
          "v": -0.714319
         },
         {
          "i": 3.728167316770136e-05,
          "t": 1197.86,
          "v": -0.713806
         },
         {
          "i": 3.72290349068318e-05,
          "t": 1197.87,
          "v": -0.713386
         },
         {
          "i": 3.717321937888149e-05,
          "t": 1197.88,
          "v": -0.712822
         },
         {
          "i": 3.713540434782559e-05,
          "t": 1197.88,
          "v": -0.712302
         },
         {
          "i": 3.706096944099329e-05,
          "t": 1197.89,
          "v": -0.71184
         },
         {
          "i": 3.701330298136597e-05,
          "t": 1197.89,
          "v": -0.711299
         },
         {
          "i": 3.694492385093118e-05,
          "t": 1197.9,
          "v": -0.710831
         },
         {
          "i": 3.689220360248398e-05,
          "t": 1197.9,
          "v": -0.710316
         },
         {
          "i": 3.680734559006161e-05,
          "t": 1197.91,
          "v": -0.709815
         },
         {
          "i": 3.673197801242186e-05,
          "t": 1197.91,
          "v": -0.70934
         },
         {
          "i": 3.666905416149019e-05,
          "t": 1197.91,
          "v": -0.708809
         },
         {
          "i": 3.660587031055851e-05,
          "t": 1197.92,
          "v": -0.708296
         },
         {
          "i": 3.654526347826038e-05,
          "t": 1197.92,
          "v": -0.707822
         },
         {
          "i": 3.6492462732918764e-05,
          "t": 1197.93,
          "v": -0.707304
         },
         {
          "i": 3.645381900621069e-05,
          "t": 1197.93,
          "v": -0.706844
         },
         {
          "i": 3.640817714285665e-05,
          "t": 1197.94,
          "v": -0.706302
         },
         {
          "i": 3.635018211180075e-05,
          "t": 1197.94,
          "v": -0.705804
         },
         {
          "i": 3.626904894409889e-05,
          "t": 1197.95,
          "v": -0.705368
         },
         {
          "i": 3.624838322981318e-05,
          "t": 1197.95,
          "v": -0.70481
         },
         {
          "i": 3.6217392173912555e-05,
          "t": 1197.96,
          "v": -0.704293
         },
         {
          "i": 3.617207478260821e-05,
          "t": 1197.96,
          "v": -0.703822
         },
         {
          "i": 3.610830993788771e-05,
          "t": 1197.97,
          "v": -0.703308
         },
         {
          "i": 3.603800795031008e-05,
          "t": 1197.97,
          "v": -0.702959
         },
         {
          "i": 3.5975597142856653e-05,
          "t": 1197.98,
          "v": -0.702372
         },
         {
          "i": 3.589967763975107e-05,
          "t": 1197.98,
          "v": -0.701773
         },
         {
          "i": 3.582871540372623e-05,
          "t": 1197.99,
          "v": -0.70142
         },
         {
          "i": 3.5743182732918776e-05,
          "t": 1197.99,
          "v": -0.700856
         },
         {
          "i": 3.567057602484424e-05,
          "t": 1198,
          "v": -0.700324
         },
         {
          "i": 3.558754621117964e-05,
          "t": 1198.01,
          "v": -0.699856
         },
         {
          "i": 3.5514737018633067e-05,
          "t": 1198.01,
          "v": -0.699311
         },
         {
          "i": 3.545887490683182e-05,
          "t": 1198.02,
          "v": -0.698925
         },
         {
          "i": 3.539775068322934e-05,
          "t": 1198.02,
          "v": -0.69832
         },
         {
          "i": 3.534690906832251e-05,
          "t": 1198.03,
          "v": -0.697804
         },
         {
          "i": 3.528491925465791e-05,
          "t": 1198.03,
          "v": -0.697393
         },
         {
          "i": 3.524806024844673e-05,
          "t": 1198.04,
          "v": -0.696817
         },
         {
          "i": 3.520998757763928e-05,
          "t": 1198.04,
          "v": -0.696323
         },
         {
          "i": 3.5171491677018163e-05,
          "t": 1198.04,
          "v": -0.695889
         },
         {
          "i": 3.5115222857142386e-05,
          "t": 1198.05,
          "v": -0.695322
         },
         {
          "i": 3.5059555279502633e-05,
          "t": 1198.05,
          "v": -0.694867
         },
         {
          "i": 3.499927465838462e-05,
          "t": 1198.06,
          "v": -0.694363
         },
         {
          "i": 3.493345639751506e-05,
          "t": 1198.06,
          "v": -0.693801
         },
         {
          "i": 3.4845971677018167e-05,
          "t": 1198.07,
          "v": -0.693383
         },
         {
          "i": 3.4752710310558536e-05,
          "t": 1198.07,
          "v": -0.69285
         },
         {
          "i": 3.46499678260865e-05,
          "t": 1198.08,
          "v": -0.692352
         },
         {
          "i": 3.4568443354036804e-05,
          "t": 1198.08,
          "v": -0.691869
         },
         {
          "i": 3.4487803602484005e-05,
          "t": 1198.09,
          "v": -0.69133
         },
         {
          "i": 3.441652335403681e-05,
          "t": 1198.09,
          "v": -0.690893
         },
         {
          "i": 3.4355853291925005e-05,
          "t": 1198.1,
          "v": -0.690369
         },
         {
          "i": 3.430583987577594e-05,
          "t": 1198.1,
          "v": -0.689814
         },
         {
          "i": 3.427964757763929e-05,
          "t": 1198.11,
          "v": -0.68942
         },
         {
          "i": 3.4262489316769725e-05,
          "t": 1198.11,
          "v": -0.688848
         },
         {
          "i": 3.425339465838463e-05,
          "t": 1198.12,
          "v": -0.688331
         },
         {
          "i": 3.425355527950265e-05,
          "t": 1198.13,
          "v": -0.687883
         },
         {
          "i": 3.421550248447159e-05,
          "t": 1198.13,
          "v": -0.68732
         },
         {
          "i": 3.420949515527904e-05,
          "t": 1198.14,
          "v": -0.686861
         },
         {
          "i": 3.418336732919209e-05,
          "t": 1198.14,
          "v": -0.686343
         },
         {
          "i": 3.4162811677018176e-05,
          "t": 1198.15,
          "v": -0.685827
         },
         {
          "i": 3.4129675527949854e-05,
          "t": 1198.15,
          "v": -0.68535
         },
         {
          "i": 3.4113186832297676e-05,
          "t": 1198.16,
          "v": -0.684831
         },
         {
          "i": 3.407294459627283e-05,
          "t": 1198.16,
          "v": -0.684341
         },
         {
          "i": 3.404061987577593e-05,
          "t": 1198.16,
          "v": -0.683829
         },
         {
          "i": 3.398274857142811e-05,
          "t": 1198.17,
          "v": -0.683317
         },
         {
          "i": 3.392607838509271e-05,
          "t": 1198.17,
          "v": -0.68287
         },
         {
          "i": 3.384562894409892e-05,
          "t": 1198.18,
          "v": -0.682303
         },
         {
          "i": 3.3755649813664145e-05,
          "t": 1198.18,
          "v": -0.681817
         },
         {
          "i": 3.3689319503105134e-05,
          "t": 1198.19,
          "v": -0.681379
         },
         {
          "i": 3.3638868944098925e-05,
          "t": 1198.19,
          "v": -0.680822
         },
         {
          "i": 3.359695416149023e-05,
          "t": 1198.2,
          "v": -0.680309
         },
         {
          "i": 3.355114844720452e-05,
          "t": 1198.2,
          "v": -0.679828
         },
         {
          "i": 3.3517900745341166e-05,
          "t": 1198.21,
          "v": -0.679324
         },
         {
          "i": 3.349936223602439e-05,
          "t": 1198.21,
          "v": -0.67883
         },
         {
          "i": 3.348275478260825e-05,
          "t": 1198.22,
          "v": -0.678315
         },
         {
          "i": 3.3458120745341165e-05,
          "t": 1198.22,
          "v": -0.677777
         },
         {
          "i": 3.34406575155275e-05,
          "t": 1198.23,
          "v": -0.677434
         },
         {
          "i": 3.3404226583850485e-05,
          "t": 1198.23,
          "v": -0.676876
         },
         {
          "i": 3.3358196149067876e-05,
          "t": 1198.24,
          "v": -0.676368
         },
         {
          "i": 3.330891192546539e-05,
          "t": 1198.24,
          "v": -0.675889
         },
         {
          "i": 3.323388608695607e-05,
          "t": 1198.25,
          "v": -0.675321
         },
         {
          "i": 3.3152244472049243e-05,
          "t": 1198.26,
          "v": -0.674942
         },
         {
          "i": 3.307933018633496e-05,
          "t": 1198.26,
          "v": -0.674354
         },
         {
          "i": 3.3016699378881546e-05,
          "t": 1198.27,
          "v": -0.673813
         },
         {
          "i": 3.292679006211136e-05,
          "t": 1198.27,
          "v": -0.673448
         },
         {
          "i": 3.284572459627285e-05,
          "t": 1198.28,
          "v": -0.672841
         },
         {
          "i": 3.275389515527906e-05,
          "t": 1198.28,
          "v": -0.672343
         },
         {
          "i": 3.2667866211179686e-05,
          "t": 1198.29,
          "v": -0.671853
         },
         {
          "i": 3.2557919875775954e-05,
          "t": 1198.29,
          "v": -0.671313
         },
         {
          "i": 3.2481112298136206e-05,
          "t": 1198.29,
          "v": -0.670892
         },
         {
          "i": 3.241588944099336e-05,
          "t": 1198.3,
          "v": -0.670353
         },
         {
          "i": 3.235276708074491e-05,
          "t": 1198.3,
          "v": -0.669825
         },
         {
          "i": 3.228806807453373e-05,
          "t": 1198.31,
          "v": -0.66939
         },
         {
          "i": 3.222926484472007e-05,
          "t": 1198.31,
          "v": -0.668856
         },
         {
          "i": 3.218040236024802e-05,
          "t": 1198.32,
          "v": -0.668355
         },
         {
          "i": 3.2154755279502674e-05,
          "t": 1198.32,
          "v": -0.667871
         },
         {
          "i": 3.213308509316727e-05,
          "t": 1198.33,
          "v": -0.667338
         },
         {
          "i": 3.2079373788819445e-05,
          "t": 1198.33,
          "v": -0.666923
         },
         {
          "i": 3.2038063354036834e-05,
          "t": 1198.34,
          "v": -0.666357
         },
         {
          "i": 3.1972420496893976e-05,
          "t": 1198.34,
          "v": -0.665833
         },
         {
          "i": 3.189441490683187e-05,
          "t": 1198.35,
          "v": -0.665428
         },
         {
          "i": 3.1824661490682805e-05,
          "t": 1198.35,
          "v": -0.664831
         },
         {
          "i": 3.175423354037224e-05,
          "t": 1198.36,
          "v": -0.66429
         },
         {
          "i": 3.168051999999958e-05,
          "t": 1198.36,
          "v": -0.663857
         },
         {
          "i": 3.1596755403726286e-05,
          "t": 1198.37,
          "v": -0.663293
         },
         {
          "i": 3.15127009937884e-05,
          "t": 1198.38,
          "v": -0.662829
         },
         {
          "i": 3.142099565217349e-05,
          "t": 1198.38,
          "v": -0.66233
         },
         {
          "i": 3.134880670807411e-05,
          "t": 1198.39,
          "v": -0.661798
         },
         {
          "i": 3.127782857142815e-05,
          "t": 1198.39,
          "v": -0.661344
         },
         {
          "i": 3.121143726708032e-05,
          "t": 1198.4,
          "v": -0.660807
         },
         {
          "i": 3.114376322981325e-05,
          "t": 1198.4,
          "v": -0.660307
         },
         {
          "i": 3.111067677018592e-05,
          "t": 1198.41,
          "v": -0.659819
         },
         {
          "i": 3.1051410434782194e-05,
          "t": 1198.41,
          "v": -0.659301
         },
         {
          "i": 3.102618981366418e-05,
          "t": 1198.41,
          "v": -0.658843
         },
         {
          "i": 3.1014187701862935e-05,
          "t": 1198.42,
          "v": -0.658289
         },
         {
          "i": 3.099261217391263e-05,
          "t": 1198.42,
          "v": -0.657803
         },
         {
          "i": 3.095201751552753e-05,
          "t": 1198.43,
          "v": -0.657356
         },
         {
          "i": 3.094528819875735e-05,
          "t": 1198.43,
          "v": -0.656799
         },
         {
          "i": 3.093755875776356e-05,
          "t": 1198.44,
          "v": -0.656296
         },
         {
          "i": 3.085224968944058e-05,
          "t": 1198.44,
          "v": -0.65582
         },
         {
          "i": 3.081067254658344e-05,
          "t": 1198.45,
          "v": -0.655295
         },
         {
          "i": 3.0760915403726294e-05,
          "t": 1198.45,
          "v": -0.654805
         },
         {
          "i": 3.073498347826045e-05,
          "t": 1198.46,
          "v": -0.654284
         },
         {
          "i": 3.0711297391303936e-05,
          "t": 1198.46,
          "v": -0.6538
         },
         {
          "i": 3.0656874037266675e-05,
          "t": 1198.47,
          "v": -0.653309
         },
         {
          "i": 3.0596049316769774e-05,
          "t": 1198.47,
          "v": -0.652792
         },
         {
          "i": 3.055273751552754e-05,
          "t": 1198.48,
          "v": -0.652278
         },
         {
          "i": 3.0521836273291516e-05,
          "t": 1198.48,
          "v": -0.651866
         },
         {
          "i": 3.048092770186294e-05,
          "t": 1198.49,
          "v": -0.651322
         },
         {
          "i": 3.043880658385052e-05,
          "t": 1198.49,
          "v": -0.650868
         },
         {
          "i": 3.0384097763974748e-05,
          "t": 1198.5,
          "v": -0.650342
         },
         {
          "i": 3.0319191180123818e-05,
          "t": 1198.51,
          "v": -0.649795
         },
         {
          "i": 3.026605180124183e-05,
          "t": 1198.51,
          "v": -0.649438
         },
         {
          "i": 3.0218607204968534e-05,
          "t": 1198.52,
          "v": -0.648826
         },
         {
          "i": 3.017377080745301e-05,
          "t": 1198.52,
          "v": -0.648328
         },
         {
          "i": 3.0148420496894e-05,
          "t": 1198.53,
          "v": -0.647879
         },
         {
          "i": 3.0097939006210773e-05,
          "t": 1198.53,
          "v": -0.647295
         },
         {
          "i": 3.0001385465838105e-05,
          "t": 1198.54,
          "v": -0.646845
         },
         {
          "i": 2.9908717763974753e-05,
          "t": 1198.54,
          "v": -0.646312
         },
         {
          "i": 2.986677652173873e-05,
          "t": 1198.54,
          "v": -0.645788
         },
         {
          "i": 2.982308434782569e-05,
          "t": 1198.55,
          "v": -0.645384
         },
         {
          "i": 2.9756797763974754e-05,
          "t": 1198.55,
          "v": -0.644822
         },
         {
          "i": 2.9739305465838108e-05,
          "t": 1198.56,
          "v": -0.644312
         },
         {
          "i": 2.9740591180123826e-05,
          "t": 1198.56,
          "v": -0.643856
         },
         {
          "i": 2.975234198757724e-05,
          "t": 1198.57,
          "v": -0.643319
         },
         {
          "i": 2.974391788819836e-05,
          "t": 1198.57,
          "v": -0.642865
         },
         {
          "i": 2.9728804844720097e-05,
          "t": 1198.58,
          "v": -0.642329
         },
         {
          "i": 2.9730648074533764e-05,
          "t": 1198.58,
          "v": -0.641816
         },
         {
          "i": 2.9730308198757366e-05,
          "t": 1198.59,
          "v": -0.641394
         },
         {
          "i": 2.9689324596272895e-05,
          "t": 1198.59,
          "v": -0.640831
         },
         {
          "i": 2.9625595155279106e-05,
          "t": 1198.6,
          "v": -0.640326
         },
         {
          "i": 2.956274807453377e-05,
          "t": 1198.6,
          "v": -0.639883
         },
         {
          "i": 2.9489356894409542e-05,
          "t": 1198.61,
          "v": -0.639321
         },
         {
          "i": 2.9417520993788428e-05,
          "t": 1198.61,
          "v": -0.638876
         },
         {
          "i": 2.9357406459626932e-05,
          "t": 1198.62,
          "v": -0.638343
         },
         {
          "i": 2.9318590310558613e-05,
          "t": 1198.63,
          "v": -0.637817
         },
         {
          "i": 2.9282737515527553e-05,
          "t": 1198.63,
          "v": -0.637374
         },
         {
          "i": 2.9226443850931284e-05,
          "t": 1198.64,
          "v": -0.636847
         },
         {
          "i": 2.9146056770185942e-05,
          "t": 1198.64,
          "v": -0.636328
         },
         {
          "i": 2.90526744099375e-05,
          "t": 1198.65,
          "v": -0.635827
         },
         {
          "i": 2.8975026086956132e-05,
          "t": 1198.65,
          "v": -0.635314
         },
         {
          "i": 2.8907793540372284e-05,
          "t": 1198.66,
          "v": -0.634866
         },
         {
          "i": 2.8836352670807064e-05,
          "t": 1198.66,
          "v": -0.63431
         },
         {
          "i": 2.8764475279502723e-05,
          "t": 1198.66,
          "v": -0.633818
         },
         {
          "i": 2.8716403726707685e-05,
          "t": 1198.67,
          "v": -0.633377
         },
         {
          "i": 2.8698813788819493e-05,
          "t": 1198.67,
          "v": -0.632819
         },
         {
          "i": 2.8652759999999616e-05,
          "t": 1198.68,
          "v": -0.632316
         },
         {
          "i": 2.8609544844720112e-05,
          "t": 1198.68,
          "v": -0.631831
         },
         {
          "i": 2.8565703478260486e-05,
          "t": 1198.69,
          "v": -0.631314
         },
         {
          "i": 2.8517190310558624e-05,
          "t": 1198.69,
          "v": -0.630823
         },
         {
          "i": 2.845597565217353e-05,
          "t": 1198.7,
          "v": -0.63031
         },
         {
          "i": 2.8400691055900237e-05,
          "t": 1198.7,
          "v": -0.629813
         },
         {
          "i": 2.8352038881987198e-05,
          "t": 1198.71,
          "v": -0.629331
         },
         {
          "i": 2.8319487204968563e-05,
          "t": 1198.71,
          "v": -0.628824
         },
         {
          "i": 2.8281194658384713e-05,
          "t": 1198.72,
          "v": -0.628311
         },
         {
          "i": 2.828522459627291e-05,
          "t": 1198.72,
          "v": -0.627818
         },
         {
          "i": 2.8299763478260486e-05,
          "t": 1198.73,
          "v": -0.627328
         },
         {
          "i": 2.8328475155279123e-05,
          "t": 1198.73,
          "v": -0.626855
         },
         {
          "i": 2.833670559006173e-05,
          "t": 1198.74,
          "v": -0.626332
         },
         {
          "i": 2.832823714285676e-05,
          "t": 1198.74,
          "v": -0.625821
         },
         {
          "i": 2.8307319999999618e-05,
          "t": 1198.75,
          "v": -0.625446
         },
         {
          "i": 2.8286739006210803e-05,
          "t": 1198.76,
          "v": -0.624855
         },
         {
          "i": 2.8265086832297755e-05,
          "t": 1198.76,
          "v": -0.624394
         },
         {
          "i": 2.8219035900620742e-05,
          "t": 1198.77,
          "v": -0.623901
         },
         {
          "i": 2.8179558633539993e-05,
          "t": 1198.77,
          "v": -0.623322
         },
         {
          "i": 2.816036198757726e-05,
          "t": 1198.78,
          "v": -0.622903
         },
         {
          "i": 2.815502285714248e-05,
          "t": 1198.78,
          "v": -0.622341
         },
         {
          "i": 2.812948049689403e-05,
          "t": 1198.79,
          "v": -0.621814
         },
         {
          "i": 2.808747043478223e-05,
          "t": 1198.79,
          "v": -0.621393
         },
         {
          "i": 2.806942360248409e-05,
          "t": 1198.79,
          "v": -0.620816
         },
         {
          "i": 2.803024434782571e-05,
          "t": 1198.8,
          "v": -0.620342
         },
         {
          "i": 2.798102571428534e-05,
          "t": 1198.8,
          "v": -0.619846
         },
         {
          "i": 2.7944747701862978e-05,
          "t": 1198.81,
          "v": -0.619321
         },
         {
          "i": 2.790926521739093e-05,
          "t": 1198.81,
          "v": -0.618887
         },
         {
          "i": 2.786450683229776e-05,
          "t": 1198.82,
          "v": -0.618339
         },
         {
          "i": 2.7814272422359873e-05,
          "t": 1198.82,
          "v": -0.61781
         },
         {
          "i": 2.777126161490646e-05,
          "t": 1198.83,
          "v": -0.617424
         },
         {
          "i": 2.7737807577639377e-05,
          "t": 1198.83,
          "v": -0.616849
         },
         {
          "i": 2.7708622484471676e-05,
          "t": 1198.84,
          "v": -0.616347
         },
         {
          "i": 2.768449267080708e-05,
          "t": 1198.84,
          "v": -0.615891
         },
         {
          "i": 2.7648133788819504e-05,
          "t": 1198.85,
          "v": -0.615324
         },
         {
          "i": 2.7627163850931305e-05,
          "t": 1198.85,
          "v": -0.614881
         },
         {
          "i": 2.7621029689440622e-05,
          "t": 1198.86,
          "v": -0.614362
         },
         {
          "i": 2.76174485714282e-05,
          "t": 1198.86,
          "v": -0.613814
         },
         {
          "i": 2.7597962360248078e-05,
          "t": 1198.87,
          "v": -0.6134
         },
         {
          "i": 2.757824111801205e-05,
          "t": 1198.88,
          "v": -0.61284
         },
         {
          "i": 2.7569606459626956e-05,
          "t": 1198.88,
          "v": -0.612326
         },
         {
          "i": 2.7585304720496527e-05,
          "t": 1198.89,
          "v": -0.611849
         },
         {
          "i": 2.759357664596236e-05,
          "t": 1198.89,
          "v": -0.611313
         },
         {
          "i": 2.757299093167665e-05,
          "t": 1198.9,
          "v": -0.610875
         },
         {
          "i": 2.757456521739093e-05,
          "t": 1198.9,
          "v": -0.610331
         },
         {
          "i": 2.757600161490646e-05,
          "t": 1198.91,
          "v": -0.609833
         },
         {
          "i": 2.756983291925429e-05,
          "t": 1198.91,
          "v": -0.609388
         },
         {
          "i": 2.755571304347789e-05,
          "t": 1198.91,
          "v": -0.608827
         },
         {
          "i": 2.7542440745341247e-05,
          "t": 1198.92,
          "v": -0.608313
         },
         {
          "i": 2.7531239006210813e-05,
          "t": 1198.92,
          "v": -0.607844
         },
         {
          "i": 2.7496275279502734e-05,
          "t": 1198.93,
          "v": -0.607311
         },
         {
          "i": 2.7449972422359877e-05,
          "t": 1198.93,
          "v": -0.606823
         },
         {
          "i": 2.7424417515527583e-05,
          "t": 1198.94,
          "v": -0.606326
         },
         {
          "i": 2.7401398757763606e-05,
          "t": 1198.94,
          "v": -0.605813
         },
         {
          "i": 2.738647105590025e-05,
          "t": 1198.95,
          "v": -0.60534
         },
         {
          "i": 2.7358401118012054e-05,
          "t": 1198.95,
          "v": -0.604819
         },
         {
          "i": 2.7314081490682864e-05,
          "t": 1198.96,
          "v": -0.604316
         },
         {
          "i": 2.728782024844684e-05,
          "t": 1198.96,
          "v": -0.603818
         },
         {
          "i": 2.7257407701862986e-05,
          "t": 1198.97,
          "v": -0.603326
         },
         {
          "i": 2.7214157142856776e-05,
          "t": 1198.97,
          "v": -0.602865
         },
         {
          "i": 2.7182133664595907e-05,
          "t": 1198.98,
          "v": -0.602313
         },
         {
          "i": 2.715076434782572e-05,
          "t": 1198.98,
          "v": -0.601814
         },
         {
          "i": 2.7134907577639386e-05,
          "t": 1198.99,
          "v": -0.601382
         },
         {
          "i": 2.7110839627328828e-05,
          "t": 1198.99,
          "v": -0.600859
         },
         {
          "i": 2.7097601366459263e-05,
          "t": 1199,
          "v": -0.600452
         },
         {
          "i": 2.7080886708074172e-05,
          "t": 1199.01,
          "v": -0.599905
         },
         {
          "i": 2.7085831552794666e-05,
          "t": 1199.01,
          "v": -0.599319
         },
         {
          "i": 2.70955582608692e-05,
          "t": 1199.02,
          "v": -0.598959
         },
         {
          "i": 2.7099650683229454e-05,
          "t": 1199.02,
          "v": -0.59838
         },
         {
          "i": 2.709985068322945e-05,
          "t": 1199.03,
          "v": -0.597808
         },
         {
          "i": 2.711823565217355e-05,
          "t": 1199.03,
          "v": -0.597417
         },
         {
          "i": 2.7142204968943733e-05,
          "t": 1199.04,
          "v": -0.596849
         },
         {
          "i": 2.713950385093131e-05,
          "t": 1199.04,
          "v": -0.596332
         },
         {
          "i": 2.7159197391303984e-05,
          "t": 1199.04,
          "v": -0.595869
         },
         {
          "i": 2.717157975155243e-05,
          "t": 1199.05,
          "v": -0.595313
         },
         {
          "i": 2.7175777142856777e-05,
          "t": 1199.05,
          "v": -0.594902
         },
         {
          "i": 2.716595465838473e-05,
          "t": 1199.06,
          "v": -0.594324
         },
         {
          "i": 2.7145213913043114e-05,
          "t": 1199.06,
          "v": -0.59381
         },
         {
          "i": 2.7123612173912678e-05,
          "t": 1199.07,
          "v": -0.593429
         },
         {
          "i": 2.7096690186335038e-05,
          "t": 1199.07,
          "v": -0.592834
         },
         {
          "i": 2.7074305217390938e-05,
          "t": 1199.08,
          "v": -0.592341
         },
         {
          "i": 2.7053451925465478e-05,
          "t": 1199.08,
          "v": -0.591899
         },
         {
          "i": 2.7025829813664234e-05,
          "t": 1199.09,
          "v": -0.591335
         },
         {
          "i": 2.6990635776397153e-05,
          "t": 1199.09,
          "v": -0.590901
         },
         {
          "i": 2.696822521739094e-05,
          "t": 1199.1,
          "v": -0.590355
         },
         {
          "i": 2.692475863354001e-05,
          "t": 1199.1,
          "v": -0.589822
         },
         {
          "i": 2.6910273416148705e-05,
          "t": 1199.11,
          "v": -0.589399
         },
         {
          "i": 2.6887746335403362e-05,
          "t": 1199.11,
          "v": -0.588866
         },
         {
          "i": 2.6856370683229454e-05,
          "t": 1199.12,
          "v": -0.588377
         },
         {
          "i": 2.6856193167701505e-05,
          "t": 1199.13,
          "v": -0.58789
         },
         {
          "i": 2.684349080745305e-05,
          "t": 1199.13,
          "v": -0.587336
         },
         {
          "i": 2.6845856024844357e-05,
          "t": 1199.14,
          "v": -0.586888
         },
         {
          "i": 2.6843850931676657e-05,
          "t": 1199.14,
          "v": -0.58636
         },
         {
          "i": 2.685025913043442e-05,
          "t": 1199.15,
          "v": -0.585826
         },
         {
          "i": 2.6847963726707712e-05,
          "t": 1199.15,
          "v": -0.585424
         },
         {
          "i": 2.684026745341579e-05,
          "t": 1199.16,
          "v": -0.584852
         },
         {
          "i": 2.68159130434779e-05,
          "t": 1199.16,
          "v": -0.584335
         },
         {
          "i": 2.6800256149067964e-05,
          "t": 1199.16,
          "v": -0.583872
         },
         {
          "i": 2.6791301366459265e-05,
          "t": 1199.17,
          "v": -0.58333
         },
         {
          "i": 2.6767435652173553e-05,
          "t": 1199.17,
          "v": -0.582858
         },
         {
          "i": 2.675243590062076e-05,
          "t": 1199.18,
          "v": -0.582351
         },
         {
          "i": 2.6735821739130074e-05,
          "t": 1199.18,
          "v": -0.581835
         },
         {
          "i": 2.6732762857142494e-05,
          "t": 1199.19,
          "v": -0.581367
         },
         {
          "i": 2.6709910310558647e-05,
          "t": 1199.19,
          "v": -0.580831
         },
         {
          "i": 2.6676694285713925e-05,
          "t": 1199.2,
          "v": -0.580338
         },
         {
          "i": 2.6659761242235667e-05,
          "t": 1199.2,
          "v": -0.579836
         },
         {
          "i": 2.6639216024844365e-05,
          "t": 1199.21,
          "v": -0.579313
         },
         {
          "i": 2.6616958136645603e-05,
          "t": 1199.21,
          "v": -0.578868
         },
         {
          "i": 2.6600890310558647e-05,
          "t": 1199.22,
          "v": -0.57832
         },
         {
          "i": 2.658029627329157e-05,
          "t": 1199.22,
          "v": -0.577821
         },
         {
          "i": 2.656161826086921e-05,
          "t": 1199.23,
          "v": -0.57738
         },
         {
          "i": 2.6565821863353683e-05,
          "t": 1199.23,
          "v": -0.57683
         },
         {
          "i": 2.6564055155279143e-05,
          "t": 1199.24,
          "v": -0.576329
         },
         {
          "i": 2.6557674037266726e-05,
          "t": 1199.24,
          "v": -0.575833
         },
         {
          "i": 2.6545755527949957e-05,
          "t": 1199.25,
          "v": -0.575322
         },
         {
          "i": 2.655611180124188e-05,
          "t": 1199.26,
          "v": -0.574995
         },
         {
          "i": 2.6551307577639394e-05,
          "t": 1199.26,
          "v": -0.574392
         },
         {
          "i": 2.6536965341614552e-05,
          "t": 1199.27,
          "v": -0.573811
         },
         {
          "i": 2.6517730683229458e-05,
          "t": 1199.27,
          "v": -0.573441
         },
         {
          "i": 2.6505085962732566e-05,
          "t": 1199.28,
          "v": -0.572874
         },
         {
          "i": 2.6500129068322623e-05,
          "t": 1199.28,
          "v": -0.572351
         },
         {
          "i": 2.649560658385058e-05,
          "t": 1199.29,
          "v": -0.57187
         },
         {
          "i": 2.6492171428571072e-05,
          "t": 1199.29,
          "v": -0.571334
         },
         {
          "i": 2.6471031304347472e-05,
          "t": 1199.29,
          "v": -0.570936
         },
         {
          "i": 2.64216978881984e-05,
          "t": 1199.3,
          "v": -0.570338
         },
         {
          "i": 2.6382819378881635e-05,
          "t": 1199.3,
          "v": -0.569822
         },
         {
          "i": 2.634269428571393e-05,
          "t": 1199.31,
          "v": -0.56942
         },
         {
          "i": 2.631845416149033e-05,
          "t": 1199.31,
          "v": -0.568827
         },
         {
          "i": 2.629657217391269e-05,
          "t": 1199.32,
          "v": -0.568338
         },
         {
          "i": 2.6271655403726353e-05,
          "t": 1199.32,
          "v": -0.567893
         },
         {
          "i": 2.624298658385058e-05,
          "t": 1199.33,
          "v": -0.567338
         },
         {
          "i": 2.6221778385092816e-05,
          "t": 1199.33,
          "v": -0.566904
         },
         {
          "i": 2.6187346832297784e-05,
          "t": 1199.34,
          "v": -0.566364
         },
         {
          "i": 2.617460521739095e-05,
          "t": 1199.34,
          "v": -0.565849
         },
         {
          "i": 2.6165675403726356e-05,
          "t": 1199.35,
          "v": -0.565403
         },
         {
          "i": 2.6151297391303997e-05,
          "t": 1199.35,
          "v": -0.56487
         },
         {
          "i": 2.6140946708074185e-05,
          "t": 1199.36,
          "v": -0.564382
         },
         {
          "i": 2.6134536645962383e-05,
          "t": 1199.36,
          "v": -0.563882
         },
         {
          "i": 2.609678347826052e-05,
          "t": 1199.37,
          "v": -0.563352
         },
         {
          "i": 2.6086557018633194e-05,
          "t": 1199.38,
          "v": -0.562913
         },
         {
          "i": 2.6058639254658035e-05,
          "t": 1199.38,
          "v": -0.562343
         },
         {
          "i": 2.6048977888198408e-05,
          "t": 1199.39,
          "v": -0.561801
         },
         {
          "i": 2.6039897142856795e-05,
          "t": 1199.39,
          "v": -0.561391
         },
         {
          "i": 2.6039417515527596e-05,
          "t": 1199.4,
          "v": -0.560829
         },
         {
          "i": 2.6011591677018282e-05,
          "t": 1199.4,
          "v": -0.560317
         },
         {
          "i": 2.5990902111800893e-05,
          "t": 1199.41,
          "v": -0.559873
         },
         {
          "i": 2.5949502608695303e-05,
          "t": 1199.41,
          "v": -0.559323
         },
         {
          "i": 2.5944544099378533e-05,
          "t": 1199.41,
          "v": -0.558847
         },
         {
          "i": 2.5933277391304e-05,
          "t": 1199.42,
          "v": -0.558339
         },
         {
          "i": 2.5936188198757414e-05,
          "t": 1199.42,
          "v": -0.557814
         },
         {
          "i": 2.5929584596272942e-05,
          "t": 1199.43,
          "v": -0.55735
         },
         {
          "i": 2.5914272173912693e-05,
          "t": 1199.43,
          "v": -0.556829
         },
         {
          "i": 2.5909547701863008e-05,
          "t": 1199.44,
          "v": -0.556322
         },
         {
          "i": 2.58858674534158e-05,
          "t": 1199.44,
          "v": -0.555823
         },
         {
          "i": 2.5857688198757415e-05,
          "t": 1199.45,
          "v": -0.555299
         },
         {
          "i": 2.5851629937887847e-05,
          "t": 1199.45,
          "v": -0.554857
         },
         {
          "i": 2.5835228819875427e-05,
          "t": 1199.46,
          "v": -0.554304
         },
         {
          "i": 2.5799606086956178e-05,
          "t": 1199.46,
          "v": -0.553804
         },
         {
          "i": 2.5779872670807106e-05,
          "t": 1199.47,
          "v": -0.553363
         },
         {
          "i": 2.575179366459593e-05,
          "t": 1199.47,
          "v": -0.552805
         },
         {
          "i": 2.57304422360245e-05,
          "t": 1199.48,
          "v": -0.552302
         },
         {
          "i": 2.573627155279468e-05,
          "t": 1199.48,
          "v": -0.551823
         },
         {
          "i": 2.5730046211179783e-05,
          "t": 1199.49,
          "v": -0.551317
         },
         {
          "i": 2.5722893043477915e-05,
          "t": 1199.49,
          "v": -0.550821
         },
         {
          "i": 2.571506782608661e-05,
          "t": 1199.5,
          "v": -0.550306
         },
         {
          "i": 2.570371776397481e-05,
          "t": 1199.51,
          "v": -0.54977
         },
         {
          "i": 2.56879372670804e-05,
          "t": 1199.51,
          "v": -0.549432
         },
         {
          "i": 2.5679095527949963e-05,
          "t": 1199.52,
          "v": -0.548861
         },
         {
          "i": 2.5659762236024498e-05,
          "t": 1199.52,
          "v": -0.548292
         },
         {
          "i": 2.565906857142823e-05,
          "t": 1199.53,
          "v": -0.547884
         },
         {
          "i": 2.5670418881987236e-05,
          "t": 1199.53,
          "v": -0.547317
         },
         {
          "i": 2.5655209068322636e-05,
          "t": 1199.54,
          "v": -0.546906
         },
         {
          "i": 2.564629354037233e-05,
          "t": 1199.54,
          "v": -0.546335
         },
         {
          "i": 2.5652189316769842e-05,
          "t": 1199.54,
          "v": -0.545788
         },
         {
          "i": 2.56036269565214e-05,
          "t": 1199.55,
          "v": -0.545422
         },
         {
          "i": 2.5573797763974815e-05,
          "t": 1199.55,
          "v": -0.544831
         },
         {
          "i": 2.5540582236024506e-05,
          "t": 1199.56,
          "v": -0.544324
         },
         {
          "i": 2.5498857515527606e-05,
          "t": 1199.56,
          "v": -0.543845
         },
         {
          "i": 2.5450845714285375e-05,
          "t": 1199.57,
          "v": -0.543308
         },
         {
          "i": 2.5405515155279164e-05,
          "t": 1199.57,
          "v": -0.542877
         },
         {
          "i": 2.5378424968943756e-05,
          "t": 1199.58,
          "v": -0.542353
         },
         {
          "i": 2.5351119875776055e-05,
          "t": 1199.58,
          "v": -0.541817
         },
         {
          "i": 2.5330192298136307e-05,
          "t": 1199.59,
          "v": -0.541398
         },
         {
          "i": 2.530979652173879e-05,
          "t": 1199.59,
          "v": -0.54085
         },
         {
          "i": 2.529127788819842e-05,
          "t": 1199.6,
          "v": -0.540344
         },
         {
          "i": 2.526748136645929e-05,
          "t": 1199.6,
          "v": -0.539865
         },
         {
          "i": 2.5229301242235687e-05,
          "t": 1199.61,
          "v": -0.539319
         },
         {
          "i": 2.517652944099345e-05,
          "t": 1199.61,
          "v": -0.538885
         },
         {
          "i": 2.5138200248446872e-05,
          "t": 1199.62,
          "v": -0.538354
         },
         {
          "i": 2.506424124223569e-05,
          "t": 1199.63,
          "v": -0.537826
         },
         {
          "i": 2.4983395652173575e-05,
          "t": 1199.63,
          "v": -0.537415
         },
         {
          "i": 2.4941824472049352e-05,
          "t": 1199.64,
          "v": -0.536852
         },
         {
          "i": 2.490583229813631e-05,
          "t": 1199.64,
          "v": -0.536337
         },
         {
          "i": 2.4847385217390973e-05,
          "t": 1199.65,
          "v": -0.53587
         },
         {
          "i": 2.483207354037234e-05,
          "t": 1199.65,
          "v": -0.535338
         },
         {
          "i": 2.4840544347825753e-05,
          "t": 1199.66,
          "v": -0.534882
         },
         {
          "i": 2.4809490434782276e-05,
          "t": 1199.66,
          "v": -0.534354
         },
         {
          "i": 2.4828383354036934e-05,
          "t": 1199.66,
          "v": -0.533846
         },
         {
          "i": 2.4810473913043145e-05,
          "t": 1199.67,
          "v": -0.533384
         },
         {
          "i": 2.4791367204968608e-05,
          "t": 1199.67,
          "v": -0.532844
         },
         {
          "i": 2.479524745341582e-05,
          "t": 1199.68,
          "v": -0.53234
         },
         {
          "i": 2.480675813664563e-05,
          "t": 1199.68,
          "v": -0.531839
         },
         {
          "i": 2.482656546583817e-05,
          "t": 1199.69,
          "v": -0.531331
         },
         {
          "i": 2.484830248447171e-05,
          "t": 1199.69,
          "v": -0.530885
         },
         {
          "i": 2.487443316770153e-05,
          "t": 1199.7,
          "v": -0.530316
         },
         {
          "i": 2.489399006211147e-05,
          "t": 1199.7,
          "v": -0.529818
         },
         {
          "i": 2.489109602484439e-05,
          "t": 1199.71,
          "v": -0.529383
         },
         {
          "i": 2.4867895652173583e-05,
          "t": 1199.71,
          "v": -0.528818
         },
         {
          "i": 2.479809366459594e-05,
          "t": 1199.72,
          "v": -0.528315
         },
         {
          "i": 2.473598012422327e-05,
          "t": 1199.72,
          "v": -0.527837
         },
         {
          "i": 2.4669263602484144e-05,
          "t": 1199.73,
          "v": -0.527331
         },
         {
          "i": 2.457624074534128e-05,
          "t": 1199.73,
          "v": -0.52683
         },
         {
          "i": 2.4507264223602153e-05,
          "t": 1199.74,
          "v": -0.526319
         },
         {
          "i": 2.4456351925465513e-05,
          "t": 1199.74,
          "v": -0.525825
         },
         {
          "i": 2.440382049689408e-05,
          "t": 1199.75,
          "v": -0.525343
         },
         {
          "i": 2.435822372670775e-05,
          "t": 1199.76,
          "v": -0.524833
         },
         {
          "i": 2.4341123975154954e-05,
          "t": 1199.76,
          "v": -0.524311
         },
         {
          "i": 2.4322750807453087e-05,
          "t": 1199.77,
          "v": -0.523878
         },
         {
          "i": 2.427876521739098e-05,
          "t": 1199.77,
          "v": -0.523326
         },
         {
          "i": 2.4218955155279178e-05,
          "t": 1199.78,
          "v": -0.522925
         },
         {
          "i": 2.4163515403726383e-05,
          "t": 1199.78,
          "v": -0.522375
         },
         {
          "i": 2.4124769192546257e-05,
          "t": 1199.79,
          "v": -0.521819
         },
         {
          "i": 2.4102933540372346e-05,
          "t": 1199.79,
          "v": -0.521444
         },
         {
          "i": 2.4125747577639425e-05,
          "t": 1199.79,
          "v": -0.520847
         },
         {
          "i": 2.4133936397515203e-05,
          "t": 1199.8,
          "v": -0.52037
         },
         {
          "i": 2.4132857018633217e-05,
          "t": 1199.8,
          "v": -0.519879
         },
         {
          "i": 2.4133757267080417e-05,
          "t": 1199.81,
          "v": -0.519327
         },
         {
          "i": 2.411222496894378e-05,
          "t": 1199.81,
          "v": -0.51888
         },
         {
          "i": 2.407327527950278e-05,
          "t": 1199.82,
          "v": -0.518332
         },
         {
          "i": 2.4050034409937568e-05,
          "t": 1199.82,
          "v": -0.51782
         },
         {
          "i": 2.4012070931676697e-05,
          "t": 1199.83,
          "v": -0.517395
         },
         {
          "i": 2.40181059627326e-05,
          "t": 1199.83,
          "v": -0.516852
         },
         {
          "i": 2.3995912298136324e-05,
          "t": 1199.84,
          "v": -0.516366
         },
         {
          "i": 2.3960803229813345e-05,
          "t": 1199.84,
          "v": -0.515869
         },
         {
          "i": 2.3940278633540053e-05,
          "t": 1199.85,
          "v": -0.515332
         },
         {
          "i": 2.3906604720496572e-05,
          "t": 1199.85,
          "v": -0.514925
         },
         {
          "i": 2.3898379006210856e-05,
          "t": 1199.86,
          "v": -0.514365
         },
         {
          "i": 2.3864885217390984e-05,
          "t": 1199.86,
          "v": -0.513848
         },
         {
          "i": 2.3842446335403407e-05,
          "t": 1199.87,
          "v": -0.513422
         },
         {
          "i": 2.3787967577639434e-05,
          "t": 1199.88,
          "v": -0.512874
         },
         {
          "i": 2.376175242235993e-05,
          "t": 1199.88,
          "v": -0.512363
         },
         {
          "i": 2.3698433043477944e-05,
          "t": 1199.89,
          "v": -0.5119
         },
         {
          "i": 2.3645893664595956e-05,
          "t": 1199.89,
          "v": -0.51132
         },
         {
          "i": 2.3628069192546263e-05,
          "t": 1199.9,
          "v": -0.510881
         },
         {
          "i": 2.359286546583819e-05,
          "t": 1199.9,
          "v": -0.510338
         },
         {
          "i": 2.3565555900620802e-05,
          "t": 1199.91,
          "v": -0.509822
         },
         {
          "i": 2.351293229813633e-05,
          "t": 1199.91,
          "v": -0.509378
         },
         {
          "i": 2.3485608322981052e-05,
          "t": 1199.91,
          "v": -0.508849
         },
         {
          "i": 2.3435114906831983e-05,
          "t": 1199.92,
          "v": -0.50835
         },
         {
          "i": 2.340946857142826e-05,
          "t": 1199.92,
          "v": -0.507838
         },
         {
          "i": 2.3381304347825776e-05,
          "t": 1199.93,
          "v": -0.507326
         },
         {
          "i": 2.335678111801211e-05,
          "t": 1199.93,
          "v": -0.506863
         },
         {
          "i": 2.3298484844720185e-05,
          "t": 1199.94,
          "v": -0.506328
         },
         {
          "i": 2.3253068198757452e-05,
          "t": 1199.94,
          "v": -0.505822
         },
         {
          "i": 2.3216137267080433e-05,
          "t": 1199.95,
          "v": -0.505392
         },
         {
          "i": 2.3187575900620805e-05,
          "t": 1199.95,
          "v": -0.50482
         },
         {
          "i": 2.3163642360248135e-05,
          "t": 1199.96,
          "v": -0.504319
         },
         {
          "i": 2.3126808447204657e-05,
          "t": 1199.96,
          "v": -0.503837
         },
         {
          "i": 2.309834906832267e-05,
          "t": 1199.97,
          "v": -0.503321
         },
         {
          "i": 2.3061790683229504e-05,
          "t": 1199.97,
          "v": -0.50283
         },
         {
          "i": 2.30314803726705e-05,
          "t": 1199.98,
          "v": -0.502332
         },
         {
          "i": 2.298803490683199e-05,
          "t": 1199.98,
          "v": -0.501811
         },
         {
          "i": 2.2969351925465528e-05,
          "t": 1199.99,
          "v": -0.50135
         },
         {
          "i": 2.2909458633540065e-05,
          "t": 1199.99,
          "v": -0.500821
         },
         {
          "i": 2.2863251180123922e-05,
          "t": 1200,
          "v": -0.500318
         },
         {
          "i": 2.2833737142856836e-05,
          "t": 1200.01,
          "v": -0.49983
         }
        ],
        "data-952da5d1c19f058e786c2c7f1c2e8b45": [
         {
          "i": [
           2.43208e-05
          ],
          "v": [
           -0.516852
          ]
         }
        ]
       },
       "layer": [
        {
         "data": {
          "name": "data-7b9a573651b1432c06f6762428ac1a59"
         },
         "encoding": {
          "x": {
           "field": "v",
           "type": "quantitative"
          },
          "y": {
           "field": "i",
           "type": "quantitative"
          }
         },
         "mark": "point"
        },
        {
         "data": {
          "name": "data-952da5d1c19f058e786c2c7f1c2e8b45"
         },
         "encoding": {
          "color": {
           "value": "black"
          },
          "x": {
           "field": "v",
           "type": "quantitative"
          },
          "y": {
           "field": "i",
           "type": "quantitative"
          }
         },
         "mark": {
          "filled": true,
          "size": 50,
          "type": "point"
         }
        }
       ]
      },
      "image/png": "[encoded data removed]",
      "text/plain": [
       "<VegaLite 3 object>\n",
       "\n",
       "If you see this message, it means the renderer has not been properly enabled\n",
       "for the frontend that you are using. For more information, see\n",
       "https://altair-viz.github.io/user_guide/troubleshooting.html\n"
      ]
     },
     "metadata": {},
     "output_type": "display_data"
    }
   ],
   "source": [
    "data_dir = 'data/*.DTA*'\n",
    "n=0\n",
    "for filename in glob.iglob(data_dir):\n",
    "    if n<= 5:\n",
    "        t,i,v = preprocessing.readFile(filename,type='gamry',scan='last')\n",
    "        length = len(t)\n",
    "        v1, v2 = v[0:int(length/2)], v[int(length/2):]\n",
    "        i1, i2 = i[0:int(length/2)], i[int(length/2):]\n",
    "        t1, t2 = t[0:int(length/2)], t[int(length/2):]\n",
    "\n",
    "        peaks_v, peaks_i = [], []\n",
    "        \n",
    "        sm_i1 = savgol_filter(abs(i1), 23, 3, mode='nearest')    \n",
    "        index = find_peaks(sm_i1)[0]\n",
    "        if len(index) > 0:\n",
    "            peak_indices = index[-1]\n",
    "#             peaks_v.append(v1[peak_indices])\n",
    "#             peaks_i.append(i1[peak_indices])\n",
    "        \n",
    "        \n",
    "        sm_i2 = savgol_filter(abs(i2), 23, 3, mode='nearest')  \n",
    "        index = find_peaks(sm_i2)[0]\n",
    "        if len(index) > 0:\n",
    "            peak_indices = index[-1]\n",
    "            peaks_v.append(v2[peak_indices])\n",
    "            peaks_i.append(i2[peak_indices])\n",
    "        \n",
    "        plotting.plot_voltammogram(t2,sm_i2,v2, peaks = [[peaks_i, peaks_v]]).display()\n",
    "        \n",
    "    n+=1\n"
   ]
  },
  {
   "cell_type": "code",
   "execution_count": 98,
   "metadata": {},
   "outputs": [
    {
     "data": {
      "text/plain": [
       "0"
      ]
     },
     "execution_count": 98,
     "metadata": {},
     "output_type": "execute_result"
    }
   ],
   "source": [
    "len(find_peaks(sm_i2)[0])"
   ]
  },
  {
   "cell_type": "code",
   "execution_count": 76,
   "metadata": {},
   "outputs": [
    {
     "data": {
      "text/plain": [
       "(array([], dtype=int64), {})"
      ]
     },
     "execution_count": 76,
     "metadata": {},
     "output_type": "execute_result"
    }
   ],
   "source": [
    "find_peaks(sm_i2)"
   ]
  },
  {
   "cell_type": "code",
   "execution_count": 79,
   "metadata": {},
   "outputs": [
    {
     "data": {
      "text/plain": [
       "array([2.80130268e-04, 2.76524868e-04, 2.72500380e-04, 2.68107528e-04,\n",
       "       2.63406512e-04, 2.58474092e-04, 2.53397045e-04, 2.48332045e-04,\n",
       "       2.43402343e-04, 2.38656066e-04, 2.34207876e-04, 2.30200611e-04,\n",
       "       2.26675497e-04, 2.23110954e-04, 2.19509160e-04, 2.15829856e-04,\n",
       "       2.12106758e-04, 2.08260924e-04, 2.04414979e-04, 2.00529477e-04,\n",
       "       1.96598379e-04, 1.92709442e-04, 1.88822239e-04, 1.84966280e-04,\n",
       "       1.81141086e-04, 1.77377517e-04, 1.73634010e-04, 1.69934827e-04,\n",
       "       1.66172795e-04, 1.62395649e-04, 1.58422868e-04, 1.54176983e-04,\n",
       "       1.49587883e-04, 1.44584464e-04, 1.39017506e-04, 1.33008396e-04,\n",
       "       1.26362013e-04, 1.19234391e-04, 1.11659657e-04, 1.03704365e-04,\n",
       "       9.54768361e-05, 8.71680174e-05, 7.88116583e-05, 7.06640375e-05,\n",
       "       6.27948565e-05, 5.53431729e-05, 4.84303483e-05, 4.21355401e-05,\n",
       "       3.64849783e-05, 3.15280367e-05, 2.72214998e-05, 2.36092112e-05,\n",
       "       2.05758911e-05, 1.81077379e-05, 1.60925853e-05, 1.44503199e-05,\n",
       "       1.30709680e-05, 1.19774001e-05, 1.10641779e-05, 1.03369502e-05,\n",
       "       9.69485990e-06, 9.11852763e-06, 8.63219662e-06, 8.22283722e-06,\n",
       "       7.77516806e-06, 7.36730979e-06, 6.97762625e-06, 6.61954981e-06,\n",
       "       6.26955360e-06, 5.92163070e-06, 5.59643673e-06, 5.28677271e-06,\n",
       "       4.99238851e-06, 4.70861183e-06, 4.44344871e-06, 4.19789296e-06,\n",
       "       3.99218588e-06, 3.80531553e-06, 3.62893293e-06, 3.48746322e-06,\n",
       "       3.36016698e-06, 3.23674327e-06, 3.11008014e-06, 3.00697154e-06,\n",
       "       2.90921920e-06, 2.78936578e-06, 2.65219892e-06, 2.51899307e-06,\n",
       "       2.40623075e-06, 2.30121779e-06, 2.18146712e-06, 2.04964653e-06,\n",
       "       1.91146907e-06, 1.76652699e-06, 1.61549595e-06, 1.46776584e-06,\n",
       "       1.32203168e-06, 1.18942930e-06, 1.07581168e-06, 9.72474381e-07,\n",
       "       8.79077948e-07])"
      ]
     },
     "execution_count": 79,
     "metadata": {},
     "output_type": "execute_result"
    }
   ],
   "source": [
    "sm_i2"
   ]
  },
  {
   "cell_type": "code",
   "execution_count": 84,
   "metadata": {},
   "outputs": [
    {
     "data": {
      "text/plain": [
       "(array([], dtype=int64), {})"
      ]
     },
     "execution_count": 84,
     "metadata": {},
     "output_type": "execute_result"
    }
   ],
   "source": [
    "find_peaks(sm_i2)"
   ]
  },
  {
   "cell_type": "code",
   "execution_count": null,
   "metadata": {},
   "outputs": [],
   "source": []
  }
 ],
 "metadata": {
  "kernelspec": {
   "display_name": "Python 3",
   "language": "python",
   "name": "python3"
  },
  "language_info": {
   "codemirror_mode": {
    "name": "ipython",
    "version": 3
   },
   "file_extension": ".py",
   "mimetype": "text/x-python",
   "name": "python",
   "nbconvert_exporter": "python",
   "pygments_lexer": "ipython3",
   "version": "3.7.3"
  }
 },
 "nbformat": 4,
 "nbformat_minor": 4
}
