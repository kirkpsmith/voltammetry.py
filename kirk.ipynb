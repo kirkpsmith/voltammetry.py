{
 "cells": [
  {
   "cell_type": "code",
   "execution_count": 1,
   "metadata": {},
   "outputs": [],
   "source": [
    "from voltammetry import preprocessing\n",
    "import os"
   ]
  },
  {
   "cell_type": "code",
   "execution_count": 7,
   "metadata": {},
   "outputs": [
    {
     "name": "stdout",
     "output_type": "stream",
     "text": [
      "a\n",
      "[65, 3669] [3665, 7268]\n"
     ]
    }
   ],
   "source": [
    "a = preprocessing.readFile('data/20MM_2,7-AQDS_1M_H2SO4_50mVs_0.5step.DTA.txt',type='gamry',scan='last')"
   ]
  },
  {
   "cell_type": "code",
   "execution_count": 9,
   "metadata": {},
   "outputs": [
    {
     "data": {
      "text/plain": [
       "[array([2.000e-02, 3.000e-02, 4.000e-02, ..., 3.599e+01, 3.600e+01,\n",
       "        3.601e+01]),\n",
       " array([-9.97185e-05, -9.95685e-05, -9.97018e-05, ..., -1.13902e-04,\n",
       "        -1.13819e-04, -1.13602e-04]),\n",
       " array([-0.499592, -0.499062, -0.498469, ..., -0.49903 , -0.499529,\n",
       "        -0.50002 ])]"
      ]
     },
     "execution_count": 9,
     "metadata": {},
     "output_type": "execute_result"
    }
   ],
   "source": [
    "a"
   ]
  },
  {
   "cell_type": "code",
   "execution_count": null,
   "metadata": {},
   "outputs": [],
   "source": [
    "a = 'blah'"
   ]
  },
  {
   "cell_type": "code",
   "execution_count": null,
   "metadata": {},
   "outputs": [],
   "source": [
    "'blah'.equals(a)"
   ]
  },
  {
   "cell_type": "code",
   "execution_count": null,
   "metadata": {},
   "outputs": [],
   "source": []
  }
 ],
 "metadata": {
  "kernelspec": {
   "display_name": "Python 3",
   "language": "python",
   "name": "python3"
  },
  "language_info": {
   "codemirror_mode": {
    "name": "ipython",
    "version": 3
   },
   "file_extension": ".py",
   "mimetype": "text/x-python",
   "name": "python",
   "nbconvert_exporter": "python",
   "pygments_lexer": "ipython3",
   "version": "3.7.3"
  }
 },
 "nbformat": 4,
 "nbformat_minor": 4
}
