{
 "cells": [
  {
   "cell_type": "code",
   "execution_count": 24,
   "metadata": {},
   "outputs": [
    {
     "name": "stdout",
     "output_type": "stream",
     "text": [
      "20.0 -1111.4254944808422\n"
     ]
    }
   ],
   "source": [
    "import numpy as np\n",
    "import matplotlib.pyplot as plt\n",
    "#Specify simulation parameters\n",
    "theta_i = 20.0\n",
    "theta_v = -20.0\n",
    "sigma = 100.0\n",
    "deltaX = 2.0e-4\n",
    "deltaTheta = 0.02\n",
    "#Calculate other parameters\n",
    "deltaT = deltaTheta / sigma\n",
    "    \n",
    "maxT = 2 * np.abs(theta_v - theta_i) / sigma\n",
    "maxX = 6*np.sqrt(maxT)\n",
    "n = int( maxX / deltaX ) # number of spacesteps\n",
    "m = int( maxT / deltaT ) # number of timesteps\n",
    "# Calculate Thomas coefficients\n",
    "wambda = deltaT / (deltaX*deltaX)\n",
    "alpha = -wambda\n",
    "beta = 2.0*wambda + 1.0\n",
    "gamma = -wambda\n",
    "# Create containers\n",
    "g_mod = []\n",
    "C = []# concentration profile\n",
    "#Modify gamma coefficients \n",
    "g_mod.append(0)# boundary condition\n",
    "for i in range(1,n):\n",
    "    g_mod.append(gamma / (beta - g_mod[i-1] * alpha))\n",
    "    i+=1\n",
    "# Open file to output CV std::ofstream CV(\"CV_Output.txt\");\n",
    "\n",
    "# BEGIN SIMULATION\n",
    "Theta = theta_i\n",
    "\n",
    "Thetas = []\n",
    "fluxes - []\n",
    "for k in range(m) :\n",
    "    if( k < m / 2 ):\n",
    "        Theta -= deltaTheta\n",
    "    else:\n",
    "        Theta += deltaTheta\n",
    "    k+=1\n",
    "    # Forward sweep - create modified deltas\n",
    "    C.append(1.0 / (1.0 + np.exp(-Theta)))\n",
    "\n",
    "    for i in range(n):\n",
    "        C.append(( C[i] - C[i-1]*alpha ) / ( beta - g_mod[i-1] * alpha ))\n",
    "        i+=1\n",
    "\n",
    "    # Back Substitution\n",
    "    C[n-1] = 1.0\n",
    "\n",
    "    for i in range(n-2,0):\n",
    "    \n",
    "        C[i] = C[i] - g_mod[i] * C[i+1]\n",
    "        i-=1\n",
    "    \n",
    "        #Output current\n",
    "        flux = -(-C[2] + 4*C[1] -3*C[0]) / (2*deltaX) \n",
    "\n",
    "\n",
    "# END SIMULATION\n",
    "plt.()"
   ]
  },
  {
   "cell_type": "code",
   "execution_count": 25,
   "metadata": {},
   "outputs": [
    {
     "data": {
      "text/plain": [
       "26832"
      ]
     },
     "execution_count": 25,
     "metadata": {},
     "output_type": "execute_result"
    }
   ],
   "source": [
    "n"
   ]
  },
  {
   "cell_type": "code",
   "execution_count": null,
   "metadata": {},
   "outputs": [],
   "source": []
  }
 ],
 "metadata": {
  "kernelspec": {
   "display_name": "Python 3",
   "language": "python",
   "name": "python3"
  },
  "language_info": {
   "codemirror_mode": {
    "name": "ipython",
    "version": 3
   },
   "file_extension": ".py",
   "mimetype": "text/x-python",
   "name": "python",
   "nbconvert_exporter": "python",
   "pygments_lexer": "ipython3",
   "version": "3.7.3"
  }
 },
 "nbformat": 4,
 "nbformat_minor": 4
}
