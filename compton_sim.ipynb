{
 "cells": [
  {
   "cell_type": "markdown",
   "metadata": {},
   "source": [
    "From Compton et al. \"Understanding voltammetry: simulation of electrode processes\", 2014"
   ]
  },
  {
   "cell_type": "code",
   "execution_count": 4,
   "metadata": {},
   "outputs": [
    {
     "data": {
      "text/plain": [
       "[<matplotlib.lines.Line2D at 0x116922ac8>]"
      ]
     },
     "execution_count": 4,
     "metadata": {},
     "output_type": "execute_result"
    },
    {
     "data": {
      "image/png": "[encoded data removed]",
      "text/plain": [
       "<Figure size 432x288 with 1 Axes>"
      ]
     },
     "metadata": {
      "needs_background": "light"
     },
     "output_type": "display_data"
    }
   ],
   "source": [
    "import numpy as np\n",
    "import matplotlib.pyplot as plt\n",
    "%matplotlib inline\n",
    "\n",
    "def sim(sigma):\n",
    "\n",
    "    #Specify simulation parameters\n",
    "    theta_i = 10.0\n",
    "    theta_v = -10.0\n",
    "    deltaX = 2e-3\n",
    "    deltaTheta = 0.02\n",
    "\n",
    "    #Calculate other parameters\n",
    "    deltaT = deltaTheta / sigma\n",
    "    maxT = 2 * np.abs(theta_v - theta_i) / sigma\n",
    "    maxX = 6*np.sqrt(maxT)\n",
    "    n = int( maxX / deltaX ) # number of spacesteps\n",
    "    m = int( maxT / deltaT ) # number of timesteps\n",
    "\n",
    "    # Calculate Thomas coefficients\n",
    "    wambda = deltaT / (deltaX**2)\n",
    "    alpha = -wambda\n",
    "    beta = 2.0*wambda + 1.0\n",
    "    gamma = -wambda\n",
    "\n",
    "    # Create containers\n",
    "    g_mod = np.zeros(n)\n",
    "    C = np.zeros(n)# concentration profile\n",
    "    Thetas = np.zeros(m)\n",
    "    fluxes = np.zeros(m)\n",
    "\n",
    "    #Modify gamma coefficients \n",
    "    g_mod[0] = 0 # boundary condition\n",
    "    for i in range(1,n):\n",
    "        g_mod[i] = gamma / (beta - g_mod[i-1] * alpha)\n",
    "        i+=1\n",
    "\n",
    "    # BEGIN SIMULATION\n",
    "    Theta = theta_i\n",
    "\n",
    "    for k in range(m*2) :\n",
    "        if( k%m < m / 2 ):\n",
    "            Theta -= deltaTheta\n",
    "        else:\n",
    "            Theta += deltaTheta\n",
    "\n",
    "        # Forward sweep - create modified deltas\n",
    "        C[0] = (1.0 / (1.0 + np.exp(-Theta)))\n",
    "\n",
    "        for i in range(1,n-1):\n",
    "            C[i] = (( C[i] - C[i-1] * alpha ) / ( beta - g_mod[i-1] * alpha ))\n",
    "            i+=1\n",
    "\n",
    "        # Back Substitution\n",
    "        C[n-1] = 1.0\n",
    "\n",
    "        for i in np.arange(n-2,-1,-1):\n",
    "\n",
    "            C[i] = C[i] - g_mod[i] * C[i+1]\n",
    "            i-=1\n",
    "\n",
    "        #Output current\n",
    "        flux = -(-C[2] + 4*C[1] -3*C[0]) / (2*deltaX) \n",
    "\n",
    "        if(k>=m):\n",
    "            fluxes[k%m] = flux\n",
    "            Thetas[k%m] = Theta\n",
    "\n",
    "        k+=1\n",
    "\n",
    "    return Thetas, fluxes\n",
    "    # END SIMULATION\n",
    "Thetas, Fluxes = sim(10)\n",
    "plt.plot(Thetas, Fluxes)\n",
    "Thetas, Fluxes = sim(100)\n",
    "plt.plot(Thetas, Fluxes)\n",
    "Thetas, Fluxes = sim(1000)\n",
    "plt.plot(Thetas, Fluxes)"
   ]
  },
  {
   "cell_type": "code",
   "execution_count": null,
   "metadata": {},
   "outputs": [],
   "source": []
  },
  {
   "cell_type": "code",
   "execution_count": null,
   "metadata": {},
   "outputs": [],
   "source": []
  }
 ],
 "metadata": {
  "kernelspec": {
   "display_name": "Python 3",
   "language": "python",
   "name": "python3"
  },
  "language_info": {
   "codemirror_mode": {
    "name": "ipython",
    "version": 3
   },
   "file_extension": ".py",
   "mimetype": "text/x-python",
   "name": "python",
   "nbconvert_exporter": "python",
   "pygments_lexer": "ipython3",
   "version": "3.7.3"
  }
 },
 "nbformat": 4,
 "nbformat_minor": 4
}
