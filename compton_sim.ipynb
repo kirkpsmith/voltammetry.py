{
 "cells": [
  {
   "cell_type": "markdown",
   "metadata": {},
   "source": [
    "# Voltammetry Simulations\n",
    "From Compton *et al.* \"Understanding voltammetry: simulation of electrode processes\", 2014\n",
    "\n",
    "## Cyclic Voltammogram (reversible)"
   ]
  },
  {
   "cell_type": "code",
   "execution_count": 29,
   "metadata": {},
   "outputs": [
    {
     "name": "stderr",
     "output_type": "stream",
     "text": [
      "100%|██████████| 4000/4000 [00:10<00:00, 372.82it/s]\n"
     ]
    },
    {
     "data": {
      "application/vnd.jupyter.widget-view+json": {
       "model_id": "8aa5982b21844a83bfcf895ab2bf452f",
       "version_major": 2,
       "version_minor": 0
      },
      "text/plain": [
       "FigureCanvasNbAgg()"
      ]
     },
     "metadata": {},
     "output_type": "display_data"
    },
    {
     "name": "stderr",
     "output_type": "stream",
     "text": [
      "100%|██████████| 3998/3998 [00:03<00:00, 1181.50it/s]\n",
      "100%|██████████| 4000/4000 [00:01<00:00, 3774.15it/s]\n"
     ]
    },
    {
     "data": {
      "text/plain": [
       "[<matplotlib.lines.Line2D at 0x11ff10240>]"
      ]
     },
     "execution_count": 29,
     "metadata": {},
     "output_type": "execute_result"
    }
   ],
   "source": [
    "import numpy as np\n",
    "import matplotlib.pyplot as plt\n",
    "\n",
    "from tqdm import tqdm\n",
    "\n",
    "%matplotlib widget\n",
    "def cv_rev(sigma):\n",
    "\n",
    "    #Specify simulation parameters\n",
    "    theta_i = 10.0\n",
    "    theta_v = -10.0\n",
    "    deltaX = 2e-3\n",
    "    deltaTheta = 0.02\n",
    "\n",
    "    #Calculate other parameters\n",
    "    deltaT = deltaTheta / sigma\n",
    "    maxT = 2 * np.abs(theta_v - theta_i) / sigma\n",
    "    maxX = 6*np.sqrt(maxT)\n",
    "    n = int( maxX / deltaX ) # number of spacesteps\n",
    "    m = int( maxT / deltaT ) # number of timesteps\n",
    "\n",
    "    # Calculate Thomas coefficients\n",
    "    wambda = deltaT / (deltaX**2)\n",
    "    alpha = -wambda\n",
    "    beta = 2.0*wambda + 1.0\n",
    "    gamma = -wambda\n",
    "\n",
    "    # Create containers\n",
    "    g_mod = np.zeros(n)\n",
    "    C = np.zeros(n)# concentration profile\n",
    "    Thetas = np.zeros(m)\n",
    "    fluxes = np.zeros(m)\n",
    "\n",
    "    #Modify gamma coefficients \n",
    "    g_mod[0] = 0 # boundary condition\n",
    "    for i in range(1,n):\n",
    "        g_mod[i] = gamma / (beta - g_mod[i-1] * alpha)\n",
    "        i+=1\n",
    "\n",
    "    # BEGIN SIMULATION\n",
    "    Theta = theta_i\n",
    "\n",
    "    for k in tqdm(range(m*2)):\n",
    "        if( k%m < m / 2 ):\n",
    "            Theta -= deltaTheta\n",
    "        else:\n",
    "            Theta += deltaTheta\n",
    "\n",
    "        # Forward sweep - create modified deltas\n",
    "        C[0] = (1.0 / (1.0 + np.exp(-Theta)))\n",
    "\n",
    "        for i in range(1,n-1):\n",
    "            C[i] = (( C[i] - C[i-1] * alpha ) / ( beta - g_mod[i-1] * alpha ))\n",
    "            i+=1\n",
    "\n",
    "        # Back Substitution\n",
    "        C[n-1] = 1.0\n",
    "\n",
    "        for i in np.arange(n-2,-1,-1):\n",
    "\n",
    "            C[i] = C[i] - g_mod[i] * C[i+1]\n",
    "            i-=1\n",
    "\n",
    "        #Output current\n",
    "        flux = -(-C[2] + 4*C[1] -3*C[0]) / (2*deltaX) \n",
    "\n",
    "        if(k>=m):\n",
    "            fluxes[k%m] = flux\n",
    "            Thetas[k%m] = Theta\n",
    "\n",
    "        k+=1\n",
    "\n",
    "    return Thetas, fluxes\n",
    "    # END SIMULATION\n",
    "Thetas, Fluxes = cv_rev(100)\n",
    "plt.plot(Thetas, Fluxes)\n",
    "Thetas, Fluxes = cv_rev(1000)\n",
    "plt.plot(Thetas, Fluxes)\n",
    "Thetas, Fluxes = cv_rev(10000)\n",
    "plt.plot(Thetas, Fluxes)"
   ]
  },
  {
   "cell_type": "markdown",
   "metadata": {},
   "source": [
    "## Cyclic Voltammogram (irreversible)"
   ]
  },
  {
   "cell_type": "code",
   "execution_count": 28,
   "metadata": {},
   "outputs": [
    {
     "ename": "NameError",
     "evalue": "name 'sim' is not defined",
     "output_type": "error",
     "traceback": [
      "\u001b[0;31m---------------------------------------------------------------------------\u001b[0m",
      "\u001b[0;31mNameError\u001b[0m                                 Traceback (most recent call last)",
      "\u001b[0;32m<ipython-input-28-acfca6ba7e5b>\u001b[0m in \u001b[0;36m<module>\u001b[0;34m\u001b[0m\n\u001b[1;32m     93\u001b[0m     \u001b[0;32mreturn\u001b[0m \u001b[0mThetas\u001b[0m\u001b[0;34m,\u001b[0m \u001b[0mfluxes\u001b[0m\u001b[0;34m\u001b[0m\u001b[0;34m\u001b[0m\u001b[0m\n\u001b[1;32m     94\u001b[0m     \u001b[0;31m# END SIMULATION\u001b[0m\u001b[0;34m\u001b[0m\u001b[0;34m\u001b[0m\u001b[0;34m\u001b[0m\u001b[0m\n\u001b[0;32m---> 95\u001b[0;31m \u001b[0mThetas\u001b[0m\u001b[0;34m,\u001b[0m \u001b[0mFluxes\u001b[0m \u001b[0;34m=\u001b[0m \u001b[0msim\u001b[0m\u001b[0;34m(\u001b[0m\u001b[0;36m10\u001b[0m\u001b[0;34m)\u001b[0m\u001b[0;34m\u001b[0m\u001b[0;34m\u001b[0m\u001b[0m\n\u001b[0m\u001b[1;32m     96\u001b[0m \u001b[0mplt\u001b[0m\u001b[0;34m.\u001b[0m\u001b[0mplot\u001b[0m\u001b[0;34m(\u001b[0m\u001b[0mThetas\u001b[0m\u001b[0;34m,\u001b[0m \u001b[0mFluxes\u001b[0m\u001b[0;34m)\u001b[0m\u001b[0;34m\u001b[0m\u001b[0;34m\u001b[0m\u001b[0m\n\u001b[1;32m     97\u001b[0m \u001b[0mThetas\u001b[0m\u001b[0;34m,\u001b[0m \u001b[0mFluxes\u001b[0m \u001b[0;34m=\u001b[0m \u001b[0msim\u001b[0m\u001b[0;34m(\u001b[0m\u001b[0;36m100\u001b[0m\u001b[0;34m)\u001b[0m\u001b[0;34m\u001b[0m\u001b[0;34m\u001b[0m\u001b[0m\n",
      "\u001b[0;31mNameError\u001b[0m: name 'sim' is not defined"
     ]
    }
   ],
   "source": [
    "def cv_irrev(K_0):\n",
    "\n",
    "\n",
    "    \n",
    "    #Specify simulation parameters\n",
    "    theta_i = 10.0\n",
    "    theta_v = -10.0\n",
    "    sigma = 10e3\n",
    "    deltaX = 2e-3\n",
    "    deltaTheta = 0.02\n",
    "    alpha_BV = 0.5\n",
    "    \n",
    "    C_Abulk = 0.5\n",
    "    C_Bbulk = 1 - C_Abulk\n",
    "    \n",
    "    h = deltaX\n",
    "    \n",
    "    def f_BV(Theta):\n",
    "        return np.exp(-alpha_BV*Theta)\n",
    "    \n",
    "    #Calculate other parameters\n",
    "    deltaT = deltaTheta / sigma\n",
    "    maxT = 2 * np.abs(theta_v - theta_i) / sigma\n",
    "    maxX = 6*np.sqrt(maxT)\n",
    "    n = int( maxX / deltaX ) # number of spacesteps\n",
    "    m = int( maxT / deltaT ) # number of timesteps\n",
    "\n",
    "    # Calculate Thomas coefficients\n",
    "    alpha = 0\n",
    "    beta = 1 + h*f_BV(theta_i)*K_0*(1+np.exp(theta_i))\n",
    "    gamma = -1\n",
    "    delta = h*f_BV(theta_i)*K_0*np.exp(theta_i)\n",
    "\n",
    "    # Create containers\n",
    "    b_mod = np.zeros(n)\n",
    "    d_mod = np.zeros(n)\n",
    "    g_mod = np.zeros(n)\n",
    "\n",
    "    C_A = np.zeros(n)# concentration profile of A\n",
    "    C_B = np.zeros(n)# concentration profile of A    \n",
    "    Thetas = np.zeros(m)\n",
    "    fluxes = np.zeros(m)\n",
    "\n",
    "    #Modify beta, delta coefficients \n",
    "    b_mod[0] = beta # boundary condition?\n",
    "    d_mod[0] = delta # boundary condition?\n",
    "\n",
    "\n",
    "\n",
    "    # BEGIN SIMULATION\n",
    "    Theta = theta_i\n",
    "\n",
    "    for k in tqdm(range(m*2)) :\n",
    "        if( k%m < m / 2 ):\n",
    "            Theta -= deltaTheta\n",
    "        else:\n",
    "            Theta += deltaTheta\n",
    "        \n",
    "        g_mod[0] = 0 # boundary condition\n",
    "   \n",
    "        for i in range(1,n):\n",
    "            g_mod[i] = gamma / (beta - g_mod[i-1] * alpha)\n",
    "            i+=1\n",
    "\n",
    "        # Forward sweep - create modified deltas\n",
    "        C_A[0] = (1.0 / (1.0 + np.exp(-Theta)))\n",
    "\n",
    "        for i in range(1,n-1):\n",
    "            beta = 1 + h*f_BV(Theta)*K_0*(1+np.exp(Theta))\n",
    "            delta = h*f_BV(Theta)*K_0*np.exp(Theta)\n",
    "            C_A[i] = C_A[i-1] * beta - delta * C_Bbulk\n",
    "            C_B[i] = 1 + C_Bbulk - C_A[i]\n",
    "            i+=1\n",
    "\n",
    "        # Back Substitution\n",
    "        C_A[n-1] = C_Abulk\n",
    "        C_B[n-1] = 1 + C_Bbulk - C_A[n-1]\n",
    "\n",
    "        for i in np.arange(n-2,-1,-1):\n",
    "\n",
    "            C_A[i] = C_A[i] - g_mod[i] * C_A[i+1]\n",
    "            i-=1\n",
    "\n",
    "        #Output current\n",
    "        flux = (C_A[1] - C_A[0]) / h \n",
    "\n",
    "        if(k>=m):\n",
    "            fluxes[k%m] = flux\n",
    "            Thetas[k%m] = Theta\n",
    "\n",
    "        k+=1\n",
    "\n",
    "    return Thetas, fluxes\n",
    "    # END SIMULATION\n",
    "    \n",
    "# Thetas, Fluxes = sim(10)\n",
    "# plt.plot(Thetas, Fluxes)\n",
    "# Thetas, Fluxes = sim(100)\n",
    "# plt.plot(Thetas, Fluxes)\n",
    "Thetas, Fluxes = cv_irrev(.1)\n",
    "plt.plot(Thetas, Fluxes)"
   ]
  }
 ],
 "metadata": {
  "kernelspec": {
   "display_name": "Python 3",
   "language": "python",
   "name": "python3"
  },
  "language_info": {
   "codemirror_mode": {
    "name": "ipython",
    "version": 3
   },
   "file_extension": ".py",
   "mimetype": "text/x-python",
   "name": "python",
   "nbconvert_exporter": "python",
   "pygments_lexer": "ipython3",
   "version": "3.7.3"
  }
 },
 "nbformat": 4,
 "nbformat_minor": 4
}
